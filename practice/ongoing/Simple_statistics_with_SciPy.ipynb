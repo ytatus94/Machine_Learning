{
 "cells": [
  {
   "cell_type": "markdown",
   "metadata": {
    "colab_type": "text",
    "id": "qdB2AU9_353L"
   },
   "source": [
    "# Simple statistics with SciPy"
   ]
  },
  {
   "cell_type": "markdown",
   "metadata": {
    "colab_type": "text",
    "id": "UlN77vAe350w"
   },
   "source": [
    "* Scipy 是基於 Numpy 的，而且是使用 Numpy arrays 和 data types 來運算\n",
    "* Scipy 把 Numpy package 中所有的函數和一些 sub-packages 中的函數都 import 進去了\n",
    "* Scipy 可以用 info 函數來查詢 Scipy 中的函數，`scipy.info(scipy.stats)`"
   ]
  },
  {
   "cell_type": "code",
   "execution_count": 0,
   "metadata": {
    "colab": {},
    "colab_type": "code",
    "id": "DPcy22JA330f"
   },
   "outputs": [],
   "source": [
    "import scipy as sp\n",
    "import numpy as np\n",
    "\n",
    "import matplotlib as mpl\n",
    "from matplotlib import pyplot as plt"
   ]
  },
  {
   "cell_type": "markdown",
   "metadata": {
    "colab_type": "text",
    "id": "scauX80Z4ElN"
   },
   "source": [
    "### 1. Descriptive statistics"
   ]
  },
  {
   "cell_type": "code",
   "execution_count": 51,
   "metadata": {
    "colab": {
     "base_uri": "https://localhost:8080/",
     "height": 323
    },
    "colab_type": "code",
    "id": "kAulmSvd4DUP",
    "outputId": "9a3d8c99-ea40-4c92-da23-f1e5fd195196"
   },
   "outputs": [
    {
     "name": "stdout",
     "output_type": "stream",
     "text": [
      "[ 0.52938103 -0.09459377  1.84488559  0.06911031 -0.34778344 -0.43147437\n",
      " -0.04641512  0.41539527  1.8804729   1.27142586  0.11699047  2.86744489\n",
      " -0.4492868  -0.42610017  1.26599673  0.83965535  0.02713078 -0.67304208\n",
      "  0.76479593  0.29008339  1.83964519 -0.12727986  1.10304308 -0.31192835\n",
      " -0.37069099 -1.63392366 -0.35386133 -0.76992337 -0.8035798  -0.94719658\n",
      "  1.04295013  0.32141104 -0.32043088  0.29476745  0.7866804  -0.13119471\n",
      " -0.30067816 -1.20182009  0.66957875  1.63513621  0.97712679 -0.43354064\n",
      " -0.05468621 -2.44221623 -0.47959051  1.81250179 -0.84708588 -0.50098096\n",
      " -0.14864684  1.09428145 -0.52627943 -1.91231827  0.97095346 -0.34250696\n",
      "  1.39112973 -0.98878726 -0.73151105 -0.44014699  1.50875104 -0.27185587\n",
      " -1.28834341  0.83600586  0.03323268  0.81440392  0.64213786  1.20641108\n",
      "  1.0675513   0.32768671 -0.52069361 -0.91351735  0.82813072  1.30984322\n",
      "  0.49179892  0.51416015  1.50479844  0.67169395 -2.0653649  -0.37902653\n",
      " -2.41286409  0.4341435   0.59131832  0.00385816  0.21871464  0.81859041\n",
      "  0.11229373 -1.49600957  0.66955165 -1.80664491  1.69102119 -1.20035046\n",
      " -0.77874767  0.42601247  0.03385864  1.99113827 -0.35974812 -1.33414767\n",
      "  0.33832351  0.2942547   0.40641072 -1.00639058]\n",
      "100\n"
     ]
    }
   ],
   "source": [
    "# 依照 Gaussian 分佈產生 100 個隨機數\n",
    "s = sp.randn(100) # 等同於 np.random.rand()\n",
    "print(s)\n",
    "print(len(s))"
   ]
  },
  {
   "cell_type": "code",
   "execution_count": 52,
   "metadata": {
    "colab": {
     "base_uri": "https://localhost:8080/",
     "height": 51
    },
    "colab_type": "code",
    "id": "28mDc18P5Jgl",
    "outputId": "98444b95-9a8f-40a6-dcf5-07b1225ed913"
   },
   "outputs": [
    {
     "name": "stdout",
     "output_type": "stream",
     "text": [
      "Mean: 0.104849\n",
      "Mean: 0.104849\n"
     ]
    }
   ],
   "source": [
    "# statistics\n",
    "print('Mean: {0:8.6f}'.format(s.mean())) # 也可以用 sp.mean(s) 的方式\n",
    "print('Mean: {0:8.6f}'.format(sp.mean(s)))"
   ]
  },
  {
   "cell_type": "code",
   "execution_count": 53,
   "metadata": {
    "colab": {
     "base_uri": "https://localhost:8080/",
     "height": 51
    },
    "colab_type": "code",
    "id": "Zb8EfG_x5JWf",
    "outputId": "bd6c8eaf-655a-4c07-9af4-d697e66e9ece"
   },
   "outputs": [
    {
     "name": "stdout",
     "output_type": "stream",
     "text": [
      "Min: -2.442216\n",
      "Max: 2.867445\n"
     ]
    }
   ],
   "source": [
    "print('Min: {0:8.6f}'.format(s.min()))\n",
    "print('Max: {0:8.6f}'.format(s.max()))"
   ]
  },
  {
   "cell_type": "code",
   "execution_count": 54,
   "metadata": {
    "colab": {
     "base_uri": "https://localhost:8080/",
     "height": 51
    },
    "colab_type": "code",
    "id": "ZqIEI_-y4HVL",
    "outputId": "96f8802c-3989-4638-ce28-507ab0ad800a"
   },
   "outputs": [
    {
     "name": "stdout",
     "output_type": "stream",
     "text": [
      "Variance: 1.031978\n",
      "Variance: 1.031978\n"
     ]
    }
   ],
   "source": [
    "print('Variance: {0:8.6f}'.format(s.var())) # 也可以用 sp.var(s) 的方式\n",
    "print('Variance: {0:8.6f}'.format(sp.var(s)))"
   ]
  },
  {
   "cell_type": "markdown",
   "metadata": {
    "colab_type": "text",
    "id": "jLWF08SC46f1"
   },
   "source": [
    "* 計算 variance 時分母是使用母體的數目 N \n",
    "* `scipy.var(s, ddof=1)` 用 `ddof` 參數使分母變成樣本數目 `N - ddof`，預設 `ddof=0`"
   ]
  },
  {
   "cell_type": "code",
   "execution_count": 55,
   "metadata": {
    "colab": {
     "base_uri": "https://localhost:8080/",
     "height": 51
    },
    "colab_type": "code",
    "id": "hVq3cFWb5O3x",
    "outputId": "80115208-b4b7-4a1b-fa58-a08ab3a4ab11"
   },
   "outputs": [
    {
     "name": "stdout",
     "output_type": "stream",
     "text": [
      "Variance with N in denominator = 1.031978\n",
      "Variance with N - 1 in demoninator = 1.042402\n"
     ]
    }
   ],
   "source": [
    "print('Variance with N in denominator = {0:8.6f}'.format(sp.var(s)))\n",
    "print('Variance with N - 1 in demoninator = {0:8.6f}'.format(sp.var(s, ddof=1)))"
   ]
  },
  {
   "cell_type": "code",
   "execution_count": 56,
   "metadata": {
    "colab": {
     "base_uri": "https://localhost:8080/",
     "height": 51
    },
    "colab_type": "code",
    "id": "Yh5baUs65Oxo",
    "outputId": "2458960e-a7fe-49ec-f56c-5341d61d8296"
   },
   "outputs": [
    {
     "name": "stdout",
     "output_type": "stream",
     "text": [
      "Std. deviation: 1.015863\n",
      "Std. deviation: 1.015863\n"
     ]
    }
   ],
   "source": [
    "print('Std. deviation: {0:8.6f}'.format(s.std())) # 也可以用 sp.std(s) 的方式\n",
    "print('Std. deviation: {0:8.6f}'.format(sp.std(s)))"
   ]
  },
  {
   "cell_type": "code",
   "execution_count": 57,
   "metadata": {
    "colab": {
     "base_uri": "https://localhost:8080/",
     "height": 34
    },
    "colab_type": "code",
    "id": "gIZWRcix5Oqb",
    "outputId": "cf5ee9b9-8a83-4d33-9ef8-a2cb52a5df83"
   },
   "outputs": [
    {
     "name": "stdout",
     "output_type": "stream",
     "text": [
      "Median: 0.051484\n"
     ]
    }
   ],
   "source": [
    "print('Median: {0:8.6f}'.format(sp.median(s)))"
   ]
  },
  {
   "cell_type": "code",
   "execution_count": 58,
   "metadata": {
    "colab": {
     "base_uri": "https://localhost:8080/",
     "height": 119
    },
    "colab_type": "code",
    "id": "7v-qaIVI5FNE",
    "outputId": "afc94557-eb9a-4950-b2cb-87f597e569d7"
   },
   "outputs": [
    {
     "name": "stdout",
     "output_type": "stream",
     "text": [
      "Number of elements: 100\n",
      "Minimum: -2.442216, Maximum: 2.867445\n",
      "Mean: 0.104849\n",
      "Variance: 1.042402\n",
      "Skew: -0.095043\n",
      "Kurtosis: -0.011009\n"
     ]
    }
   ],
   "source": [
    "# scipy.stat 的 describe() 可以列出統計值\n",
    "from scipy import stats\n",
    "\n",
    "n, min_max, mean, var, skew, kurt = stats.describe(s)\n",
    "print('Number of elements: {0:d}'.format(n))\n",
    "print('Minimum: {0:8.6f}, Maximum: {1:8.6f}'.format(min_max[0], min_max[1]))\n",
    "print('Mean: {0:8.6f}'.format(mean))\n",
    "print('Variance: {0:8.6f}'.format(var)) # 這裡是用 N-1 當分母來算出來的值\n",
    "print('Skew: {0:8.6f}'.format(skew))\n",
    "print('Kurtosis: {0:8.6f}'.format(kurt))"
   ]
  },
  {
   "cell_type": "markdown",
   "metadata": {
    "colab_type": "text",
    "id": "wf17iLaq5dCg"
   },
   "source": [
    "### 2. Probability distributions\n",
    "* 機率分佈函數放在 `scipy.stats` 裡面\n",
    "* scipy 有 81 個連續和 10 個不連續的機率分佈函數，也有許多統計函數\n",
    "* 函數的參數寫在 docstring 裡面方便查詢\n",
    "    * 例如: 可以用 `help(stats.poisson)` 或用 `scipy.info(stats.poisson)` 來查詢\n",
    "    * 在 iPython 中可以用 `stats.poisson?` 來查詢"
   ]
  },
  {
   "cell_type": "code",
   "execution_count": 59,
   "metadata": {
    "colab": {
     "base_uri": "https://localhost:8080/",
     "height": 51
    },
    "colab_type": "code",
    "id": "1Qw_dFrr5bNN",
    "outputId": "90194893-f5e2-4f16-e1d3-e51bf7bbce97"
   },
   "outputs": [
    {
     "name": "stdout",
     "output_type": "stream",
     "text": [
      "0.7691988815867505\n",
      "1.194428715210865\n"
     ]
    }
   ],
   "source": [
    "# 產生一個 mean=3.5, std=2.0 的 Gaussian 分佈物件\n",
    "n = stats.norm(loc=3.5, scale=2.0) # 先定義物件\n",
    "print(n.rvs()) # 再依照剛才定義的高斯分佈產生隨機變數\n",
    "print(stats.norm.rvs(loc=3.5, scale=2.0)) # 直接產生高斯分佈的隨機變數"
   ]
  },
  {
   "cell_type": "markdown",
   "metadata": {
    "colab_type": "text",
    "id": "1X29OFSr7tl3"
   },
   "source": [
    "#### 2.1 PDF & PMF\n",
    "\n",
    "* **pdf**: **probability density function**, 連續\n",
    "* **pmf**: **probability mass function**, 不連續\n",
    "* 例如\n",
    "    * norm, chi2, t, uniform 是連續的機率分佈函數\n",
    "    * binom, poisson 是不連續的機率分佈函數"
   ]
  },
  {
   "cell_type": "code",
   "execution_count": 60,
   "metadata": {
    "colab": {
     "base_uri": "https://localhost:8080/",
     "height": 34
    },
    "colab_type": "code",
    "id": "eJNSHrsr7sNm",
    "outputId": "bae8cf50-498d-46e2-d915-1cd1dbc7c664"
   },
   "outputs": [
    {
     "name": "stdout",
     "output_type": "stream",
     "text": [
      "0.3989422804014327\n"
     ]
    }
   ],
   "source": [
    "# PDf of Gaussian of mean=0.0 and std. deviation=1.0 at 0.\n",
    "print(stats.norm.pdf(0, loc=0.0, scale=1.0)) # 計算 x=0 時 N(0, 1) 是多少"
   ]
  },
  {
   "cell_type": "code",
   "execution_count": 61,
   "metadata": {
    "colab": {
     "base_uri": "https://localhost:8080/",
     "height": 34
    },
    "colab_type": "code",
    "id": "OOKkUAIY7q2q",
    "outputId": "ebd43a4c-2ea7-451f-a86c-21e04faf1e92"
   },
   "outputs": [
    {
     "name": "stdout",
     "output_type": "stream",
     "text": [
      "[0.39695255 0.39894228 0.39695255]\n"
     ]
    }
   ],
   "source": [
    "# 也可以傳入 list 來計算\n",
    "print(stats.norm.pdf([-0.1, 0.0, 0.1], loc=0.0, scale=1.0))"
   ]
  },
  {
   "cell_type": "code",
   "execution_count": 62,
   "metadata": {
    "colab": {
     "base_uri": "https://localhost:8080/",
     "height": 51
    },
    "colab_type": "code",
    "id": "K9bdgnnF7pgD",
    "outputId": "b5453698-c3af-4c89-8795-3c84717b8e13"
   },
   "outputs": [
    {
     "name": "stdout",
     "output_type": "stream",
     "text": [
      "[0.00097656 0.00976563 0.04394531 0.1171875  0.20507813 0.24609375\n",
      " 0.20507813 0.1171875  0.04394531 0.00976563 0.00097656]\n"
     ]
    }
   ],
   "source": [
    "# PMF of binomial distribution with p=0.5, trials n=10\n",
    "tries = range(11) # 0 to 10\n",
    "print(stats.binom.pmf(tries, 10, 0.5)) # 第一個參數就是 N 次試驗中幾次成功"
   ]
  },
  {
   "cell_type": "code",
   "execution_count": 0,
   "metadata": {
    "colab": {},
    "colab_type": "code",
    "id": "n3sHAfEt7nI6"
   },
   "outputs": [],
   "source": [
    "# 畫圖\n",
    "import matplotlib.pyplot as plt\n",
    "def binom_pmf(n=4, p=0.5):\n",
    "    # There are n+1 possible number of 'successes': 0 to n.\n",
    "    x = range(n + 1)\n",
    "    y = stats.binom.pmf(x, n, p)\n",
    "    plt.plot(x, y, 'o', color='black')\n",
    "\n",
    "    # Format x-axis and y-axis\n",
    "    plt.axis([-(max(x) - min(x)) * 0.05, max(x) * 1.05, -0.01, max(y) * 1.10])\n",
    "    plt.xticks(x)\n",
    "    plt.title('Binomial distribution PMF for tries = {0} & p = {1}'.format(n, p))\n",
    "    plt.xlabel('Variate')\n",
    "    plt.ylabel('Probability')\n",
    "\n",
    "    # plt.draw() # 只畫圖，畫完就把圖關掉，視窗會消失\n",
    "    plt.show() # 畫完圖後視窗還在，要自己關掉"
   ]
  },
  {
   "cell_type": "code",
   "execution_count": 64,
   "metadata": {
    "colab": {
     "base_uri": "https://localhost:8080/",
     "height": 295
    },
    "colab_type": "code",
    "id": "gu5-Q9L-7l7W",
    "outputId": "12e55d43-80ea-4c37-bdc8-1c2338a3cca8"
   },
   "outputs": [
    {
     "data": {
      "image/png": "[encoded data removed]",
      "text/plain": [
       "<Figure size 432x288 with 1 Axes>"
      ]
     },
     "metadata": {
      "tags": []
     },
     "output_type": "display_data"
    }
   ],
   "source": [
    "binom_pmf(10, 0.5)"
   ]
  },
  {
   "cell_type": "markdown",
   "metadata": {
    "colab_type": "text",
    "id": "_XXQ0Kdm7ZnL"
   },
   "source": [
    "#### 2.2 CDF\n",
    "\n",
    "* **CDF**: **Cumulative density function**\n",
    "* 變量 x 小於等於某個給定值的機率"
   ]
  },
  {
   "cell_type": "code",
   "execution_count": 65,
   "metadata": {
    "colab": {
     "base_uri": "https://localhost:8080/",
     "height": 34
    },
    "colab_type": "code",
    "id": "dOoyOzXm7aJi",
    "outputId": "58125691-7538-417c-cb25-e78267a5140b"
   },
   "outputs": [
    {
     "name": "stdout",
     "output_type": "stream",
     "text": [
      "0.5\n"
     ]
    }
   ],
   "source": [
    "print(stats.norm.cdf(0.0, loc=0.0, scale=1.0)) # 變量 x 小於等於 0 的機率"
   ]
  },
  {
   "cell_type": "code",
   "execution_count": 0,
   "metadata": {
    "colab": {},
    "colab_type": "code",
    "id": "HfF1VGO37an4"
   },
   "outputs": [],
   "source": [
    "# 畫圖\n",
    "def norm_cdf(mean=0.0, std=1.0):\n",
    "    # 50 numbers between -3 \\sigma and 3 \\sigma\n",
    "    x = sp.linspace(-3 * std, 3 * std, 50)\n",
    "    # CDF at these values\n",
    "    y = stats.norm.cdf(x, loc=mean, scale=std)\n",
    "\n",
    "    plt.plot(x, y, color='black')\n",
    "    plt.xlabel('Variate')\n",
    "    plt.ylabel('Cumulative Probability')\n",
    "    plt.title('CDF for Gaussian of mean = {0} & std. deviation = {1}'.format(mean, std))\n",
    "\n",
    "    # plt.draw()\n",
    "    plt.show()"
   ]
  },
  {
   "cell_type": "code",
   "execution_count": 67,
   "metadata": {
    "colab": {
     "base_uri": "https://localhost:8080/",
     "height": 295
    },
    "colab_type": "code",
    "id": "g8zwG-S27a-z",
    "outputId": "81eb13e4-5917-4636-d17f-d3c087819c95"
   },
   "outputs": [
    {
     "data": {
      "image/png": "[encoded data removed]",
      "text/plain": [
       "<Figure size 432x288 with 1 Axes>"
      ]
     },
     "metadata": {
      "tags": []
     },
     "output_type": "display_data"
    }
   ],
   "source": [
    "norm_cdf(0.0, 1.0)"
   ]
  },
  {
   "cell_type": "markdown",
   "metadata": {
    "colab_type": "text",
    "id": "fhdA1-uh7DXM"
   },
   "source": [
    "#### 2.3 PPF\n",
    "* **PPF**: **Percent point function (inverse cumulative function)**\n",
    "* PPF 就是 inverse cumulative function\n",
    "* 如果說 `y = f(x)` 是 CDF，給定 x 求出 y，那 PPF 就是給 y 反推求出 x"
   ]
  },
  {
   "cell_type": "code",
   "execution_count": 68,
   "metadata": {
    "colab": {
     "base_uri": "https://localhost:8080/",
     "height": 34
    },
    "colab_type": "code",
    "id": "PplnrNMy7D_W",
    "outputId": "0716569d-f821-43a3-b3ad-03727dd73791"
   },
   "outputs": [
    {
     "name": "stdout",
     "output_type": "stream",
     "text": [
      "0.0\n"
     ]
    }
   ],
   "source": [
    "print(stats.norm.ppf(0.5, loc=0.0, scale=1.0))"
   ]
  },
  {
   "cell_type": "code",
   "execution_count": 0,
   "metadata": {
    "colab": {},
    "colab_type": "code",
    "id": "k0ayqL6j7EU8"
   },
   "outputs": [],
   "source": [
    "# 畫圖\n",
    "def norm_ppf(mean=0.0, std=1.0):\n",
    "    # 100 numbers between 0 and 1.0 i.e., probabilities\n",
    "    x = sp.linspace(0, 1.0, 100) # x 是 CDF 的值，因為是機率所以介於 0 ~ 1 之間\n",
    "    # PPF at these values\n",
    "    y = stats.norm.ppf(x, loc=mean, scale=std)\n",
    "\n",
    "    plt.plot(x, y, color='black')\n",
    "    plt.xlabel('Cumulative Probability')\n",
    "    plt.ylabel('Variate')\n",
    "    plt.title('PPF for Gaussian of mean = {0} & std. deviation = {1}'.format(mean, std))\n",
    "\n",
    "    # plt.draw()\n",
    "    plt.show()"
   ]
  },
  {
   "cell_type": "code",
   "execution_count": 70,
   "metadata": {
    "colab": {
     "base_uri": "https://localhost:8080/",
     "height": 295
    },
    "colab_type": "code",
    "id": "pLBbdHkF7Ep_",
    "outputId": "317a8e5a-3a38-46db-aa9e-5b9537259ba4"
   },
   "outputs": [
    {
     "data": {
      "image/png": "[encoded data removed]",
      "text/plain": [
       "<Figure size 432x288 with 1 Axes>"
      ]
     },
     "metadata": {
      "tags": []
     },
     "output_type": "display_data"
    }
   ],
   "source": [
    "norm_ppf(0.0, 1.0)"
   ]
  },
  {
   "cell_type": "markdown",
   "metadata": {
    "colab_type": "text",
    "id": "gQpLI1tX6t3p"
   },
   "source": [
    "#### 2.4 SF\n",
    "* **SF**: **Survival function**\n",
    "* 變量 x 比給定值大的機率\n",
    "* `SF = 1 - CDF`"
   ]
  },
  {
   "cell_type": "code",
   "execution_count": 71,
   "metadata": {
    "colab": {
     "base_uri": "https://localhost:8080/",
     "height": 34
    },
    "colab_type": "code",
    "id": "4LaiHdkz6ugi",
    "outputId": "e6f53540-9963-413f-e7c3-fca6a9df0f1a"
   },
   "outputs": [
    {
     "name": "stdout",
     "output_type": "stream",
     "text": [
      "0.5\n"
     ]
    }
   ],
   "source": [
    "print(stats.norm.sf(0.0, loc=0.0, scale=1.0))"
   ]
  },
  {
   "cell_type": "code",
   "execution_count": 0,
   "metadata": {
    "colab": {},
    "colab_type": "code",
    "id": "NnkEfgAc6v-I"
   },
   "outputs": [],
   "source": [
    "# 畫圖\n",
    "def norm_sf(mean=0.5, std=1.0):\n",
    "    # 50 numbers between -3\\sigma and 3\\sigma\n",
    "    x = sp.linspace(-3 * std, 3 * std, 50)\n",
    "    # SF at these values\n",
    "    y = stats.norm.sf(x, loc=mean, scale=std)\n",
    "\n",
    "    plt.plot(x, y, color='black')\n",
    "    plt.xlabel('Variate')\n",
    "    plt.ylabel('Probability')\n",
    "    plt.title('SF for Gaussian of mean = {0} & std. deviation = {1}'.format(mean, std))\n",
    "\n",
    "    # plt.draw()\n",
    "    plt.show()"
   ]
  },
  {
   "cell_type": "code",
   "execution_count": 73,
   "metadata": {
    "colab": {
     "base_uri": "https://localhost:8080/",
     "height": 295
    },
    "colab_type": "code",
    "id": "tePqgx6b6x_T",
    "outputId": "c82bfa70-8e28-4fa0-8220-9615263c62dc"
   },
   "outputs": [
    {
     "data": {
      "image/png": "[encoded data removed]",
      "text/plain": [
       "<Figure size 432x288 with 1 Axes>"
      ]
     },
     "metadata": {
      "tags": []
     },
     "output_type": "display_data"
    }
   ],
   "source": [
    "norm_sf(0.0, 1.0)"
   ]
  },
  {
   "cell_type": "markdown",
   "metadata": {
    "colab_type": "text",
    "id": "UEShVyKP6dT_"
   },
   "source": [
    "#### 2.5 ISF\n",
    "* **ISF**: **Inverse survival function**\n",
    "* 給定 survival function 的值來逆推回 variate 的值"
   ]
  },
  {
   "cell_type": "code",
   "execution_count": 74,
   "metadata": {
    "colab": {
     "base_uri": "https://localhost:8080/",
     "height": 34
    },
    "colab_type": "code",
    "id": "p_K0Ydyg6efv",
    "outputId": "8f9653b0-bd6d-44fb-b641-482a38ec4c11"
   },
   "outputs": [
    {
     "name": "stdout",
     "output_type": "stream",
     "text": [
      "0.0\n"
     ]
    }
   ],
   "source": [
    "print(stats.norm.isf(0.5, loc=0.0, scale=1.0))"
   ]
  },
  {
   "cell_type": "code",
   "execution_count": 0,
   "metadata": {
    "colab": {},
    "colab_type": "code",
    "id": "znGyA2db6o5V"
   },
   "outputs": [],
   "source": [
    "# 畫圖\n",
    "def norm_isf(mean=0.0, std=1.0):\n",
    "    # 100 numbers between 0 and 1.0\n",
    "    x = sp.linspace(0, 1.0, 100) # x 是 SF 的值，因為是機率所以介於 0 ~ 1 之間\n",
    "    # ISF at these values\n",
    "    y = stats.norm.isf(x, loc=mean, scale=std)\n",
    "\n",
    "    plt.plot(x, y, color='black')\n",
    "    plt.xlabel('Probability')\n",
    "    plt.ylabel('Variate')\n",
    "    plt.title('ISF for Gaussian of mean = {0} & std. deviation = {1}'.format(mean, std))\n",
    "\n",
    "    # plt.draw()\n",
    "    plt.show()"
   ]
  },
  {
   "cell_type": "code",
   "execution_count": 76,
   "metadata": {
    "colab": {
     "base_uri": "https://localhost:8080/",
     "height": 295
    },
    "colab_type": "code",
    "id": "LXRAXaAL60cF",
    "outputId": "a7be0d0f-6bb8-4338-f255-15aa7b9e9cef"
   },
   "outputs": [
    {
     "data": {
      "image/png": "[encoded data removed]",
      "text/plain": [
       "<Figure size 432x288 with 1 Axes>"
      ]
     },
     "metadata": {
      "tags": []
     },
     "output_type": "display_data"
    }
   ],
   "source": [
    "norm_isf(0.0, 1.0)"
   ]
  },
  {
   "cell_type": "markdown",
   "metadata": {
    "colab_type": "text",
    "id": "_tH28NHC5-8G"
   },
   "source": [
    "#### 2.6 Random variates\n",
    "可以用 `rvs` 依照某個分部來產生隨機變數"
   ]
  },
  {
   "cell_type": "code",
   "execution_count": 77,
   "metadata": {
    "colab": {
     "base_uri": "https://localhost:8080/",
     "height": 357
    },
    "colab_type": "code",
    "id": "tMxYD3pq6BRe",
    "outputId": "27afe3ec-7e66-4dde-ea00-48ad4477828c"
   },
   "outputs": [
    {
     "name": "stdout",
     "output_type": "stream",
     "text": [
      "[ 1.28621758  1.51301459 -0.45331184  1.79354332  1.62919871  1.61459253\n",
      " -1.00216138  0.35345754  0.86949051 -0.38607005  0.48836416 -1.01971517\n",
      " -1.74464304 -1.04062228 -0.30019464  1.38772623  0.13589398  0.42573166\n",
      "  0.17439042 -1.84602852 -0.32550189 -1.99604664 -0.69799686  0.43368862\n",
      "  0.42217038 -0.05011368 -0.44103626 -0.62108625  0.74726081  0.91190364\n",
      " -0.49473499  0.51694232  0.89466615  1.26329831  0.33937382  0.5001766\n",
      " -0.19944338 -1.07838903  0.76137791 -1.45154678 -2.47418361 -0.46281631\n",
      "  0.10865925  0.85400824  0.7572617  -0.32170571  0.98934628 -1.65107707\n",
      " -1.63693115 -0.5561239  -0.74458639 -0.79251    -0.15359265  1.22592122\n",
      "  1.97786355 -0.48587669  0.62697235  0.12901171  0.55951363  0.41842753\n",
      "  1.81759721 -1.55830821  0.76944542 -0.65841869  0.31023579  2.42263698\n",
      " -0.75854777  1.62579154  0.82363465 -1.95097718  1.14734291  0.57496522\n",
      " -0.07699221 -0.30601551  0.76566527 -0.01801009  1.23116449  2.06911095\n",
      "  0.71618216 -0.44285883 -1.56162752 -0.04317107  0.77777847 -1.44539936\n",
      " -0.64856382  0.460982    1.69169653 -1.43486125 -1.71701015  0.80531478\n",
      "  1.01396664  1.08737602 -2.86735104 -0.88154421 -0.38736928  0.19171934\n",
      "  0.35984645 -0.12356953  0.04141141 -1.05590986]\n",
      "[2 0 0 0 1 2 1 0 0 0 0 0 0 3 1 1 0 1 0 1 1 1 4 1 1 0 0 1 1 1 1 1 0 2 3 1 1\n",
      " 1 2 1 0 0 0 0 1 0 0 3 3 1 0 2 0 1 1 2 1 0 1 1 0 0 1 0 2 2 2 0 0 2 1 3 1 0\n",
      " 0 1 0 0 0 0 2 0 0 0 2 0 1 2 2 1 2 1 1 0 4 0 1 0 2 2]\n"
     ]
    }
   ],
   "source": [
    "# 100 random values from a normal distribution with mu = 0.0, sigma=1.0\n",
    "print(stats.norm.rvs(loc=0.0, scale=1.0, size=100))\n",
    "# 100 random values from a Poisson distribution with mu = 1.0\n",
    "print(stats.poisson.rvs(1.0, size=100))"
   ]
  },
  {
   "cell_type": "code",
   "execution_count": 0,
   "metadata": {
    "colab": {},
    "colab_type": "code",
    "id": "PO8xwhTp6JVa"
   },
   "outputs": [],
   "source": [
    "# 畫圖\n",
    "# 每兩秒為一個時間間隔，產生 100 個依照 Poisson 分部的隨機數，mu = 1.69\n",
    "# 也畫出 Poisson 分部的 Probability Mass Function (PMF), mu = 1.69\n",
    "# Poisson 分布是不連續的，點跟點之間的線只是用平滑曲線連接起來\n",
    "# Poisson distribution\n",
    "# P(k events in interval) = \\frac{\\lambda^{k}e^{-\\lambda}}{k!}\n",
    "# 在固定時間間隔內發生了 k 次，\\lambda 是在時間間隔內發生的平均次數，又可以叫做 event rate\n",
    "import scipy as sp\n",
    "from scipy import stats\n",
    "from scipy import interpolate\n",
    "from matplotlib import pyplot as plt"
   ]
  },
  {
   "cell_type": "code",
   "execution_count": 0,
   "metadata": {
    "colab": {},
    "colab_type": "code",
    "id": "hSrlvz_S6Lv-"
   },
   "outputs": [],
   "source": [
    "def simulate_poisson():\n",
    "    # Mean is 1.69\n",
    "    mu = 1.69\n",
    "    sigma = sp.sqrt(mu) # Poisson 的標準差 \\sigma_{k} = \\sqrt(\\lambda)\n",
    "    mu_plus_sigma = mu + sigma\n",
    "\n",
    "    # Draw random samples from the Poisson distribution, to simulate\n",
    "    # the observed events per 2 second interval\n",
    "    counts = stats.poisson.rvs(mu, size=100)\n",
    "\n",
    "    # Bins for the histogram: only the last bin is closed on both\n",
    "    # sides. We need one more bin than the maximum value of count, so\n",
    "    # that the maximum values goes in its own bin instead of getting\n",
    "    # added to the previous bin.\n",
    "    # [0, 1), [1, 2), ...[max(counts), max(counts)+1]\n",
    "    bins = range(0, max(counts) + 2)\n",
    "\n",
    "    # Plot histogram\n",
    "    plt.hist(counts, bins=bins, align='left', histtype='step', color='black')\n",
    "\n",
    "    # Create Poisson distribution for given mu.\n",
    "    x = range(0, 10)\n",
    "    prob = stats.poisson.pmf(x, mu) * 100 # 產生 x 所對應的 Poisson 分佈的值\n",
    "                                          # 因為產生了 100 個 Poisson 分佈的數值，所以這邊也要乘上 100\n",
    "    # Plot the PMF\n",
    "    plt.plot(x, prob, 'o', color='black')\n",
    "\n",
    "    # Draw a smooth curve through the PMF\n",
    "    l = sp.linspace(0, 11, 100) # x 值\n",
    "    s = interpolate.spline(x, prob, l) # 用內插法來找出 y 值\n",
    "    plt.plot(l, s, color='black')\n",
    "\n",
    "    plt.xlabel('Number of counts per 2 seconds')\n",
    "    plt.ylabel('Number of occurrences (Poisson)')\n",
    "\n",
    "    # Interpolated probability at x = \\mu + \\sigma; for marking \\sigma in the graph.\n",
    "    xx = sp.searchsorted(l, mu_plus_sigma) - 1 # 找出 mu_plus_sigma 在 l 中會位在第幾個元素\n",
    "    v = ((s[xx + 1] - s[xx]) / (l[xx + 1] - l[xx])) * (mu_plus_sigma - l[xx])\n",
    "    v += s[xx]\n",
    "\n",
    "    ax = plt.gca() # gca: get current axes\n",
    "    # Reset axis range and ticks.\n",
    "    ax.axis([-0.5, 10, 0, 40])\n",
    "    ax.set_xticks(range(1, 10), minor=True)\n",
    "    ax.set_yticks(range(0, 41, 8))\n",
    "    ax.set_yticks(range(4, 41, 8), minor=True)\n",
    "\n",
    "    # Draw arrow and then place an opaque box with \\mu in it.\n",
    "    # 在 (mu, 29) (mu, 13) 兩個座標畫一個箭頭\n",
    "    ax.annotate('', xy=(mu, 29), xycoords='data', xytext=(mu, 13),\n",
    "                textcoords='data', arrowprops=dict(arrowstyle='->',\n",
    "                                                   connectionstyle='arc3'))\n",
    "    bbox_props = dict(boxstyle='round', fc='w', ec='w')\n",
    "    ax.text(mu, 21, r'$\\mu$', va='center', ha='center',\n",
    "            size=15, bbox=bbox_props)\n",
    "\n",
    "    # Draw arrow and then place an opaque box with \\sigma in it.\n",
    "    ax.annotate('', xy=(mu, v), xytext=(mu_plus_sigma, v),\n",
    "                arrowprops=dict(arrowstyle='<->', connectionstyle='arc3'))\n",
    "    bbox_props = dict(boxstyle='round', fc='w', ec='w')\n",
    "    ax.text(mu + (sigma / 2.0), v, r'$\\sigma$', va='center', ha='center',\n",
    "                  size=15, bbox=bbox_props)\n",
    "\n",
    "    # Refresh plot and asve figure\n",
    "    # plt.draw()\n",
    "    # plt.savefig('simulate_poisson.png')\n",
    "    plt.show()"
   ]
  },
  {
   "cell_type": "code",
   "execution_count": 80,
   "metadata": {
    "colab": {
     "base_uri": "https://localhost:8080/",
     "height": 535
    },
    "colab_type": "code",
    "id": "83l0ER7l6M90",
    "outputId": "7b5c371e-193d-47db-b9cd-eceed5214c02"
   },
   "outputs": [
    {
     "ename": "AttributeError",
     "evalue": "ignored",
     "output_type": "error",
     "traceback": [
      "\u001b[0;31m---------------------------------------------------------------------------\u001b[0m",
      "\u001b[0;31mAttributeError\u001b[0m                            Traceback (most recent call last)",
      "\u001b[0;32m<ipython-input-80-507b6d938bc3>\u001b[0m in \u001b[0;36m<module>\u001b[0;34m()\u001b[0m\n\u001b[0;32m----> 1\u001b[0;31m \u001b[0msimulate_poisson\u001b[0m\u001b[0;34m(\u001b[0m\u001b[0;34m)\u001b[0m\u001b[0;34m\u001b[0m\u001b[0;34m\u001b[0m\u001b[0m\n\u001b[0m",
      "\u001b[0;32m<ipython-input-79-1735bd2f0486>\u001b[0m in \u001b[0;36msimulate_poisson\u001b[0;34m()\u001b[0m\n\u001b[1;32m     28\u001b[0m     \u001b[0;31m# Draw a smooth curve through the PMF\u001b[0m\u001b[0;34m\u001b[0m\u001b[0;34m\u001b[0m\u001b[0;34m\u001b[0m\u001b[0m\n\u001b[1;32m     29\u001b[0m     \u001b[0ml\u001b[0m \u001b[0;34m=\u001b[0m \u001b[0msp\u001b[0m\u001b[0;34m.\u001b[0m\u001b[0mlinspace\u001b[0m\u001b[0;34m(\u001b[0m\u001b[0;36m0\u001b[0m\u001b[0;34m,\u001b[0m \u001b[0;36m11\u001b[0m\u001b[0;34m,\u001b[0m \u001b[0;36m100\u001b[0m\u001b[0;34m)\u001b[0m \u001b[0;31m# x 值\u001b[0m\u001b[0;34m\u001b[0m\u001b[0;34m\u001b[0m\u001b[0m\n\u001b[0;32m---> 30\u001b[0;31m     \u001b[0ms\u001b[0m \u001b[0;34m=\u001b[0m \u001b[0minterpolate\u001b[0m\u001b[0;34m.\u001b[0m\u001b[0mspline\u001b[0m\u001b[0;34m(\u001b[0m\u001b[0mx\u001b[0m\u001b[0;34m,\u001b[0m \u001b[0mprob\u001b[0m\u001b[0;34m,\u001b[0m \u001b[0ml\u001b[0m\u001b[0;34m)\u001b[0m \u001b[0;31m# 用內插法來找出 y 值\u001b[0m\u001b[0;34m\u001b[0m\u001b[0;34m\u001b[0m\u001b[0m\n\u001b[0m\u001b[1;32m     31\u001b[0m     \u001b[0mplt\u001b[0m\u001b[0;34m.\u001b[0m\u001b[0mplot\u001b[0m\u001b[0;34m(\u001b[0m\u001b[0ml\u001b[0m\u001b[0;34m,\u001b[0m \u001b[0ms\u001b[0m\u001b[0;34m,\u001b[0m \u001b[0mcolor\u001b[0m\u001b[0;34m=\u001b[0m\u001b[0;34m'black'\u001b[0m\u001b[0;34m)\u001b[0m\u001b[0;34m\u001b[0m\u001b[0;34m\u001b[0m\u001b[0m\n\u001b[1;32m     32\u001b[0m \u001b[0;34m\u001b[0m\u001b[0m\n",
      "\u001b[0;31mAttributeError\u001b[0m: module 'scipy.interpolate' has no attribute 'spline'"
     ]
    },
    {
     "data": {
      "image/png": "[encoded data removed]",
      "text/plain": [
       "<Figure size 432x288 with 1 Axes>"
      ]
     },
     "metadata": {
      "tags": []
     },
     "output_type": "display_data"
    }
   ],
   "source": [
    "simulate_poisson()"
   ]
  },
  {
   "cell_type": "code",
   "execution_count": 0,
   "metadata": {
    "colab": {},
    "colab_type": "code",
    "id": "uWVk4x3g6OMw"
   },
   "outputs": [],
   "source": []
  }
 ],
 "metadata": {
  "colab": {
   "collapsed_sections": [],
   "name": "Simple_statistics_with_SciPy.ipynb",
   "provenance": [],
   "version": "0.3.2"
  },
  "kernelspec": {
   "display_name": "Python 3",
   "language": "python",
   "name": "python3"
  },
  "language_info": {
   "codemirror_mode": {
    "name": "ipython",
    "version": 3
   },
   "file_extension": ".py",
   "mimetype": "text/x-python",
   "name": "python",
   "nbconvert_exporter": "python",
   "pygments_lexer": "ipython3",
   "version": "3.6.9"
  }
 },
 "nbformat": 4,
 "nbformat_minor": 1
}
