{
  "nbformat": 4,
  "nbformat_minor": 0,
  "metadata": {
    "colab": {
      "name": "Python_Plotting_Basics.ipynb",
      "version": "0.3.2",
      "provenance": [],
      "collapsed_sections": []
    },
    "kernelspec": {
      "name": "python3",
      "display_name": "Python 3"
    }
  },
  "cells": [
    {
      "cell_type": "markdown",
      "metadata": {
        "id": "m6nS-UZz2ZcM",
        "colab_type": "text"
      },
      "source": [
        "# Python Plotting Basics"
      ]
    },
    {
      "cell_type": "markdown",
      "metadata": {
        "id": "KFX6XOqM2ZZz",
        "colab_type": "text"
      },
      "source": [
        "### Source\n",
        "https://towardsdatascience.com/python-plotting-basics-simple-charts-with-matplotlib-seaborn-and-plotly-e36346952a3a"
      ]
    },
    {
      "cell_type": "code",
      "metadata": {
        "id": "GDXO2IDI2WGO",
        "colab_type": "code",
        "colab": {}
      },
      "source": [
        "import pandas as pd\n",
        "import numpy as np\n",
        "import matplotlib.pyplot as plt\n",
        "import seaborn as sns\n",
        "import matplotlib.font_manager\n",
        "# %matplotlib inline\n",
        "\n",
        "# import plotly.plotly as py\n",
        "# import plotly.graph_objs as go\n",
        "# plotly.tools.set_credentials_file(username='***', api_key='***')"
      ],
      "execution_count": 0,
      "outputs": []
    },
    {
      "cell_type": "code",
      "metadata": {
        "id": "Lm-H7JB52h-t",
        "colab_type": "code",
        "colab": {}
      },
      "source": [
        "df = pd.DataFrame(\n",
        "    [['A', 'Have been told they are too aggressive', 84],\n",
        "     ['B', 'felt excluded from key social/networking opportunities because of genter', 66],\n",
        "     ['C', 'witnessed sexist behavior at company offsites and/or industry conferences', 90],\n",
        "     ['D', 'have experienced clients/colleagues address questions to male peers that should have been addressed to them', 88],\n",
        "     ['E', 'were asked about family life, martial status and children in interviews', 75],\n",
        "     ['F', '[%] of women in tech reported unwanted sexual advances', 60]],\n",
        "    columns=['Q Code', 'Question', 'Percentage of Respondents'])"
      ],
      "execution_count": 0,
      "outputs": []
    },
    {
      "cell_type": "code",
      "metadata": {
        "id": "ejUBn2sS2lry",
        "colab_type": "code",
        "colab": {
          "base_uri": "https://localhost:8080/",
          "height": 235
        },
        "outputId": "9ba30742-ac84-4e75-f2db-89bf3fd2bf89"
      },
      "source": [
        "df"
      ],
      "execution_count": 3,
      "outputs": [
        {
          "output_type": "execute_result",
          "data": {
            "text/html": [
              "<div>\n",
              "<style scoped>\n",
              "    .dataframe tbody tr th:only-of-type {\n",
              "        vertical-align: middle;\n",
              "    }\n",
              "\n",
              "    .dataframe tbody tr th {\n",
              "        vertical-align: top;\n",
              "    }\n",
              "\n",
              "    .dataframe thead th {\n",
              "        text-align: right;\n",
              "    }\n",
              "</style>\n",
              "<table border=\"1\" class=\"dataframe\">\n",
              "  <thead>\n",
              "    <tr style=\"text-align: right;\">\n",
              "      <th></th>\n",
              "      <th>Q Code</th>\n",
              "      <th>Question</th>\n",
              "      <th>Percentage of Respondents</th>\n",
              "    </tr>\n",
              "  </thead>\n",
              "  <tbody>\n",
              "    <tr>\n",
              "      <th>0</th>\n",
              "      <td>A</td>\n",
              "      <td>Have been told they are too aggressive</td>\n",
              "      <td>84</td>\n",
              "    </tr>\n",
              "    <tr>\n",
              "      <th>1</th>\n",
              "      <td>B</td>\n",
              "      <td>felt excluded from key social/networking oppor...</td>\n",
              "      <td>66</td>\n",
              "    </tr>\n",
              "    <tr>\n",
              "      <th>2</th>\n",
              "      <td>C</td>\n",
              "      <td>witnessed sexist behavior at company offsites ...</td>\n",
              "      <td>90</td>\n",
              "    </tr>\n",
              "    <tr>\n",
              "      <th>3</th>\n",
              "      <td>D</td>\n",
              "      <td>have experienced clients/colleagues address qu...</td>\n",
              "      <td>88</td>\n",
              "    </tr>\n",
              "    <tr>\n",
              "      <th>4</th>\n",
              "      <td>E</td>\n",
              "      <td>were asked about family life, martial status a...</td>\n",
              "      <td>75</td>\n",
              "    </tr>\n",
              "    <tr>\n",
              "      <th>5</th>\n",
              "      <td>F</td>\n",
              "      <td>[%] of women in tech reported unwanted sexual ...</td>\n",
              "      <td>60</td>\n",
              "    </tr>\n",
              "  </tbody>\n",
              "</table>\n",
              "</div>"
            ],
            "text/plain": [
              "  Q Code  ... Percentage of Respondents\n",
              "0      A  ...                        84\n",
              "1      B  ...                        66\n",
              "2      C  ...                        90\n",
              "3      D  ...                        88\n",
              "4      E  ...                        75\n",
              "5      F  ...                        60\n",
              "\n",
              "[6 rows x 3 columns]"
            ]
          },
          "metadata": {
            "tags": []
          },
          "execution_count": 3
        }
      ]
    },
    {
      "cell_type": "markdown",
      "metadata": {
        "id": "EYdt_kmU2nuw",
        "colab_type": "text"
      },
      "source": [
        "### 畫 bar 圖"
      ]
    },
    {
      "cell_type": "code",
      "metadata": {
        "id": "VRDUS9lB2mBu",
        "colab_type": "code",
        "colab": {
          "base_uri": "https://localhost:8080/",
          "height": 482
        },
        "outputId": "adf2332e-4af1-4000-83c2-b0c9f526f47f"
      },
      "source": [
        "fig, ax = plt.subplots(figsize=(12, 6))\n",
        "\n",
        "plt.rcParams['font.sans-serif'] = 'Arial'\n",
        "plt.rcParams['font.family'] = 'sans-serif'\n",
        "plt.rcParams['text.color'] = '#909090'\n",
        "plt.rcParams['axes.labelcolor'] = '#909090'\n",
        "plt.rcParams['xtick.color'] = '#909090'\n",
        "plt.rcParams['ytick.color'] = '#909090'\n",
        "plt.rcParams['font.size'] = 12\n",
        "\n",
        "color_palette_list = ['#009ACD', '#ADD8E6', '#63D1F4', '#0EBFE9', '#C1F0F6', '#0099CC']\n",
        "\n",
        "ind = np.arange(len(df['Question']))\n",
        "print(ind)\n",
        "\n",
        "bars1 = ax.bar(ind, df['Percentage of Respondents'],\n",
        "               color=color_palette_list,\n",
        "               label='Percentage of yes responses to question')\n",
        "ax.set_title('Elephant in the Valley Survey Results')\n",
        "ax.set_ylabel('Percentage of Yes Responses to Question')\n",
        "ax.set_ylim((0, 100))\n",
        "ax.set_xticks(range(0, len(ind)))\n",
        "ax.set_xticklabels(list(df['Q Code']), rotation=70)\n",
        "ax.set_xlabel('Question Key')\n",
        "plt.show()"
      ],
      "execution_count": 5,
      "outputs": [
        {
          "output_type": "stream",
          "text": [
            "[0 1 2 3 4 5]\n"
          ],
          "name": "stdout"
        },
        {
          "output_type": "stream",
          "text": [
            "/usr/local/lib/python3.6/dist-packages/matplotlib/font_manager.py:1241: UserWarning: findfont: Font family ['sans-serif'] not found. Falling back to DejaVu Sans.\n",
            "  (prop.get_family(), self.defaultFamily[fontext]))\n"
          ],
          "name": "stderr"
        },
        {
          "output_type": "display_data",
          "data": {
            "image/png": "[encoded data removed]",
            "text/plain": [
              "<Figure size 864x432 with 1 Axes>"
            ]
          },
          "metadata": {
            "tags": []
          }
        }
      ]
    },
    {
      "cell_type": "markdown",
      "metadata": {
        "id": "zeWxoEPB2x5r",
        "colab_type": "text"
      },
      "source": [
        "### 畫 pie 圖"
      ]
    },
    {
      "cell_type": "code",
      "metadata": {
        "id": "c8zx3ttt2sES",
        "colab_type": "code",
        "colab": {
          "base_uri": "https://localhost:8080/",
          "height": 378
        },
        "outputId": "c0e88180-9380-4e05-c30c-de0fd5cc40a2"
      },
      "source": [
        "fig, ax = plt.subplots(figsize=(12, 6))\n",
        "\n",
        "plt.rcParams['font.sans-serif'] = 'Arial'\n",
        "plt.rcParams['font.family'] = 'sans-serif'\n",
        "plt.rcParams['text.color'] = '#909090'\n",
        "plt.rcParams['axes.labelcolor'] = '#909090'\n",
        "plt.rcParams['xtick.color'] = '#909090'\n",
        "plt.rcParams['ytick.color'] = '#909090'\n",
        "plt.rcParams['font.size'] = 12\n",
        "\n",
        "labels = ['Bay Area / Silicon Valley',\n",
        "          'Non Bay Area / Silicon Valley']\n",
        "percentages = [91, 9]\n",
        "explode=(0.1, 0)\n",
        "\n",
        "ax.pie(percentages, explode=explode, labels=labels,\n",
        "       colors=color_palette_list[0:2], autopct='%1.0f%%',\n",
        "       shadow=False, startangle=0,\n",
        "       pctdistance=1.2, labeldistance=1.4)\n",
        "ax.axis('equal') # 圓形 pit 圖\n",
        "ax.set_title('Elephant in the Valley Survey Respondent Make-up')\n",
        "ax.legend(frameon=False, bbox_to_anchor=(1.5, 0.8))\n",
        "plt.show()"
      ],
      "execution_count": 6,
      "outputs": [
        {
          "output_type": "display_data",
          "data": {
            "image/png": "[encoded data removed]",
            "text/plain": [
              "<Figure size 864x432 with 1 Axes>"
            ]
          },
          "metadata": {
            "tags": []
          }
        }
      ]
    },
    {
      "cell_type": "markdown",
      "metadata": {
        "id": "bqiU_CJ22235",
        "colab_type": "text"
      },
      "source": [
        "### 用 Seaborn 畫 bar 圖"
      ]
    },
    {
      "cell_type": "code",
      "metadata": {
        "id": "pzumxwyM208N",
        "colab_type": "code",
        "colab": {
          "base_uri": "https://localhost:8080/",
          "height": 414
        },
        "outputId": "783a732f-a1b7-4ec8-f437-bd9ac98a0cfd"
      },
      "source": [
        "fig, ax = plt.subplots(figsize=(12, 6))\n",
        "\n",
        "plt.rcParams['font.sans-serif'] = 'Arial'\n",
        "plt.rcParams['font.family'] = 'sans-serif'\n",
        "plt.rcParams['text.color'] = '#909090'\n",
        "plt.rcParams['axes.labelcolor'] = '#909090'\n",
        "plt.rcParams['xtick.color'] = '#909090'\n",
        "plt.rcParams['ytick.color'] = '#909090'\n",
        "plt.rcParams['font.size'] = 12\n",
        "\n",
        "ind = np.arange(len(df['Question']))\n",
        "\n",
        "color_palette_list = ['#009ACD', '#ADD8E6', '#63D1F4', '#0EBFE9', '#C1F0F6', '#0099CC']\n",
        "\n",
        "sns.barplot(x=df['Q Code'], y=df['Percentage of Respondents'],\n",
        "            data=df, palette=color_palette_list,\n",
        "            label='Percentage of yes responses to question',\n",
        "            ax=ax, ci=None)\n",
        "\n",
        "ax.set_title('Elephant in the Valley Survey Results')\n",
        "ax.set_ylabel('Percentage of Yes Responses to Question')\n",
        "ax.set_ylim(0, 100)\n",
        "ax.set_xlabel('Question Key')\n",
        "ax.set_xticks(range(0, len(ind)))\n",
        "ax.set_xticklabels(list(df['Q Code']), rotation=45)\n",
        "plt.show()"
      ],
      "execution_count": 7,
      "outputs": [
        {
          "output_type": "display_data",
          "data": {
            "image/png": "[encoded data removed]",
            "text/plain": [
              "<Figure size 864x432 with 1 Axes>"
            ]
          },
          "metadata": {
            "tags": []
          }
        }
      ]
    },
    {
      "cell_type": "markdown",
      "metadata": {
        "id": "AcxOwGUC27eU",
        "colab_type": "text"
      },
      "source": [
        "### 用 plotly 畫 bar 圖"
      ]
    },
    {
      "cell_type": "code",
      "metadata": {
        "id": "lMvmvSsr25x_",
        "colab_type": "code",
        "colab": {}
      },
      "source": [
        "import plotly.plotly as py\n",
        "import plotly.graph_objs as go\n",
        "\n",
        "color_palette_list = ['#009ACD', '#ADD8E6', '#63D1F4', '#0EBFE9', '#C1F0F6', '#0099CC']\n",
        "\n",
        "trace = go.Bar(x=df['Q Code'],\n",
        "               y=df['Percentage of Responses'],\n",
        "               marker=dict(color_palette_list))\n",
        "\n",
        "data = [trace]\n",
        "\n",
        "layout = go.Layout(\n",
        "    title='Elephant in the Valley Survey Results',\n",
        "    font=dict(color='#909090'),\n",
        "    xaxis=dict(title='Question Key',\n",
        "               titlefont=dict(family='Arial, sans-serif',\n",
        "                              size=12,\n",
        "                              color='#909090'),\n",
        "               showticklabels=True,\n",
        "               tickangle=-45,\n",
        "               tickfont=dict(family='Arial, sans-serif',\n",
        "                             size=12,\n",
        "                             color='#909090')\n",
        "               ),\n",
        "    yaxis=dict(range=[0, 100],\n",
        "               title='Percentage of Yes Responses to Question',\n",
        "               titlefont=dict(family='Arial, sans=serif',\n",
        "                              size=12,\n",
        "                              color='#909090'),\n",
        "               showticklabels=True,\n",
        "               tickangle=0,\n",
        "               tickfont=dict(family='Arial, sans-serif',\n",
        "                             size=12,\n",
        "                             color='#909090')\n",
        "               )\n",
        "    )\n",
        "\n",
        "fig = go.Figure(data=data, layout=layout)\n",
        "py.iplot(fig, filename='barplot-elephant-in-the-valley')"
      ],
      "execution_count": 0,
      "outputs": []
    },
    {
      "cell_type": "markdown",
      "metadata": {
        "id": "KU_VC1SV3BRe",
        "colab_type": "text"
      },
      "source": [
        "### 用 plotly 畫 pie 圖"
      ]
    },
    {
      "cell_type": "code",
      "metadata": {
        "id": "yNa2iQ-E2_DW",
        "colab_type": "code",
        "colab": {}
      },
      "source": [
        "labels = ['Bay Area / Silicon Valley',\n",
        "          'Non Bay Area / Silicon Valley']\n",
        "percentages = [91, 9]\n",
        "\n",
        "trace = go.Pie(labels=labels,\n",
        "               hoverinfo='label+percent',\n",
        "               values=percentages,\n",
        "               textposition='outside',\n",
        "               marker=dict(colors=color_palette_list[0:2]),\n",
        "               rotation=90)\n",
        "\n",
        "layout = go.Layout(title='Elephant in the Valley Survey Respondent Make-up',\n",
        "                   font=dict(family='Arial',\n",
        "                             size=12,\n",
        "                             color='#909090'),\n",
        "                   legend=dict(x=0.9, y=0.5)\n",
        "                   )\n",
        "\n",
        "data = [trace]\n",
        "fig = go.Figure(data=data, layout=layout)\n",
        "py.iplot(fig, filename='basic_pie_chart_elephant_in_the_valley')\n"
      ],
      "execution_count": 0,
      "outputs": []
    }
  ]
}