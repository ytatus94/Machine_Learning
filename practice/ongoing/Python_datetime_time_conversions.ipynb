{
  "nbformat": 4,
  "nbformat_minor": 0,
  "metadata": {
    "colab": {
      "name": "Python_datetime_time_conversions.ipynb",
      "version": "0.3.2",
      "provenance": [],
      "collapsed_sections": []
    },
    "kernelspec": {
      "name": "python3",
      "display_name": "Python 3"
    }
  },
  "cells": [
    {
      "cell_type": "markdown",
      "metadata": {
        "id": "SVzUu5_51P5v",
        "colab_type": "text"
      },
      "source": [
        "# Python datetime time conversions"
      ]
    },
    {
      "cell_type": "markdown",
      "metadata": {
        "id": "vR2LKVrD1Sjh",
        "colab_type": "text"
      },
      "source": [
        "### Source\n",
        "https://www.saltycrane.com/blog/2008/11/python-datetime-time-conversions/"
      ]
    },
    {
      "cell_type": "code",
      "metadata": {
        "id": "LuuFTsvq1kHO",
        "colab_type": "code",
        "colab": {}
      },
      "source": [
        "from datetime import datetime\n",
        "import time\n",
        "import calendar"
      ],
      "execution_count": 0,
      "outputs": []
    },
    {
      "cell_type": "markdown",
      "metadata": {
        "id": "_nQYOo6m1aLU",
        "colab_type": "text"
      },
      "source": [
        "### Conversion to strings"
      ]
    },
    {
      "cell_type": "code",
      "metadata": {
        "id": "Cgc3QR2W1MnE",
        "colab_type": "code",
        "colab": {
          "base_uri": "https://localhost:8080/",
          "height": 34
        },
        "outputId": "dd81398e-631e-4fc3-83f3-36b6c08fca99"
      },
      "source": [
        "# datetime object to string\n",
        "dt_obj = datetime(2018, 11, 10, 17, 53, 59)\n",
        "date_str = dt_obj.strftime('%Y-%m-%d %H:%M:%S') # string format time\n",
        "print(date_str) # 輸出 2018-11-10 17:53:59"
      ],
      "execution_count": 4,
      "outputs": [
        {
          "output_type": "stream",
          "text": [
            "2018-11-10 17:53:59\n"
          ],
          "name": "stdout"
        }
      ]
    },
    {
      "cell_type": "code",
      "metadata": {
        "id": "O15ZLm1s1fGy",
        "colab_type": "code",
        "colab": {
          "base_uri": "https://localhost:8080/",
          "height": 34
        },
        "outputId": "74dced91-6009-4fc0-f7bd-48c17c193941"
      },
      "source": [
        "# time tuple to string\n",
        "time_tuple = (2008, 11, 12, 13, 51, 18, 2, 317, 0)\n",
        "date_str = time.strftime('%Y-%m-%d %H:%M:%S', time_tuple)\n",
        "print(date_str) # 輸出 2008-11-12 13:51:18"
      ],
      "execution_count": 5,
      "outputs": [
        {
          "output_type": "stream",
          "text": [
            "2008-11-12 13:51:18\n"
          ],
          "name": "stdout"
        }
      ]
    },
    {
      "cell_type": "markdown",
      "metadata": {
        "id": "lOeqPE9F1sK6",
        "colab_type": "text"
      },
      "source": [
        "### Conversion to datetime objects"
      ]
    },
    {
      "cell_type": "code",
      "metadata": {
        "id": "RlmgpuRe1gAf",
        "colab_type": "code",
        "colab": {
          "base_uri": "https://localhost:8080/",
          "height": 51
        },
        "outputId": "b9d87e5c-96ef-459e-e2a0-0342c61a3d56"
      },
      "source": [
        "# time tuple to datetime object\n",
        "time_tuple = (2008, 11, 12, 13, 51, 18, 2, 317, 0)\n",
        "dt_obj = datetime(*time_tuple[0:6]) # 注意要把 tuple 解開\n",
        "print(dt_obj) # 輸出 2008-11-12 13:51:18\n",
        "print(repr(dt_obj)) # 輸出 datetime.datetime(2008, 11, 12, 13, 51, 18)"
      ],
      "execution_count": 6,
      "outputs": [
        {
          "output_type": "stream",
          "text": [
            "2008-11-12 13:51:18\n",
            "datetime.datetime(2008, 11, 12, 13, 51, 18)\n"
          ],
          "name": "stdout"
        }
      ]
    },
    {
      "cell_type": "code",
      "metadata": {
        "id": "EuR95l1X1xgU",
        "colab_type": "code",
        "colab": {
          "base_uri": "https://localhost:8080/",
          "height": 51
        },
        "outputId": "67644e06-aa87-4899-9b92-e7c2396a3e21"
      },
      "source": [
        "# date string to datetime object\n",
        "date_str = '2018-11-10 17:53:59'\n",
        "dt_obj = datetime.strptime(date_str, '%Y-%m-%d %H:%M:%S') # string parse time\n",
        "print(dt_obj) # 輸出 2018-11-10 17:53:59\n",
        "print(repr(dt_obj)) # 輸出 datetime.datetime(2018, 11, 10, 17, 53, 59)"
      ],
      "execution_count": 7,
      "outputs": [
        {
          "output_type": "stream",
          "text": [
            "2018-11-10 17:53:59\n",
            "datetime.datetime(2018, 11, 10, 17, 53, 59)\n"
          ],
          "name": "stdout"
        }
      ]
    },
    {
      "cell_type": "code",
      "metadata": {
        "id": "moAv6w6y1xYE",
        "colab_type": "code",
        "colab": {
          "base_uri": "https://localhost:8080/",
          "height": 51
        },
        "outputId": "1d07a58c-f0c7-41a5-8c7d-ffcba91ead30"
      },
      "source": [
        "# timestamp to datetime object in local time\n",
        "timestamp = 1226527167.595983\n",
        "dt_obj = datetime.fromtimestamp(timestamp)\n",
        "print(dt_obj) # 2008-11-12 13:59:27.595983\n",
        "print(repr(dt_obj)) # datetime.datetime(2008, 11, 12, 13, 59, 27, 595983)"
      ],
      "execution_count": 8,
      "outputs": [
        {
          "output_type": "stream",
          "text": [
            "2008-11-12 21:59:27.595983\n",
            "datetime.datetime(2008, 11, 12, 21, 59, 27, 595983)\n"
          ],
          "name": "stdout"
        }
      ]
    },
    {
      "cell_type": "code",
      "metadata": {
        "id": "uDYvP7Wq1xOI",
        "colab_type": "code",
        "colab": {
          "base_uri": "https://localhost:8080/",
          "height": 51
        },
        "outputId": "5cb1cc20-113b-4fd3-80aa-121908f919f6"
      },
      "source": [
        "# timestamp to datetime object in UTC\n",
        "timestamp = 1226527167.595983\n",
        "dt_obj = datetime.utcfromtimestamp(timestamp)\n",
        "print(dt_obj) # 輸出 2008-11-12 13:59:27.595983\n",
        "print(repr(dt_obj)) # 輸出 datetime.datetime(2008, 11, 12, 13, 59, 27, 595983)"
      ],
      "execution_count": 9,
      "outputs": [
        {
          "output_type": "stream",
          "text": [
            "2008-11-12 21:59:27.595983\n",
            "datetime.datetime(2008, 11, 12, 21, 59, 27, 595983)\n"
          ],
          "name": "stdout"
        }
      ]
    },
    {
      "cell_type": "markdown",
      "metadata": {
        "id": "AIyK0Gco16Oy",
        "colab_type": "text"
      },
      "source": [
        "### Conversion to time tuples"
      ]
    },
    {
      "cell_type": "code",
      "metadata": {
        "id": "petA3JdO14b7",
        "colab_type": "code",
        "colab": {
          "base_uri": "https://localhost:8080/",
          "height": 51
        },
        "outputId": "cab330dc-7962-4ce8-b038-ac5dc12bf362"
      },
      "source": [
        "# datetime object to time tuple\n",
        "dt_obj = datetime(2018, 11, 10, 17, 53, 59)\n",
        "time_tuple = dt_obj.timetuple()\n",
        "print(time_tuple) # 輸出 time.struct_time(tm_year=2018, tm_mon=11, tm_mday=10, tm_hour=17, tm_min=53, tm_sec=59, tm_wday=5, tm_yday=314, tm_isdst=-1)\n",
        "print(repr(time_tuple)) # 輸出 time.struct_time(tm_year=2018, tm_mon=11, tm_mday=10, tm_hour=17, tm_min=53, tm_sec=59, tm_wday=5, tm_yday=314, tm_isdst=-1)"
      ],
      "execution_count": 10,
      "outputs": [
        {
          "output_type": "stream",
          "text": [
            "time.struct_time(tm_year=2018, tm_mon=11, tm_mday=10, tm_hour=17, tm_min=53, tm_sec=59, tm_wday=5, tm_yday=314, tm_isdst=-1)\n",
            "time.struct_time(tm_year=2018, tm_mon=11, tm_mday=10, tm_hour=17, tm_min=53, tm_sec=59, tm_wday=5, tm_yday=314, tm_isdst=-1)\n"
          ],
          "name": "stdout"
        }
      ]
    },
    {
      "cell_type": "code",
      "metadata": {
        "id": "fUysNFLW2E_3",
        "colab_type": "code",
        "colab": {
          "base_uri": "https://localhost:8080/",
          "height": 51
        },
        "outputId": "825c5379-840e-4e6d-c7f0-bef854fdf4da"
      },
      "source": [
        "# string to time tuple\n",
        "date_str = '2018-11-10 17:53:59'\n",
        "time_tuple = time.strptime(date_str, '%Y-%m-%d %H:%M:%S')\n",
        "print(time_tuple) # 輸出 time.struct_time(tm_year=2018, tm_mon=11, tm_mday=10, tm_hour=17, tm_min=53, tm_sec=59, tm_wday=5, tm_yday=314, tm_isdst=-1)\n",
        "print(repr(time_tuple)) # 輸出 time.struct_time(tm_year=2018, tm_mon=11, tm_mday=10, tm_hour=17, tm_min=53, tm_sec=59, tm_wday=5, tm_yday=314, tm_isdst=-1)"
      ],
      "execution_count": 11,
      "outputs": [
        {
          "output_type": "stream",
          "text": [
            "time.struct_time(tm_year=2018, tm_mon=11, tm_mday=10, tm_hour=17, tm_min=53, tm_sec=59, tm_wday=5, tm_yday=314, tm_isdst=-1)\n",
            "time.struct_time(tm_year=2018, tm_mon=11, tm_mday=10, tm_hour=17, tm_min=53, tm_sec=59, tm_wday=5, tm_yday=314, tm_isdst=-1)\n"
          ],
          "name": "stdout"
        }
      ]
    },
    {
      "cell_type": "code",
      "metadata": {
        "id": "Gjy8DNNm2E3u",
        "colab_type": "code",
        "colab": {
          "base_uri": "https://localhost:8080/",
          "height": 51
        },
        "outputId": "94defb79-0268-47d9-e1a7-a34cb514119b"
      },
      "source": [
        "# timestamp to time tuple in UTC\n",
        "timestamp = 1226527167.595983\n",
        "time_tuple = time.gmtime(timestamp)\n",
        "print(time_tuple) # 輸出 time.struct_time(tm_year=2008, tm_mon=11, tm_mday=12, tm_hour=21, tm_min=59, tm_sec=27, tm_wday=2, tm_yday=317, tm_isdst=0)\n",
        "print(repr(time_tuple)) # 輸出 time.struct_time(tm_year=2008, tm_mon=11, tm_mday=12, tm_hour=21, tm_min=59, tm_sec=27, tm_wday=2, tm_yday=317, tm_isdst=0)"
      ],
      "execution_count": 12,
      "outputs": [
        {
          "output_type": "stream",
          "text": [
            "time.struct_time(tm_year=2008, tm_mon=11, tm_mday=12, tm_hour=21, tm_min=59, tm_sec=27, tm_wday=2, tm_yday=317, tm_isdst=0)\n",
            "time.struct_time(tm_year=2008, tm_mon=11, tm_mday=12, tm_hour=21, tm_min=59, tm_sec=27, tm_wday=2, tm_yday=317, tm_isdst=0)\n"
          ],
          "name": "stdout"
        }
      ]
    },
    {
      "cell_type": "code",
      "metadata": {
        "id": "0D1Z04t92EvH",
        "colab_type": "code",
        "colab": {
          "base_uri": "https://localhost:8080/",
          "height": 51
        },
        "outputId": "fd095cd1-520c-4e95-de1e-093f19bc16f9"
      },
      "source": [
        "# timestamp to time tuple in local time\n",
        "timestamp = 1226527167.595983\n",
        "time_tuple = time.localtime(timestamp)\n",
        "print(time_tuple) # 輸出 time.struct_time(tm_year=2008, tm_mon=11, tm_mday=12, tm_hour=13, tm_min=59, tm_sec=27, tm_wday=2, tm_yday=317, tm_isdst=0)\n",
        "print(repr(time_tuple)) # 輸出 time.struct_time(tm_year=2008, tm_mon=11, tm_mday=12, tm_hour=13, tm_min=59, tm_sec=27, tm_wday=2, tm_yday=317, tm_isdst=0)"
      ],
      "execution_count": 13,
      "outputs": [
        {
          "output_type": "stream",
          "text": [
            "time.struct_time(tm_year=2008, tm_mon=11, tm_mday=12, tm_hour=21, tm_min=59, tm_sec=27, tm_wday=2, tm_yday=317, tm_isdst=0)\n",
            "time.struct_time(tm_year=2008, tm_mon=11, tm_mday=12, tm_hour=21, tm_min=59, tm_sec=27, tm_wday=2, tm_yday=317, tm_isdst=0)\n"
          ],
          "name": "stdout"
        }
      ]
    },
    {
      "cell_type": "markdown",
      "metadata": {
        "id": "P0V-CJaQ2AVj",
        "colab_type": "text"
      },
      "source": [
        "### Conversion to timestamps"
      ]
    },
    {
      "cell_type": "code",
      "metadata": {
        "id": "RbZ54utv2A92",
        "colab_type": "code",
        "colab": {
          "base_uri": "https://localhost:8080/",
          "height": 51
        },
        "outputId": "b55dd9fb-1bd1-4d3f-ecec-150402bb40aa"
      },
      "source": [
        "# time tuple in local time to timestamp\n",
        "time_tuple = (2008, 11, 12, 13, 51, 18, 2, 317, 0)\n",
        "timestamp = time.mktime(time_tuple)\n",
        "print(timestamp) # 輸出 1226526678.0\n",
        "print(repr(timestamp)) # 輸出 1226526678.0"
      ],
      "execution_count": 14,
      "outputs": [
        {
          "output_type": "stream",
          "text": [
            "1226497878.0\n",
            "1226497878.0\n"
          ],
          "name": "stdout"
        }
      ]
    },
    {
      "cell_type": "code",
      "metadata": {
        "id": "xvTrswHl2Dl6",
        "colab_type": "code",
        "colab": {
          "base_uri": "https://localhost:8080/",
          "height": 51
        },
        "outputId": "62412159-e7f9-48b1-9fe9-8e90eb55fd58"
      },
      "source": [
        "# time tuple in UTC time to timestamp\n",
        "time_tuple_utc = (2008, 11, 12, 13, 51, 18, 2, 317, 0)\n",
        "timestamp_utc = calendar.timegm(time_tuple_utc)\n",
        "print(timestamp_utc) # 輸出 1226497878\n",
        "print(repr(timestamp_utc)) # 輸出 1226497878"
      ],
      "execution_count": 15,
      "outputs": [
        {
          "output_type": "stream",
          "text": [
            "1226497878\n",
            "1226497878\n"
          ],
          "name": "stdout"
        }
      ]
    },
    {
      "cell_type": "code",
      "metadata": {
        "id": "YRDVqj8b2NRX",
        "colab_type": "code",
        "colab": {}
      },
      "source": [
        ""
      ],
      "execution_count": 0,
      "outputs": []
    }
  ]
}