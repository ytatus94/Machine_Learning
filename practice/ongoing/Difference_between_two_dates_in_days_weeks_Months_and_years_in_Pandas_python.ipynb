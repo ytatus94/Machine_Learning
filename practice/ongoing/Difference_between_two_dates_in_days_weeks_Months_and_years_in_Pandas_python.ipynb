{
  "nbformat": 4,
  "nbformat_minor": 0,
  "metadata": {
    "colab": {
      "name": "Difference_between_two_dates_in_days_weeks_Months_and_years_in_Pandas_python.ipynb",
      "version": "0.3.2",
      "provenance": [],
      "collapsed_sections": []
    },
    "kernelspec": {
      "name": "python3",
      "display_name": "Python 3"
    }
  },
  "cells": [
    {
      "cell_type": "markdown",
      "metadata": {
        "id": "mXHIir5l3uqc",
        "colab_type": "text"
      },
      "source": [
        "# Difference between two dates in days , weeks, Months and years in Pandas python"
      ]
    },
    {
      "cell_type": "markdown",
      "metadata": {
        "id": "gD3GTykr3udP",
        "colab_type": "text"
      },
      "source": [
        "### Source\n",
        "http://www.datasciencemadesimple.com/difference-two-dates-days-weeks-months-years-pandas-python-2/"
      ]
    },
    {
      "cell_type": "code",
      "metadata": {
        "id": "RD4NJfEw3myW",
        "colab_type": "code",
        "colab": {}
      },
      "source": [
        "import pandas as pd\n",
        "import numpy as np\n",
        "import datetime\n",
        "\n",
        "from dateutil.relativedelta import relativedelta\n",
        "from datetime import date"
      ],
      "execution_count": 0,
      "outputs": []
    },
    {
      "cell_type": "code",
      "metadata": {
        "id": "F5Cl2C5f3_al",
        "colab_type": "code",
        "colab": {}
      },
      "source": [
        "date1 = pd.Series(pd.date_range('2012-1-1 12:00:00', periods=7, freq='M'))\n",
        "date2 = pd.Series(pd.date_range('2013-3-11 21:45:00', periods=7, freq='W'))"
      ],
      "execution_count": 0,
      "outputs": []
    },
    {
      "cell_type": "code",
      "metadata": {
        "id": "_EzXejLD4BUn",
        "colab_type": "code",
        "colab": {
          "base_uri": "https://localhost:8080/",
          "height": 153
        },
        "outputId": "b39f3da2-1681-4379-d152-01b443eddab5"
      },
      "source": [
        "date1"
      ],
      "execution_count": 3,
      "outputs": [
        {
          "output_type": "execute_result",
          "data": {
            "text/plain": [
              "0   2012-01-31 12:00:00\n",
              "1   2012-02-29 12:00:00\n",
              "2   2012-03-31 12:00:00\n",
              "3   2012-04-30 12:00:00\n",
              "4   2012-05-31 12:00:00\n",
              "5   2012-06-30 12:00:00\n",
              "6   2012-07-31 12:00:00\n",
              "dtype: datetime64[ns]"
            ]
          },
          "metadata": {
            "tags": []
          },
          "execution_count": 3
        }
      ]
    },
    {
      "cell_type": "code",
      "metadata": {
        "id": "uU-3ODHl4BJ_",
        "colab_type": "code",
        "colab": {
          "base_uri": "https://localhost:8080/",
          "height": 153
        },
        "outputId": "a3d511f8-c2a5-464e-cb9a-7f793cc5153f"
      },
      "source": [
        "date2"
      ],
      "execution_count": 4,
      "outputs": [
        {
          "output_type": "execute_result",
          "data": {
            "text/plain": [
              "0   2013-03-17 21:45:00\n",
              "1   2013-03-24 21:45:00\n",
              "2   2013-03-31 21:45:00\n",
              "3   2013-04-07 21:45:00\n",
              "4   2013-04-14 21:45:00\n",
              "5   2013-04-21 21:45:00\n",
              "6   2013-04-28 21:45:00\n",
              "dtype: datetime64[ns]"
            ]
          },
          "metadata": {
            "tags": []
          },
          "execution_count": 4
        }
      ]
    },
    {
      "cell_type": "code",
      "metadata": {
        "id": "7MgtHcqg4FTC",
        "colab_type": "code",
        "colab": {
          "base_uri": "https://localhost:8080/",
          "height": 266
        },
        "outputId": "08636bdb-f0a4-4549-849b-94a5a3160621"
      },
      "source": [
        "df = pd.DataFrame(dict(Start_date=date1, End_date=date2))\n",
        "df"
      ],
      "execution_count": 5,
      "outputs": [
        {
          "output_type": "execute_result",
          "data": {
            "text/html": [
              "<div>\n",
              "<style scoped>\n",
              "    .dataframe tbody tr th:only-of-type {\n",
              "        vertical-align: middle;\n",
              "    }\n",
              "\n",
              "    .dataframe tbody tr th {\n",
              "        vertical-align: top;\n",
              "    }\n",
              "\n",
              "    .dataframe thead th {\n",
              "        text-align: right;\n",
              "    }\n",
              "</style>\n",
              "<table border=\"1\" class=\"dataframe\">\n",
              "  <thead>\n",
              "    <tr style=\"text-align: right;\">\n",
              "      <th></th>\n",
              "      <th>Start_date</th>\n",
              "      <th>End_date</th>\n",
              "    </tr>\n",
              "  </thead>\n",
              "  <tbody>\n",
              "    <tr>\n",
              "      <th>0</th>\n",
              "      <td>2012-01-31 12:00:00</td>\n",
              "      <td>2013-03-17 21:45:00</td>\n",
              "    </tr>\n",
              "    <tr>\n",
              "      <th>1</th>\n",
              "      <td>2012-02-29 12:00:00</td>\n",
              "      <td>2013-03-24 21:45:00</td>\n",
              "    </tr>\n",
              "    <tr>\n",
              "      <th>2</th>\n",
              "      <td>2012-03-31 12:00:00</td>\n",
              "      <td>2013-03-31 21:45:00</td>\n",
              "    </tr>\n",
              "    <tr>\n",
              "      <th>3</th>\n",
              "      <td>2012-04-30 12:00:00</td>\n",
              "      <td>2013-04-07 21:45:00</td>\n",
              "    </tr>\n",
              "    <tr>\n",
              "      <th>4</th>\n",
              "      <td>2012-05-31 12:00:00</td>\n",
              "      <td>2013-04-14 21:45:00</td>\n",
              "    </tr>\n",
              "    <tr>\n",
              "      <th>5</th>\n",
              "      <td>2012-06-30 12:00:00</td>\n",
              "      <td>2013-04-21 21:45:00</td>\n",
              "    </tr>\n",
              "    <tr>\n",
              "      <th>6</th>\n",
              "      <td>2012-07-31 12:00:00</td>\n",
              "      <td>2013-04-28 21:45:00</td>\n",
              "    </tr>\n",
              "  </tbody>\n",
              "</table>\n",
              "</div>"
            ],
            "text/plain": [
              "           Start_date            End_date\n",
              "0 2012-01-31 12:00:00 2013-03-17 21:45:00\n",
              "1 2012-02-29 12:00:00 2013-03-24 21:45:00\n",
              "2 2012-03-31 12:00:00 2013-03-31 21:45:00\n",
              "3 2012-04-30 12:00:00 2013-04-07 21:45:00\n",
              "4 2012-05-31 12:00:00 2013-04-14 21:45:00\n",
              "5 2012-06-30 12:00:00 2013-04-21 21:45:00\n",
              "6 2012-07-31 12:00:00 2013-04-28 21:45:00"
            ]
          },
          "metadata": {
            "tags": []
          },
          "execution_count": 5
        }
      ]
    },
    {
      "cell_type": "markdown",
      "metadata": {
        "id": "VH6u2SPi4M13",
        "colab_type": "text"
      },
      "source": [
        "### Difference between two dates in days – pandas dataframe python\n",
        "\n",
        "* First line calculates the difference between two dates\n",
        "* Second line converts the difference in terms of days (`timedelta64(1,’D’)` - `D` indicates days)"
      ]
    },
    {
      "cell_type": "code",
      "metadata": {
        "id": "x3ngEvGA4IX7",
        "colab_type": "code",
        "colab": {
          "base_uri": "https://localhost:8080/",
          "height": 266
        },
        "outputId": "71abf744-0ff9-4763-ed6f-dda1d8081bf5"
      },
      "source": [
        "df['diff_days'] = df['End_date'] - df['Start_date']\n",
        "df"
      ],
      "execution_count": 6,
      "outputs": [
        {
          "output_type": "execute_result",
          "data": {
            "text/html": [
              "<div>\n",
              "<style scoped>\n",
              "    .dataframe tbody tr th:only-of-type {\n",
              "        vertical-align: middle;\n",
              "    }\n",
              "\n",
              "    .dataframe tbody tr th {\n",
              "        vertical-align: top;\n",
              "    }\n",
              "\n",
              "    .dataframe thead th {\n",
              "        text-align: right;\n",
              "    }\n",
              "</style>\n",
              "<table border=\"1\" class=\"dataframe\">\n",
              "  <thead>\n",
              "    <tr style=\"text-align: right;\">\n",
              "      <th></th>\n",
              "      <th>Start_date</th>\n",
              "      <th>End_date</th>\n",
              "      <th>diff_days</th>\n",
              "    </tr>\n",
              "  </thead>\n",
              "  <tbody>\n",
              "    <tr>\n",
              "      <th>0</th>\n",
              "      <td>2012-01-31 12:00:00</td>\n",
              "      <td>2013-03-17 21:45:00</td>\n",
              "      <td>411 days 09:45:00</td>\n",
              "    </tr>\n",
              "    <tr>\n",
              "      <th>1</th>\n",
              "      <td>2012-02-29 12:00:00</td>\n",
              "      <td>2013-03-24 21:45:00</td>\n",
              "      <td>389 days 09:45:00</td>\n",
              "    </tr>\n",
              "    <tr>\n",
              "      <th>2</th>\n",
              "      <td>2012-03-31 12:00:00</td>\n",
              "      <td>2013-03-31 21:45:00</td>\n",
              "      <td>365 days 09:45:00</td>\n",
              "    </tr>\n",
              "    <tr>\n",
              "      <th>3</th>\n",
              "      <td>2012-04-30 12:00:00</td>\n",
              "      <td>2013-04-07 21:45:00</td>\n",
              "      <td>342 days 09:45:00</td>\n",
              "    </tr>\n",
              "    <tr>\n",
              "      <th>4</th>\n",
              "      <td>2012-05-31 12:00:00</td>\n",
              "      <td>2013-04-14 21:45:00</td>\n",
              "      <td>318 days 09:45:00</td>\n",
              "    </tr>\n",
              "    <tr>\n",
              "      <th>5</th>\n",
              "      <td>2012-06-30 12:00:00</td>\n",
              "      <td>2013-04-21 21:45:00</td>\n",
              "      <td>295 days 09:45:00</td>\n",
              "    </tr>\n",
              "    <tr>\n",
              "      <th>6</th>\n",
              "      <td>2012-07-31 12:00:00</td>\n",
              "      <td>2013-04-28 21:45:00</td>\n",
              "      <td>271 days 09:45:00</td>\n",
              "    </tr>\n",
              "  </tbody>\n",
              "</table>\n",
              "</div>"
            ],
            "text/plain": [
              "           Start_date            End_date         diff_days\n",
              "0 2012-01-31 12:00:00 2013-03-17 21:45:00 411 days 09:45:00\n",
              "1 2012-02-29 12:00:00 2013-03-24 21:45:00 389 days 09:45:00\n",
              "2 2012-03-31 12:00:00 2013-03-31 21:45:00 365 days 09:45:00\n",
              "3 2012-04-30 12:00:00 2013-04-07 21:45:00 342 days 09:45:00\n",
              "4 2012-05-31 12:00:00 2013-04-14 21:45:00 318 days 09:45:00\n",
              "5 2012-06-30 12:00:00 2013-04-21 21:45:00 295 days 09:45:00\n",
              "6 2012-07-31 12:00:00 2013-04-28 21:45:00 271 days 09:45:00"
            ]
          },
          "metadata": {
            "tags": []
          },
          "execution_count": 6
        }
      ]
    },
    {
      "cell_type": "code",
      "metadata": {
        "id": "IYZeLdAQ4beI",
        "colab_type": "code",
        "colab": {
          "base_uri": "https://localhost:8080/",
          "height": 266
        },
        "outputId": "278dc81b-3825-49e6-fa6b-04f0b1e801f2"
      },
      "source": [
        "df['diff_days'] = df['diff_days'] / np.timedelta64(1, 'D')\n",
        "df"
      ],
      "execution_count": 7,
      "outputs": [
        {
          "output_type": "execute_result",
          "data": {
            "text/html": [
              "<div>\n",
              "<style scoped>\n",
              "    .dataframe tbody tr th:only-of-type {\n",
              "        vertical-align: middle;\n",
              "    }\n",
              "\n",
              "    .dataframe tbody tr th {\n",
              "        vertical-align: top;\n",
              "    }\n",
              "\n",
              "    .dataframe thead th {\n",
              "        text-align: right;\n",
              "    }\n",
              "</style>\n",
              "<table border=\"1\" class=\"dataframe\">\n",
              "  <thead>\n",
              "    <tr style=\"text-align: right;\">\n",
              "      <th></th>\n",
              "      <th>Start_date</th>\n",
              "      <th>End_date</th>\n",
              "      <th>diff_days</th>\n",
              "    </tr>\n",
              "  </thead>\n",
              "  <tbody>\n",
              "    <tr>\n",
              "      <th>0</th>\n",
              "      <td>2012-01-31 12:00:00</td>\n",
              "      <td>2013-03-17 21:45:00</td>\n",
              "      <td>411.40625</td>\n",
              "    </tr>\n",
              "    <tr>\n",
              "      <th>1</th>\n",
              "      <td>2012-02-29 12:00:00</td>\n",
              "      <td>2013-03-24 21:45:00</td>\n",
              "      <td>389.40625</td>\n",
              "    </tr>\n",
              "    <tr>\n",
              "      <th>2</th>\n",
              "      <td>2012-03-31 12:00:00</td>\n",
              "      <td>2013-03-31 21:45:00</td>\n",
              "      <td>365.40625</td>\n",
              "    </tr>\n",
              "    <tr>\n",
              "      <th>3</th>\n",
              "      <td>2012-04-30 12:00:00</td>\n",
              "      <td>2013-04-07 21:45:00</td>\n",
              "      <td>342.40625</td>\n",
              "    </tr>\n",
              "    <tr>\n",
              "      <th>4</th>\n",
              "      <td>2012-05-31 12:00:00</td>\n",
              "      <td>2013-04-14 21:45:00</td>\n",
              "      <td>318.40625</td>\n",
              "    </tr>\n",
              "    <tr>\n",
              "      <th>5</th>\n",
              "      <td>2012-06-30 12:00:00</td>\n",
              "      <td>2013-04-21 21:45:00</td>\n",
              "      <td>295.40625</td>\n",
              "    </tr>\n",
              "    <tr>\n",
              "      <th>6</th>\n",
              "      <td>2012-07-31 12:00:00</td>\n",
              "      <td>2013-04-28 21:45:00</td>\n",
              "      <td>271.40625</td>\n",
              "    </tr>\n",
              "  </tbody>\n",
              "</table>\n",
              "</div>"
            ],
            "text/plain": [
              "           Start_date            End_date  diff_days\n",
              "0 2012-01-31 12:00:00 2013-03-17 21:45:00  411.40625\n",
              "1 2012-02-29 12:00:00 2013-03-24 21:45:00  389.40625\n",
              "2 2012-03-31 12:00:00 2013-03-31 21:45:00  365.40625\n",
              "3 2012-04-30 12:00:00 2013-04-07 21:45:00  342.40625\n",
              "4 2012-05-31 12:00:00 2013-04-14 21:45:00  318.40625\n",
              "5 2012-06-30 12:00:00 2013-04-21 21:45:00  295.40625\n",
              "6 2012-07-31 12:00:00 2013-04-28 21:45:00  271.40625"
            ]
          },
          "metadata": {
            "tags": []
          },
          "execution_count": 7
        }
      ]
    },
    {
      "cell_type": "markdown",
      "metadata": {
        "id": "xY-4Th3T4gpL",
        "colab_type": "text"
      },
      "source": [
        "### Difference between two dates in weeks – pandas dataframe python\n",
        "\n",
        "* First line calculates the difference between two dates\n",
        "* Second line converts the difference in terms of weeks (`timedelta64(1,’W’)` - `W` indicates weeks)"
      ]
    },
    {
      "cell_type": "code",
      "metadata": {
        "id": "4hVZL8UE4ciI",
        "colab_type": "code",
        "colab": {
          "base_uri": "https://localhost:8080/",
          "height": 266
        },
        "outputId": "e1e76dd2-bed8-4dfa-f8f7-a8fd2529f39e"
      },
      "source": [
        "df['diff_weeks'] = df['End_date'] - df['Start_date']\n",
        "df['diff_weeks'] = df['diff_weeks'] / np.timedelta64(1, 'W')\n",
        "\n",
        "df"
      ],
      "execution_count": 8,
      "outputs": [
        {
          "output_type": "execute_result",
          "data": {
            "text/html": [
              "<div>\n",
              "<style scoped>\n",
              "    .dataframe tbody tr th:only-of-type {\n",
              "        vertical-align: middle;\n",
              "    }\n",
              "\n",
              "    .dataframe tbody tr th {\n",
              "        vertical-align: top;\n",
              "    }\n",
              "\n",
              "    .dataframe thead th {\n",
              "        text-align: right;\n",
              "    }\n",
              "</style>\n",
              "<table border=\"1\" class=\"dataframe\">\n",
              "  <thead>\n",
              "    <tr style=\"text-align: right;\">\n",
              "      <th></th>\n",
              "      <th>Start_date</th>\n",
              "      <th>End_date</th>\n",
              "      <th>diff_days</th>\n",
              "      <th>diff_weeks</th>\n",
              "    </tr>\n",
              "  </thead>\n",
              "  <tbody>\n",
              "    <tr>\n",
              "      <th>0</th>\n",
              "      <td>2012-01-31 12:00:00</td>\n",
              "      <td>2013-03-17 21:45:00</td>\n",
              "      <td>411.40625</td>\n",
              "      <td>58.772321</td>\n",
              "    </tr>\n",
              "    <tr>\n",
              "      <th>1</th>\n",
              "      <td>2012-02-29 12:00:00</td>\n",
              "      <td>2013-03-24 21:45:00</td>\n",
              "      <td>389.40625</td>\n",
              "      <td>55.629464</td>\n",
              "    </tr>\n",
              "    <tr>\n",
              "      <th>2</th>\n",
              "      <td>2012-03-31 12:00:00</td>\n",
              "      <td>2013-03-31 21:45:00</td>\n",
              "      <td>365.40625</td>\n",
              "      <td>52.200893</td>\n",
              "    </tr>\n",
              "    <tr>\n",
              "      <th>3</th>\n",
              "      <td>2012-04-30 12:00:00</td>\n",
              "      <td>2013-04-07 21:45:00</td>\n",
              "      <td>342.40625</td>\n",
              "      <td>48.915179</td>\n",
              "    </tr>\n",
              "    <tr>\n",
              "      <th>4</th>\n",
              "      <td>2012-05-31 12:00:00</td>\n",
              "      <td>2013-04-14 21:45:00</td>\n",
              "      <td>318.40625</td>\n",
              "      <td>45.486607</td>\n",
              "    </tr>\n",
              "    <tr>\n",
              "      <th>5</th>\n",
              "      <td>2012-06-30 12:00:00</td>\n",
              "      <td>2013-04-21 21:45:00</td>\n",
              "      <td>295.40625</td>\n",
              "      <td>42.200893</td>\n",
              "    </tr>\n",
              "    <tr>\n",
              "      <th>6</th>\n",
              "      <td>2012-07-31 12:00:00</td>\n",
              "      <td>2013-04-28 21:45:00</td>\n",
              "      <td>271.40625</td>\n",
              "      <td>38.772321</td>\n",
              "    </tr>\n",
              "  </tbody>\n",
              "</table>\n",
              "</div>"
            ],
            "text/plain": [
              "           Start_date            End_date  diff_days  diff_weeks\n",
              "0 2012-01-31 12:00:00 2013-03-17 21:45:00  411.40625   58.772321\n",
              "1 2012-02-29 12:00:00 2013-03-24 21:45:00  389.40625   55.629464\n",
              "2 2012-03-31 12:00:00 2013-03-31 21:45:00  365.40625   52.200893\n",
              "3 2012-04-30 12:00:00 2013-04-07 21:45:00  342.40625   48.915179\n",
              "4 2012-05-31 12:00:00 2013-04-14 21:45:00  318.40625   45.486607\n",
              "5 2012-06-30 12:00:00 2013-04-21 21:45:00  295.40625   42.200893\n",
              "6 2012-07-31 12:00:00 2013-04-28 21:45:00  271.40625   38.772321"
            ]
          },
          "metadata": {
            "tags": []
          },
          "execution_count": 8
        }
      ]
    },
    {
      "cell_type": "markdown",
      "metadata": {
        "id": "i0hYibCo4yxz",
        "colab_type": "text"
      },
      "source": [
        "### Difference between two dates in Months – pandas dataframe python\n",
        "\n",
        "* First line calculates the difference between two dates\n",
        "* Second line converts the difference in terms of Months (`timedelta64(1,’M’)` -  capital `M` indicates Months)"
      ]
    },
    {
      "cell_type": "code",
      "metadata": {
        "id": "oBQqa5qJ412Q",
        "colab_type": "code",
        "colab": {
          "base_uri": "https://localhost:8080/",
          "height": 266
        },
        "outputId": "ae9f8f41-03eb-4688-da9e-933b8773c757"
      },
      "source": [
        "df['diff_months'] = df['End_date'] - df['Start_date']\n",
        "df['diff_months'] = df['diff_months'] / np.timedelta64(1, 'M')\n",
        "\n",
        "df"
      ],
      "execution_count": 9,
      "outputs": [
        {
          "output_type": "execute_result",
          "data": {
            "text/html": [
              "<div>\n",
              "<style scoped>\n",
              "    .dataframe tbody tr th:only-of-type {\n",
              "        vertical-align: middle;\n",
              "    }\n",
              "\n",
              "    .dataframe tbody tr th {\n",
              "        vertical-align: top;\n",
              "    }\n",
              "\n",
              "    .dataframe thead th {\n",
              "        text-align: right;\n",
              "    }\n",
              "</style>\n",
              "<table border=\"1\" class=\"dataframe\">\n",
              "  <thead>\n",
              "    <tr style=\"text-align: right;\">\n",
              "      <th></th>\n",
              "      <th>Start_date</th>\n",
              "      <th>End_date</th>\n",
              "      <th>diff_days</th>\n",
              "      <th>diff_weeks</th>\n",
              "      <th>diff_months</th>\n",
              "    </tr>\n",
              "  </thead>\n",
              "  <tbody>\n",
              "    <tr>\n",
              "      <th>0</th>\n",
              "      <td>2012-01-31 12:00:00</td>\n",
              "      <td>2013-03-17 21:45:00</td>\n",
              "      <td>411.40625</td>\n",
              "      <td>58.772321</td>\n",
              "      <td>13.516705</td>\n",
              "    </tr>\n",
              "    <tr>\n",
              "      <th>1</th>\n",
              "      <td>2012-02-29 12:00:00</td>\n",
              "      <td>2013-03-24 21:45:00</td>\n",
              "      <td>389.40625</td>\n",
              "      <td>55.629464</td>\n",
              "      <td>12.793897</td>\n",
              "    </tr>\n",
              "    <tr>\n",
              "      <th>2</th>\n",
              "      <td>2012-03-31 12:00:00</td>\n",
              "      <td>2013-03-31 21:45:00</td>\n",
              "      <td>365.40625</td>\n",
              "      <td>52.200893</td>\n",
              "      <td>12.005380</td>\n",
              "    </tr>\n",
              "    <tr>\n",
              "      <th>3</th>\n",
              "      <td>2012-04-30 12:00:00</td>\n",
              "      <td>2013-04-07 21:45:00</td>\n",
              "      <td>342.40625</td>\n",
              "      <td>48.915179</td>\n",
              "      <td>11.249718</td>\n",
              "    </tr>\n",
              "    <tr>\n",
              "      <th>4</th>\n",
              "      <td>2012-05-31 12:00:00</td>\n",
              "      <td>2013-04-14 21:45:00</td>\n",
              "      <td>318.40625</td>\n",
              "      <td>45.486607</td>\n",
              "      <td>10.461200</td>\n",
              "    </tr>\n",
              "    <tr>\n",
              "      <th>5</th>\n",
              "      <td>2012-06-30 12:00:00</td>\n",
              "      <td>2013-04-21 21:45:00</td>\n",
              "      <td>295.40625</td>\n",
              "      <td>42.200893</td>\n",
              "      <td>9.705538</td>\n",
              "    </tr>\n",
              "    <tr>\n",
              "      <th>6</th>\n",
              "      <td>2012-07-31 12:00:00</td>\n",
              "      <td>2013-04-28 21:45:00</td>\n",
              "      <td>271.40625</td>\n",
              "      <td>38.772321</td>\n",
              "      <td>8.917021</td>\n",
              "    </tr>\n",
              "  </tbody>\n",
              "</table>\n",
              "</div>"
            ],
            "text/plain": [
              "           Start_date            End_date  diff_days  diff_weeks  diff_months\n",
              "0 2012-01-31 12:00:00 2013-03-17 21:45:00  411.40625   58.772321    13.516705\n",
              "1 2012-02-29 12:00:00 2013-03-24 21:45:00  389.40625   55.629464    12.793897\n",
              "2 2012-03-31 12:00:00 2013-03-31 21:45:00  365.40625   52.200893    12.005380\n",
              "3 2012-04-30 12:00:00 2013-04-07 21:45:00  342.40625   48.915179    11.249718\n",
              "4 2012-05-31 12:00:00 2013-04-14 21:45:00  318.40625   45.486607    10.461200\n",
              "5 2012-06-30 12:00:00 2013-04-21 21:45:00  295.40625   42.200893     9.705538\n",
              "6 2012-07-31 12:00:00 2013-04-28 21:45:00  271.40625   38.772321     8.917021"
            ]
          },
          "metadata": {
            "tags": []
          },
          "execution_count": 9
        }
      ]
    },
    {
      "cell_type": "markdown",
      "metadata": {
        "id": "ZJGrUjqm4-sh",
        "colab_type": "text"
      },
      "source": [
        "### Difference between two dates in Years – pandas dataframe python\n",
        "\n",
        "* First line calculates the difference between two dates\n",
        "* Second line converts the difference in terms of Years (`timedelta64(1,’Y’)` - `Y` indicates years)"
      ]
    },
    {
      "cell_type": "code",
      "metadata": {
        "id": "YHpzDsUJ47C3",
        "colab_type": "code",
        "colab": {
          "base_uri": "https://localhost:8080/",
          "height": 266
        },
        "outputId": "1c147d37-4302-4e9d-e745-1c39f0cbb2d7"
      },
      "source": [
        "df['diff_years'] = df['End_date'] - df['Start_date']\n",
        "df['diff_years'] = df['diff_years'] / np.timedelta64(1, 'Y')\n",
        "\n",
        "df"
      ],
      "execution_count": 10,
      "outputs": [
        {
          "output_type": "execute_result",
          "data": {
            "text/html": [
              "<div>\n",
              "<style scoped>\n",
              "    .dataframe tbody tr th:only-of-type {\n",
              "        vertical-align: middle;\n",
              "    }\n",
              "\n",
              "    .dataframe tbody tr th {\n",
              "        vertical-align: top;\n",
              "    }\n",
              "\n",
              "    .dataframe thead th {\n",
              "        text-align: right;\n",
              "    }\n",
              "</style>\n",
              "<table border=\"1\" class=\"dataframe\">\n",
              "  <thead>\n",
              "    <tr style=\"text-align: right;\">\n",
              "      <th></th>\n",
              "      <th>Start_date</th>\n",
              "      <th>End_date</th>\n",
              "      <th>diff_days</th>\n",
              "      <th>diff_weeks</th>\n",
              "      <th>diff_months</th>\n",
              "      <th>diff_years</th>\n",
              "    </tr>\n",
              "  </thead>\n",
              "  <tbody>\n",
              "    <tr>\n",
              "      <th>0</th>\n",
              "      <td>2012-01-31 12:00:00</td>\n",
              "      <td>2013-03-17 21:45:00</td>\n",
              "      <td>411.40625</td>\n",
              "      <td>58.772321</td>\n",
              "      <td>13.516705</td>\n",
              "      <td>1.126392</td>\n",
              "    </tr>\n",
              "    <tr>\n",
              "      <th>1</th>\n",
              "      <td>2012-02-29 12:00:00</td>\n",
              "      <td>2013-03-24 21:45:00</td>\n",
              "      <td>389.40625</td>\n",
              "      <td>55.629464</td>\n",
              "      <td>12.793897</td>\n",
              "      <td>1.066158</td>\n",
              "    </tr>\n",
              "    <tr>\n",
              "      <th>2</th>\n",
              "      <td>2012-03-31 12:00:00</td>\n",
              "      <td>2013-03-31 21:45:00</td>\n",
              "      <td>365.40625</td>\n",
              "      <td>52.200893</td>\n",
              "      <td>12.005380</td>\n",
              "      <td>1.000448</td>\n",
              "    </tr>\n",
              "    <tr>\n",
              "      <th>3</th>\n",
              "      <td>2012-04-30 12:00:00</td>\n",
              "      <td>2013-04-07 21:45:00</td>\n",
              "      <td>342.40625</td>\n",
              "      <td>48.915179</td>\n",
              "      <td>11.249718</td>\n",
              "      <td>0.937476</td>\n",
              "    </tr>\n",
              "    <tr>\n",
              "      <th>4</th>\n",
              "      <td>2012-05-31 12:00:00</td>\n",
              "      <td>2013-04-14 21:45:00</td>\n",
              "      <td>318.40625</td>\n",
              "      <td>45.486607</td>\n",
              "      <td>10.461200</td>\n",
              "      <td>0.871767</td>\n",
              "    </tr>\n",
              "    <tr>\n",
              "      <th>5</th>\n",
              "      <td>2012-06-30 12:00:00</td>\n",
              "      <td>2013-04-21 21:45:00</td>\n",
              "      <td>295.40625</td>\n",
              "      <td>42.200893</td>\n",
              "      <td>9.705538</td>\n",
              "      <td>0.808795</td>\n",
              "    </tr>\n",
              "    <tr>\n",
              "      <th>6</th>\n",
              "      <td>2012-07-31 12:00:00</td>\n",
              "      <td>2013-04-28 21:45:00</td>\n",
              "      <td>271.40625</td>\n",
              "      <td>38.772321</td>\n",
              "      <td>8.917021</td>\n",
              "      <td>0.743085</td>\n",
              "    </tr>\n",
              "  </tbody>\n",
              "</table>\n",
              "</div>"
            ],
            "text/plain": [
              "           Start_date            End_date  ...  diff_months  diff_years\n",
              "0 2012-01-31 12:00:00 2013-03-17 21:45:00  ...    13.516705    1.126392\n",
              "1 2012-02-29 12:00:00 2013-03-24 21:45:00  ...    12.793897    1.066158\n",
              "2 2012-03-31 12:00:00 2013-03-31 21:45:00  ...    12.005380    1.000448\n",
              "3 2012-04-30 12:00:00 2013-04-07 21:45:00  ...    11.249718    0.937476\n",
              "4 2012-05-31 12:00:00 2013-04-14 21:45:00  ...    10.461200    0.871767\n",
              "5 2012-06-30 12:00:00 2013-04-21 21:45:00  ...     9.705538    0.808795\n",
              "6 2012-07-31 12:00:00 2013-04-28 21:45:00  ...     8.917021    0.743085\n",
              "\n",
              "[7 rows x 6 columns]"
            ]
          },
          "metadata": {
            "tags": []
          },
          "execution_count": 10
        }
      ]
    },
    {
      "cell_type": "code",
      "metadata": {
        "id": "xTwkD6OB5E3D",
        "colab_type": "code",
        "colab": {}
      },
      "source": [
        ""
      ],
      "execution_count": 0,
      "outputs": []
    }
  ]
}