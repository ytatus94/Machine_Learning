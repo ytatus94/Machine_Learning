{
  "nbformat": 4,
  "nbformat_minor": 0,
  "metadata": {
    "colab": {
      "name": "What_metrics_should_be_used_for_evaluating_a_model_on_an_imbalanced_data_set.ipynb",
      "version": "0.3.2",
      "provenance": [],
      "collapsed_sections": []
    },
    "kernelspec": {
      "name": "python3",
      "display_name": "Python 3"
    }
  },
  "cells": [
    {
      "cell_type": "markdown",
      "metadata": {
        "id": "WmhnPzDfI7q7",
        "colab_type": "text"
      },
      "source": [
        "# What metrics should be used for evaluating a model on an imbalanced data set"
      ]
    },
    {
      "cell_type": "markdown",
      "metadata": {
        "id": "lyarpZSnI7dd",
        "colab_type": "text"
      },
      "source": [
        "### Source\n",
        "https://towardsdatascience.com/what-metrics-should-we-use-on-imbalanced-data-set-precision-recall-roc-e2e79252aeba"
      ]
    },
    {
      "cell_type": "markdown",
      "metadata": {
        "id": "nrXSIJt7JJcE",
        "colab_type": "text"
      },
      "source": [
        "**TPR (True Positive Rate) = # True positives / # positives = Recall = TP / (TP + FN)**\n",
        "\n",
        "**FPR (False Positive Rate) = # False positives / # negatives = FP / (FP + TN)**\n",
        "\n",
        "**Precision = # True positives / # predicted positive = TP / (TP + FP)**\n",
        "\n",
        "**Recall = # True positives / # positives = TP / (TP + FN)**\n",
        "\n",
        "* Precision is measuring the probability of correct detection of positive values\n",
        "* FPR and TPR (ROC metrics) measure the ability to distinguish between the classes"
      ]
    },
    {
      "cell_type": "code",
      "metadata": {
        "id": "kPFnjp63I2d5",
        "colab_type": "code",
        "colab": {}
      },
      "source": [
        "import numpy as np\n",
        "from matplotlib import pyplot as plt\n",
        "from sklearn.svm import LinearSVC\n",
        "from sklearn.metrics import precision_score, recall_score, roc_curve"
      ],
      "execution_count": 0,
      "outputs": []
    },
    {
      "cell_type": "code",
      "metadata": {
        "id": "gHGZ2eb9JbvG",
        "colab_type": "code",
        "colab": {}
      },
      "source": [
        "def plot_model_boundaries(model, xmin=0, xmax=1.5, ymin=0, ymax=1.5, npoints=40):\n",
        "    xx = np.linspace(xmin, xmax, npoints)\n",
        "    yy = np.linspace(ymin, ymax, npoints)\n",
        "    xv, yv = np.meshgrid(xx, yy) # 把 xx, yy 的值組成格點座標 (xv, yv)\n",
        "    xv, yv = xv.flatten(), yv.flatten()\n",
        "    labels = model.predict(np.c_[xv, yv])\n",
        "    plt.scatter(xv[labels==1], yv[labels==1], color='r', alpha=0.02, marker='o', s=300)\n",
        "    plt.scatter(xv[labels==0], yv[labels==0], color='b', alpha=0.02, marker='o', s=300)\n",
        "    plt.ylim([xmin, xmax])\n",
        "    plt.xlim([ymin, ymax])"
      ],
      "execution_count": 0,
      "outputs": []
    },
    {
      "cell_type": "code",
      "metadata": {
        "id": "qv462UVWJdgL",
        "colab_type": "code",
        "colab": {}
      },
      "source": [
        "np.random.seed(1)"
      ],
      "execution_count": 0,
      "outputs": []
    },
    {
      "cell_type": "markdown",
      "metadata": {
        "id": "FeZIaKiSJjvN",
        "colab_type": "text"
      },
      "source": [
        "* `np.zeros((m, n))` 產生 $m \\times n$ 的 0 矩陣\n",
        "* `np.random.rand(m, n)` 產生 $m \\times n$ 的矩陣，矩陣元素的值的範圍是 0~1\n",
        "* `np.concatenate(A, B)` 把兩矩陣一垂直方向疊放在一起"
      ]
    },
    {
      "cell_type": "markdown",
      "metadata": {
        "id": "xxNI2bbhJxlN",
        "colab_type": "text"
      },
      "source": [
        "### Example:\n",
        "* 真實: 9 正 1 負\n",
        "* 預測: 9 正 1 負\n",
        "\n",
        "TP = 9, FN = 0, FP = 0, TN = 1\n",
        "\n",
        "FPR = FP/(FP + TN) = 0/1 = 0\n",
        "\n",
        "TPR = TP/(TP + FN) = 9/9 = 1\n",
        "\n",
        "Precision = TP/(TP + FP) = 9/9 = 1\n",
        "\n",
        "Recall = TP/(TP + FN) = 9/9 = 1"
      ]
    },
    {
      "cell_type": "code",
      "metadata": {
        "id": "oeX0SgCEJgAq",
        "colab_type": "code",
        "colab": {
          "base_uri": "https://localhost:8080/",
          "height": 204
        },
        "outputId": "10d6d9ea-40c5-43a0-cd0b-404db7a3c3b1"
      },
      "source": [
        "x = np.concatenate([np.zeros((8, 2)), np.zeros((1, 2)), np.zeros((1, 2))]) + 0.8 * np.random.rand(10, 2)\n",
        "x[-1, 0] += 1\n",
        "x[-1, -1] += 1\n",
        "y = np.concatenate([np.ones(9), np.zeros(1)])\n",
        "print('x=', x)\n",
        "print('y=', y)"
      ],
      "execution_count": 4,
      "outputs": [
        {
          "output_type": "stream",
          "text": [
            "x= [[3.33617604e-01 5.76259595e-01]\n",
            " [9.14998539e-05 2.41866058e-01]\n",
            " [1.17404713e-01 7.38708758e-02]\n",
            " [1.49008169e-01 2.76448582e-01]\n",
            " [3.17413979e-01 4.31053387e-01]\n",
            " [3.35355612e-01 5.48175600e-01]\n",
            " [1.63561800e-01 7.02493949e-01]\n",
            " [2.19100746e-02 5.36374008e-01]\n",
            " [3.33843842e-01 4.46951863e-01]\n",
            " [1.11230955e+00 1.15848119e+00]]\n",
            "y= [1. 1. 1. 1. 1. 1. 1. 1. 1. 0.]\n"
          ],
          "name": "stdout"
        }
      ]
    },
    {
      "cell_type": "code",
      "metadata": {
        "id": "KBtgAz4qJ4eA",
        "colab_type": "code",
        "colab": {
          "base_uri": "https://localhost:8080/",
          "height": 34
        },
        "outputId": "2c3b7510-b34a-4d78-e212-cd7554d73717"
      },
      "source": [
        "model = LinearSVC()\n",
        "model.fit(x, y)\n",
        "predicted_labels = model.predict(x)\n",
        "print('prediction=', predicted_labels)"
      ],
      "execution_count": 5,
      "outputs": [
        {
          "output_type": "stream",
          "text": [
            "prediction= [1. 1. 1. 1. 1. 1. 1. 1. 1. 0.]\n"
          ],
          "name": "stdout"
        }
      ]
    },
    {
      "cell_type": "code",
      "metadata": {
        "id": "ARsZG_MjJ6RR",
        "colab_type": "code",
        "colab": {
          "base_uri": "https://localhost:8080/",
          "height": 332
        },
        "outputId": "a6995a54-bdef-4de3-a2e1-8e18e607d3e8"
      },
      "source": [
        "plot_model_boundaries(model, xmin=0, xmax=1.5, ymin=0, ymax=1.5)\n",
        "plt.scatter(x[y==0, 0], x[y==0, 1], color='b')\n",
        "plt.scatter(x[y==1, 0], x[y==1, 1], color='r')\n",
        "\n",
        "fpr, tpr, thresholds = roc_curve(y, predicted_labels)\n",
        "print('fpr=', fpr)\n",
        "print('tpr=', tpr)\n",
        "print('thresholds=', thresholds)\n",
        "\n",
        "plt.title('precision = {}, recall = {}, fpr = {}, tpr = {}'.format(precision_score(y, predicted_labels), \n",
        "                                                                   recall_score(y, predicted_labels), \n",
        "                                                                   fpr[1], \n",
        "                                                                   tpr[1]))\n",
        "plt.show()"
      ],
      "execution_count": 10,
      "outputs": [
        {
          "output_type": "stream",
          "text": [
            "fpr= [0. 0. 1.]\n",
            "tpr= [0. 1. 1.]\n",
            "thresholds= [2. 1. 0.]\n"
          ],
          "name": "stdout"
        },
        {
          "output_type": "display_data",
          "data": {
            "image/png": "[encoded data removed]",
            "text/plain": [
              "<Figure size 432x288 with 1 Axes>"
            ]
          },
          "metadata": {
            "tags": []
          }
        }
      ]
    },
    {
      "cell_type": "markdown",
      "metadata": {
        "id": "5mVoJ7hAKMLM",
        "colab_type": "text"
      },
      "source": [
        "### Example: 大部分都是 positive sample 的情況\n",
        "* 全部的 true positive 都判斷正確，然後還有一些 false positive 時\n",
        "* 使用 ROC 會比較好\n",
        "* 真實:  9 正 1 負\n",
        "* 預測: 10 正 0 負\n",
        "\n",
        "TP = 9, FN = 0, FP = 1, TN = 0\n",
        "\n",
        "FPR = FP/(FP + TN) = 1/1 = 1 (FPR 太高 --> 不是好的 classifier)\n",
        "\n",
        "TPR = TP/(TP + FN) = 9/9 = 1\n",
        "\n",
        "Precision = TP/(TP + FP) = 9/10 = 0.9\n",
        "\n",
        "Recall = TP/(TP + FN) = 9/9 = 1"
      ]
    },
    {
      "cell_type": "code",
      "metadata": {
        "id": "WMXvjtGJJ76r",
        "colab_type": "code",
        "colab": {
          "base_uri": "https://localhost:8080/",
          "height": 204
        },
        "outputId": "948a002d-1893-46b4-82c0-e2e7b8d5b210"
      },
      "source": [
        "np.random.seed(1)\n",
        "x = np.concatenate([np.zeros((8, 2)), np.zeros((1,2)), np.zeros((1,2))]) + 1.2*np.random.rand(10,2)\n",
        "x[-1,0]+=1\n",
        "x[-1,-1]+=1\n",
        "y = np.concatenate([np.ones(9), np.zeros(1)])\n",
        "print('x=', x)\n",
        "print('y=', y)"
      ],
      "execution_count": 11,
      "outputs": [
        {
          "output_type": "stream",
          "text": [
            "x= [[5.00426406e-01 8.64389392e-01]\n",
            " [1.37249781e-04 3.62799087e-01]\n",
            " [1.76107069e-01 1.10806314e-01]\n",
            " [2.23512254e-01 4.14672872e-01]\n",
            " [4.76120969e-01 6.46580081e-01]\n",
            " [5.03033417e-01 8.22263400e-01]\n",
            " [2.45342700e-01 1.05374092e+00]\n",
            " [3.28651118e-02 8.04561012e-01]\n",
            " [5.00765763e-01 6.70427794e-01]\n",
            " [1.16846433e+00 1.23772179e+00]]\n",
            "y= [1. 1. 1. 1. 1. 1. 1. 1. 1. 0.]\n"
          ],
          "name": "stdout"
        }
      ]
    },
    {
      "cell_type": "code",
      "metadata": {
        "id": "0dTEVmdIJ-yk",
        "colab_type": "code",
        "colab": {
          "base_uri": "https://localhost:8080/",
          "height": 34
        },
        "outputId": "016bbb64-cb3a-4b2f-dc95-46a42b826d08"
      },
      "source": [
        "model = LinearSVC()\n",
        "model.fit(x,y)\n",
        "predicted_labels = model.predict(x)\n",
        "print('prediction=', predicted_labels)"
      ],
      "execution_count": 12,
      "outputs": [
        {
          "output_type": "stream",
          "text": [
            "prediction= [1. 1. 1. 1. 1. 1. 1. 1. 1. 1.]\n"
          ],
          "name": "stdout"
        }
      ]
    },
    {
      "cell_type": "code",
      "metadata": {
        "id": "AQBqNqdDKE_2",
        "colab_type": "code",
        "colab": {
          "base_uri": "https://localhost:8080/",
          "height": 332
        },
        "outputId": "fb9d390f-8cb4-43de-f0f3-e97ae5430cd2"
      },
      "source": [
        "plot_model_boundaries(model, xmin=0, xmax=1.5, ymin=0, ymax=1.5)\n",
        "plt.scatter(x[y==0,0],x[y==0,1], color='b')\n",
        "plt.scatter(x[y==1,0],x[y==1,1], color='r')\n",
        "fpr, tpr, thresholds = roc_curve(y, predicted_labels)\n",
        "print('fpr=', fpr)\n",
        "print('tpr=', tpr)\n",
        "print('thresholds=', thresholds)\n",
        "\n",
        "plt.title(\"precision = {}, recall = {}, fpr = {}, tpr = {}\".format(precision_score(y, predicted_labels),\n",
        "                                                                   recall_score(y, predicted_labels),\n",
        "                                                                   fpr[1],\n",
        "                                                                   tpr[1]))\n",
        "plt.show()"
      ],
      "execution_count": 13,
      "outputs": [
        {
          "output_type": "stream",
          "text": [
            "fpr= [0. 1.]\n",
            "tpr= [0. 1.]\n",
            "thresholds= [2. 1.]\n"
          ],
          "name": "stdout"
        },
        {
          "output_type": "display_data",
          "data": {
            "image/png": "[encoded data removed]",
            "text/plain": [
              "<Figure size 432x288 with 1 Axes>"
            ]
          },
          "metadata": {
            "tags": []
          }
        }
      ]
    },
    {
      "cell_type": "markdown",
      "metadata": {
        "id": "Nru5ugfxKbaG",
        "colab_type": "text"
      },
      "source": [
        "### Example: 大部分都是 negative 的時候\n",
        "* 沒有偵測到任何的 positive\n",
        "* 真實:  1 正 9 負\n",
        "* 預測: 0 正 10 負\n",
        "\n",
        "TP = 0, FN = 1, FP = 0, TN = 9\n",
        "\n",
        "FPR = FP/(FP + TN) = 0/9 = 0\n",
        "\n",
        "TPR = TP/(TP + FN) = 0/1 = 0\n",
        "\n",
        "Precision = TP/(TP + FP) = 0/0 (X)\n",
        "\n",
        "Recall = TP/(TP + FN) = 0/1 = 0"
      ]
    },
    {
      "cell_type": "code",
      "metadata": {
        "id": "GjCSbszLKZEL",
        "colab_type": "code",
        "colab": {
          "base_uri": "https://localhost:8080/",
          "height": 204
        },
        "outputId": "4d4a45ef-8954-4cd2-fb00-750b38c40e9d"
      },
      "source": [
        "np.random.seed(1)\n",
        "x = np.concatenate([np.zeros((8, 2)), np.zeros((1,2)), np.zeros((1,2))]) + 1.2*np.random.rand(10,2)\n",
        "x[-1,0]+=1\n",
        "x[-1,-1]+=1\n",
        "y = np.concatenate([np.zeros(9), np.ones(1)])\n",
        "print('x=', x)\n",
        "print('y=', y)"
      ],
      "execution_count": 14,
      "outputs": [
        {
          "output_type": "stream",
          "text": [
            "x= [[5.00426406e-01 8.64389392e-01]\n",
            " [1.37249781e-04 3.62799087e-01]\n",
            " [1.76107069e-01 1.10806314e-01]\n",
            " [2.23512254e-01 4.14672872e-01]\n",
            " [4.76120969e-01 6.46580081e-01]\n",
            " [5.03033417e-01 8.22263400e-01]\n",
            " [2.45342700e-01 1.05374092e+00]\n",
            " [3.28651118e-02 8.04561012e-01]\n",
            " [5.00765763e-01 6.70427794e-01]\n",
            " [1.16846433e+00 1.23772179e+00]]\n",
            "y= [0. 0. 0. 0. 0. 0. 0. 0. 0. 1.]\n"
          ],
          "name": "stdout"
        }
      ]
    },
    {
      "cell_type": "code",
      "metadata": {
        "id": "-F8NbIYKKjYh",
        "colab_type": "code",
        "colab": {
          "base_uri": "https://localhost:8080/",
          "height": 34
        },
        "outputId": "0c0a6d9e-ea91-410e-f427-ce6532d40d4c"
      },
      "source": [
        "model = LinearSVC()\n",
        "model.fit(x,y)\n",
        "predicted_labels = model.predict(x)\n",
        "print('prediction=', predicted_labels)"
      ],
      "execution_count": 15,
      "outputs": [
        {
          "output_type": "stream",
          "text": [
            "prediction= [0. 0. 0. 0. 0. 0. 0. 0. 0. 0.]\n"
          ],
          "name": "stdout"
        }
      ]
    },
    {
      "cell_type": "code",
      "metadata": {
        "id": "YtnPdkluKkqS",
        "colab_type": "code",
        "colab": {
          "base_uri": "https://localhost:8080/",
          "height": 386
        },
        "outputId": "3b4daf36-1354-4fa0-dd3d-a7bbb9324681"
      },
      "source": [
        "plot_model_boundaries(model, xmin=0, xmax=1.5, ymin=0, ymax=1.5)\n",
        "plt.scatter(x[y==0,0],x[y==0,1], color='b')\n",
        "plt.scatter(x[y==1,0],x[y==1,1], color='r')\n",
        "fpr, tpr, thresholds = roc_curve(y, predicted_labels)\n",
        "print('fpr=', fpr)\n",
        "print('tpr=', tpr)\n",
        "print('thresholds=', thresholds)\n",
        "\n",
        "plt.title(\"precision = {}, recall = {}, fpr = {}, tpr = {}\".format(precision_score(y, predicted_labels),\n",
        "                                                                   recall_score(y, predicted_labels),\n",
        "                                                                   fpr[0], \n",
        "                                                                   tpr[0]))\n",
        "plt.show()"
      ],
      "execution_count": 16,
      "outputs": [
        {
          "output_type": "stream",
          "text": [
            "fpr= [0. 1.]\n",
            "tpr= [0. 1.]\n",
            "thresholds= [1. 0.]\n"
          ],
          "name": "stdout"
        },
        {
          "output_type": "stream",
          "text": [
            "/usr/local/lib/python3.6/dist-packages/sklearn/metrics/classification.py:1437: UndefinedMetricWarning: Precision is ill-defined and being set to 0.0 due to no predicted samples.\n",
            "  'precision', 'predicted', average, warn_for)\n"
          ],
          "name": "stderr"
        },
        {
          "output_type": "display_data",
          "data": {
            "image/png": "[encoded data removed]",
            "text/plain": [
              "<Figure size 432x288 with 1 Axes>"
            ]
          },
          "metadata": {
            "tags": []
          }
        }
      ]
    },
    {
      "cell_type": "markdown",
      "metadata": {
        "id": "i9pL0liCKsGt",
        "colab_type": "text"
      },
      "source": [
        "### Example: 大部分是 positive\n",
        "* 全部的 true positive 都判斷正確，然後還有一些 false positive 時\n",
        "* 使用 ROC 會比較好\n",
        "* 真實: 8 正 2 負\n",
        "* 預測: 9 正 1 負\n",
        "\n",
        "TP = 8, FN = 0, FP = 1, TN = 1\n",
        "\n",
        "FPR = FP/(FP + TN) = 1/2 = 0.5\n",
        "\n",
        "TPR = TP/(TP + FN) = 8/8 = 1\n",
        "\n",
        "Precision = TP/(TP + FP) = 8/9 = 0.89\n",
        "\n",
        "Recall = TP/(TP + FN) = 8/8 = 1"
      ]
    },
    {
      "cell_type": "code",
      "metadata": {
        "id": "oVREqSeMKmJB",
        "colab_type": "code",
        "colab": {
          "base_uri": "https://localhost:8080/",
          "height": 204
        },
        "outputId": "0809d94e-8f77-4ce7-f543-d5f0e3299770"
      },
      "source": [
        "np.random.seed(1)\n",
        "x = np.concatenate([np.zeros((8, 2)), np.zeros((1,2)), np.zeros((1,2))]) + 0.9*np.random.rand(10,2)\n",
        "x[-1,0]+=1\n",
        "x[-1,-1]+=1\n",
        "y = np.concatenate([np.zeros(1), np.ones(8), np.zeros(1)])\n",
        "print('x=', x)\n",
        "print('y=', y)"
      ],
      "execution_count": 17,
      "outputs": [
        {
          "output_type": "stream",
          "text": [
            "x= [[3.75319804e-01 6.48292044e-01]\n",
            " [1.02937336e-04 2.72099315e-01]\n",
            " [1.32080302e-01 8.31047353e-02]\n",
            " [1.67634190e-01 3.11004654e-01]\n",
            " [3.57090727e-01 4.84935061e-01]\n",
            " [3.77275063e-01 6.16697550e-01]\n",
            " [1.84007025e-01 7.90305693e-01]\n",
            " [2.46488339e-02 6.03420759e-01]\n",
            " [3.75574322e-01 5.02820846e-01]\n",
            " [1.12634824e+00 1.17829134e+00]]\n",
            "y= [0. 1. 1. 1. 1. 1. 1. 1. 1. 0.]\n"
          ],
          "name": "stdout"
        }
      ]
    },
    {
      "cell_type": "code",
      "metadata": {
        "id": "6559bxcwKz7s",
        "colab_type": "code",
        "colab": {
          "base_uri": "https://localhost:8080/",
          "height": 34
        },
        "outputId": "7a03eabc-3227-4de7-c34f-63b88da3757e"
      },
      "source": [
        "model = LinearSVC()\n",
        "model.fit(x,y)\n",
        "predicted_labels = model.predict(x)\n",
        "print('prediction=', predicted_labels)"
      ],
      "execution_count": 18,
      "outputs": [
        {
          "output_type": "stream",
          "text": [
            "prediction= [1. 1. 1. 1. 1. 1. 1. 1. 1. 0.]\n"
          ],
          "name": "stdout"
        }
      ]
    },
    {
      "cell_type": "code",
      "metadata": {
        "id": "JhRl9wC9K1FN",
        "colab_type": "code",
        "colab": {
          "base_uri": "https://localhost:8080/",
          "height": 332
        },
        "outputId": "fe3e9f71-813c-4f8b-fbb8-28cf62e2844a"
      },
      "source": [
        "plot_model_boundaries(model, xmin=0, xmax=2, ymin=0, ymax=2)\n",
        "plt.scatter(x[y==0,0],x[y==0,1], color='b')\n",
        "plt.scatter(x[y==1,0],x[y==1,1], color='r')\n",
        "fpr, tpr, thresholds = roc_curve(y, predicted_labels)\n",
        "print('fpr=', fpr)\n",
        "print('tpr=', tpr)\n",
        "print('thresholds=', thresholds)\n",
        "\n",
        "plt.title(\"precision = {:.2f}, recall = {}, fpr = {}, tpr = {}\".format(precision_score(y, predicted_labels),\n",
        "                                                                       recall_score(y, predicted_labels),\n",
        "                                                                       fpr[1], \n",
        "                                                                       tpr[1]))\n",
        "plt.show()"
      ],
      "execution_count": 19,
      "outputs": [
        {
          "output_type": "stream",
          "text": [
            "fpr= [0.  0.5 1. ]\n",
            "tpr= [0. 1. 1.]\n",
            "thresholds= [2. 1. 0.]\n"
          ],
          "name": "stdout"
        },
        {
          "output_type": "display_data",
          "data": {
            "image/png": "[encoded data removed]",
            "text/plain": [
              "<Figure size 432x288 with 1 Axes>"
            ]
          },
          "metadata": {
            "tags": []
          }
        }
      ]
    },
    {
      "cell_type": "markdown",
      "metadata": {
        "id": "FDi1oAztK4pS",
        "colab_type": "text"
      },
      "source": [
        "### Example: 大部分是 negative\n",
        "* 用 ROC 或是 precision 和 recall 效果差不多\n",
        "* 真實: 2 正 8 負\n",
        "* 預測: 1 正 9 負\n",
        "\n",
        "TP = 1, FN = 1, FP = 0, TN = 8\n",
        "\n",
        "FPR = FP/(FP + TN) = 0/8 = 0\n",
        "\n",
        "TPR = TP/(TP + FN) = 1/2 = 0.5\n",
        "\n",
        "Precision = TP/(TP + FP) = 1/1 = 1\n",
        "\n",
        "Recall = TP/(TP + FN) = 1/2 = 0.5"
      ]
    },
    {
      "cell_type": "code",
      "metadata": {
        "id": "bR8vOPjAK2YU",
        "colab_type": "code",
        "colab": {
          "base_uri": "https://localhost:8080/",
          "height": 204
        },
        "outputId": "cdefd9f7-ee93-4ab5-fa1f-a40a6729311b"
      },
      "source": [
        "x = np.concatenate([np.zeros((8, 2)), np.zeros((1,2)), np.zeros((1,2))]) + 0.9*np.random.rand(10,2)\n",
        "x[-1,0]+=1\n",
        "x[-1,-1]+=1\n",
        "y = np.concatenate([np.ones(1), np.zeros(8), np.ones(1)])\n",
        "print('x=', x)\n",
        "print('y=', y)"
      ],
      "execution_count": 20,
      "outputs": [
        {
          "output_type": "stream",
          "text": [
            "x= [[0.64437346 0.72248175]\n",
            " [0.08352073 0.46633729]\n",
            " [0.77851823 0.74623222]\n",
            " [0.74664302 0.24574498]\n",
            " [0.05331888 0.60347524]\n",
            " [0.53375897 0.60448869]\n",
            " [0.37060909 0.17779581]\n",
            " [0.26066668 0.12790812]\n",
            " [0.70498303 0.37128496]\n",
            " [1.03075418 1.56162699]]\n",
            "y= [1. 0. 0. 0. 0. 0. 0. 0. 0. 1.]\n"
          ],
          "name": "stdout"
        }
      ]
    },
    {
      "cell_type": "code",
      "metadata": {
        "id": "dCTV-628K9v7",
        "colab_type": "code",
        "colab": {
          "base_uri": "https://localhost:8080/",
          "height": 34
        },
        "outputId": "72386e51-001b-4649-fde1-303a946100a0"
      },
      "source": [
        "model = LinearSVC()\n",
        "model.fit(x,y)\n",
        "predicted_labels = model.predict(x)\n",
        "print('prediction=', predicted_labels)"
      ],
      "execution_count": 21,
      "outputs": [
        {
          "output_type": "stream",
          "text": [
            "prediction= [0. 0. 0. 0. 0. 0. 0. 0. 0. 1.]\n"
          ],
          "name": "stdout"
        }
      ]
    },
    {
      "cell_type": "code",
      "metadata": {
        "id": "y-f4q-7sK_Bs",
        "colab_type": "code",
        "colab": {
          "base_uri": "https://localhost:8080/",
          "height": 332
        },
        "outputId": "2d061dd9-c646-472e-f94e-9855826fdbd6"
      },
      "source": [
        "plot_model_boundaries(model, xmin=0, xmax=2, ymin=0, ymax=2)\n",
        "plt.scatter(x[y==0,0],x[y==0,1], color='b')\n",
        "plt.scatter(x[y==1,0],x[y==1,1], color='r')\n",
        "fpr, tpr, thresholds = roc_curve(y, predicted_labels)\n",
        "print('fpr=', fpr)\n",
        "print('tpr=', tpr)\n",
        "print('thresholds=', thresholds)\n",
        "\n",
        "plt.title(\"precision = {:.2f}, recall = {}, fpr = {}, tpr = {}\".format(precision_score(y, predicted_labels),\n",
        "                                                                       recall_score(y, predicted_labels),\n",
        "                                                                       fpr[1], \n",
        "                                                                       tpr[1]))\n",
        "plt.show()"
      ],
      "execution_count": 22,
      "outputs": [
        {
          "output_type": "stream",
          "text": [
            "fpr= [0. 0. 1.]\n",
            "tpr= [0.  0.5 1. ]\n",
            "thresholds= [2. 1. 0.]\n"
          ],
          "name": "stdout"
        },
        {
          "output_type": "display_data",
          "data": {
            "image/png": "[encoded data removed]",
            "text/plain": [
              "<Figure size 432x288 with 1 Axes>"
            ]
          },
          "metadata": {
            "tags": []
          }
        }
      ]
    },
    {
      "cell_type": "markdown",
      "metadata": {
        "id": "gjafWYv8LCft",
        "colab_type": "text"
      },
      "source": [
        "### Example: 大部分是 positive\n",
        "* 不是全部的 positive 都被找到\n",
        "* 用 ROC 或是 precision 和 recall 效果差不多\n",
        "* 真實: 9 正 1 負\n",
        "* 預測: 7 正 3 負\n",
        "\n",
        "TP = 7, FN = 2, FP = 0, TN = 1\n",
        "\n",
        "FPR = FP/(FP + TN) = 0/1 = 0\n",
        "\n",
        "TPR = TP/(TP + FN) = 7/9 = 0.78\n",
        "\n",
        "Precision = TP/(TP + FP) = 7/7 = 1\n",
        "\n",
        "Recall = TP/(TP + FN) = 7/9 = 0.78"
      ]
    },
    {
      "cell_type": "code",
      "metadata": {
        "id": "NJ179LjELAfL",
        "colab_type": "code",
        "colab": {
          "base_uri": "https://localhost:8080/",
          "height": 204
        },
        "outputId": "e39a931b-632c-43db-9c30-a9510f36e16d"
      },
      "source": [
        "np.random.seed(1)\n",
        "x = np.concatenate([np.zeros((8, 2)), np.zeros((1,2)), np.zeros((1,2))]) + 0.9*np.random.rand(10,2)\n",
        "x[-1,0]+=1\n",
        "x[-1,-1]+=1\n",
        "x[-2,0]+=0.8\n",
        "x[-2,-1]+=0.8\n",
        "x[-3,0]+=0.8\n",
        "x[-3,-1]+=0.8\n",
        "y = np.concatenate([np.zeros(7), np.ones(3)])\n",
        "print('x=', x)\n",
        "print('y=', y)"
      ],
      "execution_count": 23,
      "outputs": [
        {
          "output_type": "stream",
          "text": [
            "x= [[3.75319804e-01 6.48292044e-01]\n",
            " [1.02937336e-04 2.72099315e-01]\n",
            " [1.32080302e-01 8.31047353e-02]\n",
            " [1.67634190e-01 3.11004654e-01]\n",
            " [3.57090727e-01 4.84935061e-01]\n",
            " [3.77275063e-01 6.16697550e-01]\n",
            " [1.84007025e-01 7.90305693e-01]\n",
            " [8.24648834e-01 1.40342076e+00]\n",
            " [1.17557432e+00 1.30282085e+00]\n",
            " [1.12634824e+00 1.17829134e+00]]\n",
            "y= [0. 0. 0. 0. 0. 0. 0. 1. 1. 1.]\n"
          ],
          "name": "stdout"
        }
      ]
    },
    {
      "cell_type": "code",
      "metadata": {
        "id": "mp9duwFlLJwf",
        "colab_type": "code",
        "colab": {
          "base_uri": "https://localhost:8080/",
          "height": 34
        },
        "outputId": "4e958efe-60b5-478e-c6bd-97be62346489"
      },
      "source": [
        "y = 1-y\n",
        "model = LinearSVC()\n",
        "model.fit(x,y)\n",
        "y = np.concatenate([np.zeros(9), np.ones(1)])\n",
        "y = 1-y\n",
        "predicted_labels = model.predict(x)\n",
        "print('prediction=', predicted_labels)"
      ],
      "execution_count": 24,
      "outputs": [
        {
          "output_type": "stream",
          "text": [
            "prediction= [1. 1. 1. 1. 1. 1. 1. 0. 0. 0.]\n"
          ],
          "name": "stdout"
        }
      ]
    },
    {
      "cell_type": "code",
      "metadata": {
        "id": "GuCHy4_ULLTz",
        "colab_type": "code",
        "colab": {
          "base_uri": "https://localhost:8080/",
          "height": 332
        },
        "outputId": "cebcd636-d1d8-4130-e8e3-5eb5fe5c15df"
      },
      "source": [
        "plot_model_boundaries(model, xmin=0, xmax=2, ymin=0, ymax=2)\n",
        "plt.scatter(x[y==0,0],x[y==0,1], color='b')\n",
        "plt.scatter(x[y==1,0],x[y==1,1], color='r');\n",
        "fpr, tpr, thresholds = roc_curve(y, predicted_labels)\n",
        "print('fpr=', fpr)\n",
        "print('tpr=', tpr)\n",
        "print('thresholds=', thresholds)\n",
        "\n",
        "plt.title(\"precision = {:.2f}, recall = {:.2f}, fpr = {:.2f}, tpr = {:.2f}\".format(precision_score(y, predicted_labels),\n",
        "                                                                                   recall_score(y, predicted_labels),\n",
        "                                                                                   fpr[1], \n",
        "                                                                                   tpr[1]))\n",
        "plt.show()"
      ],
      "execution_count": 25,
      "outputs": [
        {
          "output_type": "stream",
          "text": [
            "fpr= [0. 0. 1.]\n",
            "tpr= [0.         0.77777778 1.        ]\n",
            "thresholds= [2. 1. 0.]\n"
          ],
          "name": "stdout"
        },
        {
          "output_type": "display_data",
          "data": {
            "image/png": "[encoded data removed]",
            "text/plain": [
              "<Figure size 432x288 with 1 Axes>"
            ]
          },
          "metadata": {
            "tags": []
          }
        }
      ]
    },
    {
      "cell_type": "markdown",
      "metadata": {
        "id": "pnDQm2IrLPAT",
        "colab_type": "text"
      },
      "source": [
        "### Example: 大部分是 negative\n",
        "* 不是所有的 positive 都被找到\n",
        "* 用 precision 和 recall 會比較好\n",
        "* 真實: 1 正 9 負\n",
        "* 預測: 3 正 7 負\n",
        "\n",
        "TP = 1, FN = 0, FP = 2, TN = 7\n",
        "\n",
        "FPR = FP/(FP + TN) = 2/9 = 0.22\n",
        "\n",
        "TPR = TP/(TP + FN) = 1/1 = 1\n",
        "\n",
        "Precision = TP/(TP + FP) = 1/3 = 0.33\n",
        "\n",
        "Recall = TP/(TP + FN) = 1/1 = 1"
      ]
    },
    {
      "cell_type": "code",
      "metadata": {
        "id": "wjE6eH9sLMzy",
        "colab_type": "code",
        "colab": {
          "base_uri": "https://localhost:8080/",
          "height": 204
        },
        "outputId": "d3fe01cf-f784-4398-bc3c-fb0814a85835"
      },
      "source": [
        "np.random.seed(1)\n",
        "x = np.concatenate([np.zeros((8, 2)), np.zeros((1,2)), np.zeros((1,2))]) + 0.9*np.random.rand(10,2)\n",
        "x[-1,0]+=1\n",
        "x[-1,-1]+=1\n",
        "x[-2,0]+=0.8\n",
        "x[-2,-1]+=0.8\n",
        "x[-3,0]+=0.8\n",
        "x[-3,-1]+=0.8\n",
        "y = np.concatenate([np.zeros(7), np.ones(3)])\n",
        "print('x=', x)\n",
        "print('y=', y)"
      ],
      "execution_count": 26,
      "outputs": [
        {
          "output_type": "stream",
          "text": [
            "x= [[3.75319804e-01 6.48292044e-01]\n",
            " [1.02937336e-04 2.72099315e-01]\n",
            " [1.32080302e-01 8.31047353e-02]\n",
            " [1.67634190e-01 3.11004654e-01]\n",
            " [3.57090727e-01 4.84935061e-01]\n",
            " [3.77275063e-01 6.16697550e-01]\n",
            " [1.84007025e-01 7.90305693e-01]\n",
            " [8.24648834e-01 1.40342076e+00]\n",
            " [1.17557432e+00 1.30282085e+00]\n",
            " [1.12634824e+00 1.17829134e+00]]\n",
            "y= [0. 0. 0. 0. 0. 0. 0. 1. 1. 1.]\n"
          ],
          "name": "stdout"
        }
      ]
    },
    {
      "cell_type": "code",
      "metadata": {
        "id": "1-qL_JwHLWQZ",
        "colab_type": "code",
        "colab": {
          "base_uri": "https://localhost:8080/",
          "height": 34
        },
        "outputId": "5f5d6323-602e-4fc0-e5af-fea3f3d212fd"
      },
      "source": [
        "model = LinearSVC()\n",
        "model.fit(x,y)\n",
        "y = np.concatenate([np.zeros(9), np.ones(1)])\n",
        "predicted_labels = model.predict(x)\n",
        "print('prediction=', predicted_labels)"
      ],
      "execution_count": 27,
      "outputs": [
        {
          "output_type": "stream",
          "text": [
            "prediction= [0. 0. 0. 0. 0. 0. 0. 1. 1. 1.]\n"
          ],
          "name": "stdout"
        }
      ]
    },
    {
      "cell_type": "code",
      "metadata": {
        "id": "gG-tRqkxLYEw",
        "colab_type": "code",
        "colab": {
          "base_uri": "https://localhost:8080/",
          "height": 332
        },
        "outputId": "eba6e883-fed8-4266-ceea-307b078d8b57"
      },
      "source": [
        "plot_model_boundaries(model, xmin=0, xmax=2, ymin=0, ymax=2)\n",
        "plt.scatter(x[y==0,0],x[y==0,1], color='b')\n",
        "plt.scatter(x[y==1,0],x[y==1,1], color='r');\n",
        "fpr, tpr, thresholds = roc_curve(y, predicted_labels)\n",
        "print('fpr=', fpr)\n",
        "print('tpr=', tpr)\n",
        "print('thresholds=', thresholds)\n",
        "\n",
        "plt.title(\"precision = {:.2f}, recall = {}, fpr = {:.2f}, tpr = {}\".format(precision_score(y, predicted_labels),\n",
        "                                                                                   recall_score(y, predicted_labels),\n",
        "                                                                                   fpr[1], \n",
        "                                                                                   tpr[1]))\n",
        "plt.show()"
      ],
      "execution_count": 28,
      "outputs": [
        {
          "output_type": "stream",
          "text": [
            "fpr= [0.         0.22222222 1.        ]\n",
            "tpr= [0. 1. 1.]\n",
            "thresholds= [2. 1. 0.]\n"
          ],
          "name": "stdout"
        },
        {
          "output_type": "display_data",
          "data": {
            "image/png": "[encoded data removed]",
            "text/plain": [
              "<Figure size 432x288 with 1 Axes>"
            ]
          },
          "metadata": {
            "tags": []
          }
        }
      ]
    },
    {
      "cell_type": "markdown",
      "metadata": {
        "id": "O4jsMelaLba5",
        "colab_type": "text"
      },
      "source": [
        "什麼時候看 ROC? 什麼時候看 precision 和 recall?\n",
        "1. positive 比較小的時候看 **precision** 和 **recall**\n",
        "      * 因為 positive 數量少，我們想要知道能不能正確地找出 positive\n",
        "      * 此時能不能正確找出 negative 比較不哪麽重要\n",
        "2. positive 比較大的時候看 **ROC**\n",
        "      * 因為大部分是 positive 時 precision 和 recall 自然比較高，就比較沒有鑑別度\n",
        "3. positive 和 negative 差不多時看 **ROC**"
      ]
    },
    {
      "cell_type": "code",
      "metadata": {
        "id": "7bkH4mdXLZr0",
        "colab_type": "code",
        "colab": {}
      },
      "source": [
        ""
      ],
      "execution_count": 0,
      "outputs": []
    }
  ]
}