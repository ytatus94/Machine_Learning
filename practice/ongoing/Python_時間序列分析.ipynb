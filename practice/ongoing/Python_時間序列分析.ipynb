{
 "cells": [
  {
   "cell_type": "markdown",
   "metadata": {},
   "source": [
    "# Python 時間序列分析 (ARIMA 模型回歸，決策樹二分類)\n",
    "\n",
    "* Ref: [https://blog.csdn.net/weixin_43746433/article/details/95673475](https://blog.csdn.net/weixin_43746433/article/details/95673475)\n",
    "* Data:"
   ]
  },
  {
   "cell_type": "code",
   "execution_count": 6,
   "metadata": {},
   "outputs": [],
   "source": [
    "import pandas as pd\n",
    "import datetime as dt\n",
    "import numpy as np"
   ]
  },
  {
   "cell_type": "markdown",
   "metadata": {},
   "source": [
    "## 1. 時間序列\n",
    "\n",
    "### 1.1 data_range\n",
    "* timestamp\n",
    "* period\n",
    "* interval\n",
    "\n",
    "可以指定開始的時間與週期\n",
    "* H: hour\n",
    "* D: day\n",
    "* M: month"
   ]
  },
  {
   "cell_type": "code",
   "execution_count": 3,
   "metadata": {},
   "outputs": [
    {
     "data": {
      "text/plain": [
       "DatetimeIndex(['2020-10-01', '2020-10-04', '2020-10-07', '2020-10-10',\n",
       "               '2020-10-13', '2020-10-16', '2020-10-19', '2020-10-22',\n",
       "               '2020-10-25', '2020-10-28'],\n",
       "              dtype='datetime64[ns]', freq='3D')"
      ]
     },
     "execution_count": 3,
     "metadata": {},
     "output_type": "execute_result"
    }
   ],
   "source": [
    "rng = pd.date_range('2020-10-01', # 起始日期\n",
    "                    periods=10,   # 重複 10 個週期 (包含起始日期)\n",
    "                    freq='3D')    # 每三天為一個週期\n",
    "rng"
   ]
  },
  {
   "cell_type": "code",
   "execution_count": 12,
   "metadata": {},
   "outputs": [
    {
     "data": {
      "text/plain": [
       "2020-10-01   -0.909143\n",
       "2020-10-02    0.845100\n",
       "2020-10-03    0.595816\n",
       "2020-10-04   -1.653899\n",
       "2020-10-05   -0.905150\n",
       "2020-10-06    0.440458\n",
       "2020-10-07   -1.466339\n",
       "2020-10-08   -0.124193\n",
       "2020-10-09   -2.453975\n",
       "2020-10-10   -1.047542\n",
       "2020-10-11   -0.572579\n",
       "2020-10-12   -0.880458\n",
       "2020-10-13   -1.120524\n",
       "2020-10-14   -1.289865\n",
       "2020-10-15    0.922374\n",
       "2020-10-16    0.651188\n",
       "2020-10-17   -1.704083\n",
       "2020-10-18   -0.777089\n",
       "2020-10-19   -0.183997\n",
       "2020-10-20   -0.782617\n",
       "Freq: D, dtype: float64"
      ]
     },
     "execution_count": 12,
     "metadata": {},
     "output_type": "execute_result"
    }
   ],
   "source": [
    "# 產生 20 個 normal distribution random number\n",
    "# index 設為以 2020-10-01 開始的 20 天\n",
    "time = pd.Series(np.random.randn(20),\n",
    "                 index=pd.date_range(dt.datetime(2020, 10, 1), periods=20))\n",
    "time"
   ]
  },
  {
   "cell_type": "code",
   "execution_count": 13,
   "metadata": {},
   "outputs": [
    {
     "data": {
      "text/plain": [
       "2020-10-10   -1.047542\n",
       "2020-10-11   -0.572579\n",
       "2020-10-12   -0.880458\n",
       "2020-10-13   -1.120524\n",
       "2020-10-14   -1.289865\n",
       "2020-10-15    0.922374\n",
       "2020-10-16    0.651188\n",
       "2020-10-17   -1.704083\n",
       "2020-10-18   -0.777089\n",
       "2020-10-19   -0.183997\n",
       "2020-10-20   -0.782617\n",
       "Freq: D, dtype: float64"
      ]
     },
     "execution_count": 13,
     "metadata": {},
     "output_type": "execute_result"
    }
   ],
   "source": [
    "# 只選出在指定時間之後的\n",
    "# before 的時間 truncate 掉了\n",
    "time.truncate(before='2020-10-10')"
   ]
  },
  {
   "cell_type": "code",
   "execution_count": 15,
   "metadata": {},
   "outputs": [
    {
     "data": {
      "text/plain": [
       "2020-10-01   -0.909143\n",
       "2020-10-02    0.845100\n",
       "2020-10-03    0.595816\n",
       "2020-10-04   -1.653899\n",
       "2020-10-05   -0.905150\n",
       "2020-10-06    0.440458\n",
       "2020-10-07   -1.466339\n",
       "2020-10-08   -0.124193\n",
       "2020-10-09   -2.453975\n",
       "2020-10-10   -1.047542\n",
       "Freq: D, dtype: float64"
      ]
     },
     "execution_count": 15,
     "metadata": {},
     "output_type": "execute_result"
    }
   ],
   "source": [
    "# 只選出在指定時間之前的\n",
    "# after 的時間 truncate 掉了\n",
    "time.truncate(after='2020-10-10')"
   ]
  },
  {
   "cell_type": "code",
   "execution_count": 16,
   "metadata": {},
   "outputs": [
    {
     "data": {
      "text/plain": [
       "2020-10-15    0.922374\n",
       "2020-10-16    0.651188\n",
       "2020-10-17   -1.704083\n",
       "2020-10-18   -0.777089\n",
       "2020-10-19   -0.183997\n",
       "2020-10-20   -0.782617\n",
       "Freq: D, dtype: float64"
      ]
     },
     "execution_count": 16,
     "metadata": {},
     "output_type": "execute_result"
    }
   ],
   "source": [
    "time['2020-10-15':'2020-10-20'] # 會包含 start 和 end"
   ]
  },
  {
   "cell_type": "code",
   "execution_count": 17,
   "metadata": {},
   "outputs": [
    {
     "data": {
      "text/plain": [
       "DatetimeIndex(['2020-10-31', '2020-11-30', '2020-12-31', '2021-01-31',\n",
       "               '2021-02-28', '2021-03-31', '2021-04-30', '2021-05-31',\n",
       "               '2021-06-30', '2021-07-31', '2021-08-31', '2021-09-30'],\n",
       "              dtype='datetime64[ns]', freq='M')"
      ]
     },
     "execution_count": 17,
     "metadata": {},
     "output_type": "execute_result"
    }
   ],
   "source": [
    "data = pd.date_range('2020-10-01', '2021-10-01', freq='M')\n",
    "data"
   ]
  },
  {
   "cell_type": "markdown",
   "metadata": {},
   "source": [
    "### 1.2 Timestamp, Period, Timedelta\n",
    "\n",
    "* Timestamp\n",
    "  * 可以指定至日期，或是成某個時間點"
   ]
  },
  {
   "cell_type": "code",
   "execution_count": 18,
   "metadata": {},
   "outputs": [
    {
     "data": {
      "text/plain": [
       "Timestamp('2020-10-01 00:00:00')"
      ]
     },
     "execution_count": 18,
     "metadata": {},
     "output_type": "execute_result"
    }
   ],
   "source": [
    "pd.Timestamp('2020-10-01')"
   ]
  },
  {
   "cell_type": "code",
   "execution_count": 19,
   "metadata": {},
   "outputs": [
    {
     "data": {
      "text/plain": [
       "Timestamp('2020-10-01 10:00:00')"
      ]
     },
     "execution_count": 19,
     "metadata": {},
     "output_type": "execute_result"
    }
   ],
   "source": [
    "pd.Timestamp('2020-10-01 10')"
   ]
  },
  {
   "cell_type": "code",
   "execution_count": 20,
   "metadata": {},
   "outputs": [
    {
     "data": {
      "text/plain": [
       "Timestamp('2020-10-01 10:15:00')"
      ]
     },
     "execution_count": 20,
     "metadata": {},
     "output_type": "execute_result"
    }
   ],
   "source": [
    "pd.Timestamp('2020-10-01 10:15')"
   ]
  },
  {
   "cell_type": "markdown",
   "metadata": {},
   "source": [
    "* Period\n",
    "  * 物件中會記載頻率的資訊"
   ]
  },
  {
   "cell_type": "code",
   "execution_count": 21,
   "metadata": {},
   "outputs": [
    {
     "data": {
      "text/plain": [
       "Period('2020-10', 'M')"
      ]
     },
     "execution_count": 21,
     "metadata": {},
     "output_type": "execute_result"
    }
   ],
   "source": [
    "pd.Period('2020-10')"
   ]
  },
  {
   "cell_type": "code",
   "execution_count": 22,
   "metadata": {},
   "outputs": [
    {
     "data": {
      "text/plain": [
       "Period('2020-10-01', 'D')"
      ]
     },
     "execution_count": 22,
     "metadata": {},
     "output_type": "execute_result"
    }
   ],
   "source": [
    "pd.Period('2020-10-01')"
   ]
  },
  {
   "cell_type": "markdown",
   "metadata": {},
   "source": [
    "* Timedelta"
   ]
  },
  {
   "cell_type": "code",
   "execution_count": 23,
   "metadata": {},
   "outputs": [
    {
     "data": {
      "text/plain": [
       "Timedelta('1 days 00:00:00')"
      ]
     },
     "execution_count": 23,
     "metadata": {},
     "output_type": "execute_result"
    }
   ],
   "source": [
    "pd.Timedelta('1 day')"
   ]
  },
  {
   "cell_type": "markdown",
   "metadata": {},
   "source": [
    "### 1.3 時間轉換\n",
    "\n",
    "* 利用 Timedelta 來增加或減少時間"
   ]
  },
  {
   "cell_type": "code",
   "execution_count": 24,
   "metadata": {},
   "outputs": [
    {
     "data": {
      "text/plain": [
       "Period('2020-10-02 10:10', 'T')"
      ]
     },
     "execution_count": 24,
     "metadata": {},
     "output_type": "execute_result"
    }
   ],
   "source": [
    "pd.Period('2020-10-01 10:10') + pd.Timedelta('1 day')"
   ]
  },
  {
   "cell_type": "code",
   "execution_count": 26,
   "metadata": {},
   "outputs": [
    {
     "data": {
      "text/plain": [
       "Timestamp('2020-10-02 10:10:00')"
      ]
     },
     "execution_count": 26,
     "metadata": {},
     "output_type": "execute_result"
    }
   ],
   "source": [
    "pd.Timestamp('2020-10-01 10:10') + pd.Timedelta('1 day')"
   ]
  },
  {
   "cell_type": "code",
   "execution_count": 27,
   "metadata": {},
   "outputs": [
    {
     "data": {
      "text/plain": [
       "Timestamp('2020-10-01 10:10:00.000000015')"
      ]
     },
     "execution_count": 27,
     "metadata": {},
     "output_type": "execute_result"
    }
   ],
   "source": [
    "pd.Timestamp('2020-10-01 10:10') + pd.Timedelta('15 ns')"
   ]
  },
  {
   "cell_type": "markdown",
   "metadata": {},
   "source": [
    "### 1.4 `period_range()`"
   ]
  },
  {
   "cell_type": "code",
   "execution_count": 28,
   "metadata": {},
   "outputs": [],
   "source": [
    "p1 = pd.period_range('2020-10-01 10:10', freq='25H', periods=10)"
   ]
  },
  {
   "cell_type": "code",
   "execution_count": 29,
   "metadata": {},
   "outputs": [],
   "source": [
    "p2 = pd.period_range('2020-10-01 10:10', freq='1D1H', periods=10)"
   ]
  },
  {
   "cell_type": "code",
   "execution_count": 30,
   "metadata": {},
   "outputs": [
    {
     "data": {
      "text/plain": [
       "PeriodIndex(['2020-10-01 10:00', '2020-10-02 11:00', '2020-10-03 12:00',\n",
       "             '2020-10-04 13:00', '2020-10-05 14:00', '2020-10-06 15:00',\n",
       "             '2020-10-07 16:00', '2020-10-08 17:00', '2020-10-09 18:00',\n",
       "             '2020-10-10 19:00'],\n",
       "            dtype='period[25H]', freq='25H')"
      ]
     },
     "execution_count": 30,
     "metadata": {},
     "output_type": "execute_result"
    }
   ],
   "source": [
    "p1"
   ]
  },
  {
   "cell_type": "code",
   "execution_count": 31,
   "metadata": {},
   "outputs": [
    {
     "data": {
      "text/plain": [
       "PeriodIndex(['2020-10-01 10:00', '2020-10-02 11:00', '2020-10-03 12:00',\n",
       "             '2020-10-04 13:00', '2020-10-05 14:00', '2020-10-06 15:00',\n",
       "             '2020-10-07 16:00', '2020-10-08 17:00', '2020-10-09 18:00',\n",
       "             '2020-10-10 19:00'],\n",
       "            dtype='period[25H]', freq='25H')"
      ]
     },
     "execution_count": 31,
     "metadata": {},
     "output_type": "execute_result"
    }
   ],
   "source": [
    "p2"
   ]
  },
  {
   "cell_type": "markdown",
   "metadata": {},
   "source": [
    "### 1.5 指定索引"
   ]
  },
  {
   "cell_type": "code",
   "execution_count": 32,
   "metadata": {},
   "outputs": [
    {
     "data": {
      "text/plain": [
       "DatetimeIndex(['2020-10-01', '2020-10-02', '2020-10-03', '2020-10-04',\n",
       "               '2020-10-05', '2020-10-06', '2020-10-07', '2020-10-08',\n",
       "               '2020-10-09', '2020-10-10'],\n",
       "              dtype='datetime64[ns]', freq='D')"
      ]
     },
     "execution_count": 32,
     "metadata": {},
     "output_type": "execute_result"
    }
   ],
   "source": [
    "rng = pd.date_range('2020 Oct 1', periods=10, freq='D')\n",
    "rng"
   ]
  },
  {
   "cell_type": "code",
   "execution_count": 33,
   "metadata": {},
   "outputs": [
    {
     "data": {
      "text/plain": [
       "2020-10-01    0\n",
       "2020-10-02    1\n",
       "2020-10-03    2\n",
       "2020-10-04    3\n",
       "2020-10-05    4\n",
       "2020-10-06    5\n",
       "2020-10-07    6\n",
       "2020-10-08    7\n",
       "2020-10-09    8\n",
       "2020-10-10    9\n",
       "Freq: D, dtype: int64"
      ]
     },
     "execution_count": 33,
     "metadata": {},
     "output_type": "execute_result"
    }
   ],
   "source": [
    "pd.Series(range(len(rng)), index=rng)"
   ]
  },
  {
   "cell_type": "code",
   "execution_count": 36,
   "metadata": {},
   "outputs": [
    {
     "data": {
      "text/plain": [
       "[Period('2020-10', 'M'), Period('2020-11', 'M'), Period('2020-12', 'M')]"
      ]
     },
     "execution_count": 36,
     "metadata": {},
     "output_type": "execute_result"
    }
   ],
   "source": [
    "periods = [pd.Period('2020-10'), pd.Period('2020-11'), pd.Period('2020-12')]\n",
    "periods"
   ]
  },
  {
   "cell_type": "code",
   "execution_count": 37,
   "metadata": {},
   "outputs": [
    {
     "data": {
      "text/plain": [
       "2020-10    0.991335\n",
       "2020-11   -0.516955\n",
       "2020-12   -0.569943\n",
       "Freq: M, dtype: float64"
      ]
     },
     "execution_count": 37,
     "metadata": {},
     "output_type": "execute_result"
    }
   ],
   "source": [
    "ts = pd.Series(np.random.randn(len(periods)), index=periods)\n",
    "ts"
   ]
  },
  {
   "cell_type": "code",
   "execution_count": 38,
   "metadata": {},
   "outputs": [
    {
     "data": {
      "text/plain": [
       "pandas.core.indexes.period.PeriodIndex"
      ]
     },
     "execution_count": 38,
     "metadata": {},
     "output_type": "execute_result"
    }
   ],
   "source": [
    "type(ts.index)"
   ]
  },
  {
   "cell_type": "markdown",
   "metadata": {},
   "source": [
    "### 1.6 Timestamp 和 Period 互換"
   ]
  },
  {
   "cell_type": "code",
   "execution_count": 40,
   "metadata": {},
   "outputs": [
    {
     "data": {
      "text/plain": [
       "2020-10-01 08:00:00    0\n",
       "2020-10-01 09:00:00    1\n",
       "2020-10-01 10:00:00    2\n",
       "2020-10-01 11:00:00    3\n",
       "2020-10-01 12:00:00    4\n",
       "2020-10-01 13:00:00    5\n",
       "2020-10-01 14:00:00    6\n",
       "2020-10-01 15:00:00    7\n",
       "2020-10-01 16:00:00    8\n",
       "2020-10-01 17:00:00    9\n",
       "Freq: H, dtype: int64"
      ]
     },
     "execution_count": 40,
     "metadata": {},
     "output_type": "execute_result"
    }
   ],
   "source": [
    "ts = pd.Series(range(10),\n",
    "               pd.date_range('2020-10-01 8:00', periods=10, freq='H'))\n",
    "ts"
   ]
  },
  {
   "cell_type": "code",
   "execution_count": 41,
   "metadata": {},
   "outputs": [
    {
     "data": {
      "text/plain": [
       "2020-10-01 08:00    0\n",
       "2020-10-01 09:00    1\n",
       "2020-10-01 10:00    2\n",
       "2020-10-01 11:00    3\n",
       "2020-10-01 12:00    4\n",
       "2020-10-01 13:00    5\n",
       "2020-10-01 14:00    6\n",
       "2020-10-01 15:00    7\n",
       "2020-10-01 16:00    8\n",
       "2020-10-01 17:00    9\n",
       "Freq: H, dtype: int64"
      ]
     },
     "execution_count": 41,
     "metadata": {},
     "output_type": "execute_result"
    }
   ],
   "source": [
    "ts_period = ts.to_period()\n",
    "ts_period"
   ]
  },
  {
   "cell_type": "markdown",
   "metadata": {},
   "source": [
    "### 1.7 填補時間序列的缺失值\n",
    "\n",
    "* `asfreq()`\n",
    "* `ffill(n)`\n",
    "* `bfill(n)`\n",
    "* `interpolate(\"linear\")`"
   ]
  },
  {
   "cell_type": "code",
   "execution_count": 46,
   "metadata": {},
   "outputs": [
    {
     "data": {
      "text/plain": [
       "2020-10-01 08:00:00     0\n",
       "2020-10-02 08:00:00     1\n",
       "2020-10-03 08:00:00     2\n",
       "2020-10-04 08:00:00     3\n",
       "2020-10-05 08:00:00     4\n",
       "2020-10-06 08:00:00     5\n",
       "2020-10-07 08:00:00     6\n",
       "2020-10-08 08:00:00     7\n",
       "2020-10-09 08:00:00     8\n",
       "2020-10-10 08:00:00     9\n",
       "2020-10-11 08:00:00    10\n",
       "2020-10-12 08:00:00    11\n",
       "2020-10-13 08:00:00    12\n",
       "2020-10-14 08:00:00    13\n",
       "2020-10-15 08:00:00    14\n",
       "2020-10-16 08:00:00    15\n",
       "2020-10-17 08:00:00    16\n",
       "2020-10-18 08:00:00    17\n",
       "2020-10-19 08:00:00    18\n",
       "2020-10-20 08:00:00    19\n",
       "Freq: D, dtype: int64"
      ]
     },
     "execution_count": 46,
     "metadata": {},
     "output_type": "execute_result"
    }
   ],
   "source": [
    "ts = pd.Series(range(20),\n",
    "               pd.date_range('2020-10-01 8:00', periods=20, freq='D'))\n",
    "ts"
   ]
  },
  {
   "cell_type": "code",
   "execution_count": 47,
   "metadata": {},
   "outputs": [
    {
     "data": {
      "text/plain": [
       "2020-10-01     1.0\n",
       "2020-10-04     4.0\n",
       "2020-10-07     7.0\n",
       "2020-10-10    10.0\n",
       "2020-10-13    13.0\n",
       "2020-10-16    16.0\n",
       "2020-10-19    18.5\n",
       "Freq: 3D, dtype: float64"
      ]
     },
     "execution_count": 47,
     "metadata": {},
     "output_type": "execute_result"
    }
   ],
   "source": [
    "day3Ts = ts.resample('3D').mean() # 每三天求一次平均，然後用第一天當索引\n",
    "day3Ts"
   ]
  },
  {
   "cell_type": "code",
   "execution_count": 48,
   "metadata": {},
   "outputs": [
    {
     "data": {
      "text/plain": [
       "2020-10-01     1.0\n",
       "2020-10-02     NaN\n",
       "2020-10-03     NaN\n",
       "2020-10-04     4.0\n",
       "2020-10-05     NaN\n",
       "2020-10-06     NaN\n",
       "2020-10-07     7.0\n",
       "2020-10-08     NaN\n",
       "2020-10-09     NaN\n",
       "2020-10-10    10.0\n",
       "2020-10-11     NaN\n",
       "2020-10-12     NaN\n",
       "2020-10-13    13.0\n",
       "2020-10-14     NaN\n",
       "2020-10-15     NaN\n",
       "2020-10-16    16.0\n",
       "2020-10-17     NaN\n",
       "2020-10-18     NaN\n",
       "2020-10-19    18.5\n",
       "Freq: D, dtype: float64"
      ]
     },
     "execution_count": 48,
     "metadata": {},
     "output_type": "execute_result"
    }
   ],
   "source": [
    "# 加上 asfreq() 會補上其他的日期\n",
    "# 這樣我有一個有 missing value 的時間序列\n",
    "day3Ts.resample('D').asfreq()"
   ]
  },
  {
   "cell_type": "code",
   "execution_count": 49,
   "metadata": {},
   "outputs": [
    {
     "data": {
      "text/plain": [
       "2020-10-01     1.0\n",
       "2020-10-02     1.0\n",
       "2020-10-03     NaN\n",
       "2020-10-04     4.0\n",
       "2020-10-05     4.0\n",
       "2020-10-06     NaN\n",
       "2020-10-07     7.0\n",
       "2020-10-08     7.0\n",
       "2020-10-09     NaN\n",
       "2020-10-10    10.0\n",
       "2020-10-11    10.0\n",
       "2020-10-12     NaN\n",
       "2020-10-13    13.0\n",
       "2020-10-14    13.0\n",
       "2020-10-15     NaN\n",
       "2020-10-16    16.0\n",
       "2020-10-17    16.0\n",
       "2020-10-18     NaN\n",
       "2020-10-19    18.5\n",
       "Freq: D, dtype: float64"
      ]
     },
     "execution_count": 49,
     "metadata": {},
     "output_type": "execute_result"
    }
   ],
   "source": [
    "day3Ts.resample('D').ffill(1) # ffill(n) 就是 forward fill，用上一個非零的值來往後填補 n 次"
   ]
  },
  {
   "cell_type": "code",
   "execution_count": 50,
   "metadata": {},
   "outputs": [
    {
     "data": {
      "text/plain": [
       "2020-10-01     1.0\n",
       "2020-10-02     NaN\n",
       "2020-10-03     4.0\n",
       "2020-10-04     4.0\n",
       "2020-10-05     NaN\n",
       "2020-10-06     7.0\n",
       "2020-10-07     7.0\n",
       "2020-10-08     NaN\n",
       "2020-10-09    10.0\n",
       "2020-10-10    10.0\n",
       "2020-10-11     NaN\n",
       "2020-10-12    13.0\n",
       "2020-10-13    13.0\n",
       "2020-10-14     NaN\n",
       "2020-10-15    16.0\n",
       "2020-10-16    16.0\n",
       "2020-10-17     NaN\n",
       "2020-10-18    18.5\n",
       "2020-10-19    18.5\n",
       "Freq: D, dtype: float64"
      ]
     },
     "execution_count": 50,
     "metadata": {},
     "output_type": "execute_result"
    }
   ],
   "source": [
    "day3Ts.resample('D').bfill(1) # bfill(n) 就是 backward fill，用下一個非零的值來往前填補 n 次"
   ]
  },
  {
   "cell_type": "code",
   "execution_count": 51,
   "metadata": {},
   "outputs": [
    {
     "data": {
      "text/plain": [
       "2020-10-01     1.000000\n",
       "2020-10-02     2.000000\n",
       "2020-10-03     3.000000\n",
       "2020-10-04     4.000000\n",
       "2020-10-05     5.000000\n",
       "2020-10-06     6.000000\n",
       "2020-10-07     7.000000\n",
       "2020-10-08     8.000000\n",
       "2020-10-09     9.000000\n",
       "2020-10-10    10.000000\n",
       "2020-10-11    11.000000\n",
       "2020-10-12    12.000000\n",
       "2020-10-13    13.000000\n",
       "2020-10-14    14.000000\n",
       "2020-10-15    15.000000\n",
       "2020-10-16    16.000000\n",
       "2020-10-17    16.833333\n",
       "2020-10-18    17.666667\n",
       "2020-10-19    18.500000\n",
       "Freq: D, dtype: float64"
      ]
     },
     "execution_count": 51,
     "metadata": {},
     "output_type": "execute_result"
    }
   ],
   "source": [
    "day3Ts.resample('D').interpolate('linear') # 用線性方程式來填補缺失值"
   ]
  },
  {
   "cell_type": "markdown",
   "metadata": {},
   "source": [
    "## 2. 股價預測\n",
    "\n",
    "### 2.1 Load data"
   ]
  },
  {
   "cell_type": "code",
   "execution_count": 57,
   "metadata": {},
   "outputs": [],
   "source": [
    "import pandas as pd\n",
    "# import pandas_datareader\n",
    "import datetime\n",
    "import matplotlib.pyplot as plt\n",
    "import seaborn as sns\n",
    "from matplotlib.pylab import style\n",
    "from statsmodels.tsa.arima_model import ARIMA\n",
    "from statsmodels.graphics.tsaplots import plot_acf, plot_pacf"
   ]
  },
  {
   "cell_type": "code",
   "execution_count": 55,
   "metadata": {},
   "outputs": [],
   "source": [
    "style.use('ggplot')\n",
    "plt.rcParams['font.sans-serif'] = ['SimHei']\n",
    "plt.rcParams['axes.unicode_minus'] = False"
   ]
  },
  {
   "cell_type": "code",
   "execution_count": null,
   "metadata": {},
   "outputs": [],
   "source": [
    "stock = 'data/T10yr.csv'\n",
    "df = pd.read_csv(stock,\n",
    "                 index_col=0,\n",
    "                 parse_dates=[0])\n",
    "df.head(10)"
   ]
  },
  {
   "cell_type": "markdown",
   "metadata": {},
   "source": [
    "### 2.2 取 Weekly average 然後分 train test samples"
   ]
  },
  {
   "cell_type": "code",
   "execution_count": null,
   "metadata": {},
   "outputs": [],
   "source": [
    "# W-MON 表示用 Weekly 並且 Monday 當第一天\n",
    "weekly = df['Close'].resample('W-MON').mean()\n",
    "train = weekly['2000':'2015']\n",
    "train.head()"
   ]
  },
  {
   "cell_type": "markdown",
   "metadata": {},
   "source": [
    "### 2.3 畫圖"
   ]
  },
  {
   "cell_type": "code",
   "execution_count": null,
   "metadata": {},
   "outputs": [],
   "source": [
    "train.plot(figsize=(15, 5))\n",
    "plt.legend(bbox_to_anchor(1.25, 0.5))\n",
    "plt.title('Stock Close Price')\n",
    "sns.despine()"
   ]
  },
  {
   "cell_type": "markdown",
   "metadata": {},
   "source": [
    "### 2.4 Differencing"
   ]
  },
  {
   "cell_type": "code",
   "execution_count": null,
   "metadata": {},
   "outputs": [],
   "source": [
    "diff = train.diff()\n",
    "diff = train.dropna()"
   ]
  },
  {
   "cell_type": "code",
   "execution_count": null,
   "metadata": {},
   "outputs": [],
   "source": [
    "plt.figure()\n",
    "plt.plot(diff)\n",
    "plt.title('一階差分')\n",
    "plt.show()"
   ]
  },
  {
   "cell_type": "markdown",
   "metadata": {},
   "source": [
    "### 2.5 ACF, PACF\n",
    "\n",
    "* ACF (自相關函數): 有序的隨機變數序列與自身相比較\n",
    "  * ACF 表示同一個序列在不同的時序取值之間的相關性\n",
    "  * 包含其他變數的影響\n",
    "* PACF (偏自相關函數)\n",
    "  * 對於一個平穩的 AR(p) 模型，求出滯後 $k$ 自相關係數 $p(k)$ 時，實際上得到的並不是 $x(t)$ 與 $x(t-k)$ 之間單純的相關關係\n",
    "    * $x(t)$ 同時還會受到 $x(t-1)$, $x(t-2)$, $\\cdots$, $x(t-k+1)$ 的影響，而這 $k-1$ 個隨機變數又和 $x(t-k)$ 有關係\n",
    "  * PACF 剔除了這 $k-1$ 個變數的干擾，只看 $x(t-k)$ 對 $x(t)$ 的影響的相關程度\n",
    "    * 只有這兩個變數彼此之間的影響"
   ]
  },
  {
   "cell_type": "code",
   "execution_count": 58,
   "metadata": {},
   "outputs": [
    {
     "ename": "NameError",
     "evalue": "name 'plt_acf' is not defined",
     "output_type": "error",
     "traceback": [
      "\u001b[0;31m---------------------------------------------------------------------------\u001b[0m",
      "\u001b[0;31mNameError\u001b[0m                                 Traceback (most recent call last)",
      "\u001b[0;32m<ipython-input-58-95697e45c60b>\u001b[0m in \u001b[0;36m<module>\u001b[0;34m\u001b[0m\n\u001b[0;32m----> 1\u001b[0;31m \u001b[0macf\u001b[0m \u001b[0;34m=\u001b[0m \u001b[0mplt_acf\u001b[0m\u001b[0;34m(\u001b[0m\u001b[0mdiff\u001b[0m\u001b[0;34m,\u001b[0m \u001b[0mlags\u001b[0m\u001b[0;34m=\u001b[0m\u001b[0;36m20\u001b[0m\u001b[0;34m)\u001b[0m\u001b[0;34m\u001b[0m\u001b[0;34m\u001b[0m\u001b[0m\n\u001b[0m\u001b[1;32m      2\u001b[0m \u001b[0mplt\u001b[0m\u001b[0;34m.\u001b[0m\u001b[0mtitle\u001b[0m\u001b[0;34m(\u001b[0m\u001b[0;34m'ACF'\u001b[0m\u001b[0;34m)\u001b[0m\u001b[0;34m\u001b[0m\u001b[0;34m\u001b[0m\u001b[0m\n\u001b[1;32m      3\u001b[0m \u001b[0macf\u001b[0m\u001b[0;34m.\u001b[0m\u001b[0mshow\u001b[0m\u001b[0;34m(\u001b[0m\u001b[0;34m)\u001b[0m\u001b[0;34m\u001b[0m\u001b[0;34m\u001b[0m\u001b[0m\n",
      "\u001b[0;31mNameError\u001b[0m: name 'plt_acf' is not defined"
     ]
    }
   ],
   "source": [
    "acf = plot_acf(diff, lags=20)\n",
    "plt.title('ACF')\n",
    "acf.show()"
   ]
  },
  {
   "cell_type": "markdown",
   "metadata": {},
   "source": [
    "### 2.6 ARIMA 模型\n",
    "\n",
    "* ARIMA(p,d,q)\n",
    "  * 描述當前值與歷史值之間的關係，用變數自身的歷史數據對自身進行預測\n",
    "  * 必須要滿足 stationary\n",
    "  * AR: 自回歸，$p$ 是自回歸項係數\n",
    "  * I: $d$ 是分差的次數\n",
    "  * MA: 移動平均，$q$ 是移動平均的項數"
   ]
  },
  {
   "cell_type": "code",
   "execution_count": null,
   "metadata": {},
   "outputs": [],
   "source": []
  }
 ],
 "metadata": {
  "kernelspec": {
   "display_name": "Python 3",
   "language": "python",
   "name": "python3"
  },
  "language_info": {
   "codemirror_mode": {
    "name": "ipython",
    "version": 3
   },
   "file_extension": ".py",
   "mimetype": "text/x-python",
   "name": "python",
   "nbconvert_exporter": "python",
   "pygments_lexer": "ipython3",
   "version": "3.7.9"
  }
 },
 "nbformat": 4,
 "nbformat_minor": 4
}
