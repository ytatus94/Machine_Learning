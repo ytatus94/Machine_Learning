{
  "nbformat": 4,
  "nbformat_minor": 0,
  "metadata": {
    "colab": {
      "name": "Probability_Distributions_in_Python_with_SciPy_and_Seaborn.ipynb",
      "version": "0.3.2",
      "provenance": [],
      "collapsed_sections": []
    },
    "kernelspec": {
      "name": "python3",
      "display_name": "Python 3"
    }
  },
  "cells": [
    {
      "cell_type": "markdown",
      "metadata": {
        "id": "jTC3sMISrrn6",
        "colab_type": "text"
      },
      "source": [
        "# Probability Distributions in Python with SciPy and Seaborn"
      ]
    },
    {
      "cell_type": "markdown",
      "metadata": {
        "id": "hXLnsYVsrwrv",
        "colab_type": "text"
      },
      "source": [
        "### Source\n",
        "http://cmdlinetips.com/2018/03/probability-distributions-in-python/"
      ]
    },
    {
      "cell_type": "code",
      "metadata": {
        "id": "9Jr7hgk_rcEr",
        "colab_type": "code",
        "colab": {}
      },
      "source": [
        "# import matplotlib\n",
        "import matplotlib.pyplot as plt\n",
        "# %matplotlib inline # for inline plots in jupyter\n",
        "\n",
        "import seaborn as sns\n",
        "# settings for seaborn plotting style\n",
        "# sns.set(color_codes=True)\n",
        "# settings for seaborn plot sizes\n",
        "# sns.set(rc={'figure.figsize':(4.5, 3)})"
      ],
      "execution_count": 0,
      "outputs": []
    },
    {
      "cell_type": "markdown",
      "metadata": {
        "id": "pdyOWv3AsLA2",
        "colab_type": "text"
      },
      "source": [
        "### 1. Uniform Distribution"
      ]
    },
    {
      "cell_type": "code",
      "metadata": {
        "id": "s1kgEaKusNdD",
        "colab_type": "code",
        "colab": {
          "base_uri": "https://localhost:8080/",
          "height": 300
        },
        "outputId": "afbc4c38-aff5-4925-f191-d68a66d1acf1"
      },
      "source": [
        "# import uniform distribution\n",
        "from scipy.stats import uniform\n",
        "# random numbers from uniform distribution\n",
        "# Generate 10000 numbers from 0 to 10\n",
        "n = 10000\n",
        "a = 0\n",
        "b = 10\n",
        "data_uniform = uniform.rvs(size=n, loc=a, scale=b)\n",
        "print(data_uniform)\n",
        "# plot uniform random numbers with Seaborn\n",
        "ax = sns.distplot(data_uniform,\n",
        "                  bins=100,\n",
        "                  kde=False,\n",
        "                  color='skyblue',\n",
        "                  hist_kws={'linewidth': 15, 'alpha': 1})\n",
        "ax.set(xlabel='Uniform', ylabel='Frequency')\n",
        "plt.show()"
      ],
      "execution_count": 2,
      "outputs": [
        {
          "output_type": "stream",
          "text": [
            "[1.74945043 9.75860392 3.82730697 ... 5.27885677 8.15042239 6.68862   ]\n"
          ],
          "name": "stdout"
        },
        {
          "output_type": "display_data",
          "data": {
            "image/png": "[encoded data removed]",
            "text/plain": [
              "<Figure size 432x288 with 1 Axes>"
            ]
          },
          "metadata": {
            "tags": []
          }
        }
      ]
    },
    {
      "cell_type": "markdown",
      "metadata": {
        "id": "hHikxLRfsW2r",
        "colab_type": "text"
      },
      "source": [
        "### 2. Normal Distribution"
      ]
    },
    {
      "cell_type": "code",
      "metadata": {
        "id": "Bv4xvUExsUuj",
        "colab_type": "code",
        "colab": {
          "base_uri": "https://localhost:8080/",
          "height": 283
        },
        "outputId": "94b3cf48-8db3-4da0-ec78-94f50924c27c"
      },
      "source": [
        "from scipy.stats import norm\n",
        "# generate random numbers from N(0, 1)\n",
        "data_normal = norm.rvs(size=10000, loc=0, scale=1)\n",
        "ax = sns.distplot(data_normal,\n",
        "                  bins=100,\n",
        "                  kde=False,\n",
        "                  color='skyblue',\n",
        "                  hist_kws={'linewidth': 15, 'alpha': 1})\n",
        "ax.set(xlabel='Normal', ylabel='Frequency')\n",
        "plt.show()"
      ],
      "execution_count": 3,
      "outputs": [
        {
          "output_type": "display_data",
          "data": {
            "image/png": "[encoded data removed]",
            "text/plain": [
              "<Figure size 432x288 with 1 Axes>"
            ]
          },
          "metadata": {
            "tags": []
          }
        }
      ]
    },
    {
      "cell_type": "markdown",
      "metadata": {
        "id": "uFGfSO06sb4S",
        "colab_type": "text"
      },
      "source": [
        "### 3. Bernoulli Distribution\n",
        "* Bernoulli random variable can take either 0 or 1 \n",
        "* using certain probability as a parameter"
      ]
    },
    {
      "cell_type": "code",
      "metadata": {
        "id": "bX4V2CfNsZtg",
        "colab_type": "code",
        "colab": {
          "base_uri": "https://localhost:8080/",
          "height": 283
        },
        "outputId": "a4bf8f80-849b-46ba-f701-8de97e54394b"
      },
      "source": [
        "# import bernoulli\n",
        "from scipy.stats import bernoulli\n",
        "# generate bernoulli\n",
        "data_bern = bernoulli.rvs(size=10000, p=0.3)\n",
        "ax = sns.distplot(data_bern,\n",
        "                  kde=False,\n",
        "                  color='skyblue',\n",
        "                  hist_kws={'linewidth': 15, 'alpha': 1})\n",
        "ax.set(xlabel='Bernoulli', ylabel='Frequency')\n",
        "plt.show()"
      ],
      "execution_count": 4,
      "outputs": [
        {
          "output_type": "display_data",
          "data": {
            "image/png": "[encoded data removed]",
            "text/plain": [
              "<Figure size 432x288 with 1 Axes>"
            ]
          },
          "metadata": {
            "tags": []
          }
        }
      ]
    },
    {
      "cell_type": "markdown",
      "metadata": {
        "id": "OzBbbNeEslLM",
        "colab_type": "text"
      },
      "source": [
        "### 4. Binomial Distribution\n",
        "* Binomial distribution is a discrete probability distribution like Bernoulli.\n",
        "* It can be used to obtain the number of successes from N Bernoulli trials."
      ]
    },
    {
      "cell_type": "code",
      "metadata": {
        "id": "rWUGhJIhshsW",
        "colab_type": "code",
        "colab": {
          "base_uri": "https://localhost:8080/",
          "height": 283
        },
        "outputId": "41d56aeb-0489-4463-d560-4ffada71c310"
      },
      "source": [
        "from scipy.stats import binom\n",
        "binom.rvs(n=10, p=0.5) # the number of successes in 10 Bernoulli trials with p=0.5\n",
        "binom.rvs(size=5, n=10, p=0.5) # 重複 5 次\n",
        "data_binom = binom.rvs(n=10, p=0.5, size=10000)\n",
        "ax = sns.distplot(data_binom,\n",
        "                  kde=False,\n",
        "                  color='skyblue',\n",
        "                  hist_kws={'linewidth': 15, 'alpha': 1})\n",
        "ax.set(xlabel='Binomial', ylabel='Frequency')\n",
        "plt.show()"
      ],
      "execution_count": 5,
      "outputs": [
        {
          "output_type": "display_data",
          "data": {
            "image/png": "[encoded data removed]",
            "text/plain": [
              "<Figure size 432x288 with 1 Axes>"
            ]
          },
          "metadata": {
            "tags": []
          }
        }
      ]
    },
    {
      "cell_type": "markdown",
      "metadata": {
        "id": "bwgQC11Fss73",
        "colab_type": "text"
      },
      "source": [
        "### 5. Poisson Distribution\n",
        "* Poisson random variable is typically used to model the number of times an event happened in a time interval\n",
        "* Poisson distribution is described in terms of the rate ($\\mu$) at which the events happen"
      ]
    },
    {
      "cell_type": "code",
      "metadata": {
        "id": "H5q2Cd9Tsqk1",
        "colab_type": "code",
        "colab": {
          "base_uri": "https://localhost:8080/",
          "height": 283
        },
        "outputId": "45d87562-224d-4f64-9c8b-fb4fefb7137c"
      },
      "source": [
        "from scipy.stats import poisson\n",
        "data_poisson = poisson.rvs(mu=3, size=10000)\n",
        "ax = sns.distplot(data_poisson,\n",
        "                  kde=False,\n",
        "                  color='green',\n",
        "                  hist_kws={'linewidth': 15, 'alpha': 1})\n",
        "ax.set(xlabel='Poisson', ylabel='Frequency')\n",
        "plt.show()"
      ],
      "execution_count": 6,
      "outputs": [
        {
          "output_type": "display_data",
          "data": {
            "image/png": "[encoded data removed]",
            "text/plain": [
              "<Figure size 432x288 with 1 Axes>"
            ]
          },
          "metadata": {
            "tags": []
          }
        }
      ]
    },
    {
      "cell_type": "markdown",
      "metadata": {
        "id": "VTQoLCdYs4cj",
        "colab_type": "text"
      },
      "source": [
        "### 6. Beta Distribution\n",
        "* Beta distribution is a continuous distribution taking values from 0 to 1.\n",
        "* It is defined by two parameters alpha and beta"
      ]
    },
    {
      "cell_type": "code",
      "metadata": {
        "id": "H1jH2s-Ws1_z",
        "colab_type": "code",
        "colab": {
          "base_uri": "https://localhost:8080/",
          "height": 283
        },
        "outputId": "a1d7831a-0325-4a91-fedf-3de6540b4e4e"
      },
      "source": [
        "from scipy.stats import beta\n",
        "# generate Beta distribution with alpha=1 and beta=1\n",
        "data_beta = beta.rvs(1, 1, size=10000)\n",
        "ax = sns.distplot(data_beta,\n",
        "                  kde=False,\n",
        "                  color='skyblue',\n",
        "                  hist_kws={'linewidth': 15, 'alpha': 1})\n",
        "ax.set(xlabel='Beta(1, 1)', ylabel='Frequency')\n",
        "plt.show()"
      ],
      "execution_count": 7,
      "outputs": [
        {
          "output_type": "display_data",
          "data": {
            "image/png": "[encoded data removed]",
            "text/plain": [
              "<Figure size 432x288 with 1 Axes>"
            ]
          },
          "metadata": {
            "tags": []
          }
        }
      ]
    },
    {
      "cell_type": "code",
      "metadata": {
        "id": "_XOVugB6tAhm",
        "colab_type": "code",
        "colab": {
          "base_uri": "https://localhost:8080/",
          "height": 283
        },
        "outputId": "888d2df7-f505-47e0-f3ae-5c1107353daa"
      },
      "source": [
        "# generate Beta distribution with alpha=10 and beta=1\n",
        "data_beta_a10b1 = beta.rvs(10, 1, size=10000)\n",
        "ax = sns.distplot(data_beta_a10b1,\n",
        "                  kde=False,\n",
        "                  color='skyblue',\n",
        "                  hist_kws={'linewidth': 15, 'alpha': 1})\n",
        "ax.set(xlabel='Beta(10, 1)', ylabel='Frequency')\n",
        "plt.show()"
      ],
      "execution_count": 8,
      "outputs": [
        {
          "output_type": "display_data",
          "data": {
            "image/png": "[encoded data removed]",
            "text/plain": [
              "<Figure size 432x288 with 1 Axes>"
            ]
          },
          "metadata": {
            "tags": []
          }
        }
      ]
    },
    {
      "cell_type": "code",
      "metadata": {
        "id": "48zhKdV5tDKn",
        "colab_type": "code",
        "colab": {
          "base_uri": "https://localhost:8080/",
          "height": 283
        },
        "outputId": "1349781f-e2ed-4d4c-f5bc-7041ff440ba2"
      },
      "source": [
        "# generate Beta distribution with alpha=1 and beta=10\n",
        "data_beta_a1b10 = beta.rvs(1, 10, size=10000)\n",
        "ax = sns.distplot(data_beta_a1b10,\n",
        "                  kde=False,\n",
        "                  color='skyblue',\n",
        "                  hist_kws={'linewidth': 15, 'alpha': 1})\n",
        "ax.set(xlabel='Beta(1, 10)', ylabel='Frequency')\n",
        "plt.show()"
      ],
      "execution_count": 9,
      "outputs": [
        {
          "output_type": "display_data",
          "data": {
            "image/png": "[encoded data removed]",
            "text/plain": [
              "<Figure size 432x288 with 1 Axes>"
            ]
          },
          "metadata": {
            "tags": []
          }
        }
      ]
    },
    {
      "cell_type": "code",
      "metadata": {
        "id": "CAV71SattFfa",
        "colab_type": "code",
        "colab": {
          "base_uri": "https://localhost:8080/",
          "height": 283
        },
        "outputId": "1951d59e-2152-45a8-f355-725bb0f44b84"
      },
      "source": [
        "# generate Beta distribution with alpha=1 and beta=10\n",
        "data_beta_a10b10 = beta.rvs(10, 10, size=10000)\n",
        "ax = sns.distplot(data_beta_a10b10,\n",
        "                  kde=False,\n",
        "                  color='skyblue',\n",
        "                  hist_kws={'linewidth': 15, 'alpha': 1})\n",
        "ax.set(xlabel='Beta(10, 10)', ylabel='Frequency')\n",
        "plt.show()"
      ],
      "execution_count": 10,
      "outputs": [
        {
          "output_type": "display_data",
          "data": {
            "image/png": "[encoded data removed]",
            "text/plain": [
              "<Figure size 432x288 with 1 Axes>"
            ]
          },
          "metadata": {
            "tags": []
          }
        }
      ]
    },
    {
      "cell_type": "markdown",
      "metadata": {
        "id": "hpuT1Z5Ws-a7",
        "colab_type": "text"
      },
      "source": [
        "### 7. Gamma Distribution"
      ]
    },
    {
      "cell_type": "code",
      "metadata": {
        "id": "NDKEmGn4s9vO",
        "colab_type": "code",
        "colab": {
          "base_uri": "https://localhost:8080/",
          "height": 283
        },
        "outputId": "55b262db-825b-47a9-f0cd-a57b41aee4eb"
      },
      "source": [
        "from scipy.stats import gamma\n",
        "data_gamma = gamma.rvs(a=5, size=10000)\n",
        "ax = sns.distplot(data_gamma,\n",
        "                  kde=False,\n",
        "                  bins=100,\n",
        "                  color='skyblue',\n",
        "                  hist_kws={'linewidth': 15, 'alpha': 1})\n",
        "ax.set(xlabel='Gamma', ylabel='Frequency')\n",
        "plt.show()"
      ],
      "execution_count": 11,
      "outputs": [
        {
          "output_type": "display_data",
          "data": {
            "image/png": "[encoded data removed]",
            "text/plain": [
              "<Figure size 432x288 with 1 Axes>"
            ]
          },
          "metadata": {
            "tags": []
          }
        }
      ]
    },
    {
      "cell_type": "markdown",
      "metadata": {
        "id": "oqR99xPOtLxl",
        "colab_type": "text"
      },
      "source": [
        "### 8. Log Normal Distribution"
      ]
    },
    {
      "cell_type": "code",
      "metadata": {
        "id": "K97wzpsOtKDo",
        "colab_type": "code",
        "colab": {
          "base_uri": "https://localhost:8080/",
          "height": 283
        },
        "outputId": "b7d997f7-f057-48f7-90e1-638dcfb47e0e"
      },
      "source": [
        "from scipy.stats import lognorm\n",
        "data_lognorm = lognorm.rvs(0.2, size=10000)\n",
        "ax = sns.distplot(data_lognorm,\n",
        "                  kde=False,\n",
        "                  bins=100,\n",
        "                  color='skyblue',\n",
        "                  hist_kws={'linewidth': 15, 'alpha': 1})\n",
        "ax.set(xlabel='Log Normal', ylabel='Frequency')\n",
        "plt.show()"
      ],
      "execution_count": 12,
      "outputs": [
        {
          "output_type": "display_data",
          "data": {
            "image/png": "[encoded data removed]",
            "text/plain": [
              "<Figure size 432x288 with 1 Axes>"
            ]
          },
          "metadata": {
            "tags": []
          }
        }
      ]
    },
    {
      "cell_type": "markdown",
      "metadata": {
        "id": "aWZJCfxntP_f",
        "colab_type": "text"
      },
      "source": [
        "### 9. Negative Binomial Distribution\n",
        "* Discrete"
      ]
    },
    {
      "cell_type": "code",
      "metadata": {
        "id": "ybHe5vuJtN7-",
        "colab_type": "code",
        "colab": {
          "base_uri": "https://localhost:8080/",
          "height": 283
        },
        "outputId": "72e4046c-be98-4e6a-a465-0e38a0f2250a"
      },
      "source": [
        "from scipy.stats import nbinom\n",
        "data_nbinom = nbinom.rvs(n=10, p=0.5, size=10000)\n",
        "ax = sns.distplot(data_nbinom,\n",
        "                  kde=False,\n",
        "                  color='skyblue',\n",
        "                  hist_kws={'linewidth': 15, 'alpha': 1})\n",
        "ax.set(xlabel='Negative Binomial', ylabel='Frequency')\n",
        "plt.show()"
      ],
      "execution_count": 13,
      "outputs": [
        {
          "output_type": "display_data",
          "data": {
            "image/png": "[encoded data removed]",
            "text/plain": [
              "<Figure size 432x288 with 1 Axes>"
            ]
          },
          "metadata": {
            "tags": []
          }
        }
      ]
    },
    {
      "cell_type": "code",
      "metadata": {
        "id": "2K6qvyn0tU9F",
        "colab_type": "code",
        "colab": {}
      },
      "source": [
        ""
      ],
      "execution_count": 0,
      "outputs": []
    }
  ]
}