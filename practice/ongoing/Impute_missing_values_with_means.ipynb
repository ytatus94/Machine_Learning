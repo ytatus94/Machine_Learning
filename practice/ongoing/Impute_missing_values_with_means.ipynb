{
  "nbformat": 4,
  "nbformat_minor": 0,
  "metadata": {
    "colab": {
      "name": "Impute_missing_values_with_means.ipynb",
      "version": "0.3.2",
      "provenance": [],
      "collapsed_sections": []
    },
    "kernelspec": {
      "name": "python3",
      "display_name": "Python 3"
    }
  },
  "cells": [
    {
      "cell_type": "markdown",
      "metadata": {
        "id": "5mHSdnEV1uZJ",
        "colab_type": "text"
      },
      "source": [
        "# Impute missing values with means"
      ]
    },
    {
      "cell_type": "markdown",
      "metadata": {
        "id": "OyLZ5-6e1x4C",
        "colab_type": "text"
      },
      "source": [
        "### Source\n",
        "https://chrisalbon.com/machine_learning/preprocessing_structured_data/impute_missing_values_with_means/"
      ]
    },
    {
      "cell_type": "code",
      "metadata": {
        "id": "guNj6avz1rig",
        "colab_type": "code",
        "colab": {}
      },
      "source": [
        "import pandas as pd\n",
        "import numpy as np\n",
        "from sklearn.preprocessing import Imputer"
      ],
      "execution_count": 0,
      "outputs": []
    },
    {
      "cell_type": "code",
      "metadata": {
        "id": "r0bOygKV12Wt",
        "colab_type": "code",
        "colab": {
          "base_uri": "https://localhost:8080/",
          "height": 204
        },
        "outputId": "3a265382-655c-4998-cf30-6622348b6bbe"
      },
      "source": [
        "# Create an empty dataset\n",
        "df = pd.DataFrame()\n",
        "\n",
        "# Create two variables called x0 and x1.\n",
        "# Make the first value of x1 a missing value\n",
        "df['x0'] = [0.3051,0.4949,0.6974,0.3769,0.2231,0.341,0.4436,0.5897,0.6308,0.5]\n",
        "df['x1'] = [np.nan,0.2654,0.2615,0.5846,0.4615,0.8308,0.4962,0.3269,0.5346,0.6731]\n",
        "\n",
        "# View the dataset\n",
        "print(df)"
      ],
      "execution_count": 2,
      "outputs": [
        {
          "output_type": "stream",
          "text": [
            "       x0      x1\n",
            "0  0.3051     NaN\n",
            "1  0.4949  0.2654\n",
            "2  0.6974  0.2615\n",
            "3  0.3769  0.5846\n",
            "4  0.2231  0.4615\n",
            "5  0.3410  0.8308\n",
            "6  0.4436  0.4962\n",
            "7  0.5897  0.3269\n",
            "8  0.6308  0.5346\n",
            "9  0.5000  0.6731\n"
          ],
          "name": "stdout"
        }
      ]
    },
    {
      "cell_type": "code",
      "metadata": {
        "id": "RftBe8V514at",
        "colab_type": "code",
        "colab": {
          "base_uri": "https://localhost:8080/",
          "height": 71
        },
        "outputId": "49f32104-81b2-419a-933c-8095fbc51429"
      },
      "source": [
        "# Fit imputer\n",
        "# Create an imputer object that looks for 'NaN' values,\n",
        "# then replaces them with the mean value of the feature by columns (axis=0)\n",
        "mean_imputer = Imputer(missing_values='NaN', strategy='mean', axis=0)"
      ],
      "execution_count": 3,
      "outputs": [
        {
          "output_type": "stream",
          "text": [
            "/usr/local/lib/python3.6/dist-packages/sklearn/utils/deprecation.py:66: DeprecationWarning: Class Imputer is deprecated; Imputer was deprecated in version 0.20 and will be removed in 0.22. Import impute.SimpleImputer from sklearn instead.\n",
            "  warnings.warn(msg, category=DeprecationWarning)\n"
          ],
          "name": "stderr"
        }
      ]
    },
    {
      "cell_type": "code",
      "metadata": {
        "id": "_EKhWFQk193f",
        "colab_type": "code",
        "colab": {
          "base_uri": "https://localhost:8080/",
          "height": 187
        },
        "outputId": "f29ddfc8-fb72-4fd6-faa1-fb45460a7698"
      },
      "source": [
        "# Train the imputer on the df dataset\n",
        "mean_imputer = mean_imputer.fit(df)\n",
        "\n",
        "# Apply the imputer to the df dataset\n",
        "imputed_df = mean_imputer.transform(df.values)\n",
        "\n",
        "# view the data\n",
        "print(imputed_df)"
      ],
      "execution_count": 6,
      "outputs": [
        {
          "output_type": "stream",
          "text": [
            "[[0.3051     0.49273333]\n",
            " [0.4949     0.2654    ]\n",
            " [0.6974     0.2615    ]\n",
            " [0.3769     0.5846    ]\n",
            " [0.2231     0.4615    ]\n",
            " [0.341      0.8308    ]\n",
            " [0.4436     0.4962    ]\n",
            " [0.5897     0.3269    ]\n",
            " [0.6308     0.5346    ]\n",
            " [0.5        0.6731    ]]\n"
          ],
          "name": "stdout"
        }
      ]
    },
    {
      "cell_type": "code",
      "metadata": {
        "id": "22fSJHiR2C_f",
        "colab_type": "code",
        "colab": {}
      },
      "source": [
        ""
      ],
      "execution_count": 0,
      "outputs": []
    }
  ]
}