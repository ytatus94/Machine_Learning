{
 "cells": [
  {
   "cell_type": "markdown",
   "metadata": {
    "id": "HHpBsaVFBUmh"
   },
   "source": [
    "# How to create simple dashboard with widgets in Python Bokeh\n",
    "\n",
    "* Ref: [https://coderzcolumn.com/tutorials/data-science/simple-dashboard-with-widgets-python-bokeh?fbclid=IwAR1qkq4v3yphKh45LFoZJQQOJGxkgXOGxumn5QKpBeDwd9lFpxk11WEa678](https://coderzcolumn.com/tutorials/data-science/simple-dashboard-with-widgets-python-bokeh?fbclid=IwAR1qkq4v3yphKh45LFoZJQQOJGxkgXOGxumn5QKpBeDwd9lFpxk11WEa678)\n",
    "* Data\n",
    "  * Iris flower dataset: comes with scikit-learn\n",
    "  * Google OHLC dataset: comes with Bokeh"
   ]
  },
  {
   "cell_type": "markdown",
   "metadata": {
    "id": "Y9CbRzfgBd84"
   },
   "source": [
    "## 1. Import necessary libraries"
   ]
  },
  {
   "cell_type": "code",
   "execution_count": 1,
   "metadata": {
    "executionInfo": {
     "elapsed": 1101,
     "status": "ok",
     "timestamp": 1617168731855,
     "user": {
      "displayName": "Yu-Ting Shen",
      "photoUrl": "",
      "userId": "17266750376611022117"
     },
     "user_tz": 420
    },
    "id": "bezLgEfZBJuI"
   },
   "outputs": [],
   "source": [
    "import pandas as pd\n",
    "import numpy as np\n",
    "\n",
    "from bokeh.io import show, output_notebook, curdoc\n",
    "from bokeh.plotting import figure\n",
    "from bokeh.layouts import row, column\n",
    "from bokeh.resources import INLINE\n",
    "\n",
    "output_notebook(resources=INLINE)"
   ]
  },
  {
   "cell_type": "markdown",
   "metadata": {
    "id": "YKaU4ASUCAJs"
   },
   "source": [
    "## 2. Load dataset"
   ]
  },
  {
   "cell_type": "code",
   "execution_count": 2,
   "metadata": {
    "colab": {
     "base_uri": "https://localhost:8080/",
     "height": 204
    },
    "executionInfo": {
     "elapsed": 1386,
     "status": "ok",
     "timestamp": 1617168733760,
     "user": {
      "displayName": "Yu-Ting Shen",
      "photoUrl": "",
      "userId": "17266750376611022117"
     },
     "user_tz": 420
    },
    "id": "t9xwWNReBvJe",
    "outputId": "68211ccb-b012-4bd3-ad42-fdd0f5f360a5"
   },
   "outputs": [
    {
     "data": {
      "text/html": [
       "<div>\n",
       "<style scoped>\n",
       "    .dataframe tbody tr th:only-of-type {\n",
       "        vertical-align: middle;\n",
       "    }\n",
       "\n",
       "    .dataframe tbody tr th {\n",
       "        vertical-align: top;\n",
       "    }\n",
       "\n",
       "    .dataframe thead th {\n",
       "        text-align: right;\n",
       "    }\n",
       "</style>\n",
       "<table border=\"1\" class=\"dataframe\">\n",
       "  <thead>\n",
       "    <tr style=\"text-align: right;\">\n",
       "      <th></th>\n",
       "      <th>sepal length (cm)</th>\n",
       "      <th>sepal width (cm)</th>\n",
       "      <th>petal length (cm)</th>\n",
       "      <th>petal width (cm)</th>\n",
       "      <th>Flower Type</th>\n",
       "    </tr>\n",
       "  </thead>\n",
       "  <tbody>\n",
       "    <tr>\n",
       "      <th>0</th>\n",
       "      <td>5.1</td>\n",
       "      <td>3.5</td>\n",
       "      <td>1.4</td>\n",
       "      <td>0.2</td>\n",
       "      <td>0</td>\n",
       "    </tr>\n",
       "    <tr>\n",
       "      <th>1</th>\n",
       "      <td>4.9</td>\n",
       "      <td>3.0</td>\n",
       "      <td>1.4</td>\n",
       "      <td>0.2</td>\n",
       "      <td>0</td>\n",
       "    </tr>\n",
       "    <tr>\n",
       "      <th>2</th>\n",
       "      <td>4.7</td>\n",
       "      <td>3.2</td>\n",
       "      <td>1.3</td>\n",
       "      <td>0.2</td>\n",
       "      <td>0</td>\n",
       "    </tr>\n",
       "    <tr>\n",
       "      <th>3</th>\n",
       "      <td>4.6</td>\n",
       "      <td>3.1</td>\n",
       "      <td>1.5</td>\n",
       "      <td>0.2</td>\n",
       "      <td>0</td>\n",
       "    </tr>\n",
       "    <tr>\n",
       "      <th>4</th>\n",
       "      <td>5.0</td>\n",
       "      <td>3.6</td>\n",
       "      <td>1.4</td>\n",
       "      <td>0.2</td>\n",
       "      <td>0</td>\n",
       "    </tr>\n",
       "  </tbody>\n",
       "</table>\n",
       "</div>"
      ],
      "text/plain": [
       "   sepal length (cm)  sepal width (cm)  ...  petal width (cm)  Flower Type\n",
       "0                5.1               3.5  ...               0.2            0\n",
       "1                4.9               3.0  ...               0.2            0\n",
       "2                4.7               3.2  ...               0.2            0\n",
       "3                4.6               3.1  ...               0.2            0\n",
       "4                5.0               3.6  ...               0.2            0\n",
       "\n",
       "[5 rows x 5 columns]"
      ]
     },
     "execution_count": 2,
     "metadata": {
      "tags": []
     },
     "output_type": "execute_result"
    }
   ],
   "source": [
    "from sklearn.datasets import load_iris\n",
    "\n",
    "iris = load_iris()\n",
    "\n",
    "df_iris = pd.DataFrame(data=iris.data, columns=iris.feature_names)\n",
    "df_iris['Flower Type'] = iris.target\n",
    "\n",
    "df_iris.head()"
   ]
  },
  {
   "cell_type": "code",
   "execution_count": 3,
   "metadata": {
    "colab": {
     "base_uri": "https://localhost:8080/",
     "height": 1000
    },
    "executionInfo": {
     "elapsed": 5287,
     "status": "ok",
     "timestamp": 1617168739109,
     "user": {
      "displayName": "Yu-Ting Shen",
      "photoUrl": "",
      "userId": "17266750376611022117"
     },
     "user_tz": 420
    },
    "id": "ZiuS29XNCSol",
    "outputId": "fe5a34a3-3dda-494b-93db-ad11bbc5f77a"
   },
   "outputs": [
    {
     "name": "stdout",
     "output_type": "stream",
     "text": [
      "Creating /root/.bokeh directory\n",
      "Creating /root/.bokeh/data directory\n",
      "Using data directory: /root/.bokeh/data\n",
      "Downloading: CGM.csv (1589982 bytes)\n",
      "   1589982 [100.00%]\n",
      "Downloading: US_Counties.zip (3171836 bytes)\n",
      "   3171836 [100.00%]\n",
      "Unpacking: US_Counties.csv\n",
      "Downloading: us_cities.json (713565 bytes)\n",
      "    713565 [100.00%]\n",
      "Downloading: unemployment09.csv (253301 bytes)\n",
      "    253301 [100.00%]\n",
      "Downloading: AAPL.csv (166698 bytes)\n",
      "    166698 [100.00%]\n",
      "Downloading: FB.csv (9706 bytes)\n",
      "      9706 [100.00%]\n",
      "Downloading: GOOG.csv (113894 bytes)\n",
      "    113894 [100.00%]\n",
      "Downloading: IBM.csv (165625 bytes)\n",
      "    165625 [100.00%]\n",
      "Downloading: MSFT.csv (161614 bytes)\n",
      "    161614 [100.00%]\n",
      "Downloading: WPP2012_SA_DB03_POPULATION_QUINQUENNIAL.zip (4816256 bytes)\n",
      "   4816256 [100.00%]\n",
      "Unpacking: WPP2012_SA_DB03_POPULATION_QUINQUENNIAL.csv\n",
      "Downloading: gapminder_fertility.csv (64346 bytes)\n",
      "     64346 [100.00%]\n",
      "Downloading: gapminder_population.csv (94509 bytes)\n",
      "     94509 [100.00%]\n",
      "Downloading: gapminder_life_expectancy.csv (73243 bytes)\n",
      "     73243 [100.00%]\n",
      "Downloading: gapminder_regions.csv (7781 bytes)\n",
      "      7781 [100.00%]\n",
      "Downloading: world_cities.zip (645274 bytes)\n",
      "    645274 [100.00%]\n",
      "Unpacking: world_cities.csv\n",
      "Downloading: airports.json (6373 bytes)\n",
      "      6373 [100.00%]\n",
      "Downloading: movies.db.zip (5053420 bytes)\n",
      "   5053420 [100.00%]\n",
      "Unpacking: movies.db\n",
      "Downloading: airports.csv (203190 bytes)\n",
      "    203190 [100.00%]\n",
      "Downloading: routes.csv (377280 bytes)\n",
      "    377280 [100.00%]\n",
      "Downloading: haarcascade_frontalface_default.xml (930127 bytes)\n",
      "    930127 [100.00%]\n"
     ]
    },
    {
     "data": {
      "text/html": [
       "<div>\n",
       "<style scoped>\n",
       "    .dataframe tbody tr th:only-of-type {\n",
       "        vertical-align: middle;\n",
       "    }\n",
       "\n",
       "    .dataframe tbody tr th {\n",
       "        vertical-align: top;\n",
       "    }\n",
       "\n",
       "    .dataframe thead th {\n",
       "        text-align: right;\n",
       "    }\n",
       "</style>\n",
       "<table border=\"1\" class=\"dataframe\">\n",
       "  <thead>\n",
       "    <tr style=\"text-align: right;\">\n",
       "      <th></th>\n",
       "      <th>date</th>\n",
       "      <th>open</th>\n",
       "      <th>high</th>\n",
       "      <th>low</th>\n",
       "      <th>close</th>\n",
       "      <th>volume</th>\n",
       "      <th>adj_close</th>\n",
       "    </tr>\n",
       "  </thead>\n",
       "  <tbody>\n",
       "    <tr>\n",
       "      <th>0</th>\n",
       "      <td>2004-08-19</td>\n",
       "      <td>100.00</td>\n",
       "      <td>104.06</td>\n",
       "      <td>95.96</td>\n",
       "      <td>100.34</td>\n",
       "      <td>22351900</td>\n",
       "      <td>100.34</td>\n",
       "    </tr>\n",
       "    <tr>\n",
       "      <th>1</th>\n",
       "      <td>2004-08-20</td>\n",
       "      <td>101.01</td>\n",
       "      <td>109.08</td>\n",
       "      <td>100.50</td>\n",
       "      <td>108.31</td>\n",
       "      <td>11428600</td>\n",
       "      <td>108.31</td>\n",
       "    </tr>\n",
       "    <tr>\n",
       "      <th>2</th>\n",
       "      <td>2004-08-23</td>\n",
       "      <td>110.75</td>\n",
       "      <td>113.48</td>\n",
       "      <td>109.05</td>\n",
       "      <td>109.40</td>\n",
       "      <td>9137200</td>\n",
       "      <td>109.40</td>\n",
       "    </tr>\n",
       "    <tr>\n",
       "      <th>3</th>\n",
       "      <td>2004-08-24</td>\n",
       "      <td>111.24</td>\n",
       "      <td>111.60</td>\n",
       "      <td>103.57</td>\n",
       "      <td>104.87</td>\n",
       "      <td>7631300</td>\n",
       "      <td>104.87</td>\n",
       "    </tr>\n",
       "    <tr>\n",
       "      <th>4</th>\n",
       "      <td>2004-08-25</td>\n",
       "      <td>104.96</td>\n",
       "      <td>108.00</td>\n",
       "      <td>103.88</td>\n",
       "      <td>106.00</td>\n",
       "      <td>4598900</td>\n",
       "      <td>106.00</td>\n",
       "    </tr>\n",
       "  </tbody>\n",
       "</table>\n",
       "</div>"
      ],
      "text/plain": [
       "        date    open    high     low   close    volume  adj_close\n",
       "0 2004-08-19  100.00  104.06   95.96  100.34  22351900     100.34\n",
       "1 2004-08-20  101.01  109.08  100.50  108.31  11428600     108.31\n",
       "2 2004-08-23  110.75  113.48  109.05  109.40   9137200     109.40\n",
       "3 2004-08-24  111.24  111.60  103.57  104.87   7631300     104.87\n",
       "4 2004-08-25  104.96  108.00  103.88  106.00   4598900     106.00"
      ]
     },
     "execution_count": 3,
     "metadata": {
      "tags": []
     },
     "output_type": "execute_result"
    }
   ],
   "source": [
    "import bokeh\n",
    "bokeh.sampledata.download()\n",
    "\n",
    "from bokeh.sampledata.stocks import GOOG as google\n",
    "\n",
    "df_google = pd.DataFrame(google)\n",
    "df_google['date'] = pd.to_datetime(df_google['date'])\n",
    "\n",
    "df_google.head()"
   ]
  },
  {
   "cell_type": "markdown",
   "metadata": {
    "id": "FLaO2Z52DEdd"
   },
   "source": [
    "## 3. Creating individual charts of dashboard\n",
    "\n",
    "### 3.1 Line chart of Google stock prices"
   ]
  },
  {
   "cell_type": "code",
   "execution_count": 4,
   "metadata": {
    "colab": {
     "base_uri": "https://localhost:8080/",
     "height": 417,
     "output_embedded_package_id": "1I21dwIqjf49ulGTlMwzpYhvklwcHAzME"
    },
    "executionInfo": {
     "elapsed": 1832,
     "status": "ok",
     "timestamp": 1617168751030,
     "user": {
      "displayName": "Yu-Ting Shen",
      "photoUrl": "",
      "userId": "17266750376611022117"
     },
     "user_tz": 420
    },
    "id": "_EVpIgvcCkEu",
    "outputId": "cf4edcd8-82bb-461a-ea4f-65a7895a40e6"
   },
   "outputs": [
    {
     "data": {
      "text/plain": [
       "Output hidden; open in https://colab.research.google.com to view."
      ]
     },
     "metadata": {},
     "output_type": "display_data"
    }
   ],
   "source": [
    "line_chart = figure(\n",
    "    plot_width=1000,\n",
    "    plot_height=400,\n",
    "    x_axis_type='datetime',\n",
    "    title='Google stock prices from 2005 - 2013'\n",
    ")\n",
    "\n",
    "line_chart.line(\n",
    "    x='date',\n",
    "    y='open',\n",
    "    line_width=0.5,\n",
    "    line_color='dodgerblue',\n",
    "    legend_label='open',\n",
    "    source=df_google\n",
    ")\n",
    "\n",
    "line_chart.xaxis.axis_label='Time'\n",
    "line_chart.yaxis.axis_label='Price ($)'\n",
    "line_chart.legend.location='top_left'\n",
    "\n",
    "show(line_chart)"
   ]
  },
  {
   "cell_type": "markdown",
   "metadata": {
    "id": "AMKfGgVsD9hO"
   },
   "source": [
    "### 3.2 Scatter plot of Iris flower sepal length vs sepal width color-encoded by flower type"
   ]
  },
  {
   "cell_type": "code",
   "execution_count": 5,
   "metadata": {
    "colab": {
     "base_uri": "https://localhost:8080/",
     "height": 417,
     "output_embedded_package_id": "1U2OcoBEqcNTcBzfqsi31o8QqJMQ7RqAm"
    },
    "executionInfo": {
     "elapsed": 1702,
     "status": "ok",
     "timestamp": 1617168763519,
     "user": {
      "displayName": "Yu-Ting Shen",
      "photoUrl": "",
      "userId": "17266750376611022117"
     },
     "user_tz": 420
    },
    "id": "Sujor_w_D1ir",
    "outputId": "9e3c9126-f0b0-4121-a389-89898c106724"
   },
   "outputs": [
    {
     "data": {
      "text/plain": [
       "Output hidden; open in https://colab.research.google.com to view."
      ]
     },
     "metadata": {},
     "output_type": "display_data"
    }
   ],
   "source": [
    "scatter = figure(\n",
    "    plot_width=500,\n",
    "    plot_height=400,\n",
    "    title='Sepal length vs sepal width scatter plot'\n",
    ")\n",
    "\n",
    "color_mapping = {\n",
    "    0: 'tomato',\n",
    "    1: 'dodgerblue',\n",
    "    2: 'lime'\n",
    "}\n",
    "\n",
    "for cls in [0, 1, 2]:\n",
    "    scatter.circle(\n",
    "        x=df_iris[df_iris['Flower Type']==cls]['sepal length (cm)'],\n",
    "        y=df_iris[df_iris['Flower Type']==cls]['sepal width (cm)'],\n",
    "        color=color_mapping[cls],\n",
    "        size=10,\n",
    "        alpha=0.8,\n",
    "        legend_label=iris.target_names[cls]\n",
    "    )\n",
    "\n",
    "scatter.xaxis.axis_label='sepal length (cm)'.upper()\n",
    "scatter.yaxis.axis_label='sepal width (cm)'.upper()\n",
    "\n",
    "show(scatter)"
   ]
  },
  {
   "cell_type": "markdown",
   "metadata": {
    "id": "e2nst9YaE45Q"
   },
   "source": [
    "### 3.3 Bar chart of average sepal length per flower type"
   ]
  },
  {
   "cell_type": "code",
   "execution_count": 6,
   "metadata": {
    "colab": {
     "base_uri": "https://localhost:8080/",
     "height": 417,
     "output_embedded_package_id": "1nJtukTMjc9Olho1H8vGYs4fu1g-oCL-j"
    },
    "executionInfo": {
     "elapsed": 1885,
     "status": "ok",
     "timestamp": 1617168769165,
     "user": {
      "displayName": "Yu-Ting Shen",
      "photoUrl": "",
      "userId": "17266750376611022117"
     },
     "user_tz": 420
    },
    "id": "Umol8rq5E3Bz",
    "outputId": "c3d5575c-8957-4ee7-f84a-197f8f09fd14"
   },
   "outputs": [
    {
     "data": {
      "text/plain": [
       "Output hidden; open in https://colab.research.google.com to view."
      ]
     },
     "metadata": {},
     "output_type": "display_data"
    }
   ],
   "source": [
    "iris_avg_by_flower_type = df_iris.groupby('Flower Type').mean()\n",
    "\n",
    "bar_chart = figure(\n",
    "    plot_width=500,\n",
    "    plot_height=400,\n",
    "    title='Average sepal length (cm) per flower type'\n",
    ")\n",
    "\n",
    "bar_chart.vbar(\n",
    "    x=[1, 2, 3],\n",
    "    width=0.9,\n",
    "    top=iris_avg_by_flower_type['sepal length (cm)'],\n",
    "    fill_color='tomato',\n",
    "    line_color='tomato',\n",
    "    alpha=0.9\n",
    ")\n",
    "\n",
    "bar_chart.xaxis.axis_label='Flower type'\n",
    "bar_chart.yaxis.axis_label='Sepal length'\n",
    "\n",
    "bar_chart.xaxis.ticker = [1, 2, 3]\n",
    "bar_chart.xaxis.major_label_overrides = {\n",
    "    1: 'Setosa',\n",
    "    2: 'Versicolor',\n",
    "    3: 'Virginica'\n",
    "}\n",
    "\n",
    "show(bar_chart)"
   ]
  },
  {
   "cell_type": "markdown",
   "metadata": {
    "id": "KZK7GuTpFtz4"
   },
   "source": [
    "## 4 Laying out charts without widgets"
   ]
  },
  {
   "cell_type": "code",
   "execution_count": 7,
   "metadata": {
    "colab": {
     "base_uri": "https://localhost:8080/",
     "height": 817,
     "output_embedded_package_id": "1YVAl0iBYYGwjYDGnznpqIeDuyodwTgzt"
    },
    "executionInfo": {
     "elapsed": 1804,
     "status": "ok",
     "timestamp": 1617168773450,
     "user": {
      "displayName": "Yu-Ting Shen",
      "photoUrl": "",
      "userId": "17266750376611022117"
     },
     "user_tz": 420
    },
    "id": "O7cO4x8BFsOz",
    "outputId": "d2b97529-1f59-4c63-aa39-b37c24b90d4d"
   },
   "outputs": [
    {
     "data": {
      "text/plain": [
       "Output hidden; open in https://colab.research.google.com to view."
      ]
     },
     "metadata": {},
     "output_type": "display_data"
    }
   ],
   "source": [
    "layout = column(line_chart, row(scatter, bar_chart))\n",
    "show(layout)"
   ]
  },
  {
   "cell_type": "markdown",
   "metadata": {
    "id": "ko3yfAS_GNGT"
   },
   "source": [
    "## 5. Widgets creation\n",
    "\n",
    "### 5.1 Checkbox group for line chart"
   ]
  },
  {
   "cell_type": "code",
   "execution_count": 8,
   "metadata": {
    "colab": {
     "base_uri": "https://localhost:8080/",
     "height": 58,
     "output_embedded_package_id": "15ScZhfCCkFriVXuZX4UqyK-8GKpVeZKa"
    },
    "executionInfo": {
     "elapsed": 1661,
     "status": "ok",
     "timestamp": 1617168777992,
     "user": {
      "displayName": "Yu-Ting Shen",
      "photoUrl": "",
      "userId": "17266750376611022117"
     },
     "user_tz": 420
    },
    "id": "x8y8jxQMGJw1",
    "outputId": "d92a027a-cb81-43f8-c660-c56051c05855"
   },
   "outputs": [
    {
     "data": {
      "text/plain": [
       "Output hidden; open in https://colab.research.google.com to view."
      ]
     },
     "metadata": {},
     "output_type": "display_data"
    }
   ],
   "source": [
    "from bokeh.models import CheckboxButtonGroup\n",
    "\n",
    "checkbox_options = ['open', 'high', 'low', 'close'] # 要顯示什麼\n",
    "\n",
    "checkbox_grp = CheckboxButtonGroup(\n",
    "    labels=checkbox_options,\n",
    "    active=[0], # 預設選取了 checkbox_options 第 0 個 item \n",
    "    button_type='success'\n",
    ")\n",
    "\n",
    "show(checkbox_grp)"
   ]
  },
  {
   "cell_type": "markdown",
   "metadata": {
    "id": "98qOW4gdG49M"
   },
   "source": [
    "### 5.2 Dropdowns for scatter chart"
   ]
  },
  {
   "cell_type": "code",
   "execution_count": 9,
   "metadata": {
    "colab": {
     "base_uri": "https://localhost:8080/",
     "height": 76,
     "output_embedded_package_id": "1wGR0C8gZNyUdsnA9PjAAgHyg3Yp0h15y"
    },
    "executionInfo": {
     "elapsed": 1679,
     "status": "ok",
     "timestamp": 1617168781774,
     "user": {
      "displayName": "Yu-Ting Shen",
      "photoUrl": "",
      "userId": "17266750376611022117"
     },
     "user_tz": 420
    },
    "id": "8CRG4SCaG1Cs",
    "outputId": "fbc7071d-7c7a-419d-f5fe-e5b5c8073bf6"
   },
   "outputs": [
    {
     "data": {
      "text/plain": [
       "Output hidden; open in https://colab.research.google.com to view."
      ]
     },
     "metadata": {},
     "output_type": "display_data"
    }
   ],
   "source": [
    "from bokeh.models import Select\n",
    "\n",
    "drop_scat1 = Select(\n",
    "    title='X-axis-dim',\n",
    "    options=iris.feature_names, # 下拉式選單中有什麼可以選\n",
    "    value=iris.feature_names[0], # 預設選取的是哪個\n",
    "    width=200\n",
    ")\n",
    "\n",
    "drop_scat2 = Select(\n",
    "    title='Y-axis-dim',\n",
    "    options=iris.feature_names, # 下拉式選單中有什麼可以選\n",
    "    value=iris.feature_names[1], # 預設選取的是哪個\n",
    "    width=200\n",
    ")\n",
    "\n",
    "show(row(drop_scat1, drop_scat2))"
   ]
  },
  {
   "cell_type": "markdown",
   "metadata": {
    "id": "vUjj5Ma5Upgw"
   },
   "source": [
    "### 5.3 Dropdown for bar chart"
   ]
  },
  {
   "cell_type": "code",
   "execution_count": 10,
   "metadata": {
    "colab": {
     "base_uri": "https://localhost:8080/",
     "height": 76,
     "output_embedded_package_id": "1KIZ5CNDXv5rAdeJxFEiN3a6CZKvXDaoa"
    },
    "executionInfo": {
     "elapsed": 1474,
     "status": "ok",
     "timestamp": 1617168784434,
     "user": {
      "displayName": "Yu-Ting Shen",
      "photoUrl": "",
      "userId": "17266750376611022117"
     },
     "user_tz": 420
    },
    "id": "kOFfgE6pUF-B",
    "outputId": "17b378be-2615-4ff7-fd4f-bfac6b144556"
   },
   "outputs": [
    {
     "data": {
      "text/plain": [
       "Output hidden; open in https://colab.research.google.com to view."
      ]
     },
     "metadata": {},
     "output_type": "display_data"
    }
   ],
   "source": [
    "drop_bar = Select(\n",
    "    title='Dimension',\n",
    "    options=iris.feature_names,\n",
    "    value=iris.feature_names[0]\n",
    ")\n",
    "\n",
    "show(drop_bar)"
   ]
  },
  {
   "cell_type": "markdown",
   "metadata": {
    "id": "4kZZJz-kU2Bj"
   },
   "source": [
    "## 6. Laying out charts & widget to create dashboard layout\n"
   ]
  },
  {
   "cell_type": "code",
   "execution_count": 11,
   "metadata": {
    "colab": {
     "base_uri": "https://localhost:8080/",
     "height": 917,
     "output_embedded_package_id": "11Hk4SA7yHiEkymP9Alp250uJAQk5m4q_"
    },
    "executionInfo": {
     "elapsed": 1702,
     "status": "ok",
     "timestamp": 1617168786893,
     "user": {
      "displayName": "Yu-Ting Shen",
      "photoUrl": "",
      "userId": "17266750376611022117"
     },
     "user_tz": 420
    },
    "id": "1IreAfTiU1Sa",
    "outputId": "8151c161-69de-4fd9-e11c-b21c47041770"
   },
   "outputs": [
    {
     "data": {
      "text/plain": [
       "Output hidden; open in https://colab.research.google.com to view."
      ]
     },
     "metadata": {},
     "output_type": "display_data"
    }
   ],
   "source": [
    "layout_with_widgets = column(\n",
    "    column(checkbox_grp, line_chart),\n",
    "    row(\n",
    "        column(row(drop_scat1, drop_scat2), scatter),\n",
    "        column(drop_bar, bar_chart)\n",
    "    )\n",
    ")\n",
    "\n",
    "show(layout_with_widgets)"
   ]
  },
  {
   "cell_type": "markdown",
   "metadata": {
    "id": "5PfzWWSQVqdu"
   },
   "source": [
    "# 7. Accessing individual elements of dashboard layout with indexing"
   ]
  },
  {
   "cell_type": "code",
   "execution_count": 12,
   "metadata": {
    "colab": {
     "base_uri": "https://localhost:8080/",
     "height": 476,
     "output_embedded_package_id": "1SSLfessKwQafa-XEqCFDMM-S7tdWMGmx"
    },
    "executionInfo": {
     "elapsed": 1726,
     "status": "ok",
     "timestamp": 1617168792544,
     "user": {
      "displayName": "Yu-Ting Shen",
      "photoUrl": "",
      "userId": "17266750376611022117"
     },
     "user_tz": 420
    },
    "id": "GyXvaM_wVf8N",
    "outputId": "304f86a1-c4c2-4794-ceb1-49d324e1f52a"
   },
   "outputs": [
    {
     "data": {
      "text/plain": [
       "Output hidden; open in https://colab.research.google.com to view."
      ]
     },
     "metadata": {},
     "output_type": "display_data"
    }
   ],
   "source": [
    "show(layout_with_widgets.children[1])"
   ]
  },
  {
   "cell_type": "code",
   "execution_count": 13,
   "metadata": {
    "colab": {
     "base_uri": "https://localhost:8080/",
     "height": 476,
     "output_embedded_package_id": "1HqkLiX9E0uPj78giydQbKITczfbKrtvC"
    },
    "executionInfo": {
     "elapsed": 1545,
     "status": "ok",
     "timestamp": 1617168795600,
     "user": {
      "displayName": "Yu-Ting Shen",
      "photoUrl": "",
      "userId": "17266750376611022117"
     },
     "user_tz": 420
    },
    "id": "lzBEf0mHWfZf",
    "outputId": "7c957036-b52a-45a1-fc1c-e47da48dabd5"
   },
   "outputs": [
    {
     "data": {
      "text/plain": [
       "Output hidden; open in https://colab.research.google.com to view."
      ]
     },
     "metadata": {},
     "output_type": "display_data"
    }
   ],
   "source": [
    "show(layout_with_widgets.children[1].children[0])"
   ]
  },
  {
   "cell_type": "markdown",
   "metadata": {
    "id": "7VITkkPNWxQ8"
   },
   "source": [
    "## 8. Callbacks creation & widget attribute registration with callback\n",
    "\n",
    "### 8.1 line chart callback and checkbox attribute registration with callback"
   ]
  },
  {
   "cell_type": "code",
   "execution_count": 14,
   "metadata": {
    "executionInfo": {
     "elapsed": 264,
     "status": "ok",
     "timestamp": 1617169051007,
     "user": {
      "displayName": "Yu-Ting Shen",
      "photoUrl": "",
      "userId": "17266750376611022117"
     },
     "user_tz": 420
    },
    "id": "47Gx_-ILWnq8"
   },
   "outputs": [],
   "source": [
    "def update_line_chart(attrname, old, new): # callback 函數的參數就是 (屬性, 舊的值, 新的值)\n",
    "    '''\n",
    "    Code to update line chart as per check box selection\n",
    "    '''\n",
    "    line_chart = figure(\n",
    "        plot_width=1000,\n",
    "        plot_height=400,\n",
    "        x_axis_type='datetime',\n",
    "        title='Google stock prices from 2005-2013'\n",
    "    )\n",
    "\n",
    "    price_color_map = {\n",
    "        'open': 'dodgerblue',\n",
    "        'close': 'tomato',\n",
    "        'low': 'lime',\n",
    "        'high': 'orange'\n",
    "    }\n",
    "\n",
    "    for option in checkbox_grp.active:\n",
    "        line_chart.line(\n",
    "            x='date',\n",
    "            y=checkbox_options[option],\n",
    "            line_width=0.5,\n",
    "            line_color=price_color_map[checkbox_options[option]],\n",
    "            legend_label=checkbox_options[option],\n",
    "            source=df_google\n",
    "        )\n",
    "\n",
    "    line_chart.xaxis.axis_label='Time'\n",
    "    line_chart.yaxis.axis_label='Price ($)'\n",
    "    line_chart.legend.location='top_left'\n",
    "    layout_with_widgets.children[0].children[1]=line_chart\n",
    "\n",
    "# 要用 on_change() 來把 callback function 註冊\n",
    "# 當 active 屬性改變的時候就呼叫 update_line_chart\n",
    "checkbox_grp.on_change('active', update_line_chart)"
   ]
  },
  {
   "cell_type": "markdown",
   "metadata": {
    "id": "aO4WYvLiyZDf"
   },
   "source": [
    "### 8.2 Scatter chart callback and dropdowns attributes registration with callback"
   ]
  },
  {
   "cell_type": "code",
   "execution_count": 15,
   "metadata": {
    "executionInfo": {
     "elapsed": 423,
     "status": "ok",
     "timestamp": 1617169381398,
     "user": {
      "displayName": "Yu-Ting Shen",
      "photoUrl": "",
      "userId": "17266750376611022117"
     },
     "user_tz": 420
    },
    "id": "MCYW9GX2yfOk"
   },
   "outputs": [],
   "source": [
    "def update_scatter(attrname, old, new):\n",
    "    '''\n",
    "    Code to update scatter chart as per dropdown selections\n",
    "    '''\n",
    "    scatter = figure(\n",
    "        plot_width=500,\n",
    "        plot_height=400,\n",
    "        title='%s vs %s Scatter Plot' % (drop_scat1.value.upper(), drop_scat2.value.upper())\n",
    "    )\n",
    "\n",
    "    for cls in [0, 1, 2]:\n",
    "        scatter.circle(\n",
    "            x=df_iris[df_iris['Flower Type']==cls][drop_scat1.value],\n",
    "            y=df_iris[df_iris['Flower Type']==cls][drop_scat2.value],\n",
    "            color=color_mapping[cls],\n",
    "            size=10,\n",
    "            alpha=0.8,\n",
    "            legend_label=iris.target_names[cls]\n",
    "        )\n",
    "\n",
    "    scatter.xaxis.axis_label=drop_scat1.value.upper()\n",
    "    scatter.yaxis.axis_label=drop_scat2.value.upper()\n",
    "\n",
    "    layout_with_widgets.children[1].children[0].childern[1]=scatter\n",
    "\n",
    "# 註冊 callback function\n",
    "# 當 value 屬性改變的時候就呼叫 update_scatter\n",
    "drop_scat1.on_change('value', update_scatter)\n",
    "drop_scat2.on_change('value', update_scatter)"
   ]
  },
  {
   "cell_type": "markdown",
   "metadata": {
    "id": "bpiKkVK1z1_U"
   },
   "source": [
    "### 8.3 Bar chart callback and dropdown attribute registration with callback"
   ]
  },
  {
   "cell_type": "code",
   "execution_count": 16,
   "metadata": {
    "executionInfo": {
     "elapsed": 561,
     "status": "ok",
     "timestamp": 1617169696648,
     "user": {
      "displayName": "Yu-Ting Shen",
      "photoUrl": "",
      "userId": "17266750376611022117"
     },
     "user_tz": 420
    },
    "id": "21fEZHL8z6Kl"
   },
   "outputs": [],
   "source": [
    "def update_bar_chart(attrname, old, new):\n",
    "    '''\n",
    "    Code to update bar chart as per dropdown selections\n",
    "    '''\n",
    "    bar_chart = figure(\n",
    "        plot_width=500,\n",
    "        plot_height=400,\n",
    "        title='Average %s per flower type' % drop_bar.value.upper()\n",
    "    )\n",
    "\n",
    "    bar_chart.vbar(\n",
    "        x=[1, 2, 3],\n",
    "        width=0.9,\n",
    "        top=iris_avg_by_flower_type[drop_bar.value],\n",
    "        fill_color='tomato',\n",
    "        line_color='tomato',\n",
    "        alpha=0.6\n",
    "    )\n",
    "\n",
    "    bar_chart.xaxis.axis_label='Flower Type'\n",
    "    bar_chart.yaxis.axis_label=drop_bar.value.upper()\n",
    "\n",
    "    bar_chart.xaxis.ticker=[1, 2, 3]\n",
    "    bar_chart.xaxis.major_label_overrides = {\n",
    "        1: 'Setosa',\n",
    "        2: 'Versicolor',\n",
    "        3: 'Virginica'\n",
    "    }\n",
    "\n",
    "    layout_with_widgets.children[1].children[1].children[1]=bar_chart\n",
    "\n",
    "drop_bar.on_change('value', update_bar_chart)"
   ]
  },
  {
   "cell_type": "markdown",
   "metadata": {
    "id": "mFiRnqF81Avt"
   },
   "source": [
    "## 9. Putting all together and bringing up dashboard\n",
    "\n",
    "* 這是要寫在一個 python 檔案中，例如寫在 bokeh_dashboard.py"
   ]
  },
  {
   "cell_type": "code",
   "execution_count": 18,
   "metadata": {
    "executionInfo": {
     "elapsed": 717,
     "status": "ok",
     "timestamp": 1617170723014,
     "user": {
      "displayName": "Yu-Ting Shen",
      "photoUrl": "",
      "userId": "17266750376611022117"
     },
     "user_tz": 420
    },
    "id": "_hqChF5w00Ue"
   },
   "outputs": [],
   "source": [
    "import pandas as pd\n",
    "\n",
    "from bokeh.io import curdoc\n",
    "from bokeh.plotting import figure\n",
    "from bokeh.layouts import row, column\n",
    "from bokeh.models import Select, CheckboxButtonGroup # Widgets\n",
    "\n",
    "# Dataset imports\n",
    "from bokeh.sampledata.stocks import GOOG as google\n",
    "from sklearn.datasets import load_iris, load_wine\n",
    "\n",
    "checkbox_options = ['open', 'high', 'low', 'close']\n",
    "color_mapping = {\n",
    "    0: 'tomato',\n",
    "    1: 'dodgerblue',\n",
    "    2: 'lime'\n",
    "}\n",
    "price_color_map = {\n",
    "    'open': 'dodgerblue',\n",
    "    'close': 'tomato',\n",
    "    'low': 'lime',\n",
    "    'high': 'orange'\n",
    "}\n",
    "\n",
    "# iris dataset loading\n",
    "iris = load_iris()\n",
    "\n",
    "df_iris = pd.DataFrame(data=iris.data, columns=iris.feature_names)\n",
    "df_iris['Flower Type'] = iris.target\n",
    "\n",
    "# Google price dataset loading\n",
    "df_google = pd.DataFrame(google)\n",
    "df_google['date'] = pd.to_datetime(df_google['date'])\n",
    "\n",
    "# line chart of google price code starts\n",
    "line_chart = figure(\n",
    "    plot_width=1000,\n",
    "    plot_height=400,\n",
    "    x_axis_type='datetime',\n",
    "    title='Google stock prices from 2005 - 2013'\n",
    ")\n",
    "\n",
    "line_chart.line(\n",
    "    x='date',\n",
    "    y='open',\n",
    "    line_width=0.5,\n",
    "    line_color='dodgerblue',\n",
    "    legend_label='open',\n",
    "    source=df_google\n",
    ")\n",
    "\n",
    "line_chart.xaxis.axis_label='Time'\n",
    "line_chart.yaxis.axis_label='Price ($)'\n",
    "line_chart.legend.location='top_left'\n",
    "\n",
    "# Scatter chart of iris dimensions code starts\n",
    "scatter = figure(\n",
    "    plot_width=500,\n",
    "    plot_height=400,\n",
    "    title='Sepal length vs sepal width scatter plot'\n",
    ")\n",
    "\n",
    "for cls in [0, 1, 2]:\n",
    "    scatter.circle(\n",
    "        x=df_iris[df_iris['Flower Type']==cls]['sepal length (cm)'],\n",
    "        y=df_iris[df_iris['Flower Type']==cls]['sepal width (cm)'],\n",
    "        color=color_mapping[cls],\n",
    "        size=10,\n",
    "        alpha=0.8,\n",
    "        legend_label=iris.target_names[cls]\n",
    "    )\n",
    "\n",
    "scatter.xaxis.axis_label='sepal length (cm)'.upper()\n",
    "scatter.yaxis.axis_label='sepal width (cm)'.upper()\n",
    "\n",
    "# Bar chart of iris dimensions code starts\n",
    "iris_avg_by_flower_type = df_iris.groupby('Flower Type').mean()\n",
    "\n",
    "bar_chart = figure(\n",
    "    plot_width=500,\n",
    "    plot_height=400,\n",
    "    title='Average sepal length (cm) per flower type'\n",
    ")\n",
    "\n",
    "bar_chart.vbar(\n",
    "    x=[1, 2, 3],\n",
    "    width=0.9,\n",
    "    top=iris_avg_by_flower_type['sepal length (cm)'],\n",
    "    fill_color='tomato',\n",
    "    line_color='tomato',\n",
    "    alpha=0.9\n",
    ")\n",
    "\n",
    "bar_chart.xaxis.axis_label='Flower type'\n",
    "bar_chart.yaxis.axis_label='Sepal length'\n",
    "\n",
    "bar_chart.xaxis.ticker = [1, 2, 3]\n",
    "bar_chart.xaxis.major_label_overrides = {\n",
    "    1: 'Setosa',\n",
    "    2: 'Versicolor',\n",
    "    3: 'Virginica'\n",
    "}\n",
    "\n",
    "# Widgets code starts\n",
    "drop_scat1 = Select(\n",
    "    title='X-axis-dim',\n",
    "    options=iris.feature_names, # 下拉式選單中有什麼可以選\n",
    "    value=iris.feature_names[0], # 預設選取的是哪個\n",
    "    width=225\n",
    ")\n",
    "\n",
    "drop_scat2 = Select(\n",
    "    title='Y-axis-dim',\n",
    "    options=iris.feature_names, # 下拉式選單中有什麼可以選\n",
    "    value=iris.feature_names[1], # 預設選取的是哪個\n",
    "    width=225\n",
    ")\n",
    "\n",
    "checkbox_grp = CheckboxButtonGroup(\n",
    "    labels=checkbox_options,\n",
    "    active=[0], # 預設選取了 checkbox_options 第 0 個 item \n",
    "    button_type='success'\n",
    ")\n",
    "\n",
    "drop_bar = Select(\n",
    "    title='Dimension',\n",
    "    options=iris.feature_names,\n",
    "    value=iris.feature_names[0]\n",
    ")\n",
    "\n",
    "# Code to update charts as per widget state starts\n",
    "def update_line_chart(attrname, old, new): # callback 函數的參數就是 (屬性, 舊的值, 新的值)\n",
    "    '''\n",
    "    Code to update line chart as per check box selection\n",
    "    '''\n",
    "    line_chart = figure(\n",
    "        plot_width=1000,\n",
    "        plot_height=400,\n",
    "        x_axis_type='datetime',\n",
    "        title='Google stock prices from 2005-2013'\n",
    "    )\n",
    "\n",
    "    for option in checkbox_grp.active:\n",
    "        line_chart.line(\n",
    "            x='date',\n",
    "            y=checkbox_options[option],\n",
    "            line_width=0.5,\n",
    "            line_color=price_color_map[checkbox_options[option]],\n",
    "            legend_label=checkbox_options[option],\n",
    "            source=df_google\n",
    "        )\n",
    "\n",
    "    line_chart.xaxis.axis_label='Time'\n",
    "    line_chart.yaxis.axis_label='Price ($)'\n",
    "    line_chart.legend.location='top_left'\n",
    "    layout_with_widgets.children[0].children[1]=line_chart\n",
    "\n",
    "def update_scatter(attrname, old, new):\n",
    "    '''\n",
    "    Code to update scatter chart as per dropdown selections\n",
    "    '''\n",
    "    scatter = figure(\n",
    "        plot_width=500,\n",
    "        plot_height=400,\n",
    "        title='%s vs %s Scatter Plot' % (drop_scat1.value.upper(), drop_scat2.value.upper())\n",
    "    )\n",
    "\n",
    "    for cls in [0, 1, 2]:\n",
    "        scatter.circle(\n",
    "            x=df_iris[df_iris['Flower Type']==cls][drop_scat1.value],\n",
    "            y=df_iris[df_iris['Flower Type']==cls][drop_scat2.value],\n",
    "            color=color_mapping[cls],\n",
    "            size=10,\n",
    "            alpha=0.8,\n",
    "            legend_label=iris.target_names[cls]\n",
    "        )\n",
    "\n",
    "    scatter.xaxis.axis_label=drop_scat1.value.upper()\n",
    "    scatter.yaxis.axis_label=drop_scat2.value.upper()\n",
    "\n",
    "    layout_with_widgets.children[1].children[0].childern[1]=scatter\n",
    "\n",
    "def update_bar_chart(attrname, old, new):\n",
    "    '''\n",
    "    Code to update bar chart as per dropdown selections\n",
    "    '''\n",
    "    bar_chart = figure(\n",
    "        plot_width=500,\n",
    "        plot_height=400,\n",
    "        title='Average %s per flower type' % drop_bar.value.upper()\n",
    "    )\n",
    "\n",
    "    bar_chart.vbar(\n",
    "        x=[1, 2, 3],\n",
    "        width=0.9,\n",
    "        top=iris_avg_by_flower_type[drop_bar.value],\n",
    "        fill_color='tomato',\n",
    "        line_color='tomato',\n",
    "        alpha=0.9\n",
    "    )\n",
    "\n",
    "    bar_chart.xaxis.axis_label='Flower Type'\n",
    "    bar_chart.yaxis.axis_label=drop_bar.value.upper()\n",
    "\n",
    "    bar_chart.xaxis.ticker=[1, 2, 3]\n",
    "    bar_chart.xaxis.major_label_overrides = {\n",
    "        1: 'Setosa',\n",
    "        2: 'Versicolor',\n",
    "        3: 'Virginica'\n",
    "    }\n",
    "\n",
    "    layout_with_widgets.children[1].children[1].children[1]=bar_chart\n",
    "\n",
    "# Regustering widget attribute change with methods code starts\n",
    "checkbox_grp.on_change('active', update_line_chart)\n",
    "\n",
    "drop_scat1.on_change('value', update_scatter)\n",
    "drop_scat2.on_change('value', update_scatter)\n",
    "\n",
    "drop_bar.on_change('value', update_bar_chart)\n",
    "\n",
    "# Widget layout\n",
    "layout_with_widgets = column(\n",
    "    column(checkbox_grp, line_chart),\n",
    "    row(\n",
    "        column(row(drop_scat1, drop_scat2), scatter),\n",
    "        column(drop_bar, bar_chart)\n",
    "    )\n",
    ")\n",
    "\n",
    "# Creating dashboard\n",
    "curdoc().add_root(layout_with_widgets)"
   ]
  },
  {
   "cell_type": "markdown",
   "metadata": {
    "id": "3u2BqF2Y4oJT"
   },
   "source": [
    "## 10. Bringing up dashboard"
   ]
  },
  {
   "cell_type": "code",
   "execution_count": 19,
   "metadata": {
    "colab": {
     "base_uri": "https://localhost:8080/"
    },
    "executionInfo": {
     "elapsed": 1259,
     "status": "ok",
     "timestamp": 1617170758788,
     "user": {
      "displayName": "Yu-Ting Shen",
      "photoUrl": "",
      "userId": "17266750376611022117"
     },
     "user_tz": 420
    },
    "id": "c_3APdEt40lp",
    "outputId": "1cdb1a60-9a1f-4811-a0a0-bd66476b4af1"
   },
   "outputs": [
    {
     "name": "stdout",
     "output_type": "stream",
     "text": [
      "ERROR: Path for Bokeh server application does not exist: /content/bokeh_dashboard.py\n"
     ]
    }
   ],
   "source": [
    "!bokeh serve --show bokeh_dashboard.py"
   ]
  },
  {
   "cell_type": "code",
   "execution_count": null,
   "metadata": {
    "id": "4449h-qP43da"
   },
   "outputs": [],
   "source": []
  }
 ],
 "metadata": {
  "colab": {
   "authorship_tag": "ABX9TyPJ6ZKfnzTWbJ/DFszSOXKG",
   "name": "How_to_create_simple_dashboard_with_widgets_in_Python_Bokeh.ipynb",
   "provenance": []
  },
  "kernelspec": {
   "display_name": "Python 3 (ipykernel)",
   "language": "python",
   "name": "python3"
  },
  "language_info": {
   "codemirror_mode": {
    "name": "ipython",
    "version": 3
   },
   "file_extension": ".py",
   "mimetype": "text/x-python",
   "name": "python",
   "nbconvert_exporter": "python",
   "pygments_lexer": "ipython3",
   "version": "3.7.11"
  }
 },
 "nbformat": 4,
 "nbformat_minor": 1
}
