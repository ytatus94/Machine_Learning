{
 "cells": [
  {
   "cell_type": "markdown",
   "metadata": {
    "id": "7tISgtffMBKq"
   },
   "source": [
    "# Bokeh: How to layout charts to create figure\n",
    "\n",
    "* Ref: [https://coderzcolumn.com/tutorials/data-science/bokeh-how-to-layout-charts-to-create-figure](https://coderzcolumn.com/tutorials/data-science/bokeh-how-to-layout-charts-to-create-figure)\n"
   ]
  },
  {
   "cell_type": "markdown",
   "metadata": {
    "id": "d0qAURlIMhXV"
   },
   "source": [
    "## 1. Load dataset"
   ]
  },
  {
   "cell_type": "code",
   "execution_count": 1,
   "metadata": {
    "executionInfo": {
     "elapsed": 869,
     "status": "ok",
     "timestamp": 1617343631351,
     "user": {
      "displayName": "Yu-Ting Shen",
      "photoUrl": "",
      "userId": "17266750376611022117"
     },
     "user_tz": 420
    },
    "id": "Vm4HQWYIL6NW"
   },
   "outputs": [],
   "source": [
    "from bokeh.io import output_notebook, show\n",
    "from bokeh.plotting import figure\n",
    "from bokeh.resources import INLINE\n",
    "\n",
    "output_notebook(resources=INLINE)"
   ]
  },
  {
   "cell_type": "code",
   "execution_count": 2,
   "metadata": {
    "colab": {
     "base_uri": "https://localhost:8080/",
     "height": 204
    },
    "executionInfo": {
     "elapsed": 261,
     "status": "ok",
     "timestamp": 1617343665232,
     "user": {
      "displayName": "Yu-Ting Shen",
      "photoUrl": "",
      "userId": "17266750376611022117"
     },
     "user_tz": 420
    },
    "id": "iNQYRhYJMTsR",
    "outputId": "ec94b8f6-8dda-4719-8830-de32049b2a85"
   },
   "outputs": [
    {
     "data": {
      "text/html": [
       "<div>\n",
       "<style scoped>\n",
       "    .dataframe tbody tr th:only-of-type {\n",
       "        vertical-align: middle;\n",
       "    }\n",
       "\n",
       "    .dataframe tbody tr th {\n",
       "        vertical-align: top;\n",
       "    }\n",
       "\n",
       "    .dataframe thead th {\n",
       "        text-align: right;\n",
       "    }\n",
       "</style>\n",
       "<table border=\"1\" class=\"dataframe\">\n",
       "  <thead>\n",
       "    <tr style=\"text-align: right;\">\n",
       "      <th></th>\n",
       "      <th>mpg</th>\n",
       "      <th>cyl</th>\n",
       "      <th>displ</th>\n",
       "      <th>hp</th>\n",
       "      <th>weight</th>\n",
       "      <th>accel</th>\n",
       "      <th>yr</th>\n",
       "      <th>origin</th>\n",
       "      <th>name</th>\n",
       "    </tr>\n",
       "  </thead>\n",
       "  <tbody>\n",
       "    <tr>\n",
       "      <th>0</th>\n",
       "      <td>18.0</td>\n",
       "      <td>8</td>\n",
       "      <td>307.0</td>\n",
       "      <td>130</td>\n",
       "      <td>3504</td>\n",
       "      <td>12.0</td>\n",
       "      <td>70</td>\n",
       "      <td>1</td>\n",
       "      <td>chevrolet chevelle malibu</td>\n",
       "    </tr>\n",
       "    <tr>\n",
       "      <th>1</th>\n",
       "      <td>15.0</td>\n",
       "      <td>8</td>\n",
       "      <td>350.0</td>\n",
       "      <td>165</td>\n",
       "      <td>3693</td>\n",
       "      <td>11.5</td>\n",
       "      <td>70</td>\n",
       "      <td>1</td>\n",
       "      <td>buick skylark 320</td>\n",
       "    </tr>\n",
       "    <tr>\n",
       "      <th>2</th>\n",
       "      <td>18.0</td>\n",
       "      <td>8</td>\n",
       "      <td>318.0</td>\n",
       "      <td>150</td>\n",
       "      <td>3436</td>\n",
       "      <td>11.0</td>\n",
       "      <td>70</td>\n",
       "      <td>1</td>\n",
       "      <td>plymouth satellite</td>\n",
       "    </tr>\n",
       "    <tr>\n",
       "      <th>3</th>\n",
       "      <td>16.0</td>\n",
       "      <td>8</td>\n",
       "      <td>304.0</td>\n",
       "      <td>150</td>\n",
       "      <td>3433</td>\n",
       "      <td>12.0</td>\n",
       "      <td>70</td>\n",
       "      <td>1</td>\n",
       "      <td>amc rebel sst</td>\n",
       "    </tr>\n",
       "    <tr>\n",
       "      <th>4</th>\n",
       "      <td>17.0</td>\n",
       "      <td>8</td>\n",
       "      <td>302.0</td>\n",
       "      <td>140</td>\n",
       "      <td>3449</td>\n",
       "      <td>10.5</td>\n",
       "      <td>70</td>\n",
       "      <td>1</td>\n",
       "      <td>ford torino</td>\n",
       "    </tr>\n",
       "  </tbody>\n",
       "</table>\n",
       "</div>"
      ],
      "text/plain": [
       "    mpg  cyl  displ   hp  weight  accel  yr  origin                       name\n",
       "0  18.0    8  307.0  130    3504   12.0  70       1  chevrolet chevelle malibu\n",
       "1  15.0    8  350.0  165    3693   11.5  70       1          buick skylark 320\n",
       "2  18.0    8  318.0  150    3436   11.0  70       1         plymouth satellite\n",
       "3  16.0    8  304.0  150    3433   12.0  70       1              amc rebel sst\n",
       "4  17.0    8  302.0  140    3449   10.5  70       1                ford torino"
      ]
     },
     "execution_count": 2,
     "metadata": {
      "tags": []
     },
     "output_type": "execute_result"
    }
   ],
   "source": [
    "from bokeh.sampledata.autompg import autompg\n",
    "from bokeh.sampledata.iris import flowers\n",
    "\n",
    "autompg.head()"
   ]
  },
  {
   "cell_type": "markdown",
   "metadata": {
    "id": "BX6u-LC_MjWf"
   },
   "source": [
    "## 2. Row layout"
   ]
  },
  {
   "cell_type": "code",
   "execution_count": 3,
   "metadata": {
    "colab": {
     "base_uri": "https://localhost:8080/",
     "height": 337,
     "output_embedded_package_id": "1KGIGkkukKNmV_oY7BFCH8k11oaB6Sr6Z"
    },
    "executionInfo": {
     "elapsed": 1979,
     "status": "ok",
     "timestamp": 1617344009186,
     "user": {
      "displayName": "Yu-Ting Shen",
      "photoUrl": "",
      "userId": "17266750376611022117"
     },
     "user_tz": 420
    },
    "id": "OjabBkjGMdMe",
    "outputId": "dac93b11-c86d-497a-9c33-e5feb89a318b"
   },
   "outputs": [
    {
     "data": {
      "text/plain": [
       "Output hidden; open in https://colab.research.google.com to view."
      ]
     },
     "metadata": {},
     "output_type": "display_data"
    }
   ],
   "source": [
    "from bokeh.layouts import row\n",
    "\n",
    "# chart 1: scatter plot\n",
    "chart1 = figure(\n",
    "    width=300,\n",
    "    height=300\n",
    ")\n",
    "chart1.circle(\n",
    "    x=autompg['mpg'],\n",
    "    y=autompg['hp'],\n",
    "    size=8,\n",
    "    alpha=0.9,\n",
    "    fill_color='lawngreen',\n",
    "    line_color='tomato'\n",
    ")\n",
    "chart1.xaxis.axis_label='MPG'\n",
    "chart1.yaxis.axis_label='Horsepower'\n",
    "\n",
    "# chart 2: bar chart\n",
    "autompg_avg_by_origin = autompg.groupby(by='origin').mean()\n",
    "chart2 = figure(\n",
    "    width=300,\n",
    "    height=300\n",
    ")\n",
    "chart2.vbar(\n",
    "    x=[1, 2, 3],\n",
    "    width=0.8,\n",
    "    top=autompg_avg_by_origin.mpg,\n",
    "    fill_color='dodgerblue',\n",
    "    line_color='dodgerblue',\n",
    "    alpha=0.9\n",
    ")\n",
    "chart2.xaxis.axis_label='Region'\n",
    "chart2.yaxis.axis_label='MPG'\n",
    "chart2.xaxis.ticker=[1, 2, 3]\n",
    "\n",
    "# chart 3: horizontal bar chart\n",
    "chart3 = figure(\n",
    "    width=300,\n",
    "    height=300\n",
    ")\n",
    "chart3.hbar(\n",
    "    y=[1, 2, 3],\n",
    "    height=0.8,\n",
    "    right=autompg_avg_by_origin.mpg,\n",
    "    fill_color='tomato',\n",
    "    line_color='red'\n",
    ")\n",
    "chart3.xaxis.axis_label='MPG'\n",
    "chart3.yaxis.axis_label='Region'\n",
    "chart3.yaxis.ticker=[1, 2, 3]\n",
    "\n",
    "show(row(chart1, chart2, chart3))"
   ]
  },
  {
   "cell_type": "markdown",
   "metadata": {
    "id": "9hALTV4SNymt"
   },
   "source": [
    "## 3. Column layout"
   ]
  },
  {
   "cell_type": "code",
   "execution_count": 4,
   "metadata": {
    "colab": {
     "base_uri": "https://localhost:8080/",
     "height": 917,
     "output_embedded_package_id": "1C8lc8F1uLllW0c9k9v5Lza4hj0-PJxFO"
    },
    "executionInfo": {
     "elapsed": 1737,
     "status": "ok",
     "timestamp": 1617344058026,
     "user": {
      "displayName": "Yu-Ting Shen",
      "photoUrl": "",
      "userId": "17266750376611022117"
     },
     "user_tz": 420
    },
    "id": "SByAHvraNwvH",
    "outputId": "1531ce98-7808-42e7-ca96-831b018d4220"
   },
   "outputs": [
    {
     "data": {
      "text/plain": [
       "Output hidden; open in https://colab.research.google.com to view."
      ]
     },
     "metadata": {},
     "output_type": "display_data"
    }
   ],
   "source": [
    "from bokeh.layouts import column\n",
    "show(column(chart1, chart2, chart3))"
   ]
  },
  {
   "cell_type": "code",
   "execution_count": 6,
   "metadata": {
    "colab": {
     "base_uri": "https://localhost:8080/",
     "height": 617,
     "output_embedded_package_id": "1uhiiYhOdaPfI669IyTG3bBCIa4gYEYlx"
    },
    "executionInfo": {
     "elapsed": 1880,
     "status": "ok",
     "timestamp": 1617344111253,
     "user": {
      "displayName": "Yu-Ting Shen",
      "photoUrl": "",
      "userId": "17266750376611022117"
     },
     "user_tz": 420
    },
    "id": "C84Z2LCyN8ud",
    "outputId": "ec360ceb-6314-4ec7-ee86-490b16acf3e1"
   },
   "outputs": [
    {
     "data": {
      "text/plain": [
       "Output hidden; open in https://colab.research.google.com to view."
      ]
     },
     "metadata": {},
     "output_type": "display_data"
    }
   ],
   "source": [
    "show(\n",
    "    column(\n",
    "        chart1,\n",
    "        row(chart2, chart3)\n",
    "    )\n",
    ")"
   ]
  },
  {
   "cell_type": "markdown",
   "metadata": {
    "id": "Hlwa8ucxOLt-"
   },
   "source": [
    "## 4. Grid layout"
   ]
  },
  {
   "cell_type": "code",
   "execution_count": 7,
   "metadata": {
    "colab": {
     "base_uri": "https://localhost:8080/",
     "height": 647,
     "output_embedded_package_id": "1KA3JXVLxj0zQj7lKlHn-mzkIMcrlkI7x"
    },
    "executionInfo": {
     "elapsed": 1786,
     "status": "ok",
     "timestamp": 1617344277482,
     "user": {
      "displayName": "Yu-Ting Shen",
      "photoUrl": "",
      "userId": "17266750376611022117"
     },
     "user_tz": 420
    },
    "id": "-PcRmGi3OInB",
    "outputId": "f764c88e-148d-4ed2-babd-beba2245071e"
   },
   "outputs": [
    {
     "data": {
      "text/plain": [
       "Output hidden; open in https://colab.research.google.com to view."
      ]
     },
     "metadata": {},
     "output_type": "display_data"
    }
   ],
   "source": [
    "from bokeh.layouts import gridplot\n",
    "grid_layout = gridplot(\n",
    "    [\n",
    "     [None, chart1],\n",
    "     [chart2, chart3]\n",
    "    ],\n",
    "    plot_width=300,\n",
    "    plot_height=300\n",
    ")\n",
    "show(grid_layout)"
   ]
  },
  {
   "cell_type": "code",
   "execution_count": 8,
   "metadata": {
    "colab": {
     "base_uri": "https://localhost:8080/",
     "height": 684,
     "output_embedded_package_id": "1XCS23dlcCed-D9FVL2lIRfH6LulvoOsT"
    },
    "executionInfo": {
     "elapsed": 1965,
     "status": "ok",
     "timestamp": 1617344316871,
     "user": {
      "displayName": "Yu-Ting Shen",
      "photoUrl": "",
      "userId": "17266750376611022117"
     },
     "user_tz": 420
    },
    "id": "HxIJz8bqOyTJ",
    "outputId": "c4af5dbc-e3e4-4f64-b6d1-7ae2b7c382cc"
   },
   "outputs": [
    {
     "data": {
      "text/plain": [
       "Output hidden; open in https://colab.research.google.com to view."
      ]
     },
     "metadata": {},
     "output_type": "display_data"
    }
   ],
   "source": [
    "grid_layout = gridplot([chart1, chart3, chart3], ncols=2)\n",
    "show(grid_layout)"
   ]
  },
  {
   "cell_type": "code",
   "execution_count": 10,
   "metadata": {
    "colab": {
     "base_uri": "https://localhost:8080/",
     "height": 647,
     "output_embedded_package_id": "187J6sThq-wYFwyZEl4rIH9JmCSATh__e"
    },
    "executionInfo": {
     "elapsed": 1789,
     "status": "ok",
     "timestamp": 1617344450904,
     "user": {
      "displayName": "Yu-Ting Shen",
      "photoUrl": "",
      "userId": "17266750376611022117"
     },
     "user_tz": 420
    },
    "id": "eb6c3yB3O730",
    "outputId": "283c91c6-4359-457c-cbaa-3f1aa2c75022"
   },
   "outputs": [
    {
     "data": {
      "text/plain": [
       "Output hidden; open in https://colab.research.google.com to view."
      ]
     },
     "metadata": {},
     "output_type": "display_data"
    }
   ],
   "source": [
    "chart4 = figure(\n",
    "    width=300,\n",
    "    height=300\n",
    ")\n",
    "chart4.square(\n",
    "    x=autompg['accel'],\n",
    "    y=autompg['displ'],\n",
    "    size=8,\n",
    "    alpha=0.9,\n",
    "    fill_color='orange',\n",
    "    line_color='black'\n",
    ")\n",
    "chart4.xaxis.axis_label='Acceleration'\n",
    "chart4.yaxis.axis_label='Disposition'\n",
    "\n",
    "grid_layout = gridplot(\n",
    "    [\n",
    "     [chart1, chart4],\n",
    "     [chart2, chart3],\n",
    "    ],\n",
    "    plot_width=300,\n",
    "    plot_height=300\n",
    ")\n",
    "\n",
    "show(grid_layout)"
   ]
  },
  {
   "cell_type": "code",
   "execution_count": 11,
   "metadata": {
    "colab": {
     "base_uri": "https://localhost:8080/",
     "height": 617,
     "output_embedded_package_id": "1RiU9oP0H-XDtrpaRGLU-0BOCd53Ju7r7"
    },
    "executionInfo": {
     "elapsed": 1800,
     "status": "ok",
     "timestamp": 1617344517459,
     "user": {
      "displayName": "Yu-Ting Shen",
      "photoUrl": "",
      "userId": "17266750376611022117"
     },
     "user_tz": 420
    },
    "id": "B8r_J1SMPbOV",
    "outputId": "82eca83c-2062-4933-90f3-ae36b989e663"
   },
   "outputs": [
    {
     "data": {
      "text/plain": [
       "Output hidden; open in https://colab.research.google.com to view."
      ]
     },
     "metadata": {},
     "output_type": "display_data"
    }
   ],
   "source": [
    "from bokeh.layouts import grid\n",
    "grid_layout = grid(\n",
    "    [\n",
    "     [chart1],\n",
    "     [chart2, chart3]\n",
    "    ]\n",
    ")\n",
    "show(grid_layout)"
   ]
  },
  {
   "cell_type": "code",
   "execution_count": 12,
   "metadata": {
    "colab": {
     "base_uri": "https://localhost:8080/",
     "height": 617,
     "output_embedded_package_id": "1LSX1CbSiaMVCCwHWrfTN696Nld9ylmCN"
    },
    "executionInfo": {
     "elapsed": 1704,
     "status": "ok",
     "timestamp": 1617344561431,
     "user": {
      "displayName": "Yu-Ting Shen",
      "photoUrl": "",
      "userId": "17266750376611022117"
     },
     "user_tz": 420
    },
    "id": "eIGzHqgqPs4g",
    "outputId": "b4c74688-e922-4710-a843-24674c249cf7"
   },
   "outputs": [
    {
     "data": {
      "text/plain": [
       "Output hidden; open in https://colab.research.google.com to view."
      ]
     },
     "metadata": {},
     "output_type": "display_data"
    }
   ],
   "source": [
    "grid_layout = grid([chart1, chart2, chart3], nrows=2)\n",
    "show(grid_layout)"
   ]
  },
  {
   "cell_type": "markdown",
   "metadata": {
    "id": "DFvTlO7IP56c"
   },
   "source": [
    "## 5. Custom layout"
   ]
  },
  {
   "cell_type": "code",
   "execution_count": 14,
   "metadata": {
    "colab": {
     "base_uri": "https://localhost:8080/",
     "height": 617,
     "output_embedded_package_id": "1SuEMG46L4HeUHCH5oFf8Rip1OQxk4xtI"
    },
    "executionInfo": {
     "elapsed": 1884,
     "status": "ok",
     "timestamp": 1617344641094,
     "user": {
      "displayName": "Yu-Ting Shen",
      "photoUrl": "",
      "userId": "17266750376611022117"
     },
     "user_tz": 420
    },
    "id": "DX_twYTYP3pG",
    "outputId": "6755d9f7-b3a2-4591-a56f-9218bdf637e6"
   },
   "outputs": [
    {
     "data": {
      "text/plain": [
       "Output hidden; open in https://colab.research.google.com to view."
      ]
     },
     "metadata": {},
     "output_type": "display_data"
    }
   ],
   "source": [
    "from bokeh.layouts import layout\n",
    "figure_layout = layout(\n",
    "    [chart1, [chart2, chart3]],\n",
    "    sizing_mode='scale_height'\n",
    ")\n",
    "show(figure_layout)"
   ]
  },
  {
   "cell_type": "code",
   "execution_count": null,
   "metadata": {
    "id": "CD4KlwUkQKBr"
   },
   "outputs": [],
   "source": []
  }
 ],
 "metadata": {
  "colab": {
   "authorship_tag": "ABX9TyMqa1hWlT7iBrH8bKNdXvjt",
   "name": "Bokeh_how_to_layout_charts_to_create_figure.ipynb",
   "provenance": []
  },
  "kernelspec": {
   "display_name": "Python 3 (ipykernel)",
   "language": "python",
   "name": "python3"
  },
  "language_info": {
   "codemirror_mode": {
    "name": "ipython",
    "version": 3
   },
   "file_extension": ".py",
   "mimetype": "text/x-python",
   "name": "python",
   "nbconvert_exporter": "python",
   "pygments_lexer": "ipython3",
   "version": "3.7.11"
  }
 },
 "nbformat": 4,
 "nbformat_minor": 1
}
