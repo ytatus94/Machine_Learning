{
 "cells": [
  {
   "cell_type": "markdown",
   "metadata": {
    "id": "o6B1A-2VbRZS"
   },
   "source": [
    "# Interactive plotting in Python using Bokeh\n",
    "\n",
    "## 1. Introduction\n",
    "* `bokeh.plotting.figure()` 用來畫圖\n",
    "* `output_notebook()` 把結果輸出到 notebook 中, `output_file()` 把結果輸出到檔案中\n",
    "  * `bokeh.io` 用來處理檔案 IO\n",
    "* `show()` 把圖畫到 notebook 中，`save()` 把圖畫到檔案中\n",
    "  * 要先呼叫 `output_notebook()` 後才能使用 `show()`"
   ]
  },
  {
   "cell_type": "code",
   "execution_count": 1,
   "metadata": {
    "executionInfo": {
     "elapsed": 1592,
     "status": "ok",
     "timestamp": 1617315072616,
     "user": {
      "displayName": "Yu-Ting Shen",
      "photoUrl": "",
      "userId": "17266750376611022117"
     },
     "user_tz": 420
    },
    "id": "mNlNC9lnbH2L"
   },
   "outputs": [],
   "source": [
    "from bokeh.io import output_notebook, show\n",
    "from bokeh.plotting import figure\n",
    "from bokeh.resources import INLINE\n",
    "\n",
    "output_notebook(resources=INLINE)"
   ]
  },
  {
   "cell_type": "markdown",
   "metadata": {
    "id": "WANgksNZciKK"
   },
   "source": [
    "## 2. Loading dataset\n",
    "\n",
    "* `bokeh.sampledata` 有很多 pandas dataframe 格式的 dataset"
   ]
  },
  {
   "cell_type": "code",
   "execution_count": 2,
   "metadata": {
    "colab": {
     "base_uri": "https://localhost:8080/",
     "height": 204
    },
    "executionInfo": {
     "elapsed": 1580,
     "status": "ok",
     "timestamp": 1617315072617,
     "user": {
      "displayName": "Yu-Ting Shen",
      "photoUrl": "",
      "userId": "17266750376611022117"
     },
     "user_tz": 420
    },
    "id": "6baAHamscVL4",
    "outputId": "c98f0cde-2dee-434e-a0d9-2e661388021f"
   },
   "outputs": [
    {
     "data": {
      "text/html": [
       "<div>\n",
       "<style scoped>\n",
       "    .dataframe tbody tr th:only-of-type {\n",
       "        vertical-align: middle;\n",
       "    }\n",
       "\n",
       "    .dataframe tbody tr th {\n",
       "        vertical-align: top;\n",
       "    }\n",
       "\n",
       "    .dataframe thead th {\n",
       "        text-align: right;\n",
       "    }\n",
       "</style>\n",
       "<table border=\"1\" class=\"dataframe\">\n",
       "  <thead>\n",
       "    <tr style=\"text-align: right;\">\n",
       "      <th></th>\n",
       "      <th>mpg</th>\n",
       "      <th>cyl</th>\n",
       "      <th>displ</th>\n",
       "      <th>hp</th>\n",
       "      <th>weight</th>\n",
       "      <th>accel</th>\n",
       "      <th>yr</th>\n",
       "      <th>origin</th>\n",
       "      <th>name</th>\n",
       "      <th>mfr</th>\n",
       "    </tr>\n",
       "  </thead>\n",
       "  <tbody>\n",
       "    <tr>\n",
       "      <th>0</th>\n",
       "      <td>18.0</td>\n",
       "      <td>8</td>\n",
       "      <td>307.0</td>\n",
       "      <td>130</td>\n",
       "      <td>3504</td>\n",
       "      <td>12.0</td>\n",
       "      <td>70</td>\n",
       "      <td>North America</td>\n",
       "      <td>chevrolet chevelle malibu</td>\n",
       "      <td>chevrolet</td>\n",
       "    </tr>\n",
       "    <tr>\n",
       "      <th>1</th>\n",
       "      <td>15.0</td>\n",
       "      <td>8</td>\n",
       "      <td>350.0</td>\n",
       "      <td>165</td>\n",
       "      <td>3693</td>\n",
       "      <td>11.5</td>\n",
       "      <td>70</td>\n",
       "      <td>North America</td>\n",
       "      <td>buick skylark 320</td>\n",
       "      <td>buick</td>\n",
       "    </tr>\n",
       "    <tr>\n",
       "      <th>2</th>\n",
       "      <td>18.0</td>\n",
       "      <td>8</td>\n",
       "      <td>318.0</td>\n",
       "      <td>150</td>\n",
       "      <td>3436</td>\n",
       "      <td>11.0</td>\n",
       "      <td>70</td>\n",
       "      <td>North America</td>\n",
       "      <td>plymouth satellite</td>\n",
       "      <td>plymouth</td>\n",
       "    </tr>\n",
       "    <tr>\n",
       "      <th>3</th>\n",
       "      <td>16.0</td>\n",
       "      <td>8</td>\n",
       "      <td>304.0</td>\n",
       "      <td>150</td>\n",
       "      <td>3433</td>\n",
       "      <td>12.0</td>\n",
       "      <td>70</td>\n",
       "      <td>North America</td>\n",
       "      <td>amc rebel sst</td>\n",
       "      <td>amc</td>\n",
       "    </tr>\n",
       "    <tr>\n",
       "      <th>4</th>\n",
       "      <td>17.0</td>\n",
       "      <td>8</td>\n",
       "      <td>302.0</td>\n",
       "      <td>140</td>\n",
       "      <td>3449</td>\n",
       "      <td>10.5</td>\n",
       "      <td>70</td>\n",
       "      <td>North America</td>\n",
       "      <td>ford torino</td>\n",
       "      <td>ford</td>\n",
       "    </tr>\n",
       "  </tbody>\n",
       "</table>\n",
       "</div>"
      ],
      "text/plain": [
       "    mpg  cyl  displ  ...         origin                       name        mfr\n",
       "0  18.0    8  307.0  ...  North America  chevrolet chevelle malibu  chevrolet\n",
       "1  15.0    8  350.0  ...  North America          buick skylark 320      buick\n",
       "2  18.0    8  318.0  ...  North America         plymouth satellite   plymouth\n",
       "3  16.0    8  304.0  ...  North America              amc rebel sst        amc\n",
       "4  17.0    8  302.0  ...  North America                ford torino       ford\n",
       "\n",
       "[5 rows x 10 columns]"
      ]
     },
     "execution_count": 2,
     "metadata": {
      "tags": []
     },
     "output_type": "execute_result"
    }
   ],
   "source": [
    "from bokeh.sampledata.autompg import autompg_clean as df_autompg\n",
    "df_autompg.head()"
   ]
  },
  {
   "cell_type": "code",
   "execution_count": 3,
   "metadata": {
    "colab": {
     "base_uri": "https://localhost:8080/",
     "height": 1000
    },
    "executionInfo": {
     "elapsed": 5508,
     "status": "ok",
     "timestamp": 1617315076883,
     "user": {
      "displayName": "Yu-Ting Shen",
      "photoUrl": "",
      "userId": "17266750376611022117"
     },
     "user_tz": 420
    },
    "id": "Y2wvk104dnDB",
    "outputId": "e1a718d7-21ce-4580-f4c6-03531a7e1613"
   },
   "outputs": [
    {
     "name": "stdout",
     "output_type": "stream",
     "text": [
      "Creating /root/.bokeh directory\n",
      "Creating /root/.bokeh/data directory\n",
      "Using data directory: /root/.bokeh/data\n",
      "Downloading: CGM.csv (1589982 bytes)\n",
      "   1589982 [100.00%]\n",
      "Downloading: US_Counties.zip (3171836 bytes)\n",
      "   3171836 [100.00%]\n",
      "Unpacking: US_Counties.csv\n",
      "Downloading: us_cities.json (713565 bytes)\n",
      "    713565 [100.00%]\n",
      "Downloading: unemployment09.csv (253301 bytes)\n",
      "    253301 [100.00%]\n",
      "Downloading: AAPL.csv (166698 bytes)\n",
      "    166698 [100.00%]\n",
      "Downloading: FB.csv (9706 bytes)\n",
      "      9706 [100.00%]\n",
      "Downloading: GOOG.csv (113894 bytes)\n",
      "    113894 [100.00%]\n",
      "Downloading: IBM.csv (165625 bytes)\n",
      "    165625 [100.00%]\n",
      "Downloading: MSFT.csv (161614 bytes)\n",
      "    161614 [100.00%]\n",
      "Downloading: WPP2012_SA_DB03_POPULATION_QUINQUENNIAL.zip (4816256 bytes)\n",
      "   4816256 [100.00%]\n",
      "Unpacking: WPP2012_SA_DB03_POPULATION_QUINQUENNIAL.csv\n",
      "Downloading: gapminder_fertility.csv (64346 bytes)\n",
      "     64346 [100.00%]\n",
      "Downloading: gapminder_population.csv (94509 bytes)\n",
      "     94509 [100.00%]\n",
      "Downloading: gapminder_life_expectancy.csv (73243 bytes)\n",
      "     73243 [100.00%]\n",
      "Downloading: gapminder_regions.csv (7781 bytes)\n",
      "      7781 [100.00%]\n",
      "Downloading: world_cities.zip (645274 bytes)\n",
      "    645274 [100.00%]\n",
      "Unpacking: world_cities.csv\n",
      "Downloading: airports.json (6373 bytes)\n",
      "      6373 [100.00%]\n",
      "Downloading: movies.db.zip (5053420 bytes)\n",
      "   5053420 [100.00%]\n",
      "Unpacking: movies.db\n",
      "Downloading: airports.csv (203190 bytes)\n",
      "    203190 [100.00%]\n",
      "Downloading: routes.csv (377280 bytes)\n",
      "    377280 [100.00%]\n",
      "Downloading: haarcascade_frontalface_default.xml (930127 bytes)\n",
      "    930127 [100.00%]\n"
     ]
    },
    {
     "data": {
      "text/html": [
       "<div>\n",
       "<style scoped>\n",
       "    .dataframe tbody tr th:only-of-type {\n",
       "        vertical-align: middle;\n",
       "    }\n",
       "\n",
       "    .dataframe tbody tr th {\n",
       "        vertical-align: top;\n",
       "    }\n",
       "\n",
       "    .dataframe thead th {\n",
       "        text-align: right;\n",
       "    }\n",
       "</style>\n",
       "<table border=\"1\" class=\"dataframe\">\n",
       "  <thead>\n",
       "    <tr style=\"text-align: right;\">\n",
       "      <th></th>\n",
       "      <th>date</th>\n",
       "      <th>open</th>\n",
       "      <th>high</th>\n",
       "      <th>low</th>\n",
       "      <th>close</th>\n",
       "      <th>volume</th>\n",
       "      <th>adj_close</th>\n",
       "    </tr>\n",
       "  </thead>\n",
       "  <tbody>\n",
       "    <tr>\n",
       "      <th>0</th>\n",
       "      <td>2004-08-19</td>\n",
       "      <td>100.00</td>\n",
       "      <td>104.06</td>\n",
       "      <td>95.96</td>\n",
       "      <td>100.34</td>\n",
       "      <td>22351900</td>\n",
       "      <td>100.34</td>\n",
       "    </tr>\n",
       "    <tr>\n",
       "      <th>1</th>\n",
       "      <td>2004-08-20</td>\n",
       "      <td>101.01</td>\n",
       "      <td>109.08</td>\n",
       "      <td>100.50</td>\n",
       "      <td>108.31</td>\n",
       "      <td>11428600</td>\n",
       "      <td>108.31</td>\n",
       "    </tr>\n",
       "    <tr>\n",
       "      <th>2</th>\n",
       "      <td>2004-08-23</td>\n",
       "      <td>110.75</td>\n",
       "      <td>113.48</td>\n",
       "      <td>109.05</td>\n",
       "      <td>109.40</td>\n",
       "      <td>9137200</td>\n",
       "      <td>109.40</td>\n",
       "    </tr>\n",
       "    <tr>\n",
       "      <th>3</th>\n",
       "      <td>2004-08-24</td>\n",
       "      <td>111.24</td>\n",
       "      <td>111.60</td>\n",
       "      <td>103.57</td>\n",
       "      <td>104.87</td>\n",
       "      <td>7631300</td>\n",
       "      <td>104.87</td>\n",
       "    </tr>\n",
       "    <tr>\n",
       "      <th>4</th>\n",
       "      <td>2004-08-25</td>\n",
       "      <td>104.96</td>\n",
       "      <td>108.00</td>\n",
       "      <td>103.88</td>\n",
       "      <td>106.00</td>\n",
       "      <td>4598900</td>\n",
       "      <td>106.00</td>\n",
       "    </tr>\n",
       "  </tbody>\n",
       "</table>\n",
       "</div>"
      ],
      "text/plain": [
       "        date    open    high     low   close    volume  adj_close\n",
       "0 2004-08-19  100.00  104.06   95.96  100.34  22351900     100.34\n",
       "1 2004-08-20  101.01  109.08  100.50  108.31  11428600     108.31\n",
       "2 2004-08-23  110.75  113.48  109.05  109.40   9137200     109.40\n",
       "3 2004-08-24  111.24  111.60  103.57  104.87   7631300     104.87\n",
       "4 2004-08-25  104.96  108.00  103.88  106.00   4598900     106.00"
      ]
     },
     "execution_count": 3,
     "metadata": {
      "tags": []
     },
     "output_type": "execute_result"
    }
   ],
   "source": [
    "import bokeh\n",
    "bokeh.sampledata.download()\n",
    "\n",
    "from bokeh.sampledata.stocks import GOOG as google\n",
    "import pandas as pd\n",
    "\n",
    "df_google = pd.DataFrame(google)\n",
    "df_google['date'] = pd.to_datetime(df_google['date'])\n",
    "df_google.head()"
   ]
  },
  {
   "cell_type": "markdown",
   "metadata": {
    "id": "8FvZHxJBd-Ck"
   },
   "source": [
    "## 3. Scatter plots\n",
    "\n",
    "* Bokeh 畫圖三步驟:\n",
    "  * 用 `figure()` 建立 figure object\n",
    "  * `circle()`, `square()`, `cross()` 等建立 glyph\n",
    "  * 用 `show(fig_obj)` 把圖畫出來"
   ]
  },
  {
   "cell_type": "code",
   "execution_count": 4,
   "metadata": {
    "colab": {
     "base_uri": "https://localhost:8080/",
     "height": 417,
     "output_embedded_package_id": "1IZNAtZ_dJ9hnhFgQdosAv0YVvPIIAgK0"
    },
    "executionInfo": {
     "elapsed": 3551,
     "status": "ok",
     "timestamp": 1617315078352,
     "user": {
      "displayName": "Yu-Ting Shen",
      "photoUrl": "",
      "userId": "17266750376611022117"
     },
     "user_tz": 420
    },
    "id": "OPW7Fqlfd0fp",
    "outputId": "86ac531d-9ef0-4b94-f245-0a0368de50e0"
   },
   "outputs": [
    {
     "data": {
      "text/plain": [
       "Output hidden; open in https://colab.research.google.com to view."
      ]
     },
     "metadata": {},
     "output_type": "display_data"
    }
   ],
   "source": [
    "fig = figure(\n",
    "    plot_width=400,\n",
    "    plot_height=400\n",
    ")\n",
    "\n",
    "fig.circle(\n",
    "    x=df_autompg['displ'],\n",
    "    y=df_autompg['weight']\n",
    ")\n",
    "\n",
    "show(fig)"
   ]
  },
  {
   "cell_type": "code",
   "execution_count": 5,
   "metadata": {
    "colab": {
     "base_uri": "https://localhost:8080/",
     "height": 417,
     "output_embedded_package_id": "1NGVi8734tpoYPyBS2bVITwgEN_6MJ2rH"
    },
    "executionInfo": {
     "elapsed": 2643,
     "status": "ok",
     "timestamp": 1617315079502,
     "user": {
      "displayName": "Yu-Ting Shen",
      "photoUrl": "",
      "userId": "17266750376611022117"
     },
     "user_tz": 420
    },
    "id": "QkEiKzBqep45",
    "outputId": "7beff942-3fbf-4784-a869-edb8b37149bb"
   },
   "outputs": [
    {
     "data": {
      "text/plain": [
       "Output hidden; open in https://colab.research.google.com to view."
      ]
     },
     "metadata": {},
     "output_type": "display_data"
    }
   ],
   "source": [
    "fig = figure(\n",
    "    plot_width=400,\n",
    "    plot_height=400,\n",
    "    title='Disposition vs Weight'\n",
    ")\n",
    "\n",
    "fig.circle(\n",
    "    x=df_autompg['displ'],\n",
    "    y=df_autompg['weight'],\n",
    "    size=10,\n",
    "    alpha=0.8,\n",
    "    line_color='red',\n",
    "    fill_color='skyblue'\n",
    ")\n",
    "\n",
    "fig.xaxis.axis_label='Disposition'\n",
    "fig.yaxis.axis_label='Weight'\n",
    "\n",
    "show(fig)"
   ]
  },
  {
   "cell_type": "code",
   "execution_count": 6,
   "metadata": {
    "colab": {
     "base_uri": "https://localhost:8080/",
     "height": 417,
     "output_embedded_package_id": "1Dx_05a2oAdE6Ov7O9EAag2bXd8c1-IgC"
    },
    "executionInfo": {
     "elapsed": 2498,
     "status": "ok",
     "timestamp": 1617315080925,
     "user": {
      "displayName": "Yu-Ting Shen",
      "photoUrl": "",
      "userId": "17266750376611022117"
     },
     "user_tz": 420
    },
    "id": "2zwTJbT2ivbp",
    "outputId": "acdf4861-1fa8-4c4a-e12b-3f4580aafb20"
   },
   "outputs": [
    {
     "data": {
      "text/plain": [
       "Output hidden; open in https://colab.research.google.com to view."
      ]
     },
     "metadata": {},
     "output_type": "display_data"
    }
   ],
   "source": [
    "import numpy as np\n",
    "\n",
    "square_sizes = np.random.randint(1, 25, size=(df_autompg.shape[0]))\n",
    "\n",
    "fig = figure(\n",
    "    plot_width=400,\n",
    "    plot_height=400,\n",
    "    title='Disposition'\n",
    ")\n",
    "\n",
    "fig.square(\n",
    "    x=df_autompg['displ'],\n",
    "    y=df_autompg['weight'],\n",
    "    size=square_sizes,\n",
    "    alpha=0.5,\n",
    "    line_color='orange',\n",
    "    fill_color='orange'\n",
    ")\n",
    "\n",
    "fig.xaxis.axis_label='Disposition'\n",
    "fig.yaxis.axis_label='Weight'\n",
    "\n",
    "show(fig)"
   ]
  },
  {
   "cell_type": "markdown",
   "metadata": {
    "id": "DzGxll9Zj5wK"
   },
   "source": [
    "## 4. Line plots"
   ]
  },
  {
   "cell_type": "code",
   "execution_count": 7,
   "metadata": {
    "colab": {
     "base_uri": "https://localhost:8080/",
     "height": 317,
     "output_embedded_package_id": "1QesVTBdQK3qQCKsy47aUAfzevyX2YQ8K"
    },
    "executionInfo": {
     "elapsed": 2260,
     "status": "ok",
     "timestamp": 1617315082876,
     "user": {
      "displayName": "Yu-Ting Shen",
      "photoUrl": "",
      "userId": "17266750376611022117"
     },
     "user_tz": 420
    },
    "id": "fCKFyziwj0Rt",
    "outputId": "57711b8e-0fdd-4324-d91a-802927fa5cca"
   },
   "outputs": [
    {
     "data": {
      "text/plain": [
       "Output hidden; open in https://colab.research.google.com to view."
      ]
     },
     "metadata": {},
     "output_type": "display_data"
    }
   ],
   "source": [
    "fig = figure(\n",
    "    plot_width=600,\n",
    "    plot_height=300,\n",
    "    title='Sample Line Plot'\n",
    ")\n",
    "\n",
    "fig.line(\n",
    "    x=range(10),\n",
    "    y=np.random.randint(1, 50, 10)\n",
    ")\n",
    "\n",
    "show(fig)"
   ]
  },
  {
   "cell_type": "code",
   "execution_count": 8,
   "metadata": {
    "colab": {
     "base_uri": "https://localhost:8080/",
     "height": 417,
     "output_embedded_package_id": "16vUqbYaWjPELOSGVkG5X3XT8Qa3lN2Nu"
    },
    "executionInfo": {
     "elapsed": 2099,
     "status": "ok",
     "timestamp": 1617315084833,
     "user": {
      "displayName": "Yu-Ting Shen",
      "photoUrl": "",
      "userId": "17266750376611022117"
     },
     "user_tz": 420
    },
    "id": "c0MC-kBCkMdi",
    "outputId": "a909b668-6939-4258-9c59-16be072cd94f"
   },
   "outputs": [
    {
     "data": {
      "text/plain": [
       "Output hidden; open in https://colab.research.google.com to view."
      ]
     },
     "metadata": {},
     "output_type": "display_data"
    }
   ],
   "source": [
    "fig = figure(\n",
    "    plot_width=600,\n",
    "    plot_height=400,\n",
    "    title='Sample Dashed Dotted Line Plot'\n",
    ")\n",
    "\n",
    "fig.line(\n",
    "    x=range(10),\n",
    "    y=np.random.randint(1, 50, 10),\n",
    "    line_width=3,\n",
    "    line_color='lime',\n",
    "    line_dash='dotdash'\n",
    ")\n",
    "\n",
    "show(fig)"
   ]
  },
  {
   "cell_type": "code",
   "execution_count": 9,
   "metadata": {
    "colab": {
     "base_uri": "https://localhost:8080/",
     "height": 417,
     "output_embedded_package_id": "1hKyUlfF70EsF-vOWIYlRyDNQ0JbsspaJ"
    },
    "executionInfo": {
     "elapsed": 1789,
     "status": "ok",
     "timestamp": 1617315086489,
     "user": {
      "displayName": "Yu-Ting Shen",
      "photoUrl": "",
      "userId": "17266750376611022117"
     },
     "user_tz": 420
    },
    "id": "OxaGTuNxkcwB",
    "outputId": "0220cff2-cda4-4c2a-8daa-1294169709d5"
   },
   "outputs": [
    {
     "data": {
      "text/plain": [
       "Output hidden; open in https://colab.research.google.com to view."
      ]
     },
     "metadata": {},
     "output_type": "display_data"
    }
   ],
   "source": [
    "fig = figure(\n",
    "    plot_width=700,\n",
    "    plot_height=400,\n",
    "    x_axis_type='datetime',\n",
    "    title=\"Google Stock Prices from 2005 - 2013\"\n",
    ")\n",
    "\n",
    "fig.line(\n",
    "    x=df_google.date,\n",
    "    y=df_google.close,\n",
    "    line_width=3,\n",
    "    line_color='tomato'\n",
    ")\n",
    "\n",
    "fig.xaxis.axis_label='Time'\n",
    "fig.yaxis.axis_label='Price ($)'\n",
    "\n",
    "fig.xgrid.grid_line_color=None\n",
    "fig.ygrid.grid_line_alpha=1.0\n",
    "\n",
    "show(fig)"
   ]
  },
  {
   "cell_type": "code",
   "execution_count": 10,
   "metadata": {
    "colab": {
     "base_uri": "https://localhost:8080/",
     "height": 417,
     "output_embedded_package_id": "1dMhbMMaIkpHp00rqDbALBRr9Vb-_zA_H"
    },
    "executionInfo": {
     "elapsed": 1991,
     "status": "ok",
     "timestamp": 1617315088780,
     "user": {
      "displayName": "Yu-Ting Shen",
      "photoUrl": "",
      "userId": "17266750376611022117"
     },
     "user_tz": 420
    },
    "id": "UnQ6EYaemyME",
    "outputId": "2344673b-c7c6-4c33-e47a-8377473469d0"
   },
   "outputs": [
    {
     "data": {
      "text/plain": [
       "Output hidden; open in https://colab.research.google.com to view."
      ]
     },
     "metadata": {},
     "output_type": "display_data"
    }
   ],
   "source": [
    "fig = figure(\n",
    "    plot_width=700,\n",
    "    plot_height=400,\n",
    "    title=\"Sample Step Chart\"\n",
    ")\n",
    "\n",
    "fig.step(\n",
    "    x=range(10),\n",
    "    y=np.random.randint(1, 10, size=10),\n",
    "    line_color='red',\n",
    "    line_width=2\n",
    ")\n",
    "\n",
    "show(fig)"
   ]
  },
  {
   "cell_type": "code",
   "execution_count": 11,
   "metadata": {
    "colab": {
     "base_uri": "https://localhost:8080/",
     "height": 417,
     "output_embedded_package_id": "1OfEXu2bhQjbYmGQYU1bdwlketrz70C2Y"
    },
    "executionInfo": {
     "elapsed": 1920,
     "status": "ok",
     "timestamp": 1617315091430,
     "user": {
      "displayName": "Yu-Ting Shen",
      "photoUrl": "",
      "userId": "17266750376611022117"
     },
     "user_tz": 420
    },
    "id": "bJNopD48nGRn",
    "outputId": "a7bf6d56-0251-4552-bb2d-714313ad7871"
   },
   "outputs": [
    {
     "data": {
      "text/plain": [
       "Output hidden; open in https://colab.research.google.com to view."
      ]
     },
     "metadata": {},
     "output_type": "display_data"
    }
   ],
   "source": [
    "fig = figure(\n",
    "    plot_width=700,\n",
    "    plot_height=400,\n",
    "    title='Sample Multi Line Chart'\n",
    ")\n",
    "\n",
    "fig.multi_line(\n",
    "    [list(range(5)), list(range(5, 10))], # line Xs\n",
    "    [np.random.randint(1, 25, size=5), np.random.randint(25, 50, size=5)], # line Ys\n",
    "    color=['firebrick', 'navy'],\n",
    "    alpha=[0.6, 0.5],\n",
    "    line_width=4\n",
    ")\n",
    "\n",
    "show(fig)"
   ]
  },
  {
   "cell_type": "markdown",
   "metadata": {
    "id": "AjFreKXPoRqN"
   },
   "source": [
    "## 5. Bar charts"
   ]
  },
  {
   "cell_type": "code",
   "execution_count": 12,
   "metadata": {
    "colab": {
     "base_uri": "https://localhost:8080/",
     "height": 317,
     "output_embedded_package_id": "1FaEUIfCgSV5PGkFYNygng5NhngHsqWvY"
    },
    "executionInfo": {
     "elapsed": 2034,
     "status": "ok",
     "timestamp": 1617315094164,
     "user": {
      "displayName": "Yu-Ting Shen",
      "photoUrl": "",
      "userId": "17266750376611022117"
     },
     "user_tz": 420
    },
    "id": "ZVDQM1EzoLa6",
    "outputId": "ce2c75ae-e263-45ae-8513-bffcb3ec58c3"
   },
   "outputs": [
    {
     "data": {
      "text/plain": [
       "Output hidden; open in https://colab.research.google.com to view."
      ]
     },
     "metadata": {},
     "output_type": "display_data"
    }
   ],
   "source": [
    "autompg_avg_by_origin = df_autompg.groupby(by='origin').mean()\n",
    "\n",
    "fig = figure(\n",
    "    plot_width=300,\n",
    "    plot_height=300,\n",
    "    title='Average mpg per region'\n",
    ")\n",
    "\n",
    "fig.vbar(\n",
    "    x=[1, 2, 3],\n",
    "    width=0.5,\n",
    "    top=autompg_avg_by_origin.mpg, # bar 的高度\n",
    "    fill_color='firebrick',\n",
    "    line_color='blue',\n",
    "    alpha=0.8\n",
    ")\n",
    "\n",
    "fig.xaxis.axis_label='Region'\n",
    "fig.yaxis.axis_label='MPG'\n",
    "\n",
    "fig.xaxis.ticker=[1, 2, 3]\n",
    "fig.xaxis.major_label_overrides = { # 把 bar 的名字改掉\n",
    "    1: 'North America',\n",
    "    2: 'Asia',\n",
    "    3: 'Eurpoe'\n",
    "}\n",
    "\n",
    "show(fig)"
   ]
  },
  {
   "cell_type": "code",
   "execution_count": 13,
   "metadata": {
    "colab": {
     "base_uri": "https://localhost:8080/",
     "height": 317,
     "output_embedded_package_id": "12tuz5MJQ6MDo2xCAYMOdR59-zLHCxE7a"
    },
    "executionInfo": {
     "elapsed": 2060,
     "status": "ok",
     "timestamp": 1617315096989,
     "user": {
      "displayName": "Yu-Ting Shen",
      "photoUrl": "",
      "userId": "17266750376611022117"
     },
     "user_tz": 420
    },
    "id": "fEe0rugmyBkK",
    "outputId": "9d2acc1b-f90c-4413-dd64-4b9f911f23c2"
   },
   "outputs": [
    {
     "data": {
      "text/plain": [
       "Output hidden; open in https://colab.research.google.com to view."
      ]
     },
     "metadata": {},
     "output_type": "display_data"
    }
   ],
   "source": [
    "fig = figure(\n",
    "    plot_width=400,\n",
    "    plot_height=300,\n",
    "    title='Average mpg per region'\n",
    ")\n",
    "\n",
    "fig.hbar(\n",
    "    y=[1, 2, 3],\n",
    "    height=0.5,\n",
    "    right=autompg_avg_by_origin.mpg, # 水平的 bar 的高度\n",
    "    fill_color='skyblue',\n",
    "    line_color='red'\n",
    ")\n",
    "\n",
    "fig.xaxis.axis_label='MPG'\n",
    "fig.yaxis.axis_label='Region'\n",
    "\n",
    "fig.yaxis.ticker=[1, 2, 3]\n",
    "fig.yaxis.major_label_overrides = {\n",
    "    1: 'North America',\n",
    "    2: 'Asia',\n",
    "    3: 'Eurpoe'\n",
    "}\n",
    "\n",
    "show(fig)"
   ]
  },
  {
   "cell_type": "code",
   "execution_count": 14,
   "metadata": {
    "colab": {
     "base_uri": "https://localhost:8080/",
     "height": 417,
     "output_embedded_package_id": "1p5SQUWtZWkui3RZAZ2zCPc3tZaO-iRFy"
    },
    "executionInfo": {
     "elapsed": 1997,
     "status": "ok",
     "timestamp": 1617315099681,
     "user": {
      "displayName": "Yu-Ting Shen",
      "photoUrl": "",
      "userId": "17266750376611022117"
     },
     "user_tz": 420
    },
    "id": "woecTuD71oPL",
    "outputId": "72aea942-c038-4256-9e52-7c2485084cc1"
   },
   "outputs": [
    {
     "data": {
      "text/plain": [
       "Output hidden; open in https://colab.research.google.com to view."
      ]
     },
     "metadata": {},
     "output_type": "display_data"
    }
   ],
   "source": [
    "from bokeh.models import Legend\n",
    "\n",
    "fig = figure(\n",
    "    plot_width=500,\n",
    "    plot_height=400,\n",
    "    title='Average mpg, accel per region'\n",
    ")\n",
    "\n",
    "v = fig.vbar_stack(\n",
    "    ['mpg', 'accel'], # dataframe 中的哪些欄位要做 vertical stack\n",
    "    x='index',\n",
    "    width=0.6,\n",
    "    color=('lime', 'tomato'),\n",
    "    alpha=0.7,\n",
    "    source=autompg_avg_by_origin.reset_index(), # 要把 dataframe 傳入\n",
    ")\n",
    "\n",
    "fig.xaxis.axis_label='Region'\n",
    "fig.yaxis.axis_label='Average mpg/accel'\n",
    "\n",
    "fig.xaxis.ticker=[0, 1, 2]\n",
    "fig.xaxis.major_label_overrides = {\n",
    "    0: 'North America',\n",
    "    1: 'Asia',\n",
    "    2: 'Eurpoe'\n",
    "}\n",
    "\n",
    "legend = Legend( # 要建立 legend\n",
    "    items=[\n",
    "        ('mpg', [v[0]]),\n",
    "        ('accel', [v[1]]),\n",
    "    ],\n",
    "    location=(0, -30)\n",
    ")\n",
    "\n",
    "fig.add_layout(legend, 'right') # legend 建好後要加入到 fig 物件裡面\n",
    "\n",
    "show(fig)"
   ]
  },
  {
   "cell_type": "code",
   "execution_count": 15,
   "metadata": {
    "colab": {
     "base_uri": "https://localhost:8080/",
     "height": 417,
     "output_embedded_package_id": "1Y1OoYG_mJz5C7nzvnuWmpLr64zHpj-aB"
    },
    "executionInfo": {
     "elapsed": 2028,
     "status": "ok",
     "timestamp": 1617315103489,
     "user": {
      "displayName": "Yu-Ting Shen",
      "photoUrl": "",
      "userId": "17266750376611022117"
     },
     "user_tz": 420
    },
    "id": "qTbMHYiO3Xeb",
    "outputId": "e144f599-f35d-4838-fdce-6a959d972eda"
   },
   "outputs": [
    {
     "data": {
      "text/plain": [
       "Output hidden; open in https://colab.research.google.com to view."
      ]
     },
     "metadata": {},
     "output_type": "display_data"
    }
   ],
   "source": [
    "fig = figure(\n",
    "    plot_width=600,\n",
    "    plot_height=400,\n",
    "    title='Average mpg, accel per region'\n",
    ")\n",
    "\n",
    "h = fig.hbar_stack(\n",
    "    ['mpg', 'accel'],\n",
    "    y='index',\n",
    "    height=0.6,\n",
    "    color=('blue', 'green'),\n",
    "    alpha=0.5,\n",
    "    source=autompg_avg_by_origin.reset_index(),\n",
    ")\n",
    "\n",
    "fig.xaxis.axis_label='Average mpg/accel'\n",
    "fig.yaxis.axis_label='Region'\n",
    "\n",
    "fig.yaxis.ticker=[0, 1, 2]\n",
    "fig.yaxis.major_label_overrides = {\n",
    "    0: 'North America',\n",
    "    1: 'Asia',\n",
    "    2: 'Eurpoe'\n",
    "}\n",
    "\n",
    "legend = Legend(\n",
    "    items=[\n",
    "        ('mpg', [h[0]]),\n",
    "        ('accel', [h[1]])\n",
    "    ],\n",
    "    location=(0, -30)\n",
    ")\n",
    "\n",
    "fig.add_layout(legend, 'right')\n",
    "\n",
    "show(fig)"
   ]
  },
  {
   "cell_type": "markdown",
   "metadata": {
    "id": "rKt0n3wmrCdH"
   },
   "source": [
    "## 6. Rectangles"
   ]
  },
  {
   "cell_type": "code",
   "execution_count": 16,
   "metadata": {
    "colab": {
     "base_uri": "https://localhost:8080/",
     "height": 417,
     "output_embedded_package_id": "1U9l_XtsnqQORLwoAgZTJSp1dlZq81l00"
    },
    "executionInfo": {
     "elapsed": 2111,
     "status": "ok",
     "timestamp": 1617315111933,
     "user": {
      "displayName": "Yu-Ting Shen",
      "photoUrl": "",
      "userId": "17266750376611022117"
     },
     "user_tz": 420
    },
    "id": "n4tRFaj2rEgk",
    "outputId": "b05f4d13-a0b7-4fac-b3cc-1218c84161c2"
   },
   "outputs": [
    {
     "data": {
      "text/plain": [
       "Output hidden; open in https://colab.research.google.com to view."
      ]
     },
     "metadata": {},
     "output_type": "display_data"
    }
   ],
   "source": [
    "fig = figure(\n",
    "    plot_width=400,\n",
    "    plot_height=400,\n",
    "    title='Sample rectangle glyph chart'\n",
    ")\n",
    "\n",
    "fig.rect( # 點是由 rectangle 組成\n",
    "    x=range(5),\n",
    "    y=np.random.randint(1, 25, size=5),\n",
    "    width=0.2,\n",
    "    height=1,\n",
    "    angle=45,\n",
    "    color='lawngreen'\n",
    ")\n",
    "\n",
    "show(fig)"
   ]
  },
  {
   "cell_type": "code",
   "execution_count": 17,
   "metadata": {
    "colab": {
     "base_uri": "https://localhost:8080/",
     "height": 417,
     "output_embedded_package_id": "1Pbb-NH9Zl-9j6YyRaubnEzyQgTidzYWu"
    },
    "executionInfo": {
     "elapsed": 1837,
     "status": "ok",
     "timestamp": 1617315262269,
     "user": {
      "displayName": "Yu-Ting Shen",
      "photoUrl": "",
      "userId": "17266750376611022117"
     },
     "user_tz": 420
    },
    "id": "A41Om8Swflt7",
    "outputId": "576b463f-77ec-4e80-b89c-a4ed11454552"
   },
   "outputs": [
    {
     "data": {
      "text/plain": [
       "Output hidden; open in https://colab.research.google.com to view."
      ]
     },
     "metadata": {},
     "output_type": "display_data"
    }
   ],
   "source": [
    "fig = figure(\n",
    "    plot_width=400,\n",
    "    plot_height=400,\n",
    "    title='Sample quads glyph chart'\n",
    ")\n",
    "\n",
    "fig.quad( # 要指定上下左右的座標\n",
    "    top=[1.5, 2.5, 3.5],\n",
    "    bottom=[1, 2, 3],\n",
    "    left=[1, 2, 3],\n",
    "    right=[1.5, 2.5, 3.5],\n",
    "    color='skyblue'\n",
    ")\n",
    "\n",
    "show(fig)"
   ]
  },
  {
   "cell_type": "markdown",
   "metadata": {
    "id": "JWUXBpv3rFdH"
   },
   "source": [
    "## 7. Areas"
   ]
  },
  {
   "cell_type": "code",
   "execution_count": 18,
   "metadata": {
    "colab": {
     "base_uri": "https://localhost:8080/",
     "height": 417,
     "output_embedded_package_id": "1L-Mu4jRmSGGigA7vqJHO82PZsDaAZPuA"
    },
    "executionInfo": {
     "elapsed": 1921,
     "status": "ok",
     "timestamp": 1617315356467,
     "user": {
      "displayName": "Yu-Ting Shen",
      "photoUrl": "",
      "userId": "17266750376611022117"
     },
     "user_tz": 420
    },
    "id": "IwwD4AuWrGbY",
    "outputId": "f6a4ec35-4d09-47b6-8011-dfdbe7a790d4"
   },
   "outputs": [
    {
     "data": {
      "text/plain": [
       "Output hidden; open in https://colab.research.google.com to view."
      ]
     },
     "metadata": {},
     "output_type": "display_data"
    }
   ],
   "source": [
    "fig = figure(\n",
    "    plot_width=400,\n",
    "    plot_height=400,\n",
    "    title='Sample area chart'\n",
    ")\n",
    "\n",
    "fig.varea( # 會在 x, y1, y2 和座標軸之間所圍起來的空間上色\n",
    "    x=[1, 2, 3],\n",
    "    y1=autompg_avg_by_origin.accel,\n",
    "    y2=autompg_avg_by_origin.mpg,\n",
    "    fill_color='cyan',\n",
    "    alpha=0.5\n",
    ")\n",
    "\n",
    "show(fig)"
   ]
  },
  {
   "cell_type": "code",
   "execution_count": 21,
   "metadata": {
    "colab": {
     "base_uri": "https://localhost:8080/",
     "height": 417,
     "output_embedded_package_id": "1USf_XvDL2izbweroCjKf1MXHUgQ7ts1v"
    },
    "executionInfo": {
     "elapsed": 1925,
     "status": "ok",
     "timestamp": 1617315491954,
     "user": {
      "displayName": "Yu-Ting Shen",
      "photoUrl": "",
      "userId": "17266750376611022117"
     },
     "user_tz": 420
    },
    "id": "pvOM9O5AgqeS",
    "outputId": "40aaedb8-3e66-4da5-d1b4-8e6e0446daf1"
   },
   "outputs": [
    {
     "data": {
      "text/plain": [
       "Output hidden; open in https://colab.research.google.com to view."
      ]
     },
     "metadata": {},
     "output_type": "display_data"
    }
   ],
   "source": [
    "fig = figure(\n",
    "    plot_width=400,\n",
    "    plot_height=400,\n",
    "    title='Sample area chart'\n",
    ")\n",
    "\n",
    "fig.harea( # 這個是在垂直方向的區域上色\n",
    "    y=[1, 2, 3],\n",
    "    x1=autompg_avg_by_origin.accel,\n",
    "    x2=autompg_avg_by_origin.mpg,\n",
    "    fill_color='orangered',\n",
    "    alpha=0.5\n",
    ")\n",
    "\n",
    "show(fig)"
   ]
  },
  {
   "cell_type": "code",
   "execution_count": 23,
   "metadata": {
    "colab": {
     "base_uri": "https://localhost:8080/",
     "height": 417,
     "output_embedded_package_id": "1JVT8NEmy2hD5fMd43pIQvoZ0cGYsVqFP"
    },
    "executionInfo": {
     "elapsed": 1873,
     "status": "ok",
     "timestamp": 1617315610650,
     "user": {
      "displayName": "Yu-Ting Shen",
      "photoUrl": "",
      "userId": "17266750376611022117"
     },
     "user_tz": 420
    },
    "id": "7M0csLRIhCg6",
    "outputId": "4ac093d0-632b-40e5-f854-a9602ba5eaed"
   },
   "outputs": [
    {
     "data": {
      "text/plain": [
       "Output hidden; open in https://colab.research.google.com to view."
      ]
     },
     "metadata": {},
     "output_type": "display_data"
    }
   ],
   "source": [
    "fig = figure(\n",
    "    plot_width=400,\n",
    "    plot_height=400,\n",
    "    title='Sample stacked area chart'\n",
    ")\n",
    "\n",
    "fig.varea_stack( # 對兩個不同的 stacks 上色\n",
    "    ['accel', 'mpg'],\n",
    "    x='index',\n",
    "    color=('deeppink', 'pink'),\n",
    "    alpha=0.5,\n",
    "    source=autompg_avg_by_origin.reset_index()\n",
    ")\n",
    "\n",
    "show(fig)"
   ]
  },
  {
   "cell_type": "markdown",
   "metadata": {
    "id": "uIqe_qr_rHe6"
   },
   "source": [
    "## 8. Patches"
   ]
  },
  {
   "cell_type": "code",
   "execution_count": 24,
   "metadata": {
    "colab": {
     "base_uri": "https://localhost:8080/",
     "height": 317,
     "output_embedded_package_id": "1p3hlnJUyUFtOlcIhpbFTL_QYeiV7zfYP"
    },
    "executionInfo": {
     "elapsed": 1875,
     "status": "ok",
     "timestamp": 1617315687042,
     "user": {
      "displayName": "Yu-Ting Shen",
      "photoUrl": "",
      "userId": "17266750376611022117"
     },
     "user_tz": 420
    },
    "id": "qIuo6lA0rIfF",
    "outputId": "59f1f2b5-2887-4847-d573-0f2765472207"
   },
   "outputs": [
    {
     "data": {
      "text/plain": [
       "Output hidden; open in https://colab.research.google.com to view."
      ]
     },
     "metadata": {},
     "output_type": "display_data"
    }
   ],
   "source": [
    "fig = figure(\n",
    "    plot_width=400,\n",
    "    plot_height=300,\n",
    "    title='Sample ploygon chart'\n",
    ")\n",
    "\n",
    "fig.patch( # 對 polygon 圍起來的區域上色\n",
    "    [1, 2, 3, 4],\n",
    "    [6, 8, 8, 7],\n",
    "    alpha=0.5,\n",
    "    line_width=2,\n",
    "    line_color='black'\n",
    ")\n",
    "\n",
    "show(fig)"
   ]
  },
  {
   "cell_type": "code",
   "execution_count": 29,
   "metadata": {
    "colab": {
     "base_uri": "https://localhost:8080/",
     "height": 317,
     "output_embedded_package_id": "1TMq1Im4SFZqdqNtzkb-bumT9nEAqmFCP"
    },
    "executionInfo": {
     "elapsed": 1898,
     "status": "ok",
     "timestamp": 1617315877231,
     "user": {
      "displayName": "Yu-Ting Shen",
      "photoUrl": "",
      "userId": "17266750376611022117"
     },
     "user_tz": 420
    },
    "id": "2Etonw8nh8iG",
    "outputId": "58b52c1e-168b-4a35-8b7e-89b72fa25b52"
   },
   "outputs": [
    {
     "data": {
      "text/plain": [
       "Output hidden; open in https://colab.research.google.com to view."
      ]
     },
     "metadata": {},
     "output_type": "display_data"
    }
   ],
   "source": [
    "fig = figure(\n",
    "    plot_width=400,\n",
    "    plot_height=300,\n",
    "    title='Sample multiple ploygon chart'\n",
    ")\n",
    "\n",
    "fig.patches( # 對 polygon 圍起來的區域上色\n",
    "    [[1, 2, 2], [2, 1, 1]],\n",
    "    [[2, 3, 4], [2, 4, 5]],\n",
    "    color=['lavender', 'violet'],\n",
    "    line_width=2,\n",
    "    line_color='black'\n",
    ")\n",
    "\n",
    "show(fig)"
   ]
  },
  {
   "cell_type": "code",
   "execution_count": 30,
   "metadata": {
    "colab": {
     "base_uri": "https://localhost:8080/",
     "height": 317,
     "output_embedded_package_id": "1PqjJCBwiBD_9BvObheWtEQUqUVI11QFd"
    },
    "executionInfo": {
     "elapsed": 1980,
     "status": "ok",
     "timestamp": 1617315987059,
     "user": {
      "displayName": "Yu-Ting Shen",
      "photoUrl": "",
      "userId": "17266750376611022117"
     },
     "user_tz": 420
    },
    "id": "3KEjSuGnigJN",
    "outputId": "d7c3c766-ea6a-4952-91b0-b2aca9d336ff"
   },
   "outputs": [
    {
     "data": {
      "text/plain": [
       "Output hidden; open in https://colab.research.google.com to view."
      ]
     },
     "metadata": {},
     "output_type": "display_data"
    }
   ],
   "source": [
    "fig = figure(\n",
    "    plot_width=300,\n",
    "    plot_height=300,\n",
    "    title='Sample multiple ploygon chart'\n",
    ")\n",
    "\n",
    "fig.multi_polygons( # 對 polygon 圍起來的區域上色\n",
    "    xs=[[[  [0, 3, 3, 0], [1, 2, 2], [2, 1, 1] ]]],\n",
    "    ys=[[[  [1, 1, 5, 5], [2, 3, 4], [2, 4, 5] ]]],\n",
    "    color='red',\n",
    "    alpha=0.6\n",
    ")\n",
    "\n",
    "show(fig)"
   ]
  },
  {
   "cell_type": "markdown",
   "metadata": {
    "id": "Ijy8ZOh_rJfO"
   },
   "source": [
    "## 9. Combining multiple charts"
   ]
  },
  {
   "cell_type": "code",
   "execution_count": 31,
   "metadata": {
    "colab": {
     "base_uri": "https://localhost:8080/",
     "height": 317,
     "output_embedded_package_id": "1ont-bpxSVBkuQNu0KTEVs3FN5e0GV1YR"
    },
    "executionInfo": {
     "elapsed": 1909,
     "status": "ok",
     "timestamp": 1617316920556,
     "user": {
      "displayName": "Yu-Ting Shen",
      "photoUrl": "",
      "userId": "17266750376611022117"
     },
     "user_tz": 420
    },
    "id": "ac5KWCUfrLl2",
    "outputId": "f6108047-fa08-4d63-cb04-9c8c81cb431e"
   },
   "outputs": [
    {
     "data": {
      "text/plain": [
       "Output hidden; open in https://colab.research.google.com to view."
      ]
     },
     "metadata": {},
     "output_type": "display_data"
    }
   ],
   "source": [
    "fig = figure(\n",
    "    plot_width=600,\n",
    "    plot_height=300,\n",
    "    title='Sample merge plot'\n",
    ")\n",
    "\n",
    "y = np.random.randint(1, 50, 10)\n",
    "\n",
    "fig.line(\n",
    "    x=range(10),\n",
    "    y=y,\n",
    "    line_width=2\n",
    ")\n",
    "\n",
    "fig.circle(\n",
    "    x=range(10),\n",
    "    y=y,\n",
    "    color='red',\n",
    "    size=10\n",
    ")\n",
    "\n",
    "show(fig)"
   ]
  },
  {
   "cell_type": "code",
   "execution_count": 32,
   "metadata": {
    "colab": {
     "base_uri": "https://localhost:8080/",
     "height": 417,
     "output_embedded_package_id": "1FqSUgLT5jZx1LSfTkRL8D3AD6tJTfYqm"
    },
    "executionInfo": {
     "elapsed": 1800,
     "status": "ok",
     "timestamp": 1617317303386,
     "user": {
      "displayName": "Yu-Ting Shen",
      "photoUrl": "",
      "userId": "17266750376611022117"
     },
     "user_tz": 420
    },
    "id": "xxmYXJQvmbS2",
    "outputId": "985141c3-5ed2-45e2-ed24-1d4d18ca5465"
   },
   "outputs": [
    {
     "data": {
      "text/plain": [
       "Output hidden; open in https://colab.research.google.com to view."
      ]
     },
     "metadata": {},
     "output_type": "display_data"
    }
   ],
   "source": [
    "fig = figure(\n",
    "    plot_width=400,\n",
    "    plot_height=400,\n",
    "    title='Disposition vs Weight color-encoded by Origin'\n",
    ")\n",
    "\n",
    "fig.circle(\n",
    "    x=df_autompg[df_autompg['origin']=='North America']['displ'],\n",
    "    y=df_autompg[df_autompg['origin']=='North America']['weight'],\n",
    "    fill_color='tomato',\n",
    "    size=12,\n",
    "    alpha=0.7,\n",
    "    legend_label='North America'\n",
    ")\n",
    "\n",
    "fig.diamond(\n",
    "    x=df_autompg[df_autompg['origin']=='Asia']['displ'],\n",
    "    y=df_autompg[df_autompg['origin']=='Asia']['weight'],\n",
    "    fill_color='lawngreen',\n",
    "    size=14,\n",
    "    alpha=0.5,\n",
    "    legend_label='Asia'\n",
    ")\n",
    "\n",
    "fig.square(\n",
    "    x=df_autompg[df_autompg['origin']=='Europe']['displ'],\n",
    "    y=df_autompg[df_autompg['origin']=='Europe']['weight'],\n",
    "    fill_color='skyblue',\n",
    "    size=10,\n",
    "    alpha=0.5,\n",
    "    legend_label='Europe'\n",
    ")\n",
    "\n",
    "fig.xaxis.axis_label='Disposition'\n",
    "fig.yaxis.axis_label='Weight'\n",
    "\n",
    "fig.legend.location='top_left'\n",
    "\n",
    "show(fig)"
   ]
  },
  {
   "cell_type": "code",
   "execution_count": 34,
   "metadata": {
    "colab": {
     "base_uri": "https://localhost:8080/",
     "height": 417,
     "output_embedded_package_id": "1BZE7MYQu-k7GmpMIoV8pCAaS2cosK5yW"
    },
    "executionInfo": {
     "elapsed": 1884,
     "status": "ok",
     "timestamp": 1617317685262,
     "user": {
      "displayName": "Yu-Ting Shen",
      "photoUrl": "",
      "userId": "17266750376611022117"
     },
     "user_tz": 420
    },
    "id": "xwmcY4vcn4wm",
    "outputId": "905c37f8-3dad-4b21-f15f-a0a333fdbcd5"
   },
   "outputs": [
    {
     "data": {
      "text/plain": [
       "Output hidden; open in https://colab.research.google.com to view."
      ]
     },
     "metadata": {},
     "output_type": "display_data"
    }
   ],
   "source": [
    "fig = figure(\n",
    "    plot_width=400,\n",
    "    plot_height=400,\n",
    "    title='MPG and accel bar chart'\n",
    ")\n",
    "\n",
    "fig.vbar(\n",
    "    x=[1, 3, 5],\n",
    "    top=autompg_avg_by_origin.mpg,\n",
    "    fill_color='lime',\n",
    "    line_color='lime',\n",
    "    legend_label='MPG'\n",
    ")\n",
    "\n",
    "fig.vbar(\n",
    "    x=[2, 4, 6],\n",
    "    width=0.8,\n",
    "    top=autompg_avg_by_origin.accel,\n",
    "    fill_color='tomato',\n",
    "    line_color='tomato',\n",
    "    legend_label='accel'\n",
    ")\n",
    "\n",
    "fig.xaxis.axis_label='MPG/Acceleration'\n",
    "fig.yaxis.axis_label='Origin'\n",
    "fig.legend.location='top_right'\n",
    "\n",
    "fig.xaxis.ticker=[1.5, 3.5, 5.5]\n",
    "fig.xaxis.major_label_overrides={\n",
    "    1.5: 'North America',\n",
    "    3.5: 'Asia',\n",
    "    5.5: 'Europe'\n",
    "}\n",
    "\n",
    "show(fig)"
   ]
  },
  {
   "cell_type": "code",
   "execution_count": null,
   "metadata": {
    "id": "i0w3q-YDpQGY"
   },
   "outputs": [],
   "source": []
  }
 ],
 "metadata": {
  "colab": {
   "authorship_tag": "ABX9TyPbdmULYDczRMugDSS+egae",
   "name": "Interactive_plotting_in_Python_using_Bokeh.ipynb",
   "provenance": []
  },
  "kernelspec": {
   "display_name": "Python 3 (ipykernel)",
   "language": "python",
   "name": "python3"
  },
  "language_info": {
   "codemirror_mode": {
    "name": "ipython",
    "version": 3
   },
   "file_extension": ".py",
   "mimetype": "text/x-python",
   "name": "python",
   "nbconvert_exporter": "python",
   "pygments_lexer": "ipython3",
   "version": "3.7.11"
  }
 },
 "nbformat": 4,
 "nbformat_minor": 1
}
