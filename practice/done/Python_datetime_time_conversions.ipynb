{
 "cells": [
  {
   "cell_type": "markdown",
   "metadata": {
    "colab_type": "text",
    "id": "SVzUu5_51P5v"
   },
   "source": [
    "# Python datetime time conversions\n",
    "\n",
    "* Ref: [https://www.saltycrane.com/blog/2008/11/python-datetime-time-conversions/](https://www.saltycrane.com/blog/2008/11/python-datetime-time-conversions/)"
   ]
  },
  {
   "cell_type": "code",
   "execution_count": null,
   "metadata": {
    "colab": {},
    "colab_type": "code",
    "id": "LuuFTsvq1kHO"
   },
   "outputs": [],
   "source": [
    "from datetime import datetime\n",
    "import time\n",
    "import calendar"
   ]
  },
  {
   "cell_type": "markdown",
   "metadata": {
    "colab_type": "text",
    "id": "_nQYOo6m1aLU"
   },
   "source": [
    "### Conversion to strings"
   ]
  },
  {
   "cell_type": "code",
   "execution_count": null,
   "metadata": {
    "colab": {
     "base_uri": "https://localhost:8080/",
     "height": 34
    },
    "colab_type": "code",
    "executionInfo": {
     "elapsed": 265,
     "status": "ok",
     "timestamp": 1565328311703,
     "user": {
      "displayName": "Yu-Ting Shen",
      "photoUrl": "",
      "userId": "17266750376611022117"
     },
     "user_tz": 420
    },
    "id": "Cgc3QR2W1MnE",
    "outputId": "dd81398e-631e-4fc3-83f3-36b6c08fca99"
   },
   "outputs": [
    {
     "name": "stdout",
     "output_type": "stream",
     "text": [
      "2018-11-10 17:53:59\n"
     ]
    }
   ],
   "source": [
    "# datetime object to string\n",
    "dt_obj = datetime(2018, 11, 10, 17, 53, 59)\n",
    "date_str = dt_obj.strftime('%Y-%m-%d %H:%M:%S') # string format time\n",
    "print(date_str) # 輸出 2018-11-10 17:53:59"
   ]
  },
  {
   "cell_type": "code",
   "execution_count": null,
   "metadata": {
    "colab": {
     "base_uri": "https://localhost:8080/",
     "height": 34
    },
    "colab_type": "code",
    "executionInfo": {
     "elapsed": 275,
     "status": "ok",
     "timestamp": 1565328314632,
     "user": {
      "displayName": "Yu-Ting Shen",
      "photoUrl": "",
      "userId": "17266750376611022117"
     },
     "user_tz": 420
    },
    "id": "O15ZLm1s1fGy",
    "outputId": "74dced91-6009-4fc0-f7bd-48c17c193941"
   },
   "outputs": [
    {
     "name": "stdout",
     "output_type": "stream",
     "text": [
      "2008-11-12 13:51:18\n"
     ]
    }
   ],
   "source": [
    "# time tuple to string\n",
    "time_tuple = (2008, 11, 12, 13, 51, 18, 2, 317, 0)\n",
    "date_str = time.strftime('%Y-%m-%d %H:%M:%S', time_tuple)\n",
    "print(date_str) # 輸出 2008-11-12 13:51:18"
   ]
  },
  {
   "cell_type": "markdown",
   "metadata": {
    "colab_type": "text",
    "id": "lOeqPE9F1sK6"
   },
   "source": [
    "### Conversion to datetime objects"
   ]
  },
  {
   "cell_type": "code",
   "execution_count": null,
   "metadata": {
    "colab": {
     "base_uri": "https://localhost:8080/",
     "height": 51
    },
    "colab_type": "code",
    "executionInfo": {
     "elapsed": 549,
     "status": "ok",
     "timestamp": 1565328373175,
     "user": {
      "displayName": "Yu-Ting Shen",
      "photoUrl": "",
      "userId": "17266750376611022117"
     },
     "user_tz": 420
    },
    "id": "RlmgpuRe1gAf",
    "outputId": "b9d87e5c-96ef-459e-e2a0-0342c61a3d56"
   },
   "outputs": [
    {
     "name": "stdout",
     "output_type": "stream",
     "text": [
      "2008-11-12 13:51:18\n",
      "datetime.datetime(2008, 11, 12, 13, 51, 18)\n"
     ]
    }
   ],
   "source": [
    "# time tuple to datetime object\n",
    "time_tuple = (2008, 11, 12, 13, 51, 18, 2, 317, 0)\n",
    "dt_obj = datetime(*time_tuple[0:6]) # 注意要把 tuple 解開\n",
    "print(dt_obj) # 輸出 2008-11-12 13:51:18\n",
    "print(repr(dt_obj)) # 輸出 datetime.datetime(2008, 11, 12, 13, 51, 18)"
   ]
  },
  {
   "cell_type": "code",
   "execution_count": null,
   "metadata": {
    "colab": {
     "base_uri": "https://localhost:8080/",
     "height": 51
    },
    "colab_type": "code",
    "executionInfo": {
     "elapsed": 282,
     "status": "ok",
     "timestamp": 1565328374451,
     "user": {
      "displayName": "Yu-Ting Shen",
      "photoUrl": "",
      "userId": "17266750376611022117"
     },
     "user_tz": 420
    },
    "id": "EuR95l1X1xgU",
    "outputId": "67644e06-aa87-4899-9b92-e7c2396a3e21"
   },
   "outputs": [
    {
     "name": "stdout",
     "output_type": "stream",
     "text": [
      "2018-11-10 17:53:59\n",
      "datetime.datetime(2018, 11, 10, 17, 53, 59)\n"
     ]
    }
   ],
   "source": [
    "# date string to datetime object\n",
    "date_str = '2018-11-10 17:53:59'\n",
    "dt_obj = datetime.strptime(date_str, '%Y-%m-%d %H:%M:%S') # string parse time\n",
    "print(dt_obj) # 輸出 2018-11-10 17:53:59\n",
    "print(repr(dt_obj)) # 輸出 datetime.datetime(2018, 11, 10, 17, 53, 59)"
   ]
  },
  {
   "cell_type": "code",
   "execution_count": null,
   "metadata": {
    "colab": {
     "base_uri": "https://localhost:8080/",
     "height": 51
    },
    "colab_type": "code",
    "executionInfo": {
     "elapsed": 448,
     "status": "ok",
     "timestamp": 1565328376496,
     "user": {
      "displayName": "Yu-Ting Shen",
      "photoUrl": "",
      "userId": "17266750376611022117"
     },
     "user_tz": 420
    },
    "id": "moAv6w6y1xYE",
    "outputId": "1d07a58c-f0c7-41a5-8c7d-ffcba91ead30"
   },
   "outputs": [
    {
     "name": "stdout",
     "output_type": "stream",
     "text": [
      "2008-11-12 21:59:27.595983\n",
      "datetime.datetime(2008, 11, 12, 21, 59, 27, 595983)\n"
     ]
    }
   ],
   "source": [
    "# timestamp to datetime object in local time\n",
    "timestamp = 1226527167.595983\n",
    "dt_obj = datetime.fromtimestamp(timestamp)\n",
    "print(dt_obj) # 2008-11-12 13:59:27.595983\n",
    "print(repr(dt_obj)) # datetime.datetime(2008, 11, 12, 13, 59, 27, 595983)"
   ]
  },
  {
   "cell_type": "code",
   "execution_count": null,
   "metadata": {
    "colab": {
     "base_uri": "https://localhost:8080/",
     "height": 51
    },
    "colab_type": "code",
    "executionInfo": {
     "elapsed": 585,
     "status": "ok",
     "timestamp": 1565328378255,
     "user": {
      "displayName": "Yu-Ting Shen",
      "photoUrl": "",
      "userId": "17266750376611022117"
     },
     "user_tz": 420
    },
    "id": "uDYvP7Wq1xOI",
    "outputId": "5cb1cc20-113b-4fd3-80aa-121908f919f6"
   },
   "outputs": [
    {
     "name": "stdout",
     "output_type": "stream",
     "text": [
      "2008-11-12 21:59:27.595983\n",
      "datetime.datetime(2008, 11, 12, 21, 59, 27, 595983)\n"
     ]
    }
   ],
   "source": [
    "# timestamp to datetime object in UTC\n",
    "timestamp = 1226527167.595983\n",
    "dt_obj = datetime.utcfromtimestamp(timestamp)\n",
    "print(dt_obj) # 輸出 2008-11-12 13:59:27.595983\n",
    "print(repr(dt_obj)) # 輸出 datetime.datetime(2008, 11, 12, 13, 59, 27, 595983)"
   ]
  },
  {
   "cell_type": "markdown",
   "metadata": {
    "colab_type": "text",
    "id": "AIyK0Gco16Oy"
   },
   "source": [
    "### Conversion to time tuples"
   ]
  },
  {
   "cell_type": "code",
   "execution_count": null,
   "metadata": {
    "colab": {
     "base_uri": "https://localhost:8080/",
     "height": 51
    },
    "colab_type": "code",
    "executionInfo": {
     "elapsed": 297,
     "status": "ok",
     "timestamp": 1565328455776,
     "user": {
      "displayName": "Yu-Ting Shen",
      "photoUrl": "",
      "userId": "17266750376611022117"
     },
     "user_tz": 420
    },
    "id": "petA3JdO14b7",
    "outputId": "cab330dc-7962-4ce8-b038-ac5dc12bf362"
   },
   "outputs": [
    {
     "name": "stdout",
     "output_type": "stream",
     "text": [
      "time.struct_time(tm_year=2018, tm_mon=11, tm_mday=10, tm_hour=17, tm_min=53, tm_sec=59, tm_wday=5, tm_yday=314, tm_isdst=-1)\n",
      "time.struct_time(tm_year=2018, tm_mon=11, tm_mday=10, tm_hour=17, tm_min=53, tm_sec=59, tm_wday=5, tm_yday=314, tm_isdst=-1)\n"
     ]
    }
   ],
   "source": [
    "# datetime object to time tuple\n",
    "dt_obj = datetime(2018, 11, 10, 17, 53, 59)\n",
    "time_tuple = dt_obj.timetuple()\n",
    "print(time_tuple) # 輸出 time.struct_time(tm_year=2018, tm_mon=11, tm_mday=10, tm_hour=17, tm_min=53, tm_sec=59, tm_wday=5, tm_yday=314, tm_isdst=-1)\n",
    "print(repr(time_tuple)) # 輸出 time.struct_time(tm_year=2018, tm_mon=11, tm_mday=10, tm_hour=17, tm_min=53, tm_sec=59, tm_wday=5, tm_yday=314, tm_isdst=-1)"
   ]
  },
  {
   "cell_type": "code",
   "execution_count": null,
   "metadata": {
    "colab": {
     "base_uri": "https://localhost:8080/",
     "height": 51
    },
    "colab_type": "code",
    "executionInfo": {
     "elapsed": 290,
     "status": "ok",
     "timestamp": 1565328456481,
     "user": {
      "displayName": "Yu-Ting Shen",
      "photoUrl": "",
      "userId": "17266750376611022117"
     },
     "user_tz": 420
    },
    "id": "fUysNFLW2E_3",
    "outputId": "825c5379-840e-4e6d-c7f0-bef854fdf4da"
   },
   "outputs": [
    {
     "name": "stdout",
     "output_type": "stream",
     "text": [
      "time.struct_time(tm_year=2018, tm_mon=11, tm_mday=10, tm_hour=17, tm_min=53, tm_sec=59, tm_wday=5, tm_yday=314, tm_isdst=-1)\n",
      "time.struct_time(tm_year=2018, tm_mon=11, tm_mday=10, tm_hour=17, tm_min=53, tm_sec=59, tm_wday=5, tm_yday=314, tm_isdst=-1)\n"
     ]
    }
   ],
   "source": [
    "# string to time tuple\n",
    "date_str = '2018-11-10 17:53:59'\n",
    "time_tuple = time.strptime(date_str, '%Y-%m-%d %H:%M:%S')\n",
    "print(time_tuple) # 輸出 time.struct_time(tm_year=2018, tm_mon=11, tm_mday=10, tm_hour=17, tm_min=53, tm_sec=59, tm_wday=5, tm_yday=314, tm_isdst=-1)\n",
    "print(repr(time_tuple)) # 輸出 time.struct_time(tm_year=2018, tm_mon=11, tm_mday=10, tm_hour=17, tm_min=53, tm_sec=59, tm_wday=5, tm_yday=314, tm_isdst=-1)"
   ]
  },
  {
   "cell_type": "code",
   "execution_count": null,
   "metadata": {
    "colab": {
     "base_uri": "https://localhost:8080/",
     "height": 51
    },
    "colab_type": "code",
    "executionInfo": {
     "elapsed": 337,
     "status": "ok",
     "timestamp": 1565328457239,
     "user": {
      "displayName": "Yu-Ting Shen",
      "photoUrl": "",
      "userId": "17266750376611022117"
     },
     "user_tz": 420
    },
    "id": "Gjy8DNNm2E3u",
    "outputId": "94defb79-0268-47d9-e1a7-a34cb514119b"
   },
   "outputs": [
    {
     "name": "stdout",
     "output_type": "stream",
     "text": [
      "time.struct_time(tm_year=2008, tm_mon=11, tm_mday=12, tm_hour=21, tm_min=59, tm_sec=27, tm_wday=2, tm_yday=317, tm_isdst=0)\n",
      "time.struct_time(tm_year=2008, tm_mon=11, tm_mday=12, tm_hour=21, tm_min=59, tm_sec=27, tm_wday=2, tm_yday=317, tm_isdst=0)\n"
     ]
    }
   ],
   "source": [
    "# timestamp to time tuple in UTC\n",
    "timestamp = 1226527167.595983\n",
    "time_tuple = time.gmtime(timestamp)\n",
    "print(time_tuple) # 輸出 time.struct_time(tm_year=2008, tm_mon=11, tm_mday=12, tm_hour=21, tm_min=59, tm_sec=27, tm_wday=2, tm_yday=317, tm_isdst=0)\n",
    "print(repr(time_tuple)) # 輸出 time.struct_time(tm_year=2008, tm_mon=11, tm_mday=12, tm_hour=21, tm_min=59, tm_sec=27, tm_wday=2, tm_yday=317, tm_isdst=0)"
   ]
  },
  {
   "cell_type": "code",
   "execution_count": null,
   "metadata": {
    "colab": {
     "base_uri": "https://localhost:8080/",
     "height": 51
    },
    "colab_type": "code",
    "executionInfo": {
     "elapsed": 179,
     "status": "ok",
     "timestamp": 1565328457839,
     "user": {
      "displayName": "Yu-Ting Shen",
      "photoUrl": "",
      "userId": "17266750376611022117"
     },
     "user_tz": 420
    },
    "id": "0D1Z04t92EvH",
    "outputId": "fd095cd1-520c-4e95-de1e-093f19bc16f9"
   },
   "outputs": [
    {
     "name": "stdout",
     "output_type": "stream",
     "text": [
      "time.struct_time(tm_year=2008, tm_mon=11, tm_mday=12, tm_hour=21, tm_min=59, tm_sec=27, tm_wday=2, tm_yday=317, tm_isdst=0)\n",
      "time.struct_time(tm_year=2008, tm_mon=11, tm_mday=12, tm_hour=21, tm_min=59, tm_sec=27, tm_wday=2, tm_yday=317, tm_isdst=0)\n"
     ]
    }
   ],
   "source": [
    "# timestamp to time tuple in local time\n",
    "timestamp = 1226527167.595983\n",
    "time_tuple = time.localtime(timestamp)\n",
    "print(time_tuple) # 輸出 time.struct_time(tm_year=2008, tm_mon=11, tm_mday=12, tm_hour=13, tm_min=59, tm_sec=27, tm_wday=2, tm_yday=317, tm_isdst=0)\n",
    "print(repr(time_tuple)) # 輸出 time.struct_time(tm_year=2008, tm_mon=11, tm_mday=12, tm_hour=13, tm_min=59, tm_sec=27, tm_wday=2, tm_yday=317, tm_isdst=0)"
   ]
  },
  {
   "cell_type": "markdown",
   "metadata": {
    "colab_type": "text",
    "id": "P0V-CJaQ2AVj"
   },
   "source": [
    "### Conversion to timestamps"
   ]
  },
  {
   "cell_type": "code",
   "execution_count": null,
   "metadata": {
    "colab": {
     "base_uri": "https://localhost:8080/",
     "height": 51
    },
    "colab_type": "code",
    "executionInfo": {
     "elapsed": 267,
     "status": "ok",
     "timestamp": 1565328462818,
     "user": {
      "displayName": "Yu-Ting Shen",
      "photoUrl": "",
      "userId": "17266750376611022117"
     },
     "user_tz": 420
    },
    "id": "RbZ54utv2A92",
    "outputId": "b55dd9fb-1bd1-4d3f-ecec-150402bb40aa"
   },
   "outputs": [
    {
     "name": "stdout",
     "output_type": "stream",
     "text": [
      "1226497878.0\n",
      "1226497878.0\n"
     ]
    }
   ],
   "source": [
    "# time tuple in local time to timestamp\n",
    "time_tuple = (2008, 11, 12, 13, 51, 18, 2, 317, 0)\n",
    "timestamp = time.mktime(time_tuple)\n",
    "print(timestamp) # 輸出 1226526678.0\n",
    "print(repr(timestamp)) # 輸出 1226526678.0"
   ]
  },
  {
   "cell_type": "code",
   "execution_count": null,
   "metadata": {
    "colab": {
     "base_uri": "https://localhost:8080/",
     "height": 51
    },
    "colab_type": "code",
    "executionInfo": {
     "elapsed": 179,
     "status": "ok",
     "timestamp": 1565328463194,
     "user": {
      "displayName": "Yu-Ting Shen",
      "photoUrl": "",
      "userId": "17266750376611022117"
     },
     "user_tz": 420
    },
    "id": "xvTrswHl2Dl6",
    "outputId": "62412159-e7f9-48b1-9fe9-8e90eb55fd58"
   },
   "outputs": [
    {
     "name": "stdout",
     "output_type": "stream",
     "text": [
      "1226497878\n",
      "1226497878\n"
     ]
    }
   ],
   "source": [
    "# time tuple in UTC time to timestamp\n",
    "time_tuple_utc = (2008, 11, 12, 13, 51, 18, 2, 317, 0)\n",
    "timestamp_utc = calendar.timegm(time_tuple_utc)\n",
    "print(timestamp_utc) # 輸出 1226497878\n",
    "print(repr(timestamp_utc)) # 輸出 1226497878"
   ]
  },
  {
   "cell_type": "code",
   "execution_count": null,
   "metadata": {
    "colab": {},
    "colab_type": "code",
    "id": "YRDVqj8b2NRX"
   },
   "outputs": [],
   "source": []
  }
 ],
 "metadata": {
  "colab": {
   "collapsed_sections": [],
   "name": "Python_datetime_time_conversions.ipynb",
   "provenance": []
  },
  "kernelspec": {
   "display_name": "Python 3 (ipykernel)",
   "language": "python",
   "name": "python3"
  },
  "language_info": {
   "codemirror_mode": {
    "name": "ipython",
    "version": 3
   },
   "file_extension": ".py",
   "mimetype": "text/x-python",
   "name": "python",
   "nbconvert_exporter": "python",
   "pygments_lexer": "ipython3",
   "version": "3.7.11"
  }
 },
 "nbformat": 4,
 "nbformat_minor": 1
}
