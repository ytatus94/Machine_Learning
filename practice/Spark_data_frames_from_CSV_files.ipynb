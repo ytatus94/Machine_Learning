{
 "cells": [
  {
   "cell_type": "markdown",
   "metadata": {},
   "source": [
    "# Spark data frames from CSV files: handling headers & column types"
   ]
  },
  {
   "cell_type": "markdown",
   "metadata": {},
   "source": [
    "### Source\n",
    "https://www.nodalpoint.com/spark-data-frames-from-csv-files-handling-headers-column-types/\n",
    "\n",
    "設定 `IPYTHON_OPTS=\"notebook\" $SPARK_HOME/bin/pyspark`"
   ]
  },
  {
   "cell_type": "code",
   "execution_count": 1,
   "metadata": {},
   "outputs": [],
   "source": [
    "from pyspark import SparkContext\n",
    "sc = SparkContext(\"local\", \"test App\") # local 是 URL，test App 是這程式的名字\n",
    "\n",
    "from pyspark.sql import SQLContext\n",
    "from pyspark.sql.types import *\n",
    "sqlContext = SQLContext(sc)"
   ]
  },
  {
   "cell_type": "code",
   "execution_count": 2,
   "metadata": {},
   "outputs": [
    {
     "data": {
      "text/plain": [
       "250000"
      ]
     },
     "execution_count": 2,
     "metadata": {},
     "output_type": "execute_result"
    }
   ],
   "source": [
    "taxiFile = sc.textFile(\"nyctaxisub.csv\")\n",
    "taxiFile.count() # 計算有多少 rows"
   ]
  },
  {
   "cell_type": "code",
   "execution_count": 3,
   "metadata": {},
   "outputs": [
    {
     "data": {
      "text/plain": [
       "pyspark.rdd.RDD"
      ]
     },
     "execution_count": 3,
     "metadata": {},
     "output_type": "execute_result"
    }
   ],
   "source": [
    "type(taxiFile)"
   ]
  },
  {
   "cell_type": "code",
   "execution_count": 4,
   "metadata": {},
   "outputs": [
    {
     "data": {
      "text/plain": [
       "['\"_id\",\"_rev\",\"dropoff_datetime\",\"dropoff_latitude\",\"dropoff_longitude\",\"hack_license\",\"medallion\",\"passenger_count\",\"pickup_datetime\",\"pickup_latitude\",\"pickup_longitude\",\"rate_code\",\"store_and_fwd_flag\",\"trip_distance\",\"trip_time_in_secs\",\"vendor_id\"',\n",
       " '\"29b3f4a30dea6688d4c289c9672cb996\",\"1-ddfdec8050c7ef4dc694eeeda6c4625e\",\"2013-01-11 22:03:00\",+4.07033460000000E+001,-7.40144200000000E+001,\"A93D1F7F8998FFB75EEF477EB6077516\",\"68BC16A99E915E44ADA7E639B4DD5F59\",2,\"2013-01-11 21:48:00\",+4.06760670000000E+001,-7.39810790000000E+001,1,,+4.08000000000000E+000,900,\"VTS\"',\n",
       " '\"2a80cfaa425dcec0861e02ae44354500\",\"1-b72234b58a7b0018a1ec5d2ea0797e32\",\"2013-01-11 04:28:00\",+4.08190960000000E+001,-7.39467470000000E+001,\"64CE1B03FDE343BB8DFB512123A525A4\",\"60150AA39B2F654ED6F0C3AF8174A48A\",1,\"2013-01-11 04:07:00\",+4.07280540000000E+001,-7.40020370000000E+001,1,,+8.53000000000000E+000,1260,\"VTS\"',\n",
       " '\"29b3f4a30dea6688d4c289c96758d87e\",\"1-387ec30eac5abda89d2abefdf947b2c1\",\"2013-01-11 22:02:00\",+4.07277180000000E+001,-7.39942860000000E+001,\"2D73B0C44F1699C67AB8AE322433BDB7\",\"6F907BC9A85B7034C8418A24A0A75489\",5,\"2013-01-11 21:46:00\",+4.07577480000000E+001,-7.39649810000000E+001,1,,+3.01000000000000E+000,960,\"VTS\"',\n",
       " '\"2a80cfaa425dcec0861e02ae446226e4\",\"1-aa8b16d6ae44ad906a46cc6581ffea50\",\"2013-01-11 10:03:00\",+4.07643050000000E+001,-7.39544600000000E+001,\"E90018250F0A009433F03BD1E4A4CE53\",\"1AFFD48CC07161DA651625B562FE4D06\",5,\"2013-01-11 09:44:00\",+4.07308080000000E+001,-7.39928280000000E+001,1,,+3.64000000000000E+000,1140,\"VTS\"']"
      ]
     },
     "execution_count": 4,
     "metadata": {},
     "output_type": "execute_result"
    }
   ],
   "source": [
    "taxiFile.take(5) # 取出前 5 rows，結果是一個由前 5 rows 組成的 list"
   ]
  },
  {
   "cell_type": "markdown",
   "metadata": {},
   "source": [
    "想要知道每個欄位的名字，所以取出 header"
   ]
  },
  {
   "cell_type": "code",
   "execution_count": 5,
   "metadata": {},
   "outputs": [
    {
     "data": {
      "text/plain": [
       "'\"_id\",\"_rev\",\"dropoff_datetime\",\"dropoff_latitude\",\"dropoff_longitude\",\"hack_license\",\"medallion\",\"passenger_count\",\"pickup_datetime\",\"pickup_latitude\",\"pickup_longitude\",\"rate_code\",\"store_and_fwd_flag\",\"trip_distance\",\"trip_time_in_secs\",\"vendor_id\"'"
      ]
     },
     "execution_count": 5,
     "metadata": {},
     "output_type": "execute_result"
    }
   ],
   "source": [
    "header = taxiFile.first() # 取得第 1 row\n",
    "header"
   ]
  },
  {
   "cell_type": "code",
   "execution_count": 6,
   "metadata": {},
   "outputs": [
    {
     "data": {
      "text/plain": [
       "str"
      ]
     },
     "execution_count": 6,
     "metadata": {},
     "output_type": "execute_result"
    }
   ],
   "source": [
    "type(header)"
   ]
  },
  {
   "cell_type": "markdown",
   "metadata": {},
   "source": [
    "因為 header 的每個元素都還有雙引號括起來，所以要去掉雙引號的部分"
   ]
  },
  {
   "cell_type": "code",
   "execution_count": 7,
   "metadata": {},
   "outputs": [
    {
     "data": {
      "text/plain": [
       "'_id,_rev,dropoff_datetime,dropoff_latitude,dropoff_longitude,hack_license,medallion,passenger_count,pickup_datetime,pickup_latitude,pickup_longitude,rate_code,store_and_fwd_flag,trip_distance,trip_time_in_secs,vendor_id'"
      ]
     },
     "execution_count": 7,
     "metadata": {},
     "output_type": "execute_result"
    }
   ],
   "source": [
    "schemaString = header.replace('\"', '') # 把 header 中的雙引號去掉\n",
    "schemaString"
   ]
  },
  {
   "cell_type": "markdown",
   "metadata": {},
   "source": [
    "去掉雙引號之後就可以拿來做 schema 了，先全部當成 `StringType`"
   ]
  },
  {
   "cell_type": "code",
   "execution_count": 8,
   "metadata": {},
   "outputs": [
    {
     "data": {
      "text/plain": [
       "[StructField(_id,StringType,true),\n",
       " StructField(_rev,StringType,true),\n",
       " StructField(dropoff_datetime,StringType,true),\n",
       " StructField(dropoff_latitude,StringType,true),\n",
       " StructField(dropoff_longitude,StringType,true),\n",
       " StructField(hack_license,StringType,true),\n",
       " StructField(medallion,StringType,true),\n",
       " StructField(passenger_count,StringType,true),\n",
       " StructField(pickup_datetime,StringType,true),\n",
       " StructField(pickup_latitude,StringType,true),\n",
       " StructField(pickup_longitude,StringType,true),\n",
       " StructField(rate_code,StringType,true),\n",
       " StructField(store_and_fwd_flag,StringType,true),\n",
       " StructField(trip_distance,StringType,true),\n",
       " StructField(trip_time_in_secs,StringType,true),\n",
       " StructField(vendor_id,StringType,true)]"
      ]
     },
     "execution_count": 8,
     "metadata": {},
     "output_type": "execute_result"
    }
   ],
   "source": [
    "fields = [StructField(field_name, StringType(), True) for field_name in schemaString.split(\",\")]\n",
    "fields"
   ]
  },
  {
   "cell_type": "code",
   "execution_count": 9,
   "metadata": {},
   "outputs": [
    {
     "data": {
      "text/plain": [
       "16"
      ]
     },
     "execution_count": 9,
     "metadata": {},
     "output_type": "execute_result"
    }
   ],
   "source": [
    "len(fields) # number of columns"
   ]
  },
  {
   "cell_type": "code",
   "execution_count": 10,
   "metadata": {},
   "outputs": [
    {
     "data": {
      "text/plain": [
       "[StructField(_id,StringType,true),\n",
       " StructField(_rev,StringType,true),\n",
       " StructField(dropoff_datetime,TimestampType,true),\n",
       " StructField(dropoff_latitude,FloatType,true),\n",
       " StructField(dropoff_longitude,FloatType,true),\n",
       " StructField(hack_license,StringType,true),\n",
       " StructField(medallion,StringType,true),\n",
       " StructField(passenger_count,IntegerType,true),\n",
       " StructField(pickup_datetime,TimestampType,true),\n",
       " StructField(pickup_latitude,FloatType,true),\n",
       " StructField(pickup_longitude,FloatType,true),\n",
       " StructField(rate_code,IntegerType,true),\n",
       " StructField(store_and_fwd_flag,StringType,true),\n",
       " StructField(trip_distance,FloatType,true),\n",
       " StructField(trip_time_in_secs,IntegerType,true),\n",
       " StructField(vendor_id,StringType,true)]"
      ]
     },
     "execution_count": 10,
     "metadata": {},
     "output_type": "execute_result"
    }
   ],
   "source": [
    "# 把應該不是 string 形態的欄位改成正確的型態\n",
    "fields[2].dataType = TimestampType()\n",
    "fields[3].dataType = FloatType()\n",
    "fields[4].dataType = FloatType()\n",
    "fields[7].dataType = IntegerType()\n",
    "fields[8].dataType = TimestampType()\n",
    "fields[9].dataType = FloatType()\n",
    "fields[10].dataType = FloatType()\n",
    "fields[11].dataType = IntegerType()\n",
    "fields[13].dataType = FloatType()\n",
    "fields[14].dataType = IntegerType()\n",
    "\n",
    "fields"
   ]
  },
  {
   "cell_type": "code",
   "execution_count": 11,
   "metadata": {},
   "outputs": [
    {
     "data": {
      "text/plain": [
       "[StructField(id,StringType,true),\n",
       " StructField(rev,StringType,true),\n",
       " StructField(dropoff_datetime,TimestampType,true),\n",
       " StructField(dropoff_latitude,FloatType,true),\n",
       " StructField(dropoff_longitude,FloatType,true),\n",
       " StructField(hack_license,StringType,true),\n",
       " StructField(medallion,StringType,true),\n",
       " StructField(passenger_count,IntegerType,true),\n",
       " StructField(pickup_datetime,TimestampType,true),\n",
       " StructField(pickup_latitude,FloatType,true),\n",
       " StructField(pickup_longitude,FloatType,true),\n",
       " StructField(rate_code,IntegerType,true),\n",
       " StructField(store_and_fwd_flag,StringType,true),\n",
       " StructField(trip_distance,FloatType,true),\n",
       " StructField(trip_time_in_secs,IntegerType,true),\n",
       " StructField(vendor_id,StringType,true)]"
      ]
     },
     "execution_count": 11,
     "metadata": {},
     "output_type": "execute_result"
    }
   ],
   "source": [
    "# 把下劃線拿掉\n",
    "fields[0].name = \"id\"\n",
    "fields[1].name = \"rev\"\n",
    "\n",
    "fields"
   ]
  },
  {
   "cell_type": "code",
   "execution_count": 12,
   "metadata": {},
   "outputs": [
    {
     "data": {
      "text/plain": [
       "StructType(List(StructField(id,StringType,true),StructField(rev,StringType,true),StructField(dropoff_datetime,TimestampType,true),StructField(dropoff_latitude,FloatType,true),StructField(dropoff_longitude,FloatType,true),StructField(hack_license,StringType,true),StructField(medallion,StringType,true),StructField(passenger_count,IntegerType,true),StructField(pickup_datetime,TimestampType,true),StructField(pickup_latitude,FloatType,true),StructField(pickup_longitude,FloatType,true),StructField(rate_code,IntegerType,true),StructField(store_and_fwd_flag,StringType,true),StructField(trip_distance,FloatType,true),StructField(trip_time_in_secs,IntegerType,true),StructField(vendor_id,StringType,true)))"
      ]
     },
     "execution_count": 12,
     "metadata": {},
     "output_type": "execute_result"
    }
   ],
   "source": [
    "# 建立 schema\n",
    "schema = StructType(fields)\n",
    "schema"
   ]
  },
  {
   "cell_type": "code",
   "execution_count": 13,
   "metadata": {},
   "outputs": [
    {
     "data": {
      "text/plain": [
       "['\"_id\",\"_rev\",\"dropoff_datetime\",\"dropoff_latitude\",\"dropoff_longitude\",\"hack_license\",\"medallion\",\"passenger_count\",\"pickup_datetime\",\"pickup_latitude\",\"pickup_longitude\",\"rate_code\",\"store_and_fwd_flag\",\"trip_distance\",\"trip_time_in_secs\",\"vendor_id\"']"
      ]
     },
     "execution_count": 13,
     "metadata": {},
     "output_type": "execute_result"
    }
   ],
   "source": [
    "# 取出 header 那一 row，不可以用前面定義的 header 變數，因為不是 rdd 的一部分\n",
    "taxiHeader = taxiFile.filter(lambda l: \"_id\" in l)\n",
    "taxiHeader.collect()"
   ]
  },
  {
   "cell_type": "code",
   "execution_count": 14,
   "metadata": {},
   "outputs": [
    {
     "data": {
      "text/plain": [
       "249999"
      ]
     },
     "execution_count": 14,
     "metadata": {},
     "output_type": "execute_result"
    }
   ],
   "source": [
    "taxiNoHeader = taxiFile.subtract(taxiHeader) # 取出 header 以外的其他 rows\n",
    "taxiNoHeader.count()"
   ]
  },
  {
   "cell_type": "code",
   "execution_count": 15,
   "metadata": {},
   "outputs": [
    {
     "data": {
      "text/plain": [
       "datetime.datetime(2013, 2, 9, 18, 16, 10)"
      ]
     },
     "execution_count": 15,
     "metadata": {},
     "output_type": "execute_result"
    }
   ],
   "source": [
    "from datetime import *\n",
    "from dateutil.parser import parse\n",
    "parse(\"2013-02-09 18:16:10\") # 測試一下"
   ]
  },
  {
   "cell_type": "code",
   "execution_count": 16,
   "metadata": {},
   "outputs": [
    {
     "data": {
      "text/plain": [
       "['\"29b3f4a30dea6688d4c289c96758d87e\",\"1-387ec30eac5abda89d2abefdf947b2c1\",\"2013-01-11 22:02:00\",+4.07277180000000E+001,-7.39942860000000E+001,\"2D73B0C44F1699C67AB8AE322433BDB7\",\"6F907BC9A85B7034C8418A24A0A75489\",5,\"2013-01-11 21:46:00\",+4.07577480000000E+001,-7.39649810000000E+001,1,,+3.01000000000000E+000,960,\"VTS\"']"
      ]
     },
     "execution_count": 16,
     "metadata": {},
     "output_type": "execute_result"
    }
   ],
   "source": [
    "taxiNoHeader.take(1)"
   ]
  },
  {
   "cell_type": "code",
   "execution_count": 17,
   "metadata": {},
   "outputs": [
    {
     "data": {
      "text/plain": [
       "[('\"fff43e5eb5662eecf42a3f9b5ff42214\"',\n",
       "  '\"1-2e9ea2f49a29663d699d1940f42fab66\"',\n",
       "  datetime.datetime(2013, 11, 26, 13, 15),\n",
       "  40.764915,\n",
       "  -73.982536,\n",
       "  '\"564F38A1BC4B1AA7EC528E6C2C81EAAC\"',\n",
       "  '\"3E29713986A6762D985C4FC53B177F61\"',\n",
       "  1,\n",
       "  datetime.datetime(2013, 11, 26, 13, 2),\n",
       "  40.786667,\n",
       "  -73.972023,\n",
       "  1,\n",
       "  '',\n",
       "  1.87,\n",
       "  780,\n",
       "  '\"VTS\"'),\n",
       " ('\"fff43e5eb5662eecf42a3f9b5ff1fc5b\"',\n",
       "  '\"1-18b010dab3a3f83ebf4b9f31e88c615d\"',\n",
       "  datetime.datetime(2013, 11, 26, 3, 59),\n",
       "  40.686081,\n",
       "  -73.952072,\n",
       "  '\"5E3208C5FA0E44EA08223489E3853EAD\"',\n",
       "  '\"DC67FC4851D7642EDCA34A8A3C44F116\"',\n",
       "  1,\n",
       "  datetime.datetime(2013, 11, 26, 3, 42),\n",
       "  40.740715,\n",
       "  -74.004562,\n",
       "  1,\n",
       "  '',\n",
       "  5.84,\n",
       "  1020,\n",
       "  '\"VTS\"')]"
      ]
     },
     "execution_count": 17,
     "metadata": {},
     "output_type": "execute_result"
    }
   ],
   "source": [
    "taxi_temp = taxiNoHeader.map(lambda k: k.split(\",\"))\\\n",
    "                        .map(lambda p: (p[0], p[1], parse(p[2].strip('\"')), float(p[3]),\n",
    "                                        float(p[4]), p[5], p[6], int(p[7]),\n",
    "                                        parse(p[8].strip('\"')), float(p[9]), float(p[10]), int(p[11]),\n",
    "                                        p[12], float(p[13]), int(p[14]), p[15]\n",
    "                                       ))\n",
    "taxi_temp.top(2) # 看前兩 rows"
   ]
  },
  {
   "cell_type": "code",
   "execution_count": 18,
   "metadata": {},
   "outputs": [
    {
     "data": {
      "text/plain": [
       "pyspark.rdd.PipelinedRDD"
      ]
     },
     "execution_count": 18,
     "metadata": {},
     "output_type": "execute_result"
    }
   ],
   "source": [
    "type(taxi_temp)"
   ]
  },
  {
   "cell_type": "code",
   "execution_count": 19,
   "metadata": {},
   "outputs": [
    {
     "data": {
      "text/plain": [
       "[Row(id='\"29b3f4a30dea6688d4c289c96758d87e\"', rev='\"1-387ec30eac5abda89d2abefdf947b2c1\"', dropoff_datetime=datetime.datetime(2013, 1, 11, 22, 2), dropoff_latitude=40.727718353271484, dropoff_longitude=-73.9942855834961, hack_license='\"2D73B0C44F1699C67AB8AE322433BDB7\"', medallion='\"6F907BC9A85B7034C8418A24A0A75489\"', passenger_count=5, pickup_datetime=datetime.datetime(2013, 1, 11, 21, 46), pickup_latitude=40.757747650146484, pickup_longitude=-73.96498107910156, rate_code=1, store_and_fwd_flag='', trip_distance=3.009999990463257, trip_time_in_secs=960, vendor_id='\"VTS\"'),\n",
       " Row(id='\"c635d7759ccce57b89417432052af020\"', rev='\"1-87d72b8d964c0bc4804c9ef14ac1a72f\"', dropoff_datetime=datetime.datetime(2013, 2, 11, 17, 6, 2), dropoff_latitude=40.74830627441406, dropoff_longitude=-73.9885025024414, hack_license='\"47E3BB27C9CD8B519C8B29E92F4386C6\"', medallion='\"E22AB8679FCC7FBCB81BE56FD5BB2C3C\"', passenger_count=1, pickup_datetime=datetime.datetime(2013, 2, 11, 16, 52, 48), pickup_latitude=40.76223373413086, pickup_longitude=-73.9731216430664, rate_code=1, store_and_fwd_flag='\"N\"', trip_distance=1.7999999523162842, trip_time_in_secs=793, vendor_id='\"CMT\"'),\n",
       " Row(id='\"c7a046238400159b6d2f7dbbce76a55a\"', rev='\"1-251e553dd840296c5f4c89f7a24bdc67\"', dropoff_datetime=datetime.datetime(2013, 11, 26, 15, 46, 53), dropoff_latitude=40.78153610229492, dropoff_longitude=-73.98104095458984, hack_license='\"DEB3CA92C327A5EEE5355FCC61DD0800\"', medallion='\"0AD9AEDF8965687A1B8AE575EDD96774\"', passenger_count=1, pickup_datetime=datetime.datetime(2013, 11, 26, 15, 26, 55), pickup_latitude=40.76335144042969, pickup_longitude=-73.97045135498047, rate_code=1, store_and_fwd_flag='\"N\"', trip_distance=2.799999952316284, trip_time_in_secs=1198, vendor_id='\"CMT\"'),\n",
       " Row(id='\"cf56894cd0bedc202dbdd97351b8f4cc\"', rev='\"1-f58fda287b6413bd4aed319125ade266\"', dropoff_datetime=datetime.datetime(2013, 11, 26, 8, 28, 7), dropoff_latitude=40.7481689453125, dropoff_longitude=-74.00395202636719, hack_license='\"ABA6223933ED3C6761DBA50C8834D86C\"', medallion='\"35F0522181AE560EC9817B4B12B60EEE\"', passenger_count=2, pickup_datetime=datetime.datetime(2013, 11, 26, 8, 15, 6), pickup_latitude=40.72908401489258, pickup_longitude=-73.99378204345703, rate_code=1, store_and_fwd_flag='\"N\"', trip_distance=2.0999999046325684, trip_time_in_secs=781, vendor_id='\"CMT\"'),\n",
       " Row(id='\"5b6168e8c48445dba0b4c09500d8b8a0\"', rev='\"1-f61c3e2b6419b12c7e14f36c743bac3f\"', dropoff_datetime=datetime.datetime(2013, 1, 11, 11, 21, 36), dropoff_latitude=40.75723648071289, dropoff_longitude=-73.97563171386719, hack_license='\"9F129AB93B1551856B390F284853FE87\"', medallion='\"BCDEAD3783CF34DA6D85762CECDA81FE\"', passenger_count=1, pickup_datetime=datetime.datetime(2013, 1, 11, 11, 8, 7), pickup_latitude=40.73245620727539, pickup_longitude=-73.98164367675781, rate_code=1, store_and_fwd_flag='\"N\"', trip_distance=2.0999999046325684, trip_time_in_secs=809, vendor_id='\"CMT\"'),\n",
       " Row(id='\"184b2ec14d00fa3307bc44ce120fdbe0\"', rev='\"1-40e9b901499132ddfd08b583afdb11bc\"', dropoff_datetime=datetime.datetime(2013, 11, 26, 23, 2), dropoff_latitude=40.77103042602539, dropoff_longitude=-73.94989013671875, hack_license='\"C4797F9008D4345B41B60906F5FCD5D3\"', medallion='\"A87E2C633EEB9BCF863389CCE1C6D8F9\"', passenger_count=1, pickup_datetime=datetime.datetime(2013, 11, 26, 22, 48), pickup_latitude=40.72399139404297, pickup_longitude=-73.98248291015625, rate_code=1, store_and_fwd_flag='', trip_distance=4.050000190734863, trip_time_in_secs=840, vendor_id='\"VTS\"'),\n",
       " Row(id='\"f0a7675beb17a8b2400ce09028b680d4\"', rev='\"1-a35999d5e34a702a09ab313a3db70886\"', dropoff_datetime=datetime.datetime(2013, 11, 26, 12, 35, 42), dropoff_latitude=40.76713180541992, dropoff_longitude=-73.98989868164062, hack_license='\"8F327F7849789A57F0DEE7256B045D4F\"', medallion='\"429AD5759D9F317802F3A6C5F138E7B9\"', passenger_count=1, pickup_datetime=datetime.datetime(2013, 11, 26, 12, 22, 48), pickup_latitude=40.763004302978516, pickup_longitude=-73.97380065917969, rate_code=1, store_and_fwd_flag='\"N\"', trip_distance=1.0, trip_time_in_secs=774, vendor_id='\"CMT\"'),\n",
       " Row(id='\"2a80cfaa425dcec0861e02ae4490cc7a\"', rev='\"1-fae48ad0a2820986c99a4477defc8fd9\"', dropoff_datetime=datetime.datetime(2013, 1, 11, 20, 29), dropoff_latitude=40.78673553466797, dropoff_longitude=-73.97244262695312, hack_license='\"28B3ADA18F20647863C9A45BCAAA017A\"', medallion='\"4EE20C42C8FDC2AE756897934A8DC863\"', passenger_count=1, pickup_datetime=datetime.datetime(2013, 1, 11, 20, 13), pickup_latitude=40.72550964355469, pickup_longitude=-74.00751495361328, rate_code=1, store_and_fwd_flag='', trip_distance=5.5, trip_time_in_secs=960, vendor_id='\"VTS\"'),\n",
       " Row(id='\"0bfb560b56ff33858ac0cbf31507cab5\"', rev='\"1-23fc83ed78797e9bb095b368eac81c8c\"', dropoff_datetime=datetime.datetime(2013, 1, 11, 23, 25), dropoff_latitude=40.743350982666016, dropoff_longitude=-73.97689819335938, hack_license='\"3A0C7EE8BC3CB45E8B3934027B9A9F88\"', medallion='\"A99D6EFA724BB34AE80D229022A81A03\"', passenger_count=1, pickup_datetime=datetime.datetime(2013, 1, 11, 23, 12), pickup_latitude=40.75945281982422, pickup_longitude=-73.97673034667969, rate_code=1, store_and_fwd_flag='', trip_distance=0.1899999976158142, trip_time_in_secs=780, vendor_id='\"VTS\"'),\n",
       " Row(id='\"8443fc6694b4c22d0baaad5a712706f9\"', rev='\"1-84a55135396f5db5b6b7f432f3b58d00\"', dropoff_datetime=datetime.datetime(2013, 2, 9, 19, 8), dropoff_latitude=40.76369857788086, dropoff_longitude=-73.98556518554688, hack_license='\"F595233BB11B4CDEE681ECDCD1BDF041\"', medallion='\"ACD4E6D4DD80B0535B5A84F7BA60B6F4\"', passenger_count=1, pickup_datetime=datetime.datetime(2013, 2, 9, 18, 48), pickup_latitude=40.704166412353516, pickup_longitude=-74.0133285522461, rate_code=1, store_and_fwd_flag='', trip_distance=5.230000019073486, trip_time_in_secs=1200, vendor_id='\"VTS\"')]"
      ]
     },
     "execution_count": 19,
     "metadata": {},
     "output_type": "execute_result"
    }
   ],
   "source": [
    "# 用 taxi_temp 來建立 DataFrame\n",
    "# taxi_temp 是 rdd\n",
    "taxi_df =sqlContext.createDataFrame(taxi_temp, schema)\n",
    "taxi_df.head(10)"
   ]
  },
  {
   "cell_type": "code",
   "execution_count": 20,
   "metadata": {},
   "outputs": [
    {
     "data": {
      "text/plain": [
       "[Row(id='29b3f4a30dea6688d4c289c96758d87e', rev='1-387ec30eac5abda89d2abefdf947b2c1', dropoff_datetime=datetime.datetime(2013, 1, 11, 22, 2), dropoff_latitude=40.727718353271484, dropoff_longitude=-73.9942855834961, hack_license='2D73B0C44F1699C67AB8AE322433BDB7', medallion='6F907BC9A85B7034C8418A24A0A75489', passenger_count=5, pickup_datetime=datetime.datetime(2013, 1, 11, 21, 46), pickup_latitude=40.757747650146484, pickup_longitude=-73.96498107910156, rate_code=1, store_and_fwd_flag='', trip_distance=3.009999990463257, trip_time_in_secs=960, vendor_id='VTS'),\n",
       " Row(id='c635d7759ccce57b89417432052af020', rev='1-87d72b8d964c0bc4804c9ef14ac1a72f', dropoff_datetime=datetime.datetime(2013, 2, 11, 17, 6, 2), dropoff_latitude=40.74830627441406, dropoff_longitude=-73.9885025024414, hack_license='47E3BB27C9CD8B519C8B29E92F4386C6', medallion='E22AB8679FCC7FBCB81BE56FD5BB2C3C', passenger_count=1, pickup_datetime=datetime.datetime(2013, 2, 11, 16, 52, 48), pickup_latitude=40.76223373413086, pickup_longitude=-73.9731216430664, rate_code=1, store_and_fwd_flag='N', trip_distance=1.7999999523162842, trip_time_in_secs=793, vendor_id='CMT'),\n",
       " Row(id='c7a046238400159b6d2f7dbbce76a55a', rev='1-251e553dd840296c5f4c89f7a24bdc67', dropoff_datetime=datetime.datetime(2013, 11, 26, 15, 46, 53), dropoff_latitude=40.78153610229492, dropoff_longitude=-73.98104095458984, hack_license='DEB3CA92C327A5EEE5355FCC61DD0800', medallion='0AD9AEDF8965687A1B8AE575EDD96774', passenger_count=1, pickup_datetime=datetime.datetime(2013, 11, 26, 15, 26, 55), pickup_latitude=40.76335144042969, pickup_longitude=-73.97045135498047, rate_code=1, store_and_fwd_flag='N', trip_distance=2.799999952316284, trip_time_in_secs=1198, vendor_id='CMT'),\n",
       " Row(id='cf56894cd0bedc202dbdd97351b8f4cc', rev='1-f58fda287b6413bd4aed319125ade266', dropoff_datetime=datetime.datetime(2013, 11, 26, 8, 28, 7), dropoff_latitude=40.7481689453125, dropoff_longitude=-74.00395202636719, hack_license='ABA6223933ED3C6761DBA50C8834D86C', medallion='35F0522181AE560EC9817B4B12B60EEE', passenger_count=2, pickup_datetime=datetime.datetime(2013, 11, 26, 8, 15, 6), pickup_latitude=40.72908401489258, pickup_longitude=-73.99378204345703, rate_code=1, store_and_fwd_flag='N', trip_distance=2.0999999046325684, trip_time_in_secs=781, vendor_id='CMT'),\n",
       " Row(id='5b6168e8c48445dba0b4c09500d8b8a0', rev='1-f61c3e2b6419b12c7e14f36c743bac3f', dropoff_datetime=datetime.datetime(2013, 1, 11, 11, 21, 36), dropoff_latitude=40.75723648071289, dropoff_longitude=-73.97563171386719, hack_license='9F129AB93B1551856B390F284853FE87', medallion='BCDEAD3783CF34DA6D85762CECDA81FE', passenger_count=1, pickup_datetime=datetime.datetime(2013, 1, 11, 11, 8, 7), pickup_latitude=40.73245620727539, pickup_longitude=-73.98164367675781, rate_code=1, store_and_fwd_flag='N', trip_distance=2.0999999046325684, trip_time_in_secs=809, vendor_id='CMT'),\n",
       " Row(id='184b2ec14d00fa3307bc44ce120fdbe0', rev='1-40e9b901499132ddfd08b583afdb11bc', dropoff_datetime=datetime.datetime(2013, 11, 26, 23, 2), dropoff_latitude=40.77103042602539, dropoff_longitude=-73.94989013671875, hack_license='C4797F9008D4345B41B60906F5FCD5D3', medallion='A87E2C633EEB9BCF863389CCE1C6D8F9', passenger_count=1, pickup_datetime=datetime.datetime(2013, 11, 26, 22, 48), pickup_latitude=40.72399139404297, pickup_longitude=-73.98248291015625, rate_code=1, store_and_fwd_flag='', trip_distance=4.050000190734863, trip_time_in_secs=840, vendor_id='VTS'),\n",
       " Row(id='f0a7675beb17a8b2400ce09028b680d4', rev='1-a35999d5e34a702a09ab313a3db70886', dropoff_datetime=datetime.datetime(2013, 11, 26, 12, 35, 42), dropoff_latitude=40.76713180541992, dropoff_longitude=-73.98989868164062, hack_license='8F327F7849789A57F0DEE7256B045D4F', medallion='429AD5759D9F317802F3A6C5F138E7B9', passenger_count=1, pickup_datetime=datetime.datetime(2013, 11, 26, 12, 22, 48), pickup_latitude=40.763004302978516, pickup_longitude=-73.97380065917969, rate_code=1, store_and_fwd_flag='N', trip_distance=1.0, trip_time_in_secs=774, vendor_id='CMT'),\n",
       " Row(id='2a80cfaa425dcec0861e02ae4490cc7a', rev='1-fae48ad0a2820986c99a4477defc8fd9', dropoff_datetime=datetime.datetime(2013, 1, 11, 20, 29), dropoff_latitude=40.78673553466797, dropoff_longitude=-73.97244262695312, hack_license='28B3ADA18F20647863C9A45BCAAA017A', medallion='4EE20C42C8FDC2AE756897934A8DC863', passenger_count=1, pickup_datetime=datetime.datetime(2013, 1, 11, 20, 13), pickup_latitude=40.72550964355469, pickup_longitude=-74.00751495361328, rate_code=1, store_and_fwd_flag='', trip_distance=5.5, trip_time_in_secs=960, vendor_id='VTS'),\n",
       " Row(id='0bfb560b56ff33858ac0cbf31507cab5', rev='1-23fc83ed78797e9bb095b368eac81c8c', dropoff_datetime=datetime.datetime(2013, 1, 11, 23, 25), dropoff_latitude=40.743350982666016, dropoff_longitude=-73.97689819335938, hack_license='3A0C7EE8BC3CB45E8B3934027B9A9F88', medallion='A99D6EFA724BB34AE80D229022A81A03', passenger_count=1, pickup_datetime=datetime.datetime(2013, 1, 11, 23, 12), pickup_latitude=40.75945281982422, pickup_longitude=-73.97673034667969, rate_code=1, store_and_fwd_flag='', trip_distance=0.1899999976158142, trip_time_in_secs=780, vendor_id='VTS'),\n",
       " Row(id='8443fc6694b4c22d0baaad5a712706f9', rev='1-84a55135396f5db5b6b7f432f3b58d00', dropoff_datetime=datetime.datetime(2013, 2, 9, 19, 8), dropoff_latitude=40.76369857788086, dropoff_longitude=-73.98556518554688, hack_license='F595233BB11B4CDEE681ECDCD1BDF041', medallion='ACD4E6D4DD80B0535B5A84F7BA60B6F4', passenger_count=1, pickup_datetime=datetime.datetime(2013, 2, 9, 18, 48), pickup_latitude=40.704166412353516, pickup_longitude=-74.0133285522461, rate_code=1, store_and_fwd_flag='', trip_distance=5.230000019073486, trip_time_in_secs=1200, vendor_id='VTS')]"
      ]
     },
     "execution_count": 20,
     "metadata": {},
     "output_type": "execute_result"
    }
   ],
   "source": [
    "# string 仍然是雙引號放在單引號內，但是只需要一組引號，所以全部的 string 都要加上 .strip('\"')\n",
    "taxi_df = taxiNoHeader.map(lambda k: k.split(\",\"))\\\n",
    "                      .map(lambda p: (p[0].strip('\"'), p[1].strip('\"'), parse(p[2].strip('\"')), float(p[3]),\n",
    "                                      float(p[4]), p[5].strip('\"'), p[6].strip('\"'), int(p[7]),\n",
    "                                      parse(p[8].strip('\"')), float(p[9]), float(p[10]), int(p[11]),\n",
    "                                      p[12].strip('\"'), float(p[13]), int(p[14]), p[15].strip('\"')\n",
    "                                     )).toDF(schema) # 直接用 rdd.toDF() 建立 DataFrame\n",
    "taxi_df.head(10)"
   ]
  },
  {
   "cell_type": "code",
   "execution_count": 21,
   "metadata": {},
   "outputs": [
    {
     "name": "stdout",
     "output_type": "stream",
     "text": [
      "+---------+------+\n",
      "|vendor_id| count|\n",
      "+---------+------+\n",
      "|      CMT|114387|\n",
      "|      VTS|135612|\n",
      "+---------+------+\n",
      "\n"
     ]
    }
   ],
   "source": [
    "taxi_df.groupBy(\"vendor_id\").count().show() # 有多少 vendor"
   ]
  },
  {
   "cell_type": "code",
   "execution_count": 22,
   "metadata": {},
   "outputs": [
    {
     "data": {
      "text/plain": [
       "135616"
      ]
     },
     "execution_count": 22,
     "metadata": {},
     "output_type": "execute_result"
    }
   ],
   "source": [
    "taxi_df.filter(taxi_df.store_and_fwd_flag=='').count() # store_and_fwd_flag 欄位有多少 missing values"
   ]
  },
  {
   "cell_type": "code",
   "execution_count": 23,
   "metadata": {},
   "outputs": [
    {
     "data": {
      "text/plain": [
       "135612"
      ]
     },
     "execution_count": 23,
     "metadata": {},
     "output_type": "execute_result"
    }
   ],
   "source": [
    "taxi_df.filter((taxi_df.store_and_fwd_flag== '') & (taxi_df.vendor_id == 'VTS')).count() "
   ]
  },
  {
   "cell_type": "code",
   "execution_count": 24,
   "metadata": {},
   "outputs": [
    {
     "data": {
      "text/plain": [
       "[('id', 'string'),\n",
       " ('rev', 'string'),\n",
       " ('dropoff_datetime', 'timestamp'),\n",
       " ('dropoff_latitude', 'float'),\n",
       " ('dropoff_longitude', 'float'),\n",
       " ('hack_license', 'string'),\n",
       " ('medallion', 'string'),\n",
       " ('passenger_count', 'int'),\n",
       " ('pickup_datetime', 'timestamp'),\n",
       " ('pickup_latitude', 'float'),\n",
       " ('pickup_longitude', 'float'),\n",
       " ('rate_code', 'int'),\n",
       " ('store_and_fwd_flag', 'string'),\n",
       " ('trip_distance', 'float'),\n",
       " ('trip_time_in_secs', 'int'),\n",
       " ('vendor_id', 'string')]"
      ]
     },
     "execution_count": 24,
     "metadata": {},
     "output_type": "execute_result"
    }
   ],
   "source": [
    "taxi_df.dtypes # 每個欄位的型態"
   ]
  },
  {
   "cell_type": "code",
   "execution_count": 25,
   "metadata": {},
   "outputs": [
    {
     "name": "stdout",
     "output_type": "stream",
     "text": [
      "root\n",
      " |-- id: string (nullable = true)\n",
      " |-- rev: string (nullable = true)\n",
      " |-- dropoff_datetime: timestamp (nullable = true)\n",
      " |-- dropoff_latitude: float (nullable = true)\n",
      " |-- dropoff_longitude: float (nullable = true)\n",
      " |-- hack_license: string (nullable = true)\n",
      " |-- medallion: string (nullable = true)\n",
      " |-- passenger_count: integer (nullable = true)\n",
      " |-- pickup_datetime: timestamp (nullable = true)\n",
      " |-- pickup_latitude: float (nullable = true)\n",
      " |-- pickup_longitude: float (nullable = true)\n",
      " |-- rate_code: integer (nullable = true)\n",
      " |-- store_and_fwd_flag: string (nullable = true)\n",
      " |-- trip_distance: float (nullable = true)\n",
      " |-- trip_time_in_secs: integer (nullable = true)\n",
      " |-- vendor_id: string (nullable = true)\n",
      "\n"
     ]
    }
   ],
   "source": [
    "taxi_df.printSchema()"
   ]
  },
  {
   "cell_type": "code",
   "execution_count": 26,
   "metadata": {},
   "outputs": [
    {
     "name": "stdout",
     "output_type": "stream",
     "text": [
      "+---------+--------+\n",
      "|vendor_id|count(1)|\n",
      "+---------+--------+\n",
      "|      CMT|  114387|\n",
      "|      VTS|  135612|\n",
      "+---------+--------+\n",
      "\n"
     ]
    }
   ],
   "source": [
    "taxi_df.registerTempTable(\"taxi\") # 把 datafraem 註冊成暫時的 table 這樣就能用 SQL 語具\n",
    "sqlContext.sql(\"SELECT vendor_id, COUNT(*) FROM taxi GROUP BY vendor_id\").show()"
   ]
  },
  {
   "cell_type": "code",
   "execution_count": 27,
   "metadata": {},
   "outputs": [
    {
     "name": "stdout",
     "output_type": "stream",
     "text": [
      "+--------+\n",
      "|count(1)|\n",
      "+--------+\n",
      "|  135616|\n",
      "+--------+\n",
      "\n"
     ]
    }
   ],
   "source": [
    "sqlContext.sql(\"SELECT COUNT(*) FROM taxi WHERE store_and_fwd_flag =''\").show() # 注意欄位的大小寫"
   ]
  },
  {
   "cell_type": "code",
   "execution_count": 28,
   "metadata": {},
   "outputs": [
    {
     "name": "stdout",
     "output_type": "stream",
     "text": [
      "+--------+\n",
      "|count(1)|\n",
      "+--------+\n",
      "|  135612|\n",
      "+--------+\n",
      "\n"
     ]
    }
   ],
   "source": [
    "sqlContext.sql(\"SELECT COUNT(*) FROM taxi WHERE vendor_id = 'VTS' AND store_and_fwd_flag = ''\").show()"
   ]
  },
  {
   "cell_type": "code",
   "execution_count": 29,
   "metadata": {},
   "outputs": [
    {
     "data": {
      "text/plain": [
       "[('id', 'string'),\n",
       " ('rev', 'string'),\n",
       " ('dropoff_datetime', 'timestamp'),\n",
       " ('dropoff_lat', 'float'),\n",
       " ('dropoff_long', 'float'),\n",
       " ('hack_license', 'string'),\n",
       " ('medallion', 'string'),\n",
       " ('passenger_count', 'int'),\n",
       " ('pickup_datetime', 'timestamp'),\n",
       " ('pickup_lat', 'float'),\n",
       " ('pickup_long', 'float'),\n",
       " ('rate_code', 'int'),\n",
       " ('store_and_fwd_flag', 'string'),\n",
       " ('trip_distance', 'float'),\n",
       " ('trip_time_in_secs', 'int'),\n",
       " ('vendor_id', 'string')]"
      ]
     },
     "execution_count": 29,
     "metadata": {},
     "output_type": "execute_result"
    }
   ],
   "source": [
    "# 把欄位改名字\n",
    "taxi_df = taxi_df.withColumnRenamed('dropoff_longitude', 'dropoff_long')\\\n",
    "                 .withColumnRenamed('dropoff_latitude', 'dropoff_lat')\\\n",
    "                 .withColumnRenamed('pickup_latitude', 'pickup_lat')\\\n",
    "                 .withColumnRenamed('pickup_longitude', 'pickup_long')\n",
    "\n",
    "taxi_df.dtypes"
   ]
  },
  {
   "cell_type": "code",
   "execution_count": 30,
   "metadata": {},
   "outputs": [
    {
     "data": {
      "text/html": [
       "<div>\n",
       "<style scoped>\n",
       "    .dataframe tbody tr th:only-of-type {\n",
       "        vertical-align: middle;\n",
       "    }\n",
       "\n",
       "    .dataframe tbody tr th {\n",
       "        vertical-align: top;\n",
       "    }\n",
       "\n",
       "    .dataframe thead th {\n",
       "        text-align: right;\n",
       "    }\n",
       "</style>\n",
       "<table border=\"1\" class=\"dataframe\">\n",
       "  <thead>\n",
       "    <tr style=\"text-align: right;\">\n",
       "      <th></th>\n",
       "      <th>id</th>\n",
       "      <th>rev</th>\n",
       "      <th>dropoff_datetime</th>\n",
       "      <th>dropoff_lat</th>\n",
       "      <th>dropoff_long</th>\n",
       "      <th>hack_license</th>\n",
       "      <th>medallion</th>\n",
       "      <th>passenger_count</th>\n",
       "      <th>pickup_datetime</th>\n",
       "      <th>pickup_lat</th>\n",
       "      <th>pickup_long</th>\n",
       "      <th>rate_code</th>\n",
       "      <th>store_and_fwd_flag</th>\n",
       "      <th>trip_distance</th>\n",
       "      <th>trip_time_in_secs</th>\n",
       "      <th>vendor_id</th>\n",
       "    </tr>\n",
       "  </thead>\n",
       "  <tbody>\n",
       "    <tr>\n",
       "      <th>0</th>\n",
       "      <td>c635d7759ccce57b89417432052af020</td>\n",
       "      <td>1-87d72b8d964c0bc4804c9ef14ac1a72f</td>\n",
       "      <td>2013-02-11 17:06:02</td>\n",
       "      <td>40.748306</td>\n",
       "      <td>-73.988503</td>\n",
       "      <td>47E3BB27C9CD8B519C8B29E92F4386C6</td>\n",
       "      <td>E22AB8679FCC7FBCB81BE56FD5BB2C3C</td>\n",
       "      <td>1</td>\n",
       "      <td>2013-02-11 16:52:48</td>\n",
       "      <td>40.762234</td>\n",
       "      <td>-73.973122</td>\n",
       "      <td>1</td>\n",
       "      <td>N</td>\n",
       "      <td>1.8</td>\n",
       "      <td>793</td>\n",
       "      <td>CMT</td>\n",
       "    </tr>\n",
       "    <tr>\n",
       "      <th>1</th>\n",
       "      <td>c7a046238400159b6d2f7dbbce76a55a</td>\n",
       "      <td>1-251e553dd840296c5f4c89f7a24bdc67</td>\n",
       "      <td>2013-11-26 15:46:53</td>\n",
       "      <td>40.781536</td>\n",
       "      <td>-73.981041</td>\n",
       "      <td>DEB3CA92C327A5EEE5355FCC61DD0800</td>\n",
       "      <td>0AD9AEDF8965687A1B8AE575EDD96774</td>\n",
       "      <td>1</td>\n",
       "      <td>2013-11-26 15:26:55</td>\n",
       "      <td>40.763351</td>\n",
       "      <td>-73.970451</td>\n",
       "      <td>1</td>\n",
       "      <td>N</td>\n",
       "      <td>2.8</td>\n",
       "      <td>1198</td>\n",
       "      <td>CMT</td>\n",
       "    </tr>\n",
       "    <tr>\n",
       "      <th>2</th>\n",
       "      <td>cf56894cd0bedc202dbdd97351b8f4cc</td>\n",
       "      <td>1-f58fda287b6413bd4aed319125ade266</td>\n",
       "      <td>2013-11-26 08:28:07</td>\n",
       "      <td>40.748169</td>\n",
       "      <td>-74.003952</td>\n",
       "      <td>ABA6223933ED3C6761DBA50C8834D86C</td>\n",
       "      <td>35F0522181AE560EC9817B4B12B60EEE</td>\n",
       "      <td>2</td>\n",
       "      <td>2013-11-26 08:15:06</td>\n",
       "      <td>40.729084</td>\n",
       "      <td>-73.993782</td>\n",
       "      <td>1</td>\n",
       "      <td>N</td>\n",
       "      <td>2.1</td>\n",
       "      <td>781</td>\n",
       "      <td>CMT</td>\n",
       "    </tr>\n",
       "    <tr>\n",
       "      <th>3</th>\n",
       "      <td>5b6168e8c48445dba0b4c09500d8b8a0</td>\n",
       "      <td>1-f61c3e2b6419b12c7e14f36c743bac3f</td>\n",
       "      <td>2013-01-11 11:21:36</td>\n",
       "      <td>40.757236</td>\n",
       "      <td>-73.975632</td>\n",
       "      <td>9F129AB93B1551856B390F284853FE87</td>\n",
       "      <td>BCDEAD3783CF34DA6D85762CECDA81FE</td>\n",
       "      <td>1</td>\n",
       "      <td>2013-01-11 11:08:07</td>\n",
       "      <td>40.732456</td>\n",
       "      <td>-73.981644</td>\n",
       "      <td>1</td>\n",
       "      <td>N</td>\n",
       "      <td>2.1</td>\n",
       "      <td>809</td>\n",
       "      <td>CMT</td>\n",
       "    </tr>\n",
       "    <tr>\n",
       "      <th>4</th>\n",
       "      <td>f0a7675beb17a8b2400ce09028b680d4</td>\n",
       "      <td>1-a35999d5e34a702a09ab313a3db70886</td>\n",
       "      <td>2013-11-26 12:35:42</td>\n",
       "      <td>40.767132</td>\n",
       "      <td>-73.989899</td>\n",
       "      <td>8F327F7849789A57F0DEE7256B045D4F</td>\n",
       "      <td>429AD5759D9F317802F3A6C5F138E7B9</td>\n",
       "      <td>1</td>\n",
       "      <td>2013-11-26 12:22:48</td>\n",
       "      <td>40.763004</td>\n",
       "      <td>-73.973801</td>\n",
       "      <td>1</td>\n",
       "      <td>N</td>\n",
       "      <td>1.0</td>\n",
       "      <td>774</td>\n",
       "      <td>CMT</td>\n",
       "    </tr>\n",
       "  </tbody>\n",
       "</table>\n",
       "</div>"
      ],
      "text/plain": [
       "                                 id                                 rev  \\\n",
       "0  c635d7759ccce57b89417432052af020  1-87d72b8d964c0bc4804c9ef14ac1a72f   \n",
       "1  c7a046238400159b6d2f7dbbce76a55a  1-251e553dd840296c5f4c89f7a24bdc67   \n",
       "2  cf56894cd0bedc202dbdd97351b8f4cc  1-f58fda287b6413bd4aed319125ade266   \n",
       "3  5b6168e8c48445dba0b4c09500d8b8a0  1-f61c3e2b6419b12c7e14f36c743bac3f   \n",
       "4  f0a7675beb17a8b2400ce09028b680d4  1-a35999d5e34a702a09ab313a3db70886   \n",
       "\n",
       "     dropoff_datetime  dropoff_lat  dropoff_long  \\\n",
       "0 2013-02-11 17:06:02    40.748306    -73.988503   \n",
       "1 2013-11-26 15:46:53    40.781536    -73.981041   \n",
       "2 2013-11-26 08:28:07    40.748169    -74.003952   \n",
       "3 2013-01-11 11:21:36    40.757236    -73.975632   \n",
       "4 2013-11-26 12:35:42    40.767132    -73.989899   \n",
       "\n",
       "                       hack_license                         medallion  \\\n",
       "0  47E3BB27C9CD8B519C8B29E92F4386C6  E22AB8679FCC7FBCB81BE56FD5BB2C3C   \n",
       "1  DEB3CA92C327A5EEE5355FCC61DD0800  0AD9AEDF8965687A1B8AE575EDD96774   \n",
       "2  ABA6223933ED3C6761DBA50C8834D86C  35F0522181AE560EC9817B4B12B60EEE   \n",
       "3  9F129AB93B1551856B390F284853FE87  BCDEAD3783CF34DA6D85762CECDA81FE   \n",
       "4  8F327F7849789A57F0DEE7256B045D4F  429AD5759D9F317802F3A6C5F138E7B9   \n",
       "\n",
       "   passenger_count     pickup_datetime  pickup_lat  pickup_long  rate_code  \\\n",
       "0                1 2013-02-11 16:52:48   40.762234   -73.973122          1   \n",
       "1                1 2013-11-26 15:26:55   40.763351   -73.970451          1   \n",
       "2                2 2013-11-26 08:15:06   40.729084   -73.993782          1   \n",
       "3                1 2013-01-11 11:08:07   40.732456   -73.981644          1   \n",
       "4                1 2013-11-26 12:22:48   40.763004   -73.973801          1   \n",
       "\n",
       "  store_and_fwd_flag  trip_distance  trip_time_in_secs vendor_id  \n",
       "0                  N            1.8                793       CMT  \n",
       "1                  N            2.8               1198       CMT  \n",
       "2                  N            2.1                781       CMT  \n",
       "3                  N            2.1                809       CMT  \n",
       "4                  N            1.0                774       CMT  "
      ]
     },
     "execution_count": 30,
     "metadata": {},
     "output_type": "execute_result"
    }
   ],
   "source": [
    "import pandas as pd\n",
    "\n",
    "# 把 spark dataframe 選出一部分並轉成 pandas dataframe\n",
    "taxi_CMT = taxi_df.filter(\"vendor_id = 'CMT' and store_and_fwd_flag != ''\").toPandas()\n",
    "taxi_CMT.head()"
   ]
  },
  {
   "cell_type": "code",
   "execution_count": 31,
   "metadata": {},
   "outputs": [
    {
     "data": {
      "text/plain": [
       "pandas.core.frame.DataFrame"
      ]
     },
     "execution_count": 31,
     "metadata": {},
     "output_type": "execute_result"
    }
   ],
   "source": [
    "type(taxi_CMT)"
   ]
  },
  {
   "cell_type": "code",
   "execution_count": null,
   "metadata": {},
   "outputs": [],
   "source": []
  }
 ],
 "metadata": {
  "kernelspec": {
   "display_name": "Python 3",
   "language": "python",
   "name": "python3"
  },
  "language_info": {
   "codemirror_mode": {
    "name": "ipython",
    "version": 3
   },
   "file_extension": ".py",
   "mimetype": "text/x-python",
   "name": "python",
   "nbconvert_exporter": "python",
   "pygments_lexer": "ipython3",
   "version": "3.6.9"
  }
 },
 "nbformat": 4,
 "nbformat_minor": 2
}
