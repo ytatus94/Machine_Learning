{
  "nbformat": 4,
  "nbformat_minor": 0,
  "metadata": {
    "colab": {
      "name": "PySpark_DataFrame_Tutorial_Introduction_to_DataFrames.ipynb",
      "version": "0.3.2",
      "provenance": [],
      "collapsed_sections": []
    },
    "kernelspec": {
      "name": "python3",
      "display_name": "Python 3"
    }
  },
  "cells": [
    {
      "cell_type": "markdown",
      "metadata": {
        "id": "Bfzr8uRlxXgs",
        "colab_type": "text"
      },
      "source": [
        "# PySpark DataFrame Tutorial Introduction to DataFrames"
      ]
    },
    {
      "cell_type": "markdown",
      "metadata": {
        "id": "6mAlB3-qxXVS",
        "colab_type": "text"
      },
      "source": [
        "### Source\n",
        "https://www.edureka.co/blog/pyspark-dataframe-tutorial/#why"
      ]
    },
    {
      "cell_type": "code",
      "metadata": {
        "id": "PPOOJmV9xyn9",
        "colab_type": "code",
        "colab": {
          "base_uri": "https://localhost:8080/",
          "height": 336
        },
        "outputId": "67498a6c-3ed3-4177-ec08-95718627fd5d"
      },
      "source": [
        "!pip install pyspark"
      ],
      "execution_count": 3,
      "outputs": [
        {
          "output_type": "stream",
          "text": [
            "Collecting pyspark\n",
            "\u001b[?25l  Downloading https://files.pythonhosted.org/packages/37/98/244399c0daa7894cdf387e7007d5e8b3710a79b67f3fd991c0b0b644822d/pyspark-2.4.3.tar.gz (215.6MB)\n",
            "\u001b[K     |████████████████████████████████| 215.6MB 115kB/s \n",
            "\u001b[?25hCollecting py4j==0.10.7 (from pyspark)\n",
            "\u001b[?25l  Downloading https://files.pythonhosted.org/packages/e3/53/c737818eb9a7dc32a7cd4f1396e787bd94200c3997c72c1dbe028587bd76/py4j-0.10.7-py2.py3-none-any.whl (197kB)\n",
            "\u001b[K     |████████████████████████████████| 204kB 37.7MB/s \n",
            "\u001b[?25hBuilding wheels for collected packages: pyspark\n",
            "  Building wheel for pyspark (setup.py) ... \u001b[?25l\u001b[?25hdone\n",
            "  Created wheel for pyspark: filename=pyspark-2.4.3-py2.py3-none-any.whl size=215964963 sha256=3904df0a1a143c449c7066e86f2433a18c22d98cd31e711d18b991fd7713e235\n",
            "  Stored in directory: /root/.cache/pip/wheels/8d/20/f0/b30e2024226dc112e256930dd2cd4f06d00ab053c86278dcf3\n",
            "Successfully built pyspark\n",
            "Installing collected packages: py4j, pyspark\n",
            "Successfully installed py4j-0.10.7 pyspark-2.4.3\n"
          ],
          "name": "stdout"
        }
      ]
    },
    {
      "cell_type": "code",
      "metadata": {
        "id": "ZfPKhZ1dxVkh",
        "colab_type": "code",
        "colab": {}
      },
      "source": [
        "from IPython.display import display\n",
        "from pyspark.sql import *\n",
        "spark = SparkSession.builder.appName('test').getOrCreate()"
      ],
      "execution_count": 0,
      "outputs": []
    },
    {
      "cell_type": "markdown",
      "metadata": {
        "id": "CoHRZQW2yPzi",
        "colab_type": "text"
      },
      "source": [
        "### Create Employee and Department"
      ]
    },
    {
      "cell_type": "code",
      "metadata": {
        "id": "J7mVinf0xtZg",
        "colab_type": "code",
        "colab": {}
      },
      "source": [
        "Employee = Row('firstName', 'lastName', 'email', 'salary')\n",
        "\n",
        "employee1 = Employee('Basher', 'armbrust', 'bash@edureka.co', 10000)\n",
        "employee2 = Employee('Daniel', 'meng', 'daniel@standford.edu', 12000)\n",
        "employee3 = Employee('Muriel', None, 'muriel@waterloo.edu', 14000)\n",
        "employee4 = Employee('Rachel', 'wendell', 'rach_3@edureka.co', 16000)\n",
        "employee5 = Employee('Zach', 'galifianakis', 'zach_g@edureka.co', 16000)"
      ],
      "execution_count": 0,
      "outputs": []
    },
    {
      "cell_type": "code",
      "metadata": {
        "id": "hUF3fK1NyS2h",
        "colab_type": "code",
        "colab": {
          "base_uri": "https://localhost:8080/",
          "height": 34
        },
        "outputId": "168cec37-b36b-4f7e-bacf-d4a740d17846"
      },
      "source": [
        "Employee[0]"
      ],
      "execution_count": 6,
      "outputs": [
        {
          "output_type": "execute_result",
          "data": {
            "text/plain": [
              "'firstName'"
            ]
          },
          "metadata": {
            "tags": []
          },
          "execution_count": 6
        }
      ]
    },
    {
      "cell_type": "code",
      "metadata": {
        "id": "J-WafzPPyUhR",
        "colab_type": "code",
        "colab": {
          "base_uri": "https://localhost:8080/",
          "height": 34
        },
        "outputId": "915af3cf-d55b-4c13-d978-59ab43b62b04"
      },
      "source": [
        "employee3"
      ],
      "execution_count": 7,
      "outputs": [
        {
          "output_type": "execute_result",
          "data": {
            "text/plain": [
              "Row(firstName='Muriel', lastName=None, email='muriel@waterloo.edu', salary=14000)"
            ]
          },
          "metadata": {
            "tags": []
          },
          "execution_count": 7
        }
      ]
    },
    {
      "cell_type": "code",
      "metadata": {
        "id": "PzEDj7WsyV8P",
        "colab_type": "code",
        "colab": {}
      },
      "source": [
        "department1 = Row(id='123456', name='HR')\n",
        "department2 = Row(id='789012', name='OPS')\n",
        "department3 = Row(id='345678', name='FN')\n",
        "department4 = Row(id='901234', name='DEV')"
      ],
      "execution_count": 0,
      "outputs": []
    },
    {
      "cell_type": "code",
      "metadata": {
        "id": "rGX96X78yZzz",
        "colab_type": "code",
        "colab": {}
      },
      "source": [
        "departmentWithEmployees1 = Row(department=department1, employees=[employee1, employee2, employee5])\n",
        "departmentWithEmployees2 = Row(department=department2, employees=[employee3, employee4])\n",
        "departmentWithEmployees3 = Row(department=department3, employees=[employee1, employee4, employee3])\n",
        "departmentWithEmployees4 = Row(department=department4, employees=[employee2, employee3])"
      ],
      "execution_count": 0,
      "outputs": []
    },
    {
      "cell_type": "code",
      "metadata": {
        "id": "0jaJIC_jyaQ4",
        "colab_type": "code",
        "colab": {
          "base_uri": "https://localhost:8080/",
          "height": 153
        },
        "outputId": "ecf81a0a-2010-4c6b-9a0e-3a487a9912d5"
      },
      "source": [
        "departmentWithEmployees_Seq = [departmentWithEmployees1, departmentWithEmployees2]\n",
        "df = spark.createDataFrame(departmentWithEmployees_Seq)\n",
        "display(df)\n",
        "df.show()"
      ],
      "execution_count": 10,
      "outputs": [
        {
          "output_type": "display_data",
          "data": {
            "text/plain": [
              "DataFrame[department: struct<id:string,name:string>, employees: array<struct<firstName:string,lastName:string,email:string,salary:bigint>>]"
            ]
          },
          "metadata": {
            "tags": []
          }
        },
        {
          "output_type": "stream",
          "text": [
            "+-------------+--------------------+\n",
            "|   department|           employees|\n",
            "+-------------+--------------------+\n",
            "| [123456, HR]|[[Basher, armbrus...|\n",
            "|[789012, OPS]|[[Muriel,, muriel...|\n",
            "+-------------+--------------------+\n",
            "\n"
          ],
          "name": "stdout"
        }
      ]
    },
    {
      "cell_type": "markdown",
      "metadata": {
        "id": "Yl_0MU0Myhw4",
        "colab_type": "text"
      },
      "source": [
        "### Pyspark Dataframes Example1: FIFA World Cup Dataset"
      ]
    },
    {
      "cell_type": "code",
      "metadata": {
        "id": "kxVm8PZ0ydjR",
        "colab_type": "code",
        "colab": {}
      },
      "source": [
        "df_fifa = spark.read.csv('fifa_players.csv', inferSchema=True, header=True)\n",
        "df_fifa.show()"
      ],
      "execution_count": 0,
      "outputs": []
    },
    {
      "cell_type": "code",
      "metadata": {
        "id": "WV4tviPqymdN",
        "colab_type": "code",
        "colab": {}
      },
      "source": [
        "# Schema\n",
        "df_fifa.printSchema()"
      ],
      "execution_count": 0,
      "outputs": []
    },
    {
      "cell_type": "code",
      "metadata": {
        "id": "2IOtWLYjyr4A",
        "colab_type": "code",
        "colab": {}
      },
      "source": [
        "df_fifa.columns # column names\n",
        "df_fifa.count() # row count\n",
        "len(df_fifa.columns) # column count"
      ],
      "execution_count": 0,
      "outputs": []
    },
    {
      "cell_type": "code",
      "metadata": {
        "id": "Xc5bshqqy14y",
        "colab_type": "code",
        "colab": {}
      },
      "source": [
        "# Statistics\n",
        "df_fifa.describe('Coach Name').show()\n",
        "df_fifa.describe('Position').show()"
      ],
      "execution_count": 0,
      "outputs": []
    },
    {
      "cell_type": "code",
      "metadata": {
        "id": "zYOAgvrpy3rr",
        "colab_type": "code",
        "colab": {}
      },
      "source": [
        "# Select\n",
        "df_fifa.select('Player Name', 'Coach Name').show()\n",
        "df_fifa.select('Player Name', 'Coach Name').distinct().show() # select distinct multiple columns"
      ],
      "execution_count": 0,
      "outputs": []
    },
    {
      "cell_type": "code",
      "metadata": {
        "id": "pMh224Vcy5qo",
        "colab_type": "code",
        "colab": {}
      },
      "source": [
        "# Filter\n",
        "df_fifa.filter(df_fifa.MatchID=='1096').show()\n",
        "df_fifa.filter(df_fifa.MatchID=='1096').count()\n",
        "df_fifa.filter((df_fifa.Position=='C') & (df_fifa.Event=='G40')).show()"
      ],
      "execution_count": 0,
      "outputs": []
    },
    {
      "cell_type": "code",
      "metadata": {
        "id": "mV8bdC_9y7d6",
        "colab_type": "code",
        "colab": {}
      },
      "source": [
        "# Sort\n",
        "df_fifa.orderBy(df_fifa.MatchID).show()"
      ],
      "execution_count": 0,
      "outputs": []
    },
    {
      "cell_type": "markdown",
      "metadata": {
        "id": "85QG-PYYy-jN",
        "colab_type": "text"
      },
      "source": [
        "### Pyspark Dataframes Example2: Superheros Dataset"
      ]
    },
    {
      "cell_type": "code",
      "metadata": {
        "id": "Oy9ziJERy8uX",
        "colab_type": "code",
        "colab": {}
      },
      "source": [
        "df_superhero = spark.read.csv('superhero.csv', inferSchema=True, header=True)\n",
        "df_superhero.show()"
      ],
      "execution_count": 0,
      "outputs": []
    },
    {
      "cell_type": "code",
      "metadata": {
        "id": "3kGs7NW3zBp6",
        "colab_type": "code",
        "colab": {}
      },
      "source": [
        "# Filter\n",
        "df_superhero.filter(df_superhero.Gender=='Male').count()\n",
        "df_superhero.filter(df_superhero.Gender=='Female').count()"
      ],
      "execution_count": 0,
      "outputs": []
    },
    {
      "cell_type": "code",
      "metadata": {
        "id": "ETSbiksCzDFp",
        "colab_type": "code",
        "colab": {}
      },
      "source": [
        "# Grouping\n",
        "df_race = df_superhero.groupby('Race').count().show()"
      ],
      "execution_count": 0,
      "outputs": []
    },
    {
      "cell_type": "code",
      "metadata": {
        "id": "lqbHwxBYzEqk",
        "colab_type": "code",
        "colab": {}
      },
      "source": [
        "# SQL queries\n",
        "# Need to create a table from dataframe using the registerTempTable\n",
        "# Use sqlContext.sql() to pass SQL queries\n",
        "df_superhero.registerTempTable('superhero_table')\n",
        "sqlContext.sql('SELECT * FROM superhero_table').show()\n",
        "sqlContext.sql('SELECT DISTINCT(Eye_color) FROM superhero_table').show()\n",
        "sqlContext.sql('SELECT DISTINCT(Eye_color) FROM superhero_table').count()\n",
        "sqlContext.sql('SELECT MAX(Weight) FROM superhero_table').show()"
      ],
      "execution_count": 0,
      "outputs": []
    },
    {
      "cell_type": "code",
      "metadata": {
        "id": "brZz0FOfzGHs",
        "colab_type": "code",
        "colab": {}
      },
      "source": [
        ""
      ],
      "execution_count": 0,
      "outputs": []
    }
  ]
}