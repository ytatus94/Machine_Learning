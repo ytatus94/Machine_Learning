{
 "cells": [
  {
   "cell_type": "markdown",
   "metadata": {},
   "source": [
    "# Yu-Ting Shen\n",
    "\n",
    "# RiskGenius Challenge Project"
   ]
  },
  {
   "cell_type": "code",
   "execution_count": 147,
   "metadata": {},
   "outputs": [],
   "source": [
    "import pandas as pd\n",
    "\n",
    "df_insurance_terms = pd.read_csv('terms.csv')\n",
    "df_insurance_terms = df_insurance_terms[['term', 'text']]"
   ]
  },
  {
   "cell_type": "code",
   "execution_count": 148,
   "metadata": {},
   "outputs": [
    {
     "data": {
      "text/html": [
       "<div>\n",
       "<style scoped>\n",
       "    .dataframe tbody tr th:only-of-type {\n",
       "        vertical-align: middle;\n",
       "    }\n",
       "\n",
       "    .dataframe tbody tr th {\n",
       "        vertical-align: top;\n",
       "    }\n",
       "\n",
       "    .dataframe thead th {\n",
       "        text-align: right;\n",
       "    }\n",
       "</style>\n",
       "<table border=\"1\" class=\"dataframe\">\n",
       "  <thead>\n",
       "    <tr style=\"text-align: right;\">\n",
       "      <th></th>\n",
       "      <th>term</th>\n",
       "      <th>text</th>\n",
       "    </tr>\n",
       "  </thead>\n",
       "  <tbody>\n",
       "    <tr>\n",
       "      <th>0</th>\n",
       "      <td>automatic premium loan</td>\n",
       "      <td>An optional provision in life insurance that a...</td>\n",
       "    </tr>\n",
       "    <tr>\n",
       "      <th>1</th>\n",
       "      <td>Household Goods Transportation Act of 1980</td>\n",
       "      <td>Provided a nonjudicial dispute settlement prog...</td>\n",
       "    </tr>\n",
       "    <tr>\n",
       "      <th>2</th>\n",
       "      <td>hydrocarbons</td>\n",
       "      <td>A class of organic compounds composed only of ...</td>\n",
       "    </tr>\n",
       "    <tr>\n",
       "      <th>3</th>\n",
       "      <td>hydraulic fracturing (fracking)</td>\n",
       "      <td>A process in which fractures in hard-to-reach ...</td>\n",
       "    </tr>\n",
       "    <tr>\n",
       "      <th>4</th>\n",
       "      <td>hybrid plans</td>\n",
       "      <td>Risk financing techniques that are a combinati...</td>\n",
       "    </tr>\n",
       "  </tbody>\n",
       "</table>\n",
       "</div>"
      ],
      "text/plain": [
       "                                         term  \\\n",
       "0                      automatic premium loan   \n",
       "1  Household Goods Transportation Act of 1980   \n",
       "2                                hydrocarbons   \n",
       "3             hydraulic fracturing (fracking)   \n",
       "4                                hybrid plans   \n",
       "\n",
       "                                                text  \n",
       "0  An optional provision in life insurance that a...  \n",
       "1  Provided a nonjudicial dispute settlement prog...  \n",
       "2  A class of organic compounds composed only of ...  \n",
       "3  A process in which fractures in hard-to-reach ...  \n",
       "4  Risk financing techniques that are a combinati...  "
      ]
     },
     "execution_count": 148,
     "metadata": {},
     "output_type": "execute_result"
    }
   ],
   "source": [
    "df_insurance_terms.head()"
   ]
  },
  {
   "cell_type": "code",
   "execution_count": 149,
   "metadata": {},
   "outputs": [
    {
     "name": "stdout",
     "output_type": "stream",
     "text": [
      "<class 'pandas.core.frame.DataFrame'>\n",
      "RangeIndex: 3261 entries, 0 to 3260\n",
      "Data columns (total 2 columns):\n",
      "term    3261 non-null object\n",
      "text    3261 non-null object\n",
      "dtypes: object(2)\n",
      "memory usage: 51.0+ KB\n"
     ]
    }
   ],
   "source": [
    "df_insurance_terms.info()"
   ]
  },
  {
   "cell_type": "markdown",
   "metadata": {},
   "source": [
    "Define a function to lower case, tokenize words, remove stop words and punctuations"
   ]
  },
  {
   "cell_type": "code",
   "execution_count": 150,
   "metadata": {},
   "outputs": [],
   "source": [
    "from nltk import word_tokenize\n",
    "from nltk.corpus import stopwords\n",
    "stop_words = stopwords.words('english')\n",
    "\n",
    "def normalize_string(string):\n",
    "    # Set to lower case\n",
    "    string = string.lower()\n",
    "    \n",
    "    # Remove hyphen\n",
    "    # Some words contain a hyphen\n",
    "    string = string.replace('-', ' ')\n",
    "    \n",
    "    # Tokenization\n",
    "    tokenized_words = word_tokenize(string)\n",
    "    \n",
    "    # Remove stopwords\n",
    "    stopwords_removed = [word for word in tokenized_words if word not in stop_words]\n",
    "    \n",
    "    # Remove punctuations\n",
    "#     alphabet_string = [word for word in stopwords_removed if word.isalpha()]\n",
    "    alphabet_string = [word for word in stopwords_removed if word.isalnum()]\n",
    "    \n",
    "    # Return joined strings\n",
    "    return ' '.join(alphabet_string)"
   ]
  },
  {
   "cell_type": "code",
   "execution_count": 151,
   "metadata": {},
   "outputs": [],
   "source": [
    "df_insurance_terms.loc[:, 'new_term'] = df_insurance_terms.apply(lambda row: normalize_string(row['term']), axis=1)\n",
    "df_insurance_terms.loc[:, 'new_text'] = df_insurance_terms.apply(lambda row: normalize_string(row['text']), axis=1)"
   ]
  },
  {
   "cell_type": "code",
   "execution_count": 152,
   "metadata": {},
   "outputs": [
    {
     "data": {
      "text/html": [
       "<div>\n",
       "<style scoped>\n",
       "    .dataframe tbody tr th:only-of-type {\n",
       "        vertical-align: middle;\n",
       "    }\n",
       "\n",
       "    .dataframe tbody tr th {\n",
       "        vertical-align: top;\n",
       "    }\n",
       "\n",
       "    .dataframe thead th {\n",
       "        text-align: right;\n",
       "    }\n",
       "</style>\n",
       "<table border=\"1\" class=\"dataframe\">\n",
       "  <thead>\n",
       "    <tr style=\"text-align: right;\">\n",
       "      <th></th>\n",
       "      <th>term</th>\n",
       "      <th>text</th>\n",
       "      <th>new_term</th>\n",
       "      <th>new_text</th>\n",
       "    </tr>\n",
       "  </thead>\n",
       "  <tbody>\n",
       "    <tr>\n",
       "      <th>0</th>\n",
       "      <td>automatic premium loan</td>\n",
       "      <td>An optional provision in life insurance that a...</td>\n",
       "      <td>automatic premium loan</td>\n",
       "      <td>optional provision life insurance authorizes i...</td>\n",
       "    </tr>\n",
       "    <tr>\n",
       "      <th>1</th>\n",
       "      <td>Household Goods Transportation Act of 1980</td>\n",
       "      <td>Provided a nonjudicial dispute settlement prog...</td>\n",
       "      <td>household goods transportation act 1980</td>\n",
       "      <td>provided nonjudicial dispute settlement progra...</td>\n",
       "    </tr>\n",
       "    <tr>\n",
       "      <th>2</th>\n",
       "      <td>hydrocarbons</td>\n",
       "      <td>A class of organic compounds composed only of ...</td>\n",
       "      <td>hydrocarbons</td>\n",
       "      <td>class organic compounds composed carbon hydrog...</td>\n",
       "    </tr>\n",
       "    <tr>\n",
       "      <th>3</th>\n",
       "      <td>hydraulic fracturing (fracking)</td>\n",
       "      <td>A process in which fractures in hard-to-reach ...</td>\n",
       "      <td>hydraulic fracturing fracking</td>\n",
       "      <td>process fractures hard reach shale rock format...</td>\n",
       "    </tr>\n",
       "    <tr>\n",
       "      <th>4</th>\n",
       "      <td>hybrid plans</td>\n",
       "      <td>Risk financing techniques that are a combinati...</td>\n",
       "      <td>hybrid plans</td>\n",
       "      <td>risk financing techniques combination retentio...</td>\n",
       "    </tr>\n",
       "  </tbody>\n",
       "</table>\n",
       "</div>"
      ],
      "text/plain": [
       "                                         term  \\\n",
       "0                      automatic premium loan   \n",
       "1  Household Goods Transportation Act of 1980   \n",
       "2                                hydrocarbons   \n",
       "3             hydraulic fracturing (fracking)   \n",
       "4                                hybrid plans   \n",
       "\n",
       "                                                text  \\\n",
       "0  An optional provision in life insurance that a...   \n",
       "1  Provided a nonjudicial dispute settlement prog...   \n",
       "2  A class of organic compounds composed only of ...   \n",
       "3  A process in which fractures in hard-to-reach ...   \n",
       "4  Risk financing techniques that are a combinati...   \n",
       "\n",
       "                                  new_term  \\\n",
       "0                   automatic premium loan   \n",
       "1  household goods transportation act 1980   \n",
       "2                             hydrocarbons   \n",
       "3            hydraulic fracturing fracking   \n",
       "4                             hybrid plans   \n",
       "\n",
       "                                            new_text  \n",
       "0  optional provision life insurance authorizes i...  \n",
       "1  provided nonjudicial dispute settlement progra...  \n",
       "2  class organic compounds composed carbon hydrog...  \n",
       "3  process fractures hard reach shale rock format...  \n",
       "4  risk financing techniques combination retentio...  "
      ]
     },
     "execution_count": 152,
     "metadata": {},
     "output_type": "execute_result"
    }
   ],
   "source": [
    "df_insurance_terms.head()"
   ]
  },
  {
   "cell_type": "code",
   "execution_count": 153,
   "metadata": {},
   "outputs": [
    {
     "name": "stdout",
     "output_type": "stream",
     "text": [
      "<class 'pandas.core.frame.DataFrame'>\n",
      "RangeIndex: 3261 entries, 0 to 3260\n",
      "Data columns (total 4 columns):\n",
      "term        3261 non-null object\n",
      "text        3261 non-null object\n",
      "new_term    3261 non-null object\n",
      "new_text    3261 non-null object\n",
      "dtypes: object(4)\n",
      "memory usage: 102.0+ KB\n"
     ]
    }
   ],
   "source": [
    "df_insurance_terms.info()"
   ]
  },
  {
   "cell_type": "markdown",
   "metadata": {},
   "source": [
    "Categorize group into 26 groups by the first character of term"
   ]
  },
  {
   "cell_type": "code",
   "execution_count": 154,
   "metadata": {},
   "outputs": [],
   "source": [
    "df_insurance_terms['alphabet_group'] = df_insurance_terms['new_term'].str[0]"
   ]
  },
  {
   "cell_type": "code",
   "execution_count": 155,
   "metadata": {},
   "outputs": [
    {
     "data": {
      "text/html": [
       "<div>\n",
       "<style scoped>\n",
       "    .dataframe tbody tr th:only-of-type {\n",
       "        vertical-align: middle;\n",
       "    }\n",
       "\n",
       "    .dataframe tbody tr th {\n",
       "        vertical-align: top;\n",
       "    }\n",
       "\n",
       "    .dataframe thead th {\n",
       "        text-align: right;\n",
       "    }\n",
       "</style>\n",
       "<table border=\"1\" class=\"dataframe\">\n",
       "  <thead>\n",
       "    <tr style=\"text-align: right;\">\n",
       "      <th></th>\n",
       "      <th>term</th>\n",
       "      <th>text</th>\n",
       "      <th>new_term</th>\n",
       "      <th>new_text</th>\n",
       "      <th>alphabet_group</th>\n",
       "    </tr>\n",
       "  </thead>\n",
       "  <tbody>\n",
       "    <tr>\n",
       "      <th>0</th>\n",
       "      <td>automatic premium loan</td>\n",
       "      <td>An optional provision in life insurance that a...</td>\n",
       "      <td>automatic premium loan</td>\n",
       "      <td>optional provision life insurance authorizes i...</td>\n",
       "      <td>a</td>\n",
       "    </tr>\n",
       "    <tr>\n",
       "      <th>1</th>\n",
       "      <td>Household Goods Transportation Act of 1980</td>\n",
       "      <td>Provided a nonjudicial dispute settlement prog...</td>\n",
       "      <td>household goods transportation act 1980</td>\n",
       "      <td>provided nonjudicial dispute settlement progra...</td>\n",
       "      <td>h</td>\n",
       "    </tr>\n",
       "    <tr>\n",
       "      <th>2</th>\n",
       "      <td>hydrocarbons</td>\n",
       "      <td>A class of organic compounds composed only of ...</td>\n",
       "      <td>hydrocarbons</td>\n",
       "      <td>class organic compounds composed carbon hydrog...</td>\n",
       "      <td>h</td>\n",
       "    </tr>\n",
       "    <tr>\n",
       "      <th>3</th>\n",
       "      <td>hydraulic fracturing (fracking)</td>\n",
       "      <td>A process in which fractures in hard-to-reach ...</td>\n",
       "      <td>hydraulic fracturing fracking</td>\n",
       "      <td>process fractures hard reach shale rock format...</td>\n",
       "      <td>h</td>\n",
       "    </tr>\n",
       "    <tr>\n",
       "      <th>4</th>\n",
       "      <td>hybrid plans</td>\n",
       "      <td>Risk financing techniques that are a combinati...</td>\n",
       "      <td>hybrid plans</td>\n",
       "      <td>risk financing techniques combination retentio...</td>\n",
       "      <td>h</td>\n",
       "    </tr>\n",
       "  </tbody>\n",
       "</table>\n",
       "</div>"
      ],
      "text/plain": [
       "                                         term  \\\n",
       "0                      automatic premium loan   \n",
       "1  Household Goods Transportation Act of 1980   \n",
       "2                                hydrocarbons   \n",
       "3             hydraulic fracturing (fracking)   \n",
       "4                                hybrid plans   \n",
       "\n",
       "                                                text  \\\n",
       "0  An optional provision in life insurance that a...   \n",
       "1  Provided a nonjudicial dispute settlement prog...   \n",
       "2  A class of organic compounds composed only of ...   \n",
       "3  A process in which fractures in hard-to-reach ...   \n",
       "4  Risk financing techniques that are a combinati...   \n",
       "\n",
       "                                  new_term  \\\n",
       "0                   automatic premium loan   \n",
       "1  household goods transportation act 1980   \n",
       "2                             hydrocarbons   \n",
       "3            hydraulic fracturing fracking   \n",
       "4                             hybrid plans   \n",
       "\n",
       "                                            new_text alphabet_group  \n",
       "0  optional provision life insurance authorizes i...              a  \n",
       "1  provided nonjudicial dispute settlement progra...              h  \n",
       "2  class organic compounds composed carbon hydrog...              h  \n",
       "3  process fractures hard reach shale rock format...              h  \n",
       "4  risk financing techniques combination retentio...              h  "
      ]
     },
     "execution_count": 155,
     "metadata": {},
     "output_type": "execute_result"
    }
   ],
   "source": [
    "df_insurance_terms.head()"
   ]
  },
  {
   "cell_type": "code",
   "execution_count": 156,
   "metadata": {},
   "outputs": [
    {
     "name": "stdout",
     "output_type": "stream",
     "text": [
      "<class 'pandas.core.frame.DataFrame'>\n",
      "RangeIndex: 3261 entries, 0 to 3260\n",
      "Data columns (total 5 columns):\n",
      "term              3261 non-null object\n",
      "text              3261 non-null object\n",
      "new_term          3261 non-null object\n",
      "new_text          3261 non-null object\n",
      "alphabet_group    3261 non-null object\n",
      "dtypes: object(5)\n",
      "memory usage: 127.5+ KB\n"
     ]
    }
   ],
   "source": [
    "df_insurance_terms.info()"
   ]
  },
  {
   "cell_type": "code",
   "execution_count": 157,
   "metadata": {},
   "outputs": [],
   "source": [
    "abc = [i for i in 'abcdefghijklmnopqrstuvwxyz']\n",
    "num = [i for i in range(1, 27)]\n",
    "abc_to_num = dict(zip(abc, num))\n",
    "# print(abc_to_num)\n",
    "\n",
    "df_insurance_terms['group'] = df_insurance_terms['alphabet_group'].map(abc_to_num)"
   ]
  },
  {
   "cell_type": "code",
   "execution_count": 158,
   "metadata": {},
   "outputs": [
    {
     "name": "stdout",
     "output_type": "stream",
     "text": [
      "<class 'pandas.core.frame.DataFrame'>\n",
      "RangeIndex: 3261 entries, 0 to 3260\n",
      "Data columns (total 6 columns):\n",
      "term              3261 non-null object\n",
      "text              3261 non-null object\n",
      "new_term          3261 non-null object\n",
      "new_text          3261 non-null object\n",
      "alphabet_group    3261 non-null object\n",
      "group             3257 non-null float64\n",
      "dtypes: float64(1), object(5)\n",
      "memory usage: 152.9+ KB\n"
     ]
    }
   ],
   "source": [
    "df_insurance_terms.info()"
   ]
  },
  {
   "cell_type": "code",
   "execution_count": 159,
   "metadata": {},
   "outputs": [
    {
     "data": {
      "text/html": [
       "<div>\n",
       "<style scoped>\n",
       "    .dataframe tbody tr th:only-of-type {\n",
       "        vertical-align: middle;\n",
       "    }\n",
       "\n",
       "    .dataframe tbody tr th {\n",
       "        vertical-align: top;\n",
       "    }\n",
       "\n",
       "    .dataframe thead th {\n",
       "        text-align: right;\n",
       "    }\n",
       "</style>\n",
       "<table border=\"1\" class=\"dataframe\">\n",
       "  <thead>\n",
       "    <tr style=\"text-align: right;\">\n",
       "      <th></th>\n",
       "      <th>term</th>\n",
       "      <th>text</th>\n",
       "      <th>new_term</th>\n",
       "      <th>new_text</th>\n",
       "      <th>alphabet_group</th>\n",
       "      <th>group</th>\n",
       "    </tr>\n",
       "  </thead>\n",
       "  <tbody>\n",
       "    <tr>\n",
       "      <th>801</th>\n",
       "      <td>401(k) plan</td>\n",
       "      <td>The most common type of defined contribution r...</td>\n",
       "      <td>401 k plan</td>\n",
       "      <td>common type defined contribution retirement pl...</td>\n",
       "      <td>4</td>\n",
       "      <td>NaN</td>\n",
       "    </tr>\n",
       "    <tr>\n",
       "      <th>802</th>\n",
       "      <td>401(k) fee claims</td>\n",
       "      <td>Claims alleging that the individuals responsib...</td>\n",
       "      <td>401 k fee claims</td>\n",
       "      <td>claims alleging individuals responsible admini...</td>\n",
       "      <td>4</td>\n",
       "      <td>NaN</td>\n",
       "    </tr>\n",
       "    <tr>\n",
       "      <th>1873</th>\n",
       "      <td>831(b) captive</td>\n",
       "      <td>A captive that is taxed under Internal Revenue...</td>\n",
       "      <td>831 b captive</td>\n",
       "      <td>captive taxed internal revenue code 831 b prov...</td>\n",
       "      <td>8</td>\n",
       "      <td>NaN</td>\n",
       "    </tr>\n",
       "    <tr>\n",
       "      <th>2815</th>\n",
       "      <td>10 10 Rule</td>\n",
       "      <td>The issue of analyzing and demonstrating risk ...</td>\n",
       "      <td>10 10 rule</td>\n",
       "      <td>issue analyzing demonstrating risk transfer pr...</td>\n",
       "      <td>1</td>\n",
       "      <td>NaN</td>\n",
       "    </tr>\n",
       "  </tbody>\n",
       "</table>\n",
       "</div>"
      ],
      "text/plain": [
       "                   term                                               text  \\\n",
       "801         401(k) plan  The most common type of defined contribution r...   \n",
       "802   401(k) fee claims  Claims alleging that the individuals responsib...   \n",
       "1873     831(b) captive  A captive that is taxed under Internal Revenue...   \n",
       "2815         10 10 Rule  The issue of analyzing and demonstrating risk ...   \n",
       "\n",
       "              new_term                                           new_text  \\\n",
       "801         401 k plan  common type defined contribution retirement pl...   \n",
       "802   401 k fee claims  claims alleging individuals responsible admini...   \n",
       "1873     831 b captive  captive taxed internal revenue code 831 b prov...   \n",
       "2815        10 10 rule  issue analyzing demonstrating risk transfer pr...   \n",
       "\n",
       "     alphabet_group  group  \n",
       "801               4    NaN  \n",
       "802               4    NaN  \n",
       "1873              8    NaN  \n",
       "2815              1    NaN  "
      ]
     },
     "execution_count": 159,
     "metadata": {},
     "output_type": "execute_result"
    }
   ],
   "source": [
    "df_insurance_terms[df_insurance_terms['group'].isnull()]"
   ]
  },
  {
   "cell_type": "code",
   "execution_count": 160,
   "metadata": {},
   "outputs": [],
   "source": [
    "row_index = df_insurance_terms[df_insurance_terms['group'].isnull()].index"
   ]
  },
  {
   "cell_type": "code",
   "execution_count": 161,
   "metadata": {},
   "outputs": [],
   "source": [
    "df_insurance_terms.loc[row_index, 'group'] = 27"
   ]
  },
  {
   "cell_type": "code",
   "execution_count": 162,
   "metadata": {},
   "outputs": [
    {
     "data": {
      "text/html": [
       "<div>\n",
       "<style scoped>\n",
       "    .dataframe tbody tr th:only-of-type {\n",
       "        vertical-align: middle;\n",
       "    }\n",
       "\n",
       "    .dataframe tbody tr th {\n",
       "        vertical-align: top;\n",
       "    }\n",
       "\n",
       "    .dataframe thead th {\n",
       "        text-align: right;\n",
       "    }\n",
       "</style>\n",
       "<table border=\"1\" class=\"dataframe\">\n",
       "  <thead>\n",
       "    <tr style=\"text-align: right;\">\n",
       "      <th></th>\n",
       "      <th>term</th>\n",
       "      <th>text</th>\n",
       "      <th>new_term</th>\n",
       "      <th>new_text</th>\n",
       "      <th>alphabet_group</th>\n",
       "      <th>group</th>\n",
       "    </tr>\n",
       "  </thead>\n",
       "  <tbody>\n",
       "    <tr>\n",
       "      <th>801</th>\n",
       "      <td>401(k) plan</td>\n",
       "      <td>The most common type of defined contribution r...</td>\n",
       "      <td>401 k plan</td>\n",
       "      <td>common type defined contribution retirement pl...</td>\n",
       "      <td>4</td>\n",
       "      <td>27.0</td>\n",
       "    </tr>\n",
       "    <tr>\n",
       "      <th>802</th>\n",
       "      <td>401(k) fee claims</td>\n",
       "      <td>Claims alleging that the individuals responsib...</td>\n",
       "      <td>401 k fee claims</td>\n",
       "      <td>claims alleging individuals responsible admini...</td>\n",
       "      <td>4</td>\n",
       "      <td>27.0</td>\n",
       "    </tr>\n",
       "    <tr>\n",
       "      <th>1873</th>\n",
       "      <td>831(b) captive</td>\n",
       "      <td>A captive that is taxed under Internal Revenue...</td>\n",
       "      <td>831 b captive</td>\n",
       "      <td>captive taxed internal revenue code 831 b prov...</td>\n",
       "      <td>8</td>\n",
       "      <td>27.0</td>\n",
       "    </tr>\n",
       "    <tr>\n",
       "      <th>2815</th>\n",
       "      <td>10 10 Rule</td>\n",
       "      <td>The issue of analyzing and demonstrating risk ...</td>\n",
       "      <td>10 10 rule</td>\n",
       "      <td>issue analyzing demonstrating risk transfer pr...</td>\n",
       "      <td>1</td>\n",
       "      <td>27.0</td>\n",
       "    </tr>\n",
       "  </tbody>\n",
       "</table>\n",
       "</div>"
      ],
      "text/plain": [
       "                   term                                               text  \\\n",
       "801         401(k) plan  The most common type of defined contribution r...   \n",
       "802   401(k) fee claims  Claims alleging that the individuals responsib...   \n",
       "1873     831(b) captive  A captive that is taxed under Internal Revenue...   \n",
       "2815         10 10 Rule  The issue of analyzing and demonstrating risk ...   \n",
       "\n",
       "              new_term                                           new_text  \\\n",
       "801         401 k plan  common type defined contribution retirement pl...   \n",
       "802   401 k fee claims  claims alleging individuals responsible admini...   \n",
       "1873     831 b captive  captive taxed internal revenue code 831 b prov...   \n",
       "2815        10 10 rule  issue analyzing demonstrating risk transfer pr...   \n",
       "\n",
       "     alphabet_group  group  \n",
       "801               4   27.0  \n",
       "802               4   27.0  \n",
       "1873              8   27.0  \n",
       "2815              1   27.0  "
      ]
     },
     "execution_count": 162,
     "metadata": {},
     "output_type": "execute_result"
    }
   ],
   "source": [
    "df_insurance_terms.iloc[row_index]"
   ]
  },
  {
   "cell_type": "code",
   "execution_count": 164,
   "metadata": {},
   "outputs": [],
   "source": [
    "df_insurance_terms.loc['group'] = df_insurance_terms['group'].astype(int)"
   ]
  },
  {
   "cell_type": "code",
   "execution_count": 166,
   "metadata": {},
   "outputs": [
    {
     "data": {
      "text/html": [
       "<div>\n",
       "<style scoped>\n",
       "    .dataframe tbody tr th:only-of-type {\n",
       "        vertical-align: middle;\n",
       "    }\n",
       "\n",
       "    .dataframe tbody tr th {\n",
       "        vertical-align: top;\n",
       "    }\n",
       "\n",
       "    .dataframe thead th {\n",
       "        text-align: right;\n",
       "    }\n",
       "</style>\n",
       "<table border=\"1\" class=\"dataframe\">\n",
       "  <thead>\n",
       "    <tr style=\"text-align: right;\">\n",
       "      <th></th>\n",
       "      <th>term</th>\n",
       "      <th>text</th>\n",
       "      <th>new_term</th>\n",
       "      <th>new_text</th>\n",
       "      <th>alphabet_group</th>\n",
       "      <th>group</th>\n",
       "    </tr>\n",
       "  </thead>\n",
       "  <tbody>\n",
       "    <tr>\n",
       "      <th>0</th>\n",
       "      <td>automatic premium loan</td>\n",
       "      <td>An optional provision in life insurance that a...</td>\n",
       "      <td>automatic premium loan</td>\n",
       "      <td>optional provision life insurance authorizes i...</td>\n",
       "      <td>a</td>\n",
       "      <td>1.0</td>\n",
       "    </tr>\n",
       "    <tr>\n",
       "      <th>1</th>\n",
       "      <td>Household Goods Transportation Act of 1980</td>\n",
       "      <td>Provided a nonjudicial dispute settlement prog...</td>\n",
       "      <td>household goods transportation act 1980</td>\n",
       "      <td>provided nonjudicial dispute settlement progra...</td>\n",
       "      <td>h</td>\n",
       "      <td>8.0</td>\n",
       "    </tr>\n",
       "    <tr>\n",
       "      <th>2</th>\n",
       "      <td>hydrocarbons</td>\n",
       "      <td>A class of organic compounds composed only of ...</td>\n",
       "      <td>hydrocarbons</td>\n",
       "      <td>class organic compounds composed carbon hydrog...</td>\n",
       "      <td>h</td>\n",
       "      <td>8.0</td>\n",
       "    </tr>\n",
       "    <tr>\n",
       "      <th>3</th>\n",
       "      <td>hydraulic fracturing (fracking)</td>\n",
       "      <td>A process in which fractures in hard-to-reach ...</td>\n",
       "      <td>hydraulic fracturing fracking</td>\n",
       "      <td>process fractures hard reach shale rock format...</td>\n",
       "      <td>h</td>\n",
       "      <td>8.0</td>\n",
       "    </tr>\n",
       "    <tr>\n",
       "      <th>4</th>\n",
       "      <td>hybrid plans</td>\n",
       "      <td>Risk financing techniques that are a combinati...</td>\n",
       "      <td>hybrid plans</td>\n",
       "      <td>risk financing techniques combination retentio...</td>\n",
       "      <td>h</td>\n",
       "      <td>8.0</td>\n",
       "    </tr>\n",
       "  </tbody>\n",
       "</table>\n",
       "</div>"
      ],
      "text/plain": [
       "                                         term  \\\n",
       "0                      automatic premium loan   \n",
       "1  Household Goods Transportation Act of 1980   \n",
       "2                                hydrocarbons   \n",
       "3             hydraulic fracturing (fracking)   \n",
       "4                                hybrid plans   \n",
       "\n",
       "                                                text  \\\n",
       "0  An optional provision in life insurance that a...   \n",
       "1  Provided a nonjudicial dispute settlement prog...   \n",
       "2  A class of organic compounds composed only of ...   \n",
       "3  A process in which fractures in hard-to-reach ...   \n",
       "4  Risk financing techniques that are a combinati...   \n",
       "\n",
       "                                  new_term  \\\n",
       "0                   automatic premium loan   \n",
       "1  household goods transportation act 1980   \n",
       "2                             hydrocarbons   \n",
       "3            hydraulic fracturing fracking   \n",
       "4                             hybrid plans   \n",
       "\n",
       "                                            new_text alphabet_group  group  \n",
       "0  optional provision life insurance authorizes i...              a    1.0  \n",
       "1  provided nonjudicial dispute settlement progra...              h    8.0  \n",
       "2  class organic compounds composed carbon hydrog...              h    8.0  \n",
       "3  process fractures hard reach shale rock format...              h    8.0  \n",
       "4  risk financing techniques combination retentio...              h    8.0  "
      ]
     },
     "execution_count": 166,
     "metadata": {},
     "output_type": "execute_result"
    }
   ],
   "source": []
  },
  {
   "cell_type": "code",
   "execution_count": null,
   "metadata": {},
   "outputs": [],
   "source": []
  }
 ],
 "metadata": {
  "kernelspec": {
   "display_name": "Python 3",
   "language": "python",
   "name": "python3"
  },
  "language_info": {
   "codemirror_mode": {
    "name": "ipython",
    "version": 3
   },
   "file_extension": ".py",
   "mimetype": "text/x-python",
   "name": "python",
   "nbconvert_exporter": "python",
   "pygments_lexer": "ipython3",
   "version": "3.6.8"
  }
 },
 "nbformat": 4,
 "nbformat_minor": 2
}
