{
 "cells": [
  {
   "cell_type": "code",
   "execution_count": 8,
   "metadata": {},
   "outputs": [
    {
     "data": {
      "text/html": [
       "<div>\n",
       "<style scoped>\n",
       "    .dataframe tbody tr th:only-of-type {\n",
       "        vertical-align: middle;\n",
       "    }\n",
       "\n",
       "    .dataframe tbody tr th {\n",
       "        vertical-align: top;\n",
       "    }\n",
       "\n",
       "    .dataframe thead th {\n",
       "        text-align: right;\n",
       "    }\n",
       "</style>\n",
       "<table border=\"1\" class=\"dataframe\">\n",
       "  <thead>\n",
       "    <tr style=\"text-align: right;\">\n",
       "      <th></th>\n",
       "      <th>index</th>\n",
       "      <th>class</th>\n",
       "      <th>predicted_prob</th>\n",
       "    </tr>\n",
       "  </thead>\n",
       "  <tbody>\n",
       "    <tr>\n",
       "      <th>9</th>\n",
       "      <td>10</td>\n",
       "      <td>0</td>\n",
       "      <td>0.899982</td>\n",
       "    </tr>\n",
       "    <tr>\n",
       "      <th>8</th>\n",
       "      <td>9</td>\n",
       "      <td>0</td>\n",
       "      <td>0.891356</td>\n",
       "    </tr>\n",
       "    <tr>\n",
       "      <th>6</th>\n",
       "      <td>7</td>\n",
       "      <td>1</td>\n",
       "      <td>0.878196</td>\n",
       "    </tr>\n",
       "    <tr>\n",
       "      <th>7</th>\n",
       "      <td>8</td>\n",
       "      <td>1</td>\n",
       "      <td>0.716780</td>\n",
       "    </tr>\n",
       "    <tr>\n",
       "      <th>1</th>\n",
       "      <td>2</td>\n",
       "      <td>1</td>\n",
       "      <td>0.624829</td>\n",
       "    </tr>\n",
       "    <tr>\n",
       "      <th>0</th>\n",
       "      <td>1</td>\n",
       "      <td>0</td>\n",
       "      <td>0.592837</td>\n",
       "    </tr>\n",
       "    <tr>\n",
       "      <th>5</th>\n",
       "      <td>6</td>\n",
       "      <td>0</td>\n",
       "      <td>0.566989</td>\n",
       "    </tr>\n",
       "    <tr>\n",
       "      <th>3</th>\n",
       "      <td>4</td>\n",
       "      <td>1</td>\n",
       "      <td>0.544891</td>\n",
       "    </tr>\n",
       "    <tr>\n",
       "      <th>2</th>\n",
       "      <td>3</td>\n",
       "      <td>0</td>\n",
       "      <td>0.073848</td>\n",
       "    </tr>\n",
       "    <tr>\n",
       "      <th>4</th>\n",
       "      <td>5</td>\n",
       "      <td>0</td>\n",
       "      <td>0.015118</td>\n",
       "    </tr>\n",
       "  </tbody>\n",
       "</table>\n",
       "</div>"
      ],
      "text/plain": [
       "   index  class  predicted_prob\n",
       "9     10      0        0.899982\n",
       "8      9      0        0.891356\n",
       "6      7      1        0.878196\n",
       "7      8      1        0.716780\n",
       "1      2      1        0.624829\n",
       "0      1      0        0.592837\n",
       "5      6      0        0.566989\n",
       "3      4      1        0.544891\n",
       "2      3      0        0.073848\n",
       "4      5      0        0.015118"
      ]
     },
     "execution_count": 8,
     "metadata": {},
     "output_type": "execute_result"
    }
   ],
   "source": [
    "import pandas as pd\n",
    "df = pd.read_csv('model_outcome.csv', nrows=10)\n",
    "df = df.sort_values(by='predicted_prob', ascending=False)\n",
    "df"
   ]
  },
  {
   "cell_type": "code",
   "execution_count": 27,
   "metadata": {},
   "outputs": [
    {
     "name": "stdout",
     "output_type": "stream",
     "text": [
      "0.5833333333333334\n",
      "0.5833333333333334\n",
      "[0.         0.16666667 0.33333333 0.33333333 0.66666667 0.66666667\n",
      " 1.        ]\n",
      "[0.   0.   0.   0.75 0.75 1.   1.  ]\n"
     ]
    }
   ],
   "source": [
    "# 套用 package\n",
    "y_true = df['class'].values\n",
    "y_score = df['predicted_prob'].values\n",
    "\n",
    "from sklearn.metrics import roc_auc_score, roc_curve, auc\n",
    "print(roc_auc_score(y_true, y_score))\n",
    "fpr, tpr, thresholds = roc_curve(y_true, y_score)\n",
    "print(auc(fpr, tpr))\n",
    "print(fpr)\n",
    "print(tpr)"
   ]
  },
  {
   "cell_type": "code",
   "execution_count": 28,
   "metadata": {},
   "outputs": [
    {
     "data": {
      "text/plain": [
       "Int64Index([9, 8, 6, 7, 1, 0, 5, 3, 2, 4], dtype='int64')"
      ]
     },
     "execution_count": 28,
     "metadata": {},
     "output_type": "execute_result"
    }
   ],
   "source": []
  },
  {
   "cell_type": "code",
   "execution_count": 35,
   "metadata": {},
   "outputs": [
    {
     "name": "stdout",
     "output_type": "stream",
     "text": [
      "[0.         0.16666667 0.33333333 0.33333333 0.5        0.66666667\n",
      " 0.66666667 0.66666667 0.66666667 0.83333333 1.        ]\n",
      "[0.   0.   0.   0.25 0.25 0.25 0.5  0.75 1.   1.   1.  ]\n",
      "0.5833333333333334\n"
     ]
    }
   ],
   "source": [
    "import numpy as np\n",
    "def auc(df):\n",
    "    df_sorted = df.sort_values(by='predicted_prob')\n",
    "    y_true = df_sorted['class'].values\n",
    "    y_score = df_sorted['predicted_prob'].values\n",
    "    \n",
    "    tps = np.cumsum(y_true)\n",
    "    index = np.arange(len(y_score))\n",
    "    fps = 1 + index - tps\n",
    "    \n",
    "    tpr = tps / tps[-1]\n",
    "    fpr = fps / fps[-1]\n",
    "    \n",
    "    tpr = np.r_[0, tpr]\n",
    "    fpr = np.r_[0, fpr]\n",
    "    print(fpr)\n",
    "    print(tpr)\n",
    "    \n",
    "    print(np.trapz(fpr, tpr))\n",
    "    \n",
    "auc(df)"
   ]
  },
  {
   "cell_type": "code",
   "execution_count": null,
   "metadata": {},
   "outputs": [],
   "source": []
  }
 ],
 "metadata": {
  "kernelspec": {
   "display_name": "Python 3",
   "language": "python",
   "name": "python3"
  },
  "language_info": {
   "codemirror_mode": {
    "name": "ipython",
    "version": 3
   },
   "file_extension": ".py",
   "mimetype": "text/x-python",
   "name": "python",
   "nbconvert_exporter": "python",
   "pygments_lexer": "ipython3",
   "version": "3.6.7"
  }
 },
 "nbformat": 4,
 "nbformat_minor": 2
}
