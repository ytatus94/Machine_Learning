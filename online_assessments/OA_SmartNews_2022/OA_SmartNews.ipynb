{
 "cells": [
  {
   "cell_type": "code",
   "execution_count": 2,
   "id": "30d4fc89",
   "metadata": {},
   "outputs": [
    {
     "data": {
      "text/html": [
       "<div>\n",
       "<style scoped>\n",
       "    .dataframe tbody tr th:only-of-type {\n",
       "        vertical-align: middle;\n",
       "    }\n",
       "\n",
       "    .dataframe tbody tr th {\n",
       "        vertical-align: top;\n",
       "    }\n",
       "\n",
       "    .dataframe thead th {\n",
       "        text-align: right;\n",
       "    }\n",
       "</style>\n",
       "<table border=\"1\" class=\"dataframe\">\n",
       "  <thead>\n",
       "    <tr style=\"text-align: right;\">\n",
       "      <th></th>\n",
       "      <th>death</th>\n",
       "      <th>amiodarone</th>\n",
       "      <th>loop_diuretics</th>\n",
       "      <th>ivabradine</th>\n",
       "      <th>ARB</th>\n",
       "      <th>digoxin</th>\n",
       "      <th>MRA</th>\n",
       "      <th>heart_failure</th>\n",
       "      <th>AOS</th>\n",
       "      <th>SBP</th>\n",
       "      <th>DBP</th>\n",
       "      <th>PLT</th>\n",
       "      <th>LDL</th>\n",
       "      <th>HDL</th>\n",
       "      <th>LVEF</th>\n",
       "      <th>Na+</th>\n",
       "      <th>K+</th>\n",
       "      <th>MPV</th>\n",
       "    </tr>\n",
       "  </thead>\n",
       "  <tbody>\n",
       "    <tr>\n",
       "      <th>0</th>\n",
       "      <td>0</td>\n",
       "      <td>0</td>\n",
       "      <td>0</td>\n",
       "      <td>1</td>\n",
       "      <td>1</td>\n",
       "      <td>1</td>\n",
       "      <td>0</td>\n",
       "      <td>2</td>\n",
       "      <td>0</td>\n",
       "      <td>62.0</td>\n",
       "      <td>126.0</td>\n",
       "      <td>196.0</td>\n",
       "      <td>50.0</td>\n",
       "      <td>42.0</td>\n",
       "      <td>28.0</td>\n",
       "      <td>136.0</td>\n",
       "      <td>4.30</td>\n",
       "      <td>9.9</td>\n",
       "    </tr>\n",
       "    <tr>\n",
       "      <th>1</th>\n",
       "      <td>0</td>\n",
       "      <td>1</td>\n",
       "      <td>1</td>\n",
       "      <td>0</td>\n",
       "      <td>1</td>\n",
       "      <td>0</td>\n",
       "      <td>1</td>\n",
       "      <td>0</td>\n",
       "      <td>1</td>\n",
       "      <td>72.0</td>\n",
       "      <td>108.0</td>\n",
       "      <td>245.0</td>\n",
       "      <td>59.0</td>\n",
       "      <td>85.0</td>\n",
       "      <td>25.0</td>\n",
       "      <td>147.0</td>\n",
       "      <td>4.58</td>\n",
       "      <td>13.3</td>\n",
       "    </tr>\n",
       "    <tr>\n",
       "      <th>2</th>\n",
       "      <td>0</td>\n",
       "      <td>0</td>\n",
       "      <td>0</td>\n",
       "      <td>0</td>\n",
       "      <td>0</td>\n",
       "      <td>1</td>\n",
       "      <td>1</td>\n",
       "      <td>2</td>\n",
       "      <td>2</td>\n",
       "      <td>73.0</td>\n",
       "      <td>109.0</td>\n",
       "      <td>219.0</td>\n",
       "      <td>79.0</td>\n",
       "      <td>61.0</td>\n",
       "      <td>14.0</td>\n",
       "      <td>133.0</td>\n",
       "      <td>4.05</td>\n",
       "      <td>1.5</td>\n",
       "    </tr>\n",
       "    <tr>\n",
       "      <th>3</th>\n",
       "      <td>0</td>\n",
       "      <td>0</td>\n",
       "      <td>0</td>\n",
       "      <td>1</td>\n",
       "      <td>1</td>\n",
       "      <td>1</td>\n",
       "      <td>0</td>\n",
       "      <td>2</td>\n",
       "      <td>1</td>\n",
       "      <td>55.0</td>\n",
       "      <td>114.0</td>\n",
       "      <td>294.0</td>\n",
       "      <td>97.0</td>\n",
       "      <td>55.0</td>\n",
       "      <td>8.0</td>\n",
       "      <td>150.0</td>\n",
       "      <td>5.34</td>\n",
       "      <td>7.8</td>\n",
       "    </tr>\n",
       "    <tr>\n",
       "      <th>4</th>\n",
       "      <td>0</td>\n",
       "      <td>0</td>\n",
       "      <td>1</td>\n",
       "      <td>0</td>\n",
       "      <td>1</td>\n",
       "      <td>1</td>\n",
       "      <td>1</td>\n",
       "      <td>2</td>\n",
       "      <td>2</td>\n",
       "      <td>70.0</td>\n",
       "      <td>95.0</td>\n",
       "      <td>293.0</td>\n",
       "      <td>96.0</td>\n",
       "      <td>30.0</td>\n",
       "      <td>28.0</td>\n",
       "      <td>151.0</td>\n",
       "      <td>5.25</td>\n",
       "      <td>6.8</td>\n",
       "    </tr>\n",
       "  </tbody>\n",
       "</table>\n",
       "</div>"
      ],
      "text/plain": [
       "   death  amiodarone  loop_diuretics  ivabradine  ARB  digoxin  MRA  \\\n",
       "0      0           0               0           1    1        1    0   \n",
       "1      0           1               1           0    1        0    1   \n",
       "2      0           0               0           0    0        1    1   \n",
       "3      0           0               0           1    1        1    0   \n",
       "4      0           0               1           0    1        1    1   \n",
       "\n",
       "   heart_failure  AOS   SBP    DBP    PLT   LDL   HDL  LVEF    Na+    K+   MPV  \n",
       "0              2    0  62.0  126.0  196.0  50.0  42.0  28.0  136.0  4.30   9.9  \n",
       "1              0    1  72.0  108.0  245.0  59.0  85.0  25.0  147.0  4.58  13.3  \n",
       "2              2    2  73.0  109.0  219.0  79.0  61.0  14.0  133.0  4.05   1.5  \n",
       "3              2    1  55.0  114.0  294.0  97.0  55.0   8.0  150.0  5.34   7.8  \n",
       "4              2    2  70.0   95.0  293.0  96.0  30.0  28.0  151.0  5.25   6.8  "
      ]
     },
     "execution_count": 2,
     "metadata": {},
     "output_type": "execute_result"
    }
   ],
   "source": [
    "import pandas as pd\n",
    "from scipy import stats\n",
    "\n",
    "df = pd.read_csv(\"~/Downloads/data/medical_data.csv\")\n",
    "df.head()"
   ]
  },
  {
   "cell_type": "code",
   "execution_count": 5,
   "id": "3eba4f04",
   "metadata": {},
   "outputs": [
    {
     "name": "stdout",
     "output_type": "stream",
     "text": [
      "death\n"
     ]
    },
    {
     "data": {
      "image/png": "[encoded data removed]",
      "text/plain": [
       "<Figure size 432x288 with 1 Axes>"
      ]
     },
     "metadata": {
      "needs_background": "light"
     },
     "output_type": "display_data"
    },
    {
     "name": "stdout",
     "output_type": "stream",
     "text": [
      "amiodarone\n"
     ]
    },
    {
     "data": {
      "image/png": "[encoded data removed]",
      "text/plain": [
       "<Figure size 432x288 with 1 Axes>"
      ]
     },
     "metadata": {
      "needs_background": "light"
     },
     "output_type": "display_data"
    },
    {
     "name": "stdout",
     "output_type": "stream",
     "text": [
      "loop_diuretics\n"
     ]
    },
    {
     "data": {
      "image/png": "[encoded data removed]",
      "text/plain": [
       "<Figure size 432x288 with 1 Axes>"
      ]
     },
     "metadata": {
      "needs_background": "light"
     },
     "output_type": "display_data"
    },
    {
     "name": "stdout",
     "output_type": "stream",
     "text": [
      "ivabradine\n"
     ]
    },
    {
     "data": {
      "image/png": "[encoded data removed]",
      "text/plain": [
       "<Figure size 432x288 with 1 Axes>"
      ]
     },
     "metadata": {
      "needs_background": "light"
     },
     "output_type": "display_data"
    },
    {
     "name": "stdout",
     "output_type": "stream",
     "text": [
      "ARB\n"
     ]
    },
    {
     "data": {
      "image/png": "[encoded data removed]",
      "text/plain": [
       "<Figure size 432x288 with 1 Axes>"
      ]
     },
     "metadata": {
      "needs_background": "light"
     },
     "output_type": "display_data"
    },
    {
     "name": "stdout",
     "output_type": "stream",
     "text": [
      "digoxin\n"
     ]
    },
    {
     "data": {
      "image/png": "[encoded data removed]",
      "text/plain": [
       "<Figure size 432x288 with 1 Axes>"
      ]
     },
     "metadata": {
      "needs_background": "light"
     },
     "output_type": "display_data"
    },
    {
     "name": "stdout",
     "output_type": "stream",
     "text": [
      "MRA\n"
     ]
    },
    {
     "data": {
      "image/png": "[encoded data removed]",
      "text/plain": [
       "<Figure size 432x288 with 1 Axes>"
      ]
     },
     "metadata": {
      "needs_background": "light"
     },
     "output_type": "display_data"
    },
    {
     "name": "stdout",
     "output_type": "stream",
     "text": [
      "heart_failure\n"
     ]
    },
    {
     "data": {
      "image/png": "[encoded data removed]",
      "text/plain": [
       "<Figure size 432x288 with 1 Axes>"
      ]
     },
     "metadata": {
      "needs_background": "light"
     },
     "output_type": "display_data"
    },
    {
     "name": "stdout",
     "output_type": "stream",
     "text": [
      "AOS\n"
     ]
    },
    {
     "data": {
      "image/png": "[encoded data removed]",
      "text/plain": [
       "<Figure size 432x288 with 1 Axes>"
      ]
     },
     "metadata": {
      "needs_background": "light"
     },
     "output_type": "display_data"
    },
    {
     "name": "stdout",
     "output_type": "stream",
     "text": [
      "SBP\n"
     ]
    },
    {
     "data": {
      "image/png": "[encoded data removed]",
      "text/plain": [
       "<Figure size 432x288 with 1 Axes>"
      ]
     },
     "metadata": {
      "needs_background": "light"
     },
     "output_type": "display_data"
    },
    {
     "name": "stdout",
     "output_type": "stream",
     "text": [
      "DBP\n"
     ]
    },
    {
     "data": {
      "image/png": "[encoded data removed]",
      "text/plain": [
       "<Figure size 432x288 with 1 Axes>"
      ]
     },
     "metadata": {
      "needs_background": "light"
     },
     "output_type": "display_data"
    },
    {
     "name": "stdout",
     "output_type": "stream",
     "text": [
      "PLT\n"
     ]
    },
    {
     "data": {
      "image/png": "[encoded data removed]",
      "text/plain": [
       "<Figure size 432x288 with 1 Axes>"
      ]
     },
     "metadata": {
      "needs_background": "light"
     },
     "output_type": "display_data"
    },
    {
     "name": "stdout",
     "output_type": "stream",
     "text": [
      "LDL\n"
     ]
    },
    {
     "data": {
      "image/png": "[encoded data removed]",
      "text/plain": [
       "<Figure size 432x288 with 1 Axes>"
      ]
     },
     "metadata": {
      "needs_background": "light"
     },
     "output_type": "display_data"
    },
    {
     "name": "stdout",
     "output_type": "stream",
     "text": [
      "HDL\n"
     ]
    },
    {
     "data": {
      "image/png": "[encoded data removed]",
      "text/plain": [
       "<Figure size 432x288 with 1 Axes>"
      ]
     },
     "metadata": {
      "needs_background": "light"
     },
     "output_type": "display_data"
    },
    {
     "name": "stdout",
     "output_type": "stream",
     "text": [
      "LVEF\n"
     ]
    },
    {
     "data": {
      "image/png": "[encoded data removed]",
      "text/plain": [
       "<Figure size 432x288 with 1 Axes>"
      ]
     },
     "metadata": {
      "needs_background": "light"
     },
     "output_type": "display_data"
    },
    {
     "name": "stdout",
     "output_type": "stream",
     "text": [
      "Na+\n"
     ]
    },
    {
     "data": {
      "image/png": "[encoded data removed]",
      "text/plain": [
       "<Figure size 432x288 with 1 Axes>"
      ]
     },
     "metadata": {
      "needs_background": "light"
     },
     "output_type": "display_data"
    },
    {
     "name": "stdout",
     "output_type": "stream",
     "text": [
      "K+\n"
     ]
    },
    {
     "data": {
      "image/png": "[encoded data removed]",
      "text/plain": [
       "<Figure size 432x288 with 1 Axes>"
      ]
     },
     "metadata": {
      "needs_background": "light"
     },
     "output_type": "display_data"
    },
    {
     "name": "stdout",
     "output_type": "stream",
     "text": [
      "MPV\n"
     ]
    },
    {
     "data": {
      "image/png": "[encoded data removed]",
      "text/plain": [
       "<Figure size 432x288 with 1 Axes>"
      ]
     },
     "metadata": {
      "needs_background": "light"
     },
     "output_type": "display_data"
    }
   ],
   "source": [
    "import matplotlib.pyplot as plt\n",
    "for col in df.columns:\n",
    "    print(col)\n",
    "    fig, ax = plt.subplots()\n",
    "    df[col].hist()\n",
    "    plt.show()"
   ]
  },
  {
   "cell_type": "code",
   "execution_count": 14,
   "id": "21058e6f",
   "metadata": {},
   "outputs": [
    {
     "name": "stdout",
     "output_type": "stream",
     "text": [
      "death\n",
      "Statistics=1.000, p=1.000\n",
      "Sample looks Gaussian (fail to reject H0)\n",
      "amiodarone\n",
      "Statistics=0.562, p=0.000\n",
      "loop_diuretics\n",
      "Statistics=0.596, p=0.000\n",
      "ivabradine\n",
      "Statistics=0.634, p=0.000\n",
      "ARB\n",
      "Statistics=0.630, p=0.000\n",
      "digoxin\n",
      "Statistics=0.633, p=0.000\n",
      "MRA\n",
      "Statistics=0.633, p=0.000\n",
      "heart_failure\n",
      "Statistics=0.778, p=0.000\n",
      "AOS\n",
      "Statistics=0.794, p=0.000\n",
      "SBP\n",
      "Statistics=0.996, p=0.258\n",
      "Sample looks Gaussian (fail to reject H0)\n",
      "DBP\n",
      "Statistics=0.997, p=0.527\n",
      "Sample looks Gaussian (fail to reject H0)\n",
      "PLT\n",
      "Statistics=0.996, p=0.236\n",
      "Sample looks Gaussian (fail to reject H0)\n",
      "LDL\n",
      "Statistics=0.998, p=0.937\n",
      "Sample looks Gaussian (fail to reject H0)\n",
      "HDL\n",
      "Statistics=0.997, p=0.439\n",
      "Sample looks Gaussian (fail to reject H0)\n",
      "LVEF\n",
      "Statistics=0.908, p=0.000\n",
      "Na+\n",
      "Statistics=0.954, p=0.000\n",
      "K+\n",
      "Statistics=0.949, p=0.000\n",
      "MPV\n",
      "Statistics=0.949, p=0.000\n"
     ]
    }
   ],
   "source": [
    "from scipy.stats import shapiro\n",
    "\n",
    "def shapiro_wilk_test(data):\n",
    "    stat, p = shapiro(data)\n",
    "    print('Statistics=%.3f, p=%.3f' % (stat, p))\n",
    "    # interpret\n",
    "    alpha = 0.05\n",
    "    if p > alpha:\n",
    "        print('Sample looks Gaussian (fail to reject H0)')\n",
    "#     else:\n",
    "#         print('Sample does not look Gaussian (reject H0)')\n",
    "        \n",
    "for col in df.columns:\n",
    "    print(col)\n",
    "    shapiro_wilk_test(df.loc[df[\"death\"]==0,col])"
   ]
  },
  {
   "cell_type": "code",
   "execution_count": 13,
   "id": "f50c8129",
   "metadata": {},
   "outputs": [
    {
     "data": {
      "text/plain": [
       "Index(['death', 'amiodarone', 'loop_diuretics', 'ivabradine', 'ARB', 'digoxin',\n",
       "       'MRA', 'heart_failure', 'AOS', 'SBP', 'DBP', 'PLT', 'LDL', 'HDL',\n",
       "       'LVEF', 'Na+', 'K+', 'MPV'],\n",
       "      dtype='object')"
      ]
     },
     "execution_count": 13,
     "metadata": {},
     "output_type": "execute_result"
    }
   ],
   "source": [
    "df._get_numeric_data().columns"
   ]
  },
  {
   "cell_type": "code",
   "execution_count": 15,
   "id": "ca8e60df",
   "metadata": {},
   "outputs": [
    {
     "name": "stdout",
     "output_type": "stream",
     "text": [
      "2\n",
      "2\n",
      "2\n",
      "2\n",
      "2\n",
      "2\n",
      "2\n",
      "3\n",
      "3\n",
      "55\n",
      "53\n",
      "198\n",
      "102\n",
      "79\n",
      "70\n",
      "26\n",
      "261\n",
      "145\n"
     ]
    }
   ],
   "source": [
    "for col in df.columns:\n",
    "    print(df[col].nunique())"
   ]
  },
  {
   "cell_type": "code",
   "execution_count": 16,
   "id": "48b7f78c",
   "metadata": {},
   "outputs": [],
   "source": [
    "def perform_tests(data):\n",
    "    print(\"columns=\", data.columns)\n",
    "    categorical_cols = [\"amiodarone\", \"loop_diuretics\", \"ivabradine\", \"ARB\", \"digoxin\", \"MRA\", \"heart_failure\", \"AOS\"]\n",
    "    numerical_cols = [\"SBP\", \"DBP\", \"PLT\", \"LDL\", \"HDL\", \"LVEF\", \"Na+\", \"K+\", \"MPV\"]\n",
    "\n",
    "    # Run chi square test for categorical columns\n",
    "    chi_square_results = []\n",
    "    for col in categorical_cols:\n",
    "        p_value = run_chi_square_test(data, col)\n",
    "        chi_square_results.append( (col, p_value) )\n",
    "\n",
    "    # Run shapiro wilk test for all numerical columns\n",
    "    shapiro_wilk_results = []\n",
    "    for col in numerical_cols:\n",
    "        p_death0, p_death1 = run_shapiro_wilk_test(data, col)\n",
    "        shapiro_wilk_results.append( (col, (p_death0, p_death1)) )\n",
    "\n",
    "    # Run ttest for numerical columns with normal distribution\n",
    "    ttest_results = []\n",
    "    for col in [\"SBP\", \"DBP\", \"PLT\", \"LDL\", \"HDL\"]:\n",
    "        p_value = run_ttest(data, col)\n",
    "        ttest_results.append( (col, p_value) )\n",
    "\n",
    "    # Run man_whitney test for numerical columns don't have a normal distribution\n",
    "    mann_whitney_results = []\n",
    "    for col in [\"LVEF\", \"Na+\", \"K+\", \"MPV\"]:\n",
    "        p_value = run_mann_whitney_test(data, col)\n",
    "        mann_whitney_results.append( (col, p_value) )\n",
    "\n",
    "    return {\n",
    "        'mann_whitney': mann_whitney_results,\n",
    "        'ttest': ttest_results,\n",
    "        'chi_square': chi_square_results,\n",
    "        'shapiro_wilk': shapiro_wilk_results\n",
    "    }\n",
    "\n",
    "\n",
    "def run_shapiro_wilk_test(df, col):\n",
    "    data_death0 = df.loc[df[\"death\"]==0, col]\n",
    "    data_death1 = df.loc[df[\"death\"]==1, col]\n",
    "\n",
    "    stat_death0, p_death0 = stats.shapiro(data_death0)\n",
    "    stat_death1, p_death1 = stats.shapiro(data_death1)\n",
    "    \n",
    "    return p_death0, p_death1\n",
    "\n",
    "def run_chi_square_test(df, col):\n",
    "    # create contingency table\n",
    "    table = pd.crosstab(df[col], df[\"death\"], margins=True)\n",
    "    stat, p_value, dof, expected = stats.chi2_contingency(table)\n",
    "    return p_value\n",
    "\n",
    "def run_ttest(df, col):\n",
    "    statistic, p_value = stats.ttest_ind(df[col], df[\"death\"])\n",
    "    return p_value\n",
    "\n",
    "def run_mann_whitney_test(df, col):\n",
    "    statistic, p_value =  stats.mannwhitneyu(df[col], df[\"death\"])\n",
    "    return p_value"
   ]
  },
  {
   "cell_type": "code",
   "execution_count": 17,
   "id": "9bde6786",
   "metadata": {},
   "outputs": [
    {
     "name": "stdout",
     "output_type": "stream",
     "text": [
      "columns= Index(['death', 'amiodarone', 'loop_diuretics', 'ivabradine', 'ARB', 'digoxin',\n",
      "       'MRA', 'heart_failure', 'AOS', 'SBP', 'DBP', 'PLT', 'LDL', 'HDL',\n",
      "       'LVEF', 'Na+', 'K+', 'MPV'],\n",
      "      dtype='object')\n"
     ]
    },
    {
     "data": {
      "text/plain": [
       "{'mann_whitney': [('LVEF', 1.3711836242878373e-207),\n",
       "  ('Na+', 1.270583358342071e-207),\n",
       "  ('K+', 1.4250504758908439e-207),\n",
       "  ('MPV', 1.0575834096772507e-200)],\n",
       " 'ttest': [('SBP', 0.0),\n",
       "  ('DBP', 0.0),\n",
       "  ('PLT', 0.0),\n",
       "  ('LDL', 0.0),\n",
       "  ('HDL', 0.0)],\n",
       " 'chi_square': [('amiodarone', 4.0869624530012533e-13),\n",
       "  ('loop_diuretics', 2.1568970837729472e-20),\n",
       "  ('ivabradine', 0.15882958731858055),\n",
       "  ('ARB', 0.7869205255553904),\n",
       "  ('digoxin', 0.9644514007062124),\n",
       "  ('MRA', 0.844551028390928),\n",
       "  ('heart_failure', 2.6958551072347337e-09),\n",
       "  ('AOS', 0.99999701802442)],\n",
       " 'shapiro_wilk': [('SBP', (0.25810301303863525, 0.588147759437561)),\n",
       "  ('DBP', (0.5271841287612915, 0.3715434670448303)),\n",
       "  ('PLT', (0.23609748482704163, 0.6934987306594849)),\n",
       "  ('LDL', (0.9366661906242371, 0.9500206112861633)),\n",
       "  ('HDL', (0.4387868642807007, 0.0006414349772967398)),\n",
       "  ('LVEF', (7.764072739377878e-17, 2.6782176973938476e-06)),\n",
       "  ('Na+', (2.4576712193136174e-11, 0.007113812491297722)),\n",
       "  ('K+', (4.414562031901381e-12, 0.17712044715881348)),\n",
       "  ('MPV', (4.897747138410402e-12, 0.00033876020461320877))]}"
      ]
     },
     "execution_count": 17,
     "metadata": {},
     "output_type": "execute_result"
    }
   ],
   "source": [
    "perform_tests(df)"
   ]
  },
  {
   "cell_type": "code",
   "execution_count": null,
   "id": "c880f3b5",
   "metadata": {},
   "outputs": [],
   "source": [
    "SELECT group_id, player_id, max(total_score)\n",
    "FROM (\n",
    "    SELECT group_id, player_id, sum(score) AS total_score\n",
    "    FROM (\n",
    "        SELECT m.first_player AS player_id, m.first_score AS score, p.group_id\n",
    "        FROM matches AS m\n",
    "        LEFT JOIN players AS p\n",
    "        ON m.first_player = p.player_id\n",
    "        UNION ALL\n",
    "        SELECT m.second_player AS player_id, m.second_score AS score, p.group_id\n",
    "        FROM matches AS m\n",
    "        LEFT JOIN players AS p\n",
    "        ON m.second_player = p.player_id\n",
    "    ) AS total_scores\n",
    "    GROUP BY 1, 2\n",
    "    ORDER BY 1, 3 DESC\n",
    ") AS winner\n",
    "GROUP BY 1\n",
    "\n",
    "\n",
    "-- write your code in PostgreSQL 9.4\n",
    "WITH total_scores AS (\n",
    "    SELECT group_id, player_id, sum(score) AS total_score\n",
    "    FROM (\n",
    "        SELECT m.first_player AS player_id, m.first_score AS score, p1.group_id\n",
    "        FROM matches AS m\n",
    "        LEFT JOIN players AS p1\n",
    "        ON m.first_player = p1.player_id\n",
    "        UNION ALL\n",
    "        SELECT m.second_player AS player_id, m.second_score AS score, p2.group_id\n",
    "        FROM matches AS m\n",
    "        LEFT JOIN players AS p2\n",
    "        ON m.second_player = p2.player_id\n",
    "    ) as merge\n",
    "    GROUP BY 1, 2\n",
    "    ORDER BY 1, 3 DESC\n",
    "),\n",
    "top_score AS (\n",
    "    SELECT group_id, max(total_score) AS total_score\n",
    "    FROM total_scores\n",
    "    GROUP BY 1\n",
    "),\n",
    "winners AS (\n",
    "    SELECT t.group_id, MIN(s.player_id) AS player_id\n",
    "    FROM top_score AS t\n",
    "    LEFT JOIN total_scores AS s \n",
    "    ON t.group_id = s.group_id AND t.total_score = s.total_score\n",
    "    GROUP BY 1\n",
    "    ORDER BY 1\n",
    ")\n",
    "SELECT p3.group_id,\n",
    "CASE\n",
    "    WHEN w.player_id IS NULL THEN p3.player_id\n",
    "    ELSE w.player_id\n",
    "END AS player_id\n",
    "FROM players AS p3\n",
    "LEFT JOIN winners AS w\n",
    "ON p3.group_id = w.group_id\n",
    "GROUP BY 1, 2\n",
    "ORDER BY 1, 2\n"
   ]
  }
 ],
 "metadata": {
  "kernelspec": {
   "display_name": "Python [conda env:root] *",
   "language": "python",
   "name": "conda-root-py"
  },
  "language_info": {
   "codemirror_mode": {
    "name": "ipython",
    "version": 3
   },
   "file_extension": ".py",
   "mimetype": "text/x-python",
   "name": "python",
   "nbconvert_exporter": "python",
   "pygments_lexer": "ipython3",
   "version": "3.8.13"
  }
 },
 "nbformat": 4,
 "nbformat_minor": 5
}
