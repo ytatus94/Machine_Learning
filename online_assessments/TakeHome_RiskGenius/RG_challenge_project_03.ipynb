{
 "cells": [
  {
   "cell_type": "markdown",
   "metadata": {},
   "source": [
    "# Yu-Ting Shen\n",
    "\n",
    "# RiskGenius Challenge Project\n",
    "\n",
    "\n",
    "https://www.irmi.com/glossary\n",
    "\n",
    "https://scrapy.org/\n",
    "\n",
    "The IRMI link points to a site with definitions of insurance terms.\n",
    "The Scrapy link is to a library which can extract data from websites.\n",
    "\n",
    "The idea of this project is in 3 parts:\n",
    "\n",
    "1. Scrape and store the IRMI glossary into some data format (maybe SQLite, or .json or something).  Be sure to have at least the definition label and definition text.  Other data might be unnecessary.\n",
    "\n",
    "2. Build a classifier (you can choose the model) and optimize hyperparameters to predict the definition label from the definition text.\n",
    "\n",
    "3. Predict the word that will be in the definition label, instead of the label itself.  Possibly predict the count vector of the definition label in this case.\n",
    "\n",
    "This could have a real application in RiskGenius, as a step toward automatically generating definition labels by predicting the words that would be used in definition labels.  You are likely to find in many cases, words in the definition label cannot be found in the definition text, so keep that in mind.\n",
    "\n",
    "***\n",
    "***\n",
    "***"
   ]
  },
  {
   "cell_type": "markdown",
   "metadata": {},
   "source": [
    "# Load Data"
   ]
  },
  {
   "cell_type": "code",
   "execution_count": 93,
   "metadata": {},
   "outputs": [
    {
     "data": {
      "text/html": [
       "<div>\n",
       "<style scoped>\n",
       "    .dataframe tbody tr th:only-of-type {\n",
       "        vertical-align: middle;\n",
       "    }\n",
       "\n",
       "    .dataframe tbody tr th {\n",
       "        vertical-align: top;\n",
       "    }\n",
       "\n",
       "    .dataframe thead th {\n",
       "        text-align: right;\n",
       "    }\n",
       "</style>\n",
       "<table border=\"1\" class=\"dataframe\">\n",
       "  <thead>\n",
       "    <tr style=\"text-align: right;\">\n",
       "      <th></th>\n",
       "      <th>term</th>\n",
       "      <th>text</th>\n",
       "      <th>synonym</th>\n",
       "    </tr>\n",
       "  </thead>\n",
       "  <tbody>\n",
       "    <tr>\n",
       "      <th>0</th>\n",
       "      <td>automatic premium loan</td>\n",
       "      <td>An optional provision in life insurance that a...</td>\n",
       "      <td>NaN</td>\n",
       "    </tr>\n",
       "    <tr>\n",
       "      <th>1</th>\n",
       "      <td>Household Goods Transportation Act of 1980</td>\n",
       "      <td>Provided a nonjudicial dispute settlement prog...</td>\n",
       "      <td>NaN</td>\n",
       "    </tr>\n",
       "    <tr>\n",
       "      <th>2</th>\n",
       "      <td>hydrocarbons</td>\n",
       "      <td>A class of organic compounds composed only of ...</td>\n",
       "      <td>NaN</td>\n",
       "    </tr>\n",
       "    <tr>\n",
       "      <th>3</th>\n",
       "      <td>hydraulic fracturing (fracking)</td>\n",
       "      <td>A process in which fractures in hard-to-reach ...</td>\n",
       "      <td>NaN</td>\n",
       "    </tr>\n",
       "    <tr>\n",
       "      <th>4</th>\n",
       "      <td>hybrid plans</td>\n",
       "      <td>Risk financing techniques that are a combinati...</td>\n",
       "      <td>NaN</td>\n",
       "    </tr>\n",
       "  </tbody>\n",
       "</table>\n",
       "</div>"
      ],
      "text/plain": [
       "                                         term  \\\n",
       "0                      automatic premium loan   \n",
       "1  Household Goods Transportation Act of 1980   \n",
       "2                                hydrocarbons   \n",
       "3             hydraulic fracturing (fracking)   \n",
       "4                                hybrid plans   \n",
       "\n",
       "                                                text synonym  \n",
       "0  An optional provision in life insurance that a...     NaN  \n",
       "1  Provided a nonjudicial dispute settlement prog...     NaN  \n",
       "2  A class of organic compounds composed only of ...     NaN  \n",
       "3  A process in which fractures in hard-to-reach ...     NaN  \n",
       "4  Risk financing techniques that are a combinati...     NaN  "
      ]
     },
     "execution_count": 93,
     "metadata": {},
     "output_type": "execute_result"
    }
   ],
   "source": [
    "import pandas as pd\n",
    "\n",
    "df_insurance_terms = pd.read_csv('terms.csv')\n",
    "df_insurance_terms.head()"
   ]
  },
  {
   "cell_type": "code",
   "execution_count": 94,
   "metadata": {},
   "outputs": [
    {
     "name": "stdout",
     "output_type": "stream",
     "text": [
      "<class 'pandas.core.frame.DataFrame'>\n",
      "RangeIndex: 3261 entries, 0 to 3260\n",
      "Data columns (total 3 columns):\n",
      "term       3261 non-null object\n",
      "text       3261 non-null object\n",
      "synonym    18 non-null object\n",
      "dtypes: object(3)\n",
      "memory usage: 76.5+ KB\n"
     ]
    }
   ],
   "source": [
    "df_insurance_terms.info()"
   ]
  },
  {
   "cell_type": "code",
   "execution_count": 95,
   "metadata": {},
   "outputs": [
    {
     "data": {
      "text/html": [
       "<div>\n",
       "<style scoped>\n",
       "    .dataframe tbody tr th:only-of-type {\n",
       "        vertical-align: middle;\n",
       "    }\n",
       "\n",
       "    .dataframe tbody tr th {\n",
       "        vertical-align: top;\n",
       "    }\n",
       "\n",
       "    .dataframe thead th {\n",
       "        text-align: right;\n",
       "    }\n",
       "</style>\n",
       "<table border=\"1\" class=\"dataframe\">\n",
       "  <thead>\n",
       "    <tr style=\"text-align: right;\">\n",
       "      <th></th>\n",
       "      <th>term</th>\n",
       "      <th>text</th>\n",
       "    </tr>\n",
       "  </thead>\n",
       "  <tbody>\n",
       "    <tr>\n",
       "      <th>0</th>\n",
       "      <td>automatic premium loan</td>\n",
       "      <td>An optional provision in life insurance that a...</td>\n",
       "    </tr>\n",
       "    <tr>\n",
       "      <th>1</th>\n",
       "      <td>Household Goods Transportation Act of 1980</td>\n",
       "      <td>Provided a nonjudicial dispute settlement prog...</td>\n",
       "    </tr>\n",
       "    <tr>\n",
       "      <th>2</th>\n",
       "      <td>hydrocarbons</td>\n",
       "      <td>A class of organic compounds composed only of ...</td>\n",
       "    </tr>\n",
       "    <tr>\n",
       "      <th>3</th>\n",
       "      <td>hydraulic fracturing (fracking)</td>\n",
       "      <td>A process in which fractures in hard-to-reach ...</td>\n",
       "    </tr>\n",
       "    <tr>\n",
       "      <th>4</th>\n",
       "      <td>hybrid plans</td>\n",
       "      <td>Risk financing techniques that are a combinati...</td>\n",
       "    </tr>\n",
       "  </tbody>\n",
       "</table>\n",
       "</div>"
      ],
      "text/plain": [
       "                                         term  \\\n",
       "0                      automatic premium loan   \n",
       "1  Household Goods Transportation Act of 1980   \n",
       "2                                hydrocarbons   \n",
       "3             hydraulic fracturing (fracking)   \n",
       "4                                hybrid plans   \n",
       "\n",
       "                                                text  \n",
       "0  An optional provision in life insurance that a...  \n",
       "1  Provided a nonjudicial dispute settlement prog...  \n",
       "2  A class of organic compounds composed only of ...  \n",
       "3  A process in which fractures in hard-to-reach ...  \n",
       "4  Risk financing techniques that are a combinati...  "
      ]
     },
     "execution_count": 95,
     "metadata": {},
     "output_type": "execute_result"
    }
   ],
   "source": [
    "# Only keep term and text\n",
    "df = df_insurance_terms[['term', 'text']]\n",
    "df.head()"
   ]
  },
  {
   "cell_type": "markdown",
   "metadata": {},
   "source": [
    "# Try KMeans clustering on term and text"
   ]
  },
  {
   "cell_type": "code",
   "execution_count": 96,
   "metadata": {},
   "outputs": [
    {
     "data": {
      "text/html": [
       "<div>\n",
       "<style scoped>\n",
       "    .dataframe tbody tr th:only-of-type {\n",
       "        vertical-align: middle;\n",
       "    }\n",
       "\n",
       "    .dataframe tbody tr th {\n",
       "        vertical-align: top;\n",
       "    }\n",
       "\n",
       "    .dataframe thead th {\n",
       "        text-align: right;\n",
       "    }\n",
       "</style>\n",
       "<table border=\"1\" class=\"dataframe\">\n",
       "  <thead>\n",
       "    <tr style=\"text-align: right;\">\n",
       "      <th></th>\n",
       "      <th>term</th>\n",
       "      <th>text</th>\n",
       "      <th>norm_term</th>\n",
       "      <th>norm_text</th>\n",
       "    </tr>\n",
       "  </thead>\n",
       "  <tbody>\n",
       "    <tr>\n",
       "      <th>0</th>\n",
       "      <td>automatic premium loan</td>\n",
       "      <td>An optional provision in life insurance that a...</td>\n",
       "      <td>automatic premium loan</td>\n",
       "      <td>an optional provision in life insurance that a...</td>\n",
       "    </tr>\n",
       "    <tr>\n",
       "      <th>1</th>\n",
       "      <td>Household Goods Transportation Act of 1980</td>\n",
       "      <td>Provided a nonjudicial dispute settlement prog...</td>\n",
       "      <td>household good transportation act of</td>\n",
       "      <td>provided a nonjudicial dispute settlement prog...</td>\n",
       "    </tr>\n",
       "    <tr>\n",
       "      <th>2</th>\n",
       "      <td>hydrocarbons</td>\n",
       "      <td>A class of organic compounds composed only of ...</td>\n",
       "      <td>hydrocarbon</td>\n",
       "      <td>a class of organic compound composed only of c...</td>\n",
       "    </tr>\n",
       "    <tr>\n",
       "      <th>3</th>\n",
       "      <td>hydraulic fracturing (fracking)</td>\n",
       "      <td>A process in which fractures in hard-to-reach ...</td>\n",
       "      <td>hydraulic fracturing fracking</td>\n",
       "      <td>a process in which fracture in hard to reach s...</td>\n",
       "    </tr>\n",
       "    <tr>\n",
       "      <th>4</th>\n",
       "      <td>hybrid plans</td>\n",
       "      <td>Risk financing techniques that are a combinati...</td>\n",
       "      <td>hybrid plan</td>\n",
       "      <td>risk financing technique that are a combinatio...</td>\n",
       "    </tr>\n",
       "  </tbody>\n",
       "</table>\n",
       "</div>"
      ],
      "text/plain": [
       "                                         term  \\\n",
       "0                      automatic premium loan   \n",
       "1  Household Goods Transportation Act of 1980   \n",
       "2                                hydrocarbons   \n",
       "3             hydraulic fracturing (fracking)   \n",
       "4                                hybrid plans   \n",
       "\n",
       "                                                text  \\\n",
       "0  An optional provision in life insurance that a...   \n",
       "1  Provided a nonjudicial dispute settlement prog...   \n",
       "2  A class of organic compounds composed only of ...   \n",
       "3  A process in which fractures in hard-to-reach ...   \n",
       "4  Risk financing techniques that are a combinati...   \n",
       "\n",
       "                              norm_term  \\\n",
       "0                automatic premium loan   \n",
       "1  household good transportation act of   \n",
       "2                           hydrocarbon   \n",
       "3         hydraulic fracturing fracking   \n",
       "4                           hybrid plan   \n",
       "\n",
       "                                           norm_text  \n",
       "0  an optional provision in life insurance that a...  \n",
       "1  provided a nonjudicial dispute settlement prog...  \n",
       "2  a class of organic compound composed only of c...  \n",
       "3  a process in which fracture in hard to reach s...  \n",
       "4  risk financing technique that are a combinatio...  "
      ]
     },
     "execution_count": 96,
     "metadata": {},
     "output_type": "execute_result"
    }
   ],
   "source": [
    "df_kmeans = df.copy()\n",
    "\n",
    "# documents = df_kmeans['text'].str.lower()\n",
    "# labels = df_kmeans['term'].str.lower()\n",
    "# print(len(documents), len(labels), documents.shape, labels.shape)\n",
    "\n",
    "from nltk.stem import WordNetLemmatizer\n",
    "stemmer = WordNetLemmatizer()\n",
    "\n",
    "def normalize_string(string):\n",
    "    '''\n",
    "    normalize original string:\n",
    "    1. remove punctuation\n",
    "    2. use lower case\n",
    "    3. lemmatize\n",
    "    '''\n",
    "    # Remove punctuation\n",
    "    string = re.sub('[<(!?).,*->]', ' ', string)\n",
    "    # Convert to lower case\n",
    "    string = string.lower()\n",
    "    # Lemmatization\n",
    "    string = [stemmer.lemmatize(word) for word in string.split()]\n",
    "    # joint list\n",
    "    return ' '.join(string)\n",
    "    \n",
    "df_kmeans['norm_term'] = df_kmeans['term'].apply(lambda x: normalize_string(x))\n",
    "df_kmeans['norm_text'] = df_kmeans['text'].apply(lambda x: normalize_string(x))\n",
    "\n",
    "df_kmeans.head()"
   ]
  },
  {
   "cell_type": "code",
   "execution_count": 97,
   "metadata": {},
   "outputs": [
    {
     "name": "stdout",
     "output_type": "stream",
     "text": [
      "3261 3261 (3261,) (3261,)\n"
     ]
    }
   ],
   "source": [
    "documents = df_kmeans['norm_text'].str.lower()\n",
    "labels = df_kmeans['norm_term'].str.lower()\n",
    "print(len(documents), len(labels), documents.shape, labels.shape)"
   ]
  },
  {
   "cell_type": "markdown",
   "metadata": {},
   "source": [
    "I want to do the document classification.\n",
    "* Use text (document) to predict term (label)\n",
    "\n",
    "There are 3261 labels (categories). I cannot use `train_test_split()` to split training and test samples because each documents belong different categories. Instead, I can cluster the labels into several groups. And use the text to predict which group it should be.\n",
    "\n",
    "* Try `KMeans()` with n clusters"
   ]
  },
  {
   "cell_type": "code",
   "execution_count": 98,
   "metadata": {},
   "outputs": [],
   "source": [
    "from sklearn.feature_extraction.text import TfidfVectorizer\n",
    "\n",
    "label_vectorizer = TfidfVectorizer(stop_words='english')\n",
    "label_vect = label_vectorizer.fit_transform(labels).toarray()\n",
    "label_words = label_vectorizer.get_feature_names()\n",
    "\n",
    "text_vectorizer = TfidfVectorizer(stop_words='english')\n",
    "text_vect = text_vectorizer.fit_transform(documents).toarray()\n",
    "text_words = text_vectorizer.get_feature_names()"
   ]
  },
  {
   "cell_type": "code",
   "execution_count": 99,
   "metadata": {},
   "outputs": [
    {
     "name": "stdout",
     "output_type": "stream",
     "text": [
      "2677 7261\n"
     ]
    }
   ],
   "source": [
    "print(len(label_words), len(text_words))"
   ]
  },
  {
   "cell_type": "markdown",
   "metadata": {},
   "source": [
    "* Cluster 'term' using default 8 clusters\n",
    "  * kmeans1"
   ]
  },
  {
   "cell_type": "code",
   "execution_count": 100,
   "metadata": {},
   "outputs": [],
   "source": [
    "from sklearn.cluster import KMeans\n",
    "kmeans1 = KMeans().fit(label_vect) # n_cluster=8 by default"
   ]
  },
  {
   "cell_type": "code",
   "execution_count": 101,
   "metadata": {},
   "outputs": [
    {
     "name": "stdout",
     "output_type": "stream",
     "text": [
      "3261\n"
     ]
    },
    {
     "data": {
      "text/plain": [
       "array([7, 3, 7, ..., 7, 7, 7], dtype=int32)"
      ]
     },
     "execution_count": 101,
     "metadata": {},
     "output_type": "execute_result"
    }
   ],
   "source": [
    "print(kmeans1.labels_.size)\n",
    "kmeans1.labels_"
   ]
  },
  {
   "cell_type": "code",
   "execution_count": 102,
   "metadata": {},
   "outputs": [
    {
     "data": {
      "text/plain": [
       "array([0, 1, 2, 3, 4, 5, 6, 7], dtype=int32)"
      ]
     },
     "execution_count": 102,
     "metadata": {},
     "output_type": "execute_result"
    }
   ],
   "source": [
    "import numpy as np\n",
    "np.unique(kmeans1.labels_) # check number of clusters"
   ]
  },
  {
   "cell_type": "code",
   "execution_count": 103,
   "metadata": {},
   "outputs": [
    {
     "data": {
      "text/plain": [
       "array([[ 2.43866934e-03,  2.55141165e-03,  0.00000000e+00, ...,\n",
       "         4.60785923e-19, -2.71050543e-20, -2.05998413e-18],\n",
       "       [-2.71050543e-19, -8.40256684e-19,  0.00000000e+00, ...,\n",
       "         3.52365706e-19, -4.87890978e-19, -1.30104261e-18],\n",
       "       [-3.52365706e-19, -7.04731412e-19,  0.00000000e+00, ...,\n",
       "         2.71050543e-19, -7.04731412e-19, -6.50521303e-19],\n",
       "       ...,\n",
       "       [-2.98155597e-19, -1.89735380e-19,  0.00000000e+00, ...,\n",
       "        -1.08420217e-19, -2.43945489e-19,  1.19262239e-18],\n",
       "       [-2.98155597e-19, -2.71050543e-19,  0.00000000e+00, ...,\n",
       "        -5.42101086e-20, -2.98155597e-19,  1.19262239e-18],\n",
       "       [-7.31836466e-18,  5.50232603e-18,  2.56683045e-04, ...,\n",
       "         2.73898020e-04,  2.70554914e-04,  7.92289658e-04]])"
      ]
     },
     "execution_count": 103,
     "metadata": {},
     "output_type": "execute_result"
    }
   ],
   "source": [
    "kmeans1.cluster_centers_ # cluster center"
   ]
  },
  {
   "cell_type": "code",
   "execution_count": 104,
   "metadata": {},
   "outputs": [
    {
     "name": "stdout",
     "output_type": "stream",
     "text": [
      "(3261,)\n",
      "(8, 2677)\n"
     ]
    }
   ],
   "source": [
    "print(kmeans1.labels_.shape)\n",
    "print(kmeans1.cluster_centers_.shape)"
   ]
  },
  {
   "cell_type": "markdown",
   "metadata": {},
   "source": [
    "* Cluster 'text' using 8 default clusters\n",
    "  * kmeans2"
   ]
  },
  {
   "cell_type": "code",
   "execution_count": 106,
   "metadata": {},
   "outputs": [
    {
     "name": "stdout",
     "output_type": "stream",
     "text": [
      "3261\n",
      "[0 5 5 ... 5 5 2]\n",
      "[0 1 2 3 4 5 6 7]\n",
      "[[ 6.05096521e-04  1.69406589e-19  8.35198178e-04 ...  7.31836466e-19\n",
      "  -2.87313576e-18 -5.55653613e-19]\n",
      " [ 1.24683250e-18  0.00000000e+00  2.27682456e-18 ...  4.33680869e-19\n",
      "  -2.54787511e-18 -5.28548559e-19]\n",
      " [ 1.41640216e-03  3.74486007e-04  1.13009511e-03 ...  1.19262239e-18\n",
      "   1.52184030e-04 -5.96311195e-19]\n",
      " ...\n",
      " [-7.91467586e-18  9.96110746e-19  3.57313107e-04 ...  3.18543371e-04\n",
      "   9.84362302e-04  2.32063544e-04]\n",
      " [ 1.08420217e-18  2.03287907e-20  1.02999206e-18 ... -4.87890978e-19\n",
      "  -1.13841228e-18 -4.20128342e-19]\n",
      " [-1.08420217e-19 -6.77626358e-21 -3.25260652e-19 ...  5.42101086e-20\n",
      "   1.62630326e-19  2.71050543e-20]]\n",
      "(3261,)\n",
      "(8, 7261)\n"
     ]
    }
   ],
   "source": [
    "kmeans2 = KMeans().fit(text_vect) # n_cluster=8 by default\n",
    "\n",
    "print(kmeans2.labels_.size)\n",
    "print(kmeans2.labels_)\n",
    "print(np.unique(kmeans2.labels_))\n",
    "print(kmeans2.cluster_centers_)\n",
    "print(kmeans2.labels_.shape)\n",
    "print(kmeans2.cluster_centers_.shape)"
   ]
  },
  {
   "cell_type": "markdown",
   "metadata": {},
   "source": [
    "* Use different number of clusters\n",
    "  * Optimize k value using elbow method"
   ]
  },
  {
   "cell_type": "code",
   "execution_count": 107,
   "metadata": {},
   "outputs": [],
   "source": [
    "from sklearn.model_selection import GridSearchCV\n",
    "from scipy.spatial.distance import cdist\n",
    "import numpy as np\n",
    "import matplotlib.pyplot as plt\n",
    "\n",
    "# k means determine k\n",
    "def optimize_k(vectors):\n",
    "    distortions = []\n",
    "    for n in range(1, 3001, 500):\n",
    "        kmeans = KMeans(n_clusters=n).fit(vectors)\n",
    "        distortions.append(sum(np.min(cdist(vectors, kmeans.cluster_centers_, 'euclidean'), axis=1)) / vectors.shape[0])\n",
    "    return distortions\n",
    "\n",
    "# Plot the elbow\n",
    "def elbow_plot(distortions):\n",
    "    plt.plot(range(1, 3001, 500), distortions, 'bx-')\n",
    "    plt.xlabel('k')\n",
    "    plt.ylabel('Distortion')\n",
    "    plt.title('The Elbow Method showing the optimal k')\n",
    "    plt.show()"
   ]
  },
  {
   "cell_type": "markdown",
   "metadata": {},
   "source": [
    "* For term"
   ]
  },
  {
   "cell_type": "code",
   "execution_count": 109,
   "metadata": {},
   "outputs": [
    {
     "data": {
      "image/png": "[encoded data removed]",
      "text/plain": [
       "<Figure size 432x288 with 1 Axes>"
      ]
     },
     "metadata": {
      "needs_background": "light"
     },
     "output_type": "display_data"
    }
   ],
   "source": [
    "dist_label = optimize_k(label_vect)\n",
    "elbow_plot(dist_label)"
   ]
  },
  {
   "cell_type": "code",
   "execution_count": 110,
   "metadata": {
    "scrolled": true
   },
   "outputs": [
    {
     "data": {
      "image/png": "[encoded data removed]",
      "text/plain": [
       "<Figure size 432x288 with 1 Axes>"
      ]
     },
     "metadata": {
      "needs_background": "light"
     },
     "output_type": "display_data"
    }
   ],
   "source": [
    "dist_label = optimize_k(text_vect)\n",
    "elbow_plot(dist_label)"
   ]
  },
  {
   "cell_type": "markdown",
   "metadata": {},
   "source": [
    "* No obvious turning point of K\n",
    "  * For term, there is slightly changes in the slop around k = 500.\n",
    "  * For text, the the line almost straight.\n",
    "  \n",
    "* **Conclusion**: The clustering doesn't work for this case."
   ]
  },
  {
   "cell_type": "markdown",
   "metadata": {},
   "source": [
    "# Try to divide 26 groups using the first character\n",
    "\n",
    "* Because a-z has 26 characters, can I divide the term based on the first character?\n",
    "\n",
    "* Normalize term and text\n",
    "  * Lower case\n",
    "  * Remove punctuations\n",
    "  \n",
    "* Use first character to divide into different groups."
   ]
  },
  {
   "cell_type": "code",
   "execution_count": 113,
   "metadata": {},
   "outputs": [
    {
     "data": {
      "text/html": [
       "<div>\n",
       "<style scoped>\n",
       "    .dataframe tbody tr th:only-of-type {\n",
       "        vertical-align: middle;\n",
       "    }\n",
       "\n",
       "    .dataframe tbody tr th {\n",
       "        vertical-align: top;\n",
       "    }\n",
       "\n",
       "    .dataframe thead th {\n",
       "        text-align: right;\n",
       "    }\n",
       "</style>\n",
       "<table border=\"1\" class=\"dataframe\">\n",
       "  <thead>\n",
       "    <tr style=\"text-align: right;\">\n",
       "      <th></th>\n",
       "      <th>term</th>\n",
       "      <th>text</th>\n",
       "      <th>lower_term</th>\n",
       "      <th>lower_text</th>\n",
       "      <th>first_char</th>\n",
       "    </tr>\n",
       "  </thead>\n",
       "  <tbody>\n",
       "    <tr>\n",
       "      <th>0</th>\n",
       "      <td>automatic premium loan</td>\n",
       "      <td>An optional provision in life insurance that a...</td>\n",
       "      <td>automatic premium loan</td>\n",
       "      <td>an optional provision in life insurance that a...</td>\n",
       "      <td>a</td>\n",
       "    </tr>\n",
       "    <tr>\n",
       "      <th>1</th>\n",
       "      <td>Household Goods Transportation Act of 1980</td>\n",
       "      <td>Provided a nonjudicial dispute settlement prog...</td>\n",
       "      <td>household goods transportation act of</td>\n",
       "      <td>provided a nonjudicial dispute settlement prog...</td>\n",
       "      <td>h</td>\n",
       "    </tr>\n",
       "    <tr>\n",
       "      <th>2</th>\n",
       "      <td>hydrocarbons</td>\n",
       "      <td>A class of organic compounds composed only of ...</td>\n",
       "      <td>hydrocarbons</td>\n",
       "      <td>a class of organic compounds composed only of ...</td>\n",
       "      <td>h</td>\n",
       "    </tr>\n",
       "    <tr>\n",
       "      <th>3</th>\n",
       "      <td>hydraulic fracturing (fracking)</td>\n",
       "      <td>A process in which fractures in hard-to-reach ...</td>\n",
       "      <td>hydraulic fracturing fracking</td>\n",
       "      <td>a process in which fractures in hard to reach ...</td>\n",
       "      <td>h</td>\n",
       "    </tr>\n",
       "    <tr>\n",
       "      <th>4</th>\n",
       "      <td>hybrid plans</td>\n",
       "      <td>Risk financing techniques that are a combinati...</td>\n",
       "      <td>hybrid plans</td>\n",
       "      <td>risk financing techniques that are a combinati...</td>\n",
       "      <td>h</td>\n",
       "    </tr>\n",
       "  </tbody>\n",
       "</table>\n",
       "</div>"
      ],
      "text/plain": [
       "                                         term  \\\n",
       "0                      automatic premium loan   \n",
       "1  Household Goods Transportation Act of 1980   \n",
       "2                                hydrocarbons   \n",
       "3             hydraulic fracturing (fracking)   \n",
       "4                                hybrid plans   \n",
       "\n",
       "                                                text  \\\n",
       "0  An optional provision in life insurance that a...   \n",
       "1  Provided a nonjudicial dispute settlement prog...   \n",
       "2  A class of organic compounds composed only of ...   \n",
       "3  A process in which fractures in hard-to-reach ...   \n",
       "4  Risk financing techniques that are a combinati...   \n",
       "\n",
       "                              lower_term  \\\n",
       "0                 automatic premium loan   \n",
       "1  household goods transportation act of   \n",
       "2                           hydrocarbons   \n",
       "3          hydraulic fracturing fracking   \n",
       "4                           hybrid plans   \n",
       "\n",
       "                                          lower_text first_char  \n",
       "0  an optional provision in life insurance that a...          a  \n",
       "1  provided a nonjudicial dispute settlement prog...          h  \n",
       "2  a class of organic compounds composed only of ...          h  \n",
       "3  a process in which fractures in hard to reach ...          h  \n",
       "4  risk financing techniques that are a combinati...          h  "
      ]
     },
     "execution_count": 113,
     "metadata": {},
     "output_type": "execute_result"
    }
   ],
   "source": [
    "df_26 = df.copy()\n",
    "df_26['lower_term'] = df_26['term'].str.lower()\n",
    "df_26['lower_text'] = df_26['text'].str.lower()\n",
    "\n",
    "import re\n",
    "\n",
    "df_26['lower_term'] = df_26['lower_term'].apply(lambda x: ' '.join([i for i in re.sub('[<(!?).,*->]', ' ', x).split()]))\n",
    "df_26['lower_text'] = df_26['lower_text'].apply(lambda x: ' '.join([i for i in re.sub('[<(!?).,*->]', ' ', x).split()]))\n",
    "\n",
    "df_26['first_char'] = df_26['lower_term'].str[0]\n",
    "\n",
    "df_26.head()"
   ]
  },
  {
   "cell_type": "code",
   "execution_count": 114,
   "metadata": {},
   "outputs": [
    {
     "data": {
      "text/plain": [
       "c    394\n",
       "p    295\n",
       "s    251\n",
       "a    240\n",
       "r    223\n",
       "e    210\n",
       "f    187\n",
       "d    177\n",
       "m    160\n",
       "i    157\n",
       "b    148\n",
       "l    140\n",
       "t    112\n",
       "n    111\n",
       "o     89\n",
       "g     79\n",
       "w     76\n",
       "u     59\n",
       "h     57\n",
       "v     45\n",
       "j     21\n",
       "q     13\n",
       "k     10\n",
       "z      4\n",
       "y      3\n",
       "Name: first_char, dtype: int64"
      ]
     },
     "execution_count": 114,
     "metadata": {},
     "output_type": "execute_result"
    }
   ],
   "source": [
    "df_26['first_char'].value_counts()"
   ]
  },
  {
   "cell_type": "code",
   "execution_count": 119,
   "metadata": {},
   "outputs": [
    {
     "name": "stdout",
     "output_type": "stream",
     "text": [
      "c    12.082183\n",
      "p     9.046305\n",
      "s     7.697025\n",
      "a     7.359706\n",
      "r     6.838393\n",
      "e     6.439742\n",
      "f     5.734437\n",
      "d     5.427783\n",
      "m     4.906470\n",
      "i     4.814474\n",
      "b     4.538485\n",
      "l     4.293162\n",
      "t     3.434529\n",
      "n     3.403864\n",
      "o     2.729224\n",
      "g     2.422570\n",
      "w     2.330573\n",
      "u     1.809261\n",
      "h     1.747930\n",
      "v     1.379945\n",
      "j     0.643974\n",
      "q     0.398651\n",
      "k     0.306654\n",
      "z     0.122662\n",
      "y     0.091996\n",
      "Name: first_char, dtype: float64\n"
     ]
    }
   ],
   "source": [
    "percentage = df_26['first_char'].value_counts() / df_26['first_char'].value_counts().sum() * 100\n",
    "print(percentage)"
   ]
  },
  {
   "cell_type": "code",
   "execution_count": 129,
   "metadata": {},
   "outputs": [
    {
     "data": {
      "image/png": "[encoded data removed]",
      "text/plain": [
       "<Figure size 1152x288 with 2 Axes>"
      ]
     },
     "metadata": {
      "needs_background": "light"
     },
     "output_type": "display_data"
    }
   ],
   "source": [
    "import matplotlib.pyplot as plt\n",
    "\n",
    "fig, (ax1, ax2) = plt.subplots(1, 2, figsize=(16, 4))\n",
    "df_26['first_char'].value_counts().plot.bar(ax=ax1)\n",
    "ax1.set_xlabel('Group')\n",
    "ax1.set_ylabel('Counts')\n",
    "\n",
    "percentage.plot(kind='bar', ax=ax2)\n",
    "ax2.set_xlabel('Group')\n",
    "ax2.set_ylabel('Percentage')\n",
    "\n",
    "plt.show()"
   ]
  },
  {
   "cell_type": "markdown",
   "metadata": {},
   "source": [
    "* Use Naive Bayes to categorize group"
   ]
  },
  {
   "cell_type": "code",
   "execution_count": 130,
   "metadata": {},
   "outputs": [
    {
     "data": {
      "text/plain": [
       "Pipeline(memory=None,\n",
       "     steps=[('tfidf', TfidfVectorizer(analyzer='word', binary=False, decode_error='strict',\n",
       "        dtype=<class 'numpy.float64'>, encoding='utf-8', input='content',\n",
       "        lowercase=True, max_df=1.0, max_features=None, min_df=1,\n",
       "        ngram_range=(1, 5), norm='l2', preprocessor=None, smooth_idf=True,...rue,\n",
       "        vocabulary=None)), ('clf', MultinomialNB(alpha=1.0, class_prior=None, fit_prior=True))])"
      ]
     },
     "execution_count": 130,
     "metadata": {},
     "output_type": "execute_result"
    }
   ],
   "source": [
    "from sklearn.model_selection import train_test_split\n",
    "from sklearn.feature_extraction.text import TfidfVectorizer\n",
    "from sklearn.naive_bayes import MultinomialNB\n",
    "from sklearn.pipeline import Pipeline\n",
    "from sklearn.metrics import confusion_matrix, classification_report\n",
    "\n",
    "X_train, X_test, y_train, y_test = train_test_split(df_26['lower_term'].values, df_26['first_char'].values, test_size=0.3, random_state=42)\n",
    "\n",
    "pipe = Pipeline([('tfidf', TfidfVectorizer(analyzer='word', ngram_range=(1, 5), stop_words='english')),\n",
    "                 ('clf', MultinomialNB())\n",
    "                ])\n",
    "\n",
    "pipe.fit(X_train, y_train)"
   ]
  },
  {
   "cell_type": "code",
   "execution_count": 131,
   "metadata": {},
   "outputs": [
    {
     "name": "stdout",
     "output_type": "stream",
     "text": [
      "              precision    recall  f1-score   support\n",
      "\n",
      "           a       0.55      0.28      0.38        74\n",
      "           b       0.20      0.03      0.05        38\n",
      "           c       0.18      0.85      0.30       128\n",
      "           d       0.54      0.13      0.21        53\n",
      "           e       0.53      0.39      0.45        59\n",
      "           f       0.77      0.30      0.43        57\n",
      "           g       1.00      0.15      0.27        13\n",
      "           h       0.00      0.00      0.00        16\n",
      "           i       1.00      0.07      0.12        45\n",
      "           j       0.00      0.00      0.00         2\n",
      "           k       0.00      0.00      0.00         5\n",
      "           l       0.57      0.09      0.15        47\n",
      "           m       0.86      0.11      0.20        53\n",
      "           n       0.00      0.00      0.00        32\n",
      "           o       0.00      0.00      0.00        30\n",
      "           p       0.31      0.44      0.37        95\n",
      "           q       0.00      0.00      0.00         5\n",
      "           r       0.28      0.29      0.28        56\n",
      "           s       0.51      0.36      0.42        77\n",
      "           t       0.00      0.00      0.00        35\n",
      "           u       0.00      0.00      0.00        20\n",
      "           v       0.00      0.00      0.00        16\n",
      "           w       0.00      0.00      0.00        23\n",
      "\n",
      "   micro avg       0.28      0.28      0.28       979\n",
      "   macro avg       0.32      0.15      0.16       979\n",
      "weighted avg       0.40      0.28      0.25       979\n",
      "\n"
     ]
    },
    {
     "name": "stderr",
     "output_type": "stream",
     "text": [
      "/usr/local/anaconda3/lib/python3.6/site-packages/sklearn/metrics/classification.py:1143: UndefinedMetricWarning: Precision and F-score are ill-defined and being set to 0.0 in labels with no predicted samples.\n",
      "  'precision', 'predicted', average, warn_for)\n"
     ]
    }
   ],
   "source": [
    "preds = pipe.predict(X_test)\n",
    "\n",
    "print(classification_report(y_test, preds))"
   ]
  },
  {
   "cell_type": "markdown",
   "metadata": {},
   "source": [
    "* From the classification report, I get very low precision using NB.\n",
    "  * Also try linearSVC and RandomForest but still get low precision."
   ]
  },
  {
   "cell_type": "code",
   "execution_count": 138,
   "metadata": {},
   "outputs": [
    {
     "name": "stdout",
     "output_type": "stream",
     "text": [
      "              precision    recall  f1-score   support\n",
      "\n",
      "           a       0.55      0.28      0.38        74\n",
      "           b       0.20      0.03      0.05        38\n",
      "           c       0.18      0.85      0.30       128\n",
      "           d       0.54      0.13      0.21        53\n",
      "           e       0.53      0.39      0.45        59\n",
      "           f       0.77      0.30      0.43        57\n",
      "           g       1.00      0.15      0.27        13\n",
      "           h       0.00      0.00      0.00        16\n",
      "           i       1.00      0.07      0.12        45\n",
      "           j       0.00      0.00      0.00         2\n",
      "           k       0.00      0.00      0.00         5\n",
      "           l       0.57      0.09      0.15        47\n",
      "           m       0.86      0.11      0.20        53\n",
      "           n       0.00      0.00      0.00        32\n",
      "           o       0.00      0.00      0.00        30\n",
      "           p       0.31      0.44      0.37        95\n",
      "           q       0.00      0.00      0.00         5\n",
      "           r       0.28      0.29      0.28        56\n",
      "           s       0.51      0.36      0.42        77\n",
      "           t       0.00      0.00      0.00        35\n",
      "           u       0.00      0.00      0.00        20\n",
      "           v       0.00      0.00      0.00        16\n",
      "           w       0.00      0.00      0.00        23\n",
      "\n",
      "   micro avg       0.28      0.28      0.28       979\n",
      "   macro avg       0.32      0.15      0.16       979\n",
      "weighted avg       0.40      0.28      0.25       979\n",
      "\n"
     ]
    }
   ],
   "source": [
    "from sklearn.svm import LinearSVC\n",
    "pipe_svm = Pipeline([('tfidf', TfidfVectorizer(analyzer='word', ngram_range=(1, 5), stop_words='english')),\n",
    "                 ('clf', LinearSVC(loss='hinge', C=0.1))\n",
    "                ])\n",
    "\n",
    "pipe_svm.fit(X_train, y_train)\n",
    "\n",
    "preds_svm = pipe.predict(X_test)\n",
    "\n",
    "print(classification_report(y_test, preds_svm))"
   ]
  },
  {
   "cell_type": "code",
   "execution_count": 139,
   "metadata": {},
   "outputs": [
    {
     "name": "stdout",
     "output_type": "stream",
     "text": [
      "              precision    recall  f1-score   support\n",
      "\n",
      "           a       0.55      0.28      0.38        74\n",
      "           b       0.20      0.03      0.05        38\n",
      "           c       0.18      0.85      0.30       128\n",
      "           d       0.54      0.13      0.21        53\n",
      "           e       0.53      0.39      0.45        59\n",
      "           f       0.77      0.30      0.43        57\n",
      "           g       1.00      0.15      0.27        13\n",
      "           h       0.00      0.00      0.00        16\n",
      "           i       1.00      0.07      0.12        45\n",
      "           j       0.00      0.00      0.00         2\n",
      "           k       0.00      0.00      0.00         5\n",
      "           l       0.57      0.09      0.15        47\n",
      "           m       0.86      0.11      0.20        53\n",
      "           n       0.00      0.00      0.00        32\n",
      "           o       0.00      0.00      0.00        30\n",
      "           p       0.31      0.44      0.37        95\n",
      "           q       0.00      0.00      0.00         5\n",
      "           r       0.28      0.29      0.28        56\n",
      "           s       0.51      0.36      0.42        77\n",
      "           t       0.00      0.00      0.00        35\n",
      "           u       0.00      0.00      0.00        20\n",
      "           v       0.00      0.00      0.00        16\n",
      "           w       0.00      0.00      0.00        23\n",
      "\n",
      "   micro avg       0.28      0.28      0.28       979\n",
      "   macro avg       0.32      0.15      0.16       979\n",
      "weighted avg       0.40      0.28      0.25       979\n",
      "\n"
     ]
    },
    {
     "name": "stderr",
     "output_type": "stream",
     "text": [
      "/usr/local/anaconda3/lib/python3.6/site-packages/sklearn/ensemble/forest.py:246: FutureWarning: The default value of n_estimators will change from 10 in version 0.20 to 100 in 0.22.\n",
      "  \"10 in version 0.20 to 100 in 0.22.\", FutureWarning)\n",
      "/usr/local/anaconda3/lib/python3.6/site-packages/sklearn/metrics/classification.py:1143: UndefinedMetricWarning: Precision and F-score are ill-defined and being set to 0.0 in labels with no predicted samples.\n",
      "  'precision', 'predicted', average, warn_for)\n"
     ]
    }
   ],
   "source": [
    "from  sklearn.ensemble import RandomForestClassifier\n",
    "pipe_rf = Pipeline([('tfidf', TfidfVectorizer(analyzer='word', ngram_range=(1, 5), stop_words='english')),\n",
    "                 ('clf', RandomForestClassifier())\n",
    "                ])\n",
    "\n",
    "pipe_rf.fit(X_train, y_train)\n",
    "\n",
    "preds_rf = pipe.predict(X_test)\n",
    "\n",
    "print(classification_report(y_test, preds_rf))"
   ]
  },
  {
   "cell_type": "markdown",
   "metadata": {},
   "source": [
    "* Try to add lemmatization or stemming"
   ]
  },
  {
   "cell_type": "code",
   "execution_count": 133,
   "metadata": {},
   "outputs": [
    {
     "data": {
      "text/plain": [
       "0                             automatic premium loan\n",
       "1               household good transportation act of\n",
       "2                                        hydrocarbon\n",
       "3                      hydraulic fracturing fracking\n",
       "4                                        hybrid plan\n",
       "5                                     hybrid captive\n",
       "6                                        hurdle rate\n",
       "7                                             hybrid\n",
       "8                            job safety analysis jsa\n",
       "9                         improvement and betterment\n",
       "10                                  implied warranty\n",
       "11                                 implied authority\n",
       "12                                           implead\n",
       "13                                impairment capital\n",
       "14                            incorporation doctrine\n",
       "15                              incontestable clause\n",
       "16                      incident reporting provision\n",
       "17                       management advisory service\n",
       "18                     managed care organization mco\n",
       "19                    manufacturer penalty insurance\n",
       "20                  managed care liability insurance\n",
       "21                 managed care coverage endorsement\n",
       "22                                      managed care\n",
       "23                                           malware\n",
       "24                    manufacturer output policy mop\n",
       "25                               market value clause\n",
       "26                               matching deductible\n",
       "27                      master service agreement msa\n",
       "28                                     master policy\n",
       "29           masonry noncombustible construction iso\n",
       "                            ...                     \n",
       "3231                                        rebating\n",
       "3232                                         salvage\n",
       "3233                                   salvage value\n",
       "3234      saline substance contamination endorsement\n",
       "3235                      salesman s sample coverage\n",
       "3236                                            sale\n",
       "3237                                       sale bond\n",
       "3238                            saffir simpson scale\n",
       "3239                                     reciprocity\n",
       "3240    reasonably available control technology ract\n",
       "3241                               reasonable repair\n",
       "3242                 reasonable expectation doctrine\n",
       "3243                        reasonable accommodation\n",
       "3244                             readjustment income\n",
       "3245           real estate broker error and omission\n",
       "3246                             rating organization\n",
       "3247                              rating methodology\n",
       "3248                               rating experience\n",
       "3249                                    rating class\n",
       "3250                        safe depository coverage\n",
       "3251                                            rate\n",
       "3252                                          rating\n",
       "3253                                rate on line rol\n",
       "3254                                    ratable loss\n",
       "3255                                       rainmaker\n",
       "3256                                   real property\n",
       "3257                    railroad sidetrack agreement\n",
       "3258                   railroad protective liability\n",
       "3259                             radius of operation\n",
       "3260                                   rating bureau\n",
       "Name: lower_term, Length: 3261, dtype: object"
      ]
     },
     "execution_count": 133,
     "metadata": {},
     "output_type": "execute_result"
    }
   ],
   "source": [
    "from nltk.stem import WordNetLemmatizer\n",
    "from nltk.stem import PorterStemmer\n",
    "from nltk import word_tokenize\n",
    "\n",
    "lemmatizer = WordNetLemmatizer()\n",
    "stemmer = PorterStemmer()\n",
    "\n",
    "def lemma(string):\n",
    "    tokens = word_tokenize(string)\n",
    "    words = []\n",
    "    for token in tokens:\n",
    "        words.append(lemmatizer.lemmatize(token))\n",
    "    return ' '.join(words)\n",
    "\n",
    "s = df_26['lower_term']\n",
    "s.apply(lambda x: lemma(x))"
   ]
  },
  {
   "cell_type": "code",
   "execution_count": 134,
   "metadata": {},
   "outputs": [
    {
     "data": {
      "text/plain": [
       "0                              [automatic, premium, loan]\n",
       "1             [household, goods, transportation, act, of]\n",
       "2                                          [hydrocarbons]\n",
       "3                       [hydraulic, fracturing, fracking]\n",
       "4                                         [hybrid, plans]\n",
       "5                                       [hybrid, captive]\n",
       "6                                          [hurdle, rate]\n",
       "7                                                [hybrid]\n",
       "8                            [job, safety, analysis, jsa]\n",
       "9                        [improvements, and, betterments]\n",
       "10                                    [implied, warranty]\n",
       "11                                   [implied, authority]\n",
       "12                                              [implead]\n",
       "13                                  [impairment, capital]\n",
       "14                              [incorporation, doctrine]\n",
       "15                                [incontestable, clause]\n",
       "16                       [incident, reporting, provision]\n",
       "17                       [management, advisory, services]\n",
       "18                     [managed, care, organization, mco]\n",
       "19                    [manufacturers, penalty, insurance]\n",
       "20                  [managed, care, liability, insurance]\n",
       "21                 [managed, care, coverage, endorsement]\n",
       "22                                        [managed, care]\n",
       "23                                              [malware]\n",
       "24                   [manufacturers, output, policy, mop]\n",
       "25                                [market, value, clause]\n",
       "26                                 [matching, deductible]\n",
       "27                      [master, service, agreement, msa]\n",
       "28                                       [master, policy]\n",
       "29           [masonry, noncombustible, construction, iso]\n",
       "                              ...                        \n",
       "3231                                           [rebating]\n",
       "3232                                            [salvage]\n",
       "3233                                     [salvage, value]\n",
       "3234     [saline, substances, contamination, endorsement]\n",
       "3235                     [salesmen, s, samples, coverage]\n",
       "3236                                              [sales]\n",
       "3237                                         [sale, bond]\n",
       "3238                             [saffir, simpson, scale]\n",
       "3239                                        [reciprocity]\n",
       "3240    [reasonably, available, control, technology, r...\n",
       "3241                                [reasonable, repairs]\n",
       "3242                 [reasonable, expectations, doctrine]\n",
       "3243                          [reasonable, accommodation]\n",
       "3244                               [readjustment, income]\n",
       "3245      [real, estate, brokers, errors, and, omissions]\n",
       "3246                               [rating, organization]\n",
       "3247                                [rating, methodology]\n",
       "3248                                 [rating, experience]\n",
       "3249                                      [rating, class]\n",
       "3250                         [safe, depository, coverage]\n",
       "3251                                               [rate]\n",
       "3252                                             [rating]\n",
       "3253                                [rate, on, line, rol]\n",
       "3254                                    [ratable, losses]\n",
       "3255                                          [rainmaker]\n",
       "3256                                     [real, property]\n",
       "3257                     [railroad, sidetrack, agreement]\n",
       "3258                    [railroad, protective, liability]\n",
       "3259                             [radius, of, operations]\n",
       "3260                                     [rating, bureau]\n",
       "Name: lower_term, Length: 3261, dtype: object"
      ]
     },
     "execution_count": 134,
     "metadata": {},
     "output_type": "execute_result"
    }
   ],
   "source": [
    "df_26['lower_term'].str.split()"
   ]
  },
  {
   "cell_type": "markdown",
   "metadata": {},
   "source": [
    "* Check term frequency in `df['lower_term']` column"
   ]
  },
  {
   "cell_type": "code",
   "execution_count": 135,
   "metadata": {},
   "outputs": [
    {
     "data": {
      "text/plain": [
       "FreqDist({'fas': 3, 'class insureds': 2, 'terrorism risk insurance program reauthorization act of tripra': 2, 'automatic premium loan': 1, 'household goods transportation act of': 1, 'hydrocarbons': 1, 'hydraulic fracturing fracking': 1, 'hybrid plans': 1, 'hybrid captive': 1, 'hurdle rate': 1, ...})"
      ]
     },
     "execution_count": 135,
     "metadata": {},
     "output_type": "execute_result"
    }
   ],
   "source": [
    "from nltk.probability import FreqDist\n",
    "FreqDist(df_26['lower_term'])"
   ]
  },
  {
   "cell_type": "code",
   "execution_count": 136,
   "metadata": {},
   "outputs": [
    {
     "data": {
      "text/html": [
       "<div>\n",
       "<style scoped>\n",
       "    .dataframe tbody tr th:only-of-type {\n",
       "        vertical-align: middle;\n",
       "    }\n",
       "\n",
       "    .dataframe tbody tr th {\n",
       "        vertical-align: top;\n",
       "    }\n",
       "\n",
       "    .dataframe thead th {\n",
       "        text-align: right;\n",
       "    }\n",
       "</style>\n",
       "<table border=\"1\" class=\"dataframe\">\n",
       "  <thead>\n",
       "    <tr style=\"text-align: right;\">\n",
       "      <th></th>\n",
       "      <th>term</th>\n",
       "      <th>text</th>\n",
       "      <th>lower_term</th>\n",
       "      <th>lower_text</th>\n",
       "      <th>first_char</th>\n",
       "      <th>tokenized_term</th>\n",
       "    </tr>\n",
       "  </thead>\n",
       "  <tbody>\n",
       "    <tr>\n",
       "      <th>0</th>\n",
       "      <td>automatic premium loan</td>\n",
       "      <td>An optional provision in life insurance that a...</td>\n",
       "      <td>automatic premium loan</td>\n",
       "      <td>an optional provision in life insurance that a...</td>\n",
       "      <td>a</td>\n",
       "      <td>[automatic, premium, loan]</td>\n",
       "    </tr>\n",
       "    <tr>\n",
       "      <th>1</th>\n",
       "      <td>Household Goods Transportation Act of 1980</td>\n",
       "      <td>Provided a nonjudicial dispute settlement prog...</td>\n",
       "      <td>household goods transportation act of</td>\n",
       "      <td>provided a nonjudicial dispute settlement prog...</td>\n",
       "      <td>h</td>\n",
       "      <td>[household, goods, transportation, act, of]</td>\n",
       "    </tr>\n",
       "    <tr>\n",
       "      <th>2</th>\n",
       "      <td>hydrocarbons</td>\n",
       "      <td>A class of organic compounds composed only of ...</td>\n",
       "      <td>hydrocarbons</td>\n",
       "      <td>a class of organic compounds composed only of ...</td>\n",
       "      <td>h</td>\n",
       "      <td>[hydrocarbons]</td>\n",
       "    </tr>\n",
       "    <tr>\n",
       "      <th>3</th>\n",
       "      <td>hydraulic fracturing (fracking)</td>\n",
       "      <td>A process in which fractures in hard-to-reach ...</td>\n",
       "      <td>hydraulic fracturing fracking</td>\n",
       "      <td>a process in which fractures in hard to reach ...</td>\n",
       "      <td>h</td>\n",
       "      <td>[hydraulic, fracturing, fracking]</td>\n",
       "    </tr>\n",
       "    <tr>\n",
       "      <th>4</th>\n",
       "      <td>hybrid plans</td>\n",
       "      <td>Risk financing techniques that are a combinati...</td>\n",
       "      <td>hybrid plans</td>\n",
       "      <td>risk financing techniques that are a combinati...</td>\n",
       "      <td>h</td>\n",
       "      <td>[hybrid, plans]</td>\n",
       "    </tr>\n",
       "  </tbody>\n",
       "</table>\n",
       "</div>"
      ],
      "text/plain": [
       "                                         term  \\\n",
       "0                      automatic premium loan   \n",
       "1  Household Goods Transportation Act of 1980   \n",
       "2                                hydrocarbons   \n",
       "3             hydraulic fracturing (fracking)   \n",
       "4                                hybrid plans   \n",
       "\n",
       "                                                text  \\\n",
       "0  An optional provision in life insurance that a...   \n",
       "1  Provided a nonjudicial dispute settlement prog...   \n",
       "2  A class of organic compounds composed only of ...   \n",
       "3  A process in which fractures in hard-to-reach ...   \n",
       "4  Risk financing techniques that are a combinati...   \n",
       "\n",
       "                              lower_term  \\\n",
       "0                 automatic premium loan   \n",
       "1  household goods transportation act of   \n",
       "2                           hydrocarbons   \n",
       "3          hydraulic fracturing fracking   \n",
       "4                           hybrid plans   \n",
       "\n",
       "                                          lower_text first_char  \\\n",
       "0  an optional provision in life insurance that a...          a   \n",
       "1  provided a nonjudicial dispute settlement prog...          h   \n",
       "2  a class of organic compounds composed only of ...          h   \n",
       "3  a process in which fractures in hard to reach ...          h   \n",
       "4  risk financing techniques that are a combinati...          h   \n",
       "\n",
       "                                tokenized_term  \n",
       "0                   [automatic, premium, loan]  \n",
       "1  [household, goods, transportation, act, of]  \n",
       "2                               [hydrocarbons]  \n",
       "3            [hydraulic, fracturing, fracking]  \n",
       "4                              [hybrid, plans]  "
      ]
     },
     "execution_count": 136,
     "metadata": {},
     "output_type": "execute_result"
    }
   ],
   "source": [
    "df_26['tokenized_term'] = df_26.apply(lambda row: word_tokenize(row['lower_term']), axis=1)\n",
    "df_26.head()"
   ]
  },
  {
   "cell_type": "code",
   "execution_count": 140,
   "metadata": {},
   "outputs": [],
   "source": [
    "# Still working on it..."
   ]
  },
  {
   "cell_type": "code",
   "execution_count": null,
   "metadata": {},
   "outputs": [],
   "source": []
  }
 ],
 "metadata": {
  "kernelspec": {
   "display_name": "Python 3",
   "language": "python",
   "name": "python3"
  },
  "language_info": {
   "codemirror_mode": {
    "name": "ipython",
    "version": 3
   },
   "file_extension": ".py",
   "mimetype": "text/x-python",
   "name": "python",
   "nbconvert_exporter": "python",
   "pygments_lexer": "ipython3",
   "version": "3.6.8"
  }
 },
 "nbformat": 4,
 "nbformat_minor": 2
}
