{
 "cells": [
  {
   "cell_type": "markdown",
   "metadata": {},
   "source": [
    "# Yu-Ting Shen\n",
    "\n",
    "# RiskGenius Challenge Project\n",
    "\n",
    "\n",
    "https://www.irmi.com/glossary\n",
    "\n",
    "https://scrapy.org/\n",
    "\n",
    "The IRMI link points to a site with definitions of insurance terms.\n",
    "The Scrapy link is to a library which can extract data from websites.\n",
    "\n",
    "The idea of this project is in 3 parts:\n",
    "\n",
    "1. Scrape and store the IRMI glossary into some data format (maybe SQLite, or .json or something).  Be sure to have at least the definition label and definition text.  Other data might be unnecessary.\n",
    "\n",
    "2. Build a classifier (you can choose the model) and optimize hyperparameters to predict the definition label from the definition text.\n",
    "\n",
    "3. Predict the word that will be in the definition label, instead of the label itself.  Possibly predict the count vector of the definition label in this case.\n",
    "\n",
    "This could have a real application in RiskGenius, as a step toward automatically generating definition labels by predicting the words that would be used in definition labels.  You are likely to find in many cases, words in the definition label cannot be found in the definition text, so keep that in mind.\n",
    "\n",
    "***\n",
    "***\n",
    "***"
   ]
  },
  {
   "cell_type": "markdown",
   "metadata": {},
   "source": [
    "## Load data"
   ]
  },
  {
   "cell_type": "code",
   "execution_count": 5,
   "metadata": {},
   "outputs": [
    {
     "data": {
      "text/html": [
       "<div>\n",
       "<style scoped>\n",
       "    .dataframe tbody tr th:only-of-type {\n",
       "        vertical-align: middle;\n",
       "    }\n",
       "\n",
       "    .dataframe tbody tr th {\n",
       "        vertical-align: top;\n",
       "    }\n",
       "\n",
       "    .dataframe thead th {\n",
       "        text-align: right;\n",
       "    }\n",
       "</style>\n",
       "<table border=\"1\" class=\"dataframe\">\n",
       "  <thead>\n",
       "    <tr style=\"text-align: right;\">\n",
       "      <th></th>\n",
       "      <th>term</th>\n",
       "      <th>text</th>\n",
       "      <th>synonym</th>\n",
       "    </tr>\n",
       "  </thead>\n",
       "  <tbody>\n",
       "    <tr>\n",
       "      <th>0</th>\n",
       "      <td>automatic premium loan</td>\n",
       "      <td>An optional provision in life insurance that a...</td>\n",
       "      <td>NaN</td>\n",
       "    </tr>\n",
       "    <tr>\n",
       "      <th>1</th>\n",
       "      <td>Household Goods Transportation Act of 1980</td>\n",
       "      <td>Provided a nonjudicial dispute settlement prog...</td>\n",
       "      <td>NaN</td>\n",
       "    </tr>\n",
       "    <tr>\n",
       "      <th>2</th>\n",
       "      <td>hydrocarbons</td>\n",
       "      <td>A class of organic compounds composed only of ...</td>\n",
       "      <td>NaN</td>\n",
       "    </tr>\n",
       "    <tr>\n",
       "      <th>3</th>\n",
       "      <td>hydraulic fracturing (fracking)</td>\n",
       "      <td>A process in which fractures in hard-to-reach ...</td>\n",
       "      <td>NaN</td>\n",
       "    </tr>\n",
       "    <tr>\n",
       "      <th>4</th>\n",
       "      <td>hybrid plans</td>\n",
       "      <td>Risk financing techniques that are a combinati...</td>\n",
       "      <td>NaN</td>\n",
       "    </tr>\n",
       "  </tbody>\n",
       "</table>\n",
       "</div>"
      ],
      "text/plain": [
       "                                         term  \\\n",
       "0                      automatic premium loan   \n",
       "1  Household Goods Transportation Act of 1980   \n",
       "2                                hydrocarbons   \n",
       "3             hydraulic fracturing (fracking)   \n",
       "4                                hybrid plans   \n",
       "\n",
       "                                                text synonym  \n",
       "0  An optional provision in life insurance that a...     NaN  \n",
       "1  Provided a nonjudicial dispute settlement prog...     NaN  \n",
       "2  A class of organic compounds composed only of ...     NaN  \n",
       "3  A process in which fractures in hard-to-reach ...     NaN  \n",
       "4  Risk financing techniques that are a combinati...     NaN  "
      ]
     },
     "execution_count": 5,
     "metadata": {},
     "output_type": "execute_result"
    }
   ],
   "source": [
    "import pandas as pd\n",
    "\n",
    "df_insurance_terms = pd.read_csv('terms.csv')\n",
    "df_insurance_terms.head()"
   ]
  },
  {
   "cell_type": "code",
   "execution_count": 6,
   "metadata": {},
   "outputs": [
    {
     "name": "stdout",
     "output_type": "stream",
     "text": [
      "<class 'pandas.core.frame.DataFrame'>\n",
      "RangeIndex: 3261 entries, 0 to 3260\n",
      "Data columns (total 3 columns):\n",
      "term       3261 non-null object\n",
      "text       3261 non-null object\n",
      "synonym    18 non-null object\n",
      "dtypes: object(3)\n",
      "memory usage: 76.5+ KB\n"
     ]
    }
   ],
   "source": [
    "df_insurance_terms.info()"
   ]
  },
  {
   "cell_type": "markdown",
   "metadata": {},
   "source": [
    "Most of the **synonym** are **NaN**, but there are 18 recorders not NaN.\n",
    "\n",
    "List these 18 recorders."
   ]
  },
  {
   "cell_type": "code",
   "execution_count": 7,
   "metadata": {},
   "outputs": [
    {
     "data": {
      "text/html": [
       "<div>\n",
       "<style scoped>\n",
       "    .dataframe tbody tr th:only-of-type {\n",
       "        vertical-align: middle;\n",
       "    }\n",
       "\n",
       "    .dataframe tbody tr th {\n",
       "        vertical-align: top;\n",
       "    }\n",
       "\n",
       "    .dataframe thead th {\n",
       "        text-align: right;\n",
       "    }\n",
       "</style>\n",
       "<table border=\"1\" class=\"dataframe\">\n",
       "  <thead>\n",
       "    <tr style=\"text-align: right;\">\n",
       "      <th></th>\n",
       "      <th>term</th>\n",
       "      <th>text</th>\n",
       "      <th>synonym</th>\n",
       "    </tr>\n",
       "  </thead>\n",
       "  <tbody>\n",
       "    <tr>\n",
       "      <th>215</th>\n",
       "      <td>cost of hire endorsement</td>\n",
       "      <td>A contractors equipment coverage endorsement t...</td>\n",
       "      <td>Rental cost reimbursement endorsement</td>\n",
       "    </tr>\n",
       "    <tr>\n",
       "      <th>273</th>\n",
       "      <td>product disparagement</td>\n",
       "      <td>A standard peril covered under a media profess...</td>\n",
       "      <td>Trade libel</td>\n",
       "    </tr>\n",
       "    <tr>\n",
       "      <th>314</th>\n",
       "      <td>primary insurer</td>\n",
       "      <td>A transaction in which one party  the  reinsur...</td>\n",
       "      <td>Reinsurance</td>\n",
       "    </tr>\n",
       "    <tr>\n",
       "      <th>323</th>\n",
       "      <td>preservation of property</td>\n",
       "      <td>An ocean and inland marine insurance provision...</td>\n",
       "      <td>Sue and labor clause</td>\n",
       "    </tr>\n",
       "    <tr>\n",
       "      <th>578</th>\n",
       "      <td>excess of loss ratio reinsurance</td>\n",
       "      <td>A form of reinsurance also known as  aggregate...</td>\n",
       "      <td>Stop loss</td>\n",
       "    </tr>\n",
       "    <tr>\n",
       "      <th>584</th>\n",
       "      <td>fronted captive</td>\n",
       "      <td>A special-purpose insurer that operates only o...</td>\n",
       "      <td>Reinsurance captive</td>\n",
       "    </tr>\n",
       "    <tr>\n",
       "      <th>593</th>\n",
       "      <td>policy reserve</td>\n",
       "      <td>That portion of the policy premium that has no...</td>\n",
       "      <td>Unearned premium</td>\n",
       "    </tr>\n",
       "    <tr>\n",
       "      <th>769</th>\n",
       "      <td>interrelated claims provisions</td>\n",
       "      <td>Provisions within professional liability insur...</td>\n",
       "      <td>Related claims provisions</td>\n",
       "    </tr>\n",
       "    <tr>\n",
       "      <th>796</th>\n",
       "      <td>buyers  market</td>\n",
       "      <td>One side of the market cycle that is character...</td>\n",
       "      <td>Soft market</td>\n",
       "    </tr>\n",
       "    <tr>\n",
       "      <th>866</th>\n",
       "      <td>inter-insurance exchange</td>\n",
       "      <td>An unincorporated group of individuals or orga...</td>\n",
       "      <td>Reciprocal company</td>\n",
       "    </tr>\n",
       "    <tr>\n",
       "      <th>963</th>\n",
       "      <td>loan participation coverage</td>\n",
       "      <td>A provision of the SAA Financial Institution B...</td>\n",
       "      <td>Securities insuring agreement</td>\n",
       "    </tr>\n",
       "    <tr>\n",
       "      <th>1206</th>\n",
       "      <td>line slip</td>\n",
       "      <td>The piece of paper containing all the pertinen...</td>\n",
       "      <td>Slip</td>\n",
       "    </tr>\n",
       "    <tr>\n",
       "      <th>1348</th>\n",
       "      <td>passive retention</td>\n",
       "      <td>A risk financing term referring to retention o...</td>\n",
       "      <td>Unplanned retention</td>\n",
       "    </tr>\n",
       "    <tr>\n",
       "      <th>1616</th>\n",
       "      <td>manufacturer s selling price endorsement</td>\n",
       "      <td>A property insurance provision or endorsement ...</td>\n",
       "      <td>Selling price clause or endorsement</td>\n",
       "    </tr>\n",
       "    <tr>\n",
       "      <th>1714</th>\n",
       "      <td>off-premises power coverage</td>\n",
       "      <td>Coverage for loss due to lack of incoming elec...</td>\n",
       "      <td>Utility service interruption coverage</td>\n",
       "    </tr>\n",
       "    <tr>\n",
       "      <th>1732</th>\n",
       "      <td>chronological stabilization plans</td>\n",
       "      <td>Financing risk in such a way that the financia...</td>\n",
       "      <td>Risk smoothing</td>\n",
       "    </tr>\n",
       "    <tr>\n",
       "      <th>2101</th>\n",
       "      <td>base premium</td>\n",
       "      <td>In conjunction with retrospective rating  the ...</td>\n",
       "      <td>Subject premium</td>\n",
       "    </tr>\n",
       "    <tr>\n",
       "      <th>2337</th>\n",
       "      <td>asbestos-containing material (ACM)</td>\n",
       "      <td>Friable asbestos material or nonfriable asbest...</td>\n",
       "      <td>Regulated asbestos-containing material</td>\n",
       "    </tr>\n",
       "  </tbody>\n",
       "</table>\n",
       "</div>"
      ],
      "text/plain": [
       "                                          term  \\\n",
       "215                   cost of hire endorsement   \n",
       "273                      product disparagement   \n",
       "314                            primary insurer   \n",
       "323                   preservation of property   \n",
       "578           excess of loss ratio reinsurance   \n",
       "584                            fronted captive   \n",
       "593                             policy reserve   \n",
       "769             interrelated claims provisions   \n",
       "796                             buyers  market   \n",
       "866                   inter-insurance exchange   \n",
       "963                loan participation coverage   \n",
       "1206                                 line slip   \n",
       "1348                         passive retention   \n",
       "1616  manufacturer s selling price endorsement   \n",
       "1714               off-premises power coverage   \n",
       "1732         chronological stabilization plans   \n",
       "2101                              base premium   \n",
       "2337        asbestos-containing material (ACM)   \n",
       "\n",
       "                                                   text  \\\n",
       "215   A contractors equipment coverage endorsement t...   \n",
       "273   A standard peril covered under a media profess...   \n",
       "314   A transaction in which one party  the  reinsur...   \n",
       "323   An ocean and inland marine insurance provision...   \n",
       "578   A form of reinsurance also known as  aggregate...   \n",
       "584   A special-purpose insurer that operates only o...   \n",
       "593   That portion of the policy premium that has no...   \n",
       "769   Provisions within professional liability insur...   \n",
       "796   One side of the market cycle that is character...   \n",
       "866   An unincorporated group of individuals or orga...   \n",
       "963   A provision of the SAA Financial Institution B...   \n",
       "1206  The piece of paper containing all the pertinen...   \n",
       "1348  A risk financing term referring to retention o...   \n",
       "1616  A property insurance provision or endorsement ...   \n",
       "1714  Coverage for loss due to lack of incoming elec...   \n",
       "1732  Financing risk in such a way that the financia...   \n",
       "2101  In conjunction with retrospective rating  the ...   \n",
       "2337  Friable asbestos material or nonfriable asbest...   \n",
       "\n",
       "                                     synonym  \n",
       "215    Rental cost reimbursement endorsement  \n",
       "273                              Trade libel  \n",
       "314                              Reinsurance  \n",
       "323                     Sue and labor clause  \n",
       "578                                Stop loss  \n",
       "584                      Reinsurance captive  \n",
       "593                         Unearned premium  \n",
       "769                Related claims provisions  \n",
       "796                              Soft market  \n",
       "866                       Reciprocal company  \n",
       "963            Securities insuring agreement  \n",
       "1206                                    Slip  \n",
       "1348                     Unplanned retention  \n",
       "1616     Selling price clause or endorsement  \n",
       "1714   Utility service interruption coverage  \n",
       "1732                          Risk smoothing  \n",
       "2101                         Subject premium  \n",
       "2337  Regulated asbestos-containing material  "
      ]
     },
     "execution_count": 7,
     "metadata": {},
     "output_type": "execute_result"
    }
   ],
   "source": [
    "df_insurance_terms[df_insurance_terms['synonym'].notnull()]"
   ]
  },
  {
   "cell_type": "markdown",
   "metadata": {},
   "source": [
    "## Convert into SQL\n",
    "\n",
    "* Using SQLite"
   ]
  },
  {
   "cell_type": "code",
   "execution_count": 8,
   "metadata": {},
   "outputs": [],
   "source": [
    "from sqlalchemy import create_engine\n",
    "\n",
    "engine = create_engine('sqlite:///insurance_terms.sqlite', echo=False)\n",
    "df_insurance_terms.to_sql('insurance_terms', con=engine)"
   ]
  },
  {
   "cell_type": "markdown",
   "metadata": {},
   "source": [
    "* Load the SQL file to check"
   ]
  },
  {
   "cell_type": "code",
   "execution_count": 9,
   "metadata": {},
   "outputs": [
    {
     "name": "stdout",
     "output_type": "stream",
     "text": [
      "['insurance_terms']\n",
      "SELECT * FROM insurance_terms\n"
     ]
    },
    {
     "data": {
      "text/html": [
       "<div>\n",
       "<style scoped>\n",
       "    .dataframe tbody tr th:only-of-type {\n",
       "        vertical-align: middle;\n",
       "    }\n",
       "\n",
       "    .dataframe tbody tr th {\n",
       "        vertical-align: top;\n",
       "    }\n",
       "\n",
       "    .dataframe thead th {\n",
       "        text-align: right;\n",
       "    }\n",
       "</style>\n",
       "<table border=\"1\" class=\"dataframe\">\n",
       "  <thead>\n",
       "    <tr style=\"text-align: right;\">\n",
       "      <th></th>\n",
       "      <th>0</th>\n",
       "      <th>1</th>\n",
       "      <th>2</th>\n",
       "      <th>3</th>\n",
       "    </tr>\n",
       "  </thead>\n",
       "  <tbody>\n",
       "    <tr>\n",
       "      <th>0</th>\n",
       "      <td>0</td>\n",
       "      <td>automatic premium loan</td>\n",
       "      <td>An optional provision in life insurance that a...</td>\n",
       "      <td>None</td>\n",
       "    </tr>\n",
       "    <tr>\n",
       "      <th>1</th>\n",
       "      <td>1</td>\n",
       "      <td>Household Goods Transportation Act of 1980</td>\n",
       "      <td>Provided a nonjudicial dispute settlement prog...</td>\n",
       "      <td>None</td>\n",
       "    </tr>\n",
       "    <tr>\n",
       "      <th>2</th>\n",
       "      <td>2</td>\n",
       "      <td>hydrocarbons</td>\n",
       "      <td>A class of organic compounds composed only of ...</td>\n",
       "      <td>None</td>\n",
       "    </tr>\n",
       "    <tr>\n",
       "      <th>3</th>\n",
       "      <td>3</td>\n",
       "      <td>hydraulic fracturing (fracking)</td>\n",
       "      <td>A process in which fractures in hard-to-reach ...</td>\n",
       "      <td>None</td>\n",
       "    </tr>\n",
       "    <tr>\n",
       "      <th>4</th>\n",
       "      <td>4</td>\n",
       "      <td>hybrid plans</td>\n",
       "      <td>Risk financing techniques that are a combinati...</td>\n",
       "      <td>None</td>\n",
       "    </tr>\n",
       "  </tbody>\n",
       "</table>\n",
       "</div>"
      ],
      "text/plain": [
       "   0                                           1  \\\n",
       "0  0                      automatic premium loan   \n",
       "1  1  Household Goods Transportation Act of 1980   \n",
       "2  2                                hydrocarbons   \n",
       "3  3             hydraulic fracturing (fracking)   \n",
       "4  4                                hybrid plans   \n",
       "\n",
       "                                                   2     3  \n",
       "0  An optional provision in life insurance that a...  None  \n",
       "1  Provided a nonjudicial dispute settlement prog...  None  \n",
       "2  A class of organic compounds composed only of ...  None  \n",
       "3  A process in which fractures in hard-to-reach ...  None  \n",
       "4  Risk financing techniques that are a combinati...  None  "
      ]
     },
     "execution_count": 9,
     "metadata": {},
     "output_type": "execute_result"
    }
   ],
   "source": [
    "engine2 = create_engine('sqlite:///insurance_terms.sqlite')\n",
    "table_names = engine2.table_names()\n",
    "print(table_names)\n",
    "\n",
    "sql_command = 'SELECT * FROM ' + table_names[0]\n",
    "print(sql_command)\n",
    "\n",
    "con = engine2.connect()\n",
    "rs = con.execute(sql_command)\n",
    "df_test_sql = pd.DataFrame(rs.fetchall())\n",
    "df_test_sql.head()"
   ]
  },
  {
   "cell_type": "code",
   "execution_count": 10,
   "metadata": {},
   "outputs": [
    {
     "data": {
      "text/html": [
       "<div>\n",
       "<style scoped>\n",
       "    .dataframe tbody tr th:only-of-type {\n",
       "        vertical-align: middle;\n",
       "    }\n",
       "\n",
       "    .dataframe tbody tr th {\n",
       "        vertical-align: top;\n",
       "    }\n",
       "\n",
       "    .dataframe thead th {\n",
       "        text-align: right;\n",
       "    }\n",
       "</style>\n",
       "<table border=\"1\" class=\"dataframe\">\n",
       "  <thead>\n",
       "    <tr style=\"text-align: right;\">\n",
       "      <th></th>\n",
       "      <th>term</th>\n",
       "      <th>text</th>\n",
       "      <th>synonym</th>\n",
       "    </tr>\n",
       "  </thead>\n",
       "  <tbody>\n",
       "    <tr>\n",
       "      <th>0</th>\n",
       "      <td>automatic premium loan</td>\n",
       "      <td>An optional provision in life insurance that a...</td>\n",
       "      <td>None</td>\n",
       "    </tr>\n",
       "    <tr>\n",
       "      <th>1</th>\n",
       "      <td>Household Goods Transportation Act of 1980</td>\n",
       "      <td>Provided a nonjudicial dispute settlement prog...</td>\n",
       "      <td>None</td>\n",
       "    </tr>\n",
       "    <tr>\n",
       "      <th>2</th>\n",
       "      <td>hydrocarbons</td>\n",
       "      <td>A class of organic compounds composed only of ...</td>\n",
       "      <td>None</td>\n",
       "    </tr>\n",
       "    <tr>\n",
       "      <th>3</th>\n",
       "      <td>hydraulic fracturing (fracking)</td>\n",
       "      <td>A process in which fractures in hard-to-reach ...</td>\n",
       "      <td>None</td>\n",
       "    </tr>\n",
       "    <tr>\n",
       "      <th>4</th>\n",
       "      <td>hybrid plans</td>\n",
       "      <td>Risk financing techniques that are a combinati...</td>\n",
       "      <td>None</td>\n",
       "    </tr>\n",
       "  </tbody>\n",
       "</table>\n",
       "</div>"
      ],
      "text/plain": [
       "                                         term  \\\n",
       "0                      automatic premium loan   \n",
       "1  Household Goods Transportation Act of 1980   \n",
       "2                                hydrocarbons   \n",
       "3             hydraulic fracturing (fracking)   \n",
       "4                                hybrid plans   \n",
       "\n",
       "                                                text synonym  \n",
       "0  An optional provision in life insurance that a...    None  \n",
       "1  Provided a nonjudicial dispute settlement prog...    None  \n",
       "2  A class of organic compounds composed only of ...    None  \n",
       "3  A process in which fractures in hard-to-reach ...    None  \n",
       "4  Risk financing techniques that are a combinati...    None  "
      ]
     },
     "execution_count": 10,
     "metadata": {},
     "output_type": "execute_result"
    }
   ],
   "source": [
    "df_test_sql.columns=['index', 'term', 'text', 'synonym']\n",
    "df_test_sql_2 = df_test_sql.drop(['index'], axis=1)\n",
    "df_test_sql_2.head()"
   ]
  },
  {
   "cell_type": "code",
   "execution_count": 11,
   "metadata": {},
   "outputs": [
    {
     "data": {
      "text/plain": [
       "True"
      ]
     },
     "execution_count": 11,
     "metadata": {},
     "output_type": "execute_result"
    }
   ],
   "source": [
    "# df_test_sql.drop(['index'], axis=1).equals(df_insurance_terms)\n",
    "df_test_sql_2.equals(df_insurance_terms)"
   ]
  },
  {
   "cell_type": "markdown",
   "metadata": {},
   "source": [
    "## Convert into JSON format\n",
    "\n",
    "* From CSV to JSON"
   ]
  },
  {
   "cell_type": "code",
   "execution_count": 32,
   "metadata": {},
   "outputs": [],
   "source": [
    "import json\n",
    "import numpy as np\n",
    "\n",
    "fout = open('insurance_terms.json', 'w')\n",
    "\n",
    "with open('terms.csv', 'r') as fin:\n",
    "    for line in fin:\n",
    "        split_line = line.rstrip().split(',')\n",
    "        if len(split_line) == 3:\n",
    "#             term = split_line[0]\n",
    "#             text = split_line[1]\n",
    "#             synonym = split_line[2]\n",
    "       \n",
    "#             print(term)\n",
    "#             print(text)\n",
    "#             print(synonym)\n",
    "#             print('\\n')\n",
    "            \n",
    "            d = {}\n",
    "            d['term'] = split_line[0]\n",
    "            d['text'] = split_line[1]\n",
    "            d['synonym'] = split_line[2]\n",
    "            \n",
    "            if d['term'] == 'term':\n",
    "                    continue\n",
    "                    \n",
    "#             if d['synonym'] == '':\n",
    "#                 print(d['synonym'])\n",
    "#                 d['synonym'] = np.nan\n",
    "            \n",
    "#             print(json_dict)\n",
    "            json_dict = json.dumps(d)\n",
    "            fout.write(json_dict)\n",
    "            fout.write('\\n')\n",
    "    \n",
    "fout.close()"
   ]
  },
  {
   "cell_type": "markdown",
   "metadata": {},
   "source": [
    "* Load JSON to check"
   ]
  },
  {
   "cell_type": "code",
   "execution_count": 33,
   "metadata": {},
   "outputs": [
    {
     "data": {
      "text/html": [
       "<div>\n",
       "<style scoped>\n",
       "    .dataframe tbody tr th:only-of-type {\n",
       "        vertical-align: middle;\n",
       "    }\n",
       "\n",
       "    .dataframe tbody tr th {\n",
       "        vertical-align: top;\n",
       "    }\n",
       "\n",
       "    .dataframe thead th {\n",
       "        text-align: right;\n",
       "    }\n",
       "</style>\n",
       "<table border=\"1\" class=\"dataframe\">\n",
       "  <thead>\n",
       "    <tr style=\"text-align: right;\">\n",
       "      <th></th>\n",
       "      <th>synonym</th>\n",
       "      <th>term</th>\n",
       "      <th>text</th>\n",
       "    </tr>\n",
       "  </thead>\n",
       "  <tbody>\n",
       "    <tr>\n",
       "      <th>0</th>\n",
       "      <td></td>\n",
       "      <td>automatic premium loan</td>\n",
       "      <td>An optional provision in life insurance that a...</td>\n",
       "    </tr>\n",
       "    <tr>\n",
       "      <th>1</th>\n",
       "      <td></td>\n",
       "      <td>Household Goods Transportation Act of 1980</td>\n",
       "      <td>Provided a nonjudicial dispute settlement prog...</td>\n",
       "    </tr>\n",
       "    <tr>\n",
       "      <th>2</th>\n",
       "      <td></td>\n",
       "      <td>hydrocarbons</td>\n",
       "      <td>A class of organic compounds composed only of ...</td>\n",
       "    </tr>\n",
       "    <tr>\n",
       "      <th>3</th>\n",
       "      <td></td>\n",
       "      <td>hydraulic fracturing (fracking)</td>\n",
       "      <td>A process in which fractures in hard-to-reach ...</td>\n",
       "    </tr>\n",
       "    <tr>\n",
       "      <th>4</th>\n",
       "      <td></td>\n",
       "      <td>hybrid plans</td>\n",
       "      <td>Risk financing techniques that are a combinati...</td>\n",
       "    </tr>\n",
       "  </tbody>\n",
       "</table>\n",
       "</div>"
      ],
      "text/plain": [
       "  synonym                                        term  \\\n",
       "0                              automatic premium loan   \n",
       "1          Household Goods Transportation Act of 1980   \n",
       "2                                        hydrocarbons   \n",
       "3                     hydraulic fracturing (fracking)   \n",
       "4                                        hybrid plans   \n",
       "\n",
       "                                                text  \n",
       "0  An optional provision in life insurance that a...  \n",
       "1  Provided a nonjudicial dispute settlement prog...  \n",
       "2  A class of organic compounds composed only of ...  \n",
       "3  A process in which fractures in hard-to-reach ...  \n",
       "4  Risk financing techniques that are a combinati...  "
      ]
     },
     "execution_count": 33,
     "metadata": {},
     "output_type": "execute_result"
    }
   ],
   "source": [
    "df_test_json = pd.read_json('insurance_terms.json', orient='columns', lines=True)\n",
    "df_test_json.head()"
   ]
  },
  {
   "cell_type": "code",
   "execution_count": 34,
   "metadata": {},
   "outputs": [
    {
     "data": {
      "text/plain": [
       "3261"
      ]
     },
     "execution_count": 34,
     "metadata": {},
     "output_type": "execute_result"
    }
   ],
   "source": [
    "len(df_test_json)"
   ]
  },
  {
   "cell_type": "code",
   "execution_count": 35,
   "metadata": {},
   "outputs": [
    {
     "data": {
      "text/html": [
       "<div>\n",
       "<style scoped>\n",
       "    .dataframe tbody tr th:only-of-type {\n",
       "        vertical-align: middle;\n",
       "    }\n",
       "\n",
       "    .dataframe tbody tr th {\n",
       "        vertical-align: top;\n",
       "    }\n",
       "\n",
       "    .dataframe thead th {\n",
       "        text-align: right;\n",
       "    }\n",
       "</style>\n",
       "<table border=\"1\" class=\"dataframe\">\n",
       "  <thead>\n",
       "    <tr style=\"text-align: right;\">\n",
       "      <th></th>\n",
       "      <th>term</th>\n",
       "      <th>text</th>\n",
       "      <th>synonym</th>\n",
       "    </tr>\n",
       "  </thead>\n",
       "  <tbody>\n",
       "    <tr>\n",
       "      <th>0</th>\n",
       "      <td>automatic premium loan</td>\n",
       "      <td>An optional provision in life insurance that a...</td>\n",
       "      <td></td>\n",
       "    </tr>\n",
       "    <tr>\n",
       "      <th>1</th>\n",
       "      <td>Household Goods Transportation Act of 1980</td>\n",
       "      <td>Provided a nonjudicial dispute settlement prog...</td>\n",
       "      <td></td>\n",
       "    </tr>\n",
       "    <tr>\n",
       "      <th>2</th>\n",
       "      <td>hydrocarbons</td>\n",
       "      <td>A class of organic compounds composed only of ...</td>\n",
       "      <td></td>\n",
       "    </tr>\n",
       "    <tr>\n",
       "      <th>3</th>\n",
       "      <td>hydraulic fracturing (fracking)</td>\n",
       "      <td>A process in which fractures in hard-to-reach ...</td>\n",
       "      <td></td>\n",
       "    </tr>\n",
       "    <tr>\n",
       "      <th>4</th>\n",
       "      <td>hybrid plans</td>\n",
       "      <td>Risk financing techniques that are a combinati...</td>\n",
       "      <td></td>\n",
       "    </tr>\n",
       "  </tbody>\n",
       "</table>\n",
       "</div>"
      ],
      "text/plain": [
       "                                         term  \\\n",
       "0                      automatic premium loan   \n",
       "1  Household Goods Transportation Act of 1980   \n",
       "2                                hydrocarbons   \n",
       "3             hydraulic fracturing (fracking)   \n",
       "4                                hybrid plans   \n",
       "\n",
       "                                                text synonym  \n",
       "0  An optional provision in life insurance that a...          \n",
       "1  Provided a nonjudicial dispute settlement prog...          \n",
       "2  A class of organic compounds composed only of ...          \n",
       "3  A process in which fractures in hard-to-reach ...          \n",
       "4  Risk financing techniques that are a combinati...          "
      ]
     },
     "execution_count": 35,
     "metadata": {},
     "output_type": "execute_result"
    }
   ],
   "source": [
    "cols = ['term', 'text', 'synonym']\n",
    "df_test_json2 = df_test_json[cols].reset_index(drop=True)\n",
    "df_test_json2.head()"
   ]
  },
  {
   "cell_type": "code",
   "execution_count": 36,
   "metadata": {},
   "outputs": [
    {
     "data": {
      "text/plain": [
       "3261"
      ]
     },
     "execution_count": 36,
     "metadata": {},
     "output_type": "execute_result"
    }
   ],
   "source": [
    "len(df_test_json2)"
   ]
  },
  {
   "cell_type": "code",
   "execution_count": 37,
   "metadata": {},
   "outputs": [
    {
     "data": {
      "text/plain": [
       "False"
      ]
     },
     "execution_count": 37,
     "metadata": {},
     "output_type": "execute_result"
    }
   ],
   "source": [
    "df_test_json2.equals(df_insurance_terms)"
   ]
  },
  {
   "cell_type": "markdown",
   "metadata": {},
   "source": [
    "Above is False because synonym is None in `df_insurance_terms` and is empty in `df_test_json2`. Let's compare term and text columns only."
   ]
  },
  {
   "cell_type": "code",
   "execution_count": 38,
   "metadata": {},
   "outputs": [
    {
     "data": {
      "text/html": [
       "<div>\n",
       "<style scoped>\n",
       "    .dataframe tbody tr th:only-of-type {\n",
       "        vertical-align: middle;\n",
       "    }\n",
       "\n",
       "    .dataframe tbody tr th {\n",
       "        vertical-align: top;\n",
       "    }\n",
       "\n",
       "    .dataframe thead th {\n",
       "        text-align: right;\n",
       "    }\n",
       "</style>\n",
       "<table border=\"1\" class=\"dataframe\">\n",
       "  <thead>\n",
       "    <tr style=\"text-align: right;\">\n",
       "      <th></th>\n",
       "      <th>term</th>\n",
       "      <th>text</th>\n",
       "      <th>synonym</th>\n",
       "    </tr>\n",
       "  </thead>\n",
       "  <tbody>\n",
       "    <tr>\n",
       "      <th>0</th>\n",
       "      <td>automatic premium loan</td>\n",
       "      <td>An optional provision in life insurance that a...</td>\n",
       "      <td></td>\n",
       "    </tr>\n",
       "    <tr>\n",
       "      <th>1</th>\n",
       "      <td>Household Goods Transportation Act of 1980</td>\n",
       "      <td>Provided a nonjudicial dispute settlement prog...</td>\n",
       "      <td></td>\n",
       "    </tr>\n",
       "    <tr>\n",
       "      <th>2</th>\n",
       "      <td>hydrocarbons</td>\n",
       "      <td>A class of organic compounds composed only of ...</td>\n",
       "      <td></td>\n",
       "    </tr>\n",
       "    <tr>\n",
       "      <th>3</th>\n",
       "      <td>hydraulic fracturing (fracking)</td>\n",
       "      <td>A process in which fractures in hard-to-reach ...</td>\n",
       "      <td></td>\n",
       "    </tr>\n",
       "    <tr>\n",
       "      <th>4</th>\n",
       "      <td>hybrid plans</td>\n",
       "      <td>Risk financing techniques that are a combinati...</td>\n",
       "      <td></td>\n",
       "    </tr>\n",
       "  </tbody>\n",
       "</table>\n",
       "</div>"
      ],
      "text/plain": [
       "                                         term  \\\n",
       "0                      automatic premium loan   \n",
       "1  Household Goods Transportation Act of 1980   \n",
       "2                                hydrocarbons   \n",
       "3             hydraulic fracturing (fracking)   \n",
       "4                                hybrid plans   \n",
       "\n",
       "                                                text synonym  \n",
       "0  An optional provision in life insurance that a...          \n",
       "1  Provided a nonjudicial dispute settlement prog...          \n",
       "2  A class of organic compounds composed only of ...          \n",
       "3  A process in which fractures in hard-to-reach ...          \n",
       "4  Risk financing techniques that are a combinati...          "
      ]
     },
     "execution_count": 38,
     "metadata": {},
     "output_type": "execute_result"
    }
   ],
   "source": [
    "df_test_json2.head()"
   ]
  },
  {
   "cell_type": "code",
   "execution_count": 39,
   "metadata": {},
   "outputs": [
    {
     "data": {
      "text/html": [
       "<div>\n",
       "<style scoped>\n",
       "    .dataframe tbody tr th:only-of-type {\n",
       "        vertical-align: middle;\n",
       "    }\n",
       "\n",
       "    .dataframe tbody tr th {\n",
       "        vertical-align: top;\n",
       "    }\n",
       "\n",
       "    .dataframe thead th {\n",
       "        text-align: right;\n",
       "    }\n",
       "</style>\n",
       "<table border=\"1\" class=\"dataframe\">\n",
       "  <thead>\n",
       "    <tr style=\"text-align: right;\">\n",
       "      <th></th>\n",
       "      <th>term</th>\n",
       "      <th>text</th>\n",
       "      <th>synonym</th>\n",
       "    </tr>\n",
       "  </thead>\n",
       "  <tbody>\n",
       "    <tr>\n",
       "      <th>0</th>\n",
       "      <td>automatic premium loan</td>\n",
       "      <td>An optional provision in life insurance that a...</td>\n",
       "      <td>NaN</td>\n",
       "    </tr>\n",
       "    <tr>\n",
       "      <th>1</th>\n",
       "      <td>Household Goods Transportation Act of 1980</td>\n",
       "      <td>Provided a nonjudicial dispute settlement prog...</td>\n",
       "      <td>NaN</td>\n",
       "    </tr>\n",
       "    <tr>\n",
       "      <th>2</th>\n",
       "      <td>hydrocarbons</td>\n",
       "      <td>A class of organic compounds composed only of ...</td>\n",
       "      <td>NaN</td>\n",
       "    </tr>\n",
       "    <tr>\n",
       "      <th>3</th>\n",
       "      <td>hydraulic fracturing (fracking)</td>\n",
       "      <td>A process in which fractures in hard-to-reach ...</td>\n",
       "      <td>NaN</td>\n",
       "    </tr>\n",
       "    <tr>\n",
       "      <th>4</th>\n",
       "      <td>hybrid plans</td>\n",
       "      <td>Risk financing techniques that are a combinati...</td>\n",
       "      <td>NaN</td>\n",
       "    </tr>\n",
       "  </tbody>\n",
       "</table>\n",
       "</div>"
      ],
      "text/plain": [
       "                                         term  \\\n",
       "0                      automatic premium loan   \n",
       "1  Household Goods Transportation Act of 1980   \n",
       "2                                hydrocarbons   \n",
       "3             hydraulic fracturing (fracking)   \n",
       "4                                hybrid plans   \n",
       "\n",
       "                                                text synonym  \n",
       "0  An optional provision in life insurance that a...     NaN  \n",
       "1  Provided a nonjudicial dispute settlement prog...     NaN  \n",
       "2  A class of organic compounds composed only of ...     NaN  \n",
       "3  A process in which fractures in hard-to-reach ...     NaN  \n",
       "4  Risk financing techniques that are a combinati...     NaN  "
      ]
     },
     "execution_count": 39,
     "metadata": {},
     "output_type": "execute_result"
    }
   ],
   "source": [
    "df_insurance_terms.head()"
   ]
  },
  {
   "cell_type": "code",
   "execution_count": 40,
   "metadata": {},
   "outputs": [
    {
     "data": {
      "text/plain": [
       "True"
      ]
     },
     "execution_count": 40,
     "metadata": {},
     "output_type": "execute_result"
    }
   ],
   "source": [
    "df_test_json3 = df_test_json2[['term', 'text']]\n",
    "df_test_json3.equals(df_insurance_terms[['term', 'text']])"
   ]
  },
  {
   "cell_type": "code",
   "execution_count": 43,
   "metadata": {},
   "outputs": [
    {
     "data": {
      "text/html": [
       "<div>\n",
       "<style scoped>\n",
       "    .dataframe tbody tr th:only-of-type {\n",
       "        vertical-align: middle;\n",
       "    }\n",
       "\n",
       "    .dataframe tbody tr th {\n",
       "        vertical-align: top;\n",
       "    }\n",
       "\n",
       "    .dataframe thead th {\n",
       "        text-align: right;\n",
       "    }\n",
       "</style>\n",
       "<table border=\"1\" class=\"dataframe\">\n",
       "  <thead>\n",
       "    <tr style=\"text-align: right;\">\n",
       "      <th></th>\n",
       "      <th>term</th>\n",
       "      <th>text</th>\n",
       "    </tr>\n",
       "  </thead>\n",
       "  <tbody>\n",
       "    <tr>\n",
       "      <th>0</th>\n",
       "      <td>automatic premium loan</td>\n",
       "      <td>An optional provision in life insurance that a...</td>\n",
       "    </tr>\n",
       "    <tr>\n",
       "      <th>1</th>\n",
       "      <td>Household Goods Transportation Act of 1980</td>\n",
       "      <td>Provided a nonjudicial dispute settlement prog...</td>\n",
       "    </tr>\n",
       "    <tr>\n",
       "      <th>2</th>\n",
       "      <td>hydrocarbons</td>\n",
       "      <td>A class of organic compounds composed only of ...</td>\n",
       "    </tr>\n",
       "    <tr>\n",
       "      <th>3</th>\n",
       "      <td>hydraulic fracturing (fracking)</td>\n",
       "      <td>A process in which fractures in hard-to-reach ...</td>\n",
       "    </tr>\n",
       "    <tr>\n",
       "      <th>4</th>\n",
       "      <td>hybrid plans</td>\n",
       "      <td>Risk financing techniques that are a combinati...</td>\n",
       "    </tr>\n",
       "  </tbody>\n",
       "</table>\n",
       "</div>"
      ],
      "text/plain": [
       "                                         term  \\\n",
       "0                      automatic premium loan   \n",
       "1  Household Goods Transportation Act of 1980   \n",
       "2                                hydrocarbons   \n",
       "3             hydraulic fracturing (fracking)   \n",
       "4                                hybrid plans   \n",
       "\n",
       "                                                text  \n",
       "0  An optional provision in life insurance that a...  \n",
       "1  Provided a nonjudicial dispute settlement prog...  \n",
       "2  A class of organic compounds composed only of ...  \n",
       "3  A process in which fractures in hard-to-reach ...  \n",
       "4  Risk financing techniques that are a combinati...  "
      ]
     },
     "execution_count": 43,
     "metadata": {},
     "output_type": "execute_result"
    }
   ],
   "source": [
    "df_test_json3.head()"
   ]
  },
  {
   "cell_type": "code",
   "execution_count": 42,
   "metadata": {},
   "outputs": [
    {
     "data": {
      "text/plain": [
       "(3261, 3261)"
      ]
     },
     "execution_count": 42,
     "metadata": {},
     "output_type": "execute_result"
    }
   ],
   "source": [
    "len(df_test_json3), len(df_insurance_terms)"
   ]
  },
  {
   "cell_type": "markdown",
   "metadata": {},
   "source": [
    "* From pandas dataframe to JSON"
   ]
  },
  {
   "cell_type": "code",
   "execution_count": 44,
   "metadata": {},
   "outputs": [],
   "source": [
    "df_insurance_terms.to_json(path_or_buf='insurance_terms_2.json', orient='index')"
   ]
  },
  {
   "cell_type": "code",
   "execution_count": 45,
   "metadata": {},
   "outputs": [
    {
     "data": {
      "text/html": [
       "<div>\n",
       "<style scoped>\n",
       "    .dataframe tbody tr th:only-of-type {\n",
       "        vertical-align: middle;\n",
       "    }\n",
       "\n",
       "    .dataframe tbody tr th {\n",
       "        vertical-align: top;\n",
       "    }\n",
       "\n",
       "    .dataframe thead th {\n",
       "        text-align: right;\n",
       "    }\n",
       "</style>\n",
       "<table border=\"1\" class=\"dataframe\">\n",
       "  <thead>\n",
       "    <tr style=\"text-align: right;\">\n",
       "      <th></th>\n",
       "      <th>synonym</th>\n",
       "      <th>term</th>\n",
       "      <th>text</th>\n",
       "    </tr>\n",
       "  </thead>\n",
       "  <tbody>\n",
       "    <tr>\n",
       "      <th>0</th>\n",
       "      <td>None</td>\n",
       "      <td>automatic premium loan</td>\n",
       "      <td>An optional provision in life insurance that a...</td>\n",
       "    </tr>\n",
       "    <tr>\n",
       "      <th>1</th>\n",
       "      <td>None</td>\n",
       "      <td>Household Goods Transportation Act of 1980</td>\n",
       "      <td>Provided a nonjudicial dispute settlement prog...</td>\n",
       "    </tr>\n",
       "    <tr>\n",
       "      <th>2</th>\n",
       "      <td>None</td>\n",
       "      <td>hydrocarbons</td>\n",
       "      <td>A class of organic compounds composed only of ...</td>\n",
       "    </tr>\n",
       "    <tr>\n",
       "      <th>3</th>\n",
       "      <td>None</td>\n",
       "      <td>hydraulic fracturing (fracking)</td>\n",
       "      <td>A process in which fractures in hard-to-reach ...</td>\n",
       "    </tr>\n",
       "    <tr>\n",
       "      <th>4</th>\n",
       "      <td>None</td>\n",
       "      <td>hybrid plans</td>\n",
       "      <td>Risk financing techniques that are a combinati...</td>\n",
       "    </tr>\n",
       "  </tbody>\n",
       "</table>\n",
       "</div>"
      ],
      "text/plain": [
       "  synonym                                        term  \\\n",
       "0    None                      automatic premium loan   \n",
       "1    None  Household Goods Transportation Act of 1980   \n",
       "2    None                                hydrocarbons   \n",
       "3    None             hydraulic fracturing (fracking)   \n",
       "4    None                                hybrid plans   \n",
       "\n",
       "                                                text  \n",
       "0  An optional provision in life insurance that a...  \n",
       "1  Provided a nonjudicial dispute settlement prog...  \n",
       "2  A class of organic compounds composed only of ...  \n",
       "3  A process in which fractures in hard-to-reach ...  \n",
       "4  Risk financing techniques that are a combinati...  "
      ]
     },
     "execution_count": 45,
     "metadata": {},
     "output_type": "execute_result"
    }
   ],
   "source": [
    "df_test_json4 = pd.read_json('insurance_terms_2.json', orient='index')\n",
    "df_test_json4.head()"
   ]
  },
  {
   "cell_type": "code",
   "execution_count": 46,
   "metadata": {},
   "outputs": [
    {
     "data": {
      "text/html": [
       "<div>\n",
       "<style scoped>\n",
       "    .dataframe tbody tr th:only-of-type {\n",
       "        vertical-align: middle;\n",
       "    }\n",
       "\n",
       "    .dataframe tbody tr th {\n",
       "        vertical-align: top;\n",
       "    }\n",
       "\n",
       "    .dataframe thead th {\n",
       "        text-align: right;\n",
       "    }\n",
       "</style>\n",
       "<table border=\"1\" class=\"dataframe\">\n",
       "  <thead>\n",
       "    <tr style=\"text-align: right;\">\n",
       "      <th></th>\n",
       "      <th>term</th>\n",
       "      <th>text</th>\n",
       "      <th>synonym</th>\n",
       "    </tr>\n",
       "  </thead>\n",
       "  <tbody>\n",
       "    <tr>\n",
       "      <th>0</th>\n",
       "      <td>automatic premium loan</td>\n",
       "      <td>An optional provision in life insurance that a...</td>\n",
       "      <td>None</td>\n",
       "    </tr>\n",
       "    <tr>\n",
       "      <th>1</th>\n",
       "      <td>Household Goods Transportation Act of 1980</td>\n",
       "      <td>Provided a nonjudicial dispute settlement prog...</td>\n",
       "      <td>None</td>\n",
       "    </tr>\n",
       "    <tr>\n",
       "      <th>2</th>\n",
       "      <td>hydrocarbons</td>\n",
       "      <td>A class of organic compounds composed only of ...</td>\n",
       "      <td>None</td>\n",
       "    </tr>\n",
       "    <tr>\n",
       "      <th>3</th>\n",
       "      <td>hydraulic fracturing (fracking)</td>\n",
       "      <td>A process in which fractures in hard-to-reach ...</td>\n",
       "      <td>None</td>\n",
       "    </tr>\n",
       "    <tr>\n",
       "      <th>4</th>\n",
       "      <td>hybrid plans</td>\n",
       "      <td>Risk financing techniques that are a combinati...</td>\n",
       "      <td>None</td>\n",
       "    </tr>\n",
       "  </tbody>\n",
       "</table>\n",
       "</div>"
      ],
      "text/plain": [
       "                                         term  \\\n",
       "0                      automatic premium loan   \n",
       "1  Household Goods Transportation Act of 1980   \n",
       "2                                hydrocarbons   \n",
       "3             hydraulic fracturing (fracking)   \n",
       "4                                hybrid plans   \n",
       "\n",
       "                                                text synonym  \n",
       "0  An optional provision in life insurance that a...    None  \n",
       "1  Provided a nonjudicial dispute settlement prog...    None  \n",
       "2  A class of organic compounds composed only of ...    None  \n",
       "3  A process in which fractures in hard-to-reach ...    None  \n",
       "4  Risk financing techniques that are a combinati...    None  "
      ]
     },
     "execution_count": 46,
     "metadata": {},
     "output_type": "execute_result"
    }
   ],
   "source": [
    "df_test_json4 = df_test_json4[cols]\n",
    "df_test_json4.head()"
   ]
  },
  {
   "cell_type": "code",
   "execution_count": 47,
   "metadata": {},
   "outputs": [
    {
     "data": {
      "text/plain": [
       "True"
      ]
     },
     "execution_count": 47,
     "metadata": {},
     "output_type": "execute_result"
    }
   ],
   "source": [
    "df_test_json4.equals(df_insurance_terms)"
   ]
  },
  {
   "cell_type": "markdown",
   "metadata": {},
   "source": [
    "## Only keep term and text for the analysis"
   ]
  },
  {
   "cell_type": "code",
   "execution_count": 48,
   "metadata": {},
   "outputs": [
    {
     "data": {
      "text/html": [
       "<div>\n",
       "<style scoped>\n",
       "    .dataframe tbody tr th:only-of-type {\n",
       "        vertical-align: middle;\n",
       "    }\n",
       "\n",
       "    .dataframe tbody tr th {\n",
       "        vertical-align: top;\n",
       "    }\n",
       "\n",
       "    .dataframe thead th {\n",
       "        text-align: right;\n",
       "    }\n",
       "</style>\n",
       "<table border=\"1\" class=\"dataframe\">\n",
       "  <thead>\n",
       "    <tr style=\"text-align: right;\">\n",
       "      <th></th>\n",
       "      <th>term</th>\n",
       "      <th>text</th>\n",
       "    </tr>\n",
       "  </thead>\n",
       "  <tbody>\n",
       "    <tr>\n",
       "      <th>0</th>\n",
       "      <td>automatic premium loan</td>\n",
       "      <td>An optional provision in life insurance that a...</td>\n",
       "    </tr>\n",
       "    <tr>\n",
       "      <th>1</th>\n",
       "      <td>Household Goods Transportation Act of 1980</td>\n",
       "      <td>Provided a nonjudicial dispute settlement prog...</td>\n",
       "    </tr>\n",
       "    <tr>\n",
       "      <th>2</th>\n",
       "      <td>hydrocarbons</td>\n",
       "      <td>A class of organic compounds composed only of ...</td>\n",
       "    </tr>\n",
       "    <tr>\n",
       "      <th>3</th>\n",
       "      <td>hydraulic fracturing (fracking)</td>\n",
       "      <td>A process in which fractures in hard-to-reach ...</td>\n",
       "    </tr>\n",
       "    <tr>\n",
       "      <th>4</th>\n",
       "      <td>hybrid plans</td>\n",
       "      <td>Risk financing techniques that are a combinati...</td>\n",
       "    </tr>\n",
       "  </tbody>\n",
       "</table>\n",
       "</div>"
      ],
      "text/plain": [
       "                                         term  \\\n",
       "0                      automatic premium loan   \n",
       "1  Household Goods Transportation Act of 1980   \n",
       "2                                hydrocarbons   \n",
       "3             hydraulic fracturing (fracking)   \n",
       "4                                hybrid plans   \n",
       "\n",
       "                                                text  \n",
       "0  An optional provision in life insurance that a...  \n",
       "1  Provided a nonjudicial dispute settlement prog...  \n",
       "2  A class of organic compounds composed only of ...  \n",
       "3  A process in which fractures in hard-to-reach ...  \n",
       "4  Risk financing techniques that are a combinati...  "
      ]
     },
     "execution_count": 48,
     "metadata": {},
     "output_type": "execute_result"
    }
   ],
   "source": [
    "df_insurance_terms_2 = df_insurance_terms[['term', 'text']]\n",
    "df_insurance_terms_2.head()"
   ]
  },
  {
   "cell_type": "code",
   "execution_count": 49,
   "metadata": {},
   "outputs": [],
   "source": [
    "def dataframe_to_sql(df, table_name):\n",
    "    from sqlalchemy import create_engine\n",
    "\n",
    "    sqlite = 'sqlite:///' + table_name + '.sqlite'\n",
    "    engine = create_engine(sqlite, echo=False)\n",
    "    df.to_sql(table_name, con=engine)"
   ]
  },
  {
   "cell_type": "code",
   "execution_count": 50,
   "metadata": {},
   "outputs": [],
   "source": [
    "dataframe_to_sql(df_insurance_terms_2, 'insurance_terms_2')"
   ]
  },
  {
   "cell_type": "code",
   "execution_count": 51,
   "metadata": {},
   "outputs": [],
   "source": [
    "def csv_to_json(csv_file, json_file):\n",
    "    import json\n",
    "    import numpy as np\n",
    "\n",
    "    fout = open(json_file, 'w')\n",
    "\n",
    "    with open(csv_file, 'r') as fin:\n",
    "        for line in fin:\n",
    "            split_line = line.rstrip().split(',')\n",
    "            if len(split_line) == 3:\n",
    "                d = {}\n",
    "                d['term'] = split_line[0]\n",
    "                d['text'] = split_line[1]\n",
    "#                 d['synonym'] = split_line[2]\n",
    "                json_dict = json.dumps(d)\n",
    "                if d['term'] == 'term':\n",
    "                    continue\n",
    "                fout.write(json_dict)\n",
    "                fout.write('\\n')\n",
    "    \n",
    "    fout.close()"
   ]
  },
  {
   "cell_type": "code",
   "execution_count": 52,
   "metadata": {},
   "outputs": [],
   "source": [
    "csv_to_json('terms.csv', 'insurance_terms_3.json')"
   ]
  },
  {
   "cell_type": "code",
   "execution_count": 53,
   "metadata": {},
   "outputs": [],
   "source": [
    "def dataframe_to_json(df, json_file):\n",
    "    df.to_json(path_or_buf=json_file, orient='index')"
   ]
  },
  {
   "cell_type": "code",
   "execution_count": 54,
   "metadata": {},
   "outputs": [],
   "source": [
    "dataframe_to_json(df_insurance_terms_2, 'insurance_terms_4.json')"
   ]
  },
  {
   "cell_type": "markdown",
   "metadata": {},
   "source": [
    "***\n",
    "***\n",
    "***"
   ]
  },
  {
   "cell_type": "code",
   "execution_count": null,
   "metadata": {},
   "outputs": [],
   "source": []
  }
 ],
 "metadata": {
  "kernelspec": {
   "display_name": "Python 3",
   "language": "python",
   "name": "python3"
  },
  "language_info": {
   "codemirror_mode": {
    "name": "ipython",
    "version": 3
   },
   "file_extension": ".py",
   "mimetype": "text/x-python",
   "name": "python",
   "nbconvert_exporter": "python",
   "pygments_lexer": "ipython3",
   "version": "3.6.8"
  }
 },
 "nbformat": 4,
 "nbformat_minor": 2
}
