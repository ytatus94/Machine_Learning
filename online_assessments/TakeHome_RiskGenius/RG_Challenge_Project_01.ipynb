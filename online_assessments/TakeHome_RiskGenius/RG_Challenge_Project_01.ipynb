{
 "cells": [
  {
   "cell_type": "markdown",
   "metadata": {},
   "source": [
    "# Yu-Ting Shen\n",
    "\n",
    "# RiskGenius Challenge Project\n",
    "\n",
    "\n",
    "https://www.irmi.com/glossary\n",
    "\n",
    "https://scrapy.org/\n",
    "\n",
    "The IRMI link points to a site with definitions of insurance terms.\n",
    "The Scrapy link is to a library which can extract data from websites.\n",
    "\n",
    "The idea of this project is in 3 parts:\n",
    "\n",
    "1. Scrape and store the IRMI glossary into some data format (maybe SQLite, or .json or something).  Be sure to have at least the definition label and definition text.  Other data might be unnecessary.\n",
    "\n",
    "2. Build a classifier (you can choose the model) and optimize hyperparameters to predict the definition label from the definition text.\n",
    "\n",
    "3. Predict the word that will be in the definition label, instead of the label itself.  Possibly predict the count vector of the definition label in this case.\n",
    "\n",
    "This could have a real application in RiskGenius, as a step toward automatically generating definition labels by predicting the words that would be used in definition labels.  You are likely to find in many cases, words in the definition label cannot be found in the definition text, so keep that in mind.\n",
    "\n",
    "***\n",
    "***\n",
    "***"
   ]
  },
  {
   "cell_type": "markdown",
   "metadata": {},
   "source": [
    "# Web Scraping"
   ]
  },
  {
   "cell_type": "markdown",
   "metadata": {},
   "source": [
    "By analyzing the html source, there are 3 kind of links:\n",
    "\n",
    "* Glossary:\n",
    "  * In `<div class=\"glossary-list\">` --> `<ul class=\"pagination\">`--> `<li>` --> `<a href=\"/glossary/1\">1</a>`\n",
    "  * The glossary number runs from `1` to `74`.\n",
    "\n",
    "* Alphabet:\n",
    "  * In `<div class=\"filter-container dropdown\">` --> `<div class=\"alert alert-primary\" style=\"padding:0px;\">` --> `<ul class=\"alpha-filter hidden-xs hidden-sm\" style=\"padding:15px;\">` --> `<li style=\"display:inline-block; padding: 2px;\">` --> `<a class=\"button button-plain button-border button-square\" href=\"https://www.irmi.com/glossary?taxonomy=alphanumeric&amp;propertyName=tags&amp;taxon=a\">`\n",
    "  * The taxon rungs from `a` to `z`\n",
    "  \n",
    "* Terms:\n",
    "  * In `<div class=\"term-list-container row\">` --> `<div class=\"col-md-6\">` --> `<ul class=\"term-list\" style=\"list-style:none; padding:0px;\">` --> `<li >` --> `<span class=\"term-link\">` --> `a  href=\"https://www.irmi.com/term/insurance-definitions/a-rates\">`"
   ]
  },
  {
   "cell_type": "code",
   "execution_count": 1,
   "metadata": {},
   "outputs": [],
   "source": [
    "import scrapy\n",
    "from scrapy.crawler import CrawlerProcess\n",
    "\n",
    "class IRMI_Spider(scrapy.Spider):\n",
    "    name = 'irmi'\n",
    "    start_urls = ['https://www.irmi.com/glossary']\n",
    "    \n",
    "    def parse(self, response):\n",
    "        self.links = response.css('li a.button::attr(href)').extract()\n",
    "        for link in self.links:\n",
    "            "
   ]
  },
  {
   "cell_type": "code",
   "execution_count": 2,
   "metadata": {},
   "outputs": [
    {
     "name": "stderr",
     "output_type": "stream",
     "text": [
      "2019-04-05 18:11:19 [scrapy.utils.log] INFO: Scrapy 1.5.2 started (bot: scrapybot)\n",
      "2019-04-05 18:11:19 [scrapy.utils.log] INFO: Versions: lxml 4.3.3.0, libxml2 2.9.8, cssselect 1.0.3, parsel 1.5.1, w3lib 1.20.0, Twisted 18.9.0, Python 3.6.8 |Anaconda, Inc.| (default, Dec 29 2018, 19:04:46) - [GCC 4.2.1 Compatible Clang 4.0.1 (tags/RELEASE_401/final)], pyOpenSSL 19.0.0 (OpenSSL 1.1.1b  26 Feb 2019), cryptography 2.6.1, Platform Darwin-18.2.0-x86_64-i386-64bit\n",
      "2019-04-05 18:11:19 [scrapy.crawler] INFO: Overridden settings: {}\n",
      "2019-04-05 18:11:19 [scrapy.extensions.telnet] INFO: Telnet Password: bbab153fd6566ecb\n",
      "2019-04-05 18:11:19 [scrapy.middleware] INFO: Enabled extensions:\n",
      "['scrapy.extensions.corestats.CoreStats',\n",
      " 'scrapy.extensions.telnet.TelnetConsole',\n",
      " 'scrapy.extensions.memusage.MemoryUsage',\n",
      " 'scrapy.extensions.logstats.LogStats']\n",
      "2019-04-05 18:11:19 [scrapy.middleware] INFO: Enabled downloader middlewares:\n",
      "['scrapy.downloadermiddlewares.httpauth.HttpAuthMiddleware',\n",
      " 'scrapy.downloadermiddlewares.downloadtimeout.DownloadTimeoutMiddleware',\n",
      " 'scrapy.downloadermiddlewares.defaultheaders.DefaultHeadersMiddleware',\n",
      " 'scrapy.downloadermiddlewares.useragent.UserAgentMiddleware',\n",
      " 'scrapy.downloadermiddlewares.retry.RetryMiddleware',\n",
      " 'scrapy.downloadermiddlewares.redirect.MetaRefreshMiddleware',\n",
      " 'scrapy.downloadermiddlewares.httpcompression.HttpCompressionMiddleware',\n",
      " 'scrapy.downloadermiddlewares.redirect.RedirectMiddleware',\n",
      " 'scrapy.downloadermiddlewares.cookies.CookiesMiddleware',\n",
      " 'scrapy.downloadermiddlewares.httpproxy.HttpProxyMiddleware',\n",
      " 'scrapy.downloadermiddlewares.stats.DownloaderStats']\n",
      "2019-04-05 18:11:19 [scrapy.middleware] INFO: Enabled spider middlewares:\n",
      "['scrapy.spidermiddlewares.httperror.HttpErrorMiddleware',\n",
      " 'scrapy.spidermiddlewares.offsite.OffsiteMiddleware',\n",
      " 'scrapy.spidermiddlewares.referer.RefererMiddleware',\n",
      " 'scrapy.spidermiddlewares.urllength.UrlLengthMiddleware',\n",
      " 'scrapy.spidermiddlewares.depth.DepthMiddleware']\n",
      "2019-04-05 18:11:19 [scrapy.middleware] INFO: Enabled item pipelines:\n",
      "[]\n",
      "2019-04-05 18:11:19 [scrapy.core.engine] INFO: Spider opened\n",
      "2019-04-05 18:11:19 [scrapy.extensions.logstats] INFO: Crawled 0 pages (at 0 pages/min), scraped 0 items (at 0 items/min)\n",
      "2019-04-05 18:11:19 [scrapy.extensions.telnet] DEBUG: Telnet console listening on 127.0.0.1:6024\n",
      "2019-04-05 18:11:20 [scrapy.core.engine] DEBUG: Crawled (200) <GET https://www.irmi.com/glossary> (referer: None)\n",
      "2019-04-05 18:11:20 [scrapy.core.engine] INFO: Closing spider (finished)\n",
      "2019-04-05 18:11:20 [scrapy.statscollectors] INFO: Dumping Scrapy stats:\n",
      "{'downloader/request_bytes': 219,\n",
      " 'downloader/request_count': 1,\n",
      " 'downloader/request_method_count/GET': 1,\n",
      " 'downloader/response_bytes': 17591,\n",
      " 'downloader/response_count': 1,\n",
      " 'downloader/response_status_count/200': 1,\n",
      " 'finish_reason': 'finished',\n",
      " 'finish_time': datetime.datetime(2019, 4, 6, 1, 11, 20, 893915),\n",
      " 'log_count/DEBUG': 2,\n",
      " 'log_count/INFO': 8,\n",
      " 'memusage/max': 83329024,\n",
      " 'memusage/startup': 83324928,\n",
      " 'response_received_count': 1,\n",
      " 'scheduler/dequeued': 1,\n",
      " 'scheduler/dequeued/memory': 1,\n",
      " 'scheduler/enqueued': 1,\n",
      " 'scheduler/enqueued/memory': 1,\n",
      " 'start_time': datetime.datetime(2019, 4, 6, 1, 11, 19, 664869)}\n",
      "2019-04-05 18:11:20 [scrapy.core.engine] INFO: Spider closed (finished)\n"
     ]
    },
    {
     "name": "stdout",
     "output_type": "stream",
     "text": [
      "['https://www.irmi.com/glossary?taxonomy=alphanumeric&propertyName=tags&taxon=a', 'https://www.irmi.com/glossary?taxonomy=alphanumeric&propertyName=tags&taxon=b', 'https://www.irmi.com/glossary?taxonomy=alphanumeric&propertyName=tags&taxon=c', 'https://www.irmi.com/glossary?taxonomy=alphanumeric&propertyName=tags&taxon=d', 'https://www.irmi.com/glossary?taxonomy=alphanumeric&propertyName=tags&taxon=e', 'https://www.irmi.com/glossary?taxonomy=alphanumeric&propertyName=tags&taxon=f', 'https://www.irmi.com/glossary?taxonomy=alphanumeric&propertyName=tags&taxon=g', 'https://www.irmi.com/glossary?taxonomy=alphanumeric&propertyName=tags&taxon=h', 'https://www.irmi.com/glossary?taxonomy=alphanumeric&propertyName=tags&taxon=i', 'https://www.irmi.com/glossary?taxonomy=alphanumeric&propertyName=tags&taxon=j', 'https://www.irmi.com/glossary?taxonomy=alphanumeric&propertyName=tags&taxon=k', 'https://www.irmi.com/glossary?taxonomy=alphanumeric&propertyName=tags&taxon=l', 'https://www.irmi.com/glossary?taxonomy=alphanumeric&propertyName=tags&taxon=m', 'https://www.irmi.com/glossary?taxonomy=alphanumeric&propertyName=tags&taxon=n', 'https://www.irmi.com/glossary?taxonomy=alphanumeric&propertyName=tags&taxon=o', 'https://www.irmi.com/glossary?taxonomy=alphanumeric&propertyName=tags&taxon=p', 'https://www.irmi.com/glossary?taxonomy=alphanumeric&propertyName=tags&taxon=q', 'https://www.irmi.com/glossary?taxonomy=alphanumeric&propertyName=tags&taxon=r', 'https://www.irmi.com/glossary?taxonomy=alphanumeric&propertyName=tags&taxon=s', 'https://www.irmi.com/glossary?taxonomy=alphanumeric&propertyName=tags&taxon=t', 'https://www.irmi.com/glossary?taxonomy=alphanumeric&propertyName=tags&taxon=u', 'https://www.irmi.com/glossary?taxonomy=alphanumeric&propertyName=tags&taxon=v', 'https://www.irmi.com/glossary?taxonomy=alphanumeric&propertyName=tags&taxon=w', 'https://www.irmi.com/glossary?taxonomy=alphanumeric&propertyName=tags&taxon=x', 'https://www.irmi.com/glossary?taxonomy=alphanumeric&propertyName=tags&taxon=y', 'https://www.irmi.com/glossary?taxonomy=alphanumeric&propertyName=tags&taxon=z', '#']\n"
     ]
    }
   ],
   "source": [
    "process = CrawlerProcess()\n",
    "process.crawl(IRMI_Spider)\n",
    "process.start()"
   ]
  },
  {
   "cell_type": "code",
   "execution_count": 1,
   "metadata": {},
   "outputs": [],
   "source": [
    "# Still work on it..."
   ]
  },
  {
   "cell_type": "code",
   "execution_count": null,
   "metadata": {},
   "outputs": [],
   "source": []
  }
 ],
 "metadata": {
  "kernelspec": {
   "display_name": "Python 3",
   "language": "python",
   "name": "python3"
  },
  "language_info": {
   "codemirror_mode": {
    "name": "ipython",
    "version": 3
   },
   "file_extension": ".py",
   "mimetype": "text/x-python",
   "name": "python",
   "nbconvert_exporter": "python",
   "pygments_lexer": "ipython3",
   "version": "3.6.8"
  }
 },
 "nbformat": 4,
 "nbformat_minor": 2
}
