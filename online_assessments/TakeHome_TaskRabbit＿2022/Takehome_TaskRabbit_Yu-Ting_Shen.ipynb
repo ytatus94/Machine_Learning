{
 "cells": [
  {
   "cell_type": "markdown",
   "id": "8b9982ed",
   "metadata": {},
   "source": [
    "# TaskRabbit Take Home Assignment \n",
    "\n",
    "### Applicant: Yu-Ting Shen"
   ]
  },
  {
   "cell_type": "markdown",
   "id": "2e24fe1f",
   "metadata": {},
   "source": [
    "# Question 1:\n",
    "\n",
    "### Some Context:\n",
    "Clients arriving on the platform fill-out a task creation form describing tasks to be done. TaskRabbit’s ranking algorithm generates an ordered list of available Taskers, represented by a tasker_id. (It may be helpful to create a task in the app for more context).\n",
    "\n",
    "For this exercise, a sample data file is provided which contains information about a client’s task search ( represented by a funnel_search_id) . A “funnel_search_id\" can be more clearly defined as an ID that represents a search instance that produced a group of Taskers from which the Client can choose to book given their search criteria.\n",
    "\n",
    "The columns are defined as follows:\n",
    "\n",
    "|Column Name|Description|\n",
    "|:---|:---|\n",
    "|funnel_search_id|unique identifier for this recommendation/instance|\n",
    "|timestamp|time of the search|\n",
    "|tasker_id|unique identifier for the Tasker displayed as a result of the search|\n",
    "|position|the position of the Tasker in the recommendation set, 1 - first, 2 - second, etc.|\n",
    "|hourly_rate|the hourly rate for the Tasker when they were shown|\n",
    "|num_completed_tasks|the number of Tasks the Tasker had completed in that category, when they were shown|\n",
    "|hired|Was the Tasker hired or not? Only one tasker out of a set of recommendations can be hired|\n",
    "|category|the category of work the Client needs help with|\n",
    "\n",
    "### Task: Conduct a brief EDA on the data and build a predictive model. \n",
    "### Deliverable: Jupyter notebook, PDF or laTex of your EDA and Model\n",
    "\n",
    "Notes and constraints\n",
    "* Make sure the submission has your code, relevant plots, etc\n",
    "* Make sure your model selection is supported, or suggested by your EDA\n",
    "* Document any assumptions you’ve made\n",
    "* Include a brief write-up/interpretation of your results\n",
    "* Don’t spend too much time on this task, we are looking for basic proficiency and\n",
    "familiarity, not for complex models.\n",
    "* Include some metric for measuring performance for your predictive model\n",
    "* Don’t worry about hyper-parameter tuning, accuracy, etc"
   ]
  },
  {
   "cell_type": "code",
   "execution_count": 65,
   "id": "e6910ed7",
   "metadata": {},
   "outputs": [
    {
     "data": {
      "text/html": [
       "<div>\n",
       "<style scoped>\n",
       "    .dataframe tbody tr th:only-of-type {\n",
       "        vertical-align: middle;\n",
       "    }\n",
       "\n",
       "    .dataframe tbody tr th {\n",
       "        vertical-align: top;\n",
       "    }\n",
       "\n",
       "    .dataframe thead th {\n",
       "        text-align: right;\n",
       "    }\n",
       "</style>\n",
       "<table border=\"1\" class=\"dataframe\">\n",
       "  <thead>\n",
       "    <tr style=\"text-align: right;\">\n",
       "      <th></th>\n",
       "      <th>funnel_search_id</th>\n",
       "      <th>created_at</th>\n",
       "      <th>tasker_id</th>\n",
       "      <th>position</th>\n",
       "      <th>hourly_rate</th>\n",
       "      <th>num_completed_tasks</th>\n",
       "      <th>hired</th>\n",
       "      <th>category</th>\n",
       "    </tr>\n",
       "  </thead>\n",
       "  <tbody>\n",
       "    <tr>\n",
       "      <th>0</th>\n",
       "      <td>0-0-70cf97d7-37af-4834-901c-ce3ad4893b8c</td>\n",
       "      <td>9/1/17 0:32</td>\n",
       "      <td>1009185352</td>\n",
       "      <td>1</td>\n",
       "      <td>38</td>\n",
       "      <td>151</td>\n",
       "      <td>0</td>\n",
       "      <td>Furniture Assembly</td>\n",
       "    </tr>\n",
       "    <tr>\n",
       "      <th>1</th>\n",
       "      <td>0-0-70cf97d7-37af-4834-901c-ce3ad4893b8c</td>\n",
       "      <td>9/1/17 0:32</td>\n",
       "      <td>1006892359</td>\n",
       "      <td>2</td>\n",
       "      <td>40</td>\n",
       "      <td>193</td>\n",
       "      <td>0</td>\n",
       "      <td>Furniture Assembly</td>\n",
       "    </tr>\n",
       "    <tr>\n",
       "      <th>2</th>\n",
       "      <td>0-0-70cf97d7-37af-4834-901c-ce3ad4893b8c</td>\n",
       "      <td>9/1/17 0:32</td>\n",
       "      <td>1012023956</td>\n",
       "      <td>3</td>\n",
       "      <td>28</td>\n",
       "      <td>0</td>\n",
       "      <td>0</td>\n",
       "      <td>Furniture Assembly</td>\n",
       "    </tr>\n",
       "    <tr>\n",
       "      <th>3</th>\n",
       "      <td>0-0-70cf97d7-37af-4834-901c-ce3ad4893b8c</td>\n",
       "      <td>9/1/17 0:32</td>\n",
       "      <td>1009733517</td>\n",
       "      <td>4</td>\n",
       "      <td>43</td>\n",
       "      <td>303</td>\n",
       "      <td>0</td>\n",
       "      <td>Furniture Assembly</td>\n",
       "    </tr>\n",
       "    <tr>\n",
       "      <th>4</th>\n",
       "      <td>0-0-70cf97d7-37af-4834-901c-ce3ad4893b8c</td>\n",
       "      <td>9/1/17 0:32</td>\n",
       "      <td>1013579273</td>\n",
       "      <td>5</td>\n",
       "      <td>29</td>\n",
       "      <td>39</td>\n",
       "      <td>0</td>\n",
       "      <td>Furniture Assembly</td>\n",
       "    </tr>\n",
       "  </tbody>\n",
       "</table>\n",
       "</div>"
      ],
      "text/plain": [
       "                           funnel_search_id   created_at   tasker_id  \\\n",
       "0  0-0-70cf97d7-37af-4834-901c-ce3ad4893b8c  9/1/17 0:32  1009185352   \n",
       "1  0-0-70cf97d7-37af-4834-901c-ce3ad4893b8c  9/1/17 0:32  1006892359   \n",
       "2  0-0-70cf97d7-37af-4834-901c-ce3ad4893b8c  9/1/17 0:32  1012023956   \n",
       "3  0-0-70cf97d7-37af-4834-901c-ce3ad4893b8c  9/1/17 0:32  1009733517   \n",
       "4  0-0-70cf97d7-37af-4834-901c-ce3ad4893b8c  9/1/17 0:32  1013579273   \n",
       "\n",
       "   position  hourly_rate  num_completed_tasks  hired            category  \n",
       "0         1           38                  151      0  Furniture Assembly  \n",
       "1         2           40                  193      0  Furniture Assembly  \n",
       "2         3           28                    0      0  Furniture Assembly  \n",
       "3         4           43                  303      0  Furniture Assembly  \n",
       "4         5           29                   39      0  Furniture Assembly  "
      ]
     },
     "metadata": {},
     "output_type": "display_data"
    }
   ],
   "source": [
    "import pandas as pd\n",
    "import matplotlib.pyplot as plt\n",
    "import seaborn as sns\n",
    "from IPython.display import display\n",
    "\n",
    "# Load dataset and show the first 5 rows\n",
    "df = pd.read_csv('takehome_data_(2).csv')\n",
    "display(df.head())"
   ]
  },
  {
   "cell_type": "code",
   "execution_count": 66,
   "id": "264fa11e",
   "metadata": {},
   "outputs": [
    {
     "name": "stdout",
     "output_type": "stream",
     "text": [
      "<class 'pandas.core.frame.DataFrame'>\n",
      "RangeIndex: 30000 entries, 0 to 29999\n",
      "Data columns (total 8 columns):\n",
      " #   Column               Non-Null Count  Dtype         \n",
      "---  ------               --------------  -----         \n",
      " 0   funnel_search_id     30000 non-null  object        \n",
      " 1   created_at           30000 non-null  datetime64[ns]\n",
      " 2   tasker_id            30000 non-null  int64         \n",
      " 3   position             30000 non-null  int64         \n",
      " 4   hourly_rate          30000 non-null  int64         \n",
      " 5   num_completed_tasks  30000 non-null  int64         \n",
      " 6   hired                30000 non-null  int64         \n",
      " 7   category             30000 non-null  object        \n",
      "dtypes: datetime64[ns](1), int64(5), object(2)\n",
      "memory usage: 1.8+ MB\n"
     ]
    }
   ],
   "source": [
    "# Because the created_at column is a timestamp, it is better to convert the format into datetime64[ns]\n",
    "df['created_at'] = pd.to_datetime(df['created_at'], infer_datetime_format=True)\n",
    "\n",
    "df.info()"
   ]
  },
  {
   "cell_type": "markdown",
   "id": "3c5ee102",
   "metadata": {},
   "source": [
    "### EAD\n",
    "\n",
    "* Show number of unque values in each column"
   ]
  },
  {
   "cell_type": "code",
   "execution_count": 67,
   "id": "5a9bb68d",
   "metadata": {},
   "outputs": [
    {
     "name": "stdout",
     "output_type": "stream",
     "text": [
      "Number of unique funnel_search_id: 2100\n",
      "Number of unique created_at: 1489\n",
      "Number of unique tasker_id: 830\n",
      "Number of unique position: 15\n",
      "Number of unique hourly_rate: 82\n",
      "Number of unique num_completed_tasks: 964\n",
      "Number of unique hired: 2\n",
      "Number of unique category: 3\n"
     ]
    }
   ],
   "source": [
    "# Print the number of unique items in each column\n",
    "for col in df.columns:\n",
    "    value = df[col].nunique()\n",
    "    print(f'Number of unique {col}: {value}')"
   ]
  },
  {
   "cell_type": "markdown",
   "id": "5d3515f4",
   "metadata": {},
   "source": [
    "#### Now look at `created_at` column\n",
    "\n",
    "Because there is a timestamp column `created_at`, we can\n",
    "* check the date range in the data\n",
    "* create new columns: `date` and `weekday`\n",
    "* count how many searches are made in each date\n",
    "* count how many hire decisions are mand in each date"
   ]
  },
  {
   "cell_type": "code",
   "execution_count": 68,
   "id": "1147edda",
   "metadata": {},
   "outputs": [
    {
     "name": "stdout",
     "output_type": "stream",
     "text": [
      "Date range: 2017-09-01 00:32:00 to 2017-09-30 23:15:00\n"
     ]
    }
   ],
   "source": [
    "min_date = df['created_at'].min()\n",
    "max_date = df['created_at'].max()\n",
    "print(f'Date range: {min_date} to {max_date}')"
   ]
  },
  {
   "cell_type": "code",
   "execution_count": 69,
   "id": "788d16b6",
   "metadata": {},
   "outputs": [
    {
     "name": "stdout",
     "output_type": "stream",
     "text": [
      "Average search per date: 70.0\n",
      "Average hire decision per date: 56.83\n"
     ]
    },
    {
     "data": {
      "image/png": "[encoded data removed]",
      "text/plain": [
       "<Figure size 1440x360 with 2 Axes>"
      ]
     },
     "metadata": {
      "needs_background": "light"
     },
     "output_type": "display_data"
    }
   ],
   "source": [
    "df['date'] = df['created_at'].dt.date\n",
    "df['date'] = pd.to_datetime(df['date'], infer_datetime_format=True)\n",
    "df['weekday'] = df['created_at'].dt.weekday # Monday = 0 and Sunday = 6\n",
    "\n",
    "count_search_per_date = {}\n",
    "count_hire_per_date = {}\n",
    "for d in df['date'].unique():\n",
    "    df_sub = df.loc[df['date']==d]\n",
    "    number_of_search = df_sub['funnel_search_id'].nunique()\n",
    "    number_of_hire_decision = df_sub['hired'].sum()\n",
    "    \n",
    "    count_search_per_date[d] = number_of_search\n",
    "    count_hire_per_date[d] = number_of_hire_decision\n",
    "    \n",
    "# print(count_search_per_date)\n",
    "# print(count_hire_per_date)\n",
    "\n",
    "avg_search = sum(count_search_per_date.values()) / len(count_search_per_date.values())\n",
    "avg_search = round(avg_search, 2)\n",
    "\n",
    "avg_hire = sum(count_hire_per_date.values()) / len(count_hire_per_date.values())\n",
    "avg_hire = round(avg_hire, 2)\n",
    "\n",
    "print(f'Average search per date: {avg_search}')\n",
    "print(f'Average hire decision per date: {avg_hire}')\n",
    "\n",
    "\n",
    "\n",
    "fig, ax = plt.subplots(figsize=(20, 5))\n",
    "ax.plot(count_search_per_date.keys(), count_search_per_date.values(), \n",
    "        marker='o', color='red', label='Number of searchs')\n",
    "ax.set_xlabel('Date')\n",
    "ax.set_ylabel('Number of searches', color='red')\n",
    "ax.set_ylim((20, 130))\n",
    "\n",
    "ax2 = ax.twinx()\n",
    "ax2.plot(count_hire_per_date.keys(), count_hire_per_date.values(), \n",
    "         marker='o', color='blue', label='Number of hire decisions')\n",
    "ax2.set_ylabel('Number of hire decisions been made', color='blue')\n",
    "ax2.set_ylim((20, 130))\n",
    "\n",
    "plt.show()"
   ]
  },
  {
   "cell_type": "markdown",
   "id": "66dc5e93",
   "metadata": {},
   "source": [
    "The above plot shows the blue line (number of hire decisions been made) is lower than the red line (number of search). This means not all the search made a hire decision. Some clients only search the available taskers but they didn't hire any one.\n",
    "\n",
    "There are about 70 searches per day and only 56.83 of the searches had made the hiring decision.\n",
    "\n",
    "Now make a plot which shows the ratio between number of hire decisions been made and number of search for each day."
   ]
  },
  {
   "cell_type": "code",
   "execution_count": 70,
   "id": "d947f889",
   "metadata": {},
   "outputs": [
    {
     "name": "stdout",
     "output_type": "stream",
     "text": [
      "Average hiring decision making ratio = 81.89\n"
     ]
    },
    {
     "data": {
      "image/png": "[encoded data removed]",
      "text/plain": [
       "<Figure size 1440x360 with 1 Axes>"
      ]
     },
     "metadata": {
      "needs_background": "light"
     },
     "output_type": "display_data"
    }
   ],
   "source": [
    "hire_decision_ratio_per_search = {}\n",
    "\n",
    "for d in df['date'].unique():\n",
    "    num_search = count_search_per_date[d]\n",
    "    num_hire_decision = count_hire_per_date[d]\n",
    "    ratio = round(num_hire_decision / num_search * 100, 2)\n",
    "    hire_decision_ratio_per_search[d] = ratio\n",
    "    \n",
    "# print(hire_decision_ratio_per_search)\n",
    "avg_ratio = sum(hire_decision_ratio_per_search.values()) / len(hire_decision_ratio_per_search.values())\n",
    "avg_ratio = round(avg_ratio, 2)\n",
    "print(f'Average hiring decision making ratio = {avg_ratio}')\n",
    "\n",
    "\n",
    "fig, ax = plt.subplots(figsize=(20, 5))\n",
    "ax.plot(hire_decision_ratio_per_search.keys(), hire_decision_ratio_per_search.values(), \n",
    "        marker='o', color='blue')\n",
    "ax.set_xlabel('Date')\n",
    "ax.set_ylabel('Ratio (%)')\n",
    "ax.set_title('Ratio of hiring decision been made per search on each date')\n",
    "ax.set_ylim((60, 100))\n",
    "plt.show()"
   ]
  },
  {
   "cell_type": "markdown",
   "id": "97015f05",
   "metadata": {},
   "source": [
    "#### Now look at `category` column"
   ]
  },
  {
   "cell_type": "code",
   "execution_count": 71,
   "id": "17f77867",
   "metadata": {},
   "outputs": [
    {
     "name": "stdout",
     "output_type": "stream",
     "text": [
      "Categories: ['Furniture Assembly' 'Moving Help' 'Mounting']\n",
      "{'Furniture Assembly': 702, 'Moving Help': 693, 'Mounting': 705}\n",
      "* 33.43% of the searches belong to Furniture Assembly\n",
      "* 33.0% of the searches belong to Moving Help\n",
      "* 33.57% of the searches belong to Mounting\n"
     ]
    },
    {
     "data": {
      "image/png": "[encoded data removed]",
      "text/plain": [
       "<Figure size 1440x360 with 1 Axes>"
      ]
     },
     "metadata": {
      "needs_background": "light"
     },
     "output_type": "display_data"
    }
   ],
   "source": [
    "print(f'Categories: {df[\"category\"].unique()}')\n",
    "\n",
    "\n",
    "count_category_to_search = {}\n",
    "for val in df['category'].unique():\n",
    "    df_sub = df.loc[df['category']==val]\n",
    "    count_category_to_search[val] = df_sub['funnel_search_id'].nunique()\n",
    "\n",
    "print(count_category_to_search)\n",
    "\n",
    "total_searches = sum(count_category_to_search.values())\n",
    "for k, v in count_category_to_search.items():\n",
    "    ratio = round(v / total_searches * 100, 2)\n",
    "    print(f'* {ratio}% of the searches belong to {k}')\n",
    "\n",
    "\n",
    "\n",
    "fig, ax = plt.subplots(figsize=(20, 5))\n",
    "ax.bar(x=range(len(count_category_to_search)), height=count_category_to_search.values())\n",
    "ax.set_xticks(range(len(count_category_to_search)))\n",
    "ax.set_xticklabels(count_category_to_search.keys())\n",
    "ax.set_xlabel('Category')\n",
    "ax.set_ylabel('Number of search')\n",
    "ax.set_ylim((690, 710))\n",
    "ax.set_yticks(range(690, 711, 2))\n",
    "ax.set_title('Number of search in different categories')\n",
    "plt.show()"
   ]
  },
  {
   "cell_type": "markdown",
   "id": "7c6e4beb",
   "metadata": {},
   "source": [
    "There are 3 categories and each of category has similar number of searches.\n",
    "\n",
    "#### Now look at `funnel_search_id` column:\n",
    "\n",
    "* Because one task search (i.e. one `funnel_search_id`) returns 1 to 15 `tasker_id`, I would like to know how many search been made per number of `tasker_id`"
   ]
  },
  {
   "cell_type": "code",
   "execution_count": 72,
   "id": "b27c71ee",
   "metadata": {},
   "outputs": [
    {
     "data": {
      "image/png": "[encoded data removed]",
      "text/plain": [
       "<Figure size 1440x360 with 1 Axes>"
      ]
     },
     "metadata": {
      "needs_background": "light"
     },
     "output_type": "display_data"
    }
   ],
   "source": [
    "\n",
    "\n",
    "from collections import Counter\n",
    "cnt = Counter(df['funnel_search_id'])\n",
    "\n",
    "# Calculate the number of tasker_id per search\n",
    "map_num_tasker_id_and_search = {}\n",
    "for k, v in cnt.items():\n",
    "    # k is the funnel_search_id\n",
    "    # v is the number of returned tasker_id\n",
    "    if v not in map_num_tasker_id_and_search.keys():\n",
    "        map_num_tasker_id_and_search[v] = 1\n",
    "    else:\n",
    "        map_num_tasker_id_and_search[v] += 1\n",
    "        \n",
    "# print(map_num_tasker_id_and_search)\n",
    "# print(sorted(map_num_tasker_id_and_search.items(), key=lambda item: item[0]))\n",
    "\n",
    "x_val = []\n",
    "y_val = []\n",
    "for k, v in map_num_tasker_id_and_search.items():\n",
    "    x_val.append(k)\n",
    "    y_val.append(v)\n",
    "# print(x_val)\n",
    "# print(y_val)\n",
    "# print(sum(y_val))\n",
    "\n",
    "fig, ax = plt.subplots(figsize=(20, 5))\n",
    "# sns.barplot(x=, y=, ax=ax)\n",
    "plt.barh(x_val, y_val)\n",
    "ax.set_ylabel('Number of tasker_id')\n",
    "ax.set_xlabel('Number of search')\n",
    "ax.set_yticks(range(len(x_val)+ 1))\n",
    "plt.show()"
   ]
  },
  {
   "cell_type": "markdown",
   "id": "410daea4",
   "metadata": {},
   "source": [
    "The above plot shows there are \n",
    "* 1906 `funnel_search_id` return 15 different `tasker_id`\n",
    "* 8 `funnel_search_id` return 14 different `tasker_id`\n",
    "* 18 `funnel_search_id` return 13 different `tasker_id`\n",
    "* 13 `funnel_search_id` return 12 different `tasker_id`\n",
    "* 11 `funnel_search_id` return 11 different `tasker_id`\n",
    "* 19 `funnel_search_id` return 10 different `tasker_id`\n",
    "* 10 `funnel_search_id` return 9 different `tasker_id`\n",
    "* 18 `funnel_search_id` return 8 different `tasker_id`\n",
    "* 6 `funnel_search_id` return 7 different `tasker_id`\n",
    "* 19 `funnel_search_id` return 6 different `tasker_id`\n",
    "* 16 `funnel_search_id` return 5 different `tasker_id`\n",
    "* 12 `funnel_search_id` return 4 different `tasker_id`\n",
    "* 7 `funnel_search_id` return 3 different `tasker_id`\n",
    "* 21 `funnel_search_id` return 2 different `tasker_id`\n",
    "* 16 `funnel_search_id` return 1 different `tasker_id`\n",
    "\n",
    "Most of search return 15 available taskers.\n",
    "\n",
    "From the intuition, we assume if the search returns only one `tasker_id`, then this tasker will be hired. If the research returns two `tasker_id`, then one of them will be hired. However, in our previous study, the hiring decisions been made is only about 81% of the search. This means the client might only search but didn't hire anyone. Now I am going to varify this"
   ]
  },
  {
   "cell_type": "code",
   "execution_count": 73,
   "id": "506a4694",
   "metadata": {},
   "outputs": [],
   "source": [
    "# list of funnel_search_id which return number of tasker_id\n",
    "indexes_1 = [] # has 1 tasker_id\n",
    "indexes_2 = [] # has 2 tasker_id\n",
    "indexes_3 = [] # has 3 tasker_id\n",
    "\n",
    "for k, v in cnt.items():\n",
    "    if v == 1:\n",
    "        indexes_1.append(k)\n",
    "    elif v == 2:\n",
    "        indexes_2.append(k)\n",
    "    elif v == 3:\n",
    "        indexes_3.append(k)\n",
    "        \n",
    "# display(df.loc[df['funnel_search_id'].isin(indexes_1)])\n",
    "# display(df.loc[df['funnel_search_id'].isin(indexes_2)])"
   ]
  },
  {
   "cell_type": "code",
   "execution_count": 74,
   "id": "603b03ba",
   "metadata": {},
   "outputs": [
    {
     "data": {
      "text/html": [
       "<div>\n",
       "<style scoped>\n",
       "    .dataframe tbody tr th:only-of-type {\n",
       "        vertical-align: middle;\n",
       "    }\n",
       "\n",
       "    .dataframe tbody tr th {\n",
       "        vertical-align: top;\n",
       "    }\n",
       "\n",
       "    .dataframe thead th {\n",
       "        text-align: right;\n",
       "    }\n",
       "</style>\n",
       "<table border=\"1\" class=\"dataframe\">\n",
       "  <thead>\n",
       "    <tr style=\"text-align: right;\">\n",
       "      <th></th>\n",
       "      <th>funnel_search_id</th>\n",
       "      <th>created_at</th>\n",
       "      <th>tasker_id</th>\n",
       "      <th>position</th>\n",
       "      <th>hourly_rate</th>\n",
       "      <th>num_completed_tasks</th>\n",
       "      <th>hired</th>\n",
       "      <th>category</th>\n",
       "      <th>date</th>\n",
       "      <th>weekday</th>\n",
       "    </tr>\n",
       "  </thead>\n",
       "  <tbody>\n",
       "    <tr>\n",
       "      <th>474</th>\n",
       "      <td>0-0-a8505aa9-636a-4c8a-aac1-109090d04fda</td>\n",
       "      <td>2017-09-01 16:22:00</td>\n",
       "      <td>1008042586</td>\n",
       "      <td>1</td>\n",
       "      <td>65</td>\n",
       "      <td>452</td>\n",
       "      <td>0</td>\n",
       "      <td>Mounting</td>\n",
       "      <td>2017-09-01</td>\n",
       "      <td>4</td>\n",
       "    </tr>\n",
       "    <tr>\n",
       "      <th>475</th>\n",
       "      <td>0-0-b34b79e8-27ad-43eb-9e8f-b5313d1f53fc</td>\n",
       "      <td>2017-09-01 16:22:00</td>\n",
       "      <td>1008042586</td>\n",
       "      <td>1</td>\n",
       "      <td>65</td>\n",
       "      <td>452</td>\n",
       "      <td>0</td>\n",
       "      <td>Mounting</td>\n",
       "      <td>2017-09-01</td>\n",
       "      <td>4</td>\n",
       "    </tr>\n",
       "  </tbody>\n",
       "</table>\n",
       "</div>"
      ],
      "text/plain": [
       "                             funnel_search_id          created_at   tasker_id  \\\n",
       "474  0-0-a8505aa9-636a-4c8a-aac1-109090d04fda 2017-09-01 16:22:00  1008042586   \n",
       "475  0-0-b34b79e8-27ad-43eb-9e8f-b5313d1f53fc 2017-09-01 16:22:00  1008042586   \n",
       "\n",
       "     position  hourly_rate  num_completed_tasks  hired  category       date  \\\n",
       "474         1           65                  452      0  Mounting 2017-09-01   \n",
       "475         1           65                  452      0  Mounting 2017-09-01   \n",
       "\n",
       "     weekday  \n",
       "474        4  \n",
       "475        4  "
      ]
     },
     "execution_count": 74,
     "metadata": {},
     "output_type": "execute_result"
    }
   ],
   "source": [
    "df.loc[\n",
    "    (df['funnel_search_id']=='0-0-a8505aa9-636a-4c8a-aac1-109090d04fda') |\n",
    "    (df['funnel_search_id']=='0-0-b34b79e8-27ad-43eb-9e8f-b5313d1f53fc')\n",
    "]"
   ]
  },
  {
   "cell_type": "markdown",
   "id": "552f5b04",
   "metadata": {},
   "source": [
    "The above example shows there is only one `tasker_id` available for `funnel_search_id=0-0-a8505aa9-636a-4c8a-aac1-109090d04fda` and `funnel_search_id=0-0-b34b79e8-27ad-43eb-9e8f-b5313d1f53fc`, the tasker didn't get hired.\""
   ]
  },
  {
   "cell_type": "code",
   "execution_count": 75,
   "id": "cbb087e6",
   "metadata": {},
   "outputs": [
    {
     "data": {
      "text/html": [
       "<div>\n",
       "<style scoped>\n",
       "    .dataframe tbody tr th:only-of-type {\n",
       "        vertical-align: middle;\n",
       "    }\n",
       "\n",
       "    .dataframe tbody tr th {\n",
       "        vertical-align: top;\n",
       "    }\n",
       "\n",
       "    .dataframe thead th {\n",
       "        text-align: right;\n",
       "    }\n",
       "</style>\n",
       "<table border=\"1\" class=\"dataframe\">\n",
       "  <thead>\n",
       "    <tr style=\"text-align: right;\">\n",
       "      <th></th>\n",
       "      <th>funnel_search_id</th>\n",
       "      <th>created_at</th>\n",
       "      <th>tasker_id</th>\n",
       "      <th>position</th>\n",
       "      <th>hourly_rate</th>\n",
       "      <th>num_completed_tasks</th>\n",
       "      <th>hired</th>\n",
       "      <th>category</th>\n",
       "      <th>date</th>\n",
       "      <th>weekday</th>\n",
       "    </tr>\n",
       "  </thead>\n",
       "  <tbody>\n",
       "    <tr>\n",
       "      <th>6209</th>\n",
       "      <td>0-0-6c3909bb-f721-4df6-90bf-9668aa8376ca</td>\n",
       "      <td>2017-09-07 19:54:00</td>\n",
       "      <td>1013597448</td>\n",
       "      <td>1</td>\n",
       "      <td>44</td>\n",
       "      <td>17</td>\n",
       "      <td>0</td>\n",
       "      <td>Mounting</td>\n",
       "      <td>2017-09-07</td>\n",
       "      <td>3</td>\n",
       "    </tr>\n",
       "    <tr>\n",
       "      <th>6210</th>\n",
       "      <td>0-0-6c3909bb-f721-4df6-90bf-9668aa8376ca</td>\n",
       "      <td>2017-09-07 19:54:00</td>\n",
       "      <td>1014586046</td>\n",
       "      <td>2</td>\n",
       "      <td>85</td>\n",
       "      <td>338</td>\n",
       "      <td>0</td>\n",
       "      <td>Mounting</td>\n",
       "      <td>2017-09-07</td>\n",
       "      <td>3</td>\n",
       "    </tr>\n",
       "    <tr>\n",
       "      <th>9771</th>\n",
       "      <td>0-0-8523fb44-74dd-4795-bade-88b63090289c</td>\n",
       "      <td>2017-09-11 18:55:00</td>\n",
       "      <td>1012164831</td>\n",
       "      <td>1</td>\n",
       "      <td>75</td>\n",
       "      <td>17</td>\n",
       "      <td>0</td>\n",
       "      <td>Furniture Assembly</td>\n",
       "      <td>2017-09-11</td>\n",
       "      <td>0</td>\n",
       "    </tr>\n",
       "    <tr>\n",
       "      <th>9772</th>\n",
       "      <td>0-0-8523fb44-74dd-4795-bade-88b63090289c</td>\n",
       "      <td>2017-09-11 18:55:00</td>\n",
       "      <td>1014157578</td>\n",
       "      <td>2</td>\n",
       "      <td>100</td>\n",
       "      <td>236</td>\n",
       "      <td>0</td>\n",
       "      <td>Furniture Assembly</td>\n",
       "      <td>2017-09-11</td>\n",
       "      <td>0</td>\n",
       "    </tr>\n",
       "    <tr>\n",
       "      <th>25167</th>\n",
       "      <td>0-0-66c45202-5eaf-4ca2-8a54-7324c4de54ec</td>\n",
       "      <td>2017-09-26 19:14:00</td>\n",
       "      <td>1007283421</td>\n",
       "      <td>1</td>\n",
       "      <td>75</td>\n",
       "      <td>169</td>\n",
       "      <td>0</td>\n",
       "      <td>Moving Help</td>\n",
       "      <td>2017-09-26</td>\n",
       "      <td>1</td>\n",
       "    </tr>\n",
       "    <tr>\n",
       "      <th>25168</th>\n",
       "      <td>0-0-66c45202-5eaf-4ca2-8a54-7324c4de54ec</td>\n",
       "      <td>2017-09-26 19:14:00</td>\n",
       "      <td>1014251534</td>\n",
       "      <td>2</td>\n",
       "      <td>145</td>\n",
       "      <td>101</td>\n",
       "      <td>0</td>\n",
       "      <td>Moving Help</td>\n",
       "      <td>2017-09-26</td>\n",
       "      <td>1</td>\n",
       "    </tr>\n",
       "    <tr>\n",
       "      <th>25175</th>\n",
       "      <td>0-0-5a8940db-daa3-4878-b62f-ed5daad9c07a</td>\n",
       "      <td>2017-09-26 19:15:00</td>\n",
       "      <td>1007283421</td>\n",
       "      <td>1</td>\n",
       "      <td>75</td>\n",
       "      <td>169</td>\n",
       "      <td>0</td>\n",
       "      <td>Moving Help</td>\n",
       "      <td>2017-09-26</td>\n",
       "      <td>1</td>\n",
       "    </tr>\n",
       "    <tr>\n",
       "      <th>25176</th>\n",
       "      <td>0-0-5a8940db-daa3-4878-b62f-ed5daad9c07a</td>\n",
       "      <td>2017-09-26 19:15:00</td>\n",
       "      <td>1014251534</td>\n",
       "      <td>2</td>\n",
       "      <td>145</td>\n",
       "      <td>101</td>\n",
       "      <td>0</td>\n",
       "      <td>Moving Help</td>\n",
       "      <td>2017-09-26</td>\n",
       "      <td>1</td>\n",
       "    </tr>\n",
       "    <tr>\n",
       "      <th>28729</th>\n",
       "      <td>0-0-2e447413-9e12-4d48-ac36-8f1e672f5fa0</td>\n",
       "      <td>2017-09-29 18:10:00</td>\n",
       "      <td>1009703547</td>\n",
       "      <td>1</td>\n",
       "      <td>145</td>\n",
       "      <td>326</td>\n",
       "      <td>0</td>\n",
       "      <td>Moving Help</td>\n",
       "      <td>2017-09-29</td>\n",
       "      <td>4</td>\n",
       "    </tr>\n",
       "    <tr>\n",
       "      <th>28730</th>\n",
       "      <td>0-0-2e447413-9e12-4d48-ac36-8f1e672f5fa0</td>\n",
       "      <td>2017-09-29 18:10:00</td>\n",
       "      <td>1009194244</td>\n",
       "      <td>2</td>\n",
       "      <td>175</td>\n",
       "      <td>26</td>\n",
       "      <td>0</td>\n",
       "      <td>Moving Help</td>\n",
       "      <td>2017-09-29</td>\n",
       "      <td>4</td>\n",
       "    </tr>\n",
       "  </tbody>\n",
       "</table>\n",
       "</div>"
      ],
      "text/plain": [
       "                               funnel_search_id          created_at  \\\n",
       "6209   0-0-6c3909bb-f721-4df6-90bf-9668aa8376ca 2017-09-07 19:54:00   \n",
       "6210   0-0-6c3909bb-f721-4df6-90bf-9668aa8376ca 2017-09-07 19:54:00   \n",
       "9771   0-0-8523fb44-74dd-4795-bade-88b63090289c 2017-09-11 18:55:00   \n",
       "9772   0-0-8523fb44-74dd-4795-bade-88b63090289c 2017-09-11 18:55:00   \n",
       "25167  0-0-66c45202-5eaf-4ca2-8a54-7324c4de54ec 2017-09-26 19:14:00   \n",
       "25168  0-0-66c45202-5eaf-4ca2-8a54-7324c4de54ec 2017-09-26 19:14:00   \n",
       "25175  0-0-5a8940db-daa3-4878-b62f-ed5daad9c07a 2017-09-26 19:15:00   \n",
       "25176  0-0-5a8940db-daa3-4878-b62f-ed5daad9c07a 2017-09-26 19:15:00   \n",
       "28729  0-0-2e447413-9e12-4d48-ac36-8f1e672f5fa0 2017-09-29 18:10:00   \n",
       "28730  0-0-2e447413-9e12-4d48-ac36-8f1e672f5fa0 2017-09-29 18:10:00   \n",
       "\n",
       "        tasker_id  position  hourly_rate  num_completed_tasks  hired  \\\n",
       "6209   1013597448         1           44                   17      0   \n",
       "6210   1014586046         2           85                  338      0   \n",
       "9771   1012164831         1           75                   17      0   \n",
       "9772   1014157578         2          100                  236      0   \n",
       "25167  1007283421         1           75                  169      0   \n",
       "25168  1014251534         2          145                  101      0   \n",
       "25175  1007283421         1           75                  169      0   \n",
       "25176  1014251534         2          145                  101      0   \n",
       "28729  1009703547         1          145                  326      0   \n",
       "28730  1009194244         2          175                   26      0   \n",
       "\n",
       "                 category       date  weekday  \n",
       "6209             Mounting 2017-09-07        3  \n",
       "6210             Mounting 2017-09-07        3  \n",
       "9771   Furniture Assembly 2017-09-11        0  \n",
       "9772   Furniture Assembly 2017-09-11        0  \n",
       "25167         Moving Help 2017-09-26        1  \n",
       "25168         Moving Help 2017-09-26        1  \n",
       "25175         Moving Help 2017-09-26        1  \n",
       "25176         Moving Help 2017-09-26        1  \n",
       "28729         Moving Help 2017-09-29        4  \n",
       "28730         Moving Help 2017-09-29        4  "
      ]
     },
     "execution_count": 75,
     "metadata": {},
     "output_type": "execute_result"
    }
   ],
   "source": [
    "df.loc[\n",
    "    (df['funnel_search_id']=='0-0-6c3909bb-f721-4df6-90bf-9668aa8376ca') |\n",
    "    (df['funnel_search_id']=='0-0-8523fb44-74dd-4795-bade-88b63090289c') |\n",
    "    (df['funnel_search_id']=='0-0-66c45202-5eaf-4ca2-8a54-7324c4de54ec') |\n",
    "    (df['funnel_search_id']=='0-0-5a8940db-daa3-4878-b62f-ed5daad9c07a') |\n",
    "    (df['funnel_search_id']=='0-0-2e447413-9e12-4d48-ac36-8f1e672f5fa0')\n",
    "]"
   ]
  },
  {
   "cell_type": "markdown",
   "id": "b625587e",
   "metadata": {},
   "source": [
    "Similarly, the above example shows there are two `tasker_id`s available in a search, but none of the tasker get hired.\n",
    "\n",
    "#### Therefore, some of the clients simply do the search but they don't hire any tasker."
   ]
  },
  {
   "cell_type": "markdown",
   "id": "84821e58",
   "metadata": {},
   "source": [
    "Now I want to know how many percentage of\n",
    "* taskers who is the first `position` and get hired\n",
    "* taskers who offer the lowest `hourly_rate` and get hired\n",
    "* taskers who have the highest `num_completed_tasks` and get hired"
   ]
  },
  {
   "cell_type": "code",
   "execution_count": 76,
   "id": "111ccbf2",
   "metadata": {},
   "outputs": [],
   "source": [
    "# Create a new dataframe which is recommended in first position\n",
    "df_first_position = (\n",
    "    df.groupby(['funnel_search_id', 'created_at', 'category'])[['position']]\n",
    "      .min()\n",
    "      .reset_index()\n",
    ")\n",
    "df_first_position['first_position'] = 1\n",
    "# display(df_first_position.head())\n",
    "\n",
    "# Create a new dataframe which label the lowest hourly rate\n",
    "df_lowest_hourly_rate = (\n",
    "    df.groupby(['funnel_search_id', 'created_at', 'category'])[['hourly_rate']]\n",
    "      .min()\n",
    "      .reset_index()\n",
    ")\n",
    "df_lowest_hourly_rate['lowest_rate'] = 1\n",
    "# display(df_lowest_hourly_rate)\n",
    "\n",
    "\n",
    "# Create a new dataframe which labels the highes number of completed tasks\n",
    "df_highest_num_completed_tasks = (\n",
    "    df.groupby(['funnel_search_id', 'created_at', 'category'])[['num_completed_tasks']]\n",
    "      .max()\n",
    "      .reset_index()\n",
    ")\n",
    "df_highest_num_completed_tasks['highest_completed_tasks'] = 1\n",
    "# display(df_highest_num_completed_tasks)\n",
    "\n",
    "df_new = pd.merge(\n",
    "    df,\n",
    "    df_first_position,\n",
    "    on=['funnel_search_id', 'created_at', 'category', 'position'],\n",
    "    how='left'\n",
    ").fillna(value={'first_position':0})\n",
    "# display(df_new.head(15))\n",
    "\n",
    "df_new = df_new.merge(\n",
    "    df_lowest_hourly_rate,\n",
    "    on=['funnel_search_id', 'created_at', 'category', 'hourly_rate'],\n",
    "    how='left'\n",
    ").fillna(value={'lowest_rate': 0})\n",
    "# display(df_new.head(15))\n",
    "\n",
    "df_new = df_new.merge(\n",
    "    df_highest_num_completed_tasks,\n",
    "    on=['funnel_search_id', 'created_at', 'category', 'num_completed_tasks'],\n",
    "    how='left'\n",
    ").fillna(value={'highest_completed_tasks': 0})\n",
    "# display(df_new.head(15))"
   ]
  },
  {
   "cell_type": "code",
   "execution_count": 77,
   "id": "9108fcb4",
   "metadata": {},
   "outputs": [
    {
     "name": "stdout",
     "output_type": "stream",
     "text": [
      "Tasker is first position get_hired = 36.66%\n",
      "Tasker with lowest rate get hired = 15.37%\n",
      "Tasker with highest_completed_tasks_get_hired = 11.14%\n"
     ]
    }
   ],
   "source": [
    "# calculate the ratio which the lowest rate taskers get hired\n",
    "df_hired = df_new.loc[df_new['hired']==1]\n",
    "# display(df_hired.head())\n",
    "\n",
    "\n",
    "ratio_tasker_is_first_position_get_hired = \\\n",
    "    round(sum(df_hired['first_position']) / len(df_hired) * 100, 2)\n",
    "ratio_tasker_with_lowest_rate_get_hired = \\\n",
    "    round(sum(df_hired['lowest_rate']) / len(df_hired) * 100, 2)\n",
    "ratio_tasker_with_highest_completed_tasks_get_hired = \\\n",
    "    round(sum(df_hired['highest_completed_tasks']) / len(df_hired) * 100, 2)\n",
    "\n",
    "print(f'Tasker is first position get_hired = {ratio_tasker_is_first_position_get_hired}%')\n",
    "print(f'Tasker with lowest rate get hired = {ratio_tasker_with_lowest_rate_get_hired}%')\n",
    "print(f'Tasker with highest_completed_tasks_get_hired = {ratio_tasker_with_highest_completed_tasks_get_hired}%')"
   ]
  },
  {
   "cell_type": "markdown",
   "id": "8bb647f1",
   "metadata": {},
   "source": [
    "Because the ratios are less than 20%, the clients might decide to hire a tasker for other reasons.\n",
    "\n",
    "If we check the above ratio in each category"
   ]
  },
  {
   "cell_type": "code",
   "execution_count": 78,
   "id": "13feb6de",
   "metadata": {},
   "outputs": [
    {
     "name": "stdout",
     "output_type": "stream",
     "text": [
      "In Furniture Assembly category:\n",
      "* Tasker is first position get hired = 40.91%\n",
      "* Tasker with lowest rate get hired = 16.26%\n",
      "* Tasker with highest completed tasks get hired = 13.11%\n",
      "\n",
      "\n",
      "In Moving Help category:\n",
      "* Tasker is first position get hired = 33.45%\n",
      "* Tasker with lowest rate get hired = 20.32%\n",
      "* Tasker with highest completed tasks get hired = 7.71%\n",
      "\n",
      "\n",
      "In Mounting category:\n",
      "* Tasker is first position get hired = 35.59%\n",
      "* Tasker with lowest rate get hired = 9.43%\n",
      "* Tasker with highest completed tasks get hired = 12.63%\n",
      "\n",
      "\n"
     ]
    }
   ],
   "source": [
    "# calculate the ratio which the lowest rate taskers get hired\n",
    "for cat in df_new['category'].unique():\n",
    "    df_hired = df_new.loc[\n",
    "        (df_new['hired']==1)&\n",
    "        (df_new['category']==cat)\n",
    "    ]\n",
    "    # display(df_hired.head())\n",
    "    \n",
    "    ratio_tasker_is_first_position_get_hired = (\n",
    "        round(sum(df_hired['first_position']) / len(df_hired) * 100, 2)\n",
    "    )\n",
    "    \n",
    "    ratio_tasker_with_lowest_rate_get_hired = (\n",
    "        round(sum(df_hired['lowest_rate']) / len(df_hired) * 100, 2)\n",
    "    )\n",
    "    ratio_tasker_with_highest_completed_tasks_get_hired = (\n",
    "        round(sum(df_hired['highest_completed_tasks']) / len(df_hired) * 100, 2)\n",
    "    )\n",
    "    \n",
    "    print(f'In {cat} category:')\n",
    "    print(f'* Tasker is first position get hired = {ratio_tasker_is_first_position_get_hired}%')\n",
    "    print(f'* Tasker with lowest rate get hired = {ratio_tasker_with_lowest_rate_get_hired}%')\n",
    "    print(f'* Tasker with highest completed tasks get hired = {ratio_tasker_with_highest_completed_tasks_get_hired}%')\n",
    "    print('\\n')"
   ]
  },
  {
   "cell_type": "markdown",
   "id": "78d52841",
   "metadata": {},
   "source": [
    "Because the ratio of \"tasker is first position get hired\" is greater 30%, the ratios of \"tasker with lowest rate get hired\" and \"tasker with highest completed tasks get hired\" are less than 20%, I think that there is higher possibility the clients choose the tasker in the first position. The clients might not select the tasker based on their hourly rate or completed tasks.\n",
    "\n",
    "#### Now look at `tasker_id` column:\n",
    "I want to know who are the top taskers been hired"
   ]
  },
  {
   "cell_type": "code",
   "execution_count": 79,
   "id": "0f51d8cf",
   "metadata": {},
   "outputs": [
    {
     "data": {
      "image/png": "[encoded data removed]",
      "text/plain": [
       "<Figure size 1440x360 with 1 Axes>"
      ]
     },
     "metadata": {
      "needs_background": "light"
     },
     "output_type": "display_data"
    }
   ],
   "source": [
    "tasker_number_of_hired = {}\n",
    "for tasker in df['tasker_id'].unique():\n",
    "    df_sub = df[df['tasker_id']==tasker]\n",
    "    number_of_hired = df_sub['hired'].sum()\n",
    "    tasker_number_of_hired[tasker] = number_of_hired\n",
    "# print(tasker_number_of_hired)\n",
    "\n",
    "list_tasker_number_of_hired = []\n",
    "for k, v in tasker_number_of_hired.items():\n",
    "    list_tasker_number_of_hired.append((k, v))\n",
    "    \n",
    "sorted_tasker_number_of_hired = sorted(list_tasker_number_of_hired, key=lambda x: x[1], reverse=True)\n",
    "# print(sorted_tasker_number_of_hired)\n",
    "\n",
    "list_of_taskers = []\n",
    "number_of_hiring = []\n",
    "for item in sorted_tasker_number_of_hired:\n",
    "#     print(item[0], item[1])\n",
    "    list_of_taskers.append(item[0])\n",
    "    number_of_hiring.append(item[1])\n",
    "\n",
    "fig, ax = plt.subplots(figsize=(20, 5))\n",
    "ax.bar(x=range(50), height=number_of_hiring[:50])\n",
    "ax.set_xlabel('Tasker ID')\n",
    "ax.set_ylabel('Number of hiring')\n",
    "ax.set_xticks(range(50))\n",
    "ax.set_xticklabels(list_of_taskers[:50], rotation=90)\n",
    "ax.set_title('Top 50 taskers')\n",
    "plt.show()"
   ]
  },
  {
   "cell_type": "markdown",
   "id": "78d31225",
   "metadata": {},
   "source": [
    "hourly rate of top tasker_id"
   ]
  },
  {
   "cell_type": "code",
   "execution_count": 80,
   "id": "4593f2de",
   "metadata": {},
   "outputs": [
    {
     "data": {
      "image/png": "[encoded data removed]",
      "text/plain": [
       "<Figure size 1440x360 with 1 Axes>"
      ]
     },
     "metadata": {
      "needs_background": "light"
     },
     "output_type": "display_data"
    }
   ],
   "source": [
    "df_sub = df[df['tasker_id']==list_of_taskers[0]]\n",
    "df_sub_group = df_sub.groupby(['date'])[['hourly_rate']].mean().reset_index()\n",
    "# display(df_sub_group.head())\n",
    "\n",
    "fig, ax = plt.subplots(figsize=(20, 5))\n",
    "ax.plot(df_sub_group['date'], df_sub_group['hourly_rate'], marker='o')\n",
    "ax.set_xlabel('Date')\n",
    "ax.set_ylabel('Hourly rate')\n",
    "ax.set_title(f'Hourly rate for tasker_id={list_of_taskers[0]}')\n",
    "plt.show()"
   ]
  },
  {
   "cell_type": "markdown",
   "id": "90b7a909",
   "metadata": {},
   "source": [
    "## Model\n",
    "\n",
    "* Use random forest and gradient boosting to forecast hired or not hired.\n",
    "* Use date < 2017-09-25 as training set and date >= 2017-09-25 as testing set\n",
    "* Apply one-hot encoding on `position`, `category`, `weekday`"
   ]
  },
  {
   "cell_type": "code",
   "execution_count": 81,
   "id": "a5754528",
   "metadata": {},
   "outputs": [],
   "source": [
    "df_onehot_position = pd.get_dummies(df['position'], prefix='position')\n",
    "df_onehot_category = pd.get_dummies(df['category'], prefix='category')\n",
    "df_onehot_weekday = pd.get_dummies(df['weekday'], prefix='weekday')"
   ]
  },
  {
   "cell_type": "code",
   "execution_count": 88,
   "id": "203c2d3b",
   "metadata": {},
   "outputs": [],
   "source": [
    "df_new2 = pd.concat([df_new ,df_onehot_position, df_onehot_category, df_onehot_weekday], axis=1)\n",
    "# print(df_new2.columns)\n",
    "\n",
    "selected_cols = df_new2.columns.difference([\n",
    "    'funnel_search_id', 'created_at', 'position', 'weekday', 'category'\n",
    "])\n",
    "\n",
    "df_train = df_new2.loc[df_new2['date']<'2017-09-25', selected_cols]\n",
    "df_test = df_new2.loc[df_new2['date']>='2017-09-25', selected_cols]\n",
    "# display(df_train.head())\n",
    "\n",
    "X_train = df_train[df_train.columns.difference(['date', 'hired'])].values\n",
    "y_train = df_train['hired'].values\n",
    "\n",
    "X_test = df_test[df_test.columns.difference(['date', 'hired'])].values\n",
    "y_test = df_test['hired'].values\n",
    "\n",
    "# print(X_train)\n",
    "# print(y_train)\n",
    "\n",
    "# print(X_test)\n",
    "# print(y_test)"
   ]
  },
  {
   "cell_type": "code",
   "execution_count": 95,
   "id": "268c4739",
   "metadata": {},
   "outputs": [],
   "source": [
    "from sklearn.ensemble import GradientBoostingClassifier\n",
    "from sklearn.ensemble import RandomForestClassifier\n",
    "\n",
    "gbc = GradientBoostingClassifier(max_depth=6)\n",
    "rfc = RandomForestClassifier(n_estimators=300)\n",
    "\n",
    "model_gbc = gbc.fit(X_train, y_train)\n",
    "model_rfc = rfc.fit(X_train, y_train)\n",
    "\n",
    "y_pred_gbc = model_gbc.predict(X_test)\n",
    "y_pred_rfc = model_rfc.predict(X_test)"
   ]
  },
  {
   "cell_type": "code",
   "execution_count": 99,
   "id": "73d1699d",
   "metadata": {},
   "outputs": [
    {
     "name": "stdout",
     "output_type": "stream",
     "text": [
      "              precision    recall  f1-score   support\n",
      "\n",
      "           0       0.95      0.99      0.97      6942\n",
      "           1       0.37      0.13      0.19       429\n",
      "\n",
      "    accuracy                           0.94      7371\n",
      "   macro avg       0.66      0.56      0.58      7371\n",
      "weighted avg       0.91      0.94      0.92      7371\n",
      "\n"
     ]
    }
   ],
   "source": [
    "from sklearn.metrics import classification_report\n",
    "report_gbc = classification_report(y_test, y_pred_gbc)\n",
    "print(report_gbc)"
   ]
  },
  {
   "cell_type": "code",
   "execution_count": 100,
   "id": "ab2fccfe",
   "metadata": {},
   "outputs": [
    {
     "name": "stdout",
     "output_type": "stream",
     "text": [
      "              precision    recall  f1-score   support\n",
      "\n",
      "           0       0.95      0.99      0.97      6942\n",
      "           1       0.39      0.11      0.17       429\n",
      "\n",
      "    accuracy                           0.94      7371\n",
      "   macro avg       0.67      0.55      0.57      7371\n",
      "weighted avg       0.92      0.94      0.92      7371\n",
      "\n"
     ]
    }
   ],
   "source": [
    "report_rfc = classification_report(y_test, y_pred_rfc)\n",
    "print(report_rfc)"
   ]
  },
  {
   "cell_type": "code",
   "execution_count": 102,
   "id": "40655939",
   "metadata": {},
   "outputs": [
    {
     "name": "stdout",
     "output_type": "stream",
     "text": [
      "[[6848   94]\n",
      " [ 374   55]]\n"
     ]
    }
   ],
   "source": [
    "from sklearn.metrics import confusion_matrix\n",
    "matrix_gbc = confusion_matrix(y_test, y_pred_gbc)\n",
    "print(matrix_gbc)"
   ]
  },
  {
   "cell_type": "code",
   "execution_count": 103,
   "id": "d6e9e7db",
   "metadata": {},
   "outputs": [
    {
     "name": "stdout",
     "output_type": "stream",
     "text": [
      "[[6867   75]\n",
      " [ 381   48]]\n"
     ]
    }
   ],
   "source": [
    "matrix_rfc = confusion_matrix(y_test, y_pred_rfc)\n",
    "print(matrix_rfc)"
   ]
  },
  {
   "cell_type": "markdown",
   "id": "757672a9",
   "metadata": {},
   "source": [
    "# Question 2\n",
    "\n",
    "## Design of Experiment\n",
    "\n",
    "Consider you want to design an experiment around a new feature in TaskRabbit in order to test the impact on job conversion. The nature of the feature is not important, just the measurement of the impact. In this question develop a brief testing plan that will be submitted to the Product Manager. Please review/consider the following as you design your experiment:\n",
    "\n",
    "### Constraints:\n",
    "1. Randomization cannot be guaranteed in the deployment of this feature\n",
    "\n",
    "### Notes:\n",
    "* The final deliverable should be understandable by a non-tech audience\n",
    "* Document any assumptions you make about the data available (i.e. traffic size, etc), access to external testing tools, engineering resources, etc\n",
    "* Feel free to make and document any assumptions regarding the definition of “job conversion” as it pertains to your testing plan\n",
    "* Try to add detail around your testing plan that justifies the model/strategy you’ve chosen\n",
    "\n",
    "### Deliverable: A brief testing plan to be delivered to the Product Manager"
   ]
  },
  {
   "cell_type": "markdown",
   "id": "ed03cf0e",
   "metadata": {},
   "source": [
    "### Answer\n",
    "\n",
    "The clients search the available taskers on TaskRabbit, and they can decide whether or not hire a tasker from the search results. Therefore, the definition of \"job conversion\" is the clients search available taskers and decide to hire one of the taskers. And I assume that the new feature which may impact the job conversion is \"reviews\" of each taskers. The reviews can be from one star to five stars, the more stars, the better taskers. \n",
    "\n",
    "The control group is the one without reviews in the search results, and the testing group is the one with reviews in the search results. By measuring how many clients make a hire decision in the control and testing group, it is possible to measure the impact on the \"job conversion\".\n",
    "\n",
    "The null hypothesis is that there is no difference between control group and testing group. Therefore, the mean value of the job convertion rate, which is the ratio between number of hiring decision been made and the number of search been submitted, in these two groups are the same. Then we can start to collect the data for the experiment. There are many way to collect data and the easiest way is trying to collect 1,000 queries from different clients in both groups. If the job conversion ratio between these two groups are similar, then the new feature \"reviews\" cause no impact. If the job conversion ratio between these two groups has significantly differences and the $p$-value is less then 0.05, then we can conclude the new feature does impact on the job conversion."
   ]
  },
  {
   "cell_type": "code",
   "execution_count": null,
   "id": "66ed9508",
   "metadata": {},
   "outputs": [],
   "source": []
  }
 ],
 "metadata": {
  "kernelspec": {
   "display_name": "Python [conda env:root] *",
   "language": "python",
   "name": "conda-root-py"
  },
  "language_info": {
   "codemirror_mode": {
    "name": "ipython",
    "version": 3
   },
   "file_extension": ".py",
   "mimetype": "text/x-python",
   "name": "python",
   "nbconvert_exporter": "python",
   "pygments_lexer": "ipython3",
   "version": "3.8.13"
  }
 },
 "nbformat": 4,
 "nbformat_minor": 5
}
