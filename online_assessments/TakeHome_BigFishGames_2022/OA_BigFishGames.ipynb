{
 "cells": [
  {
   "cell_type": "markdown",
   "id": "e2efef19",
   "metadata": {},
   "source": [
    "# Gams DS homework test\n",
    "\n",
    "\n",
    "# Applicant: Yu-Ting Shen"
   ]
  },
  {
   "cell_type": "markdown",
   "id": "8813defa",
   "metadata": {},
   "source": [
    "# Question 1\n",
    "\n",
    "A gamming company stores its customers, transactions, and campaigns data in 3 tales with the following format.\n",
    "\n",
    "* customers table\n",
    "\n",
    "|id|Name|RegDate|\n",
    "|:---|:---|:---|\n",
    "|1|Xin|2018-01-01|\n",
    "|...|...|...|\n",
    "\n",
    "* transactions table\n",
    "\n",
    "|id|customerid|value|timestamp|\n",
    "|:---|:---|:---|:---|\n",
    "|1|2|0.71|2018-03-04 12:45|\n",
    "|...|...|...|...|\n",
    "\n",
    "* campaigns table\n",
    "\n",
    "|id|customerid|Campdate|\n",
    "|:---|:---|:---|\n",
    "|1|5|2019-01-01|\n",
    "|...|...|...|\n",
    "\n",
    "**Write SQL queries which retrieve following data**\n",
    "1. All customers with no transactions\n",
    "2. For each customer output **mean** and **maximum** number of days between two consecutive transactions. Return \"-1\" for customers with no or only one transaction; e.g. if a player had transactions on \"2019-01-01\", \"2019-01-02\" and \"2019-01-05\" then number of days between transactions is 1 and 3, average being (1+3)/2 = 2 and maximum being 3."
   ]
  },
  {
   "cell_type": "markdown",
   "id": "02ced1a8",
   "metadata": {},
   "source": [
    "## *Solution*\n",
    "\n",
    "1. SQL query for all customers with no transactions\n",
    "\n",
    "```SQL\n",
    "SELECT c.id, c.Name\n",
    "FROM customers AS c\n",
    "LEFT JOIN transaction AS t\n",
    "on c.id = t.customerid\n",
    "WHERE t.value IS Null\n",
    "```\n",
    "\n",
    "2. This SQL query can be splitted into several smaller pieces.\n",
    "  * Firstly, we have to apply **self join** to get the day difference between two transactions. The results are save as a temporary table `t1` using `WITH` clause.\n",
    "    * I use `DATE_DIFF(date_expression_a, date_expression_b, date_part)` provided by Google BigQuery. This function is equivalent to `DATEDIFF(date_part, date_expression_a, date_expression_b)` in the SQL server.\n",
    "  * Then we use the `t1` table to calculate the mean and maximum number of days between two consecutive transactions. The results are save as a temporary table `t2` using `WITH` caluse.\n",
    "  * Because there are null in `t2` table, we use the `CASE` caluse to specify the null value as \"-1\"\n",
    "\n",
    "```SQL\n",
    "WITH t1 AS (\n",
    "    SELECT tleft.customerid AS customerid, \n",
    "           tleft.timestamp AS day1, \n",
    "           MIN(tright.timestamp) AS day2, \n",
    "           DATE_DIFF(MIN(tright.timestamp), tleft.timestamp, day) AS daydiff\n",
    "    FROM transactions AS tleft\n",
    "    LEFT JOIN transactions AS tright\n",
    "    ON tleft.customerid = tright.customerid AND \n",
    "       tleft.timestamp < tright.timestamp\n",
    "    GROUP BY 1, 2\n",
    "    ORDER BY 1, 2\n",
    "),\n",
    "t2 AS (\n",
    "    SELECT customerid,\n",
    "           AVG(daydiff) AS mean, \n",
    "           MAX(daydiff) AS maximum\n",
    "    FROM t1\n",
    "    GROUP BY 1\n",
    "    ORDER BY 1\n",
    ")\n",
    "SELECT customerid,\n",
    "       CASE\n",
    "           WHEN mean IS NULL THEN -1\n",
    "           ELSE mean\n",
    "       END AS mean,\n",
    "       CASE\n",
    "           WHEN maximum IS NULL THEN -1\n",
    "           ELSE maximum\n",
    "       END AS maximum\n",
    "FROM t2\n",
    "```"
   ]
  },
  {
   "cell_type": "markdown",
   "id": "10589424",
   "metadata": {},
   "source": [
    "---\n",
    "\n",
    "# Question 2\n",
    "\n",
    "A gaming campany is hiring a data scientist. Applicants are asked to participate in two online test (a) SQL and (B) coding. For each of the tests, applicants are given a score between 0 and 100. Applicants with a total score (\"SQL\" + \"coding\") of more than 100 are invited for an interview\n",
    "\n",
    "For the question, assume that applicants' scores in these two online tests are independently uniformly distributed random variables between 0 and 100. Explain and quantify your answers to the following questions:\n",
    "1. What is the correlation between SQL and coding scores of all applicants?\n",
    "2. What is the correlation between SQL and coding scores of applicants who passed the test?"
   ]
  },
  {
   "cell_type": "markdown",
   "id": "22155ece",
   "metadata": {},
   "source": [
    "## *Solution*\n",
    "Let $x_{i}$ be score of SQL and $y_{i}$ be score of coding. Since $x_{i}$ and $y_{i}$ are independently uniformly distributed random variable between 0 and 100, we have $E(x) = E(y) = 50$. We also know the correlation coefficient is\n",
    "\n",
    "$corr(x, y) = \\frac{Cov(x, y)}{\\sigma_{x}\\sigma_{y}}$\n",
    "\n",
    "1. There is **no correlation** between SQL and coding scores of all applicants because the two population X and Y are independent resulting in $Cov(x, y)=0$. \n",
    "\n",
    "For example, if there are 1 million applicants, we use python to calculate the Pearson correlatin coefficient, then we get the $corr(x, y) \\sim 0$"
   ]
  },
  {
   "cell_type": "code",
   "execution_count": 33,
   "id": "33d165c0",
   "metadata": {},
   "outputs": [
    {
     "name": "stdout",
     "output_type": "stream",
     "text": [
      "mean of x = 50.004037783102724, std of x = 28.862379678539735\n",
      "mean of y = 49.94340763930167, std of y = 28.862986313744734\n",
      "pearson correlation r = [[ 1.0000000e+00 -5.8778507e-04]\n",
      " [-5.8778507e-04  1.0000000e+00]]\n"
     ]
    }
   ],
   "source": [
    "import numpy as np\n",
    "x = np.random.uniform(0, 100, 1000000)\n",
    "y = np.random.uniform(0, 100, 1000000)\n",
    "\n",
    "print(f\"mean of x = {x.mean()}, std of x = {x.std()}\")\n",
    "print(f\"mean of y = {y.mean()}, std of y = {y.std()}\")\n",
    "print(f\"pearson correlation r = {np.corrcoef(x, y)}\")"
   ]
  },
  {
   "cell_type": "markdown",
   "id": "a8a2aa9e",
   "metadata": {},
   "source": [
    "2. There is **negative correlation** between SQL and coding scores of applicants who pass the test."
   ]
  },
  {
   "cell_type": "code",
   "execution_count": 34,
   "id": "97c9a79a",
   "metadata": {},
   "outputs": [
    {
     "name": "stdout",
     "output_type": "stream",
     "text": [
      "mean of SQL = 66.70334299247783, std of SQL = 23.550025628729223\n",
      "mean of coding = 23.58028168589552, std of coding = 23.58028168589552\n",
      "pearson correlation r =  -0.499819851891228\n"
     ]
    }
   ],
   "source": [
    "import pandas as pd\n",
    "df = pd.DataFrame({\"SQL\": x, \"coding\": y})\n",
    "df[\"sum\"] = df[\"SQL\"] + df[\"coding\"]\n",
    "df_pass = df.loc[df[\"sum\"] > 100]\n",
    "\n",
    "print(f\"mean of SQL = {df_pass['SQL'].mean()}, std of SQL = {df_pass['SQL'].std()}\")\n",
    "print(f\"mean of coding = {df_pass['coding'].std()}, std of coding = {df_pass['coding'].std()}\")\n",
    "print(f\"pearson correlation r = \", df_pass[\"SQL\"].corr(df_pass[\"coding\"]))\n",
    "# print(df_pass[\"coding\"].corr(df_pass[\"SQL\"]))"
   ]
  },
  {
   "cell_type": "markdown",
   "id": "e4f35930",
   "metadata": {},
   "source": [
    "---\n",
    "\n",
    "# Question 3\n",
    "\n",
    "Order the following situations based on the expected power of the statistical test intended to identify the difference between two groups. Explain your reasoning.\n",
    "\n",
    "1. Datasets come from normal distributions with equal unknown variances\n",
    "2. Datasets come from normal distributions with unequal known variances\n",
    "3. Datasets come from two unknown distributions\n",
    "4. Datasets come from normal distributions with unequal known variances and known unequal means\n",
    "5. Datasets come from gamma distributions with unknown parameters"
   ]
  },
  {
   "cell_type": "markdown",
   "id": "727e47fe",
   "metadata": {},
   "source": [
    "## *Solution*\n",
    "\n",
    "**Expected power: 4 > 2 > 1 > 5 > 3**\n",
    "    \n",
    "The statistical power is the probability that the test correctly rejects the null hypothesis. Since we want to use the statistical test to identify the difference between groups, the null and alternate hypothesis are\n",
    "\n",
    "* $H_{0}$: $\\mu_{1} = \\mu_{2}$, the two groups are the same\n",
    "* $H_{a}$: $\\mu_{1} \\neq \\mu_{2}$, the two groups are different\n",
    "\n",
    "We either use two-sample $z$-test or two-sample $t$-test for this purpose. Based on the definition of these two tests, if the variance is known, then we use $z$-test. Otherwise, we use $t$-test.\n",
    "\n",
    "* Normal distribution + unknown variance $\\rightarrow$ use $t$-test\n",
    "* Normal distribution + known variance $\\rightarrow$ use $z$-test\n",
    "\n",
    "For case 4, we know $\\mu_{1} \\neq \\mu_{2}$ and $s_{1} \\neq s_{2}$, we can correctly reject the null hypothesis, therefore, it has the best power.\n",
    "\n",
    "For case 2, we know the variances of two groups, then $z$-test is used. For case 1, we don't know the variances of two groups, then $t$-test is used. Usually, the $z$-test has better power to reject $H_{0}$ correctly than the $t$-test.\n",
    "\n",
    "If we know the distribution is gamma distribution but we don't know the parameters (case 5), then the power to reject $H_{0}$ correctly definitely better than we don't know the distribution (case 3).\n"
   ]
  },
  {
   "cell_type": "markdown",
   "id": "717c7ed5",
   "metadata": {},
   "source": [
    "---\n",
    "\n",
    "# Question 4\n",
    "Write a function in **R** or **Python** which takes a vector length L consisting only of 0s and 1s as input and returns the largest number of consecutive 1s from the vector as an integer, e.g. the function takes [1,1,0,1,1,1,0,0,1] and returns 3"
   ]
  },
  {
   "cell_type": "markdown",
   "id": "1b23a4cc",
   "metadata": {},
   "source": [
    "## *Solution*\n",
    "We can use `longest` to keep the longest consecutive 1s and use `temp` to keep the current consecutive 1s. When we loop over all elements in the input vector, we add `1` into `temp` if the element is one and we reset `temp` to `0` if the element is zero. And we compare the `temp` with `longest`, if the `temp` is larger than the `longest`, then we replace the value of `longest` by the value of `temp`. At the end of the `for` loop we can get the largest number of consecutive 1s.\n",
    "* Time complexity = $O(n)$\n",
    "* Space complexity = $O(1)$"
   ]
  },
  {
   "cell_type": "code",
   "execution_count": 2,
   "id": "da405d35",
   "metadata": {},
   "outputs": [],
   "source": [
    "def longest_consecutive(nums):\n",
    "    if nums is None or len(nums) == 0:\n",
    "        return 0\n",
    "    \n",
    "    longest = 0 # keep the longest consecutive 1s\n",
    "    temp = 0 # current consecutive\n",
    "    for i in range(len(nums)):\n",
    "        if nums[i] == 1:\n",
    "            temp += nums[i]\n",
    "        else:\n",
    "            temp = 0\n",
    "        if temp > longest:\n",
    "            longest = temp\n",
    "    return longest     "
   ]
  },
  {
   "cell_type": "code",
   "execution_count": 5,
   "id": "11e2b3cb",
   "metadata": {},
   "outputs": [
    {
     "name": "stdout",
     "output_type": "stream",
     "text": [
      "3\n",
      "0\n",
      "1\n",
      "4\n",
      "1\n",
      "8\n"
     ]
    }
   ],
   "source": [
    "# test case:\n",
    "print(longest_consecutive([1,1,0,1,1,1,0,0,1]))\n",
    "print(longest_consecutive([]))\n",
    "print(longest_consecutive([0,0,0,0,0,0,1]))\n",
    "print(longest_consecutive([1,1,1,1]))\n",
    "print(longest_consecutive([0,1,0,1,0,1]))\n",
    "nums = [0,1,1,1,1,1,0,1,1,1,\n",
    "        0,0,0,0,1,1,1,1,0,0,\n",
    "        0,0,0,1,1,1,1,1,1,1,\n",
    "        1,0,0,0,0,0,0,0,1,1,\n",
    "        1,1,0,1,1,0]\n",
    "print(longest_consecutive(nums))"
   ]
  },
  {
   "cell_type": "code",
   "execution_count": null,
   "id": "bef759bc",
   "metadata": {},
   "outputs": [],
   "source": []
  }
 ],
 "metadata": {
  "kernelspec": {
   "display_name": "Python [conda env:root] *",
   "language": "python",
   "name": "conda-root-py"
  },
  "language_info": {
   "codemirror_mode": {
    "name": "ipython",
    "version": 3
   },
   "file_extension": ".py",
   "mimetype": "text/x-python",
   "name": "python",
   "nbconvert_exporter": "python",
   "pygments_lexer": "ipython3",
   "version": "3.8.13"
  }
 },
 "nbformat": 4,
 "nbformat_minor": 5
}
