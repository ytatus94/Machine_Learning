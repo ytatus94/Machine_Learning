{
 "cells": [
  {
   "cell_type": "markdown",
   "metadata": {},
   "source": [
    "# Curve Fitting with Python\n",
    "\n",
    "* Ref: [https://machinelearningmastery.com/curve-fitting-with-python/](https://machinelearningmastery.com/curve-fitting-with-python/)\n",
    "* Data\n",
    "  * [longley.csv](https://raw.githubusercontent.com/jbrownlee/Datasets/master/longley.csv)\n",
    "  * [longley.names](https://github.com/jbrownlee/Datasets/blob/master/longley.names)\n",
    "\n",
    "## Curve fitting\n",
    "\n",
    "* 就是一個找出 mapping function (或叫做 basis function) 的過程\n",
    "  * $f(x) = y$: mapping function\n",
    "    * $x$: independent variable, inputs\n",
    "    * $y$: dependent variable, outputs\n",
    "  * 我們只有 observations $(x, y)$，並不知道 $f(x)$ 的公式，或是知道公式但是不曉得參數\n",
    "    * 首先要定義 $f(x)$ 的公式，然後找出適當的參數使得 $f(x)$ 和 $y$ 的誤差最小\n",
    "* SciPy 提供 `curve_fit()` 函數來做 curve fitting\n",
    "  * [curve_fit()](https://docs.scipy.org/doc/scipy/reference/generated/scipy.optimize.curve_fit.html)\n",
    "  * `curve_fit()` 傳回 fit 到的最佳係數和 covariance matrix\n",
    "    * `popt, pcov = curve_fit(mapping_function, x_data, y_data)`"
   ]
  },
  {
   "cell_type": "markdown",
   "metadata": {},
   "source": [
    "## 1. Load data"
   ]
  },
  {
   "cell_type": "code",
   "execution_count": 1,
   "metadata": {},
   "outputs": [
    {
     "data": {
      "text/html": [
       "<div>\n",
       "<style scoped>\n",
       "    .dataframe tbody tr th:only-of-type {\n",
       "        vertical-align: middle;\n",
       "    }\n",
       "\n",
       "    .dataframe tbody tr th {\n",
       "        vertical-align: top;\n",
       "    }\n",
       "\n",
       "    .dataframe thead th {\n",
       "        text-align: right;\n",
       "    }\n",
       "</style>\n",
       "<table border=\"1\" class=\"dataframe\">\n",
       "  <thead>\n",
       "    <tr style=\"text-align: right;\">\n",
       "      <th></th>\n",
       "      <th>0</th>\n",
       "      <th>1</th>\n",
       "      <th>2</th>\n",
       "      <th>3</th>\n",
       "      <th>4</th>\n",
       "      <th>5</th>\n",
       "      <th>6</th>\n",
       "    </tr>\n",
       "  </thead>\n",
       "  <tbody>\n",
       "    <tr>\n",
       "      <th>0</th>\n",
       "      <td>83.0</td>\n",
       "      <td>234.289</td>\n",
       "      <td>235.6</td>\n",
       "      <td>159.0</td>\n",
       "      <td>107.608</td>\n",
       "      <td>1947</td>\n",
       "      <td>60.323</td>\n",
       "    </tr>\n",
       "    <tr>\n",
       "      <th>1</th>\n",
       "      <td>88.5</td>\n",
       "      <td>259.426</td>\n",
       "      <td>232.5</td>\n",
       "      <td>145.6</td>\n",
       "      <td>108.632</td>\n",
       "      <td>1948</td>\n",
       "      <td>61.122</td>\n",
       "    </tr>\n",
       "    <tr>\n",
       "      <th>2</th>\n",
       "      <td>88.2</td>\n",
       "      <td>258.054</td>\n",
       "      <td>368.2</td>\n",
       "      <td>161.6</td>\n",
       "      <td>109.773</td>\n",
       "      <td>1949</td>\n",
       "      <td>60.171</td>\n",
       "    </tr>\n",
       "    <tr>\n",
       "      <th>3</th>\n",
       "      <td>89.5</td>\n",
       "      <td>284.599</td>\n",
       "      <td>335.1</td>\n",
       "      <td>165.0</td>\n",
       "      <td>110.929</td>\n",
       "      <td>1950</td>\n",
       "      <td>61.187</td>\n",
       "    </tr>\n",
       "    <tr>\n",
       "      <th>4</th>\n",
       "      <td>96.2</td>\n",
       "      <td>328.975</td>\n",
       "      <td>209.9</td>\n",
       "      <td>309.9</td>\n",
       "      <td>112.075</td>\n",
       "      <td>1951</td>\n",
       "      <td>63.221</td>\n",
       "    </tr>\n",
       "  </tbody>\n",
       "</table>\n",
       "</div>"
      ],
      "text/plain": [
       "      0        1      2      3        4     5       6\n",
       "0  83.0  234.289  235.6  159.0  107.608  1947  60.323\n",
       "1  88.5  259.426  232.5  145.6  108.632  1948  61.122\n",
       "2  88.2  258.054  368.2  161.6  109.773  1949  60.171\n",
       "3  89.5  284.599  335.1  165.0  110.929  1950  61.187\n",
       "4  96.2  328.975  209.9  309.9  112.075  1951  63.221"
      ]
     },
     "execution_count": 1,
     "metadata": {},
     "output_type": "execute_result"
    }
   ],
   "source": [
    "import pandas as pd\n",
    "import matplotlib.pyplot as plt\n",
    "import numpy as np\n",
    "from scipy.optimize import curve_fit\n",
    "\n",
    "url = 'https://raw.githubusercontent.com/jbrownlee/Datasets/master/longley.csv'\n",
    "df = pd.read_csv(url, header=None)\n",
    "df.head()"
   ]
  },
  {
   "cell_type": "code",
   "execution_count": 2,
   "metadata": {},
   "outputs": [
    {
     "name": "stdout",
     "output_type": "stream",
     "text": [
      "<class 'pandas.core.frame.DataFrame'>\n",
      "RangeIndex: 16 entries, 0 to 15\n",
      "Data columns (total 7 columns):\n",
      " #   Column  Non-Null Count  Dtype  \n",
      "---  ------  --------------  -----  \n",
      " 0   0       16 non-null     float64\n",
      " 1   1       16 non-null     float64\n",
      " 2   2       16 non-null     float64\n",
      " 3   3       16 non-null     float64\n",
      " 4   4       16 non-null     float64\n",
      " 5   5       16 non-null     int64  \n",
      " 6   6       16 non-null     float64\n",
      "dtypes: float64(6), int64(1)\n",
      "memory usage: 1.0 KB\n"
     ]
    }
   ],
   "source": [
    "df.info()"
   ]
  },
  {
   "cell_type": "code",
   "execution_count": 3,
   "metadata": {},
   "outputs": [
    {
     "data": {
      "text/plain": [
       "array([[  83.   ,  234.289,  235.6  ,  159.   ,  107.608, 1947.   ,\n",
       "          60.323],\n",
       "       [  88.5  ,  259.426,  232.5  ,  145.6  ,  108.632, 1948.   ,\n",
       "          61.122],\n",
       "       [  88.2  ,  258.054,  368.2  ,  161.6  ,  109.773, 1949.   ,\n",
       "          60.171],\n",
       "       [  89.5  ,  284.599,  335.1  ,  165.   ,  110.929, 1950.   ,\n",
       "          61.187],\n",
       "       [  96.2  ,  328.975,  209.9  ,  309.9  ,  112.075, 1951.   ,\n",
       "          63.221],\n",
       "       [  98.1  ,  346.999,  193.2  ,  359.4  ,  113.27 , 1952.   ,\n",
       "          63.639],\n",
       "       [  99.   ,  365.385,  187.   ,  354.7  ,  115.094, 1953.   ,\n",
       "          64.989],\n",
       "       [ 100.   ,  363.112,  357.8  ,  335.   ,  116.219, 1954.   ,\n",
       "          63.761],\n",
       "       [ 101.2  ,  397.469,  290.4  ,  304.8  ,  117.388, 1955.   ,\n",
       "          66.019],\n",
       "       [ 104.6  ,  419.18 ,  282.2  ,  285.7  ,  118.734, 1956.   ,\n",
       "          67.857],\n",
       "       [ 108.4  ,  442.769,  293.6  ,  279.8  ,  120.445, 1957.   ,\n",
       "          68.169],\n",
       "       [ 110.8  ,  444.546,  468.1  ,  263.7  ,  121.95 , 1958.   ,\n",
       "          66.513],\n",
       "       [ 112.6  ,  482.704,  381.3  ,  255.2  ,  123.366, 1959.   ,\n",
       "          68.655],\n",
       "       [ 114.2  ,  502.601,  393.1  ,  251.4  ,  125.368, 1960.   ,\n",
       "          69.564],\n",
       "       [ 115.7  ,  518.173,  480.6  ,  257.2  ,  127.852, 1961.   ,\n",
       "          69.331],\n",
       "       [ 116.9  ,  554.894,  400.7  ,  282.7  ,  130.081, 1962.   ,\n",
       "          70.551]])"
      ]
     },
     "execution_count": 3,
     "metadata": {},
     "output_type": "execute_result"
    }
   ],
   "source": [
    "# 把數據從 dataframe 中提取出來，變成一個 2 為的 numpy array\n",
    "data = df.values\n",
    "data"
   ]
  },
  {
   "cell_type": "markdown",
   "metadata": {},
   "source": [
    "* 有了數據以後，先畫圖看看數據長什麼樣子"
   ]
  },
  {
   "cell_type": "code",
   "execution_count": 4,
   "metadata": {},
   "outputs": [
    {
     "data": {
      "image/png": "[encoded data removed]",
      "text/plain": [
       "<Figure size 432x288 with 1 Axes>"
      ]
     },
     "metadata": {
      "needs_background": "light"
     },
     "output_type": "display_data"
    }
   ],
   "source": [
    "x = data[:, 4]\n",
    "y = data[:, -1]\n",
    "\n",
    "plt.figure()\n",
    "plt.scatter(x, y)\n",
    "plt.show()"
   ]
  },
  {
   "cell_type": "markdown",
   "metadata": {},
   "source": [
    "## 2. Fitting\n",
    "\n",
    "### 2.1 Linear function $f(x) = ax + b$"
   ]
  },
  {
   "cell_type": "code",
   "execution_count": 5,
   "metadata": {},
   "outputs": [
    {
     "name": "stdout",
     "output_type": "stream",
     "text": [
      "y = 0.48488 * x + 8.38067\n"
     ]
    },
    {
     "data": {
      "image/png": "[encoded data removed]",
      "text/plain": [
       "<Figure size 432x288 with 1 Axes>"
      ]
     },
     "metadata": {
      "needs_background": "light"
     },
     "output_type": "display_data"
    }
   ],
   "source": [
    "# define the true objective function\n",
    "def objective_func(x, a, b):\n",
    "    return a * x + b\n",
    "\n",
    "# curve fit\n",
    "popt, _ = curve_fit(objective_func, x, y)\n",
    "\n",
    "# summarize the parameter values\n",
    "a, b = popt\n",
    "print('y = %.5f * x + %.5f' % (a, b))\n",
    "\n",
    "# define a sequence of inputs between the smallest and largest know inputs\n",
    "x_line = np.arange(min(x), max(x), 1)\n",
    "\n",
    "# calculate the output for the range\n",
    "y_line = objective_func(x_line, a, b)\n",
    "\n",
    "# plot input vs output\n",
    "fig = plt.figure()\n",
    "plt.scatter(x, y)\n",
    "plt.plot(x_line, y_line, '--', color='red')\n",
    "plt.show()"
   ]
  },
  {
   "cell_type": "markdown",
   "metadata": {},
   "source": [
    "### 2.2 Polynomial regression $f(x) = \\sum_{i=0}^{N} a_{i}x_{i}$\n",
    "\n",
    "* Use $y = ax + bx^2 + c$"
   ]
  },
  {
   "cell_type": "code",
   "execution_count": 6,
   "metadata": {},
   "outputs": [
    {
     "name": "stdout",
     "output_type": "stream",
     "text": [
      "y = 3.25443 * x + -0.01170 * x^2 + -155.02783\n"
     ]
    },
    {
     "data": {
      "image/png": "[encoded data removed]",
      "text/plain": [
       "<Figure size 432x288 with 1 Axes>"
      ]
     },
     "metadata": {
      "needs_background": "light"
     },
     "output_type": "display_data"
    }
   ],
   "source": [
    "# define the true objective function\n",
    "def func(x, a, b, c):\n",
    "    return a * x + b * x**2 + c\n",
    "\n",
    "# curve fit\n",
    "popt, _ = curve_fit(func, x, y)\n",
    "\n",
    "# summarize the parameter values\n",
    "a, b, c = popt\n",
    "print('y = %.5f * x + %.5f * x^2 + %.5f' % (a, b, c))\n",
    "\n",
    "# define a sequence of inputs between the smallest and largest known inputs\n",
    "x_line = np.arange(min(x), max(x), 1)\n",
    "\n",
    "# calculate the output for the range\n",
    "y_line = func(x_line, a, b, c)\n",
    "\n",
    "# plot input vs output\n",
    "fig = plt.figure()\n",
    "plt.scatter(x, y)\n",
    "plt.plot(x_line, y_line, '--', color='red')\n",
    "plt.show()"
   ]
  },
  {
   "cell_type": "markdown",
   "metadata": {},
   "source": [
    "* Use fifth-degree polynomial function $y = ax + bx^2 + cx^3 + dx^4 + ex^5 + f$"
   ]
  },
  {
   "cell_type": "code",
   "execution_count": 7,
   "metadata": {},
   "outputs": [
    {
     "name": "stdout",
     "output_type": "stream",
     "text": [
      "y = -6477.72057 * x + 104.60493 * x^2 + -0.84205 * x^3 + 0.00338 * x^4 + -0.00001 * x^5 + 160014.30224\n"
     ]
    },
    {
     "data": {
      "image/png": "[encoded data removed]",
      "text/plain": [
       "<Figure size 432x288 with 1 Axes>"
      ]
     },
     "metadata": {
      "needs_background": "light"
     },
     "output_type": "display_data"
    }
   ],
   "source": [
    "# define the true objective function\n",
    "def func(x, a, b, c, d, e, f):\n",
    "    return (a * x) + (b * x**2) + (c * x**3) + (d * x**4) + (e * x**5) + f\n",
    "\n",
    "# curve fit\n",
    "popt, _ = curve_fit(func, x, y)\n",
    "\n",
    "# summarize the parameter values\n",
    "a, b, c, d, e, f = popt\n",
    "print('y = %.5f * x + %.5f * x^2 + %.5f * x^3 + %.5f * x^4 + %.5f * x^5 + %.5f'  % (a, b, c, d, e, f))\n",
    "\n",
    "# define a sequence of inputs between the smallest and largest known inputs\n",
    "x_line = np.arange(min(x), max(x), 1)\n",
    "\n",
    "# calculate the output for the range\n",
    "y_line = func(x_line, a, b, c, d, e, f)\n",
    "\n",
    "# plot input vs output\n",
    "fig = plt.figure()\n",
    "plt.scatter(x, y)\n",
    "plt.plot(x_line, y_line, '--', color='red')\n",
    "plt.show()"
   ]
  },
  {
   "cell_type": "markdown",
   "metadata": {},
   "source": [
    "### 2.3 Use complicated function"
   ]
  },
  {
   "cell_type": "code",
   "execution_count": 8,
   "metadata": {},
   "outputs": [
    {
     "name": "stdout",
     "output_type": "stream",
     "text": [
      "y = 0.88310 * sin(1.48623 - x) + 0.00206 * x^2 + 36.90462\n"
     ]
    },
    {
     "data": {
      "image/png": "[encoded data removed]",
      "text/plain": [
       "<Figure size 432x288 with 1 Axes>"
      ]
     },
     "metadata": {
      "needs_background": "light"
     },
     "output_type": "display_data"
    }
   ],
   "source": [
    "# define the true objective function\n",
    "def func(x, a, b, c, d):\n",
    "    return a * np.sin(b - x) + c * x**2 + d\n",
    "\n",
    "# curve fit\n",
    "popt, _ = curve_fit(func, x, y)\n",
    "\n",
    "# summarize the parameter values\n",
    "a, b, c, d = popt\n",
    "print('y = %.5f * sin(%.5f - x) + %.5f * x^2 + %.5f'  % (a, b, c, d))\n",
    "\n",
    "# define a sequence of inputs between the smallest and largest known inputs\n",
    "x_line = np.arange(min(x), max(x), 1)\n",
    "\n",
    "# calculate the output for the range\n",
    "y_line = func(x_line, a, b, c, d)\n",
    "\n",
    "# plot input vs output\n",
    "fig = plt.figure()\n",
    "plt.scatter(x, y)\n",
    "plt.plot(x_line, y_line, '--', color='red')\n",
    "plt.show()"
   ]
  },
  {
   "cell_type": "code",
   "execution_count": null,
   "metadata": {},
   "outputs": [],
   "source": []
  }
 ],
 "metadata": {
  "kernelspec": {
   "display_name": "Python 3",
   "language": "python",
   "name": "python3"
  },
  "language_info": {
   "codemirror_mode": {
    "name": "ipython",
    "version": 3
   },
   "file_extension": ".py",
   "mimetype": "text/x-python",
   "name": "python",
   "nbconvert_exporter": "python",
   "pygments_lexer": "ipython3",
   "version": "3.8.5"
  }
 },
 "nbformat": 4,
 "nbformat_minor": 4
}
