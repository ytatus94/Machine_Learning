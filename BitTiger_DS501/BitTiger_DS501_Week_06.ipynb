{
 "cells": [
  {
   "cell_type": "markdown",
   "metadata": {},
   "source": [
    "# BitTiger DS501 Week6\n",
    "\n",
    "1. [基本觀念](#基本觀念)\n",
    "2. [PCA](#PCA)\n",
    "3. [Matrix Factorization](#Matrix-Factorization)\n",
    "   * [SVD](#SVD)\n",
    "   * [NMF](#NMF)\n",
    "   * [UVD](#UVD)\n",
    "4. [比較](#比較)\n",
    "5. [Recommendation](#Recommendation)\n",
    "   * [Item-item collaborative filter recommender](#Item-item-collaborative-filter-recommender)\n",
    "   * [Item-item collaborative filter recommender OOP](#Item-item-collaborative-filter-recommender-OOP)\n",
    "6. [Graphlab](#)"
   ]
  },
  {
   "cell_type": "markdown",
   "metadata": {},
   "source": [
    "# 基本觀念\n",
    "\n",
    "* 當 dimension 越多的時候，model 的 features 會越多，所以越容易造成 overfitting 的問題\n",
    "\n",
    "* Linear regression 和 kNN 兩個都是 **distance based** model\n",
    "  * Linear regression 是相對比較**穩定**的 model，比較不容易 overfitting\n",
    "    * 因為是用一條線來決定的，可能有些數據點就 fit 不準，所以 bias 就比較高，但是用不同的樣本來看的時候，不同樣本間 fit 出來的差別比較小，所以 variance 就比較低\n",
    "    * **Low variance, high bias**\n",
    "  * kNN 的 bias 和 variance 是由 k 決定的\n",
    "    * k 小的時候 fit 的很準，所以 bias 小，但是換用不同樣本來看的時候，fit 的結果就不準了，所以 variance 大\n",
    "    * **k 小： bias 小，variance 大**\n",
    "    * **k 大： bias 大，variance 小**\n",
    "    * 一般來說 kNN 希望用 k 大一點的\n",
    "    * 用 kNN 時希望能框進 **10%** 的數據\n",
    "* kMeans 也是 distance based model\n",
    "\n",
    "* 空間的維度越高時，數據點彼此之間的分佈距離就比較遠，所以分佈就比較稀疏，因此需要用更大的空間範圍才能框住所需的數據量\n",
    "  * 維度越高，用來框住數據的圓的半徑就要越大 (如果是用立方體框住，那邊長就要越長)，才能框住所需要的數據的數量\n",
    "  * 在 $p$ 維空間中，有 N 個數據點\n",
    "    * 樣本密度是 $N^{1/p}$\n",
    "    * 如果想框住單位立方體的 $v$% 的數據，用來框住數據的立方體的邊長是 $e_{p} = v^{1/p}$\n",
    "\n",
    "* Distance based model 在維度變高時，數據點彼此間的距離變遠，就容易出現問題\n",
    "  * Dimension 增加了，就會帶來新的 noise\n",
    "  * 數據彼此距離變遠了，對變化就比較不敏感\n",
    "  * 不是 dimension 增加就會造成 overfitting，要看新增加的 dimension 時代來的 noise 的影響\n",
    "    * relevant dimension 不會影響 performance\n",
    "    * irrelevant dimension 會帶來 noise 因此影響 performance"
   ]
  },
  {
   "cell_type": "markdown",
   "metadata": {},
   "source": [
    "# PCA\n",
    "\n",
    "* PCA 是 **principal component analysis** 的縮寫\n",
    "* PCA 主要是要找到一組新的座標軸 (principal components) 然後旋轉座標軸到新的座標軸 (主軸) 上，這樣可以 **使 covariance 消失，進而解決 multi-collinearity 的問題**\n",
    "  * N 維的空間，就能找到 N 個 principal components\n",
    "  * **principal components 彼此互相垂直**\n",
    "  * principal components 就是**能最大的描述 variance 方向的主軸**\n",
    "    * First principal component 就是 variance 的投影最大的那個軸\n",
    "  * 旋轉到新的座標軸後，交叉項就會消失，所以就沒有 covariance，也就可以解決 collinearity 的問題\n",
    "\n",
    "* Covariance:\n",
    "\\begin{equation} cov(X, Y) = \\sum_i \\frac{(X_i - \\bar{X})(Y_i - \\bar{Y})}{N} \\end{equation}\n",
    "* 給定一個 $n \\times m$ 的矩陣 $X$，它的 covariance matrix 是：\n",
    "  * 當 data 是母體時: \\begin{equation} \\frac{1}{n}X^{T}X \\end{equation}\n",
    "  * 當 data 是樣本時: \\begin{equation} \\frac{1}{n-1}X^{T}X \\end{equation}\n",
    "\n",
    "* 做 PCA 時不一定要先對數據做 standardization\n",
    "  * Standardization 就是使分佈變成 mean = 0, variance = 1\n",
    "  * \\begin{equation}x' = \\frac{x - \\mu}{\\sigma} \\end{equation}\n",
    "\n",
    "* 數學上來說，給定矩陣 $M$，PCA 就是要找到一個 transformation matrix $V$ 把 $M^T M$ 對角化，使得 $M^T M$ 只有對角線元素是非零 (這樣就沒有交叉項，也就沒有 covariance 了)\n",
    "  * 就是要**把 $M^T M$ 對角化求本徵值的過程**\n",
    "    * eigenvectors 是新的基底\n",
    "    * eigenvalues 是在這個新的基底上的 variance\n",
    "    * $M^T M$ 的 eigenvalues 其實是 $M$ 的 singular value 的平方\n",
    "  * $V$ 的元素彼此互相正交歸一\n",
    "    * $V^T V = I$, $V^T = V^{-1}$\n",
    "    * $V$ 也是 unitary matrix: $V^{*} = V^{-1}$ (矩陣的共軛轉置 = 逆矩陣)\n",
    "* 把矩陣 $A$ 對角化就表示把 $A$ 寫成 $PDP^{-1}$ 的形式\n",
    "  * $D$ 是由 eigenvalues 組成的對角矩陣\n",
    "  * $P$ 是由 eigenvectors 當成每一個 column 組成的矩陣\n",
    "  * 求解 eigenvalue equation: $(A - \\lambda I)x = 0$\n",
    "* PCA 後，新空間中的每個 component 其實是舊的空間中的 components 的疊加，所以**模型解釋能力比較差**\n",
    "* PCA 可以幫助 data compression\n",
    "  * $M$ 是 feature matrix\n",
    "  * 把 eigenvalues 由大排到小，可以藉由把小的 eigenvalues 丟掉，達成 dimension reduction 的目的\n",
    "  * 因為 $MV$ 是被降維了所以檔案大小也變小了，但是只要知道 $MV$ 和 $V$ 的形式，可推算回去得到 $M$\n",
    "  * 保留的 principal components 越多的話，恢復成原本的 $M$ 的時候，恢復的程度就會越好\n",
    "  * 保留的 principal components 越多的話，對原始的數據中解釋 variance 的能力就越好\n",
    "\n",
    "### Load Data"
   ]
  },
  {
   "cell_type": "code",
   "execution_count": 1,
   "metadata": {
    "scrolled": true
   },
   "outputs": [
    {
     "name": "stdout",
     "output_type": "stream",
     "text": [
      "<class 'pandas.core.frame.DataFrame'>\n",
      "Index: 322 entries, -Andy Allanson to -Willie Wilson\n",
      "Data columns (total 20 columns):\n",
      "AtBat        322 non-null int64\n",
      "Hits         322 non-null int64\n",
      "HmRun        322 non-null int64\n",
      "Runs         322 non-null int64\n",
      "RBI          322 non-null int64\n",
      "Walks        322 non-null int64\n",
      "Years        322 non-null int64\n",
      "CAtBat       322 non-null int64\n",
      "CHits        322 non-null int64\n",
      "CHmRun       322 non-null int64\n",
      "CRuns        322 non-null int64\n",
      "CRBI         322 non-null int64\n",
      "CWalks       322 non-null int64\n",
      "League       322 non-null object\n",
      "Division     322 non-null object\n",
      "PutOuts      322 non-null int64\n",
      "Assists      322 non-null int64\n",
      "Errors       322 non-null int64\n",
      "Salary       263 non-null float64\n",
      "NewLeague    322 non-null object\n",
      "dtypes: float64(1), int64(16), object(3)\n",
      "memory usage: 52.8+ KB\n"
     ]
    }
   ],
   "source": [
    "import pandas as pd\n",
    "import numpy as np\n",
    "\n",
    "df_hitters = pd.read_csv('hitters.csv')\n",
    "\n",
    "df_hitters.info()"
   ]
  },
  {
   "cell_type": "code",
   "execution_count": 2,
   "metadata": {},
   "outputs": [],
   "source": [
    "# Dropping NAs\n",
    "df_hitters.dropna(inplace=True) # 只要有 missing value 就把該 row 丟掉，會剩下 263 rows"
   ]
  },
  {
   "cell_type": "code",
   "execution_count": 3,
   "metadata": {},
   "outputs": [
    {
     "data": {
      "text/html": [
       "<div>\n",
       "<style scoped>\n",
       "    .dataframe tbody tr th:only-of-type {\n",
       "        vertical-align: middle;\n",
       "    }\n",
       "\n",
       "    .dataframe tbody tr th {\n",
       "        vertical-align: top;\n",
       "    }\n",
       "\n",
       "    .dataframe thead th {\n",
       "        text-align: right;\n",
       "    }\n",
       "</style>\n",
       "<table border=\"1\" class=\"dataframe\">\n",
       "  <thead>\n",
       "    <tr style=\"text-align: right;\">\n",
       "      <th></th>\n",
       "      <th>AtBat</th>\n",
       "      <th>Hits</th>\n",
       "      <th>HmRun</th>\n",
       "      <th>Runs</th>\n",
       "      <th>RBI</th>\n",
       "      <th>Walks</th>\n",
       "      <th>Years</th>\n",
       "      <th>CAtBat</th>\n",
       "      <th>CHits</th>\n",
       "      <th>CHmRun</th>\n",
       "      <th>CRuns</th>\n",
       "      <th>CRBI</th>\n",
       "      <th>CWalks</th>\n",
       "      <th>League</th>\n",
       "      <th>Division</th>\n",
       "      <th>PutOuts</th>\n",
       "      <th>Assists</th>\n",
       "      <th>Errors</th>\n",
       "      <th>Salary</th>\n",
       "      <th>NewLeague</th>\n",
       "    </tr>\n",
       "  </thead>\n",
       "  <tbody>\n",
       "    <tr>\n",
       "      <th>-Alan Ashby</th>\n",
       "      <td>315</td>\n",
       "      <td>81</td>\n",
       "      <td>7</td>\n",
       "      <td>24</td>\n",
       "      <td>38</td>\n",
       "      <td>39</td>\n",
       "      <td>14</td>\n",
       "      <td>3449</td>\n",
       "      <td>835</td>\n",
       "      <td>69</td>\n",
       "      <td>321</td>\n",
       "      <td>414</td>\n",
       "      <td>375</td>\n",
       "      <td>N</td>\n",
       "      <td>W</td>\n",
       "      <td>632</td>\n",
       "      <td>43</td>\n",
       "      <td>10</td>\n",
       "      <td>475.0</td>\n",
       "      <td>N</td>\n",
       "    </tr>\n",
       "    <tr>\n",
       "      <th>-Alvin Davis</th>\n",
       "      <td>479</td>\n",
       "      <td>130</td>\n",
       "      <td>18</td>\n",
       "      <td>66</td>\n",
       "      <td>72</td>\n",
       "      <td>76</td>\n",
       "      <td>3</td>\n",
       "      <td>1624</td>\n",
       "      <td>457</td>\n",
       "      <td>63</td>\n",
       "      <td>224</td>\n",
       "      <td>266</td>\n",
       "      <td>263</td>\n",
       "      <td>A</td>\n",
       "      <td>W</td>\n",
       "      <td>880</td>\n",
       "      <td>82</td>\n",
       "      <td>14</td>\n",
       "      <td>480.0</td>\n",
       "      <td>A</td>\n",
       "    </tr>\n",
       "    <tr>\n",
       "      <th>-Andre Dawson</th>\n",
       "      <td>496</td>\n",
       "      <td>141</td>\n",
       "      <td>20</td>\n",
       "      <td>65</td>\n",
       "      <td>78</td>\n",
       "      <td>37</td>\n",
       "      <td>11</td>\n",
       "      <td>5628</td>\n",
       "      <td>1575</td>\n",
       "      <td>225</td>\n",
       "      <td>828</td>\n",
       "      <td>838</td>\n",
       "      <td>354</td>\n",
       "      <td>N</td>\n",
       "      <td>E</td>\n",
       "      <td>200</td>\n",
       "      <td>11</td>\n",
       "      <td>3</td>\n",
       "      <td>500.0</td>\n",
       "      <td>N</td>\n",
       "    </tr>\n",
       "    <tr>\n",
       "      <th>-Andres Galarraga</th>\n",
       "      <td>321</td>\n",
       "      <td>87</td>\n",
       "      <td>10</td>\n",
       "      <td>39</td>\n",
       "      <td>42</td>\n",
       "      <td>30</td>\n",
       "      <td>2</td>\n",
       "      <td>396</td>\n",
       "      <td>101</td>\n",
       "      <td>12</td>\n",
       "      <td>48</td>\n",
       "      <td>46</td>\n",
       "      <td>33</td>\n",
       "      <td>N</td>\n",
       "      <td>E</td>\n",
       "      <td>805</td>\n",
       "      <td>40</td>\n",
       "      <td>4</td>\n",
       "      <td>91.5</td>\n",
       "      <td>N</td>\n",
       "    </tr>\n",
       "    <tr>\n",
       "      <th>-Alfredo Griffin</th>\n",
       "      <td>594</td>\n",
       "      <td>169</td>\n",
       "      <td>4</td>\n",
       "      <td>74</td>\n",
       "      <td>51</td>\n",
       "      <td>35</td>\n",
       "      <td>11</td>\n",
       "      <td>4408</td>\n",
       "      <td>1133</td>\n",
       "      <td>19</td>\n",
       "      <td>501</td>\n",
       "      <td>336</td>\n",
       "      <td>194</td>\n",
       "      <td>A</td>\n",
       "      <td>W</td>\n",
       "      <td>282</td>\n",
       "      <td>421</td>\n",
       "      <td>25</td>\n",
       "      <td>750.0</td>\n",
       "      <td>A</td>\n",
       "    </tr>\n",
       "  </tbody>\n",
       "</table>\n",
       "</div>"
      ],
      "text/plain": [
       "                   AtBat  Hits  HmRun  Runs  RBI  Walks  Years  CAtBat  CHits  \\\n",
       "-Alan Ashby          315    81      7    24   38     39     14    3449    835   \n",
       "-Alvin Davis         479   130     18    66   72     76      3    1624    457   \n",
       "-Andre Dawson        496   141     20    65   78     37     11    5628   1575   \n",
       "-Andres Galarraga    321    87     10    39   42     30      2     396    101   \n",
       "-Alfredo Griffin     594   169      4    74   51     35     11    4408   1133   \n",
       "\n",
       "                   CHmRun  CRuns  CRBI  CWalks League Division  PutOuts  \\\n",
       "-Alan Ashby            69    321   414     375      N        W      632   \n",
       "-Alvin Davis           63    224   266     263      A        W      880   \n",
       "-Andre Dawson         225    828   838     354      N        E      200   \n",
       "-Andres Galarraga      12     48    46      33      N        E      805   \n",
       "-Alfredo Griffin       19    501   336     194      A        W      282   \n",
       "\n",
       "                   Assists  Errors  Salary NewLeague  \n",
       "-Alan Ashby             43      10   475.0         N  \n",
       "-Alvin Davis            82      14   480.0         A  \n",
       "-Andre Dawson           11       3   500.0         N  \n",
       "-Andres Galarraga       40       4    91.5         N  \n",
       "-Alfredo Griffin       421      25   750.0         A  "
      ]
     },
     "execution_count": 3,
     "metadata": {},
     "output_type": "execute_result"
    }
   ],
   "source": [
    "df_hitters.head()"
   ]
  },
  {
   "cell_type": "markdown",
   "metadata": {},
   "source": [
    "Division, League, NewLeague 三個是 object 的型態"
   ]
  },
  {
   "cell_type": "code",
   "execution_count": 4,
   "metadata": {},
   "outputs": [
    {
     "data": {
      "text/plain": [
       "W    134\n",
       "E    129\n",
       "Name: Division, dtype: int64"
      ]
     },
     "execution_count": 4,
     "metadata": {},
     "output_type": "execute_result"
    }
   ],
   "source": [
    "df_hitters['Division'].value_counts()"
   ]
  },
  {
   "cell_type": "code",
   "execution_count": 5,
   "metadata": {},
   "outputs": [
    {
     "data": {
      "text/plain": [
       "A    139\n",
       "N    124\n",
       "Name: League, dtype: int64"
      ]
     },
     "execution_count": 5,
     "metadata": {},
     "output_type": "execute_result"
    }
   ],
   "source": [
    "df_hitters['League'].value_counts()"
   ]
  },
  {
   "cell_type": "code",
   "execution_count": 6,
   "metadata": {},
   "outputs": [
    {
     "data": {
      "text/plain": [
       "A    141\n",
       "N    122\n",
       "Name: NewLeague, dtype: int64"
      ]
     },
     "execution_count": 6,
     "metadata": {},
     "output_type": "execute_result"
    }
   ],
   "source": [
    "df_hitters['NewLeague'].value_counts()"
   ]
  },
  {
   "cell_type": "markdown",
   "metadata": {},
   "source": [
    "### Data cleaning"
   ]
  },
  {
   "cell_type": "markdown",
   "metadata": {},
   "source": [
    "因為 Division, League, NewLeague 都只有兩個值，所以把他們改成 binary 的形式"
   ]
  },
  {
   "cell_type": "code",
   "execution_count": 7,
   "metadata": {},
   "outputs": [],
   "source": [
    "def map_binary(df, col):\n",
    "    vals = df[col].unique()\n",
    "    df[col] = df[col].apply(lambda x: 0 if x == vals[0] else 1)"
   ]
  },
  {
   "cell_type": "code",
   "execution_count": 8,
   "metadata": {},
   "outputs": [],
   "source": [
    "map_binary(df_hitters, 'League')\n",
    "map_binary(df_hitters, 'NewLeague')\n",
    "map_binary(df_hitters, 'Division')"
   ]
  },
  {
   "cell_type": "code",
   "execution_count": 9,
   "metadata": {},
   "outputs": [
    {
     "data": {
      "text/html": [
       "<div>\n",
       "<style scoped>\n",
       "    .dataframe tbody tr th:only-of-type {\n",
       "        vertical-align: middle;\n",
       "    }\n",
       "\n",
       "    .dataframe tbody tr th {\n",
       "        vertical-align: top;\n",
       "    }\n",
       "\n",
       "    .dataframe thead th {\n",
       "        text-align: right;\n",
       "    }\n",
       "</style>\n",
       "<table border=\"1\" class=\"dataframe\">\n",
       "  <thead>\n",
       "    <tr style=\"text-align: right;\">\n",
       "      <th></th>\n",
       "      <th>AtBat</th>\n",
       "      <th>Hits</th>\n",
       "      <th>HmRun</th>\n",
       "      <th>Runs</th>\n",
       "      <th>RBI</th>\n",
       "      <th>Walks</th>\n",
       "      <th>Years</th>\n",
       "      <th>CAtBat</th>\n",
       "      <th>CHits</th>\n",
       "      <th>CHmRun</th>\n",
       "      <th>CRuns</th>\n",
       "      <th>CRBI</th>\n",
       "      <th>CWalks</th>\n",
       "      <th>League</th>\n",
       "      <th>Division</th>\n",
       "      <th>PutOuts</th>\n",
       "      <th>Assists</th>\n",
       "      <th>Errors</th>\n",
       "      <th>Salary</th>\n",
       "      <th>NewLeague</th>\n",
       "    </tr>\n",
       "  </thead>\n",
       "  <tbody>\n",
       "    <tr>\n",
       "      <th>-Alan Ashby</th>\n",
       "      <td>315</td>\n",
       "      <td>81</td>\n",
       "      <td>7</td>\n",
       "      <td>24</td>\n",
       "      <td>38</td>\n",
       "      <td>39</td>\n",
       "      <td>14</td>\n",
       "      <td>3449</td>\n",
       "      <td>835</td>\n",
       "      <td>69</td>\n",
       "      <td>321</td>\n",
       "      <td>414</td>\n",
       "      <td>375</td>\n",
       "      <td>0</td>\n",
       "      <td>0</td>\n",
       "      <td>632</td>\n",
       "      <td>43</td>\n",
       "      <td>10</td>\n",
       "      <td>475.0</td>\n",
       "      <td>0</td>\n",
       "    </tr>\n",
       "    <tr>\n",
       "      <th>-Alvin Davis</th>\n",
       "      <td>479</td>\n",
       "      <td>130</td>\n",
       "      <td>18</td>\n",
       "      <td>66</td>\n",
       "      <td>72</td>\n",
       "      <td>76</td>\n",
       "      <td>3</td>\n",
       "      <td>1624</td>\n",
       "      <td>457</td>\n",
       "      <td>63</td>\n",
       "      <td>224</td>\n",
       "      <td>266</td>\n",
       "      <td>263</td>\n",
       "      <td>1</td>\n",
       "      <td>0</td>\n",
       "      <td>880</td>\n",
       "      <td>82</td>\n",
       "      <td>14</td>\n",
       "      <td>480.0</td>\n",
       "      <td>1</td>\n",
       "    </tr>\n",
       "    <tr>\n",
       "      <th>-Andre Dawson</th>\n",
       "      <td>496</td>\n",
       "      <td>141</td>\n",
       "      <td>20</td>\n",
       "      <td>65</td>\n",
       "      <td>78</td>\n",
       "      <td>37</td>\n",
       "      <td>11</td>\n",
       "      <td>5628</td>\n",
       "      <td>1575</td>\n",
       "      <td>225</td>\n",
       "      <td>828</td>\n",
       "      <td>838</td>\n",
       "      <td>354</td>\n",
       "      <td>0</td>\n",
       "      <td>1</td>\n",
       "      <td>200</td>\n",
       "      <td>11</td>\n",
       "      <td>3</td>\n",
       "      <td>500.0</td>\n",
       "      <td>0</td>\n",
       "    </tr>\n",
       "    <tr>\n",
       "      <th>-Andres Galarraga</th>\n",
       "      <td>321</td>\n",
       "      <td>87</td>\n",
       "      <td>10</td>\n",
       "      <td>39</td>\n",
       "      <td>42</td>\n",
       "      <td>30</td>\n",
       "      <td>2</td>\n",
       "      <td>396</td>\n",
       "      <td>101</td>\n",
       "      <td>12</td>\n",
       "      <td>48</td>\n",
       "      <td>46</td>\n",
       "      <td>33</td>\n",
       "      <td>0</td>\n",
       "      <td>1</td>\n",
       "      <td>805</td>\n",
       "      <td>40</td>\n",
       "      <td>4</td>\n",
       "      <td>91.5</td>\n",
       "      <td>0</td>\n",
       "    </tr>\n",
       "    <tr>\n",
       "      <th>-Alfredo Griffin</th>\n",
       "      <td>594</td>\n",
       "      <td>169</td>\n",
       "      <td>4</td>\n",
       "      <td>74</td>\n",
       "      <td>51</td>\n",
       "      <td>35</td>\n",
       "      <td>11</td>\n",
       "      <td>4408</td>\n",
       "      <td>1133</td>\n",
       "      <td>19</td>\n",
       "      <td>501</td>\n",
       "      <td>336</td>\n",
       "      <td>194</td>\n",
       "      <td>1</td>\n",
       "      <td>0</td>\n",
       "      <td>282</td>\n",
       "      <td>421</td>\n",
       "      <td>25</td>\n",
       "      <td>750.0</td>\n",
       "      <td>1</td>\n",
       "    </tr>\n",
       "  </tbody>\n",
       "</table>\n",
       "</div>"
      ],
      "text/plain": [
       "                   AtBat  Hits  HmRun  Runs  RBI  Walks  Years  CAtBat  CHits  \\\n",
       "-Alan Ashby          315    81      7    24   38     39     14    3449    835   \n",
       "-Alvin Davis         479   130     18    66   72     76      3    1624    457   \n",
       "-Andre Dawson        496   141     20    65   78     37     11    5628   1575   \n",
       "-Andres Galarraga    321    87     10    39   42     30      2     396    101   \n",
       "-Alfredo Griffin     594   169      4    74   51     35     11    4408   1133   \n",
       "\n",
       "                   CHmRun  CRuns  CRBI  CWalks  League  Division  PutOuts  \\\n",
       "-Alan Ashby            69    321   414     375       0         0      632   \n",
       "-Alvin Davis           63    224   266     263       1         0      880   \n",
       "-Andre Dawson         225    828   838     354       0         1      200   \n",
       "-Andres Galarraga      12     48    46      33       0         1      805   \n",
       "-Alfredo Griffin       19    501   336     194       1         0      282   \n",
       "\n",
       "                   Assists  Errors  Salary  NewLeague  \n",
       "-Alan Ashby             43      10   475.0          0  \n",
       "-Alvin Davis            82      14   480.0          1  \n",
       "-Andre Dawson           11       3   500.0          0  \n",
       "-Andres Galarraga       40       4    91.5          0  \n",
       "-Alfredo Griffin       421      25   750.0          1  "
      ]
     },
     "execution_count": 9,
     "metadata": {},
     "output_type": "execute_result"
    }
   ],
   "source": [
    "df_hitters.head()"
   ]
  },
  {
   "cell_type": "markdown",
   "metadata": {},
   "source": [
    "### Get features and target"
   ]
  },
  {
   "cell_type": "code",
   "execution_count": 10,
   "metadata": {},
   "outputs": [
    {
     "name": "stdout",
     "output_type": "stream",
     "text": [
      "Index(['Assists', 'AtBat', 'CAtBat', 'CHits', 'CHmRun', 'CRBI', 'CRuns',\n",
      "       'CWalks', 'Division', 'Errors', 'Hits', 'HmRun', 'League', 'NewLeague',\n",
      "       'PutOuts', 'RBI', 'Runs', 'Walks', 'Years'],\n",
      "      dtype='object')\n"
     ]
    }
   ],
   "source": [
    "feature_names = df_hitters.columns.difference(['Salary']) # 選出除了 salary 之外的 features\n",
    "print(feature_names)"
   ]
  },
  {
   "cell_type": "code",
   "execution_count": 11,
   "metadata": {},
   "outputs": [],
   "source": [
    "X = df_hitters[feature_names].astype(float).values\n",
    "y = df_hitters['Salary'].values"
   ]
  },
  {
   "cell_type": "code",
   "execution_count": 12,
   "metadata": {},
   "outputs": [
    {
     "name": "stdout",
     "output_type": "stream",
     "text": [
      "(263, 19)\n"
     ]
    },
    {
     "data": {
      "text/plain": [
       "array([[4.300e+01, 3.150e+02, 3.449e+03, ..., 2.400e+01, 3.900e+01,\n",
       "        1.400e+01],\n",
       "       [8.200e+01, 4.790e+02, 1.624e+03, ..., 6.600e+01, 7.600e+01,\n",
       "        3.000e+00],\n",
       "       [1.100e+01, 4.960e+02, 5.628e+03, ..., 6.500e+01, 3.700e+01,\n",
       "        1.100e+01],\n",
       "       ...,\n",
       "       [1.130e+02, 4.750e+02, 1.700e+03, ..., 6.100e+01, 5.200e+01,\n",
       "        6.000e+00],\n",
       "       [1.310e+02, 5.730e+02, 3.198e+03, ..., 8.500e+01, 7.800e+01,\n",
       "        8.000e+00],\n",
       "       [4.000e+00, 6.310e+02, 4.908e+03, ..., 7.700e+01, 3.100e+01,\n",
       "        1.100e+01]])"
      ]
     },
     "execution_count": 12,
     "metadata": {},
     "output_type": "execute_result"
    }
   ],
   "source": [
    "print(X.shape)\n",
    "X"
   ]
  },
  {
   "cell_type": "code",
   "execution_count": 13,
   "metadata": {},
   "outputs": [
    {
     "name": "stdout",
     "output_type": "stream",
     "text": [
      "(263,)\n"
     ]
    },
    {
     "data": {
      "text/plain": [
       "array([ 475.   ,  480.   ,  500.   ,   91.5  ,  750.   ,   70.   ,\n",
       "        100.   ,   75.   , 1100.   ,  517.143,  512.5  ,  550.   ,\n",
       "        700.   ,  240.   ,  775.   ,  175.   ,  135.   ,  100.   ,\n",
       "        115.   ,  600.   ,  776.667,  765.   ,  708.333,  750.   ,\n",
       "        625.   ,  900.   ,  110.   ,  612.5  ,  300.   ,  850.   ,\n",
       "         90.   ,   67.5  ,  180.   ,  305.   ,  215.   ,  247.5  ,\n",
       "        815.   ,  875.   ,   70.   , 1200.   ,  675.   ,  415.   ,\n",
       "        340.   ,  416.667, 1350.   ,   90.   ,  275.   ,  230.   ,\n",
       "        225.   ,  950.   ,   75.   ,  105.   ,  320.   ,  850.   ,\n",
       "        535.   ,  933.333,  850.   ,  210.   ,  325.   ,  275.   ,\n",
       "        450.   , 1975.   , 1900.   ,  600.   , 1041.667,  110.   ,\n",
       "        260.   ,  475.   ,  431.5  , 1220.   ,   70.   ,  145.   ,\n",
       "        595.   , 1861.46 ,  300.   ,  490.   , 2460.   ,  375.   ,\n",
       "        750.   , 1175.   ,   70.   , 1500.   ,  385.   , 1925.571,\n",
       "        215.   ,  900.   ,  155.   ,  700.   ,  535.   ,  362.5  ,\n",
       "        733.333,  200.   ,  400.   ,  400.   ,  737.5  ,  500.   ,\n",
       "        600.   ,  662.5  ,  950.   ,  750.   ,  297.5  ,  325.   ,\n",
       "         87.5  ,  175.   ,   90.   , 1237.5  ,  430.   ,  100.   ,\n",
       "        165.   ,  250.   , 1300.   ,  773.333, 1008.333,  275.   ,\n",
       "        775.   ,  850.   ,  365.   ,   95.   ,  110.   ,  100.   ,\n",
       "        277.5  ,   80.   ,  600.   ,  200.   ,  657.   ,   75.   ,\n",
       "       2412.5  ,  250.   ,  155.   ,  640.   ,  300.   ,  110.   ,\n",
       "        825.   ,  195.   ,  450.   ,  630.   ,   86.5  , 1300.   ,\n",
       "       1000.   , 1800.   , 1310.   ,  737.5  ,  625.   ,  125.   ,\n",
       "       1043.333,  725.   ,  300.   ,  365.   ,   75.   , 1183.333,\n",
       "        202.5  ,  225.   ,  525.   ,  265.   ,  787.5  ,  800.   ,\n",
       "        587.5  ,  145.   ,  420.   ,   75.   ,  575.   ,  780.   ,\n",
       "         90.   ,  150.   ,  700.   ,  550.   ,  650.   ,   68.   ,\n",
       "        100.   ,  670.   ,  175.   ,  137.   , 2127.333,  875.   ,\n",
       "        120.   ,  140.   ,  210.   ,  800.   ,  240.   ,  350.   ,\n",
       "        175.   ,  200.   , 1940.   ,  700.   ,  750.   ,  450.   ,\n",
       "        172.   , 1260.   ,  750.   ,  190.   ,  580.   ,  130.   ,\n",
       "        450.   ,  300.   ,  250.   , 1050.   ,  215.   ,  400.   ,\n",
       "        560.   , 1670.   ,  487.5  ,  425.   ,  500.   ,  250.   ,\n",
       "        400.   ,  450.   ,  750.   ,   70.   ,  875.   ,  190.   ,\n",
       "        191.   ,  740.   ,  250.   ,  140.   ,   97.5  ,  740.   ,\n",
       "        140.   ,  341.667, 1000.   ,  100.   ,   90.   ,  200.   ,\n",
       "        135.   ,  155.   ,  475.   , 1450.   ,  150.   ,  105.   ,\n",
       "        350.   ,   90.   ,  530.   ,  341.667,  940.   ,  350.   ,\n",
       "        326.667,  250.   ,  740.   ,  425.   ,  925.   ,  185.   ,\n",
       "        920.   ,  286.667,  245.   ,  235.   , 1150.   ,  160.   ,\n",
       "        425.   ,  900.   ,  500.   ,  277.5  ,  750.   ,  160.   ,\n",
       "       1300.   ,  525.   ,  550.   , 1600.   ,  120.   ,  165.   ,\n",
       "        700.   ,  875.   ,  385.   ,  960.   , 1000.   ])"
      ]
     },
     "execution_count": 13,
     "metadata": {},
     "output_type": "execute_result"
    }
   ],
   "source": [
    "print(y.shape) # y 是一個一維的 vector\n",
    "y"
   ]
  },
  {
   "cell_type": "markdown",
   "metadata": {},
   "source": [
    "### Stanardization\n",
    "\n",
    "PCA 不一定要先做 standardization"
   ]
  },
  {
   "cell_type": "code",
   "execution_count": 14,
   "metadata": {},
   "outputs": [],
   "source": [
    "from sklearn.preprocessing import StandardScaler\n",
    "\n",
    "scaler = StandardScaler()\n",
    "X_scaled = scaler.fit_transform(X)"
   ]
  },
  {
   "cell_type": "code",
   "execution_count": 15,
   "metadata": {},
   "outputs": [
    {
     "name": "stdout",
     "output_type": "stream",
     "text": [
      "(263, 19)\n"
     ]
    },
    {
     "data": {
      "text/plain": [
       "array([[-0.52319133, -0.6029005 ,  0.3467905 , ..., -1.2061115 ,\n",
       "        -0.0975271 ,  1.3978935 ],\n",
       "       [-0.25386267,  0.51254171, -0.45286539, ...,  0.44151497,\n",
       "         1.6093726 , -0.90120024],\n",
       "       [-0.74417894,  0.62816682,  1.30155773, ...,  0.40228577,\n",
       "        -0.18979195,  0.77086793],\n",
       "       ...,\n",
       "       [-0.03978092,  0.48533581, -0.41956465, ...,  0.24536896,\n",
       "         0.50219441, -0.27417468],\n",
       "       [ 0.08452461,  1.15188054,  0.23681043, ...,  1.1868698 ,\n",
       "         1.70163744,  0.14384237],\n",
       "       [-0.79251998,  1.54636621,  0.98607705, ...,  0.87303619,\n",
       "        -0.4665865 ,  0.77086793]])"
      ]
     },
     "execution_count": 15,
     "metadata": {},
     "output_type": "execute_result"
    }
   ],
   "source": [
    "print(X_scaled.shape)\n",
    "X_scaled"
   ]
  },
  {
   "cell_type": "markdown",
   "metadata": {},
   "source": [
    "### Train test split"
   ]
  },
  {
   "cell_type": "code",
   "execution_count": 16,
   "metadata": {},
   "outputs": [],
   "source": [
    "from sklearn.model_selection import train_test_split\n",
    "X_train, X_test, y_train, y_test = train_test_split(X_scaled, y, test_size=0.2, random_state=42)"
   ]
  },
  {
   "cell_type": "code",
   "execution_count": 17,
   "metadata": {},
   "outputs": [
    {
     "name": "stdout",
     "output_type": "stream",
     "text": [
      "(210, 19) (53, 19) (210,) (53,)\n"
     ]
    }
   ],
   "source": [
    "print(X_train.shape, X_test.shape, y_train.shape, y_test.shape)"
   ]
  },
  {
   "cell_type": "markdown",
   "metadata": {},
   "source": [
    "### Use PCA to transform data and get principal components\n",
    "\n",
    "* 見 [https://scikit-learn.org/stable/modules/generated/sklearn.decomposition.PCA.html](https://scikit-learn.org/stable/modules/generated/sklearn.decomposition.PCA.html)"
   ]
  },
  {
   "cell_type": "code",
   "execution_count": 18,
   "metadata": {},
   "outputs": [],
   "source": [
    "from sklearn.decomposition import PCA\n",
    "\n",
    "n_col = X_train.shape[1]\n",
    "pca = PCA(n_components=n_col)\n",
    "\n",
    "train_components = pca.fit_transform(X_train) # fit: get V, lambda; transform: X_train*V\n",
    "test_components = pca.transform(X_test) # V 已經得到了，所以直接 transform"
   ]
  },
  {
   "cell_type": "code",
   "execution_count": 19,
   "metadata": {},
   "outputs": [
    {
     "name": "stdout",
     "output_type": "stream",
     "text": [
      "(210, 19)\n",
      "(210, 19)\n"
     ]
    }
   ],
   "source": [
    "# PCA 只是旋轉，沒做 dimentional reduction，當然選轉前後的維度是一樣的\n",
    "print(X_train.shape)\n",
    "print(train_components.shape)"
   ]
  },
  {
   "cell_type": "code",
   "execution_count": 20,
   "metadata": {},
   "outputs": [
    {
     "name": "stdout",
     "output_type": "stream",
     "text": [
      "(53, 19)\n",
      "(53, 19)\n"
     ]
    }
   ],
   "source": [
    "# transformed data in new space has the same dimension as original data\n",
    "print(X_test.shape)\n",
    "print(test_components.shape)"
   ]
  },
  {
   "cell_type": "code",
   "execution_count": 21,
   "metadata": {},
   "outputs": [
    {
     "data": {
      "text/plain": [
       "array([[-2.02855553e+00, -1.84097001e+00,  9.21147363e-01, ...,\n",
       "         3.21250401e-02,  5.24599961e-02, -8.51956406e-03],\n",
       "       [-2.97187815e+00,  9.21807300e-01,  3.69430093e-01, ...,\n",
       "         3.17386498e-02, -1.29718569e-02, -3.43185683e-02],\n",
       "       [ 3.14005490e-01, -1.58427348e+00,  7.49691288e-01, ...,\n",
       "         1.01271207e-01, -6.31353425e-02,  6.42583056e-03],\n",
       "       ...,\n",
       "       [-5.39752641e-01, -2.97714801e+00, -1.75431480e+00, ...,\n",
       "         3.48245715e-03,  1.83848143e-02, -2.54685970e-04],\n",
       "       [ 9.75335288e-01,  1.29587667e+00, -7.73556234e-01, ...,\n",
       "        -1.98216919e-01, -3.02904023e-02, -2.03182703e-03],\n",
       "       [-2.57546893e+00, -8.00353440e-01,  3.67953464e-01, ...,\n",
       "         3.59723741e-02,  9.75997678e-02, -2.16196979e-02]])"
      ]
     },
     "execution_count": 21,
     "metadata": {},
     "output_type": "execute_result"
    }
   ],
   "source": [
    "# transformed by sklearn\n",
    "train_components"
   ]
  },
  {
   "cell_type": "markdown",
   "metadata": {},
   "source": [
    "比較一下由 PCA package 算出來的 $MV$ 矩陣和自己算出來的 $MV$ 矩陣是否相同"
   ]
  },
  {
   "cell_type": "code",
   "execution_count": 22,
   "metadata": {},
   "outputs": [
    {
     "data": {
      "text/plain": [
       "array([[-2.00909129e+00, -1.82675499e+00,  9.42608865e-01, ...,\n",
       "         2.04606195e-02,  5.42872823e-02, -8.73800486e-03],\n",
       "       [-2.95241391e+00,  9.36022324e-01,  3.90891594e-01, ...,\n",
       "         2.00742292e-02, -1.11445707e-02, -3.45370091e-02],\n",
       "       [ 3.33469729e-01, -1.57005845e+00,  7.71152789e-01, ...,\n",
       "         8.96067867e-02, -6.13080563e-02,  6.20738976e-03],\n",
       "       ...,\n",
       "       [-5.20288402e-01, -2.96293298e+00, -1.73285330e+00, ...,\n",
       "        -8.18196347e-03,  2.02121005e-02, -4.73126773e-04],\n",
       "       [ 9.94799527e-01,  1.31009169e+00, -7.52094732e-01, ...,\n",
       "        -2.09881340e-01, -2.84631161e-02, -2.25026784e-03],\n",
       "       [-2.55600469e+00, -7.86138415e-01,  3.89414965e-01, ...,\n",
       "         2.43079534e-02,  9.94270540e-02, -2.18381387e-02]])"
      ]
     },
     "execution_count": 22,
     "metadata": {},
     "output_type": "execute_result"
    }
   ],
   "source": [
    "# transformed by M*V in class, they are equivalent!\n",
    "train_components_2 = X_train.dot(pca.components_.T) # pca.components_ 是 V^T 所以要轉置回 V\n",
    "train_components_2"
   ]
  },
  {
   "cell_type": "code",
   "execution_count": 23,
   "metadata": {},
   "outputs": [
    {
     "name": "stdout",
     "output_type": "stream",
     "text": [
      "(210, 19) (19, 19)\n"
     ]
    }
   ],
   "source": [
    "print(train_components_2.shape, pca.components_.shape)"
   ]
  },
  {
   "cell_type": "code",
   "execution_count": 24,
   "metadata": {},
   "outputs": [
    {
     "data": {
      "text/plain": [
       "array([[ 0.01946424,  0.01421502,  0.0214615 , ..., -0.01166442,\n",
       "         0.00182729, -0.00021844],\n",
       "       [ 0.01946424,  0.01421502,  0.0214615 , ..., -0.01166442,\n",
       "         0.00182729, -0.00021844],\n",
       "       [ 0.01946424,  0.01421502,  0.0214615 , ..., -0.01166442,\n",
       "         0.00182729, -0.00021844],\n",
       "       ...,\n",
       "       [ 0.01946424,  0.01421502,  0.0214615 , ..., -0.01166442,\n",
       "         0.00182729, -0.00021844],\n",
       "       [ 0.01946424,  0.01421502,  0.0214615 , ..., -0.01166442,\n",
       "         0.00182729, -0.00021844],\n",
       "       [ 0.01946424,  0.01421502,  0.0214615 , ..., -0.01166442,\n",
       "         0.00182729, -0.00021844]])"
      ]
     },
     "execution_count": 24,
     "metadata": {},
     "output_type": "execute_result"
    }
   ],
   "source": [
    "train_components_2 - train_components # 自己算的和 sklearn 算的仍然有一點差別，不過差別不大，兩者大致相等"
   ]
  },
  {
   "cell_type": "code",
   "execution_count": 25,
   "metadata": {},
   "outputs": [
    {
     "name": "stdout",
     "output_type": "stream",
     "text": [
      "(19,)\n",
      "[7.56733469e+00 3.98232312e+00 2.04325163e+00 1.54072808e+00\n",
      " 1.00933404e+00 9.08124193e-01 6.62728000e-01 5.06370398e-01\n",
      " 2.70493145e-01 1.88395977e-01 1.39803988e-01 1.25858373e-01\n",
      " 9.08781392e-02 5.92594793e-02 4.81093115e-02 2.96732593e-02\n",
      " 1.26893318e-02 4.35333522e-03 1.13582781e-03]\n"
     ]
    }
   ],
   "source": [
    "print(pca.explained_variance_.shape)\n",
    "print(pca.explained_variance_) # 就是 MV 矩陣的 eigenvalues"
   ]
  },
  {
   "cell_type": "code",
   "execution_count": 26,
   "metadata": {},
   "outputs": [
    {
     "name": "stdout",
     "output_type": "stream",
     "text": [
      "(19, 19)\n",
      "[[ 7.33922745e-03  1.85145295e-01  3.36008029e-01  3.36905477e-01\n",
      "   3.35835564e-01  3.49372342e-01  3.46247730e-01  3.19102624e-01\n",
      "   2.53013254e-02  3.29534159e-03  1.82511115e-01  1.98354238e-01\n",
      "   3.47853584e-02  2.20743882e-02  8.83588003e-02  2.21314711e-01\n",
      "   1.83961529e-01  1.92798009e-01  2.82660046e-01]\n",
      " [-1.37002768e-01 -3.81492386e-01  1.86991507e-01  1.80441490e-01\n",
      "   1.15909883e-01  1.56138406e-01  1.70952144e-01  1.78633694e-01\n",
      "  -3.27674496e-02 -1.54880591e-01 -3.72073299e-01 -2.51217970e-01\n",
      "  -1.27159074e-01 -1.01794027e-01 -2.08825037e-01 -3.23837913e-01\n",
      "  -3.77329322e-01 -2.47807859e-01  2.52611764e-01]\n",
      " [ 3.84771453e-01  1.17328883e-01  7.04590089e-02  7.38795193e-02\n",
      "  -1.21472562e-01 -2.67944585e-03  3.01995021e-02  9.95068060e-03\n",
      "  -1.47571051e-02  3.60320765e-01  1.08814533e-01 -2.07127440e-01\n",
      "  -5.52209410e-01 -5.57386744e-01  9.30936280e-02 -4.64561504e-02\n",
      "  -7.88867772e-04  2.07063688e-02  1.81114538e-02]\n",
      " [ 5.17081423e-01  7.91280510e-02  9.36364436e-02  8.65690352e-02\n",
      "  -8.11592260e-02  3.18666154e-03  6.34213528e-02  1.05352069e-02\n",
      "  -1.74276876e-01  4.18414135e-01  6.19147781e-02 -2.41028729e-01\n",
      "   3.70518433e-01  3.79019357e-01 -3.37661854e-01 -1.12333708e-01\n",
      "  -2.96107175e-02 -1.26490237e-01  8.69004357e-02]\n",
      " [-9.11586922e-02 -3.07038088e-02  1.04652203e-03  1.80198968e-03\n",
      "   5.54800605e-02  3.65009344e-02 -3.10883485e-02 -4.68751627e-02\n",
      "  -9.09798348e-01  9.16584664e-02 -5.26362013e-02  1.26103061e-01\n",
      "  -9.78344900e-03  2.59286247e-03  3.36079733e-01  3.54471329e-02\n",
      "  -8.80944787e-02 -7.92019908e-02  4.46397919e-03]\n",
      " [ 6.85066346e-02 -7.94932413e-02  3.88175553e-02  5.09385784e-02\n",
      "  -5.42157902e-02  1.63701925e-02  2.74928033e-02  3.60260363e-02\n",
      "   3.02891459e-01  1.65667306e-01 -6.88158746e-02 -2.19231345e-01\n",
      "   1.73755232e-01  1.99292308e-01  8.31729551e-01 -1.30155130e-01\n",
      "  -1.46707735e-01 -7.84937022e-02  3.64832936e-02]\n",
      " [-3.02426471e-02  1.50279116e-01  4.37515570e-02  5.87403033e-02\n",
      "  -2.46413519e-01 -1.08419991e-01  9.09725226e-02  1.37695011e-01\n",
      "  -2.10085943e-01 -4.52588396e-01  1.80915221e-01 -5.00873391e-01\n",
      "   5.11858927e-02  2.05626359e-02  4.81097293e-02 -3.30464371e-01\n",
      "   2.15673144e-01  4.21572855e-01  6.85877886e-03]\n",
      " [-1.33143865e-01  2.41132624e-01  1.38160660e-01  1.90820574e-01\n",
      "  -2.13238447e-01  1.36220708e-02  8.06231164e-02 -3.05108246e-01\n",
      "   1.22323103e-02 -2.55561398e-01  3.51586807e-01 -1.01151628e-01\n",
      "   3.35974521e-02 -6.99564603e-02  2.76225345e-02  8.48081242e-02\n",
      "   8.46591149e-02 -6.97387653e-01  1.28757796e-01]\n",
      " [ 7.01586984e-01 -2.93694919e-02 -6.47209511e-02 -9.86398689e-02\n",
      "   1.66632017e-01  4.91775771e-02 -1.03003267e-01  1.74907093e-03\n",
      "  -2.39085861e-02 -5.98035180e-01 -4.72102870e-02  1.28892836e-01\n",
      "  -8.73886810e-03 -1.53014312e-02  1.07702642e-01  1.49488304e-01\n",
      "  -1.89450707e-01 -6.44383414e-02  2.89181789e-02]\n",
      " [-5.10426404e-02  1.81643863e-01 -1.10054487e-01 -1.21524481e-01\n",
      "   6.75105482e-01  2.59219868e-01 -3.93389478e-02 -6.48918095e-02\n",
      "  -1.51488367e-03  2.08083490e-02  1.37305729e-01 -3.11980213e-01\n",
      "   2.11344473e-02 -4.70111726e-02 -1.11336226e-02 -2.27542481e-01\n",
      "   5.27836105e-02 -1.54005086e-01 -4.59477298e-01]\n",
      " [-4.43881140e-02  4.98533573e-02 -2.14329204e-02 -4.82997365e-02\n",
      "   3.74839597e-02  4.06989647e-02 -8.32245558e-02 -8.80633088e-03\n",
      "  -6.94395585e-04 -1.96987061e-02  9.98443210e-02 -1.04044431e-01\n",
      "  -6.92581191e-01  6.82509379e-01 -1.69448570e-02  7.61373774e-02\n",
      "  -3.75663247e-02 -1.65879051e-02  9.08071816e-02]\n",
      " [ 1.53987354e-01 -1.27094512e-01  6.37004917e-02  9.12787379e-02\n",
      "  -1.14325636e-01 -1.54894491e-01  2.77875433e-01  2.73847633e-01\n",
      "  -5.76642254e-03 -4.52753066e-02 -1.06898670e-01  3.82204523e-01\n",
      "  -1.48431867e-01  1.17401900e-01  4.99369792e-02 -3.91699087e-01\n",
      "   4.09698765e-01 -2.74006265e-01 -4.05234551e-01]\n",
      " [-5.00077134e-02  5.46843448e-02  1.39096445e-01  2.55458475e-01\n",
      "  -2.38877949e-01  3.04339352e-02  1.94103831e-01  1.52731656e-01\n",
      "  -1.31771065e-02 -4.61628649e-02  1.88855841e-02 -1.07289876e-01\n",
      "   1.97095042e-04  4.86642379e-02 -5.28065716e-02  3.86755344e-01\n",
      "  -4.58661767e-01  6.34500852e-02 -6.38439039e-01]\n",
      " [-9.71419148e-02  2.23234206e-01 -1.95042250e-01 -3.03621344e-01\n",
      "   2.78172875e-02 -2.68426822e-01 -7.37608197e-02  7.42594143e-01\n",
      "  -1.51716847e-02  3.45132195e-02  2.10230042e-01 -2.64071417e-02\n",
      "   4.69895393e-02 -6.38147347e-02 -7.40955784e-03  5.43744601e-02\n",
      "  -1.93667510e-01 -2.57916402e-01  1.45443846e-01]\n",
      " [ 3.20529380e-02 -5.06732931e-01 -1.09420711e-01 -7.16506188e-02\n",
      "  -2.11439120e-02  1.08259359e-01 -1.24544782e-02  1.80833133e-01\n",
      "  -5.24262312e-02  3.47615556e-03 -6.12117290e-02 -3.92093720e-01\n",
      "   2.00529936e-02 -3.14159397e-02  1.32618679e-02  5.05187024e-01\n",
      "   4.87363121e-01 -1.53618371e-01 -4.38120222e-02]\n",
      " [ 1.20920971e-02 -5.54203192e-01 -6.90738626e-02  9.83097405e-02\n",
      "  -3.58688495e-02  1.44893491e-01 -1.45759359e-01  3.00636160e-02\n",
      "   3.85049388e-03  3.04491535e-02  7.25516586e-01  1.64794596e-01\n",
      "   2.55633905e-02 -1.37044311e-02 -1.70301760e-02 -1.97560053e-01\n",
      "  -1.76020205e-01  8.41258928e-02 -3.39287330e-02]\n",
      " [-1.72286221e-02  1.71704212e-01  1.34528524e-01  4.02746825e-02\n",
      "  -3.15757572e-01  5.97637714e-01 -6.12031290e-01  2.37063967e-01\n",
      "   1.15705951e-02 -1.60847330e-02 -1.50615334e-01  7.07046160e-02\n",
      "   2.78755857e-02 -8.36210748e-03 -1.52051463e-02 -1.16327351e-01\n",
      "   9.73922122e-02 -6.20095660e-02 -8.26328560e-02]\n",
      " [ 1.22730966e-02  1.04705566e-01 -7.29234625e-01  1.98617778e-03\n",
      "  -2.27960279e-01  4.53970916e-01  4.27280348e-01 -1.93691985e-02\n",
      "  -4.37329524e-03  7.62956625e-03 -3.92534154e-02  4.40174626e-02\n",
      "  -8.22877668e-03  4.04000094e-03 -6.82484638e-03 -5.37871256e-02\n",
      "  -5.49030530e-02 -2.06206299e-03  8.06344840e-02]\n",
      " [-6.22020592e-03 -4.98242456e-02  4.13591215e-01 -7.67782538e-01\n",
      "  -1.76015441e-01  2.75292147e-01  3.33898493e-01 -7.91919242e-02\n",
      "  -2.47532121e-03  3.09733167e-03  8.57268398e-02  2.42465980e-02\n",
      "   5.81737757e-03 -5.11627803e-03  3.15121538e-03 -1.49363820e-02\n",
      "  -5.57874023e-02  1.37033536e-02 -2.93018677e-02]]\n"
     ]
    }
   ],
   "source": [
    "# Inspect the principal axes in feature space\n",
    "print(pca.components_.shape) # n_components x n_features 所以是 V^T\n",
    "print(pca.components_)"
   ]
  },
  {
   "cell_type": "code",
   "execution_count": 27,
   "metadata": {},
   "outputs": [
    {
     "data": {
      "text/plain": [
       "array([[ 1.00000000e+00, -7.90915303e-17,  8.55548666e-17,\n",
       "         5.07885566e-17, -1.59628439e-16, -8.32495039e-17,\n",
       "         1.91642802e-16, -8.70812429e-17, -4.30550610e-17,\n",
       "         1.87644683e-16, -3.92174996e-17, -1.42955283e-16,\n",
       "         4.11475607e-17,  1.72607611e-16,  6.81988636e-17,\n",
       "        -2.76232842e-16,  1.91392631e-16, -1.56928961e-16,\n",
       "         1.28632188e-17],\n",
       "       [-7.90915303e-17,  1.00000000e+00,  7.09390061e-19,\n",
       "         3.95173480e-16,  9.27233004e-17,  4.44673059e-17,\n",
       "         7.41593049e-17, -1.53437290e-16, -1.81474068e-16,\n",
       "        -4.42493172e-16, -6.12032100e-16,  7.86144282e-17,\n",
       "        -4.52754652e-17, -3.11525165e-17, -1.72487425e-16,\n",
       "        -2.52641619e-16, -4.19021703e-16, -2.51623338e-17,\n",
       "         1.51252749e-16],\n",
       "       [ 8.55548666e-17,  7.09390061e-19,  1.00000000e+00,\n",
       "        -1.20597757e-16,  8.90093246e-17,  1.26402827e-16,\n",
       "        -1.75862805e-16,  3.79172619e-16, -1.42725117e-16,\n",
       "        -1.50628285e-16,  7.00571919e-17,  1.70684622e-16,\n",
       "         1.17040768e-16, -7.72614399e-17,  2.71893997e-16,\n",
       "        -5.32490581e-17,  1.04700427e-16,  2.29135602e-16,\n",
       "        -1.45743004e-16],\n",
       "       [ 5.07885566e-17,  3.95173480e-16, -1.20597757e-16,\n",
       "         1.00000000e+00,  4.87012581e-16,  1.38471445e-17,\n",
       "         2.41255482e-16,  2.45907353e-16,  8.06902711e-17,\n",
       "        -5.73831396e-18, -1.99034847e-16,  4.72075861e-19,\n",
       "         2.00007879e-16, -2.72249730e-16,  1.15102114e-16,\n",
       "        -1.57041437e-16, -4.18311820e-16,  1.08973038e-16,\n",
       "        -1.30345920e-16],\n",
       "       [-1.59628439e-16,  9.27233004e-17,  8.90093246e-17,\n",
       "         4.87012581e-16,  1.00000000e+00,  1.66324490e-16,\n",
       "         3.87753155e-16,  5.95664818e-17,  1.12761013e-16,\n",
       "         2.91905437e-16,  4.18025299e-16, -1.51516619e-16,\n",
       "        -2.62613382e-16,  2.55785185e-18, -1.15701939e-16,\n",
       "         2.95772704e-17,  5.58397312e-17,  1.04274486e-16,\n",
       "         1.17534993e-16],\n",
       "       [-8.32495039e-17,  4.44673059e-17,  1.26402827e-16,\n",
       "         1.38471445e-17,  1.66324490e-16,  1.00000000e+00,\n",
       "        -2.80391600e-16,  2.83527142e-16,  1.73795708e-16,\n",
       "         2.23288941e-16, -5.98664448e-18, -3.66256256e-16,\n",
       "         1.54950037e-16, -1.05809825e-16, -1.75924210e-16,\n",
       "         2.26083167e-16,  2.03436765e-16, -2.32630360e-17,\n",
       "         1.36237649e-16],\n",
       "       [ 1.91642802e-16,  7.41593049e-17, -1.75862805e-16,\n",
       "         2.41255482e-16,  3.87753155e-16, -2.80391600e-16,\n",
       "         1.00000000e+00,  4.35805687e-17,  6.23439630e-17,\n",
       "         1.12142002e-16, -8.79696946e-17, -3.97304914e-17,\n",
       "         4.22307403e-17, -5.25505215e-17,  2.30276490e-16,\n",
       "         3.57104160e-17, -2.84056706e-16,  1.65793876e-16,\n",
       "         1.34602009e-16],\n",
       "       [-8.70812429e-17, -1.53437290e-16,  3.79172619e-16,\n",
       "         2.45907353e-16,  5.95664818e-17,  2.83527142e-16,\n",
       "         4.35805687e-17,  1.00000000e+00, -8.56149310e-17,\n",
       "         1.17395847e-16,  1.65752588e-16,  5.72504569e-18,\n",
       "         2.86046382e-16, -1.07901371e-16, -3.13549170e-16,\n",
       "         6.25275786e-17,  3.58526910e-16, -2.78929578e-16,\n",
       "        -9.02732678e-17],\n",
       "       [-4.30550610e-17, -1.81474068e-16, -1.42725117e-16,\n",
       "         8.06902711e-17,  1.12761013e-16,  1.73795708e-16,\n",
       "         6.23439630e-17, -8.56149310e-17,  1.00000000e+00,\n",
       "         4.76680096e-16, -1.64079012e-16,  1.32700287e-16,\n",
       "         8.62634436e-17,  1.59574644e-16,  3.03953362e-16,\n",
       "         1.17310588e-16, -1.65851719e-16, -1.33324736e-16,\n",
       "        -7.15768850e-17],\n",
       "       [ 1.87644683e-16, -4.42493172e-16, -1.50628285e-16,\n",
       "        -5.73831396e-18,  2.91905437e-16,  2.23288941e-16,\n",
       "         1.12142002e-16,  1.17395847e-16,  4.76680096e-16,\n",
       "         1.00000000e+00, -3.97894366e-16,  3.49190316e-16,\n",
       "        -5.37767996e-17,  1.09714625e-16,  2.37069040e-18,\n",
       "         2.38946766e-16, -4.47838812e-16, -4.63105588e-16,\n",
       "         1.38296660e-16],\n",
       "       [-3.92174996e-17, -6.12032100e-16,  7.00571919e-17,\n",
       "        -1.99034847e-16,  4.18025299e-16, -5.98664448e-18,\n",
       "        -8.79696946e-17,  1.65752588e-16, -1.64079012e-16,\n",
       "        -3.97894366e-16,  1.00000000e+00, -2.71432450e-16,\n",
       "        -1.78043545e-16,  2.63362798e-16,  1.05057159e-16,\n",
       "        -1.60280982e-16, -2.14244815e-16,  1.68431911e-16,\n",
       "         1.75500749e-17],\n",
       "       [-1.42955283e-16,  7.86144282e-17,  1.70684622e-16,\n",
       "         4.72075861e-19, -1.51516619e-16, -3.66256256e-16,\n",
       "        -3.97304914e-17,  5.72504569e-18,  1.32700287e-16,\n",
       "         3.49190316e-16, -2.71432450e-16,  1.00000000e+00,\n",
       "        -3.03190767e-16, -1.72493124e-16, -4.10166889e-16,\n",
       "         2.15470254e-16, -1.20453505e-18, -4.77685810e-16,\n",
       "        -6.03251903e-17],\n",
       "       [ 4.11475607e-17, -4.52754652e-17,  1.17040768e-16,\n",
       "         2.00007879e-16, -2.62613382e-16,  1.54950037e-16,\n",
       "         4.22307403e-17,  2.86046382e-16,  8.62634436e-17,\n",
       "        -5.37767996e-17, -1.78043545e-16, -3.03190767e-16,\n",
       "         1.00000000e+00, -2.15034007e-17,  5.46638752e-16,\n",
       "         2.91834212e-16, -7.73069326e-17,  4.68521123e-17,\n",
       "        -5.83989593e-16],\n",
       "       [ 1.72607611e-16, -3.11525165e-17, -7.72614399e-17,\n",
       "        -2.72249730e-16,  2.55785185e-18, -1.05809825e-16,\n",
       "        -5.25505215e-17, -1.07901371e-16,  1.59574644e-16,\n",
       "         1.09714625e-16,  2.63362798e-16, -1.72493124e-16,\n",
       "        -2.15034007e-17,  1.00000000e+00,  5.20103226e-16,\n",
       "        -3.61130191e-16, -6.88105025e-17,  2.46735513e-16,\n",
       "         5.44114936e-16],\n",
       "       [ 6.81988636e-17, -1.72487425e-16,  2.71893997e-16,\n",
       "         1.15102114e-16, -1.15701939e-16, -1.75924210e-16,\n",
       "         2.30276490e-16, -3.13549170e-16,  3.03953362e-16,\n",
       "         2.37069040e-18,  1.05057159e-16, -4.10166889e-16,\n",
       "         5.46638752e-16,  5.20103226e-16,  1.00000000e+00,\n",
       "        -3.42214340e-16,  8.68443344e-17, -3.30992327e-16,\n",
       "        -1.11302908e-16],\n",
       "       [-2.76232842e-16, -2.52641619e-16, -5.32490581e-17,\n",
       "        -1.57041437e-16,  2.95772704e-17,  2.26083167e-16,\n",
       "         3.57104160e-17,  6.25275786e-17,  1.17310588e-16,\n",
       "         2.38946766e-16, -1.60280982e-16,  2.15470254e-16,\n",
       "         2.91834212e-16, -3.61130191e-16, -3.42214340e-16,\n",
       "         1.00000000e+00,  1.37377938e-17, -4.17322076e-16,\n",
       "        -6.21379017e-17],\n",
       "       [ 1.91392631e-16, -4.19021703e-16,  1.04700427e-16,\n",
       "        -4.18311820e-16,  5.58397312e-17,  2.03436765e-16,\n",
       "        -2.84056706e-16,  3.58526910e-16, -1.65851719e-16,\n",
       "        -4.47838812e-16, -2.14244815e-16, -1.20453505e-18,\n",
       "        -7.73069326e-17, -6.88105025e-17,  8.68443344e-17,\n",
       "         1.37377938e-17,  1.00000000e+00,  1.56594933e-16,\n",
       "         4.31066550e-17],\n",
       "       [-1.56928961e-16, -2.51623338e-17,  2.29135602e-16,\n",
       "         1.08973038e-16,  1.04274486e-16, -2.32630360e-17,\n",
       "         1.65793876e-16, -2.78929578e-16, -1.33324736e-16,\n",
       "        -4.63105588e-16,  1.68431911e-16, -4.77685810e-16,\n",
       "         4.68521123e-17,  2.46735513e-16, -3.30992327e-16,\n",
       "        -4.17322076e-16,  1.56594933e-16,  1.00000000e+00,\n",
       "        -1.63679383e-16],\n",
       "       [ 1.28632188e-17,  1.51252749e-16, -1.45743004e-16,\n",
       "        -1.30345920e-16,  1.17534993e-16,  1.36237649e-16,\n",
       "         1.34602009e-16, -9.02732678e-17, -7.15768850e-17,\n",
       "         1.38296660e-16,  1.75500749e-17, -6.03251903e-17,\n",
       "        -5.83989593e-16,  5.44114936e-16, -1.11302908e-16,\n",
       "        -6.21379017e-17,  4.31066550e-17, -1.63679383e-16,\n",
       "         1.00000000e+00]])"
      ]
     },
     "execution_count": 27,
     "metadata": {},
     "output_type": "execute_result"
    }
   ],
   "source": [
    "pca.components_.T.dot(pca.components_) # V^T V 會是一個 identity matrix"
   ]
  },
  {
   "cell_type": "code",
   "execution_count": 28,
   "metadata": {},
   "outputs": [],
   "source": [
    "import matplotlib.pyplot as plt\n",
    "%matplotlib inline\n",
    "# plt.style.use('ggplot')"
   ]
  },
  {
   "cell_type": "code",
   "execution_count": 29,
   "metadata": {},
   "outputs": [
    {
     "data": {
      "image/png": "[encoded data removed]",
      "text/plain": [
       "<Figure size 432x288 with 1 Axes>"
      ]
     },
     "metadata": {
      "needs_background": "light"
     },
     "output_type": "display_data"
    }
   ],
   "source": [
    "plt.imshow(np.cov(pca.components_.T)) # 看 V 的 covariance matrix\n",
    "plt.show()"
   ]
  },
  {
   "cell_type": "code",
   "execution_count": 30,
   "metadata": {},
   "outputs": [
    {
     "data": {
      "image/png": "[encoded data removed]",
      "text/plain": [
       "<Figure size 432x288 with 1 Axes>"
      ]
     },
     "metadata": {
      "needs_background": "light"
     },
     "output_type": "display_data"
    }
   ],
   "source": [
    "# visualize the covariance of transformed feature matrix\n",
    "plt.imshow(np.cov(train_components.T)) # 看 MV 的 covariance matrix，只剩下對角線有值\n",
    "plt.show()"
   ]
  },
  {
   "cell_type": "markdown",
   "metadata": {},
   "source": [
    "### Let's do it by solving eigenvalue problem and compare\n",
    "\n",
    "比較自己算出來的 eigenvalues 和 eigenvectors 和用 PCA package 算出來的有什麼差別"
   ]
  },
  {
   "cell_type": "code",
   "execution_count": 31,
   "metadata": {},
   "outputs": [
    {
     "name": "stdout",
     "output_type": "stream",
     "text": [
      "(19,)\n",
      "(19, 19)\n"
     ]
    }
   ],
   "source": [
    "import copy\n",
    "from numpy.linalg import eigh\n",
    "\n",
    "# fit\n",
    "cov_train = np.cov(X_train.T) # X_train 是 210x19, 所以 (X_train)^T X_train 是要 19x19，如果用 np.cov(X_train) 是 210x210\n",
    "lambdas, v = eigh(cov_train) # 這時候求出的 lambdas 是遞增排列的\n",
    "\n",
    "# eigh order lambda from small to large, so flip\n",
    "lambdas = lambdas[::-1] # 把 lambdas 改成遞減排列\n",
    "v = -np.flip(v, axis=1) # lambdas 的順序改了 對應的 eigenvector 的順序也要改，只是為什麼要加上負號？\n",
    "\n",
    "print(lambdas.shape)\n",
    "print(v.shape)"
   ]
  },
  {
   "cell_type": "code",
   "execution_count": 32,
   "metadata": {},
   "outputs": [
    {
     "name": "stdout",
     "output_type": "stream",
     "text": [
      "[7.56733469e+00 3.98232312e+00 2.04325163e+00 1.54072808e+00\n",
      " 1.00933404e+00 9.08124193e-01 6.62728000e-01 5.06370398e-01\n",
      " 2.70493145e-01 1.88395977e-01 1.39803988e-01 1.25858373e-01\n",
      " 9.08781392e-02 5.92594793e-02 4.81093115e-02 2.96732593e-02\n",
      " 1.26893318e-02 4.35333522e-03 1.13582781e-03]\n",
      "[7.56733469e+00 3.98232312e+00 2.04325163e+00 1.54072808e+00\n",
      " 1.00933404e+00 9.08124193e-01 6.62728000e-01 5.06370398e-01\n",
      " 2.70493145e-01 1.88395977e-01 1.39803988e-01 1.25858373e-01\n",
      " 9.08781392e-02 5.92594793e-02 4.81093115e-02 2.96732593e-02\n",
      " 1.26893318e-02 4.35333522e-03 1.13582781e-03]\n"
     ]
    }
   ],
   "source": [
    "# compare variances\n",
    "print(pca.explained_variance_) # 就是 eigenvalues\n",
    "print(lambdas)"
   ]
  },
  {
   "cell_type": "code",
   "execution_count": 33,
   "metadata": {},
   "outputs": [
    {
     "data": {
      "text/plain": [
       "array([-4.44089210e-15, -3.10862447e-15,  2.22044605e-15,  2.22044605e-16,\n",
       "       -2.88657986e-15, -2.22044605e-15, -1.44328993e-15, -2.22044605e-16,\n",
       "        5.55111512e-17,  5.55111512e-17,  2.47024623e-15, -2.49800181e-16,\n",
       "        4.16333634e-17, -6.24500451e-16, -7.07767178e-16, -2.84494650e-16,\n",
       "       -1.49186219e-16,  8.12717948e-16, -6.49437101e-16])"
      ]
     },
     "execution_count": 33,
     "metadata": {},
     "output_type": "execute_result"
    }
   ],
   "source": [
    "lambdas - pca.explained_variance_ # 兩者不是一模一樣，有點差異，但是很接近"
   ]
  },
  {
   "cell_type": "code",
   "execution_count": 34,
   "metadata": {},
   "outputs": [
    {
     "data": {
      "text/plain": [
       "array([[ 7.80625564e-17,  3.05311332e-16, -5.55111512e-16,\n",
       "        -3.88578059e-16, -3.88578059e-16, -2.22044605e-16,\n",
       "        -3.88578059e-16, -2.77555756e-16,  1.73472348e-17,\n",
       "         8.50014503e-17,  2.22044605e-16,  1.94289029e-16,\n",
       "         1.24900090e-16,  7.28583860e-17,  2.63677968e-16,\n",
       "         2.22044605e-16,  2.77555756e-16,  2.49800181e-16,\n",
       "        -2.77555756e-16],\n",
       "       [-3.88578059e-16,  0.00000000e+00,  1.38777878e-16,\n",
       "         3.88578059e-16,  4.30211422e-16,  2.49800181e-16,\n",
       "         2.49800181e-16,  8.32667268e-17,  4.85722573e-17,\n",
       "        -2.77555756e-16,  3.88578059e-16,  6.66133815e-16,\n",
       "        -1.11022302e-16,  5.55111512e-17,  3.05311332e-16,\n",
       "         3.33066907e-16,  3.88578059e-16,  1.94289029e-16,\n",
       "         1.66533454e-16],\n",
       "       [-7.69542907e-01, -2.34657766e-01, -1.40918018e-01,\n",
       "        -1.47759039e-01,  2.42945124e-01,  5.35889170e-03,\n",
       "        -6.03990043e-02, -1.99013612e-02,  2.95142102e-02,\n",
       "        -7.20641530e-01, -2.17629065e-01,  4.14254880e-01,\n",
       "         1.10441882e+00,  1.11477349e+00, -1.86187256e-01,\n",
       "         9.29123009e-02,  1.57773554e-03, -4.14127376e-02,\n",
       "        -3.62229075e-02],\n",
       "       [-1.11022302e-16, -1.38777878e-17,  1.11022302e-16,\n",
       "         3.88578059e-16,  2.35922393e-16, -1.01047642e-16,\n",
       "         2.49800181e-16,  7.11236625e-17,  2.22044605e-16,\n",
       "        -1.38777878e-15, -2.91433544e-16,  5.82867088e-16,\n",
       "         1.83186799e-15,  8.88178420e-16, -8.32667268e-16,\n",
       "         1.52655666e-16, -3.46944695e-18, -3.60822483e-16,\n",
       "         1.94289029e-16],\n",
       "       [ 4.71844785e-16, -5.96744876e-16, -1.38777878e-16,\n",
       "         2.03179487e-16,  5.27355937e-16,  5.41233725e-16,\n",
       "        -3.88578059e-16, -3.88578059e-16,  1.33226763e-15,\n",
       "         1.97064587e-15, -6.52256027e-16,  4.16333634e-16,\n",
       "         2.61943245e-16,  6.11923706e-16,  1.60982339e-15,\n",
       "         2.63677968e-16, -8.32667268e-16, -8.74300632e-16,\n",
       "         1.11022302e-16],\n",
       "       [ 8.46545056e-16, -1.31838984e-15, -5.89805982e-16,\n",
       "        -4.99600361e-16,  1.81105131e-15,  7.11236625e-16,\n",
       "        -9.05525654e-16, -3.74700271e-16,  3.83026943e-15,\n",
       "         2.94209102e-15, -1.33226763e-15,  3.63598041e-15,\n",
       "         8.32667268e-17, -3.05311332e-16, -1.77635684e-15,\n",
       "         2.30371278e-15, -1.44328993e-15, -2.65065747e-15,\n",
       "        -5.55111512e-17],\n",
       "       [ 6.59194921e-17, -7.77156117e-16, -1.17961196e-16,\n",
       "         6.38378239e-16, -3.33066907e-16, -6.93889390e-17,\n",
       "         2.77555756e-17,  1.94289029e-16,  2.77555756e-16,\n",
       "         1.77635684e-15, -7.49400542e-16, -4.44089210e-16,\n",
       "         1.51961776e-15,  9.05525654e-16,  6.27969898e-15,\n",
       "        -3.33066907e-16, -1.77635684e-15, -8.88178420e-16,\n",
       "         7.02563008e-16],\n",
       "       [ 2.66287730e-01, -4.82265249e-01, -2.76321320e-01,\n",
       "        -3.81641149e-01,  4.26476894e-01, -2.72441416e-02,\n",
       "        -1.61246233e-01,  6.10216493e-01, -2.44646205e-02,\n",
       "         5.11122797e-01, -7.03173614e-01,  2.02303256e-01,\n",
       "        -6.71949043e-02,  1.39912921e-01, -5.52450690e-02,\n",
       "        -1.69616248e-01, -1.69318230e-01,  1.39477531e+00,\n",
       "        -2.57515593e-01],\n",
       "       [-1.40317397e+00,  5.87389837e-02,  1.29441902e-01,\n",
       "         1.97279738e-01, -3.33264035e-01, -9.83551543e-02,\n",
       "         2.06006535e-01, -3.49814185e-03,  4.78171722e-02,\n",
       "         1.19607036e+00,  9.44205739e-02, -2.57785672e-01,\n",
       "         1.74777362e-02,  3.06028624e-02, -2.15405284e-01,\n",
       "        -2.98976608e-01,  3.78901414e-01,  1.28876683e-01,\n",
       "        -5.78363578e-02],\n",
       "       [ 1.02085281e-01, -3.63287726e-01,  2.20108973e-01,\n",
       "         2.43048963e-01, -1.35021096e+00, -5.18439735e-01,\n",
       "         7.86778956e-02,  1.29783619e-01,  3.02976733e-03,\n",
       "        -4.16166980e-02, -2.74611458e-01,  6.23960425e-01,\n",
       "        -4.22688946e-02,  9.40223452e-02,  2.22672451e-02,\n",
       "         4.55084962e-01, -1.05567221e-01,  3.08010171e-01,\n",
       "         9.18954595e-01],\n",
       "       [ 5.32213162e-15, -2.81719092e-15,  3.20923843e-15,\n",
       "         4.69763117e-15, -2.47024623e-15, -4.88498131e-15,\n",
       "         1.40304435e-14,  1.03233394e-14, -1.05384451e-16,\n",
       "        -1.36002321e-15, -4.51028104e-15,  1.49324997e-14,\n",
       "        -6.10622664e-15,  6.21724894e-15,  1.75554016e-15,\n",
       "        -1.88182803e-14,  1.63896674e-14, -1.17579557e-14,\n",
       "        -2.30510055e-14],\n",
       "       [-3.07974709e-01,  2.54189025e-01, -1.27400983e-01,\n",
       "        -1.82557476e-01,  2.28651271e-01,  3.09788982e-01,\n",
       "        -5.55750866e-01, -5.47695266e-01,  1.15328451e-02,\n",
       "         9.05506131e-02,  2.13797340e-01, -7.64409045e-01,\n",
       "         2.96863734e-01, -2.34803799e-01, -9.98739585e-02,\n",
       "         7.83398174e-01, -8.19397530e-01,  5.48012529e-01,\n",
       "         8.10469103e-01],\n",
       "       [ 1.00015427e-01, -1.09368690e-01, -2.78192889e-01,\n",
       "        -5.10916950e-01,  4.77755898e-01, -6.08678705e-02,\n",
       "        -3.88207662e-01, -3.05463312e-01,  2.63542130e-02,\n",
       "         9.23257298e-02, -3.77711681e-02,  2.14579752e-01,\n",
       "        -3.94190084e-04, -9.73284757e-02,  1.05613143e-01,\n",
       "        -7.73510687e-01,  9.17323534e-01, -1.26900170e-01,\n",
       "         1.27687808e+00],\n",
       "       [-6.10622664e-16, -9.43689571e-16, -2.77555756e-16,\n",
       "         3.21964677e-15,  8.84708973e-16, -5.49560397e-15,\n",
       "         4.96824804e-15,  1.22124533e-15, -3.76434994e-16,\n",
       "         3.67761377e-16, -1.91513472e-15, -2.09901541e-15,\n",
       "        -2.01227923e-15,  1.88737914e-15, -1.69135539e-16,\n",
       "         4.66987560e-15, -6.93889390e-16, -1.11022302e-16,\n",
       "        -5.24580379e-15],\n",
       "       [ 5.89805982e-16, -1.43218770e-14, -1.41553436e-15,\n",
       "         3.58046925e-15,  3.15719673e-16,  4.69069228e-15,\n",
       "        -4.57966998e-15, -2.66453526e-15, -9.02056208e-17,\n",
       "         3.87710697e-16,  1.91166527e-14,  2.38697950e-15,\n",
       "        -9.88792381e-16,  1.02001740e-15, -7.37257477e-16,\n",
       "        -3.77475828e-15, -5.99520433e-15,  3.85802501e-15,\n",
       "        -4.64905892e-16],\n",
       "       [-2.41841941e-02,  1.10840638e+00,  1.38147725e-01,\n",
       "        -1.96619481e-01,  7.17376990e-02, -2.89786982e-01,\n",
       "         2.91518719e-01, -6.01272321e-02, -7.70098775e-03,\n",
       "        -6.08983069e-02, -1.45103317e+00, -3.29589193e-01,\n",
       "        -5.11267810e-02,  2.74088621e-02,  3.40603520e-02,\n",
       "         3.95120106e-01,  3.52040410e-01, -1.68251786e-01,\n",
       "         6.78574660e-02],\n",
       "       [ 3.44572441e-02, -3.43408423e-01, -2.69057049e-01,\n",
       "        -8.05493650e-02,  6.31515143e-01, -1.19527543e+00,\n",
       "         1.22406258e+00, -4.74127933e-01, -2.31411901e-02,\n",
       "         3.21694660e-02,  3.01230668e-01, -1.41409232e-01,\n",
       "        -5.57511714e-02,  1.67242150e-02,  3.04102926e-02,\n",
       "         2.32654702e-01, -1.94784424e-01,  1.24019132e-01,\n",
       "         1.65265712e-01],\n",
       "       [-2.45461932e-02, -2.09411132e-01,  1.45846925e+00,\n",
       "        -3.97235556e-03,  4.55920558e-01, -9.07941831e-01,\n",
       "        -8.54560696e-01,  3.87383970e-02,  8.74659047e-03,\n",
       "        -1.52591325e-02,  7.85068309e-02, -8.80349252e-02,\n",
       "         1.64575534e-02, -8.08000188e-03,  1.36496928e-02,\n",
       "         1.07574251e-01,  1.09806106e-01,  4.12412597e-03,\n",
       "        -1.61268968e-01],\n",
       "       [ 1.24404118e-02,  9.96484912e-02, -8.27182429e-01,\n",
       "         1.53556508e+00,  3.52030882e-01, -5.50584294e-01,\n",
       "        -6.67796987e-01,  1.58383848e-01,  4.95064241e-03,\n",
       "        -6.19466334e-03, -1.71453680e-01, -4.84931960e-02,\n",
       "        -1.16347551e-02,  1.02325561e-02, -6.30243077e-03,\n",
       "         2.98727639e-02,  1.11574805e-01, -2.74067073e-02,\n",
       "         5.86037355e-02]])"
      ]
     },
     "execution_count": 34,
     "metadata": {},
     "output_type": "execute_result"
    }
   ],
   "source": [
    "# compare components\n",
    "v.T - pca.components_ # 也是有微小的差異，不是一模一樣"
   ]
  },
  {
   "cell_type": "code",
   "execution_count": 35,
   "metadata": {},
   "outputs": [
    {
     "data": {
      "text/plain": [
       "array([[-2.00909129e+00, -1.82675499e+00, -9.42608865e-01, ...,\n",
       "        -2.04606195e-02, -5.42872823e-02,  8.73800486e-03],\n",
       "       [-2.95241391e+00,  9.36022324e-01, -3.90891594e-01, ...,\n",
       "        -2.00742292e-02,  1.11445707e-02,  3.45370091e-02],\n",
       "       [ 3.33469729e-01, -1.57005845e+00, -7.71152789e-01, ...,\n",
       "        -8.96067867e-02,  6.13080563e-02, -6.20738976e-03],\n",
       "       ...,\n",
       "       [-5.20288402e-01, -2.96293298e+00,  1.73285330e+00, ...,\n",
       "         8.18196347e-03, -2.02121005e-02,  4.73126773e-04],\n",
       "       [ 9.94799527e-01,  1.31009169e+00,  7.52094732e-01, ...,\n",
       "         2.09881340e-01,  2.84631161e-02,  2.25026784e-03],\n",
       "       [-2.55600469e+00, -7.86138415e-01, -3.89414965e-01, ...,\n",
       "        -2.43079534e-02, -9.94270540e-02,  2.18381387e-02]])"
      ]
     },
     "execution_count": 35,
     "metadata": {},
     "output_type": "execute_result"
    }
   ],
   "source": [
    "# compare transformed training data\n",
    "# eigen value solver:\n",
    "train_components_eig = X_train.dot(v)\n",
    "train_components_eig"
   ]
  },
  {
   "cell_type": "code",
   "execution_count": 36,
   "metadata": {},
   "outputs": [
    {
     "data": {
      "text/plain": [
       "array([[-2.02855553e+00, -1.84097001e+00,  9.21147363e-01, ...,\n",
       "         3.21250401e-02,  5.24599961e-02, -8.51956406e-03],\n",
       "       [-2.97187815e+00,  9.21807300e-01,  3.69430093e-01, ...,\n",
       "         3.17386498e-02, -1.29718569e-02, -3.43185683e-02],\n",
       "       [ 3.14005490e-01, -1.58427348e+00,  7.49691288e-01, ...,\n",
       "         1.01271207e-01, -6.31353425e-02,  6.42583056e-03],\n",
       "       ...,\n",
       "       [-5.39752641e-01, -2.97714801e+00, -1.75431480e+00, ...,\n",
       "         3.48245715e-03,  1.83848143e-02, -2.54685970e-04],\n",
       "       [ 9.75335288e-01,  1.29587667e+00, -7.73556234e-01, ...,\n",
       "        -1.98216919e-01, -3.02904023e-02, -2.03182703e-03],\n",
       "       [-2.57546893e+00, -8.00353440e-01,  3.67953464e-01, ...,\n",
       "         3.59723741e-02,  9.75997678e-02, -2.16196979e-02]])"
      ]
     },
     "execution_count": 36,
     "metadata": {},
     "output_type": "execute_result"
    }
   ],
   "source": [
    "# sklearn solver:\n",
    "train_components\n",
    "\n",
    "# they are equivalent!"
   ]
  },
  {
   "cell_type": "code",
   "execution_count": 37,
   "metadata": {},
   "outputs": [
    {
     "data": {
      "text/plain": [
       "array([[-1.94642391e-02, -1.42150248e-02,  1.86375623e+00, ...,\n",
       "         5.25856596e-02,  1.06747278e-01, -1.72575689e-02],\n",
       "       [-1.94642391e-02, -1.42150248e-02,  7.60321687e-01, ...,\n",
       "         5.18128790e-02, -2.41164276e-02, -6.88555775e-02],\n",
       "       [-1.94642391e-02, -1.42150248e-02,  1.52084408e+00, ...,\n",
       "         1.90877994e-01, -1.24443399e-01,  1.26332203e-02],\n",
       "       ...,\n",
       "       [-1.94642391e-02, -1.42150248e-02, -3.48716811e+00, ...,\n",
       "        -4.69950632e-03,  3.85969149e-02, -7.27812743e-04],\n",
       "       [-1.94642391e-02, -1.42150248e-02, -1.52565097e+00, ...,\n",
       "        -4.08098259e-01, -5.87535183e-02, -4.28209487e-03],\n",
       "       [-1.94642391e-02, -1.42150248e-02,  7.57368429e-01, ...,\n",
       "         6.02803275e-02,  1.97026822e-01, -4.34578366e-02]])"
      ]
     },
     "execution_count": 37,
     "metadata": {},
     "output_type": "execute_result"
    }
   ],
   "source": [
    "train_components - train_components_eig # 兩者有點差異"
   ]
  },
  {
   "cell_type": "markdown",
   "metadata": {},
   "source": [
    "### Let's continue with sklearn pca solver\n",
    "\n",
    "### See how much variance the principal components explain\n",
    "\n",
    "把每個主軸對應的 eigenvalues 由大到小畫出來\n",
    "\n",
    "eigenvalues 表示在新的 basis 上的 variance"
   ]
  },
  {
   "cell_type": "code",
   "execution_count": 38,
   "metadata": {},
   "outputs": [
    {
     "data": {
      "image/png": "[encoded data removed]",
      "text/plain": [
       "<Figure size 432x288 with 1 Axes>"
      ]
     },
     "metadata": {
      "needs_background": "light"
     },
     "output_type": "display_data"
    }
   ],
   "source": [
    "pca_range = np.arange(n_col) + 1\n",
    "pca_names = ['PCA_%s' % i for i in pca_range]\n",
    "plt.bar(pca_range, pca.explained_variance_, align='center')\n",
    "xticks = plt.xticks(pca_range, pca_names, rotation=90)\n",
    "plt.ylabel('Variance Explained')\n",
    "plt.show()"
   ]
  },
  {
   "cell_type": "markdown",
   "metadata": {},
   "source": [
    "### See how much (percentage of) variance the principal components explain"
   ]
  },
  {
   "cell_type": "code",
   "execution_count": 39,
   "metadata": {},
   "outputs": [
    {
     "data": {
      "image/png": "[encoded data removed]",
      "text/plain": [
       "<Figure size 432x288 with 1 Axes>"
      ]
     },
     "metadata": {
      "needs_background": "light"
     },
     "output_type": "display_data"
    }
   ],
   "source": [
    "pca_range = np.arange(n_col) + 1\n",
    "pca_names = ['PCA_%s' % i for i in pca_range]\n",
    "plt.bar(pca_range, pca.explained_variance_ratio_, align='center') # 這邊用 pca.explained_variance_ratio_\n",
    "xticks = plt.xticks(pca_range, pca_names, rotation=90)\n",
    "plt.ylabel('Proportion of Variance Explained')\n",
    "plt.show()"
   ]
  },
  {
   "cell_type": "markdown",
   "metadata": {},
   "source": [
    "### How to determine k: percent of variance explained\n",
    "\n",
    "如果想要保留 90% 的資訊，就畫一條 90% 的水平線，然後看和 cumulative curve 相交在第幾個主軸，就保留那些主軸"
   ]
  },
  {
   "cell_type": "code",
   "execution_count": 40,
   "metadata": {},
   "outputs": [
    {
     "data": {
      "image/png": "[encoded data removed]",
      "text/plain": [
       "<Figure size 432x288 with 1 Axes>"
      ]
     },
     "metadata": {
      "needs_background": "light"
     },
     "output_type": "display_data"
    }
   ],
   "source": [
    "pca_range = np.arange(n_col) + 1\n",
    "\n",
    "pca_names = ['PCA_%s' % i for i in pca_range]\n",
    "\n",
    "plt.bar(pca_range, pca.explained_variance_ratio_, align='center')\n",
    "plt.plot(pca_range, np.cumsum(pca.explained_variance_ratio_), 'g-')\n",
    "plt.plot(pca_range, 0.9*np.ones(len(pca_range)), 'r-')\n",
    "\n",
    "xticks = plt.xticks(pca_range, pca_names, rotation=90)\n",
    "plt.ylabel('Proportion of Variance Explained')\n",
    "plt.show()"
   ]
  },
  {
   "cell_type": "markdown",
   "metadata": {},
   "source": [
    "### Get train and test error with K-Fold cross validation"
   ]
  },
  {
   "cell_type": "code",
   "execution_count": 41,
   "metadata": {},
   "outputs": [],
   "source": [
    "from sklearn.linear_model import LinearRegression\n",
    "from sklearn.metrics import mean_squared_error, r2_score\n",
    "from sklearn.model_selection import cross_val_score\n",
    "\n",
    "train_mse_arr = np.array([])\n",
    "test_mse_arr = np.array([])\n",
    "\n",
    "for i in pca_range:\n",
    "    train_subset = train_components[:, :i] # 只留下 i 個主軸\n",
    "    pca_linear = LinearRegression()\n",
    "    pca_linear.fit(train_subset, y_train)\n",
    "    # Get train error\n",
    "    train_mse = cross_val_score(pca_linear, train_subset, y=y_train,\n",
    "                                scoring='neg_mean_squared_error', cv=10) * -1\n",
    "    train_mse_arr = np.append(train_mse_arr, train_mse.mean())\n",
    "    \n",
    "    # Get test error\n",
    "    test_set = test_components[:, :i]\n",
    "    test_mse = mean_squared_error(pca_linear.predict(test_set), y_test)\n",
    "    test_mse_arr = np.append(test_mse_arr, test_mse)"
   ]
  },
  {
   "cell_type": "markdown",
   "metadata": {},
   "source": [
    "### Plot train mse"
   ]
  },
  {
   "cell_type": "code",
   "execution_count": 42,
   "metadata": {},
   "outputs": [
    {
     "name": "stdout",
     "output_type": "stream",
     "text": [
      "# of PCs that gives lowest train MSE:  7 @ 107809.53579112727\n"
     ]
    },
    {
     "data": {
      "image/png": "[encoded data removed]",
      "text/plain": [
       "<Figure size 432x288 with 1 Axes>"
      ]
     },
     "metadata": {
      "needs_background": "light"
     },
     "output_type": "display_data"
    }
   ],
   "source": [
    "plt.plot(pca_range, train_mse_arr, marker='o', color='b', alpha=.5, label='train mse')\n",
    "plt.ylabel('MSE', fontsize=14)\n",
    "plt.xlabel('Principal Components Included in Model', fontsize=14)\n",
    "plt.legend(loc='best')\n",
    "\n",
    "best_train_mse_pca = np.argmin(train_mse_arr) + 1\n",
    "min_train_mse  = np.min(train_mse_arr)\n",
    "\n",
    "plt.axvline(best_train_mse_pca, color='b', ls='--', alpha=.3)\n",
    "\n",
    "print('# of PCs that gives lowest train MSE: ', best_train_mse_pca, '@', min_train_mse)"
   ]
  },
  {
   "cell_type": "markdown",
   "metadata": {},
   "source": [
    "### Plot test mse"
   ]
  },
  {
   "cell_type": "code",
   "execution_count": 43,
   "metadata": {},
   "outputs": [
    {
     "name": "stdout",
     "output_type": "stream",
     "text": [
      "# of PCs that gives lowest test MSE:  17 @ 125574.01013084406\n"
     ]
    },
    {
     "data": {
      "image/png": "[encoded data removed]",
      "text/plain": [
       "<Figure size 432x288 with 1 Axes>"
      ]
     },
     "metadata": {
      "needs_background": "light"
     },
     "output_type": "display_data"
    }
   ],
   "source": [
    "plt.plot(pca_range, test_mse_arr, marker='o', color='b', alpha=.5, label='test mse')\n",
    "plt.ylabel('MSE', fontsize=14)\n",
    "plt.xlabel('Principal Components Included in Model', fontsize=14)\n",
    "plt.legend(loc='best')\n",
    "\n",
    "best_test_mse_pca = np.argmin(test_mse_arr) + 1\n",
    "min_test_mse = np.min(test_mse_arr)\n",
    "\n",
    "plt.axvline(best_test_mse_pca, color='b', ls='--', alpha=.3)\n",
    "\n",
    "print('# of PCs that gives lowest test MSE: ', best_test_mse_pca, '@', min_test_mse)"
   ]
  },
  {
   "cell_type": "markdown",
   "metadata": {},
   "source": [
    "### Plot train and test mse"
   ]
  },
  {
   "cell_type": "code",
   "execution_count": 44,
   "metadata": {},
   "outputs": [
    {
     "data": {
      "image/png": "[encoded data removed]",
      "text/plain": [
       "<Figure size 432x288 with 1 Axes>"
      ]
     },
     "metadata": {
      "needs_background": "light"
     },
     "output_type": "display_data"
    }
   ],
   "source": [
    "plt.plot(pca_range, train_mse_arr, marker='o', color='b', alpha=.5, label='train mse')\n",
    "plt.plot(pca_range, test_mse_arr, marker='o', color='r', alpha=.5, label='test mse')\n",
    "plt.ylabel('MSE', fontsize=14)\n",
    "plt.xlabel('Principal Components Included in Model', fontsize=14)\n",
    "plt.legend(loc='best')\n",
    "plt.show()"
   ]
  },
  {
   "cell_type": "markdown",
   "metadata": {},
   "source": [
    "***\n",
    "***\n",
    "***"
   ]
  },
  {
   "cell_type": "markdown",
   "metadata": {},
   "source": [
    "# Matrix Factorization\n",
    "\n",
    "## Matrix Factorization 分成 SVD, NMF, UVD\n",
    "\n",
    "* SVD 和 PCA 都是有**解析解**，NMF 和 UVD 都是**數值近似解**\n",
    "* UVD 其實就是 truncated SVD\n",
    "* NMF 其實和 UVD 本質上差不多，最主要的差別是 NMF 有 non-negative 的限制"
   ]
  },
  {
   "cell_type": "markdown",
   "metadata": {},
   "source": [
    "## SVD\n",
    "\n",
    "* SVD 是 **singular value decomposition**\n",
    "  * 矩陣 $A$ 不是奇異矩陣，那就一定可以寫成三個矩陣的相乘\n",
    "    \\begin{equation} A_{m \\times n} = U_{m \\times r} \\Lambda_{r \\times r} (V_{n \\times r})^{T} \\end{equation}\n",
    "    * $A$ 是 $m \\times n$: 有 $m$ 個 documents 和 $n$ 個 terms\n",
    "    * $U$ 是 $m \\times r$: 有 $m$ 個 documents 和 $r$ 個 concepts，document-to-concept similarity matrix，document concept indicator\n",
    "    * $\\Lambda$ 是 $r \\times r$ 的對角矩陣: 每個元素表示 concept 的強度 (Strength)，不一定需要是 $r \\times r$ 的方陣，但是只能對角線上的元素是非零的，其他元素都必須是 0，對角線元素叫做 singular value\n",
    "    * $V$ 是 $n \\times r$: 有 $n$ 個 terms 和 $r$ 個 concepts，term-to-concept similarity matrix，word concept indicator\n",
    "    * $U$ 和 $V$ 都是正交歸一的矩陣，都是寫成 column matrix\n",
    "    * **$\\Lambda$ 的元素習慣上都是正的，由大排到小** (基本上元素都必須同號，若都是負的就把負號提出來)\n",
    "    * **concepts 就是 latent factors**\n",
    "  * $r$ 要選多少，是看要保留多少資料而決定的\n",
    "  * 要選擇**投影在 sum of square error 最小的軸上**\n",
    "  * 做 dimensional reduction 時，就是把小的 singular value 丟掉，從最小的開始丟\n",
    "    * 因為是丟掉，所以會失去一部分的資訊\n",
    "* Scikit-learn 的 PCA 是用 SVD 來實作的\n",
    "  * PCA 的 eigenvalues 是 SVD 的 singular value 的平方"
   ]
  },
  {
   "cell_type": "markdown",
   "metadata": {},
   "source": [
    "## NMF\n",
    "\n",
    "* NMF 是 **Non-negative Matrix Factorization**\n",
    "  * 因為現實的情況很多都是 non-negative 的\n",
    "* 把大矩陣 $V$ 分解成兩個小矩陣 $W$ 和 $H$: \\begin{equation}V_{m\\times n} = W_{m \\times r} H_{r \\times n}\\end{equation}\n",
    "  * $V$ 是 $m$ words $\\times$ $n$ documents，注意 documents 在這邊是欄位 words 是列\n",
    "  * $W$ 是 word $\\times$ latent factors\n",
    "  * $H$ 是 latent factors $\\times$ documents \n",
    "  * $V$ 可以由 $W$ 和 $H$ 來恢復\n",
    "  * $V_{ij} \\ge 0$, $W_{ij} \\ge 0$, $H_{ij} \\ge 0$\n",
    "  * $r < min(m, n)$\n",
    "  * 看作是 $H$ 的每一欄用 $W$ 當成權重然後加起來\n",
    "* NMF 是一種 relexed kMeans clustering\n",
    "  * $W$ 是 cluster centeroids\n",
    "  * $H$ 是 cluster membership indicators\n",
    "* 因為 NMF 是數值近似解，所以目標是要最小化 $|| V - WH ||^2$，而且 $W_{ij} \\ge 0$, $H_{ij} \\ge 0$\n",
    "  * 先隨便初始化 $W$, $H$ 決定形狀 (維度)\n",
    "  * 固定 $W$ 最小化 $H$ 的 sum of square errors，要確保 $H$ 的每個元素都大於等於 0\n",
    "  * 等 $H$ 最佳化了，再固定 $H$ 來最小化 $W$ 的 sum of square errors，要確保 $W$ 的每個元素都大於等於 0\n",
    "  * 更新 $W$ 和 $H$ 的方法有\n",
    "    * multiplicative update\n",
    "      * 速度快，實作容易\n",
    "      * \\begin{equation}H_{a\\mu} \\leftarrow H_{a\\mu} \\frac{(W^T V)_{a\\mu}}{(W^T W H)_{a\\mu}}\\end{equation}\n",
    "      * \\begin{equation}W_{ia} \\leftarrow W_{ia} \\frac{(VH^T)_{ia}}{(W H H^T)_{ia}}\\end{equation}\n",
    "    * gradient descent\n",
    "      * 實作容易，收斂速度慢，和選擇的 step size 有關\n",
    "  * 要一直更新到什麼時候停止？\n",
    "    * RMSE 下降\n",
    "    * iteration 次數達到了\n",
    "  "
   ]
  },
  {
   "cell_type": "code",
   "execution_count": 45,
   "metadata": {},
   "outputs": [],
   "source": [
    "import pandas as pd\n",
    "import numpy as np\n",
    "import matplotlib.pyplot as plt\n",
    "%matplotlib inline"
   ]
  },
  {
   "cell_type": "markdown",
   "metadata": {},
   "source": [
    "### Linear equation exact solver\n",
    "\n",
    "\\begin{equation}\n",
    "  \\left[\n",
    "    \\begin{array}{cc}\n",
    "    1&2\\\\-3&4\n",
    "    \\end{array}\n",
    "  \\right]\n",
    "  \\left[\n",
    "  \\begin{array}{c}\n",
    "  x_1\\\\x_2\n",
    "  \\end{array}\n",
    "  \\right]\n",
    "  =\n",
    "  \\left[\n",
    "    \\begin{array}{c}\n",
    "    7\\\\-9\n",
    "    \\end{array}\n",
    "  \\right]\n",
    "\\end{equation}\n"
   ]
  },
  {
   "cell_type": "code",
   "execution_count": 46,
   "metadata": {},
   "outputs": [
    {
     "name": "stdout",
     "output_type": "stream",
     "text": [
      "[4.6 1.2]\n"
     ]
    }
   ],
   "source": [
    "A = np.array([[1, 2], [-3, 4]])\n",
    "b = np.array([7, -9])\n",
    "\n",
    "print(np.linalg.solve(A, b))"
   ]
  },
  {
   "cell_type": "markdown",
   "metadata": {},
   "source": [
    "### Least square solver\n",
    "\n",
    "#### Least squares: find $x$ that minimize the residual sum of squares (RSS)\n",
    "\n",
    "Overdetermined system of linear equation\n",
    "\n",
    "\\begin{equation}\n",
    "  \\left[\n",
    "    \\begin{array}{cc}\n",
    "    1&2\\\\-3&4\\\\1&-4\n",
    "    \\end{array}\n",
    "  \\right]\n",
    "  \\left[\n",
    "    \\begin{array}{c}\n",
    "    x_1\\\\x_2\n",
    "    \\end{array}\n",
    "  \\right]\n",
    "  =\n",
    "  \\left[\n",
    "    \\begin{array}{c}\n",
    "    7\\\\-9\\\\17\n",
    "    \\end{array}\n",
    "  \\right]\n",
    "\\end{equation}\n",
    "\n",
    "An exact solution is not guaranteed. Use least squares solver\n",
    "\n"
   ]
  },
  {
   "cell_type": "code",
   "execution_count": 47,
   "metadata": {},
   "outputs": [
    {
     "name": "stdout",
     "output_type": "stream",
     "text": [
      "(array([ 2.88, -1.38]), array([147.92]), 2, array([6.50140941, 2.17524151]))\n",
      "[ 2.88 -1.38]\n"
     ]
    },
    {
     "name": "stderr",
     "output_type": "stream",
     "text": [
      "/usr/local/anaconda3/lib/python3.6/site-packages/ipykernel_launcher.py:4: FutureWarning: `rcond` parameter will change to the default of machine precision times ``max(M, N)`` where M and N are the input matrix dimensions.\n",
      "To use the future default and silence this warning we advise to pass `rcond=None`, to keep using the old, explicitly pass `rcond=-1`.\n",
      "  after removing the cwd from sys.path.\n",
      "/usr/local/anaconda3/lib/python3.6/site-packages/ipykernel_launcher.py:5: FutureWarning: `rcond` parameter will change to the default of machine precision times ``max(M, N)`` where M and N are the input matrix dimensions.\n",
      "To use the future default and silence this warning we advise to pass `rcond=None`, to keep using the old, explicitly pass `rcond=-1`.\n",
      "  \"\"\"\n"
     ]
    }
   ],
   "source": [
    "A = np.array([[1, 2], [-3, 4], [1, -4]])\n",
    "b = np.array([7, -9, 17])\n",
    "\n",
    "print(np.linalg.lstsq(A, b))\n",
    "print(np.linalg.lstsq(A, b)[0])"
   ]
  },
  {
   "cell_type": "markdown",
   "metadata": {},
   "source": [
    "### Non-negative least squares solver\n",
    "\n",
    "Can constrain the solution of least squares solver to be non-negative"
   ]
  },
  {
   "cell_type": "code",
   "execution_count": 48,
   "metadata": {},
   "outputs": [
    {
     "name": "stdout",
     "output_type": "stream",
     "text": [
      "(array([4.63636364, 0.        ]), 13.5109383295704)\n",
      "[4.63636364 0.        ]\n"
     ]
    }
   ],
   "source": [
    "from scipy.optimize import nnls\n",
    "\n",
    "A = np.array([[1, 2], [-3, 4], [1, -4]])\n",
    "b = np.array([7, -9, 17])\n",
    "\n",
    "print(nnls(A, b))\n",
    "print(nnls(A, b)[0])"
   ]
  },
  {
   "cell_type": "markdown",
   "metadata": {},
   "source": [
    "### NMF example\n",
    "\n",
    "The users ratings of different movies. The ratings are from 1 to 5. A rating of 0 means the user hasn't watched the movie. The first 3 movies are Sci-fi movies and the last two movies are romance.\n",
    "\n",
    "| name | Matrix | Alien | StarWars | Casablanca | Titanic |\n",
    "| ----- | ------ | ----- | -------- | ---------- | ------ |\n",
    "| **Alice** |      1 |     2 |        2 |          0 |      0 |\n",
    "|   **Bob** |      3 |     5 |        5 |          0 |      0 |\n",
    "| **Cindy** |      4 |     4 |        4 |          0 |      0 |\n",
    "|   **Dan** |      5 |     5 |        5 |          0 |      0 |\n",
    "| **Emily** |      0 |     2 |        0 |          4 |      4 |\n",
    "| **Frank** |      0 |     0 |        0 |          5 |      5 |\n",
    "|  **Greg** |      0 |     1 |        0 |          2 |      2 |"
   ]
  },
  {
   "cell_type": "code",
   "execution_count": 49,
   "metadata": {},
   "outputs": [],
   "source": [
    "M = np.array([[1, 2, 2, 0, 0],\n",
    "              [3, 5, 5, 0, 0],\n",
    "              [4, 4, 4, 0, 0],\n",
    "              [5, 5, 5, 0, 0],\n",
    "              [0, 2, 0, 4, 4],\n",
    "              [0, 0, 0, 5, 5],\n",
    "              [0, 1, 0, 2, 2]])"
   ]
  },
  {
   "cell_type": "markdown",
   "metadata": {},
   "source": [
    "#### Compute NMF\n",
    "\n",
    "* 見 [https://scikit-learn.org/stable/modules/generated/sklearn.decomposition.NMF.html](https://scikit-learn.org/stable/modules/generated/sklearn.decomposition.NMF.html)"
   ]
  },
  {
   "cell_type": "code",
   "execution_count": 50,
   "metadata": {},
   "outputs": [],
   "source": [
    "from sklearn.decomposition import NMF\n",
    "\n",
    "def fit_nmf(k):\n",
    "    nmf = NMF(n_components=k)\n",
    "    nmf.fit(M)\n",
    "    W = nmf.transform(M)\n",
    "    H = nmf.components_;\n",
    "    return nmf.reconstruction_err_\n",
    "\n",
    "error = [fit_nmf(i) for i in range(1, 6)]"
   ]
  },
  {
   "cell_type": "code",
   "execution_count": 51,
   "metadata": {},
   "outputs": [
    {
     "data": {
      "image/png": "[encoded data removed]",
      "text/plain": [
       "<Figure size 432x288 with 1 Axes>"
      ]
     },
     "metadata": {
      "needs_background": "light"
     },
     "output_type": "display_data"
    }
   ],
   "source": [
    "plt.plot(range(1, 6), error)\n",
    "plt.xlabel('k')\n",
    "plt.ylabel('Reconstruction Error')\n",
    "plt.show()"
   ]
  },
  {
   "cell_type": "markdown",
   "metadata": {},
   "source": [
    "#### Fit using 3 hidden concepts"
   ]
  },
  {
   "cell_type": "code",
   "execution_count": 52,
   "metadata": {},
   "outputs": [
    {
     "name": "stdout",
     "output_type": "stream",
     "text": [
      "RSS = 1.23\n"
     ]
    }
   ],
   "source": [
    "nmf = NMF(n_components=3)\n",
    "nmf.fit(M)\n",
    "W = nmf.transform(M)\n",
    "H = nmf.components_;\n",
    "print('RSS = %.2f' % nmf.reconstruction_err_)"
   ]
  },
  {
   "cell_type": "code",
   "execution_count": 53,
   "metadata": {},
   "outputs": [
    {
     "name": "stdout",
     "output_type": "stream",
     "text": [
      "(7, 3)\n"
     ]
    },
    {
     "data": {
      "text/plain": [
       "array([[7.04390273e-01, 0.00000000e+00, 2.10081857e-01],\n",
       "       [1.73235711e+00, 0.00000000e+00, 6.09161864e-01],\n",
       "       [1.29421597e+00, 1.81488610e-03, 7.56004493e-01],\n",
       "       [1.61776997e+00, 2.26860763e-03, 9.45005616e-01],\n",
       "       [3.93832312e-01, 1.83979442e+00, 0.00000000e+00],\n",
       "       [0.00000000e+00, 2.27886459e+00, 0.00000000e+00],\n",
       "       [1.96916156e-01, 9.19897210e-01, 0.00000000e+00]])"
      ]
     },
     "execution_count": 53,
     "metadata": {},
     "output_type": "execute_result"
    }
   ],
   "source": [
    "print(W.shape)\n",
    "W"
   ]
  },
  {
   "cell_type": "code",
   "execution_count": 54,
   "metadata": {},
   "outputs": [
    {
     "name": "stdout",
     "output_type": "stream",
     "text": [
      "(3, 5)\n"
     ]
    },
    {
     "data": {
      "text/plain": [
       "array([[0.00000000e+00, 3.02271437e+00, 1.84930723e+00, 0.00000000e+00,\n",
       "        0.00000000e+00],\n",
       "       [3.12575553e-05, 1.97832190e-01, 0.00000000e+00, 2.18511960e+00,\n",
       "        2.18511960e+00],\n",
       "       [5.20678354e+00, 0.00000000e+00, 2.31451216e+00, 0.00000000e+00,\n",
       "        0.00000000e+00]])"
      ]
     },
     "execution_count": 54,
     "metadata": {},
     "output_type": "execute_result"
    }
   ],
   "source": [
    "print(H.shape)\n",
    "H"
   ]
  },
  {
   "cell_type": "markdown",
   "metadata": {},
   "source": [
    "#### Make interpretable"
   ]
  },
  {
   "cell_type": "code",
   "execution_count": 55,
   "metadata": {},
   "outputs": [],
   "source": [
    "movies = ['Matrix', 'Alien', 'StarWars', 'Casablanca', 'Titanic']\n",
    "users = ['Alice', 'Bob', 'Cindy', 'Dan', 'Emily', 'Frank', 'Greg']\n",
    "\n",
    "W, H = (np.around(x, 2) for x in (W, H))\n",
    "W = pd.DataFrame(W, index = users)\n",
    "H = pd.DataFrame(H, columns=movies)"
   ]
  },
  {
   "cell_type": "code",
   "execution_count": 56,
   "metadata": {},
   "outputs": [
    {
     "data": {
      "text/html": [
       "<div>\n",
       "<style scoped>\n",
       "    .dataframe tbody tr th:only-of-type {\n",
       "        vertical-align: middle;\n",
       "    }\n",
       "\n",
       "    .dataframe tbody tr th {\n",
       "        vertical-align: top;\n",
       "    }\n",
       "\n",
       "    .dataframe thead th {\n",
       "        text-align: right;\n",
       "    }\n",
       "</style>\n",
       "<table border=\"1\" class=\"dataframe\">\n",
       "  <thead>\n",
       "    <tr style=\"text-align: right;\">\n",
       "      <th></th>\n",
       "      <th>0</th>\n",
       "      <th>1</th>\n",
       "      <th>2</th>\n",
       "    </tr>\n",
       "  </thead>\n",
       "  <tbody>\n",
       "    <tr>\n",
       "      <th>Alice</th>\n",
       "      <td>0.70</td>\n",
       "      <td>0.00</td>\n",
       "      <td>0.21</td>\n",
       "    </tr>\n",
       "    <tr>\n",
       "      <th>Bob</th>\n",
       "      <td>1.73</td>\n",
       "      <td>0.00</td>\n",
       "      <td>0.61</td>\n",
       "    </tr>\n",
       "    <tr>\n",
       "      <th>Cindy</th>\n",
       "      <td>1.29</td>\n",
       "      <td>0.00</td>\n",
       "      <td>0.76</td>\n",
       "    </tr>\n",
       "    <tr>\n",
       "      <th>Dan</th>\n",
       "      <td>1.62</td>\n",
       "      <td>0.00</td>\n",
       "      <td>0.95</td>\n",
       "    </tr>\n",
       "    <tr>\n",
       "      <th>Emily</th>\n",
       "      <td>0.39</td>\n",
       "      <td>1.84</td>\n",
       "      <td>0.00</td>\n",
       "    </tr>\n",
       "    <tr>\n",
       "      <th>Frank</th>\n",
       "      <td>0.00</td>\n",
       "      <td>2.28</td>\n",
       "      <td>0.00</td>\n",
       "    </tr>\n",
       "    <tr>\n",
       "      <th>Greg</th>\n",
       "      <td>0.20</td>\n",
       "      <td>0.92</td>\n",
       "      <td>0.00</td>\n",
       "    </tr>\n",
       "  </tbody>\n",
       "</table>\n",
       "</div>"
      ],
      "text/plain": [
       "          0     1     2\n",
       "Alice  0.70  0.00  0.21\n",
       "Bob    1.73  0.00  0.61\n",
       "Cindy  1.29  0.00  0.76\n",
       "Dan    1.62  0.00  0.95\n",
       "Emily  0.39  1.84  0.00\n",
       "Frank  0.00  2.28  0.00\n",
       "Greg   0.20  0.92  0.00"
      ]
     },
     "execution_count": 56,
     "metadata": {},
     "output_type": "execute_result"
    }
   ],
   "source": [
    "W # 每個元素都 >= 0"
   ]
  },
  {
   "cell_type": "code",
   "execution_count": 57,
   "metadata": {},
   "outputs": [
    {
     "data": {
      "text/html": [
       "<div>\n",
       "<style scoped>\n",
       "    .dataframe tbody tr th:only-of-type {\n",
       "        vertical-align: middle;\n",
       "    }\n",
       "\n",
       "    .dataframe tbody tr th {\n",
       "        vertical-align: top;\n",
       "    }\n",
       "\n",
       "    .dataframe thead th {\n",
       "        text-align: right;\n",
       "    }\n",
       "</style>\n",
       "<table border=\"1\" class=\"dataframe\">\n",
       "  <thead>\n",
       "    <tr style=\"text-align: right;\">\n",
       "      <th></th>\n",
       "      <th>Matrix</th>\n",
       "      <th>Alien</th>\n",
       "      <th>StarWars</th>\n",
       "      <th>Casablanca</th>\n",
       "      <th>Titanic</th>\n",
       "    </tr>\n",
       "  </thead>\n",
       "  <tbody>\n",
       "    <tr>\n",
       "      <th>0</th>\n",
       "      <td>0.00</td>\n",
       "      <td>3.02</td>\n",
       "      <td>1.85</td>\n",
       "      <td>0.00</td>\n",
       "      <td>0.00</td>\n",
       "    </tr>\n",
       "    <tr>\n",
       "      <th>1</th>\n",
       "      <td>0.00</td>\n",
       "      <td>0.20</td>\n",
       "      <td>0.00</td>\n",
       "      <td>2.19</td>\n",
       "      <td>2.19</td>\n",
       "    </tr>\n",
       "    <tr>\n",
       "      <th>2</th>\n",
       "      <td>5.21</td>\n",
       "      <td>0.00</td>\n",
       "      <td>2.31</td>\n",
       "      <td>0.00</td>\n",
       "      <td>0.00</td>\n",
       "    </tr>\n",
       "  </tbody>\n",
       "</table>\n",
       "</div>"
      ],
      "text/plain": [
       "   Matrix  Alien  StarWars  Casablanca  Titanic\n",
       "0    0.00   3.02      1.85        0.00     0.00\n",
       "1    0.00   0.20      0.00        2.19     2.19\n",
       "2    5.21   0.00      2.31        0.00     0.00"
      ]
     },
     "execution_count": 57,
     "metadata": {},
     "output_type": "execute_result"
    }
   ],
   "source": [
    "H # 每個元素都 >= 0"
   ]
  },
  {
   "cell_type": "markdown",
   "metadata": {},
   "source": [
    "#### verify reconstruction"
   ]
  },
  {
   "cell_type": "code",
   "execution_count": 58,
   "metadata": {},
   "outputs": [
    {
     "data": {
      "text/html": [
       "<div>\n",
       "<style scoped>\n",
       "    .dataframe tbody tr th:only-of-type {\n",
       "        vertical-align: middle;\n",
       "    }\n",
       "\n",
       "    .dataframe tbody tr th {\n",
       "        vertical-align: top;\n",
       "    }\n",
       "\n",
       "    .dataframe thead th {\n",
       "        text-align: right;\n",
       "    }\n",
       "</style>\n",
       "<table border=\"1\" class=\"dataframe\">\n",
       "  <thead>\n",
       "    <tr style=\"text-align: right;\">\n",
       "      <th></th>\n",
       "      <th>Matrix</th>\n",
       "      <th>Alien</th>\n",
       "      <th>StarWars</th>\n",
       "      <th>Casablanca</th>\n",
       "      <th>Titanic</th>\n",
       "    </tr>\n",
       "  </thead>\n",
       "  <tbody>\n",
       "    <tr>\n",
       "      <th>Alice</th>\n",
       "      <td>1.09</td>\n",
       "      <td>2.11</td>\n",
       "      <td>1.78</td>\n",
       "      <td>0.00</td>\n",
       "      <td>0.00</td>\n",
       "    </tr>\n",
       "    <tr>\n",
       "      <th>Bob</th>\n",
       "      <td>3.18</td>\n",
       "      <td>5.22</td>\n",
       "      <td>4.61</td>\n",
       "      <td>0.00</td>\n",
       "      <td>0.00</td>\n",
       "    </tr>\n",
       "    <tr>\n",
       "      <th>Cindy</th>\n",
       "      <td>3.96</td>\n",
       "      <td>3.90</td>\n",
       "      <td>4.14</td>\n",
       "      <td>0.00</td>\n",
       "      <td>0.00</td>\n",
       "    </tr>\n",
       "    <tr>\n",
       "      <th>Dan</th>\n",
       "      <td>4.95</td>\n",
       "      <td>4.89</td>\n",
       "      <td>5.19</td>\n",
       "      <td>0.00</td>\n",
       "      <td>0.00</td>\n",
       "    </tr>\n",
       "    <tr>\n",
       "      <th>Emily</th>\n",
       "      <td>0.00</td>\n",
       "      <td>1.55</td>\n",
       "      <td>0.72</td>\n",
       "      <td>4.03</td>\n",
       "      <td>4.03</td>\n",
       "    </tr>\n",
       "    <tr>\n",
       "      <th>Frank</th>\n",
       "      <td>0.00</td>\n",
       "      <td>0.46</td>\n",
       "      <td>0.00</td>\n",
       "      <td>4.99</td>\n",
       "      <td>4.99</td>\n",
       "    </tr>\n",
       "    <tr>\n",
       "      <th>Greg</th>\n",
       "      <td>0.00</td>\n",
       "      <td>0.79</td>\n",
       "      <td>0.37</td>\n",
       "      <td>2.01</td>\n",
       "      <td>2.01</td>\n",
       "    </tr>\n",
       "  </tbody>\n",
       "</table>\n",
       "</div>"
      ],
      "text/plain": [
       "       Matrix  Alien  StarWars  Casablanca  Titanic\n",
       "Alice    1.09   2.11      1.78        0.00     0.00\n",
       "Bob      3.18   5.22      4.61        0.00     0.00\n",
       "Cindy    3.96   3.90      4.14        0.00     0.00\n",
       "Dan      4.95   4.89      5.19        0.00     0.00\n",
       "Emily    0.00   1.55      0.72        4.03     4.03\n",
       "Frank    0.00   0.46      0.00        4.99     4.99\n",
       "Greg     0.00   0.79      0.37        2.01     2.01"
      ]
     },
     "execution_count": 58,
     "metadata": {},
     "output_type": "execute_result"
    }
   ],
   "source": [
    "np.around(W.dot(H), 2) # WH 是數值近似解，所以不會跟 V 一模一樣"
   ]
  },
  {
   "cell_type": "code",
   "execution_count": 59,
   "metadata": {},
   "outputs": [
    {
     "data": {
      "text/html": [
       "<div>\n",
       "<style scoped>\n",
       "    .dataframe tbody tr th:only-of-type {\n",
       "        vertical-align: middle;\n",
       "    }\n",
       "\n",
       "    .dataframe tbody tr th {\n",
       "        vertical-align: top;\n",
       "    }\n",
       "\n",
       "    .dataframe thead th {\n",
       "        text-align: right;\n",
       "    }\n",
       "</style>\n",
       "<table border=\"1\" class=\"dataframe\">\n",
       "  <thead>\n",
       "    <tr style=\"text-align: right;\">\n",
       "      <th></th>\n",
       "      <th>Matrix</th>\n",
       "      <th>Alien</th>\n",
       "      <th>StarWars</th>\n",
       "      <th>Casablanca</th>\n",
       "      <th>Titanic</th>\n",
       "    </tr>\n",
       "  </thead>\n",
       "  <tbody>\n",
       "    <tr>\n",
       "      <th>Alice</th>\n",
       "      <td>1</td>\n",
       "      <td>2</td>\n",
       "      <td>2</td>\n",
       "      <td>0</td>\n",
       "      <td>0</td>\n",
       "    </tr>\n",
       "    <tr>\n",
       "      <th>Bob</th>\n",
       "      <td>3</td>\n",
       "      <td>5</td>\n",
       "      <td>5</td>\n",
       "      <td>0</td>\n",
       "      <td>0</td>\n",
       "    </tr>\n",
       "    <tr>\n",
       "      <th>Cindy</th>\n",
       "      <td>4</td>\n",
       "      <td>4</td>\n",
       "      <td>4</td>\n",
       "      <td>0</td>\n",
       "      <td>0</td>\n",
       "    </tr>\n",
       "    <tr>\n",
       "      <th>Dan</th>\n",
       "      <td>5</td>\n",
       "      <td>5</td>\n",
       "      <td>5</td>\n",
       "      <td>0</td>\n",
       "      <td>0</td>\n",
       "    </tr>\n",
       "    <tr>\n",
       "      <th>Emily</th>\n",
       "      <td>0</td>\n",
       "      <td>2</td>\n",
       "      <td>0</td>\n",
       "      <td>4</td>\n",
       "      <td>4</td>\n",
       "    </tr>\n",
       "    <tr>\n",
       "      <th>Frank</th>\n",
       "      <td>0</td>\n",
       "      <td>0</td>\n",
       "      <td>0</td>\n",
       "      <td>5</td>\n",
       "      <td>5</td>\n",
       "    </tr>\n",
       "    <tr>\n",
       "      <th>Greg</th>\n",
       "      <td>0</td>\n",
       "      <td>1</td>\n",
       "      <td>0</td>\n",
       "      <td>2</td>\n",
       "      <td>2</td>\n",
       "    </tr>\n",
       "  </tbody>\n",
       "</table>\n",
       "</div>"
      ],
      "text/plain": [
       "       Matrix  Alien  StarWars  Casablanca  Titanic\n",
       "Alice       1      2         2           0        0\n",
       "Bob         3      5         5           0        0\n",
       "Cindy       4      4         4           0        0\n",
       "Dan         5      5         5           0        0\n",
       "Emily       0      2         0           4        4\n",
       "Frank       0      0         0           5        5\n",
       "Greg        0      1         0           2        2"
      ]
     },
     "execution_count": 59,
     "metadata": {},
     "output_type": "execute_result"
    }
   ],
   "source": [
    "pd.DataFrame(M, index=users, columns=movies) # M 就是公式裡面的 V"
   ]
  },
  {
   "cell_type": "markdown",
   "metadata": {},
   "source": [
    "#### Compare to SVD"
   ]
  },
  {
   "cell_type": "code",
   "execution_count": 60,
   "metadata": {},
   "outputs": [],
   "source": [
    "from numpy.linalg import svd\n",
    "k = 3\n",
    "\n",
    "# SVD\n",
    "U, sigma, VT = svd(M)\n",
    "\n",
    "# Make pretty\n",
    "U, sigma, VT = (np.around(x, 2) for x in (U, sigma, VT))\n",
    "U = pd.DataFrame(U, index=users)\n",
    "VT = pd.DataFrame(VT, columns=movies)\n",
    "\n",
    "# # keep top two concepts\n",
    "# U = U.iloc[:, :k]\n",
    "# sigma = sigma[:k]\n",
    "# VT = VT.iloc[:k, :]"
   ]
  },
  {
   "cell_type": "code",
   "execution_count": 61,
   "metadata": {},
   "outputs": [
    {
     "name": "stdout",
     "output_type": "stream",
     "text": [
      "(7, 7)\n"
     ]
    },
    {
     "data": {
      "text/html": [
       "<div>\n",
       "<style scoped>\n",
       "    .dataframe tbody tr th:only-of-type {\n",
       "        vertical-align: middle;\n",
       "    }\n",
       "\n",
       "    .dataframe tbody tr th {\n",
       "        vertical-align: top;\n",
       "    }\n",
       "\n",
       "    .dataframe thead th {\n",
       "        text-align: right;\n",
       "    }\n",
       "</style>\n",
       "<table border=\"1\" class=\"dataframe\">\n",
       "  <thead>\n",
       "    <tr style=\"text-align: right;\">\n",
       "      <th></th>\n",
       "      <th>0</th>\n",
       "      <th>1</th>\n",
       "      <th>2</th>\n",
       "      <th>3</th>\n",
       "      <th>4</th>\n",
       "      <th>5</th>\n",
       "      <th>6</th>\n",
       "    </tr>\n",
       "  </thead>\n",
       "  <tbody>\n",
       "    <tr>\n",
       "      <th>Alice</th>\n",
       "      <td>-0.21</td>\n",
       "      <td>0.02</td>\n",
       "      <td>0.31</td>\n",
       "      <td>0.26</td>\n",
       "      <td>0.66</td>\n",
       "      <td>-0.51</td>\n",
       "      <td>0.33</td>\n",
       "    </tr>\n",
       "    <tr>\n",
       "      <th>Bob</th>\n",
       "      <td>-0.55</td>\n",
       "      <td>0.06</td>\n",
       "      <td>0.53</td>\n",
       "      <td>0.46</td>\n",
       "      <td>-0.33</td>\n",
       "      <td>0.25</td>\n",
       "      <td>-0.16</td>\n",
       "    </tr>\n",
       "    <tr>\n",
       "      <th>Cindy</th>\n",
       "      <td>-0.50</td>\n",
       "      <td>0.07</td>\n",
       "      <td>-0.31</td>\n",
       "      <td>-0.20</td>\n",
       "      <td>-0.37</td>\n",
       "      <td>-0.67</td>\n",
       "      <td>-0.18</td>\n",
       "    </tr>\n",
       "    <tr>\n",
       "      <th>Dan</th>\n",
       "      <td>-0.62</td>\n",
       "      <td>0.08</td>\n",
       "      <td>-0.39</td>\n",
       "      <td>-0.24</td>\n",
       "      <td>0.36</td>\n",
       "      <td>0.48</td>\n",
       "      <td>0.18</td>\n",
       "    </tr>\n",
       "    <tr>\n",
       "      <th>Emily</th>\n",
       "      <td>-0.12</td>\n",
       "      <td>-0.60</td>\n",
       "      <td>0.40</td>\n",
       "      <td>-0.52</td>\n",
       "      <td>0.20</td>\n",
       "      <td>-0.00</td>\n",
       "      <td>-0.40</td>\n",
       "    </tr>\n",
       "    <tr>\n",
       "      <th>Frank</th>\n",
       "      <td>-0.04</td>\n",
       "      <td>-0.73</td>\n",
       "      <td>-0.42</td>\n",
       "      <td>0.53</td>\n",
       "      <td>-0.00</td>\n",
       "      <td>0.00</td>\n",
       "      <td>-0.00</td>\n",
       "    </tr>\n",
       "    <tr>\n",
       "      <th>Greg</th>\n",
       "      <td>-0.06</td>\n",
       "      <td>-0.30</td>\n",
       "      <td>0.20</td>\n",
       "      <td>-0.26</td>\n",
       "      <td>-0.40</td>\n",
       "      <td>-0.00</td>\n",
       "      <td>0.80</td>\n",
       "    </tr>\n",
       "  </tbody>\n",
       "</table>\n",
       "</div>"
      ],
      "text/plain": [
       "          0     1     2     3     4     5     6\n",
       "Alice -0.21  0.02  0.31  0.26  0.66 -0.51  0.33\n",
       "Bob   -0.55  0.06  0.53  0.46 -0.33  0.25 -0.16\n",
       "Cindy -0.50  0.07 -0.31 -0.20 -0.37 -0.67 -0.18\n",
       "Dan   -0.62  0.08 -0.39 -0.24  0.36  0.48  0.18\n",
       "Emily -0.12 -0.60  0.40 -0.52  0.20 -0.00 -0.40\n",
       "Frank -0.04 -0.73 -0.42  0.53 -0.00  0.00 -0.00\n",
       "Greg  -0.06 -0.30  0.20 -0.26 -0.40 -0.00  0.80"
      ]
     },
     "execution_count": 61,
     "metadata": {},
     "output_type": "execute_result"
    }
   ],
   "source": [
    "print(U.shape)\n",
    "U"
   ]
  },
  {
   "cell_type": "code",
   "execution_count": 62,
   "metadata": {},
   "outputs": [
    {
     "name": "stdout",
     "output_type": "stream",
     "text": [
      "(5,)\n"
     ]
    },
    {
     "data": {
      "text/plain": [
       "array([13.84,  9.52,  1.69,  1.02,  0.  ])"
      ]
     },
     "execution_count": 62,
     "metadata": {},
     "output_type": "execute_result"
    }
   ],
   "source": [
    "print(sigma.shape)\n",
    "sigma"
   ]
  },
  {
   "cell_type": "code",
   "execution_count": 63,
   "metadata": {},
   "outputs": [
    {
     "name": "stdout",
     "output_type": "stream",
     "text": [
      "(5, 5)\n"
     ]
    },
    {
     "data": {
      "text/html": [
       "<div>\n",
       "<style scoped>\n",
       "    .dataframe tbody tr th:only-of-type {\n",
       "        vertical-align: middle;\n",
       "    }\n",
       "\n",
       "    .dataframe tbody tr th {\n",
       "        vertical-align: top;\n",
       "    }\n",
       "\n",
       "    .dataframe thead th {\n",
       "        text-align: right;\n",
       "    }\n",
       "</style>\n",
       "<table border=\"1\" class=\"dataframe\">\n",
       "  <thead>\n",
       "    <tr style=\"text-align: right;\">\n",
       "      <th></th>\n",
       "      <th>Matrix</th>\n",
       "      <th>Alien</th>\n",
       "      <th>StarWars</th>\n",
       "      <th>Casablanca</th>\n",
       "      <th>Titanic</th>\n",
       "    </tr>\n",
       "  </thead>\n",
       "  <tbody>\n",
       "    <tr>\n",
       "      <th>0</th>\n",
       "      <td>-0.50</td>\n",
       "      <td>-0.62</td>\n",
       "      <td>-0.60</td>\n",
       "      <td>-0.06</td>\n",
       "      <td>-0.06</td>\n",
       "    </tr>\n",
       "    <tr>\n",
       "      <th>1</th>\n",
       "      <td>0.09</td>\n",
       "      <td>-0.05</td>\n",
       "      <td>0.11</td>\n",
       "      <td>-0.70</td>\n",
       "      <td>-0.70</td>\n",
       "    </tr>\n",
       "    <tr>\n",
       "      <th>2</th>\n",
       "      <td>-0.78</td>\n",
       "      <td>0.62</td>\n",
       "      <td>0.03</td>\n",
       "      <td>-0.07</td>\n",
       "      <td>-0.07</td>\n",
       "    </tr>\n",
       "    <tr>\n",
       "      <th>3</th>\n",
       "      <td>-0.36</td>\n",
       "      <td>-0.48</td>\n",
       "      <td>0.79</td>\n",
       "      <td>0.05</td>\n",
       "      <td>0.05</td>\n",
       "    </tr>\n",
       "    <tr>\n",
       "      <th>4</th>\n",
       "      <td>0.00</td>\n",
       "      <td>0.00</td>\n",
       "      <td>-0.00</td>\n",
       "      <td>-0.71</td>\n",
       "      <td>0.71</td>\n",
       "    </tr>\n",
       "  </tbody>\n",
       "</table>\n",
       "</div>"
      ],
      "text/plain": [
       "   Matrix  Alien  StarWars  Casablanca  Titanic\n",
       "0   -0.50  -0.62     -0.60       -0.06    -0.06\n",
       "1    0.09  -0.05      0.11       -0.70    -0.70\n",
       "2   -0.78   0.62      0.03       -0.07    -0.07\n",
       "3   -0.36  -0.48      0.79        0.05     0.05\n",
       "4    0.00   0.00     -0.00       -0.71     0.71"
      ]
     },
     "execution_count": 63,
     "metadata": {},
     "output_type": "execute_result"
    }
   ],
   "source": [
    "print(VT.shape)\n",
    "VT"
   ]
  },
  {
   "cell_type": "code",
   "execution_count": 64,
   "metadata": {},
   "outputs": [],
   "source": [
    "# keep top three concepts\n",
    "U = U.iloc[:, :k]\n",
    "sigma = sigma[:k]\n",
    "VT = VT.iloc[:k, :]"
   ]
  },
  {
   "cell_type": "code",
   "execution_count": 65,
   "metadata": {},
   "outputs": [
    {
     "data": {
      "text/html": [
       "<div>\n",
       "<style scoped>\n",
       "    .dataframe tbody tr th:only-of-type {\n",
       "        vertical-align: middle;\n",
       "    }\n",
       "\n",
       "    .dataframe tbody tr th {\n",
       "        vertical-align: top;\n",
       "    }\n",
       "\n",
       "    .dataframe thead th {\n",
       "        text-align: right;\n",
       "    }\n",
       "</style>\n",
       "<table border=\"1\" class=\"dataframe\">\n",
       "  <thead>\n",
       "    <tr style=\"text-align: right;\">\n",
       "      <th></th>\n",
       "      <th>0</th>\n",
       "      <th>1</th>\n",
       "      <th>2</th>\n",
       "    </tr>\n",
       "  </thead>\n",
       "  <tbody>\n",
       "    <tr>\n",
       "      <th>Alice</th>\n",
       "      <td>-0.21</td>\n",
       "      <td>0.02</td>\n",
       "      <td>0.31</td>\n",
       "    </tr>\n",
       "    <tr>\n",
       "      <th>Bob</th>\n",
       "      <td>-0.55</td>\n",
       "      <td>0.06</td>\n",
       "      <td>0.53</td>\n",
       "    </tr>\n",
       "    <tr>\n",
       "      <th>Cindy</th>\n",
       "      <td>-0.50</td>\n",
       "      <td>0.07</td>\n",
       "      <td>-0.31</td>\n",
       "    </tr>\n",
       "    <tr>\n",
       "      <th>Dan</th>\n",
       "      <td>-0.62</td>\n",
       "      <td>0.08</td>\n",
       "      <td>-0.39</td>\n",
       "    </tr>\n",
       "    <tr>\n",
       "      <th>Emily</th>\n",
       "      <td>-0.12</td>\n",
       "      <td>-0.60</td>\n",
       "      <td>0.40</td>\n",
       "    </tr>\n",
       "    <tr>\n",
       "      <th>Frank</th>\n",
       "      <td>-0.04</td>\n",
       "      <td>-0.73</td>\n",
       "      <td>-0.42</td>\n",
       "    </tr>\n",
       "    <tr>\n",
       "      <th>Greg</th>\n",
       "      <td>-0.06</td>\n",
       "      <td>-0.30</td>\n",
       "      <td>0.20</td>\n",
       "    </tr>\n",
       "  </tbody>\n",
       "</table>\n",
       "</div>"
      ],
      "text/plain": [
       "          0     1     2\n",
       "Alice -0.21  0.02  0.31\n",
       "Bob   -0.55  0.06  0.53\n",
       "Cindy -0.50  0.07 -0.31\n",
       "Dan   -0.62  0.08 -0.39\n",
       "Emily -0.12 -0.60  0.40\n",
       "Frank -0.04 -0.73 -0.42\n",
       "Greg  -0.06 -0.30  0.20"
      ]
     },
     "execution_count": 65,
     "metadata": {},
     "output_type": "execute_result"
    }
   ],
   "source": [
    "U"
   ]
  },
  {
   "cell_type": "code",
   "execution_count": 66,
   "metadata": {},
   "outputs": [
    {
     "data": {
      "text/plain": [
       "array([13.84,  9.52,  1.69])"
      ]
     },
     "execution_count": 66,
     "metadata": {},
     "output_type": "execute_result"
    }
   ],
   "source": [
    "sigma"
   ]
  },
  {
   "cell_type": "code",
   "execution_count": 67,
   "metadata": {},
   "outputs": [
    {
     "data": {
      "text/html": [
       "<div>\n",
       "<style scoped>\n",
       "    .dataframe tbody tr th:only-of-type {\n",
       "        vertical-align: middle;\n",
       "    }\n",
       "\n",
       "    .dataframe tbody tr th {\n",
       "        vertical-align: top;\n",
       "    }\n",
       "\n",
       "    .dataframe thead th {\n",
       "        text-align: right;\n",
       "    }\n",
       "</style>\n",
       "<table border=\"1\" class=\"dataframe\">\n",
       "  <thead>\n",
       "    <tr style=\"text-align: right;\">\n",
       "      <th></th>\n",
       "      <th>Matrix</th>\n",
       "      <th>Alien</th>\n",
       "      <th>StarWars</th>\n",
       "      <th>Casablanca</th>\n",
       "      <th>Titanic</th>\n",
       "    </tr>\n",
       "  </thead>\n",
       "  <tbody>\n",
       "    <tr>\n",
       "      <th>0</th>\n",
       "      <td>-0.50</td>\n",
       "      <td>-0.62</td>\n",
       "      <td>-0.60</td>\n",
       "      <td>-0.06</td>\n",
       "      <td>-0.06</td>\n",
       "    </tr>\n",
       "    <tr>\n",
       "      <th>1</th>\n",
       "      <td>0.09</td>\n",
       "      <td>-0.05</td>\n",
       "      <td>0.11</td>\n",
       "      <td>-0.70</td>\n",
       "      <td>-0.70</td>\n",
       "    </tr>\n",
       "    <tr>\n",
       "      <th>2</th>\n",
       "      <td>-0.78</td>\n",
       "      <td>0.62</td>\n",
       "      <td>0.03</td>\n",
       "      <td>-0.07</td>\n",
       "      <td>-0.07</td>\n",
       "    </tr>\n",
       "  </tbody>\n",
       "</table>\n",
       "</div>"
      ],
      "text/plain": [
       "   Matrix  Alien  StarWars  Casablanca  Titanic\n",
       "0   -0.50  -0.62     -0.60       -0.06    -0.06\n",
       "1    0.09  -0.05      0.11       -0.70    -0.70\n",
       "2   -0.78   0.62      0.03       -0.07    -0.07"
      ]
     },
     "execution_count": 67,
     "metadata": {},
     "output_type": "execute_result"
    }
   ],
   "source": [
    "VT"
   ]
  },
  {
   "cell_type": "markdown",
   "metadata": {},
   "source": [
    "### Interpreting concepts\n",
    "\n",
    "* concept = cluster\n",
    "* Each row can belong to more than one concept\n",
    "\n",
    "#### If we want to cluster movies\n",
    "* W: cluster centers\n",
    "* H: cluster indicators\n",
    "\n",
    "#### If we want to cluster users\n",
    "* W: cluster indicators\n",
    "* H: cluster centers\n",
    "\n",
    "#### What is concept 0?"
   ]
  },
  {
   "cell_type": "code",
   "execution_count": 68,
   "metadata": {},
   "outputs": [
    {
     "data": {
      "text/html": [
       "<div>\n",
       "<style scoped>\n",
       "    .dataframe tbody tr th:only-of-type {\n",
       "        vertical-align: middle;\n",
       "    }\n",
       "\n",
       "    .dataframe tbody tr th {\n",
       "        vertical-align: top;\n",
       "    }\n",
       "\n",
       "    .dataframe thead th {\n",
       "        text-align: right;\n",
       "    }\n",
       "</style>\n",
       "<table border=\"1\" class=\"dataframe\">\n",
       "  <thead>\n",
       "    <tr style=\"text-align: right;\">\n",
       "      <th></th>\n",
       "      <th>0</th>\n",
       "      <th>1</th>\n",
       "      <th>2</th>\n",
       "    </tr>\n",
       "  </thead>\n",
       "  <tbody>\n",
       "    <tr>\n",
       "      <th>Alice</th>\n",
       "      <td>0.70</td>\n",
       "      <td>0.00</td>\n",
       "      <td>0.21</td>\n",
       "    </tr>\n",
       "    <tr>\n",
       "      <th>Bob</th>\n",
       "      <td>1.73</td>\n",
       "      <td>0.00</td>\n",
       "      <td>0.61</td>\n",
       "    </tr>\n",
       "    <tr>\n",
       "      <th>Cindy</th>\n",
       "      <td>1.29</td>\n",
       "      <td>0.00</td>\n",
       "      <td>0.76</td>\n",
       "    </tr>\n",
       "    <tr>\n",
       "      <th>Dan</th>\n",
       "      <td>1.62</td>\n",
       "      <td>0.00</td>\n",
       "      <td>0.95</td>\n",
       "    </tr>\n",
       "    <tr>\n",
       "      <th>Emily</th>\n",
       "      <td>0.39</td>\n",
       "      <td>1.84</td>\n",
       "      <td>0.00</td>\n",
       "    </tr>\n",
       "    <tr>\n",
       "      <th>Frank</th>\n",
       "      <td>0.00</td>\n",
       "      <td>2.28</td>\n",
       "      <td>0.00</td>\n",
       "    </tr>\n",
       "    <tr>\n",
       "      <th>Greg</th>\n",
       "      <td>0.20</td>\n",
       "      <td>0.92</td>\n",
       "      <td>0.00</td>\n",
       "    </tr>\n",
       "  </tbody>\n",
       "</table>\n",
       "</div>"
      ],
      "text/plain": [
       "          0     1     2\n",
       "Alice  0.70  0.00  0.21\n",
       "Bob    1.73  0.00  0.61\n",
       "Cindy  1.29  0.00  0.76\n",
       "Dan    1.62  0.00  0.95\n",
       "Emily  0.39  1.84  0.00\n",
       "Frank  0.00  2.28  0.00\n",
       "Greg   0.20  0.92  0.00"
      ]
     },
     "execution_count": 68,
     "metadata": {},
     "output_type": "execute_result"
    }
   ],
   "source": [
    "W # users x latent factor matrix"
   ]
  },
  {
   "cell_type": "code",
   "execution_count": 69,
   "metadata": {},
   "outputs": [
    {
     "data": {
      "text/html": [
       "<div>\n",
       "<style scoped>\n",
       "    .dataframe tbody tr th:only-of-type {\n",
       "        vertical-align: middle;\n",
       "    }\n",
       "\n",
       "    .dataframe tbody tr th {\n",
       "        vertical-align: top;\n",
       "    }\n",
       "\n",
       "    .dataframe thead th {\n",
       "        text-align: right;\n",
       "    }\n",
       "</style>\n",
       "<table border=\"1\" class=\"dataframe\">\n",
       "  <thead>\n",
       "    <tr style=\"text-align: right;\">\n",
       "      <th></th>\n",
       "      <th>Matrix</th>\n",
       "      <th>Alien</th>\n",
       "      <th>StarWars</th>\n",
       "      <th>Casablanca</th>\n",
       "      <th>Titanic</th>\n",
       "    </tr>\n",
       "  </thead>\n",
       "  <tbody>\n",
       "    <tr>\n",
       "      <th>0</th>\n",
       "      <td>0.00</td>\n",
       "      <td>3.02</td>\n",
       "      <td>1.85</td>\n",
       "      <td>0.00</td>\n",
       "      <td>0.00</td>\n",
       "    </tr>\n",
       "    <tr>\n",
       "      <th>1</th>\n",
       "      <td>0.00</td>\n",
       "      <td>0.20</td>\n",
       "      <td>0.00</td>\n",
       "      <td>2.19</td>\n",
       "      <td>2.19</td>\n",
       "    </tr>\n",
       "    <tr>\n",
       "      <th>2</th>\n",
       "      <td>5.21</td>\n",
       "      <td>0.00</td>\n",
       "      <td>2.31</td>\n",
       "      <td>0.00</td>\n",
       "      <td>0.00</td>\n",
       "    </tr>\n",
       "  </tbody>\n",
       "</table>\n",
       "</div>"
      ],
      "text/plain": [
       "   Matrix  Alien  StarWars  Casablanca  Titanic\n",
       "0    0.00   3.02      1.85        0.00     0.00\n",
       "1    0.00   0.20      0.00        2.19     2.19\n",
       "2    5.21   0.00      2.31        0.00     0.00"
      ]
     },
     "execution_count": 69,
     "metadata": {},
     "output_type": "execute_result"
    }
   ],
   "source": [
    "H # latent factors x movies"
   ]
  },
  {
   "cell_type": "markdown",
   "metadata": {},
   "source": [
    "#### Top 2 movies in genre 0"
   ]
  },
  {
   "cell_type": "code",
   "execution_count": 70,
   "metadata": {},
   "outputs": [
    {
     "data": {
      "text/plain": [
       "Index(['Alien', 'StarWars'], dtype='object')"
      ]
     },
     "execution_count": 70,
     "metadata": {},
     "output_type": "execute_result"
    }
   ],
   "source": [
    "top_movies = H.iloc[0].sort_values(ascending=False).index[:2]\n",
    "top_movies"
   ]
  },
  {
   "cell_type": "markdown",
   "metadata": {},
   "source": [
    "#### Top 2 users for genre 1"
   ]
  },
  {
   "cell_type": "code",
   "execution_count": 71,
   "metadata": {},
   "outputs": [
    {
     "data": {
      "text/plain": [
       "Index(['Bob', 'Dan'], dtype='object')"
      ]
     },
     "execution_count": 71,
     "metadata": {},
     "output_type": "execute_result"
    }
   ],
   "source": [
    "top_users = W.iloc[:, 0].sort_values(ascending=False).index[:2]\n",
    "top_users"
   ]
  },
  {
   "cell_type": "markdown",
   "metadata": {},
   "source": [
    "#### What concepts does Emily align with?"
   ]
  },
  {
   "cell_type": "code",
   "execution_count": 72,
   "metadata": {},
   "outputs": [
    {
     "data": {
      "text/plain": [
       "0    0.39\n",
       "1    1.84\n",
       "2    0.00\n",
       "Name: Emily, dtype: float64"
      ]
     },
     "execution_count": 72,
     "metadata": {},
     "output_type": "execute_result"
    }
   ],
   "source": [
    "W.loc['Emily']"
   ]
  },
  {
   "cell_type": "markdown",
   "metadata": {},
   "source": [
    "#### What are all the movies in each concept?"
   ]
  },
  {
   "cell_type": "code",
   "execution_count": 73,
   "metadata": {},
   "outputs": [
    {
     "name": "stdout",
     "output_type": "stream",
     "text": [
      "Concept 0 contains: Alien, StarWars\n",
      "Concept 1 contains: Casablanca, Titanic\n",
      "Concept 2 contains: Matrix, StarWars\n"
     ]
    }
   ],
   "source": [
    "# Number of movies in each concept\n",
    "thresh = .2 # movie is included if at least 20% of max weight\n",
    "for g in range(3): # 3 個 concepts\n",
    "    all_movies = H.iloc[g,:]\n",
    "    included = H.columns[all_movies >= (thresh * all_movies.max())]\n",
    "    print('Concept %i contains: %s' % (g, ', '.join(included)))"
   ]
  },
  {
   "cell_type": "markdown",
   "metadata": {},
   "source": [
    "#### Which users are associated with each concept?"
   ]
  },
  {
   "cell_type": "code",
   "execution_count": 74,
   "metadata": {},
   "outputs": [
    {
     "name": "stdout",
     "output_type": "stream",
     "text": [
      "Concept 0 contains: Alice, Bob, Cindy, Dan, Emily\n",
      "Concept 1 contains: Emily, Frank, Greg\n",
      "Concept 2 contains: Alice, Bob, Cindy, Dan\n"
     ]
    }
   ],
   "source": [
    "# Users in each concept\n",
    "thresh = .2 # movie is included if at least 20% of max weight\n",
    "for g in range(3): # 3 個 concepts\n",
    "    all_users = W.iloc[:, g]\n",
    "    included = W.index[all_users >= (thresh * all_users.max())]\n",
    "    print('Concept %i contains: %s' % (g, ', '.join(included)))"
   ]
  },
  {
   "cell_type": "markdown",
   "metadata": {},
   "source": [
    "***\n",
    "***\n",
    "***"
   ]
  },
  {
   "cell_type": "markdown",
   "metadata": {},
   "source": [
    "## UVD\n",
    "\n",
    "* UVD 是數值近似解\n",
    "  * 公式: \\begin{equation} R_{m \\times n} \\approx U_{m \\times k} V_{k \\times n} \\Rightarrow r_{ij} \\approx u_{i:} \\cdot v_{:j}\\end{equation}\n",
    "  * $k \\ll min(m, n)$\n",
    "  * $U$, $V$ 的元素都是 model 裡面的 weights\n",
    "* loss function 是真實矩陣 $R$ 和恢復矩陣 $UV$ 之間的差別的 least squares\n",
    "  \\begin{equation} argmin \\sum_{i,j}(r_{ij} - u_{i:}\\cdot v_{:j})^2\\end{equation}\n",
    "  * $U$, $V$ 要使得 loss function 最小\n",
    "  * 只觀測沒有 missing values 的那些 (就是有 rating 的)\n",
    "  * 其實 loss function 就是 RMSE\n",
    "    \\begin{equation} RMSE = \\sqrt{\\sum_{u,i} (r_{u,i} - p_{u,i})^2}\\end{equation}\n",
    "    * $R$: 真實值，$r_{u,i}$ 是 user ($u$) 在 item ($i$) 真正的 rating\n",
    "    * $P$: 預測值，$p_{u,i}$ 是 user ($u$) 在 item ($i$) 預測的 rating\n",
    "* Gradient descent:\n",
    "  * 一次只 update 一個，update 相應位置的 row 和 column，所以計算速度快\n",
    "    \\begin{equation}e_{x,i}^2 = (r_{x,i} - p_{x,i})^2 = (r_{x,i} - \\sum U_{x,k}V_{k,i})^2\\end{equation}\n",
    "    \\begin{equation}\\frac{\\partial e_{x,i}^2}{\\partial U_{x,f}} = 2 e_{x,i} \\cdot V_{f,i}\\end{equation}\n",
    "    \\begin{equation}\\frac{\\partial e_{x,i}^2}{\\partial V_{f,i}} = 2 e_{x,i} \\cdot U_{x,f}\\end{equation}\n",
    "  * 公式:\n",
    "    \\begin{equation}U_{x,f}\\ -= \\alpha \\cdot e_{x,i} \\cdot V_{f,i}\\end{equation}\n",
    "    \\begin{equation}V_{x,f}\\ -= \\alpha \\cdot e_{x,i} \\cdot U_{x,f}\\end{equation}\n",
    "    $\\alpha$ 是 learning rate\n",
    "* 通常 weight 很多，要加入 regularization 來克服 overfitting\n",
    "  * 一般來說用 L2 regularization\n",
    "    \\begin{equation} argmin \\sum_{i,j}(r_{ij} - u_{i:}\\cdot v_{:j})^2 + \\lambda(||u_{i:}||^2 + ||v_{:j}||^2)\\end{equation}\n",
    "* Bias 是 intercept\n",
    "  * total bias = populatin bias + user bias + item bias\n",
    "    \\begin{equation}b_{ij} = \\mu + b^{*}_{i} + b'_{j}\\end{equation}\n",
    "  * bias 項也可以放到 loss function 和 regularization 裡面\n",
    "    \\begin{equation}r{ij} \\approx b_{ij} + u_{i:} \\cdot v_{:j}\\end{equation}\n",
    "    \\begin{equation} argmin \\sum_{i,j}(r_{ij} - b_{ij} - u_{i:}\\cdot v_{:j})^2\\end{equation}    \n",
    "    \\begin{equation} argmin \\sum_{i,j}(r_{ij} - b_{ij} - u_{i:}\\cdot v_{:j})^2 + \\lambda_{1}(||u_{i:}||^2 + ||v_{:j}||^2) + \\lambda_{2} [(b^{*}_{i})^2 + (b'_{j})^2] \\end{equation}\n",
    "* 求 UVD 和 NMF 的解用\n",
    "  * ALS: Alternating least squares\n",
    "    * 平行計算\n",
    "    * 原本不能處理 missing value，後來可以\n",
    "  * SGD: stochastic gradient descent\n",
    "    * 單一機器，計算速度快\n",
    "    * 可以處理 missing value\n",
    "    * 通常用 SGD\n",
    "* Recommender system 一定要能處理 missing values"
   ]
  },
  {
   "cell_type": "markdown",
   "metadata": {},
   "source": [
    "### Load data"
   ]
  },
  {
   "cell_type": "code",
   "execution_count": 75,
   "metadata": {},
   "outputs": [],
   "source": [
    "import numpy as np\n",
    "import pandas as pd\n",
    "\n",
    "from scipy import sparse\n",
    "from sklearn.metrics.pairwise import cosine_similarity\n",
    "from time import time"
   ]
  },
  {
   "cell_type": "code",
   "execution_count": 76,
   "metadata": {},
   "outputs": [
    {
     "data": {
      "text/html": [
       "<div>\n",
       "<style scoped>\n",
       "    .dataframe tbody tr th:only-of-type {\n",
       "        vertical-align: middle;\n",
       "    }\n",
       "\n",
       "    .dataframe tbody tr th {\n",
       "        vertical-align: top;\n",
       "    }\n",
       "\n",
       "    .dataframe thead th {\n",
       "        text-align: right;\n",
       "    }\n",
       "</style>\n",
       "<table border=\"1\" class=\"dataframe\">\n",
       "  <thead>\n",
       "    <tr style=\"text-align: right;\">\n",
       "      <th></th>\n",
       "      <th>user</th>\n",
       "      <th>movie</th>\n",
       "      <th>rating</th>\n",
       "      <th>timestamp</th>\n",
       "    </tr>\n",
       "  </thead>\n",
       "  <tbody>\n",
       "    <tr>\n",
       "      <th>0</th>\n",
       "      <td>196</td>\n",
       "      <td>242</td>\n",
       "      <td>3</td>\n",
       "      <td>881250949</td>\n",
       "    </tr>\n",
       "    <tr>\n",
       "      <th>1</th>\n",
       "      <td>186</td>\n",
       "      <td>302</td>\n",
       "      <td>3</td>\n",
       "      <td>891717742</td>\n",
       "    </tr>\n",
       "    <tr>\n",
       "      <th>2</th>\n",
       "      <td>22</td>\n",
       "      <td>377</td>\n",
       "      <td>1</td>\n",
       "      <td>878887116</td>\n",
       "    </tr>\n",
       "    <tr>\n",
       "      <th>3</th>\n",
       "      <td>244</td>\n",
       "      <td>51</td>\n",
       "      <td>2</td>\n",
       "      <td>880606923</td>\n",
       "    </tr>\n",
       "    <tr>\n",
       "      <th>4</th>\n",
       "      <td>166</td>\n",
       "      <td>346</td>\n",
       "      <td>1</td>\n",
       "      <td>886397596</td>\n",
       "    </tr>\n",
       "  </tbody>\n",
       "</table>\n",
       "</div>"
      ],
      "text/plain": [
       "   user  movie  rating  timestamp\n",
       "0   196    242       3  881250949\n",
       "1   186    302       3  891717742\n",
       "2    22    377       1  878887116\n",
       "3   244     51       2  880606923\n",
       "4   166    346       1  886397596"
      ]
     },
     "execution_count": 76,
     "metadata": {},
     "output_type": "execute_result"
    }
   ],
   "source": [
    "df_ratings_contents = pd.read_table('u.data', names=['user', 'movie', 'rating', 'timestamp'])\n",
    "df_ratings_contents.head()"
   ]
  },
  {
   "cell_type": "code",
   "execution_count": 77,
   "metadata": {},
   "outputs": [
    {
     "name": "stdout",
     "output_type": "stream",
     "text": [
      "<class 'pandas.core.frame.DataFrame'>\n",
      "RangeIndex: 100000 entries, 0 to 99999\n",
      "Data columns (total 4 columns):\n",
      "user         100000 non-null int64\n",
      "movie        100000 non-null int64\n",
      "rating       100000 non-null int64\n",
      "timestamp    100000 non-null int64\n",
      "dtypes: int64(4)\n",
      "memory usage: 3.1 MB\n"
     ]
    }
   ],
   "source": [
    "df_ratings_contents.info()"
   ]
  },
  {
   "cell_type": "code",
   "execution_count": 78,
   "metadata": {},
   "outputs": [
    {
     "data": {
      "text/html": [
       "<div>\n",
       "<style scoped>\n",
       "    .dataframe tbody tr th:only-of-type {\n",
       "        vertical-align: middle;\n",
       "    }\n",
       "\n",
       "    .dataframe tbody tr th {\n",
       "        vertical-align: top;\n",
       "    }\n",
       "\n",
       "    .dataframe thead th {\n",
       "        text-align: right;\n",
       "    }\n",
       "</style>\n",
       "<table border=\"1\" class=\"dataframe\">\n",
       "  <thead>\n",
       "    <tr style=\"text-align: right;\">\n",
       "      <th>movie</th>\n",
       "      <th>1</th>\n",
       "      <th>2</th>\n",
       "      <th>3</th>\n",
       "      <th>4</th>\n",
       "      <th>5</th>\n",
       "      <th>6</th>\n",
       "      <th>7</th>\n",
       "      <th>8</th>\n",
       "      <th>9</th>\n",
       "      <th>10</th>\n",
       "      <th>...</th>\n",
       "      <th>1673</th>\n",
       "      <th>1674</th>\n",
       "      <th>1675</th>\n",
       "      <th>1676</th>\n",
       "      <th>1677</th>\n",
       "      <th>1678</th>\n",
       "      <th>1679</th>\n",
       "      <th>1680</th>\n",
       "      <th>1681</th>\n",
       "      <th>1682</th>\n",
       "    </tr>\n",
       "    <tr>\n",
       "      <th>user</th>\n",
       "      <th></th>\n",
       "      <th></th>\n",
       "      <th></th>\n",
       "      <th></th>\n",
       "      <th></th>\n",
       "      <th></th>\n",
       "      <th></th>\n",
       "      <th></th>\n",
       "      <th></th>\n",
       "      <th></th>\n",
       "      <th></th>\n",
       "      <th></th>\n",
       "      <th></th>\n",
       "      <th></th>\n",
       "      <th></th>\n",
       "      <th></th>\n",
       "      <th></th>\n",
       "      <th></th>\n",
       "      <th></th>\n",
       "      <th></th>\n",
       "      <th></th>\n",
       "    </tr>\n",
       "  </thead>\n",
       "  <tbody>\n",
       "    <tr>\n",
       "      <th>1</th>\n",
       "      <td>5</td>\n",
       "      <td>3</td>\n",
       "      <td>4</td>\n",
       "      <td>3</td>\n",
       "      <td>3</td>\n",
       "      <td>5</td>\n",
       "      <td>4</td>\n",
       "      <td>1</td>\n",
       "      <td>5</td>\n",
       "      <td>3</td>\n",
       "      <td>...</td>\n",
       "      <td>0</td>\n",
       "      <td>0</td>\n",
       "      <td>0</td>\n",
       "      <td>0</td>\n",
       "      <td>0</td>\n",
       "      <td>0</td>\n",
       "      <td>0</td>\n",
       "      <td>0</td>\n",
       "      <td>0</td>\n",
       "      <td>0</td>\n",
       "    </tr>\n",
       "    <tr>\n",
       "      <th>2</th>\n",
       "      <td>4</td>\n",
       "      <td>0</td>\n",
       "      <td>0</td>\n",
       "      <td>0</td>\n",
       "      <td>0</td>\n",
       "      <td>0</td>\n",
       "      <td>0</td>\n",
       "      <td>0</td>\n",
       "      <td>0</td>\n",
       "      <td>2</td>\n",
       "      <td>...</td>\n",
       "      <td>0</td>\n",
       "      <td>0</td>\n",
       "      <td>0</td>\n",
       "      <td>0</td>\n",
       "      <td>0</td>\n",
       "      <td>0</td>\n",
       "      <td>0</td>\n",
       "      <td>0</td>\n",
       "      <td>0</td>\n",
       "      <td>0</td>\n",
       "    </tr>\n",
       "    <tr>\n",
       "      <th>3</th>\n",
       "      <td>0</td>\n",
       "      <td>0</td>\n",
       "      <td>0</td>\n",
       "      <td>0</td>\n",
       "      <td>0</td>\n",
       "      <td>0</td>\n",
       "      <td>0</td>\n",
       "      <td>0</td>\n",
       "      <td>0</td>\n",
       "      <td>0</td>\n",
       "      <td>...</td>\n",
       "      <td>0</td>\n",
       "      <td>0</td>\n",
       "      <td>0</td>\n",
       "      <td>0</td>\n",
       "      <td>0</td>\n",
       "      <td>0</td>\n",
       "      <td>0</td>\n",
       "      <td>0</td>\n",
       "      <td>0</td>\n",
       "      <td>0</td>\n",
       "    </tr>\n",
       "    <tr>\n",
       "      <th>4</th>\n",
       "      <td>0</td>\n",
       "      <td>0</td>\n",
       "      <td>0</td>\n",
       "      <td>0</td>\n",
       "      <td>0</td>\n",
       "      <td>0</td>\n",
       "      <td>0</td>\n",
       "      <td>0</td>\n",
       "      <td>0</td>\n",
       "      <td>0</td>\n",
       "      <td>...</td>\n",
       "      <td>0</td>\n",
       "      <td>0</td>\n",
       "      <td>0</td>\n",
       "      <td>0</td>\n",
       "      <td>0</td>\n",
       "      <td>0</td>\n",
       "      <td>0</td>\n",
       "      <td>0</td>\n",
       "      <td>0</td>\n",
       "      <td>0</td>\n",
       "    </tr>\n",
       "    <tr>\n",
       "      <th>5</th>\n",
       "      <td>4</td>\n",
       "      <td>3</td>\n",
       "      <td>0</td>\n",
       "      <td>0</td>\n",
       "      <td>0</td>\n",
       "      <td>0</td>\n",
       "      <td>0</td>\n",
       "      <td>0</td>\n",
       "      <td>0</td>\n",
       "      <td>0</td>\n",
       "      <td>...</td>\n",
       "      <td>0</td>\n",
       "      <td>0</td>\n",
       "      <td>0</td>\n",
       "      <td>0</td>\n",
       "      <td>0</td>\n",
       "      <td>0</td>\n",
       "      <td>0</td>\n",
       "      <td>0</td>\n",
       "      <td>0</td>\n",
       "      <td>0</td>\n",
       "    </tr>\n",
       "  </tbody>\n",
       "</table>\n",
       "<p>5 rows × 1682 columns</p>\n",
       "</div>"
      ],
      "text/plain": [
       "movie  1     2     3     4     5     6     7     8     9     10    ...   1673  \\\n",
       "user                                                               ...          \n",
       "1         5     3     4     3     3     5     4     1     5     3  ...      0   \n",
       "2         4     0     0     0     0     0     0     0     0     2  ...      0   \n",
       "3         0     0     0     0     0     0     0     0     0     0  ...      0   \n",
       "4         0     0     0     0     0     0     0     0     0     0  ...      0   \n",
       "5         4     3     0     0     0     0     0     0     0     0  ...      0   \n",
       "\n",
       "movie  1674  1675  1676  1677  1678  1679  1680  1681  1682  \n",
       "user                                                         \n",
       "1         0     0     0     0     0     0     0     0     0  \n",
       "2         0     0     0     0     0     0     0     0     0  \n",
       "3         0     0     0     0     0     0     0     0     0  \n",
       "4         0     0     0     0     0     0     0     0     0  \n",
       "5         0     0     0     0     0     0     0     0     0  \n",
       "\n",
       "[5 rows x 1682 columns]"
      ]
     },
     "execution_count": 78,
     "metadata": {},
     "output_type": "execute_result"
    }
   ],
   "source": [
    "df_utility = pd.pivot_table(data=df_ratings_contents,\n",
    "                            values='rating',\n",
    "                            index='user',\n",
    "                            columns='movie',\n",
    "                            fill_value=0)\n",
    "df_utility.head()"
   ]
  },
  {
   "cell_type": "code",
   "execution_count": 79,
   "metadata": {},
   "outputs": [
    {
     "name": "stdout",
     "output_type": "stream",
     "text": [
      "<class 'pandas.core.frame.DataFrame'>\n",
      "Int64Index: 943 entries, 1 to 943\n",
      "Columns: 1682 entries, 1 to 1682\n",
      "dtypes: int64(1682)\n",
      "memory usage: 12.1 MB\n"
     ]
    }
   ],
   "source": [
    "df_utility.info()"
   ]
  },
  {
   "cell_type": "code",
   "execution_count": 80,
   "metadata": {},
   "outputs": [],
   "source": [
    "highest_user_id = df_ratings_contents.user.max()\n",
    "highest_movie_id = df_ratings_contents.movie.max()"
   ]
  },
  {
   "cell_type": "code",
   "execution_count": 81,
   "metadata": {},
   "outputs": [],
   "source": [
    "ratings_mat = sparse.lil_matrix((highest_user_id, highest_movie_id))"
   ]
  },
  {
   "cell_type": "code",
   "execution_count": 82,
   "metadata": {},
   "outputs": [],
   "source": [
    "for _, row in df_ratings_contents.iterrows():\n",
    "    ratings_mat[row.user-1, row.movie-1] = row.rating"
   ]
  },
  {
   "cell_type": "code",
   "execution_count": 83,
   "metadata": {},
   "outputs": [
    {
     "data": {
      "text/plain": [
       "<943x1682 sparse matrix of type '<class 'numpy.float64'>'\n",
       "\twith 100000 stored elements in LInked List format>"
      ]
     },
     "execution_count": 83,
     "metadata": {},
     "output_type": "execute_result"
    }
   ],
   "source": [
    "ratings_mat"
   ]
  },
  {
   "cell_type": "markdown",
   "metadata": {},
   "source": [
    "### NMF\n",
    "\n",
    "定義函數來做 NMF"
   ]
  },
  {
   "cell_type": "code",
   "execution_count": 84,
   "metadata": {},
   "outputs": [],
   "source": [
    "from sklearn.decomposition import NMF\n",
    "\n",
    "def fit_nmf(M, k): # M 就是公式裡面的 V\n",
    "    nmf = NMF(n_components=k)\n",
    "    nmf.fit(M)\n",
    "    W = nmf.transform(M)\n",
    "    H = nmf.components_\n",
    "    err = nmf.reconstruction_err_\n",
    "    return W, H, err"
   ]
  },
  {
   "cell_type": "markdown",
   "metadata": {},
   "source": [
    "#### decompose"
   ]
  },
  {
   "cell_type": "code",
   "execution_count": 85,
   "metadata": {},
   "outputs": [],
   "source": [
    "W, H, err = fit_nmf(ratings_mat, 200)"
   ]
  },
  {
   "cell_type": "code",
   "execution_count": 86,
   "metadata": {},
   "outputs": [
    {
     "name": "stdout",
     "output_type": "stream",
     "text": [
      "(943, 200)\n"
     ]
    },
    {
     "data": {
      "text/plain": [
       "array([[0.        , 0.        , 0.        , ..., 0.        , 0.19018228,\n",
       "        0.08722629],\n",
       "       [0.        , 0.04301125, 0.57509352, ..., 0.22315134, 0.13082276,\n",
       "        0.        ],\n",
       "       [0.26664133, 0.        , 0.89480281, ..., 0.        , 0.11300444,\n",
       "        0.        ],\n",
       "       ...,\n",
       "       [0.        , 0.        , 0.        , ..., 0.        , 0.13419628,\n",
       "        0.        ],\n",
       "       [0.34013817, 0.01395016, 0.        , ..., 0.20647204, 0.13462109,\n",
       "        0.        ],\n",
       "       [0.19867538, 0.08023821, 0.        , ..., 0.        , 0.2060187 ,\n",
       "        0.        ]])"
      ]
     },
     "execution_count": 86,
     "metadata": {},
     "output_type": "execute_result"
    }
   ],
   "source": [
    "print(W.shape)\n",
    "W"
   ]
  },
  {
   "cell_type": "code",
   "execution_count": 87,
   "metadata": {},
   "outputs": [
    {
     "name": "stdout",
     "output_type": "stream",
     "text": [
      "(200, 1682)\n"
     ]
    },
    {
     "data": {
      "text/plain": [
       "array([[0.        , 0.        , 0.        , ..., 0.        , 0.        ,\n",
       "        0.        ],\n",
       "       [0.        , 0.        , 0.        , ..., 0.        , 0.        ,\n",
       "        0.        ],\n",
       "       [0.        , 0.        , 0.        , ..., 0.02042041, 0.        ,\n",
       "        0.        ],\n",
       "       ...,\n",
       "       [0.        , 0.        , 0.        , ..., 0.0311293 , 0.        ,\n",
       "        0.        ],\n",
       "       [0.        , 0.        , 0.        , ..., 0.        , 0.        ,\n",
       "        0.        ],\n",
       "       [0.        , 0.        , 0.        , ..., 0.        , 0.        ,\n",
       "        0.        ]])"
      ]
     },
     "execution_count": 87,
     "metadata": {},
     "output_type": "execute_result"
    }
   ],
   "source": [
    "print(H.shape)\n",
    "H"
   ]
  },
  {
   "cell_type": "code",
   "execution_count": 88,
   "metadata": {},
   "outputs": [
    {
     "name": "stdout",
     "output_type": "stream",
     "text": [
      "()\n"
     ]
    },
    {
     "data": {
      "text/plain": [
       "602.9175273298551"
      ]
     },
     "execution_count": 88,
     "metadata": {},
     "output_type": "execute_result"
    }
   ],
   "source": [
    "print(err.shape)\n",
    "err"
   ]
  },
  {
   "cell_type": "markdown",
   "metadata": {},
   "source": [
    "#### reconstruct\n",
    "\n",
    "求出了 $W$ 和 $H$ 之後，可以重建 $V$"
   ]
  },
  {
   "cell_type": "code",
   "execution_count": 89,
   "metadata": {},
   "outputs": [
    {
     "data": {
      "text/plain": [
       "array([[4.99722321e+00, 3.04177923e+00, 3.85646376e+00, ...,\n",
       "        0.00000000e+00, 0.00000000e+00, 2.95604714e-02],\n",
       "       [4.08264065e+00, 1.02805940e-02, 9.05893711e-02, ...,\n",
       "        1.86901895e-02, 1.32218324e-07, 3.66952446e-03],\n",
       "       [2.12109083e-02, 2.27384351e-02, 0.00000000e+00, ...,\n",
       "        4.80699063e-02, 0.00000000e+00, 0.00000000e+00],\n",
       "       ...,\n",
       "       [4.87597419e+00, 3.10899714e-02, 5.28825945e-02, ...,\n",
       "        1.85998253e-04, 0.00000000e+00, 0.00000000e+00],\n",
       "       [9.03455357e-02, 4.75741671e-01, 0.00000000e+00, ...,\n",
       "        6.42733105e-03, 2.47982633e-07, 2.99376556e-03],\n",
       "       [5.55466676e-02, 2.84537326e+00, 1.76614404e+00, ...,\n",
       "        0.00000000e+00, 0.00000000e+00, 1.28396168e-01]])"
      ]
     },
     "execution_count": 89,
     "metadata": {},
     "output_type": "execute_result"
    }
   ],
   "source": [
    "ratings_mat_fitted = W.dot(H)\n",
    "ratings_mat_fitted"
   ]
  },
  {
   "cell_type": "code",
   "execution_count": 90,
   "metadata": {},
   "outputs": [],
   "source": [
    "errs = np.array((ratings_mat - ratings_mat_fitted).flatten()).squeeze()\n",
    "mask = np.array((ratings_mat.todense()).flatten()).squeeze() > 0"
   ]
  },
  {
   "cell_type": "code",
   "execution_count": 91,
   "metadata": {},
   "outputs": [
    {
     "name": "stdout",
     "output_type": "stream",
     "text": [
      "2.5402018582435115\n",
      "1.0865343097665563\n"
     ]
    }
   ],
   "source": [
    "mse = np.mean(errs[mask]**2)\n",
    "average_abs_err = abs(errs[mask]).mean()\n",
    "print(mse)\n",
    "print(average_abs_err)"
   ]
  },
  {
   "cell_type": "markdown",
   "metadata": {},
   "source": [
    "get recommendations for one user"
   ]
  },
  {
   "cell_type": "code",
   "execution_count": 92,
   "metadata": {},
   "outputs": [
    {
     "data": {
      "text/plain": [
       "[475, 273, 684, 590, 290, 234, 863, 147, 125, 454]"
      ]
     },
     "execution_count": 92,
     "metadata": {},
     "output_type": "execute_result"
    }
   ],
   "source": [
    "user_id = 100\n",
    "n = 10\n",
    "\n",
    "pred_ratings = ratings_mat_fitted[user_id, :]\n",
    "item_index_sorted_by_pred_rating = list(np.argsort(pred_ratings))[::-1]\n",
    "\n",
    "items_rated_by_this_user = ratings_mat[user_id].nonzero()[1]\n",
    "\n",
    "unrated_items_by_pred_rating = [item for item in item_index_sorted_by_pred_rating if item not in items_rated_by_this_user]\n",
    "unrated_items_by_pred_rating[:n]"
   ]
  },
  {
   "cell_type": "markdown",
   "metadata": {},
   "source": [
    "#### check errors\n",
    "\n",
    "truth"
   ]
  },
  {
   "cell_type": "code",
   "execution_count": 93,
   "metadata": {},
   "outputs": [],
   "source": [
    "ratings_true = ratings_mat[user_id, items_rated_by_this_user].todense()"
   ]
  },
  {
   "cell_type": "markdown",
   "metadata": {},
   "source": [
    "prediction"
   ]
  },
  {
   "cell_type": "code",
   "execution_count": 94,
   "metadata": {},
   "outputs": [
    {
     "name": "stdout",
     "output_type": "stream",
     "text": [
      "[(3.0, 2.9697826360194974), (3.0, 2.9055149324796092), (4.0, 1.6024541111949597), (4.0, 4.143181181434142), (2.0, 1.2441311189608113), (2.0, 3.366244412987652), (4.0, 4.160472277911375), (3.0, 3.372998967112563), (4.0, 4.422605694984924), (1.0, 0.5266661329538885), (2.0, 1.1898177632188307), (4.0, 2.6172093624823316), (4.0, 3.869569127376433), (3.0, 2.704079787799628), (4.0, 3.8439150618229894), (3.0, 2.8282547106943605), (3.0, 1.1473345369196983), (5.0, 4.580523683685838), (3.0, 1.4921640568832535), (4.0, 2.5780070067087077), (4.0, 4.133510957221417), (2.0, 1.0277561737178114), (3.0, 1.4198414617868376), (2.0, 1.4105648796959793), (3.0, 3.102991877472554), (4.0, 1.864190834690939), (4.0, 3.95063455612818), (3.0, 0.2907393558961638), (2.0, 0.6678015364250083), (2.0, 0.5507096258262099), (4.0, 3.652967958962136), (2.0, 2.019281762196318), (2.0, 0.5559709018287156), (3.0, 3.220459115281283), (3.0, 1.7420968931474494), (4.0, 3.00985505568074), (2.0, 1.0192882076813363), (3.0, 0.9052756152887079), (3.0, 2.746825725142115), (3.0, 1.3353116557721383), (4.0, 2.9576381968545005), (3.0, 2.0274028096626235), (3.0, 1.6734531889741988), (3.0, 1.7468844441379092), (1.0, 0.6937538907870799), (3.0, 0.9221494806828712), (3.0, 0.6285012957959344), (3.0, 0.4492743870543884), (3.0, 0.8456742717354762), (3.0, 0.5713926253479118), (2.0, 0.6405570369472925), (3.0, 2.1612801424447206), (3.0, 0.5872646003196144), (4.0, 2.394168678634967), (4.0, 0.6050439589967879), (3.0, 1.4530355483114448), (2.0, 1.2434088211369885), (2.0, 0.7643230754973758), (2.0, 0.45118384257694905), (2.0, 0.3823074470565694), (3.0, 1.9482196927170328), (2.0, 0.35860295576286244), (2.0, 1.466798253219758), (2.0, 0.8680100508976611), (2.0, 0.04437286418382278), (1.0, 0.11284663090012151), (3.0, 0.3749262101487091)]\n"
     ]
    }
   ],
   "source": [
    "ratings_pred = pred_ratings[items_rated_by_this_user]\n",
    "print(list(zip(np.array(ratings_true).squeeze(), ratings_pred)))"
   ]
  },
  {
   "cell_type": "code",
   "execution_count": 95,
   "metadata": {},
   "outputs": [
    {
     "name": "stdout",
     "output_type": "stream",
     "text": [
      "[[ 0.03021736  0.09448507  2.39754589 -0.14318118  0.75586888 -1.36624441\n",
      "  -0.16047228 -0.37299897 -0.42260569  0.47333387  0.81018224  1.38279064\n",
      "   0.13043087  0.29592021  0.15608494  0.17174529  1.85266546  0.41947632\n",
      "   1.50783594  1.42199299 -0.13351096  0.97224383  1.58015854  0.58943512\n",
      "  -0.10299188  2.13580917  0.04936544  2.70926064  1.33219846  1.44929037\n",
      "   0.34703204 -0.01928176  1.4440291  -0.22045912  1.25790311  0.99014494\n",
      "   0.98071179  2.09472438  0.25317427  1.66468834  1.0423618   0.97259719\n",
      "   1.32654681  1.25311556  0.30624611  2.07785052  2.3714987   2.55072561\n",
      "   2.15432573  2.42860737  1.35944296  0.83871986  2.4127354   1.60583132\n",
      "   3.39495604  1.54696445  0.75659118  1.23567692  1.54881616  1.61769255\n",
      "   1.05178031  1.64139704  0.53320175  1.13198995  1.95562714  0.88715337\n",
      "   2.62507379]]\n",
      "1.1540301101335124\n"
     ]
    }
   ],
   "source": [
    "err_one_user = ratings_true - ratings_pred\n",
    "print(err_one_user)\n",
    "print(abs(err_one_user).mean())"
   ]
  },
  {
   "cell_type": "markdown",
   "metadata": {},
   "source": [
    "### UVD / SVD\n",
    "\n",
    "* UVD 就是 truncated SVD"
   ]
  },
  {
   "cell_type": "code",
   "execution_count": 96,
   "metadata": {},
   "outputs": [],
   "source": [
    "from sklearn.decomposition import TruncatedSVD\n",
    "\n",
    "def fit_uvd(M, k):\n",
    "    # use TruncatedSVD to realize UVD\n",
    "    svd = TruncatedSVD(n_components=k, n_iter=7, random_state=0)\n",
    "    svd.fit(M)\n",
    "    \n",
    "    V = svd.components_\n",
    "    U = svd.transform(M) # 相當於 U = M.dot(V.T)\n",
    "    \n",
    "    return U, V, svd"
   ]
  },
  {
   "cell_type": "markdown",
   "metadata": {},
   "source": [
    "#### decompose"
   ]
  },
  {
   "cell_type": "code",
   "execution_count": 97,
   "metadata": {},
   "outputs": [],
   "source": [
    "U, V, svd = fit_uvd(ratings_mat, 200)"
   ]
  },
  {
   "cell_type": "code",
   "execution_count": 98,
   "metadata": {},
   "outputs": [
    {
     "name": "stdout",
     "output_type": "stream",
     "text": [
      "(943, 200) (200, 1682)\n"
     ]
    }
   ],
   "source": [
    "print(U.shape, V.shape)"
   ]
  },
  {
   "cell_type": "markdown",
   "metadata": {},
   "source": [
    "#### reconstruct"
   ]
  },
  {
   "cell_type": "code",
   "execution_count": 99,
   "metadata": {},
   "outputs": [],
   "source": [
    "ratings_mat_fitted = U.dot(V)"
   ]
  },
  {
   "cell_type": "markdown",
   "metadata": {},
   "source": [
    "#### calculate errors"
   ]
  },
  {
   "cell_type": "code",
   "execution_count": 100,
   "metadata": {},
   "outputs": [
    {
     "name": "stdout",
     "output_type": "stream",
     "text": [
      "1.035525472340896\n",
      "0.7549828200027933\n"
     ]
    }
   ],
   "source": [
    "errs = np.array((ratings_mat - ratings_mat_fitted).flatten()).squeeze()\n",
    "mask = np.array((ratings_mat.todense()).flatten()).squeeze() > 0\n",
    "\n",
    "mse = np.mean(errs[mask]**2)\n",
    "average_abs_err = abs(errs[mask]).mean()\n",
    "print(mse)\n",
    "print(average_abs_err)"
   ]
  },
  {
   "cell_type": "markdown",
   "metadata": {},
   "source": [
    "reconstruct $M$ with inverse_transform"
   ]
  },
  {
   "cell_type": "code",
   "execution_count": 101,
   "metadata": {},
   "outputs": [
    {
     "name": "stdout",
     "output_type": "stream",
     "text": [
      "0.0\n"
     ]
    }
   ],
   "source": [
    "ratings_mat_fitted_2 = svd.inverse_transform(svd.transform(ratings_mat))\n",
    "ratings_mat_fitted = U.dot(V)\n",
    "print(sum(sum(ratings_mat_fitted - ratings_mat_fitted_2)))"
   ]
  },
  {
   "cell_type": "markdown",
   "metadata": {},
   "source": [
    "get the recommendations for one user"
   ]
  },
  {
   "cell_type": "code",
   "execution_count": 102,
   "metadata": {},
   "outputs": [
    {
     "data": {
      "text/plain": [
       "[475, 684, 409, 863, 454, 147, 24, 273, 239, 933]"
      ]
     },
     "execution_count": 102,
     "metadata": {},
     "output_type": "execute_result"
    }
   ],
   "source": [
    "user_id = 100\n",
    "n = 10\n",
    "\n",
    "pred_ratings = ratings_mat_fitted[user_id, :]\n",
    "item_index_sorted_by_pred_rating = list(np.argsort(pred_ratings))[::-1]\n",
    "\n",
    "items_rated_by_this_user = ratings_mat[user_id].nonzero()[1]\n",
    "\n",
    "unrated_items_by_pred_rating = [item for item in item_index_sorted_by_pred_rating if item not in items_rated_by_this_user]\n",
    "unrated_items_by_pred_rating[:n]"
   ]
  },
  {
   "cell_type": "markdown",
   "metadata": {},
   "source": [
    "#### check errors\n",
    "\n",
    "truth"
   ]
  },
  {
   "cell_type": "code",
   "execution_count": 103,
   "metadata": {},
   "outputs": [],
   "source": [
    "ratings_true = ratings_mat[user_id, items_rated_by_this_user].todense()"
   ]
  },
  {
   "cell_type": "markdown",
   "metadata": {},
   "source": [
    "prediction"
   ]
  },
  {
   "cell_type": "code",
   "execution_count": 104,
   "metadata": {},
   "outputs": [
    {
     "name": "stdout",
     "output_type": "stream",
     "text": [
      "[(3.0, 2.9697826360194974), (3.0, 2.9055149324796092), (4.0, 1.6024541111949597), (4.0, 4.143181181434142), (2.0, 1.2441311189608113), (2.0, 3.366244412987652), (4.0, 4.160472277911375), (3.0, 3.372998967112563), (4.0, 4.422605694984924), (1.0, 0.5266661329538885), (2.0, 1.1898177632188307), (4.0, 2.6172093624823316), (4.0, 3.869569127376433), (3.0, 2.704079787799628), (4.0, 3.8439150618229894), (3.0, 2.8282547106943605), (3.0, 1.1473345369196983), (5.0, 4.580523683685838), (3.0, 1.4921640568832535), (4.0, 2.5780070067087077), (4.0, 4.133510957221417), (2.0, 1.0277561737178114), (3.0, 1.4198414617868376), (2.0, 1.4105648796959793), (3.0, 3.102991877472554), (4.0, 1.864190834690939), (4.0, 3.95063455612818), (3.0, 0.2907393558961638), (2.0, 0.6678015364250083), (2.0, 0.5507096258262099), (4.0, 3.652967958962136), (2.0, 2.019281762196318), (2.0, 0.5559709018287156), (3.0, 3.220459115281283), (3.0, 1.7420968931474494), (4.0, 3.00985505568074), (2.0, 1.0192882076813363), (3.0, 0.9052756152887079), (3.0, 2.746825725142115), (3.0, 1.3353116557721383), (4.0, 2.9576381968545005), (3.0, 2.0274028096626235), (3.0, 1.6734531889741988), (3.0, 1.7468844441379092), (1.0, 0.6937538907870799), (3.0, 0.9221494806828712), (3.0, 0.6285012957959344), (3.0, 0.4492743870543884), (3.0, 0.8456742717354762), (3.0, 0.5713926253479118), (2.0, 0.6405570369472925), (3.0, 2.1612801424447206), (3.0, 0.5872646003196144), (4.0, 2.394168678634967), (4.0, 0.6050439589967879), (3.0, 1.4530355483114448), (2.0, 1.2434088211369885), (2.0, 0.7643230754973758), (2.0, 0.45118384257694905), (2.0, 0.3823074470565694), (3.0, 1.9482196927170328), (2.0, 0.35860295576286244), (2.0, 1.466798253219758), (2.0, 0.8680100508976611), (2.0, 0.04437286418382278), (1.0, 0.11284663090012151), (3.0, 0.3749262101487091)]\n",
      "[[ 0.03021736  0.09448507  2.39754589 -0.14318118  0.75586888 -1.36624441\n",
      "  -0.16047228 -0.37299897 -0.42260569  0.47333387  0.81018224  1.38279064\n",
      "   0.13043087  0.29592021  0.15608494  0.17174529  1.85266546  0.41947632\n",
      "   1.50783594  1.42199299 -0.13351096  0.97224383  1.58015854  0.58943512\n",
      "  -0.10299188  2.13580917  0.04936544  2.70926064  1.33219846  1.44929037\n",
      "   0.34703204 -0.01928176  1.4440291  -0.22045912  1.25790311  0.99014494\n",
      "   0.98071179  2.09472438  0.25317427  1.66468834  1.0423618   0.97259719\n",
      "   1.32654681  1.25311556  0.30624611  2.07785052  2.3714987   2.55072561\n",
      "   2.15432573  2.42860737  1.35944296  0.83871986  2.4127354   1.60583132\n",
      "   3.39495604  1.54696445  0.75659118  1.23567692  1.54881616  1.61769255\n",
      "   1.05178031  1.64139704  0.53320175  1.13198995  1.95562714  0.88715337\n",
      "   2.62507379]]\n",
      "1.1540301101335124\n"
     ]
    }
   ],
   "source": [
    "rarings_pred = pred_ratings[items_rated_by_this_user]\n",
    "print(list(zip(np.array(ratings_true).squeeze(), ratings_pred)))\n",
    "err_one_user = ratings_true - ratings_pred\n",
    "print(err_one_user)\n",
    "print(abs(err_one_user).mean())"
   ]
  },
  {
   "cell_type": "markdown",
   "metadata": {},
   "source": [
    "***\n",
    "***\n",
    "***"
   ]
  },
  {
   "cell_type": "markdown",
   "metadata": {},
   "source": [
    "# 比較\n",
    "\n",
    "|比較|PCA|SVD|NMF|UVD|\n",
    "|:---:|:---:|:---:|:---:|:---:|\n",
    "|解|解析解|解析解|數值解|數值解|\n",
    "|限制條件|無|無|非負|無|\n",
    "|Dimension reduction|可|可|可|可|\n",
    "|Data compression|可|可|可|可|\n",
    "|latent factor 和 clustering|不明顯|可|可|可|\n",
    "|模型解釋能力|難|latent factor 解釋|latent factor 解釋|latent factor 解釋|\n",
    "|推薦系統|不可|不可|可|可|\n",
    "|Missing data imputation|不可|不可|可|可|\n",
    "|其他|PCA 由 SVD 來實作，PCA 的 eigenvalues 是 SVD 的 singular values 的平方|計算比 PCA 速度快|就是 UVD 加上非負的限制|train 快|"
   ]
  },
  {
   "cell_type": "markdown",
   "metadata": {},
   "source": [
    "***\n",
    "***\n",
    "***"
   ]
  },
  {
   "cell_type": "markdown",
   "metadata": {},
   "source": [
    "# Recommendation\n",
    "\n",
    "* Recommendation 其實就是一個 missing value imputation 的過程\n",
    "* Recommender 分成\n",
    "  * Popularity: 每個人都推薦一樣的，最容易實作\n",
    "    * clustering: 把用戶分成不同的 clusters，同一個 cluster 的用戶推薦一樣的東西，是一個比較粗糙的手法\n",
    "      * (優點)容易實作\n",
    "      * (優點)可以顯現 latent similarity \n",
    "      * (缺點)performance 差，variance 低 (因為同一個 cluster 的用戶都差不多)，bias 高\n",
    "      * 通常是用 clustering 做預處理，對用戶分群，然後對每個 cluster 的用戶做 collaborative filtering 或 matrix factorization\n",
    "        * 相當減低了數據的大小\n",
    "  * Content based: 由用戶的 content 和 item 的 content 比較，推薦類似的 contents\n",
    "    * user 的 content 就是 user preference\n",
    "    * item 的 content 就是 item 的屬性\n",
    "      * test-based content 可以用 NLP 提取\n",
    "      * image-based content 可以用 deep learning 提取\n",
    "    * 用 cosine similarity 或 eucildean distance 等 similarity metrics\n",
    "    * (優點)適合 cold-start (就是一開始什麼數據都沒有的情況)\n",
    "      * 不論是 user 的數據或是 item 的數據\n",
    "      * 新的 item 或不是受歡迎的 item (所以沒什麼數據) 就可以用 cold-start\n",
    "    * (優點)容易解釋 (把 content 的 feature 列出來就可以)\n",
    "    * (缺點)需要提取 content 來學習，可能有些 feature 不好提取，或是不能轉成能用的屬性\n",
    "    * (缺點)沒有借助到相似 user 和相似 item 的數據，所以 performance 不夠好\n",
    "    * (缺點)容易 overfit\n",
    "  * Collaborative filtering: 由用戶的行為來判斷\n",
    "    * 數據會是一個 sparse 的 utility matrix\n",
    "      * row: user, col: item, cell: rating\n",
    "      * 沒有 rating 的 cell 就是 missing，目標是預測這些，但是通常 missing 的數目遠大於有 rating 的\n",
    "    * 通常會選一部分當 neighbors 用來加速計算，但是這不是必要的步驟\n",
    "    * 有 **user-based** 和 **item-based** 兩種\n",
    "    * user-based:\n",
    "      * 要定義 target user，還有找和 target user 相似的 users，由相似的 users 的 rating 來預測 target user 尚未 rating 的項目的 rating，會考慮有 rating 和沒有 rating 的項目之間的相似性，並當成權重拿來預測 rating\n",
    "      \n",
    "      * (優點) performance 好，(缺點)users 多的時候速度慢 (因為每個 user 都要計算)\n",
    "    * item-based:\n",
    "      * 一般來說 Item based 的 CF 比較常用\n",
    "      * Users 數目 >> items 數目時就用 item-based\n",
    "      * (優點)速度快，數據穩定，data 比較不 sparse\n",
    "    * User-user similarity\n",
    "      * 時間複雜度是 user 數目的平方 x item 數目 \n",
    "      * 第 i 項的 rating 是由第 j 項的 rating 與 (i, j) 兩項的相似度來求得，並且要 normalize\n",
    "        \\begin{equation} rating(u, i) = \\frac{\\sum similarity(i, j) \\cdot rating(u, j)}{\\sum similarity(i, j)}\\end{equation}\n",
    "      * 通常只會用 neighbors (就是一部分的 item) 來計算，以提高計算速度\n",
    "    * Item-item similarity\n",
    "      * 時間複雜度是 user 數目 x item 數目的平方\n",
    "      * 公式和 user-user similarity 一樣\n",
    "    * Similarity:\n",
    "      * Euclidean distance\n",
    "        \\begin{equation}dist(a, b) = \\sqrt{\\sum_{i} (a_{i} - b_{i})^{2}}\\end{equation}\n",
    "        similarity 是介於 0 ~ 1 之間\n",
    "        \\begin{equation}similarity(a, b) = \\frac{1}{1+dist(a,b)}\\end{equation}\n",
    "      * Pearson correlation: -1 ~ 1\n",
    "        \\begin{equation}Pearson(a, b) = \\frac{cov(a,b)}{\\sigma(a) \\sigma(b)}=\\frac{\\sum_{i}(a_{i}-\\bar{a})(b_{i}-\\bar{b})}{\\sqrt{\\sum_{i}(a_{i}-\\bar{a})^2}\\sqrt{\\sum_{i}(b_{i}-\\bar{b})^2}}\\end{equation}\n",
    "        similarity: 0 ~ 1\n",
    "        \\begin{equation}similarity(a, b) = 0.5 + 0.5 * Pearson(a, b)\\end{equation}\n",
    "      * Cosine similarity: -1 ~ 1\n",
    "        \\begin{equation} \\cos(\\theta_{a,b}) = \\frac{a \\cdot b}{|a||b|} = \\frac{\\sum_{i}a_{i}b_{i}}{\\sqrt{\\sum_{i}a_{i}^2}\\sqrt{\\sum_{i}b_{i}^2}}\\end{equation}\n",
    "        similarity: 0 ~ 1\n",
    "        \\begin{equation}similarity(a, b) = 0.5 + 0.5 * \\cos(\\theta_{a,b})\\end{equation}\n",
    "      * Jaccard similarity: 0 ~ 1\n",
    "        \\begin{equation}similarity(a, b) = \\frac{|U_a \\cap U_b|}{|U_a \\cup U_b|}\\end{equation}\n",
    "    * cross validation:\n",
    "      * 不可以用傳統的方式用不同的 row 分 train 和 test 因為 CF 要用全部的 users 和 item 的 data\n",
    "      * 在 utility matrix 上隨機 mask 掉一些數據，被 mask 掉的當成 holdout set，拿沒有 mask 的 train，拿 holdout set 來 evaluation，但是因為不是用全部的數據來 train，performance 會比較差\n",
    "        * 不可以整個 row 或整個 column 被 mask\n",
    "        * train 完後拿掉 mask 再用全部的數據 train 一次\n",
    "  * Matrix factorization: 其實就是 missing value imputation\n",
    "    * 用矩陣填充，把用戶沒填的 item 去填上權重\n",
    "    * 不可以用 SVD，因為 SVD 是解析解，不可以有 missing values\n",
    "    * 用 UVD + SGD (stochastic gradient descent)"
   ]
  },
  {
   "cell_type": "markdown",
   "metadata": {},
   "source": [
    "***\n",
    "***\n",
    "***"
   ]
  },
  {
   "cell_type": "markdown",
   "metadata": {},
   "source": [
    "## Item-item collaborative filter recommender"
   ]
  },
  {
   "cell_type": "code",
   "execution_count": 105,
   "metadata": {},
   "outputs": [],
   "source": [
    "import numpy as np\n",
    "import pandas as pd\n",
    "from scipy import sparse\n",
    "from sklearn.metrics.pairwise import cosine_similarity\n",
    "from time import time"
   ]
  },
  {
   "cell_type": "markdown",
   "metadata": {},
   "source": [
    "### Load data"
   ]
  },
  {
   "cell_type": "code",
   "execution_count": 106,
   "metadata": {},
   "outputs": [
    {
     "data": {
      "text/html": [
       "<div>\n",
       "<style scoped>\n",
       "    .dataframe tbody tr th:only-of-type {\n",
       "        vertical-align: middle;\n",
       "    }\n",
       "\n",
       "    .dataframe tbody tr th {\n",
       "        vertical-align: top;\n",
       "    }\n",
       "\n",
       "    .dataframe thead th {\n",
       "        text-align: right;\n",
       "    }\n",
       "</style>\n",
       "<table border=\"1\" class=\"dataframe\">\n",
       "  <thead>\n",
       "    <tr style=\"text-align: right;\">\n",
       "      <th></th>\n",
       "      <th>user</th>\n",
       "      <th>movie</th>\n",
       "      <th>rating</th>\n",
       "      <th>timestamp</th>\n",
       "    </tr>\n",
       "  </thead>\n",
       "  <tbody>\n",
       "    <tr>\n",
       "      <th>0</th>\n",
       "      <td>196</td>\n",
       "      <td>242</td>\n",
       "      <td>3</td>\n",
       "      <td>881250949</td>\n",
       "    </tr>\n",
       "    <tr>\n",
       "      <th>1</th>\n",
       "      <td>186</td>\n",
       "      <td>302</td>\n",
       "      <td>3</td>\n",
       "      <td>891717742</td>\n",
       "    </tr>\n",
       "    <tr>\n",
       "      <th>2</th>\n",
       "      <td>22</td>\n",
       "      <td>377</td>\n",
       "      <td>1</td>\n",
       "      <td>878887116</td>\n",
       "    </tr>\n",
       "    <tr>\n",
       "      <th>3</th>\n",
       "      <td>244</td>\n",
       "      <td>51</td>\n",
       "      <td>2</td>\n",
       "      <td>880606923</td>\n",
       "    </tr>\n",
       "    <tr>\n",
       "      <th>4</th>\n",
       "      <td>166</td>\n",
       "      <td>346</td>\n",
       "      <td>1</td>\n",
       "      <td>886397596</td>\n",
       "    </tr>\n",
       "  </tbody>\n",
       "</table>\n",
       "</div>"
      ],
      "text/plain": [
       "   user  movie  rating  timestamp\n",
       "0   196    242       3  881250949\n",
       "1   186    302       3  891717742\n",
       "2    22    377       1  878887116\n",
       "3   244     51       2  880606923\n",
       "4   166    346       1  886397596"
      ]
     },
     "execution_count": 106,
     "metadata": {},
     "output_type": "execute_result"
    }
   ],
   "source": [
    "df_rating_contents = pd.read_table('u.data', names=['user', 'movie', 'rating', 'timestamp'])\n",
    "df_rating_contents.head()"
   ]
  },
  {
   "cell_type": "code",
   "execution_count": 107,
   "metadata": {},
   "outputs": [
    {
     "name": "stdout",
     "output_type": "stream",
     "text": [
      "<class 'pandas.core.frame.DataFrame'>\n",
      "RangeIndex: 100000 entries, 0 to 99999\n",
      "Data columns (total 4 columns):\n",
      "user         100000 non-null int64\n",
      "movie        100000 non-null int64\n",
      "rating       100000 non-null int64\n",
      "timestamp    100000 non-null int64\n",
      "dtypes: int64(4)\n",
      "memory usage: 3.1 MB\n"
     ]
    }
   ],
   "source": [
    "df_rating_contents.info()"
   ]
  },
  {
   "cell_type": "code",
   "execution_count": 108,
   "metadata": {},
   "outputs": [
    {
     "data": {
      "text/html": [
       "<div>\n",
       "<style scoped>\n",
       "    .dataframe tbody tr th:only-of-type {\n",
       "        vertical-align: middle;\n",
       "    }\n",
       "\n",
       "    .dataframe tbody tr th {\n",
       "        vertical-align: top;\n",
       "    }\n",
       "\n",
       "    .dataframe thead th {\n",
       "        text-align: right;\n",
       "    }\n",
       "</style>\n",
       "<table border=\"1\" class=\"dataframe\">\n",
       "  <thead>\n",
       "    <tr style=\"text-align: right;\">\n",
       "      <th></th>\n",
       "      <th>user</th>\n",
       "      <th>movie</th>\n",
       "      <th>rating</th>\n",
       "      <th>timestamp</th>\n",
       "    </tr>\n",
       "  </thead>\n",
       "  <tbody>\n",
       "    <tr>\n",
       "      <th>count</th>\n",
       "      <td>100000.00000</td>\n",
       "      <td>100000.000000</td>\n",
       "      <td>100000.000000</td>\n",
       "      <td>1.000000e+05</td>\n",
       "    </tr>\n",
       "    <tr>\n",
       "      <th>mean</th>\n",
       "      <td>462.48475</td>\n",
       "      <td>425.530130</td>\n",
       "      <td>3.529860</td>\n",
       "      <td>8.835289e+08</td>\n",
       "    </tr>\n",
       "    <tr>\n",
       "      <th>std</th>\n",
       "      <td>266.61442</td>\n",
       "      <td>330.798356</td>\n",
       "      <td>1.125674</td>\n",
       "      <td>5.343856e+06</td>\n",
       "    </tr>\n",
       "    <tr>\n",
       "      <th>min</th>\n",
       "      <td>1.00000</td>\n",
       "      <td>1.000000</td>\n",
       "      <td>1.000000</td>\n",
       "      <td>8.747247e+08</td>\n",
       "    </tr>\n",
       "    <tr>\n",
       "      <th>25%</th>\n",
       "      <td>254.00000</td>\n",
       "      <td>175.000000</td>\n",
       "      <td>3.000000</td>\n",
       "      <td>8.794487e+08</td>\n",
       "    </tr>\n",
       "    <tr>\n",
       "      <th>50%</th>\n",
       "      <td>447.00000</td>\n",
       "      <td>322.000000</td>\n",
       "      <td>4.000000</td>\n",
       "      <td>8.828269e+08</td>\n",
       "    </tr>\n",
       "    <tr>\n",
       "      <th>75%</th>\n",
       "      <td>682.00000</td>\n",
       "      <td>631.000000</td>\n",
       "      <td>4.000000</td>\n",
       "      <td>8.882600e+08</td>\n",
       "    </tr>\n",
       "    <tr>\n",
       "      <th>max</th>\n",
       "      <td>943.00000</td>\n",
       "      <td>1682.000000</td>\n",
       "      <td>5.000000</td>\n",
       "      <td>8.932866e+08</td>\n",
       "    </tr>\n",
       "  </tbody>\n",
       "</table>\n",
       "</div>"
      ],
      "text/plain": [
       "               user          movie         rating     timestamp\n",
       "count  100000.00000  100000.000000  100000.000000  1.000000e+05\n",
       "mean      462.48475     425.530130       3.529860  8.835289e+08\n",
       "std       266.61442     330.798356       1.125674  5.343856e+06\n",
       "min         1.00000       1.000000       1.000000  8.747247e+08\n",
       "25%       254.00000     175.000000       3.000000  8.794487e+08\n",
       "50%       447.00000     322.000000       4.000000  8.828269e+08\n",
       "75%       682.00000     631.000000       4.000000  8.882600e+08\n",
       "max       943.00000    1682.000000       5.000000  8.932866e+08"
      ]
     },
     "execution_count": 108,
     "metadata": {},
     "output_type": "execute_result"
    }
   ],
   "source": [
    "df_rating_contents.describe()"
   ]
  },
  {
   "cell_type": "code",
   "execution_count": 109,
   "metadata": {},
   "outputs": [
    {
     "data": {
      "text/plain": [
       "943"
      ]
     },
     "execution_count": 109,
     "metadata": {},
     "output_type": "execute_result"
    }
   ],
   "source": [
    "df_rating_contents['user'].nunique()"
   ]
  },
  {
   "cell_type": "code",
   "execution_count": 110,
   "metadata": {},
   "outputs": [
    {
     "data": {
      "text/plain": [
       "1682"
      ]
     },
     "execution_count": 110,
     "metadata": {},
     "output_type": "execute_result"
    }
   ],
   "source": [
    "df_rating_contents['movie'].nunique()"
   ]
  },
  {
   "cell_type": "markdown",
   "metadata": {},
   "source": [
    "有 10 萬列，但只有 943 個 users 和 1682 個 movies，表示可能有同一個 user 但 movies 不同的列"
   ]
  },
  {
   "cell_type": "markdown",
   "metadata": {},
   "source": [
    "### Convert rating records to user-movie utility matrix\n",
    "\n",
    "#### Option 1: use `pd.pivot_table()`\n",
    "* 以 `user` 當 row, `movie` 當 column, `rating` 當 value"
   ]
  },
  {
   "cell_type": "code",
   "execution_count": 111,
   "metadata": {},
   "outputs": [
    {
     "data": {
      "text/html": [
       "<div>\n",
       "<style scoped>\n",
       "    .dataframe tbody tr th:only-of-type {\n",
       "        vertical-align: middle;\n",
       "    }\n",
       "\n",
       "    .dataframe tbody tr th {\n",
       "        vertical-align: top;\n",
       "    }\n",
       "\n",
       "    .dataframe thead th {\n",
       "        text-align: right;\n",
       "    }\n",
       "</style>\n",
       "<table border=\"1\" class=\"dataframe\">\n",
       "  <thead>\n",
       "    <tr style=\"text-align: right;\">\n",
       "      <th>movie</th>\n",
       "      <th>1</th>\n",
       "      <th>2</th>\n",
       "      <th>3</th>\n",
       "      <th>4</th>\n",
       "      <th>5</th>\n",
       "      <th>6</th>\n",
       "      <th>7</th>\n",
       "      <th>8</th>\n",
       "      <th>9</th>\n",
       "      <th>10</th>\n",
       "      <th>...</th>\n",
       "      <th>1673</th>\n",
       "      <th>1674</th>\n",
       "      <th>1675</th>\n",
       "      <th>1676</th>\n",
       "      <th>1677</th>\n",
       "      <th>1678</th>\n",
       "      <th>1679</th>\n",
       "      <th>1680</th>\n",
       "      <th>1681</th>\n",
       "      <th>1682</th>\n",
       "    </tr>\n",
       "    <tr>\n",
       "      <th>user</th>\n",
       "      <th></th>\n",
       "      <th></th>\n",
       "      <th></th>\n",
       "      <th></th>\n",
       "      <th></th>\n",
       "      <th></th>\n",
       "      <th></th>\n",
       "      <th></th>\n",
       "      <th></th>\n",
       "      <th></th>\n",
       "      <th></th>\n",
       "      <th></th>\n",
       "      <th></th>\n",
       "      <th></th>\n",
       "      <th></th>\n",
       "      <th></th>\n",
       "      <th></th>\n",
       "      <th></th>\n",
       "      <th></th>\n",
       "      <th></th>\n",
       "      <th></th>\n",
       "    </tr>\n",
       "  </thead>\n",
       "  <tbody>\n",
       "    <tr>\n",
       "      <th>1</th>\n",
       "      <td>5</td>\n",
       "      <td>3</td>\n",
       "      <td>4</td>\n",
       "      <td>3</td>\n",
       "      <td>3</td>\n",
       "      <td>5</td>\n",
       "      <td>4</td>\n",
       "      <td>1</td>\n",
       "      <td>5</td>\n",
       "      <td>3</td>\n",
       "      <td>...</td>\n",
       "      <td>0</td>\n",
       "      <td>0</td>\n",
       "      <td>0</td>\n",
       "      <td>0</td>\n",
       "      <td>0</td>\n",
       "      <td>0</td>\n",
       "      <td>0</td>\n",
       "      <td>0</td>\n",
       "      <td>0</td>\n",
       "      <td>0</td>\n",
       "    </tr>\n",
       "    <tr>\n",
       "      <th>2</th>\n",
       "      <td>4</td>\n",
       "      <td>0</td>\n",
       "      <td>0</td>\n",
       "      <td>0</td>\n",
       "      <td>0</td>\n",
       "      <td>0</td>\n",
       "      <td>0</td>\n",
       "      <td>0</td>\n",
       "      <td>0</td>\n",
       "      <td>2</td>\n",
       "      <td>...</td>\n",
       "      <td>0</td>\n",
       "      <td>0</td>\n",
       "      <td>0</td>\n",
       "      <td>0</td>\n",
       "      <td>0</td>\n",
       "      <td>0</td>\n",
       "      <td>0</td>\n",
       "      <td>0</td>\n",
       "      <td>0</td>\n",
       "      <td>0</td>\n",
       "    </tr>\n",
       "    <tr>\n",
       "      <th>3</th>\n",
       "      <td>0</td>\n",
       "      <td>0</td>\n",
       "      <td>0</td>\n",
       "      <td>0</td>\n",
       "      <td>0</td>\n",
       "      <td>0</td>\n",
       "      <td>0</td>\n",
       "      <td>0</td>\n",
       "      <td>0</td>\n",
       "      <td>0</td>\n",
       "      <td>...</td>\n",
       "      <td>0</td>\n",
       "      <td>0</td>\n",
       "      <td>0</td>\n",
       "      <td>0</td>\n",
       "      <td>0</td>\n",
       "      <td>0</td>\n",
       "      <td>0</td>\n",
       "      <td>0</td>\n",
       "      <td>0</td>\n",
       "      <td>0</td>\n",
       "    </tr>\n",
       "    <tr>\n",
       "      <th>4</th>\n",
       "      <td>0</td>\n",
       "      <td>0</td>\n",
       "      <td>0</td>\n",
       "      <td>0</td>\n",
       "      <td>0</td>\n",
       "      <td>0</td>\n",
       "      <td>0</td>\n",
       "      <td>0</td>\n",
       "      <td>0</td>\n",
       "      <td>0</td>\n",
       "      <td>...</td>\n",
       "      <td>0</td>\n",
       "      <td>0</td>\n",
       "      <td>0</td>\n",
       "      <td>0</td>\n",
       "      <td>0</td>\n",
       "      <td>0</td>\n",
       "      <td>0</td>\n",
       "      <td>0</td>\n",
       "      <td>0</td>\n",
       "      <td>0</td>\n",
       "    </tr>\n",
       "    <tr>\n",
       "      <th>5</th>\n",
       "      <td>4</td>\n",
       "      <td>3</td>\n",
       "      <td>0</td>\n",
       "      <td>0</td>\n",
       "      <td>0</td>\n",
       "      <td>0</td>\n",
       "      <td>0</td>\n",
       "      <td>0</td>\n",
       "      <td>0</td>\n",
       "      <td>0</td>\n",
       "      <td>...</td>\n",
       "      <td>0</td>\n",
       "      <td>0</td>\n",
       "      <td>0</td>\n",
       "      <td>0</td>\n",
       "      <td>0</td>\n",
       "      <td>0</td>\n",
       "      <td>0</td>\n",
       "      <td>0</td>\n",
       "      <td>0</td>\n",
       "      <td>0</td>\n",
       "    </tr>\n",
       "  </tbody>\n",
       "</table>\n",
       "<p>5 rows × 1682 columns</p>\n",
       "</div>"
      ],
      "text/plain": [
       "movie  1     2     3     4     5     6     7     8     9     10    ...   1673  \\\n",
       "user                                                               ...          \n",
       "1         5     3     4     3     3     5     4     1     5     3  ...      0   \n",
       "2         4     0     0     0     0     0     0     0     0     2  ...      0   \n",
       "3         0     0     0     0     0     0     0     0     0     0  ...      0   \n",
       "4         0     0     0     0     0     0     0     0     0     0  ...      0   \n",
       "5         4     3     0     0     0     0     0     0     0     0  ...      0   \n",
       "\n",
       "movie  1674  1675  1676  1677  1678  1679  1680  1681  1682  \n",
       "user                                                         \n",
       "1         0     0     0     0     0     0     0     0     0  \n",
       "2         0     0     0     0     0     0     0     0     0  \n",
       "3         0     0     0     0     0     0     0     0     0  \n",
       "4         0     0     0     0     0     0     0     0     0  \n",
       "5         0     0     0     0     0     0     0     0     0  \n",
       "\n",
       "[5 rows x 1682 columns]"
      ]
     },
     "execution_count": 111,
     "metadata": {},
     "output_type": "execute_result"
    }
   ],
   "source": [
    "df_utility = pd.pivot_table(data=df_rating_contents,\n",
    "                            index='user',\n",
    "                            columns='movie',\n",
    "                            values='rating',\n",
    "                            fill_value=0)\n",
    "df_utility.head()"
   ]
  },
  {
   "cell_type": "code",
   "execution_count": 112,
   "metadata": {},
   "outputs": [
    {
     "name": "stdout",
     "output_type": "stream",
     "text": [
      "<class 'pandas.core.frame.DataFrame'>\n",
      "Int64Index: 943 entries, 1 to 943\n",
      "Columns: 1682 entries, 1 to 1682\n",
      "dtypes: int64(1682)\n",
      "memory usage: 12.1 MB\n"
     ]
    }
   ],
   "source": [
    "df_utility.info()"
   ]
  },
  {
   "cell_type": "markdown",
   "metadata": {},
   "source": [
    "### Option 2: use spare matrix `scipy.sparse.lil_matrix()`"
   ]
  },
  {
   "cell_type": "code",
   "execution_count": 113,
   "metadata": {},
   "outputs": [
    {
     "name": "stdout",
     "output_type": "stream",
     "text": [
      "943\n",
      "1682\n"
     ]
    }
   ],
   "source": [
    "highest_user_id = df_rating_contents.user.max()\n",
    "highest_movie_id = df_rating_contents.movie.max()\n",
    "print(highest_user_id)\n",
    "print(highest_movie_id)"
   ]
  },
  {
   "cell_type": "markdown",
   "metadata": {},
   "source": [
    "建立一個空的矩陣，用 sparse matrix 來節省空間\n",
    "\n",
    "sparse matrix 有 lil, csr, csc 三種\n",
    "* `lil_matrix()`\n",
    "* `csr_matrix()`\n",
    "* `csc_matrix()`\n",
    "\n",
    "`sparse.lil_matrix((m, n))` 建立 $m \\times n$ 的空的 sparse matrix"
   ]
  },
  {
   "cell_type": "code",
   "execution_count": 114,
   "metadata": {},
   "outputs": [
    {
     "data": {
      "text/plain": [
       "<943x1682 sparse matrix of type '<class 'numpy.float64'>'\n",
       "\twith 0 stored elements in LInked List format>"
      ]
     },
     "execution_count": 114,
     "metadata": {},
     "output_type": "execute_result"
    }
   ],
   "source": [
    "ratings_mat = sparse.lil_matrix((highest_user_id, highest_movie_id)) # empty matrix\n",
    "ratings_mat # this is linked list form"
   ]
  },
  {
   "cell_type": "code",
   "execution_count": 115,
   "metadata": {},
   "outputs": [
    {
     "data": {
      "text/plain": [
       "matrix([[0., 0., 0., ..., 0., 0., 0.],\n",
       "        [0., 0., 0., ..., 0., 0., 0.],\n",
       "        [0., 0., 0., ..., 0., 0., 0.],\n",
       "        ...,\n",
       "        [0., 0., 0., ..., 0., 0., 0.],\n",
       "        [0., 0., 0., ..., 0., 0., 0.],\n",
       "        [0., 0., 0., ..., 0., 0., 0.]])"
      ]
     },
     "execution_count": 115,
     "metadata": {},
     "output_type": "execute_result"
    }
   ],
   "source": [
    "ratings_mat.todense() # show matrix form"
   ]
  },
  {
   "cell_type": "markdown",
   "metadata": {},
   "source": [
    "把 rating 當作矩陣元素填入\n",
    "\n",
    "因為 user 和 movie 都是從 1 開始，但是矩陣元素從 0 開始，所以要減一"
   ]
  },
  {
   "cell_type": "code",
   "execution_count": 116,
   "metadata": {},
   "outputs": [],
   "source": [
    "for index, row in df_rating_contents.iterrows():\n",
    "#     print(index, row.user, row.movie, row.rating)\n",
    "    ratings_mat[row.user-1, row.movie-1] = row.rating"
   ]
  },
  {
   "cell_type": "code",
   "execution_count": 117,
   "metadata": {},
   "outputs": [
    {
     "data": {
      "text/plain": [
       "<943x1682 sparse matrix of type '<class 'numpy.float64'>'\n",
       "\twith 100000 stored elements in LInked List format>"
      ]
     },
     "execution_count": 117,
     "metadata": {},
     "output_type": "execute_result"
    }
   ],
   "source": [
    "ratings_mat"
   ]
  },
  {
   "cell_type": "code",
   "execution_count": 118,
   "metadata": {},
   "outputs": [
    {
     "data": {
      "text/plain": [
       "matrix([[5., 3., 4., ..., 0., 0., 0.],\n",
       "        [4., 0., 0., ..., 0., 0., 0.],\n",
       "        [0., 0., 0., ..., 0., 0., 0.],\n",
       "        ...,\n",
       "        [5., 0., 0., ..., 0., 0., 0.],\n",
       "        [0., 0., 0., ..., 0., 0., 0.],\n",
       "        [0., 5., 0., ..., 0., 0., 0.]])"
      ]
     },
     "execution_count": 118,
     "metadata": {},
     "output_type": "execute_result"
    }
   ],
   "source": [
    "ratings_mat.todense() # the same as df_utility"
   ]
  },
  {
   "cell_type": "code",
   "execution_count": 119,
   "metadata": {},
   "outputs": [
    {
     "data": {
      "text/plain": [
       "matrix([[0., 0., 0., ..., 0., 0., 0.],\n",
       "        [0., 0., 0., ..., 0., 0., 0.],\n",
       "        [0., 0., 0., ..., 0., 0., 0.],\n",
       "        ...,\n",
       "        [0., 0., 0., ..., 0., 0., 0.],\n",
       "        [0., 0., 0., ..., 0., 0., 0.],\n",
       "        [0., 0., 0., ..., 0., 0., 0.]])"
      ]
     },
     "execution_count": 119,
     "metadata": {},
     "output_type": "execute_result"
    }
   ],
   "source": [
    "diff = df_utility.values - ratings_mat.todense()\n",
    "diff"
   ]
  },
  {
   "cell_type": "markdown",
   "metadata": {},
   "source": [
    "`np.any()`: Test whether any array element along a given axis evaluates to True."
   ]
  },
  {
   "cell_type": "code",
   "execution_count": 120,
   "metadata": {},
   "outputs": [
    {
     "data": {
      "text/plain": [
       "False"
      ]
     },
     "execution_count": 120,
     "metadata": {},
     "output_type": "execute_result"
    }
   ],
   "source": [
    "np.any(diff) # 是否有任何非 0 的值"
   ]
  },
  {
   "cell_type": "markdown",
   "metadata": {},
   "source": [
    "### Use option 2"
   ]
  },
  {
   "cell_type": "code",
   "execution_count": 121,
   "metadata": {},
   "outputs": [
    {
     "name": "stdout",
     "output_type": "stream",
     "text": [
      "(943, 1682)\n"
     ]
    }
   ],
   "source": [
    "utility_mat = ratings_mat\n",
    "print(utility_mat.shape)"
   ]
  },
  {
   "cell_type": "markdown",
   "metadata": {},
   "source": [
    "### Item-item similarity matrix"
   ]
  },
  {
   "cell_type": "code",
   "execution_count": 122,
   "metadata": {},
   "outputs": [],
   "source": [
    "item_sim_mat = cosine_similarity(utility_mat.T) # item 是欄，要 transpose 才能看 item to item 的 cosine similarity"
   ]
  },
  {
   "cell_type": "code",
   "execution_count": 123,
   "metadata": {},
   "outputs": [
    {
     "name": "stdout",
     "output_type": "stream",
     "text": [
      "(1682, 1682)\n"
     ]
    },
    {
     "data": {
      "text/plain": [
       "array([[1.        , 0.40238218, 0.33024479, ..., 0.        , 0.04718307,\n",
       "        0.04718307],\n",
       "       [0.40238218, 1.        , 0.27306918, ..., 0.        , 0.07829936,\n",
       "        0.07829936],\n",
       "       [0.33024479, 0.27306918, 1.        , ..., 0.        , 0.        ,\n",
       "        0.09687505],\n",
       "       ...,\n",
       "       [0.        , 0.        , 0.        , ..., 1.        , 0.        ,\n",
       "        0.        ],\n",
       "       [0.04718307, 0.07829936, 0.        , ..., 0.        , 1.        ,\n",
       "        0.        ],\n",
       "       [0.04718307, 0.07829936, 0.09687505, ..., 0.        , 0.        ,\n",
       "        1.        ]])"
      ]
     },
     "execution_count": 123,
     "metadata": {},
     "output_type": "execute_result"
    }
   ],
   "source": [
    "print(item_sim_mat.shape)\n",
    "item_sim_mat"
   ]
  },
  {
   "cell_type": "markdown",
   "metadata": {},
   "source": [
    "### Neighborhood"
   ]
  },
  {
   "cell_type": "code",
   "execution_count": 124,
   "metadata": {},
   "outputs": [],
   "source": [
    "least_to_most_sim_indexes = np.argsort(item_sim_mat, axis=1)"
   ]
  },
  {
   "cell_type": "code",
   "execution_count": 125,
   "metadata": {},
   "outputs": [
    {
     "data": {
      "text/plain": [
       "array([[1556, 1579, 1616, ...,  180,   49,    0],\n",
       "       [1201, 1524, 1240, ...,  160,  232,    1],\n",
       "       [ 676, 1463, 1464, ...,  762,  409,    2],\n",
       "       ...,\n",
       "       [   0, 1125, 1124, ..., 1677, 1678, 1679],\n",
       "       [ 840, 1120, 1119, ..., 1350, 1671, 1680],\n",
       "       [ 840,  934,  933, ..., 1334,  766, 1681]])"
      ]
     },
     "execution_count": 125,
     "metadata": {},
     "output_type": "execute_result"
    }
   ],
   "source": [
    "least_to_most_sim_indexes # 把 cosine similarity 由小排到大，然後顯示 index 的順序"
   ]
  },
  {
   "cell_type": "code",
   "execution_count": 126,
   "metadata": {},
   "outputs": [
    {
     "data": {
      "text/plain": [
       "(1682, 75)"
      ]
     },
     "execution_count": 126,
     "metadata": {},
     "output_type": "execute_result"
    }
   ],
   "source": [
    "# Neighborhoods\n",
    "neighborhood_size = 75\n",
    "neighborhoods = least_to_most_sim_indexes[:, -neighborhood_size:]\n",
    "\n",
    "neighborhoods.shape"
   ]
  },
  {
   "cell_type": "markdown",
   "metadata": {},
   "source": [
    "### Rating prediction on a user"
   ]
  },
  {
   "cell_type": "code",
   "execution_count": 127,
   "metadata": {},
   "outputs": [],
   "source": [
    "user_id = 100 # 只看這個使用者"
   ]
  },
  {
   "cell_type": "code",
   "execution_count": 128,
   "metadata": {},
   "outputs": [
    {
     "data": {
      "text/plain": [
       "(array([0, 0, 0, 0, 0, 0, 0, 0, 0, 0, 0, 0, 0, 0, 0, 0, 0, 0, 0, 0, 0, 0,\n",
       "        0, 0, 0, 0, 0, 0, 0, 0, 0, 0, 0, 0, 0, 0, 0, 0, 0, 0, 0, 0, 0, 0,\n",
       "        0, 0, 0, 0, 0, 0, 0, 0, 0, 0, 0, 0, 0, 0, 0, 0, 0, 0, 0, 0, 0, 0,\n",
       "        0], dtype=int32),\n",
       " array([   0,    6,   23,   49,  108,  110,  116,  117,  120,  121,  122,\n",
       "         124,  146,  150,  180,  221,  224,  236,  251,  254,  256,  277,\n",
       "         279,  280,  281,  283,  287,  303,  368,  369,  404,  410,  411,\n",
       "         470,  471,  545,  594,  595,  596,  716,  741,  755,  762,  814,\n",
       "         818,  819,  825,  828,  830,  839,  840,  844,  845,  865,  923,\n",
       "         925,  927,  974,  978, 1008, 1027, 1033, 1046, 1050, 1056, 1092,\n",
       "        1131], dtype=int32))"
      ]
     },
     "execution_count": 128,
     "metadata": {},
     "output_type": "execute_result"
    }
   ],
   "source": [
    "ratings_mat[user_id].nonzero() # first array is row index, second array is column index"
   ]
  },
  {
   "cell_type": "code",
   "execution_count": 129,
   "metadata": {},
   "outputs": [
    {
     "name": "stdout",
     "output_type": "stream",
     "text": [
      "943 1682\n"
     ]
    },
    {
     "name": "stderr",
     "output_type": "stream",
     "text": [
      "/usr/local/anaconda3/lib/python3.6/site-packages/ipykernel_launcher.py:15: RuntimeWarning: invalid value encountered in true_divide\n",
      "  from ipykernel import kernelapp as app\n"
     ]
    },
    {
     "name": "stdout",
     "output_type": "stream",
     "text": [
      "[3.53360198 4.         3.22344621 ... 0.         0.         2.        ]\n",
      "Execution time: 0.337194 seconds\n"
     ]
    }
   ],
   "source": [
    "n_users = utility_mat.shape[0]\n",
    "n_items = utility_mat.shape[1]\n",
    "print(n_users, n_items)\n",
    "\n",
    "start_time = time()\n",
    "items_rated_by_this_user = ratings_mat[user_id].nonzero()[1] # 選出非 0 的欄位\n",
    "\n",
    "out = np.zeros(n_items)\n",
    "for item_to_rate in range(n_items):\n",
    "    relevant_items = np.intersect1d(neighborhoods[item_to_rate], # 找 neighborhoods 和 items_rated_by_this_user 的交集\n",
    "                                    items_rated_by_this_user,\n",
    "                                    assume_unique=True) # assume_unique 可以加速 intersect1d() 的計算\n",
    "    out[item_to_rate] = ratings_mat[user_id, relevant_items] * \\\n",
    "                        item_sim_mat[item_to_rate, relevant_items] / \\\n",
    "                        item_sim_mat[item_to_rate, relevant_items].sum()\n",
    "    \n",
    "pred_ratings = np.nan_to_num(out) # out 中的 NaN 會被改成 0\n",
    "print(pred_ratings)\n",
    "print('Execution time: %f seconds' % (time() - start_time))"
   ]
  },
  {
   "cell_type": "code",
   "execution_count": 130,
   "metadata": {},
   "outputs": [
    {
     "data": {
      "text/plain": [
       "(1682,)"
      ]
     },
     "execution_count": 130,
     "metadata": {},
     "output_type": "execute_result"
    }
   ],
   "source": [
    "pred_ratings.shape"
   ]
  },
  {
   "cell_type": "markdown",
   "metadata": {},
   "source": [
    "### Get final recommendations for a user"
   ]
  },
  {
   "cell_type": "code",
   "execution_count": 131,
   "metadata": {},
   "outputs": [
    {
     "data": {
      "text/plain": [
       "[1357, 1136, 962, 339, 296, 314, 306, 315, 240, 650]"
      ]
     },
     "execution_count": 131,
     "metadata": {},
     "output_type": "execute_result"
    }
   ],
   "source": [
    "# Recommend n movies\n",
    "n = 10\n",
    "\n",
    "# Get item indexes sorted by predicted rating\n",
    "item_index_sorted_by_pred_rating = list(np.argsort(pred_ratings))[::-1] # 由大排到小\n",
    "\n",
    "# Find items that have been rated by user\n",
    "item_rated_by_this_user = ratings_mat[user_id].nonzero()[1]\n",
    "\n",
    "# We want to exclude the items that have been rated by user\n",
    "unrated_items_by_pred_rating = [item for item in item_index_sorted_by_pred_rating\n",
    "                                if item not in items_rated_by_this_user]\n",
    "\n",
    "unrated_items_by_pred_rating[:n]"
   ]
  },
  {
   "cell_type": "markdown",
   "metadata": {},
   "source": [
    "***\n",
    "***\n",
    "***"
   ]
  },
  {
   "cell_type": "markdown",
   "metadata": {},
   "source": [
    "## Item-item collaborative filter recommender OOP\n",
    "\n",
    "基本上和上面的例子一樣，只是改成了 OOP"
   ]
  },
  {
   "cell_type": "code",
   "execution_count": 132,
   "metadata": {},
   "outputs": [],
   "source": [
    "import numpy as np\n",
    "import pandas as pd\n",
    "from scipy import sparse\n",
    "from sklearn.metrics.pairwise import cosine_similarity\n",
    "from time import time"
   ]
  },
  {
   "cell_type": "code",
   "execution_count": 133,
   "metadata": {},
   "outputs": [],
   "source": [
    "class ItemItemRecommender(object):\n",
    "    def __init__(self, neighborhood_size):\n",
    "        self.neighborhood_size = neighborhood_size\n",
    "        \n",
    "    def fit(self, ratings_mat):\n",
    "        self.ratings_mat = ratings_mat\n",
    "        self.n_users = ratings_mat.shape[0]\n",
    "        self.n_items = ratings_mat.shape[1]\n",
    "        self.item_sim_mat = cosine_similarity(self.ratings_mat.T)\n",
    "        self._set_neighborhoods()\n",
    "    \n",
    "    def _set_neighborhoods(self):\n",
    "        lest_to_most_sim_indexes = np.argsort(self.item_sim_mat, 1) # 沿著 axis=1 由小到大排序\n",
    "        self.neighborhoods = least_to_most_sim_indexes[:, -self.neighborhood_size:]\n",
    "        \n",
    "    def pred_one_user(self, user_id, report_run_time=False):\n",
    "        start_time = time()\n",
    "        items_rated_by_this_user = self.ratings_mat[user_id].nonzero()[1]\n",
    "        # Just initializing so we have somewhere to put rating preds\n",
    "        out = np.zeros(self.n_items)\n",
    "        for item_to_rate in range(self.n_items):\n",
    "            relevant_items = np.intersect1d(self.neighborhoods[item_to_rate],\n",
    "                                            items_rated_by_this_user,\n",
    "                                            assume_unique = True) # assume_unique speeds up intersection op\n",
    "            out[item_to_rate] = self.ratings_mat[user_id, relevant_items] * \\\n",
    "                                self.item_sim_mat[item_to_rate, relevant_items] / \\\n",
    "                                self.item_sim_mat[item_to_rate, relevant_items].sum()\n",
    "        if report_run_time:\n",
    "            print('Execution time: %f seconds' % (time() - start_time))\n",
    "        cleaned_out = np.nan_to_num(out)\n",
    "        return cleaned_out\n",
    "    \n",
    "    def pred_all_users(self, report_run_time=False):\n",
    "        start_time = time()\n",
    "        all_ratings = [self.pred_one_user(user_id) for user_id in range(self.n_users)]\n",
    "        if report_run_time:\n",
    "            print('Execution time: %f seconds' % (time() - start_time))\n",
    "        return np.array(all_ratings)\n",
    "    \n",
    "    def top_n_recs(self, user_id, n):\n",
    "        pred_ratings = self.pred_one_user(user_id)\n",
    "        item_index_sorted_by_pred_rating = list(np.argsort(pred_ratings)) # 由小排到大\n",
    "        items_rated_by_this_user = self.ratings_mat[user_id].nonzero()[1]\n",
    "        unrated_items_by_pred_rating = [item for item in item_index_sorted_by_pred_rating\n",
    "                                        if item not in items_rated_by_this_user]\n",
    "        return unrated_items_by_pred_rating[-n:] # 由小排到大"
   ]
  },
  {
   "cell_type": "code",
   "execution_count": 134,
   "metadata": {},
   "outputs": [],
   "source": [
    "def get_ratings_data():\n",
    "    ratings_contents = pd.read_table('u.data', names=['user', 'movie', 'rating', 'timestamp'])\n",
    "    highest_user_id = ratings_contents.user.max()\n",
    "    highest_movie_id = ratings_contents.movie.max()\n",
    "    ratings_as_mat = sparse.lil_matrix((highest_user_id, highest_movie_id))\n",
    "    for _, row in ratings_contents.iterrows():\n",
    "        # subtract 1 from id's due to match 0 indexing\n",
    "        ratings_as_mat[row.user-1, row.movie-1] = row.rating\n",
    "    return ratings_contents, ratings_as_mat"
   ]
  },
  {
   "cell_type": "code",
   "execution_count": 135,
   "metadata": {},
   "outputs": [
    {
     "name": "stderr",
     "output_type": "stream",
     "text": [
      "/usr/local/anaconda3/lib/python3.6/site-packages/ipykernel_launcher.py:27: RuntimeWarning: invalid value encountered in true_divide\n"
     ]
    },
    {
     "name": "stdout",
     "output_type": "stream",
     "text": [
      "Execution time: 0.336443 seconds\n",
      "[3.92096581 0.         4.22667191 5.         3.         4.12129974\n",
      " 4.12270715 4.51573763 4.25033325 3.96728146 4.52131811 4.77319571\n",
      " 4.28984574 4.22706266 3.95359729 4.2187375  4.         0.\n",
      " 4.08150983 4.09468117 4.49941837 4.68221743 5.         4.29167448\n",
      " 3.98811888 4.         0.         4.50048038 0.         0.\n",
      " 5.         4.51098255 0.         1.         0.         0.\n",
      " 0.         0.         4.         0.         0.         5.\n",
      " 0.         0.         4.03896789 0.         5.         5.\n",
      " 4.         4.024775   0.         2.         0.         0.\n",
      " 4.65424237 4.77517535 4.44008013 5.         4.40553798 4.\n",
      " 4.         0.         0.         4.76072256 0.         5.\n",
      " 0.         0.         4.51901327 4.68065509 4.50077081 0.\n",
      " 5.         0.         0.         5.         0.         0.\n",
      " 4.53169888 0.         5.         4.52477679 4.68393868 0.\n",
      " 3.         5.         4.67728455 5.         5.         0.\n",
      " 4.50554461 4.         4.1675315  0.         4.4892519  4.53528985\n",
      " 5.         4.76697396 4.51103243 4.22265151]\n",
      "[1525, 694, 1660, 1496, 148, 1542, 1630, 1426, 655, 1536, 652, 776, 773, 1069, 1070, 1367, 1659, 1081, 1658, 1068]\n"
     ]
    }
   ],
   "source": [
    "ratings_data_contents, ratings_mat = get_ratings_data()\n",
    "my_rec_engine = ItemItemRecommender(neighborhood_size=75)\n",
    "my_rec_engine.fit(ratings_mat)\n",
    "user_1_preds = my_rec_engine.pred_one_user(user_id=1, report_run_time=True)\n",
    "\n",
    "# Show predicted ratings for user #1 on first 100 items\n",
    "print(user_1_preds[:100]) # user id 1 對 100 個電影的 rating\n",
    "print(my_rec_engine.top_n_recs(2, 20)) # user id 2 的電影 rating 前 20 名"
   ]
  },
  {
   "cell_type": "code",
   "execution_count": 136,
   "metadata": {},
   "outputs": [
    {
     "name": "stderr",
     "output_type": "stream",
     "text": [
      "/usr/local/anaconda3/lib/python3.6/site-packages/ipykernel_launcher.py:27: RuntimeWarning: invalid value encountered in true_divide\n"
     ]
    },
    {
     "data": {
      "text/plain": [
       "array([3.53360198, 4.        , 3.22344621, ..., 0.        , 0.        ,\n",
       "       2.        ])"
      ]
     },
     "execution_count": 136,
     "metadata": {},
     "output_type": "execute_result"
    }
   ],
   "source": [
    "my_rec_engine.pred_one_user(100) # user id 100 對電影的 rating"
   ]
  },
  {
   "cell_type": "code",
   "execution_count": 137,
   "metadata": {},
   "outputs": [
    {
     "name": "stderr",
     "output_type": "stream",
     "text": [
      "/usr/local/anaconda3/lib/python3.6/site-packages/ipykernel_launcher.py:27: RuntimeWarning: invalid value encountered in true_divide\n"
     ]
    },
    {
     "data": {
      "text/plain": [
       "1682"
      ]
     },
     "execution_count": 137,
     "metadata": {},
     "output_type": "execute_result"
    }
   ],
   "source": [
    "my_rec_engine.pred_one_user(100).size"
   ]
  },
  {
   "cell_type": "code",
   "execution_count": 138,
   "metadata": {},
   "outputs": [
    {
     "name": "stderr",
     "output_type": "stream",
     "text": [
      "/usr/local/anaconda3/lib/python3.6/site-packages/ipykernel_launcher.py:27: RuntimeWarning: invalid value encountered in true_divide\n"
     ]
    },
    {
     "data": {
      "text/plain": [
       "[650, 240, 315, 306, 314, 296, 339, 962, 1136, 1357]"
      ]
     },
     "execution_count": 138,
     "metadata": {},
     "output_type": "execute_result"
    }
   ],
   "source": [
    "my_rec_engine.top_n_recs(100, 10) # 由小排到大"
   ]
  },
  {
   "cell_type": "code",
   "execution_count": 139,
   "metadata": {},
   "outputs": [
    {
     "name": "stderr",
     "output_type": "stream",
     "text": [
      "/usr/local/anaconda3/lib/python3.6/site-packages/ipykernel_launcher.py:27: RuntimeWarning: invalid value encountered in true_divide\n"
     ]
    },
    {
     "data": {
      "text/plain": [
       "[1357, 1136, 962, 339, 296, 314, 306, 315, 240, 650]"
      ]
     },
     "execution_count": 139,
     "metadata": {},
     "output_type": "execute_result"
    }
   ],
   "source": [
    "my_rec_engine.top_n_recs(100, 10)[::-1] # 由大排到小"
   ]
  },
  {
   "cell_type": "markdown",
   "metadata": {},
   "source": [
    "***\n",
    "***\n",
    "***"
   ]
  },
  {
   "cell_type": "markdown",
   "metadata": {},
   "source": [
    "# Recommender with Graphlab Create\n",
    "\n",
    "要先註冊然後安裝 Graphlab"
   ]
  },
  {
   "cell_type": "code",
   "execution_count": null,
   "metadata": {},
   "outputs": [],
   "source": [
    "import numpy as np\n",
    "import graphlab\n",
    "import pandas as pd\n",
    "import matplotlib.pyplot as plt"
   ]
  },
  {
   "cell_type": "markdown",
   "metadata": {},
   "source": [
    "## Load data\n",
    "\n",
    "Load data in Dato's SFrame type"
   ]
  },
  {
   "cell_type": "code",
   "execution_count": null,
   "metadata": {},
   "outputs": [],
   "source": [
    "df = pd.read_table('u.data', names=['user', 'movie', 'rating', 'timestamp'])\n",
    "sf = graphlab.SFrame(df[['user', 'movie', 'rating']])"
   ]
  },
  {
   "cell_type": "markdown",
   "metadata": {},
   "source": [
    "## Create a matrix factorization model"
   ]
  },
  {
   "cell_type": "code",
   "execution_count": null,
   "metadata": {},
   "outputs": [],
   "source": [
    "rec = graphlab.recommender.factorization_recommender.create(\n",
    "    sf,\n",
    "    user_id='user',\n",
    "    item_id='movie',\n",
    "    target='rating',\n",
    "    solver='als',\n",
    "    side_data_factorization=False\n",
    ")"
   ]
  },
  {
   "cell_type": "markdown",
   "metadata": {},
   "source": [
    "## Prediction\n",
    "\n",
    "### 預測 user 1 對 movie 100 的評分是多少？\n",
    "\n",
    "用 `predict()`"
   ]
  },
  {
   "cell_type": "code",
   "execution_count": null,
   "metadata": {},
   "outputs": [],
   "source": [
    "one_datapoint_sf = graphlab.SFrame({'user': [1], 'movie': [100]})"
   ]
  },
  {
   "cell_type": "code",
   "execution_count": null,
   "metadata": {},
   "outputs": [],
   "source": [
    "one_datapoint_sf"
   ]
  },
  {
   "cell_type": "code",
   "execution_count": null,
   "metadata": {},
   "outputs": [],
   "source": [
    "print('rating:', rec.predict(one_datapoint_sf)[0])"
   ]
  },
  {
   "cell_type": "markdown",
   "metadata": {},
   "source": [
    "#### 檢查 model 中存了什麼樣的 data\n",
    "\n",
    "用 `list_fields()`"
   ]
  },
  {
   "cell_type": "code",
   "execution_count": null,
   "metadata": {},
   "outputs": [],
   "source": [
    "rec.list_fields()"
   ]
  },
  {
   "cell_type": "markdown",
   "metadata": {},
   "source": [
    "#### 檢查輸出"
   ]
  },
  {
   "cell_type": "code",
   "execution_count": null,
   "metadata": {},
   "outputs": [],
   "source": [
    "rec['coefficients']"
   ]
  },
  {
   "cell_type": "markdown",
   "metadata": {},
   "source": [
    "#### 檢查維度"
   ]
  },
  {
   "cell_type": "code",
   "execution_count": null,
   "metadata": {},
   "outputs": [],
   "source": [
    "movie_sf = rec['coefficients']['movie']\n",
    "print(len(movie_sf))\n",
    "print(len(movie_sf['factors'][0]))\n",
    "\n",
    "user_sf = rec['coefficients']['user']\n",
    "print(len(user_sf))\n",
    "print(len(user_sf['factors'][0]))"
   ]
  },
  {
   "cell_type": "markdown",
   "metadata": {},
   "source": [
    "### 計算預測的評分\n",
    "\n",
    "不要用 `predict()` 改成自己預測評分"
   ]
  },
  {
   "cell_type": "code",
   "execution_count": null,
   "metadata": {},
   "outputs": [],
   "source": [
    "movie_array = movie_sf[movie_sf['movie'] == 100]['factors'][0]\n",
    "user_array = user_sf[user_sf['user'] == 1]['factors'][0]\n",
    "\n",
    "intercept = rec['coefficients']['intercept']\n",
    "print('rating:', np.dot(movie_array, user_array) + intercept)"
   ]
  },
  {
   "cell_type": "markdown",
   "metadata": {},
   "source": [
    "intercept term 是 scaling factor，可以由原始數據中算全部 rating 平均來得到"
   ]
  },
  {
   "cell_type": "code",
   "execution_count": null,
   "metadata": {},
   "outputs": [],
   "source": [
    "print('intercept:', intercept)\n",
    "print('average:', np.average(sf['rating']))"
   ]
  },
  {
   "cell_type": "markdown",
   "metadata": {},
   "source": [
    "### 預測全部的評分"
   ]
  },
  {
   "cell_type": "code",
   "execution_count": null,
   "metadata": {},
   "outputs": [],
   "source": [
    "sf"
   ]
  },
  {
   "cell_type": "code",
   "execution_count": null,
   "metadata": {},
   "outputs": [],
   "source": []
  },
  {
   "cell_type": "code",
   "execution_count": null,
   "metadata": {},
   "outputs": [],
   "source": [
    "from sklearn.metrics import mean_squared_error\n",
    "\n",
    "predictions = rec.predict(sf)\n",
    "rmse = np.sqrt(mean_squared_error(sf['rating'], predictions))\n",
    "\n",
    "print(\"graphlab's reported rmse:\", rec['training_rmse'])\n",
    "print('calculated rmse:', rmse)"
   ]
  },
  {
   "cell_type": "markdown",
   "metadata": {},
   "source": [
    "#### 比較統計資料\n",
    "\n",
    "用 `pd.Series.describe()`"
   ]
  },
  {
   "cell_type": "code",
   "execution_count": null,
   "metadata": {},
   "outputs": [],
   "source": [
    "pd.Series(sf['rating']).describe()"
   ]
  },
  {
   "cell_type": "code",
   "execution_count": null,
   "metadata": {},
   "outputs": [],
   "source": [
    "pd.Series(predictions).describe()"
   ]
  },
  {
   "cell_type": "markdown",
   "metadata": {},
   "source": [
    "## Regularization"
   ]
  },
  {
   "cell_type": "code",
   "execution_count": null,
   "metadata": {},
   "outputs": [],
   "source": [
    "random_seed = 0\n",
    "rec2 = graphlab.recommender.factorization_recommender.create(\n",
    "    sf,\n",
    "    user_id='user',\n",
    "    item_id='movie',\n",
    "    target='rating',\n",
    "    solver='als',\n",
    "    side_data_factorization=False,\n",
    "    regularization=0,\n",
    "    random_seed=random_seed\n",
    ")\n",
    "print('Training RMSE with regularization 0:', rec2['training_rmse'])\n",
    "\n",
    "regularization_param = 1e-4\n",
    "rec3 = graphlab.recommender.factorization_recommender.create(\n",
    "    sf,\n",
    "    user_id='user',\n",
    "    item_id='movie',\n",
    "    target='rating',\n",
    "    solver='als',\n",
    "    side_data_factorization=False,\n",
    "    regularization=regularization_param,\n",
    "    random_seed=random_seed\n",
    ")\n",
    "print('Training RMSE with regularization %s:' % regularization_param, rec3['training_rmse'])"
   ]
  },
  {
   "cell_type": "markdown",
   "metadata": {},
   "source": [
    "## Model tuning to find the best parameters"
   ]
  },
  {
   "cell_type": "code",
   "execution_count": null,
   "metadata": {},
   "outputs": [],
   "source": [
    "kfolds = graphlab.cross_validation.KFold(sf, 5)\n",
    "params = dict(user_id='user',\n",
    "              item_id='movie',\n",
    "              target='rating',\n",
    "              solver='als',\n",
    "              side_data_factorization=False)\n",
    "\n",
    "param_search = graphlab.model_parameter_search.creat(\n",
    "    kfolds,\n",
    "    graphlab.recommender.factorization_recommender.create,\n",
    "    params\n",
    ")"
   ]
  },
  {
   "cell_type": "code",
   "execution_count": null,
   "metadata": {},
   "outputs": [],
   "source": [
    "param_search.get_status()"
   ]
  },
  {
   "cell_type": "markdown",
   "metadata": {},
   "source": [
    "#### Best models by different metrics"
   ]
  },
  {
   "cell_type": "code",
   "execution_count": null,
   "metadata": {},
   "outputs": [],
   "source": [
    "from pprint import pprint\n",
    "\n",
    "print('Best params by recall@5:')\n",
    "pprint(param_search.get_best_params('mean_validation_recall@5'))\n",
    "\n",
    "print('Best params by precision@5:')\n",
    "pprint(param_search.get_best_params('mean_validation_precision@5'))\n",
    "\n",
    "print('Best params by rmse:')\n",
    "pprint(param_search.get_best_params('mean_validation_rmse'))"
   ]
  },
  {
   "cell_type": "markdown",
   "metadata": {},
   "source": [
    "#### Latent features"
   ]
  },
  {
   "cell_type": "code",
   "execution_count": null,
   "metadata": {},
   "outputs": [],
   "source": [
    "lf_df = df.set_index(['user', 'movie'])[['rating']].unstack().fillna(0)\n",
    "lf_df"
   ]
  },
  {
   "cell_type": "code",
   "execution_count": null,
   "metadata": {},
   "outputs": [],
   "source": [
    "from scipy.spatial.distance import cdist\n",
    "\n",
    "lf_df = df.set_index(['user', 'movie'])[['rating']].unstack().fillna(0)\n",
    "user_df = user_sf[['user', 'factors']].sort('user').unpack('factors').to_dataframe()\n",
    "corr = cdist(lf_df.values.T, user_df.values.T, 'correlation')\n",
    "corr_df = pd.DataFrame(corr)\n",
    "corr_df.index = lf_df.columns.get_loc_level('rating')[1]\n",
    "\n",
    "col_names = ['movie_id', 'movid_title', 'release_date',\n",
    "             'video_release_date', 'imdb_url', 'unknown',\n",
    "             'action', 'adventure', 'animation',\n",
    "             \"children\\'s\", 'comedy', 'crime',\n",
    "             'documentary', 'drama', 'fantasy',\n",
    "             'film-noir', 'horror', 'musical', 'mystery',\n",
    "             'romance', 'sci-fi', 'thriller', 'war',\n",
    "             'western']\n",
    "\n",
    "movies = pd.read_table('u.item', sep='|', index_col=0, header=None, names=col_names)\n",
    "movies_with_corr = pd.concat([novies, corr_df], axis=1)"
   ]
  },
  {
   "cell_type": "code",
   "execution_count": null,
   "metadata": {},
   "outputs": [],
   "source": [
    "for i in xrange(1, 9):\n",
    "    print('Top movies for factor {0}:'.format(i))\n",
    "    top_five_movies = movies_with_corr.sort([i], ascending=False)['movie title'][:5]\n",
    "    print('    ' + '\\n    ' .join(top_five_movies) + '\\n')"
   ]
  },
  {
   "cell_type": "markdown",
   "metadata": {},
   "source": [
    "#### Topic topics for each latent feature"
   ]
  },
  {
   "cell_type": "code",
   "execution_count": null,
   "metadata": {},
   "outputs": [],
   "source": [
    "from collections import Counter\n",
    "\n",
    "print('Top topics for each factor:')\n",
    "for i in xrange(1, 9):\n",
    "    scores = Counter()\n",
    "    for topic in ['action', 'adventure', 'animation', \"children\\'s'\",\n",
    "                  'comedy', 'crime', 'documentary', 'drama', 'fantasy',\n",
    "                  'film-noir', 'horror', 'musical', 'mystery', 'romance',\n",
    "                  'sci-fi', 'thriller', 'war', 'western']:\n",
    "        scores[topic] = np.dot(movies_with_corr[i], movies_with_corr[topic]) / np.sum(movies_with_corr[topic])\n",
    "    top_topics = [topic for topic, score in scores.most_common(3)]\n",
    "    print('    Factor {0}: {1}'.format(i, ', '.join(top_topics)))"
   ]
  }
 ],
 "metadata": {
  "kernelspec": {
   "display_name": "Python 3",
   "language": "python",
   "name": "python3"
  },
  "language_info": {
   "codemirror_mode": {
    "name": "ipython",
    "version": 3
   },
   "file_extension": ".py",
   "mimetype": "text/x-python",
   "name": "python",
   "nbconvert_exporter": "python",
   "pygments_lexer": "ipython3",
   "version": "3.7.1"
  }
 },
 "nbformat": 4,
 "nbformat_minor": 2
}
