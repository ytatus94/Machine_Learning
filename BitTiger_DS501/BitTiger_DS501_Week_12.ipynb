{
 "cells": [
  {
   "cell_type": "markdown",
   "metadata": {},
   "source": [
    "# BitTiger DS501 Week 12\n",
    "\n",
    "1. [FFNN](#5.-Build-model)\n",
    "2. [RNN](#10.-Build-RNN-model)\n",
    "3. [Multiple-layers RNN](#11.-Multiple-layers-RNN)\n",
    "4. [Bi-directional RNN](#12.-Bi-directional RNN)\n",
    "2. [Pretrained embedding](#13.-Pretrained-embedding)"
   ]
  },
  {
   "cell_type": "markdown",
   "metadata": {},
   "source": [
    "# Sentiment Analysis using IMDB movie reviews"
   ]
  },
  {
   "cell_type": "code",
   "execution_count": 1,
   "metadata": {},
   "outputs": [
    {
     "name": "stdout",
     "output_type": "stream",
     "text": [
      "1.12.0\n"
     ]
    }
   ],
   "source": [
    "import tensorflow as tf\n",
    "from tensorflow import keras\n",
    "from tensorflow.keras import backend as K\n",
    "from tensorflow.keras.layers import Embedding, Bidirectional, LSTM, CuDNNLSTM\n",
    "from tensorflow.keras.layers import Dropout, Dense, GlobalAveragePooling1D\n",
    "\n",
    "print(tf.__version__)"
   ]
  },
  {
   "cell_type": "code",
   "execution_count": 2,
   "metadata": {},
   "outputs": [],
   "source": [
    "import matplotlib.pyplot as plt\n",
    "import numpy as np"
   ]
  },
  {
   "cell_type": "markdown",
   "metadata": {},
   "source": [
    "## 1. Download IMDB dataset\n",
    "\n",
    "IMDB reviews 是 sequence of words 已經被轉換成 sequence of integers\n",
    "\n",
    "```python\n",
    "def load_data(path='imdb.npz', num_words=None, skip_top=0, maxlen=None, seed=113,\n",
    "              start_char=1, oov_char=2, index_from=3, **kwargs):\n",
    "```\n",
    "oov 表示 out of vocabulary"
   ]
  },
  {
   "cell_type": "code",
   "execution_count": 3,
   "metadata": {},
   "outputs": [],
   "source": [
    "vocab_size = 10000 # 設定 reviews 中只使用 10,000 常用的字，罕用字會被 oov_char 取代\n",
    "\n",
    "(train_data, train_labels), (test_data, test_labels) = keras.datasets.imdb.load_data(num_words=vocab_size)"
   ]
  },
  {
   "cell_type": "code",
   "execution_count": 4,
   "metadata": {},
   "outputs": [
    {
     "name": "stdout",
     "output_type": "stream",
     "text": [
      "<class 'numpy.ndarray'> <class 'numpy.ndarray'> <class 'numpy.ndarray'> <class 'numpy.ndarray'>\n"
     ]
    }
   ],
   "source": [
    "print(type(train_data), type(train_labels), type(test_data), type(test_labels))"
   ]
  },
  {
   "cell_type": "code",
   "execution_count": 5,
   "metadata": {},
   "outputs": [
    {
     "name": "stdout",
     "output_type": "stream",
     "text": [
      "(25000,) (25000,) (25000,) (25000,)\n"
     ]
    }
   ],
   "source": [
    "print(train_data.shape, train_labels.shape, test_data.shape, test_labels.shape)"
   ]
  },
  {
   "cell_type": "markdown",
   "metadata": {},
   "source": [
    "### special words:\n",
    "* `<PAD>`: padding\n",
    "* `<SOS>`: start of sentence\n",
    "* `<UNK>`: unknown\n",
    "\n",
    "要把這三個加到 imdb 的 word 與 integer 對應的字典裡"
   ]
  },
  {
   "cell_type": "code",
   "execution_count": 6,
   "metadata": {},
   "outputs": [],
   "source": [
    "word_index = keras.datasets.imdb.get_word_index() # imdb 內建的字典，用來 mapping 單字與對應的整數\n",
    "\n",
    "# 通常把 <PAD>, <SOS>, <UNK> 加在最前面，所以要把原本的字典對應的整數往後移\n",
    "word_index = {k:(v+3) for k, v in word_index.items()}\n",
    "\n",
    "# <PAD>, <SOS>, <UNK> 習慣上對應的數字是 0, 1, 2\n",
    "word_index['<PAD>'] = 0\n",
    "word_index['<SOS>'] = 1\n",
    "word_index['<UNK>'] = 2"
   ]
  },
  {
   "cell_type": "markdown",
   "metadata": {},
   "source": [
    "### 數字轉換回單字\n",
    "\n",
    "imdb 只有提供把單字轉成數字的字典，要自己做一個把數字轉回單字的，不然只看數字也不知道是啥"
   ]
  },
  {
   "cell_type": "code",
   "execution_count": 7,
   "metadata": {},
   "outputs": [],
   "source": [
    "reverse_word_index = {v:k for k, v in word_index.items()} # 數字對應到單字\n",
    "\n",
    "def decode_review(text):\n",
    "    words = [reverse_word_index.get(i, '<UNK>') for i in text] # 找不到就傳回 <UNK>\n",
    "    \n",
    "    fixed_width_string = []\n",
    "    max_len = 10\n",
    "    for w_pos in range(len(words)):\n",
    "        fixed_width_string.append(words[w_pos])\n",
    "        if (w_pos + 1) % max_len == 0: # 每 10 個字就一行，要加 1 是因為 index 是從 0 開始算的原故。這一步只是要方便顯示，太長的話不容易閱讀。\n",
    "            fixed_width_string.append('\\n')\n",
    "    return ' '.join(fixed_width_string)"
   ]
  },
  {
   "cell_type": "markdown",
   "metadata": {},
   "source": [
    "## 2. 檢查內容是否正確\n",
    "\n",
    "輸入是代表評論中的單字的整數，輸出是 0 表示負評，輸出是 1 表示好評\n",
    "\n",
    "### 檢查輸入和輸出的數目是否相等"
   ]
  },
  {
   "cell_type": "code",
   "execution_count": 8,
   "metadata": {},
   "outputs": [
    {
     "name": "stdout",
     "output_type": "stream",
     "text": [
      "Training dataset: 25000 reviews, 25000 labels\n"
     ]
    }
   ],
   "source": [
    "print('Training dataset: {} reviews, {} labels'.format(len(train_data), len(train_labels)))"
   ]
  },
  {
   "cell_type": "markdown",
   "metadata": {},
   "source": [
    "### 檢查輸入的內容和 label"
   ]
  },
  {
   "cell_type": "code",
   "execution_count": 9,
   "metadata": {},
   "outputs": [
    {
     "name": "stdout",
     "output_type": "stream",
     "text": [
      "Word IDs:\n",
      "[list([1, 14, 22, 16, 43, 530, 973, 1622, 1385, 65, 458, 4468, 66, 3941, 4, 173, 36, 256, 5, 25, 100, 43, 838, 112, 50, 670, 2, 9, 35, 480, 284, 5, 150, 4, 172, 112, 167, 2, 336, 385, 39, 4, 172, 4536, 1111, 17, 546, 38, 13, 447, 4, 192, 50, 16, 6, 147, 2025, 19, 14, 22, 4, 1920, 4613, 469, 4, 22, 71, 87, 12, 16, 43, 530, 38, 76, 15, 13, 1247, 4, 22, 17, 515, 17, 12, 16, 626, 18, 2, 5, 62, 386, 12, 8, 316, 8, 106, 5, 4, 2223, 5244, 16, 480, 66, 3785, 33, 4, 130, 12, 16, 38, 619, 5, 25, 124, 51, 36, 135, 48, 25, 1415, 33, 6, 22, 12, 215, 28, 77, 52, 5, 14, 407, 16, 82, 2, 8, 4, 107, 117, 5952, 15, 256, 4, 2, 7, 3766, 5, 723, 36, 71, 43, 530, 476, 26, 400, 317, 46, 7, 4, 2, 1029, 13, 104, 88, 4, 381, 15, 297, 98, 32, 2071, 56, 26, 141, 6, 194, 7486, 18, 4, 226, 22, 21, 134, 476, 26, 480, 5, 144, 30, 5535, 18, 51, 36, 28, 224, 92, 25, 104, 4, 226, 65, 16, 38, 1334, 88, 12, 16, 283, 5, 16, 4472, 113, 103, 32, 15, 16, 5345, 19, 178, 32])\n",
      " list([1, 194, 1153, 194, 8255, 78, 228, 5, 6, 1463, 4369, 5012, 134, 26, 4, 715, 8, 118, 1634, 14, 394, 20, 13, 119, 954, 189, 102, 5, 207, 110, 3103, 21, 14, 69, 188, 8, 30, 23, 7, 4, 249, 126, 93, 4, 114, 9, 2300, 1523, 5, 647, 4, 116, 9, 35, 8163, 4, 229, 9, 340, 1322, 4, 118, 9, 4, 130, 4901, 19, 4, 1002, 5, 89, 29, 952, 46, 37, 4, 455, 9, 45, 43, 38, 1543, 1905, 398, 4, 1649, 26, 6853, 5, 163, 11, 3215, 2, 4, 1153, 9, 194, 775, 7, 8255, 2, 349, 2637, 148, 605, 2, 8003, 15, 123, 125, 68, 2, 6853, 15, 349, 165, 4362, 98, 5, 4, 228, 9, 43, 2, 1157, 15, 299, 120, 5, 120, 174, 11, 220, 175, 136, 50, 9, 4373, 228, 8255, 5, 2, 656, 245, 2350, 5, 4, 9837, 131, 152, 491, 18, 2, 32, 7464, 1212, 14, 9, 6, 371, 78, 22, 625, 64, 1382, 9, 8, 168, 145, 23, 4, 1690, 15, 16, 4, 1355, 5, 28, 6, 52, 154, 462, 33, 89, 78, 285, 16, 145, 95])\n",
      " list([1, 14, 47, 8, 30, 31, 7, 4, 249, 108, 7, 4, 5974, 54, 61, 369, 13, 71, 149, 14, 22, 112, 4, 2401, 311, 12, 16, 3711, 33, 75, 43, 1829, 296, 4, 86, 320, 35, 534, 19, 263, 4821, 1301, 4, 1873, 33, 89, 78, 12, 66, 16, 4, 360, 7, 4, 58, 316, 334, 11, 4, 1716, 43, 645, 662, 8, 257, 85, 1200, 42, 1228, 2578, 83, 68, 3912, 15, 36, 165, 1539, 278, 36, 69, 2, 780, 8, 106, 14, 6905, 1338, 18, 6, 22, 12, 215, 28, 610, 40, 6, 87, 326, 23, 2300, 21, 23, 22, 12, 272, 40, 57, 31, 11, 4, 22, 47, 6, 2307, 51, 9, 170, 23, 595, 116, 595, 1352, 13, 191, 79, 638, 89, 2, 14, 9, 8, 106, 607, 624, 35, 534, 6, 227, 7, 129, 113])]\n",
      "<SOS> this film was just brilliant casting location scenery story \n",
      " direction everyone's really suited the part they played and you \n",
      " could just imagine being there robert <UNK> is an amazing \n",
      " actor and now the same being director <UNK> father came \n",
      " from the same scottish island as myself so i loved \n",
      " the fact there was a real connection with this film \n",
      " the witty remarks throughout the film were great it was \n",
      " just brilliant so much that i bought the film as \n",
      " soon as it was released for <UNK> and would recommend \n",
      " it to everyone to watch and the fly fishing was \n",
      " amazing really cried at the end it was so sad \n",
      " and you know what they say if you cry at \n",
      " a film it must have been good and this definitely \n",
      " was also <UNK> to the two little boy's that played \n",
      " the <UNK> of norman and paul they were just brilliant \n",
      " children are often left out of the <UNK> list i \n",
      " think because the stars that play them all grown up \n",
      " are such a big profile for the whole film but \n",
      " these children are amazing and should be praised for what \n",
      " they have done don't you think the whole story was \n",
      " so lovely because it was true and was someone's life \n",
      " after all that was shared with us all\n",
      "<SOS> big hair big boobs bad music and a giant \n",
      " safety pin these are the words to best describe this \n",
      " terrible movie i love cheesy horror movies and i've seen \n",
      " hundreds but this had got to be on of the \n",
      " worst ever made the plot is paper thin and ridiculous \n",
      " the acting is an abomination the script is completely laughable \n",
      " the best is the end showdown with the cop and \n",
      " how he worked out who the killer is it's just \n",
      " so damn terribly written the clothes are sickening and funny \n",
      " in equal <UNK> the hair is big lots of boobs \n",
      " <UNK> men wear those cut <UNK> shirts that show off \n",
      " their <UNK> sickening that men actually wore them and the \n",
      " music is just <UNK> trash that plays over and over \n",
      " again in almost every scene there is trashy music boobs \n",
      " and <UNK> taking away bodies and the gym still doesn't \n",
      " close for <UNK> all joking aside this is a truly \n",
      " bad film whose only charm is to look back on \n",
      " the disaster that was the 80's and have a good \n",
      " old laugh at how bad everything was back then\n",
      "<SOS> this has to be one of the worst films \n",
      " of the 1990s when my friends i were watching this \n",
      " film being the target audience it was aimed at we \n",
      " just sat watched the first half an hour with our \n",
      " jaws touching the floor at how bad it really was \n",
      " the rest of the time everyone else in the theatre \n",
      " just started talking to each other leaving or generally crying \n",
      " into their popcorn that they actually paid money they had \n",
      " <UNK> working to watch this feeble excuse for a film \n",
      " it must have looked like a great idea on paper \n",
      " but on film it looks like no one in the \n",
      " film has a clue what is going on crap acting \n",
      " crap costumes i can't get across how <UNK> this is \n",
      " to watch save yourself an hour a bit of your \n",
      " life\n",
      "labels:\n",
      "[1 0 0]\n"
     ]
    }
   ],
   "source": [
    "print('Word IDs:')\n",
    "print(train_data[:3]) # 前三條評論，顯示的是整數\n",
    "\n",
    "for i in range(3):\n",
    "    print(decode_review(train_data[i])) # 把整數轉回單字看真正的評論寫了什麼，也可以驗證 decode_review() 沒問題\n",
    "    \n",
    "print('labels:')\n",
    "print(train_labels[:3]) # 前三條評論是好評或是負評"
   ]
  },
  {
   "cell_type": "markdown",
   "metadata": {},
   "source": [
    "## 3. 整理輸入值\n",
    "\n",
    "每條評論的內容，長度不一樣"
   ]
  },
  {
   "cell_type": "code",
   "execution_count": 10,
   "metadata": {},
   "outputs": [
    {
     "name": "stdout",
     "output_type": "stream",
     "text": [
      "218 189\n"
     ]
    }
   ],
   "source": [
    "print(len(train_data[0]), len(train_data[1]))"
   ]
  },
  {
   "cell_type": "markdown",
   "metadata": {},
   "source": [
    "* 要把評論的長度改成一樣長，太短的評論要在前面加上 `<PAD>`\n",
    "  * 用 `pad_sequences()`\n",
    "* 用 `maxlen` 設定最常要多長\n",
    "  * 如果 `maxlen=None` 就會把短的評論的長度拉成跟最長的評論一樣長，利用的方式是在前方填上 `<PAD>`\n",
    "    * 要指定 `padding='pre'` 表示把 `<PAD>` 加在前面\n",
    "  * 如果有設定 `maxlen` 那就要設定 `truncating='pre'` 表示太長時要砍掉前面，因為通常重點會在後面"
   ]
  },
  {
   "cell_type": "code",
   "execution_count": 11,
   "metadata": {},
   "outputs": [],
   "source": [
    "train_data = keras.preprocessing.sequence.pad_sequences(train_data, value=word_index['<PAD>'], padding='pre', truncating='pre', maxlen=100)\n",
    "test_data  = keras.preprocessing.sequence.pad_sequences(test_data,  value=word_index['<PAD>'], padding='pre', truncating='pre', maxlen=100)"
   ]
  },
  {
   "cell_type": "markdown",
   "metadata": {},
   "source": [
    "整理好後檢查一下評論是否一樣長了"
   ]
  },
  {
   "cell_type": "code",
   "execution_count": 12,
   "metadata": {},
   "outputs": [
    {
     "name": "stdout",
     "output_type": "stream",
     "text": [
      "100 100\n"
     ]
    }
   ],
   "source": [
    "print(len(train_data[0]), len(train_data[1]))"
   ]
  },
  {
   "cell_type": "markdown",
   "metadata": {},
   "source": [
    "看整理過後的評論變怎樣"
   ]
  },
  {
   "cell_type": "code",
   "execution_count": 13,
   "metadata": {},
   "outputs": [
    {
     "name": "stdout",
     "output_type": "stream",
     "text": [
      "[1301    4 1873   33   89   78   12   66   16    4  360    7    4   58\n",
      "  316  334   11    4 1716   43  645  662    8  257   85 1200   42 1228\n",
      " 2578   83   68 3912   15   36  165 1539  278   36   69    2  780    8\n",
      "  106   14 6905 1338   18    6   22   12  215   28  610   40    6   87\n",
      "  326   23 2300   21   23   22   12  272   40   57   31   11    4   22\n",
      "   47    6 2307   51    9  170   23  595  116  595 1352   13  191   79\n",
      "  638   89    2   14    9    8  106  607  624   35  534    6  227    7\n",
      "  129  113]\n",
      "touching the floor at how bad it really was the \n",
      " rest of the time everyone else in the theatre just \n",
      " started talking to each other leaving or generally crying into \n",
      " their popcorn that they actually paid money they had <UNK> \n",
      " working to watch this feeble excuse for a film it \n",
      " must have looked like a great idea on paper but \n",
      " on film it looks like no one in the film \n",
      " has a clue what is going on crap acting crap \n",
      " costumes i can't get across how <UNK> this is to \n",
      " watch save yourself an hour a bit of your life \n",
      "\n"
     ]
    }
   ],
   "source": [
    "print(train_data[2])\n",
    "print(decode_review(train_data[2]))"
   ]
  },
  {
   "cell_type": "markdown",
   "metadata": {},
   "source": [
    "較短的評論前方也被加上了 `<PAD>`"
   ]
  },
  {
   "cell_type": "code",
   "execution_count": 14,
   "metadata": {},
   "outputs": [
    {
     "name": "stdout",
     "output_type": "stream",
     "text": [
      "[   0    0    0    0    0    0    0    0    0    0    0    0    0    0\n",
      "    0    0    0    0    0    0    0    0    0    0    0    0    0    0\n",
      "    0    0    0    0    0    0    0    0    0    0    0    0    0    0\n",
      "    0    0    0    0    0    0    0    0    0    0    0    0    0    0\n",
      "    0    1  778  128   74   12  630  163   15    4 1766 7982 1051    2\n",
      "   32   85  156   45   40  148  139  121  664  665   10   10 1361  173\n",
      "    4  749    2   16 3804    8    4  226   65   12   43  127   24    2\n",
      "   10   10]\n",
      "<PAD> <PAD> <PAD> <PAD> <PAD> <PAD> <PAD> <PAD> <PAD> <PAD> \n",
      " <PAD> <PAD> <PAD> <PAD> <PAD> <PAD> <PAD> <PAD> <PAD> <PAD> \n",
      " <PAD> <PAD> <PAD> <PAD> <PAD> <PAD> <PAD> <PAD> <PAD> <PAD> \n",
      " <PAD> <PAD> <PAD> <PAD> <PAD> <PAD> <PAD> <PAD> <PAD> <PAD> \n",
      " <PAD> <PAD> <PAD> <PAD> <PAD> <PAD> <PAD> <PAD> <PAD> <PAD> \n",
      " <PAD> <PAD> <PAD> <PAD> <PAD> <PAD> <PAD> <SOS> begins better \n",
      " than it ends funny that the russian submarine crew <UNK> \n",
      " all other actors it's like those scenes where documentary shots \n",
      " br br spoiler part the message <UNK> was contrary to \n",
      " the whole story it just does not <UNK> br br \n",
      "\n"
     ]
    }
   ],
   "source": [
    "print(train_data[5])\n",
    "print(decode_review(train_data[5]))"
   ]
  },
  {
   "cell_type": "markdown",
   "metadata": {},
   "source": [
    "## 4. 建立 Validation dataset\n",
    "\n",
    "用前面 1000 筆當作 validation dataset，剩下的才是 training samples"
   ]
  },
  {
   "cell_type": "code",
   "execution_count": 15,
   "metadata": {},
   "outputs": [],
   "source": [
    "X_validate = train_data[:1000]\n",
    "y_validate = train_labels[:1000]\n",
    "\n",
    "X_train = train_data[1000:]\n",
    "y_train = train_labels[1000:]"
   ]
  },
  {
   "cell_type": "markdown",
   "metadata": {},
   "source": [
    "## 5. Build model\n",
    "\n",
    "* 要有幾層？\n",
    "* 每一層要有多少個神經元？"
   ]
  },
  {
   "cell_type": "code",
   "execution_count": 16,
   "metadata": {},
   "outputs": [
    {
     "name": "stdout",
     "output_type": "stream",
     "text": [
      "_________________________________________________________________\n",
      "Layer (type)                 Output Shape              Param #   \n",
      "=================================================================\n",
      "embedding (Embedding)        (None, None, 100)         1000000   \n",
      "_________________________________________________________________\n",
      "global_average_pooling1d (Gl (None, 100)               0         \n",
      "_________________________________________________________________\n",
      "dense (Dense)                (None, 16)                1616      \n",
      "_________________________________________________________________\n",
      "dense_1 (Dense)              (None, 1)                 17        \n",
      "=================================================================\n",
      "Total params: 1,001,633\n",
      "Trainable params: 1,001,633\n",
      "Non-trainable params: 0\n",
      "_________________________________________________________________\n"
     ]
    }
   ],
   "source": [
    "model = keras.Sequential()\n",
    "model.add(Embedding(vocab_size, 100)) # 把 10000 個單字 map 到 100 維\n",
    "model.add(GlobalAveragePooling1D())\n",
    "model.add(Dense(16, activation=tf.nn.relu)) # 只有一層 fully connected 的 hidden layer，用 ReLU 當 activation\n",
    "model.add(Dense(1, activation=tf.nn.sigmoid))\n",
    "model.compile(optimizer=tf.train.AdamOptimizer(), loss='binary_crossentropy', metrics=['accuracy'])\n",
    "model.summary()"
   ]
  },
  {
   "cell_type": "markdown",
   "metadata": {},
   "source": [
    "# 6. Train model"
   ]
  },
  {
   "cell_type": "code",
   "execution_count": 17,
   "metadata": {},
   "outputs": [
    {
     "name": "stdout",
     "output_type": "stream",
     "text": [
      "Train on 24000 samples, validate on 1000 samples\n",
      "Epoch 1/10\n",
      "24000/24000 [==============================] - 10s 406us/step - loss: 0.5498 - acc: 0.7565 - val_loss: 0.3721 - val_acc: 0.8240\n",
      "Epoch 2/10\n",
      "24000/24000 [==============================] - 10s 405us/step - loss: 0.3089 - acc: 0.8735 - val_loss: 0.3195 - val_acc: 0.8510\n",
      "Epoch 3/10\n",
      "24000/24000 [==============================] - 10s 405us/step - loss: 0.2450 - acc: 0.9030 - val_loss: 0.3185 - val_acc: 0.8470\n",
      "Epoch 4/10\n",
      "24000/24000 [==============================] - 9s 371us/step - loss: 0.2095 - acc: 0.9179 - val_loss: 0.3269 - val_acc: 0.8470\n",
      "Epoch 5/10\n",
      "24000/24000 [==============================] - 9s 382us/step - loss: 0.1847 - acc: 0.9302 - val_loss: 0.3456 - val_acc: 0.8420\n",
      "Epoch 6/10\n",
      "24000/24000 [==============================] - 10s 416us/step - loss: 0.1634 - acc: 0.9411 - val_loss: 0.3724 - val_acc: 0.8410\n",
      "Epoch 7/10\n",
      "24000/24000 [==============================] - 9s 374us/step - loss: 0.1460 - acc: 0.9497 - val_loss: 0.4128 - val_acc: 0.8370\n",
      "Epoch 8/10\n",
      "24000/24000 [==============================] - 9s 365us/step - loss: 0.1314 - acc: 0.9552 - val_loss: 0.4419 - val_acc: 0.8440\n",
      "Epoch 9/10\n",
      "24000/24000 [==============================] - 9s 362us/step - loss: 0.1177 - acc: 0.9607 - val_loss: 0.4802 - val_acc: 0.8400\n",
      "Epoch 10/10\n",
      "24000/24000 [==============================] - 9s 362us/step - loss: 0.1049 - acc: 0.9675 - val_loss: 0.5149 - val_acc: 0.8330\n"
     ]
    }
   ],
   "source": [
    "history = model.fit(X_train, y_train, epochs=10, batch_size=100, validation_data=(X_validate, y_validate))"
   ]
  },
  {
   "cell_type": "markdown",
   "metadata": {},
   "source": [
    "# 7. Evaluate model"
   ]
  },
  {
   "cell_type": "code",
   "execution_count": 18,
   "metadata": {},
   "outputs": [
    {
     "name": "stdout",
     "output_type": "stream",
     "text": [
      "25000/25000 [==============================] - 1s 38us/step\n",
      "[0.5872641475129128, 0.82132]\n"
     ]
    }
   ],
   "source": [
    "results = model.evaluate(test_data, test_labels)\n",
    "print(results)"
   ]
  },
  {
   "cell_type": "markdown",
   "metadata": {},
   "source": [
    "# 8. Plot\n",
    "\n",
    "把 loss 和 accuracy 隨著 epoch 變化的走勢畫出來"
   ]
  },
  {
   "cell_type": "code",
   "execution_count": 19,
   "metadata": {},
   "outputs": [],
   "source": [
    "def plot_hist(history):\n",
    "    history_dict = history.history\n",
    "    \n",
    "    acc = history_dict['acc']\n",
    "    loss = history_dict['loss']\n",
    "    \n",
    "    val_acc = history_dict['val_acc']\n",
    "    val_loss = history_dict['val_loss']\n",
    "    \n",
    "    epochs = range(1, len(acc) + 1)\n",
    "    \n",
    "    # Plot loss\n",
    "    plt.clf() # clear plot\n",
    "    plt.plot(epochs, loss, 'bo', label='Train loss') # 'bo': blue dot\n",
    "    plt.plot(epochs, val_loss, 'r', label='Validation loss')\n",
    "    plt.title('Train and validation loss')\n",
    "    plt.xlabel('Epochs')\n",
    "    plt.ylabel('Loss')\n",
    "    plt.legend()\n",
    "    plt.show()\n",
    "    \n",
    "    # Plot accuracy\n",
    "    plt.clf() # clear plot\n",
    "    plt.plot(epochs, acc, 'bo', label='Train acc') # 'bo': blue dot\n",
    "    plt.plot(epochs, val_acc, 'r', label='Validation acc')\n",
    "    plt.title('Train and validation accuracy')\n",
    "    plt.xlabel('Epochs')\n",
    "    plt.ylabel('Accuracy')\n",
    "    plt.legend()\n",
    "    plt.show()"
   ]
  },
  {
   "cell_type": "code",
   "execution_count": 20,
   "metadata": {},
   "outputs": [
    {
     "data": {
      "image/png": "[encoded data removed]",
      "text/plain": [
       "<Figure size 432x288 with 1 Axes>"
      ]
     },
     "metadata": {
      "needs_background": "light"
     },
     "output_type": "display_data"
    },
    {
     "data": {
      "image/png": "[encoded data removed]",
      "text/plain": [
       "<Figure size 432x288 with 1 Axes>"
      ]
     },
     "metadata": {
      "needs_background": "light"
     },
     "output_type": "display_data"
    }
   ],
   "source": [
    "plot_hist(history)"
   ]
  },
  {
   "cell_type": "markdown",
   "metadata": {},
   "source": [
    "# 9. 處裡 Overfitting\n",
    "\n",
    "\n",
    "### Build model\n",
    "\n",
    "使用 `Dropout()` 來處理 overfitting 的問題"
   ]
  },
  {
   "cell_type": "code",
   "execution_count": 21,
   "metadata": {},
   "outputs": [
    {
     "name": "stdout",
     "output_type": "stream",
     "text": [
      "_________________________________________________________________\n",
      "Layer (type)                 Output Shape              Param #   \n",
      "=================================================================\n",
      "embedding (Embedding)        (None, None, 100)         1000000   \n",
      "_________________________________________________________________\n",
      "global_average_pooling1d (Gl (None, 100)               0         \n",
      "_________________________________________________________________\n",
      "dense (Dense)                (None, 16)                1616      \n",
      "_________________________________________________________________\n",
      "dropout (Dropout)            (None, 16)                0         \n",
      "_________________________________________________________________\n",
      "dense_1 (Dense)              (None, 1)                 17        \n",
      "=================================================================\n",
      "Total params: 1,001,633\n",
      "Trainable params: 1,001,633\n",
      "Non-trainable params: 0\n",
      "_________________________________________________________________\n"
     ]
    }
   ],
   "source": [
    "# 先清除掉前面的 model\n",
    "model = None\n",
    "K.clear_session()\n",
    "\n",
    "# 在 model 中加上 Dropout() 後重跑一次\n",
    "model = keras.Sequential()\n",
    "model.add(Embedding(vocab_size, 100)) # 把 10000 個單字 map 到 100 維\n",
    "model.add(GlobalAveragePooling1D())\n",
    "model.add(Dense(16, activation=tf.nn.relu)) # 只有一層 fully connected 的 hidden layer，用 ReLU 當 activation\n",
    "model.add(Dropout(0.5)) # 只有這裡是新的，其他部分維持和原本的一樣\n",
    "model.add(Dense(1, activation=tf.nn.sigmoid))\n",
    "model.compile(optimizer=tf.train.AdamOptimizer(), loss='binary_crossentropy', metrics=['accuracy'])\n",
    "model.summary()"
   ]
  },
  {
   "cell_type": "markdown",
   "metadata": {},
   "source": [
    "### Train model and make plot\n",
    "\n",
    "因為有加上 `Dropout()` ，數據量變少了，所以需要多跑幾個 epochs"
   ]
  },
  {
   "cell_type": "code",
   "execution_count": 22,
   "metadata": {},
   "outputs": [
    {
     "name": "stdout",
     "output_type": "stream",
     "text": [
      "Train on 24000 samples, validate on 1000 samples\n",
      "Epoch 1/20\n",
      "24000/24000 [==============================] - 9s 390us/step - loss: 0.5821 - acc: 0.7321 - val_loss: 0.4008 - val_acc: 0.8330\n",
      "Epoch 2/20\n",
      "24000/24000 [==============================] - 9s 363us/step - loss: 0.3566 - acc: 0.8594 - val_loss: 0.3256 - val_acc: 0.8430\n",
      "Epoch 3/20\n",
      "24000/24000 [==============================] - 9s 360us/step - loss: 0.2848 - acc: 0.8900 - val_loss: 0.3142 - val_acc: 0.8470\n",
      "Epoch 4/20\n",
      "24000/24000 [==============================] - 9s 361us/step - loss: 0.2484 - acc: 0.9120 - val_loss: 0.3214 - val_acc: 0.8530\n",
      "Epoch 5/20\n",
      "24000/24000 [==============================] - 9s 361us/step - loss: 0.2223 - acc: 0.9247 - val_loss: 0.3354 - val_acc: 0.8490\n",
      "Epoch 6/20\n",
      "24000/24000 [==============================] - 9s 360us/step - loss: 0.2024 - acc: 0.9354 - val_loss: 0.3526 - val_acc: 0.8450\n",
      "Epoch 7/20\n",
      "24000/24000 [==============================] - 9s 362us/step - loss: 0.1801 - acc: 0.9468 - val_loss: 0.3722 - val_acc: 0.8460\n",
      "Epoch 8/20\n",
      "24000/24000 [==============================] - 9s 373us/step - loss: 0.1615 - acc: 0.9534 - val_loss: 0.3968 - val_acc: 0.8420\n",
      "Epoch 9/20\n",
      "24000/24000 [==============================] - 10s 423us/step - loss: 0.1471 - acc: 0.9587 - val_loss: 0.4266 - val_acc: 0.8360\n",
      "Epoch 10/20\n",
      "24000/24000 [==============================] - 9s 384us/step - loss: 0.1344 - acc: 0.9648 - val_loss: 0.4594 - val_acc: 0.8350\n",
      "Epoch 11/20\n",
      "24000/24000 [==============================] - 9s 360us/step - loss: 0.1265 - acc: 0.9688 - val_loss: 0.4899 - val_acc: 0.8430\n",
      "Epoch 12/20\n",
      "24000/24000 [==============================] - 9s 376us/step - loss: 0.1151 - acc: 0.9694 - val_loss: 0.5409 - val_acc: 0.8390\n",
      "Epoch 13/20\n",
      "24000/24000 [==============================] - 10s 398us/step - loss: 0.1049 - acc: 0.9716 - val_loss: 0.5877 - val_acc: 0.8440\n",
      "Epoch 14/20\n",
      "24000/24000 [==============================] - 11s 473us/step - loss: 0.0975 - acc: 0.9733 - val_loss: 0.6111 - val_acc: 0.8360\n",
      "Epoch 15/20\n",
      "24000/24000 [==============================] - 11s 465us/step - loss: 0.0876 - acc: 0.9758 - val_loss: 0.6538 - val_acc: 0.8350\n",
      "Epoch 16/20\n",
      "24000/24000 [==============================] - 10s 408us/step - loss: 0.0784 - acc: 0.9786 - val_loss: 0.7108 - val_acc: 0.8300\n",
      "Epoch 17/20\n",
      "24000/24000 [==============================] - 9s 388us/step - loss: 0.0706 - acc: 0.9802 - val_loss: 0.7591 - val_acc: 0.8290\n",
      "Epoch 18/20\n",
      "24000/24000 [==============================] - 9s 369us/step - loss: 0.0662 - acc: 0.9810 - val_loss: 0.8065 - val_acc: 0.8300\n",
      "Epoch 19/20\n",
      "24000/24000 [==============================] - 11s 451us/step - loss: 0.0601 - acc: 0.9828 - val_loss: 0.8897 - val_acc: 0.8240\n",
      "Epoch 20/20\n",
      "24000/24000 [==============================] - 9s 368us/step - loss: 0.0543 - acc: 0.9830 - val_loss: 0.9172 - val_acc: 0.8290\n"
     ]
    },
    {
     "data": {
      "image/png": "[encoded data removed]",
      "text/plain": [
       "<Figure size 432x288 with 1 Axes>"
      ]
     },
     "metadata": {
      "needs_background": "light"
     },
     "output_type": "display_data"
    },
    {
     "data": {
      "image/png": "[encoded data removed]",
      "text/plain": [
       "<Figure size 432x288 with 1 Axes>"
      ]
     },
     "metadata": {
      "needs_background": "light"
     },
     "output_type": "display_data"
    }
   ],
   "source": [
    "history = model.fit(X_train, y_train, epochs=20, batch_size=100, validation_data=(X_validate, y_validate))\n",
    "plot_hist(history)"
   ]
  },
  {
   "cell_type": "markdown",
   "metadata": {},
   "source": [
    "#### Evaluate model"
   ]
  },
  {
   "cell_type": "code",
   "execution_count": 23,
   "metadata": {},
   "outputs": [
    {
     "name": "stdout",
     "output_type": "stream",
     "text": [
      "25000/25000 [==============================] - 1s 39us/step\n",
      "[1.093872824728489, 0.80976]\n"
     ]
    }
   ],
   "source": [
    "results = model.evaluate(test_data, test_labels)\n",
    "print(results)"
   ]
  },
  {
   "cell_type": "markdown",
   "metadata": {},
   "source": [
    "# 10. Build RNN model\n",
    "\n",
    "只要把前面 FFNN 的 `Dense()` 拿掉改成 `LSTM()` 或 `CuDNNLSTM()` 就可以了\n",
    "\n",
    "```python\n",
    "LSTM(hidden_units, dropout=0.0, recurrent_dropout=0.0)\n",
    "```\n",
    "\n",
    "* `hidden_units`: memory 的大小\n",
    "* `dropout`: 輸入有多少要被 dropout\n",
    "* `recurrent_dropout`: 前一級的輸出 (就是這一級的 memory) 有多少要被 dropout "
   ]
  },
  {
   "cell_type": "code",
   "execution_count": 24,
   "metadata": {},
   "outputs": [
    {
     "name": "stdout",
     "output_type": "stream",
     "text": [
      "_________________________________________________________________\n",
      "Layer (type)                 Output Shape              Param #   \n",
      "=================================================================\n",
      "embedding (Embedding)        (None, None, 100)         1000000   \n",
      "_________________________________________________________________\n",
      "lstm (LSTM)                  (None, 32)                17024     \n",
      "_________________________________________________________________\n",
      "dense (Dense)                (None, 1)                 33        \n",
      "=================================================================\n",
      "Total params: 1,017,057\n",
      "Trainable params: 1,017,057\n",
      "Non-trainable params: 0\n",
      "_________________________________________________________________\n"
     ]
    }
   ],
   "source": [
    "# 先清除掉前面的 model\n",
    "model = None\n",
    "K.clear_session()\n",
    "\n",
    "# 在 model 中加上 Dropout() 後重跑一次\n",
    "model = keras.Sequential()\n",
    "model.add(Embedding(vocab_size, 100)) # 把 10000 個單字 map 到 100 維\n",
    "# 拿掉下面兩層\n",
    "# model.add(GlobalAveragePooling1D())\n",
    "# model.add(Dense(16, activation=tf.nn.relu)) # 只有一層 fully connected 的 hidden layer，用 ReLU 當 activation\n",
    "# 改用 LSTM\n",
    "model.add(LSTM(32, dropout=0.5, recurrent_dropout=0.5))\n",
    "# 改用 CuDNNLSTM\n",
    "# model.add(CuDNNLSTM(32)) # mac 上不能跑，因為沒有 CUDA GPU\n",
    "# model.add(Dropout(0.5)) # 只有這裡是新的，其他部分維持和原本的一樣\n",
    "model.add(Dense(1, activation=tf.nn.sigmoid))\n",
    "model.compile(optimizer=tf.train.AdamOptimizer(), loss='binary_crossentropy', metrics=['accuracy'])\n",
    "model.summary()"
   ]
  },
  {
   "cell_type": "markdown",
   "metadata": {},
   "source": [
    "### Train model and make plot"
   ]
  },
  {
   "cell_type": "code",
   "execution_count": 25,
   "metadata": {},
   "outputs": [
    {
     "name": "stdout",
     "output_type": "stream",
     "text": [
      "Train on 24000 samples, validate on 1000 samples\n",
      "Epoch 1/10\n",
      "24000/24000 [==============================] - 89s 4ms/step - loss: 0.5660 - acc: 0.7108 - val_loss: 0.4444 - val_acc: 0.7890\n",
      "Epoch 2/10\n",
      "24000/24000 [==============================] - 84s 4ms/step - loss: 0.4217 - acc: 0.8141 - val_loss: 0.4185 - val_acc: 0.8050\n",
      "Epoch 3/10\n",
      "24000/24000 [==============================] - 85s 4ms/step - loss: 0.3737 - acc: 0.8407 - val_loss: 0.4373 - val_acc: 0.7920\n",
      "Epoch 4/10\n",
      "24000/24000 [==============================] - 85s 4ms/step - loss: 0.3353 - acc: 0.8592 - val_loss: 0.4280 - val_acc: 0.8070\n",
      "Epoch 5/10\n",
      "24000/24000 [==============================] - 85s 4ms/step - loss: 0.3084 - acc: 0.8712 - val_loss: 0.4324 - val_acc: 0.8120\n",
      "Epoch 6/10\n",
      "24000/24000 [==============================] - 87s 4ms/step - loss: 0.2965 - acc: 0.8789 - val_loss: 0.4440 - val_acc: 0.8040\n",
      "Epoch 7/10\n",
      "24000/24000 [==============================] - 87s 4ms/step - loss: 0.2719 - acc: 0.8912 - val_loss: 0.4627 - val_acc: 0.8010\n",
      "Epoch 8/10\n",
      "24000/24000 [==============================] - 85s 4ms/step - loss: 0.2475 - acc: 0.9030 - val_loss: 0.4824 - val_acc: 0.8070\n",
      "Epoch 9/10\n",
      "24000/24000 [==============================] - 87s 4ms/step - loss: 0.2355 - acc: 0.9052 - val_loss: 0.5151 - val_acc: 0.7960\n",
      "Epoch 10/10\n",
      "24000/24000 [==============================] - 85s 4ms/step - loss: 0.2192 - acc: 0.9148 - val_loss: 0.5039 - val_acc: 0.8040\n"
     ]
    },
    {
     "data": {
      "image/png": "[encoded data removed]",
      "text/plain": [
       "<Figure size 432x288 with 1 Axes>"
      ]
     },
     "metadata": {
      "needs_background": "light"
     },
     "output_type": "display_data"
    },
    {
     "data": {
      "image/png": "[encoded data removed]",
      "text/plain": [
       "<Figure size 432x288 with 1 Axes>"
      ]
     },
     "metadata": {
      "needs_background": "light"
     },
     "output_type": "display_data"
    }
   ],
   "source": [
    "history = model.fit(X_train, y_train, epochs=10, batch_size=100, validation_data=(X_validate, y_validate))\n",
    "plot_hist(history)"
   ]
  },
  {
   "cell_type": "markdown",
   "metadata": {},
   "source": [
    "### Evaluate model"
   ]
  },
  {
   "cell_type": "code",
   "execution_count": 26,
   "metadata": {},
   "outputs": [
    {
     "name": "stdout",
     "output_type": "stream",
     "text": [
      "25000/25000 [==============================] - 35s 1ms/step\n",
      "[0.4769436262226105, 0.81288]\n"
     ]
    }
   ],
   "source": [
    "results = model.evaluate(test_data, test_labels)\n",
    "print(results)"
   ]
  },
  {
   "cell_type": "markdown",
   "metadata": {},
   "source": [
    "### TPU version\n",
    "\n",
    "只能在 Google CoLab 上面跑"
   ]
  },
  {
   "cell_type": "code",
   "execution_count": 27,
   "metadata": {},
   "outputs": [],
   "source": [
    "# TPU_WORKER = 'grpc://' + os.environ['COLAB_TPU_ADDR']\n",
    "# strategy = tf.contrib.tpu.TPUIDistributionStrategy(tf.contrib.cluster_resolver.TPUClusterResolver(TPU_WORKER))\n",
    "\n",
    "# tpu_model = tf.contrib.tpu.keras_to_tpu_model(model, strategy=strategy)\n",
    "\n",
    "# history = tpu_model.fit(X_train, y_train, epochs=8, batch_size=160, validation_data=(X_validate, y_validate))\n",
    "# plot_history(history)\n",
    "\n",
    "# results = tpu_model.evaluate(test_data, test_labels)"
   ]
  },
  {
   "cell_type": "markdown",
   "metadata": {},
   "source": [
    "# 11. Multiple-layers RNN\n",
    "\n",
    "### Build model\n",
    "\n",
    "預設上 RNN 只回傳最後一個 output，很多層時，每一層需要前一級的全部輸出，所以除了最後一層以外的其他層都要加上 `return_sequences=True`"
   ]
  },
  {
   "cell_type": "code",
   "execution_count": 28,
   "metadata": {},
   "outputs": [
    {
     "name": "stdout",
     "output_type": "stream",
     "text": [
      "_________________________________________________________________\n",
      "Layer (type)                 Output Shape              Param #   \n",
      "=================================================================\n",
      "embedding (Embedding)        (None, None, 32)          320000    \n",
      "_________________________________________________________________\n",
      "lstm (LSTM)                  (None, None, 32)          8320      \n",
      "_________________________________________________________________\n",
      "lstm_1 (LSTM)                (None, 32)                8320      \n",
      "_________________________________________________________________\n",
      "dense (Dense)                (None, 1)                 33        \n",
      "=================================================================\n",
      "Total params: 336,673\n",
      "Trainable params: 336,673\n",
      "Non-trainable params: 0\n",
      "_________________________________________________________________\n"
     ]
    }
   ],
   "source": [
    "# 先清除掉前面的 model\n",
    "model = None\n",
    "K.clear_session()\n",
    "\n",
    "model = keras.Sequential()\n",
    "model.add(Embedding(vocab_size, 32))\n",
    "model.add(LSTM(32, return_sequences=True)) # 每一層都要 return_sequences=True\n",
    "model.add(LSTM(32, return_sequences=False)) # 只有最後一層是 return_sequences=False\n",
    "model.add(Dense(1, activation='sigmoid'))\n",
    "model.compile(optimizer=tf.train.AdamOptimizer(), loss='binary_crossentropy', metrics=['accuracy'])\n",
    "model.summary()"
   ]
  },
  {
   "cell_type": "markdown",
   "metadata": {},
   "source": [
    "### Train model and make plot"
   ]
  },
  {
   "cell_type": "code",
   "execution_count": 29,
   "metadata": {},
   "outputs": [
    {
     "name": "stdout",
     "output_type": "stream",
     "text": [
      "Train on 24000 samples, validate on 1000 samples\n",
      "Epoch 1/10\n",
      "24000/24000 [==============================] - 135s 6ms/step - loss: 0.4473 - acc: 0.7797 - val_loss: 0.3347 - val_acc: 0.8520\n",
      "Epoch 2/10\n",
      "24000/24000 [==============================] - 149s 6ms/step - loss: 0.2698 - acc: 0.8916 - val_loss: 0.3494 - val_acc: 0.8410\n",
      "Epoch 3/10\n",
      "24000/24000 [==============================] - 140s 6ms/step - loss: 0.2033 - acc: 0.9227 - val_loss: 0.3387 - val_acc: 0.8500\n",
      "Epoch 4/10\n",
      "24000/24000 [==============================] - 126s 5ms/step - loss: 0.1550 - acc: 0.9440 - val_loss: 0.3648 - val_acc: 0.8510\n",
      "Epoch 5/10\n",
      "24000/24000 [==============================] - 129s 5ms/step - loss: 0.1143 - acc: 0.9627 - val_loss: 0.5024 - val_acc: 0.8400\n",
      "Epoch 6/10\n",
      "24000/24000 [==============================] - 132s 6ms/step - loss: 0.0958 - acc: 0.9688 - val_loss: 0.5321 - val_acc: 0.8290\n",
      "Epoch 7/10\n",
      "24000/24000 [==============================] - 131s 5ms/step - loss: 0.0696 - acc: 0.9786 - val_loss: 0.5574 - val_acc: 0.8380\n",
      "Epoch 8/10\n",
      "24000/24000 [==============================] - 134s 6ms/step - loss: 0.0534 - acc: 0.9845 - val_loss: 0.5725 - val_acc: 0.8460\n",
      "Epoch 9/10\n",
      "24000/24000 [==============================] - 123s 5ms/step - loss: 0.0538 - acc: 0.9829 - val_loss: 0.6427 - val_acc: 0.8360\n",
      "Epoch 10/10\n",
      "24000/24000 [==============================] - 124s 5ms/step - loss: 0.0400 - acc: 0.9883 - val_loss: 0.7308 - val_acc: 0.8260\n"
     ]
    },
    {
     "data": {
      "image/png": "[encoded data removed]",
      "text/plain": [
       "<Figure size 432x288 with 1 Axes>"
      ]
     },
     "metadata": {
      "needs_background": "light"
     },
     "output_type": "display_data"
    },
    {
     "data": {
      "image/png": "[encoded data removed]",
      "text/plain": [
       "<Figure size 432x288 with 1 Axes>"
      ]
     },
     "metadata": {
      "needs_background": "light"
     },
     "output_type": "display_data"
    }
   ],
   "source": [
    "history = model.fit(X_train, y_train, epochs=10, batch_size=100, validation_data=(X_validate, y_validate))\n",
    "plot_hist(history)"
   ]
  },
  {
   "cell_type": "markdown",
   "metadata": {},
   "source": [
    "### Evaluate model"
   ]
  },
  {
   "cell_type": "code",
   "execution_count": 30,
   "metadata": {},
   "outputs": [
    {
     "name": "stdout",
     "output_type": "stream",
     "text": [
      "25000/25000 [==============================] - 50s 2ms/step\n",
      "[0.8054640356588364, 0.812]\n"
     ]
    }
   ],
   "source": [
    "results = model.evaluate(test_data, test_labels)\n",
    "print(results)"
   ]
  },
  {
   "cell_type": "markdown",
   "metadata": {},
   "source": [
    "# 12. Bi-directional RNN\n",
    "\n",
    "把 `LSTM()` 放到 `Bidirectional()` 就可以建立 bi-directional RNN\n",
    "\n",
    "### 一層 bi-directional RNN"
   ]
  },
  {
   "cell_type": "code",
   "execution_count": 31,
   "metadata": {},
   "outputs": [
    {
     "name": "stdout",
     "output_type": "stream",
     "text": [
      "_________________________________________________________________\n",
      "Layer (type)                 Output Shape              Param #   \n",
      "=================================================================\n",
      "embedding (Embedding)        (None, None, 32)          320000    \n",
      "_________________________________________________________________\n",
      "bidirectional (Bidirectional (None, 64)                16640     \n",
      "_________________________________________________________________\n",
      "dense (Dense)                (None, 1)                 65        \n",
      "=================================================================\n",
      "Total params: 336,705\n",
      "Trainable params: 336,705\n",
      "Non-trainable params: 0\n",
      "_________________________________________________________________\n",
      "Train on 24000 samples, validate on 1000 samples\n",
      "Epoch 1/10\n",
      "24000/24000 [==============================] - 120s 5ms/step - loss: 0.4736 - acc: 0.7624 - val_loss: 0.3504 - val_acc: 0.8300\n",
      "Epoch 2/10\n",
      "24000/24000 [==============================] - 118s 5ms/step - loss: 0.2749 - acc: 0.8903 - val_loss: 0.3432 - val_acc: 0.8420\n",
      "Epoch 3/10\n",
      "24000/24000 [==============================] - 118s 5ms/step - loss: 0.2207 - acc: 0.9153 - val_loss: 0.3473 - val_acc: 0.8480\n",
      "Epoch 4/10\n",
      "24000/24000 [==============================] - 117s 5ms/step - loss: 0.1763 - acc: 0.9370 - val_loss: 0.3589 - val_acc: 0.8540\n",
      "Epoch 5/10\n",
      "24000/24000 [==============================] - 116s 5ms/step - loss: 0.1395 - acc: 0.9520 - val_loss: 0.4570 - val_acc: 0.8410\n",
      "Epoch 6/10\n",
      "24000/24000 [==============================] - 118s 5ms/step - loss: 0.1085 - acc: 0.9653 - val_loss: 0.4438 - val_acc: 0.8440\n",
      "Epoch 7/10\n",
      "24000/24000 [==============================] - 120s 5ms/step - loss: 0.0950 - acc: 0.9688 - val_loss: 0.4234 - val_acc: 0.8390\n",
      "Epoch 8/10\n",
      "24000/24000 [==============================] - 118s 5ms/step - loss: 0.0877 - acc: 0.9711 - val_loss: 0.5354 - val_acc: 0.8410\n",
      "Epoch 9/10\n",
      "24000/24000 [==============================] - 131s 5ms/step - loss: 0.0642 - acc: 0.9799 - val_loss: 0.6731 - val_acc: 0.8180\n",
      "Epoch 10/10\n",
      "24000/24000 [==============================] - 131s 5ms/step - loss: 0.0564 - acc: 0.9826 - val_loss: 0.7280 - val_acc: 0.8210\n"
     ]
    },
    {
     "data": {
      "image/png": "[encoded data removed]",
      "text/plain": [
       "<Figure size 432x288 with 1 Axes>"
      ]
     },
     "metadata": {
      "needs_background": "light"
     },
     "output_type": "display_data"
    },
    {
     "data": {
      "image/png": "[encoded data removed]",
      "text/plain": [
       "<Figure size 432x288 with 1 Axes>"
      ]
     },
     "metadata": {
      "needs_background": "light"
     },
     "output_type": "display_data"
    },
    {
     "name": "stdout",
     "output_type": "stream",
     "text": [
      "25000/25000 [==============================] - 43s 2ms/step\n",
      "[0.7594424515581131, 0.81852]\n"
     ]
    }
   ],
   "source": [
    "# Build model\n",
    "model = None\n",
    "K.clear_session()\n",
    "\n",
    "model = keras.Sequential()\n",
    "model.add(Embedding(vocab_size, 32))\n",
    "model.add(Bidirectional(LSTM(32, return_sequences=False)))\n",
    "model.add(Dense(1, activation='sigmoid'))\n",
    "model.compile(optimizer=tf.train.AdamOptimizer(), loss='binary_crossentropy', metrics=['accuracy'])\n",
    "model.summary()\n",
    "\n",
    "# Train model\n",
    "history = model.fit(X_train, y_train, epochs=10, batch_size=100, validation_data=(X_validate, y_validate))\n",
    "# Make plot\n",
    "plot_hist(history)\n",
    "\n",
    "# Evaluate model\n",
    "results = model.evaluate(test_data, test_labels)\n",
    "print(results)"
   ]
  },
  {
   "cell_type": "markdown",
   "metadata": {},
   "source": [
    "### 多層 bi-directional RNN"
   ]
  },
  {
   "cell_type": "code",
   "execution_count": 32,
   "metadata": {},
   "outputs": [
    {
     "name": "stdout",
     "output_type": "stream",
     "text": [
      "_________________________________________________________________\n",
      "Layer (type)                 Output Shape              Param #   \n",
      "=================================================================\n",
      "embedding (Embedding)        (None, None, 32)          320000    \n",
      "_________________________________________________________________\n",
      "bidirectional (Bidirectional (None, None, 64)          16640     \n",
      "_________________________________________________________________\n",
      "bidirectional_1 (Bidirection (None, 64)                24832     \n",
      "_________________________________________________________________\n",
      "dense (Dense)                (None, 1)                 65        \n",
      "=================================================================\n",
      "Total params: 361,537\n",
      "Trainable params: 361,537\n",
      "Non-trainable params: 0\n",
      "_________________________________________________________________\n",
      "Train on 24000 samples, validate on 1000 samples\n",
      "Epoch 1/10\n",
      "24000/24000 [==============================] - 247s 10ms/step - loss: 0.4506 - acc: 0.7765 - val_loss: 0.3252 - val_acc: 0.8570\n",
      "Epoch 2/10\n",
      "24000/24000 [==============================] - 246s 10ms/step - loss: 0.2632 - acc: 0.8937 - val_loss: 0.3125 - val_acc: 0.8610\n",
      "Epoch 3/10\n",
      "24000/24000 [==============================] - 266s 11ms/step - loss: 0.2056 - acc: 0.9215 - val_loss: 0.3492 - val_acc: 0.8500\n",
      "Epoch 4/10\n",
      "24000/24000 [==============================] - 253s 11ms/step - loss: 0.1616 - acc: 0.9403 - val_loss: 0.3773 - val_acc: 0.8460\n",
      "Epoch 5/10\n",
      "24000/24000 [==============================] - 254s 11ms/step - loss: 0.1169 - acc: 0.9583 - val_loss: 0.4114 - val_acc: 0.8480\n",
      "Epoch 6/10\n",
      "24000/24000 [==============================] - 258s 11ms/step - loss: 0.0888 - acc: 0.9686 - val_loss: 0.5218 - val_acc: 0.8420\n",
      "Epoch 7/10\n",
      "24000/24000 [==============================] - 258s 11ms/step - loss: 0.0573 - acc: 0.9813 - val_loss: 0.5908 - val_acc: 0.8330\n",
      "Epoch 8/10\n",
      "24000/24000 [==============================] - 250s 10ms/step - loss: 0.0444 - acc: 0.9853 - val_loss: 0.6903 - val_acc: 0.8500\n",
      "Epoch 9/10\n",
      "24000/24000 [==============================] - 242s 10ms/step - loss: 0.0409 - acc: 0.9870 - val_loss: 0.7871 - val_acc: 0.8420\n",
      "Epoch 10/10\n",
      "24000/24000 [==============================] - 230s 10ms/step - loss: 0.0282 - acc: 0.9915 - val_loss: 0.7374 - val_acc: 0.8460\n"
     ]
    },
    {
     "data": {
      "image/png": "[encoded data removed]",
      "text/plain": [
       "<Figure size 432x288 with 1 Axes>"
      ]
     },
     "metadata": {
      "needs_background": "light"
     },
     "output_type": "display_data"
    },
    {
     "data": {
      "image/png": "[encoded data removed]",
      "text/plain": [
       "<Figure size 432x288 with 1 Axes>"
      ]
     },
     "metadata": {
      "needs_background": "light"
     },
     "output_type": "display_data"
    },
    {
     "name": "stdout",
     "output_type": "stream",
     "text": [
      "25000/25000 [==============================] - 82s 3ms/step\n",
      "[0.8673149287843704, 0.81736]\n"
     ]
    }
   ],
   "source": [
    "# Build model\n",
    "model = None\n",
    "K.clear_session()\n",
    "\n",
    "model = keras.Sequential()\n",
    "model.add(Embedding(vocab_size, 32))\n",
    "model.add(Bidirectional(LSTM(32, return_sequences=True)))\n",
    "model.add(Bidirectional(LSTM(32, return_sequences=False)))\n",
    "model.add(Dense(1, activation='sigmoid'))\n",
    "model.compile(optimizer=tf.train.AdamOptimizer(), loss='binary_crossentropy', metrics=['accuracy'])\n",
    "model.summary()\n",
    "\n",
    "# Train model\n",
    "history = model.fit(X_train, y_train, epochs=10, batch_size=100, validation_data=(X_validate, y_validate))\n",
    "# Make plot\n",
    "plot_hist(history)\n",
    "\n",
    "# Evaluate model\n",
    "results = model.evaluate(test_data, test_labels)\n",
    "print(results)"
   ]
  },
  {
   "cell_type": "markdown",
   "metadata": {},
   "source": [
    "# 13. Pretrained embedding\n",
    "\n",
    "不要自己訓練 word embedding，而改用別人訓練好的\n",
    "\n",
    "* [GloVe: Global Vectors for Word Representation](https://nlp.stanford.edu/projects/glove/) 用大量資料先訓練了 word embedding\n",
    "\n",
    "去 pretrained embedding 中找有沒有 reviews 裡面用到的單字，如果有找到就把 word embedding 設成 pretrained embedding 的結果，如果找不到就設成 0 或很小的數字"
   ]
  },
  {
   "cell_type": "code",
   "execution_count": 33,
   "metadata": {},
   "outputs": [],
   "source": [
    "# Randomize pretrained embedding matrix with very small numbers\n",
    "pretrained_embedding_matrix = (np.random.rand(vocab_size, 100) - 0.5) / 1e4\n",
    "\n",
    "# Initialize pretrained embedding matrix to all zeros\n",
    "# pretrained_embedding_matrix = np.zeros((vocab_size, 100))"
   ]
  },
  {
   "cell_type": "markdown",
   "metadata": {},
   "source": [
    "### Load pretrained embedding"
   ]
  },
  {
   "cell_type": "code",
   "execution_count": 34,
   "metadata": {},
   "outputs": [],
   "source": [
    "with open('glove.6B.100d.txt') as f:\n",
    "    for line in f:\n",
    "        values = line.split()\n",
    "        word = values[0]\n",
    "        if word in word_index:\n",
    "            embs = np.asarray(values[1:], dtype='float32')\n",
    "            if word_index[word] >= vocab_size:\n",
    "                continue\n",
    "            pretrained_embedding_matrix[word_index[word]] = embs"
   ]
  },
  {
   "cell_type": "markdown",
   "metadata": {},
   "source": [
    "用 `trainable=False` 可以防止 word embedding 被更新\n",
    "* 可以減少參數的數量\n",
    "* Train data 少的時候，參數數量就不能太多，所以可以加上這個"
   ]
  },
  {
   "cell_type": "markdown",
   "metadata": {},
   "source": [
    "### FFNN"
   ]
  },
  {
   "cell_type": "code",
   "execution_count": 35,
   "metadata": {},
   "outputs": [
    {
     "name": "stdout",
     "output_type": "stream",
     "text": [
      "_________________________________________________________________\n",
      "Layer (type)                 Output Shape              Param #   \n",
      "=================================================================\n",
      "embedding (Embedding)        (None, None, 100)         1000000   \n",
      "_________________________________________________________________\n",
      "global_average_pooling1d (Gl (None, 100)               0         \n",
      "_________________________________________________________________\n",
      "dense (Dense)                (None, 16)                1616      \n",
      "_________________________________________________________________\n",
      "dense_1 (Dense)              (None, 1)                 17        \n",
      "=================================================================\n",
      "Total params: 1,001,633\n",
      "Trainable params: 1,001,633\n",
      "Non-trainable params: 0\n",
      "_________________________________________________________________\n",
      "Train on 24000 samples, validate on 1000 samples\n",
      "Epoch 1/10\n",
      "24000/24000 [==============================] - 10s 396us/step - loss: 0.6082 - acc: 0.6975 - val_loss: 0.4869 - val_acc: 0.7790\n",
      "Epoch 2/10\n",
      "24000/24000 [==============================] - 9s 381us/step - loss: 0.4020 - acc: 0.8301 - val_loss: 0.3593 - val_acc: 0.8310\n",
      "Epoch 3/10\n",
      "24000/24000 [==============================] - 9s 378us/step - loss: 0.3145 - acc: 0.8687 - val_loss: 0.3319 - val_acc: 0.8520\n",
      "Epoch 4/10\n",
      "24000/24000 [==============================] - 9s 379us/step - loss: 0.2704 - acc: 0.8909 - val_loss: 0.3184 - val_acc: 0.8490\n",
      "Epoch 5/10\n",
      "24000/24000 [==============================] - 9s 381us/step - loss: 0.2406 - acc: 0.9045 - val_loss: 0.3170 - val_acc: 0.8530\n",
      "Epoch 6/10\n",
      "24000/24000 [==============================] - 9s 379us/step - loss: 0.2174 - acc: 0.9149 - val_loss: 0.3247 - val_acc: 0.8550\n",
      "Epoch 7/10\n",
      "24000/24000 [==============================] - 9s 382us/step - loss: 0.1987 - acc: 0.9231 - val_loss: 0.3295 - val_acc: 0.8480\n",
      "Epoch 8/10\n",
      "24000/24000 [==============================] - 9s 382us/step - loss: 0.1848 - acc: 0.9299 - val_loss: 0.3405 - val_acc: 0.8490\n",
      "Epoch 9/10\n",
      "24000/24000 [==============================] - 9s 379us/step - loss: 0.1693 - acc: 0.9380 - val_loss: 0.3531 - val_acc: 0.8430\n",
      "Epoch 10/10\n",
      "24000/24000 [==============================] - 9s 382us/step - loss: 0.1561 - acc: 0.9440 - val_loss: 0.3761 - val_acc: 0.8430\n"
     ]
    },
    {
     "data": {
      "image/png": "[encoded data removed]",
      "text/plain": [
       "<Figure size 432x288 with 1 Axes>"
      ]
     },
     "metadata": {
      "needs_background": "light"
     },
     "output_type": "display_data"
    },
    {
     "data": {
      "image/png": "[encoded data removed]",
      "text/plain": [
       "<Figure size 432x288 with 1 Axes>"
      ]
     },
     "metadata": {
      "needs_background": "light"
     },
     "output_type": "display_data"
    },
    {
     "name": "stdout",
     "output_type": "stream",
     "text": [
      "25000/25000 [==============================] - 1s 39us/step\n",
      "[0.4191895386457443, 0.84116]\n"
     ]
    }
   ],
   "source": [
    "# Build model\n",
    "model= None\n",
    "K.clear_session()\n",
    "\n",
    "model = keras.Sequential()\n",
    "model.add(Embedding(vocab_size, 100, weights=[pretrained_embedding_matrix]))\n",
    "model.add(GlobalAveragePooling1D())\n",
    "model.add(Dense(16, activation=tf.nn.relu))\n",
    "model.add(Dense(1, activation=tf.nn.sigmoid))\n",
    "model.compile(optimizer=tf.train.AdamOptimizer(), loss='binary_crossentropy', metrics=['accuracy'])\n",
    "model.summary()\n",
    "\n",
    "### Train model\n",
    "history = model.fit(X_train, y_train, epochs=10, batch_size=100, validation_data=(X_validate, y_validate))\n",
    "### Make plot\n",
    "plot_hist(history)\n",
    "\n",
    "# Evaluate model\n",
    "results = model.evaluate(test_data, test_labels)\n",
    "print(results)"
   ]
  },
  {
   "cell_type": "markdown",
   "metadata": {},
   "source": [
    "### RNN"
   ]
  },
  {
   "cell_type": "code",
   "execution_count": 36,
   "metadata": {},
   "outputs": [
    {
     "name": "stdout",
     "output_type": "stream",
     "text": [
      "_________________________________________________________________\n",
      "Layer (type)                 Output Shape              Param #   \n",
      "=================================================================\n",
      "embedding (Embedding)        (None, None, 100)         1000000   \n",
      "_________________________________________________________________\n",
      "lstm (LSTM)                  (None, 32)                17024     \n",
      "_________________________________________________________________\n",
      "dense (Dense)                (None, 1)                 33        \n",
      "=================================================================\n",
      "Total params: 1,017,057\n",
      "Trainable params: 1,017,057\n",
      "Non-trainable params: 0\n",
      "_________________________________________________________________\n",
      "Train on 24000 samples, validate on 1000 samples\n",
      "Epoch 1/10\n",
      "24000/24000 [==============================] - 74s 3ms/step - loss: 0.5178 - acc: 0.7340 - val_loss: 0.3923 - val_acc: 0.8290\n",
      "Epoch 2/10\n",
      "24000/24000 [==============================] - 82s 3ms/step - loss: 0.3425 - acc: 0.8524 - val_loss: 0.3388 - val_acc: 0.8540\n",
      "Epoch 3/10\n",
      "24000/24000 [==============================] - 78s 3ms/step - loss: 0.2618 - acc: 0.8933 - val_loss: 0.3281 - val_acc: 0.8550\n",
      "Epoch 4/10\n",
      "24000/24000 [==============================] - 78s 3ms/step - loss: 0.2098 - acc: 0.9202 - val_loss: 0.3676 - val_acc: 0.8640\n",
      "Epoch 5/10\n",
      "24000/24000 [==============================] - 80s 3ms/step - loss: 0.1683 - acc: 0.9380 - val_loss: 0.3611 - val_acc: 0.8520\n",
      "Epoch 6/10\n",
      "24000/24000 [==============================] - 79s 3ms/step - loss: 0.1284 - acc: 0.9558 - val_loss: 0.4136 - val_acc: 0.8450\n",
      "Epoch 7/10\n",
      "24000/24000 [==============================] - 79s 3ms/step - loss: 0.0998 - acc: 0.9677 - val_loss: 0.4570 - val_acc: 0.8470\n",
      "Epoch 8/10\n",
      "24000/24000 [==============================] - 80s 3ms/step - loss: 0.0753 - acc: 0.9786 - val_loss: 0.5464 - val_acc: 0.8350\n",
      "Epoch 9/10\n",
      "24000/24000 [==============================] - 79s 3ms/step - loss: 0.0597 - acc: 0.9832 - val_loss: 0.6014 - val_acc: 0.8400\n",
      "Epoch 10/10\n",
      "24000/24000 [==============================] - 79s 3ms/step - loss: 0.0411 - acc: 0.9900 - val_loss: 0.6127 - val_acc: 0.8270\n"
     ]
    },
    {
     "data": {
      "image/png": "[encoded data removed]",
      "text/plain": [
       "<Figure size 432x288 with 1 Axes>"
      ]
     },
     "metadata": {
      "needs_background": "light"
     },
     "output_type": "display_data"
    },
    {
     "data": {
      "image/png": "[encoded data removed]",
      "text/plain": [
       "<Figure size 432x288 with 1 Axes>"
      ]
     },
     "metadata": {
      "needs_background": "light"
     },
     "output_type": "display_data"
    },
    {
     "name": "stdout",
     "output_type": "stream",
     "text": [
      "25000/25000 [==============================] - 32s 1ms/step\n",
      "[0.6496296697235108, 0.83176]\n"
     ]
    }
   ],
   "source": [
    "# Build model\n",
    "model = None\n",
    "K.clear_session()\n",
    "\n",
    "model = keras.Sequential()\n",
    "model.add(Embedding(vocab_size, 100, weights=[pretrained_embedding_matrix]))\n",
    "model.add(LSTM(32))\n",
    "# model.add(CuDNNLSTM(32))\n",
    "model.add(Dense(1, activation='sigmoid'))\n",
    "model.compile(optimizer=tf.train.AdamOptimizer(), loss='binary_crossentropy', metrics=['accuracy'])\n",
    "model.summary()\n",
    "\n",
    "# Train model\n",
    "history = model.fit(X_train, y_train, epochs=10, batch_size=100, validation_data=(X_validate, y_validate))\n",
    "### Make plot\n",
    "plot_hist(history)\n",
    "\n",
    "# Evaluate model\n",
    "results = model.evaluate(test_data, test_labels)\n",
    "print(results)"
   ]
  },
  {
   "cell_type": "markdown",
   "metadata": {},
   "source": [
    "# 14. Summary\n",
    "\n",
    "* Basic preprocessing of NLP data\n",
    "  * Tokenize words\n",
    "  * Create a dictionary that maps words to unique IDs\n",
    "  * Convert words to ID\n",
    "  * Pad/truncate sequences to unified lengths\n",
    "* Building a model using Keras\n",
    "  * Design model structure\n",
    "  * Add layers\n",
    "  * Define loss\n",
    "  * Define optimizer\n",
    "* Training and evaluation\n",
    "  * Create a plot to clearly observe training progress\n",
    "  * Evaluate on test set\n",
    "* Improvements to the model\n",
    "  * Dropout\n",
    "  * Recurrent\n",
    "  * Pretrained embeddings\n",
    "  * Mixture of the above"
   ]
  },
  {
   "cell_type": "code",
   "execution_count": null,
   "metadata": {},
   "outputs": [],
   "source": []
  }
 ],
 "metadata": {
  "kernelspec": {
   "display_name": "Python 3",
   "language": "python",
   "name": "python3"
  },
  "language_info": {
   "codemirror_mode": {
    "name": "ipython",
    "version": 3
   },
   "file_extension": ".py",
   "mimetype": "text/x-python",
   "name": "python",
   "nbconvert_exporter": "python",
   "pygments_lexer": "ipython3",
   "version": "3.6.6"
  }
 },
 "nbformat": 4,
 "nbformat_minor": 2
}
