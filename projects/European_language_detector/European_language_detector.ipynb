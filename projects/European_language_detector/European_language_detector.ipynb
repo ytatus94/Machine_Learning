{
 "cells": [
  {
   "cell_type": "markdown",
   "metadata": {},
   "source": [
    "# Detect 20 different European languages\n",
    "\n",
    "* Dataset: [http://www.statmt.org/europarl/](http://www.statmt.org/europarl/)"
   ]
  },
  {
   "cell_type": "code",
   "execution_count": 68,
   "metadata": {},
   "outputs": [],
   "source": [
    "import pandas as pd\n",
    "import os"
   ]
  },
  {
   "cell_type": "markdown",
   "metadata": {},
   "source": [
    "## Language mapping\n",
    "\n",
    "要把各個語言和縮寫做個 map 關聯起來"
   ]
  },
  {
   "cell_type": "code",
   "execution_count": 69,
   "metadata": {},
   "outputs": [],
   "source": [
    "# map languages\n",
    "lang_codes = {\n",
    "    'German': 'de',\n",
    "    'Danish': 'da',\n",
    "    'Slovenian': 'sl',\n",
    "    'Greek': 'el',\n",
    "    'Spanish': 'es',\n",
    "    'Finnish': 'fi',\n",
    "    'French': 'fr',\n",
    "    'Italian': 'it',\n",
    "    'Dutch': 'nl',\n",
    "    'Portuguese': 'pt',\n",
    "    'Swedish': 'sv',\n",
    "    'Bulgarian': 'bg',\n",
    "    'Czech': 'cs',\n",
    "    'Estonian': 'et',\n",
    "    'Hungarian': 'hu',\n",
    "    'Lithunian': 'lt',\n",
    "    'Latvian': 'lv',\n",
    "    'Polish': 'pl',\n",
    "    'Romanian': 'ro',\n",
    "    'Slovak': 'sk'\n",
    "}"
   ]
  },
  {
   "cell_type": "markdown",
   "metadata": {},
   "source": [
    "## Load data"
   ]
  },
  {
   "cell_type": "code",
   "execution_count": 70,
   "metadata": {},
   "outputs": [],
   "source": [
    "data_dir = 'data/'\n",
    "\n",
    "# key: sentences\n",
    "# value: language\n",
    "target_dict = {}"
   ]
  },
  {
   "cell_type": "markdown",
   "metadata": {},
   "source": [
    "* 從每個語言裡選出 50000 個句子，每個句子至少要包含 30 個字元\n",
    "  * 選擇第 10,000 ~ 第 60,000 句\n",
    "* Select 5000 sentences from each language that are at least 30 characters"
   ]
  },
  {
   "cell_type": "code",
   "execution_count": 71,
   "metadata": {},
   "outputs": [],
   "source": [
    "for root, dirs, files in os.walk(data_dir):\n",
    "#     print(root, dirs, files)\n",
    "    for file in files:\n",
    "        if file == '.DS_Store':\n",
    "            continue\n",
    "        filename = os.path.join(root, file)\n",
    "#         print(os.path.join(root, file))\n",
    "        lang = filename[5:7]\n",
    "#         print(lang)\n",
    "\n",
    "        # Get the full name of language\n",
    "        name = None\n",
    "        for key, value in lang_codes.items():\n",
    "            if value == lang:\n",
    "                name = key\n",
    "#         print(name)\n",
    "\n",
    "        if filename[-2:] == lang:\n",
    "            with open(filename, 'r', encoding='utf-8') as fin:\n",
    "                for i, line in enumerate(fin):\n",
    "                    if 10000 <= i <= 60000:\n",
    "                        if len(line) > 30:\n",
    "                            target_dict[line] = name"
   ]
  },
  {
   "cell_type": "code",
   "execution_count": 72,
   "metadata": {},
   "outputs": [
    {
     "name": "stdout",
     "output_type": "stream",
     "text": [
      "954246\n"
     ]
    }
   ],
   "source": [
    "print(len(target_dict))"
   ]
  },
  {
   "cell_type": "code",
   "execution_count": 73,
   "metadata": {},
   "outputs": [
    {
     "name": "stdout",
     "output_type": "stream",
     "text": [
      "954246\n",
      "954246\n"
     ]
    }
   ],
   "source": [
    "text = list(target_dict.keys())\n",
    "language = list(target_dict.values())\n",
    "\n",
    "print(len(text))\n",
    "print(len(language))"
   ]
  },
  {
   "cell_type": "markdown",
   "metadata": {},
   "source": [
    "## DataFrame\n",
    "\n",
    "Convert into Pandas DataFrame"
   ]
  },
  {
   "cell_type": "code",
   "execution_count": 74,
   "metadata": {},
   "outputs": [
    {
     "data": {
      "text/html": [
       "<div>\n",
       "<style scoped>\n",
       "    .dataframe tbody tr th:only-of-type {\n",
       "        vertical-align: middle;\n",
       "    }\n",
       "\n",
       "    .dataframe tbody tr th {\n",
       "        vertical-align: top;\n",
       "    }\n",
       "\n",
       "    .dataframe thead th {\n",
       "        text-align: right;\n",
       "    }\n",
       "</style>\n",
       "<table border=\"1\" class=\"dataframe\">\n",
       "  <thead>\n",
       "    <tr style=\"text-align: right;\">\n",
       "      <th></th>\n",
       "      <th>text</th>\n",
       "      <th>language</th>\n",
       "    </tr>\n",
       "  </thead>\n",
       "  <tbody>\n",
       "    <tr>\n",
       "      <th>0</th>\n",
       "      <td>Norime klasinių veiksmų, kurie padėtų mūsų pil...</td>\n",
       "      <td>Lithunian</td>\n",
       "    </tr>\n",
       "    <tr>\n",
       "      <th>1</th>\n",
       "      <td>Žinoma, nenorime įvesti JAV sąlygų.\\n</td>\n",
       "      <td>Lithunian</td>\n",
       "    </tr>\n",
       "    <tr>\n",
       "      <th>2</th>\n",
       "      <td>Kalbame apie mūsų piliečių galimybes naudotis ...</td>\n",
       "      <td>Lithunian</td>\n",
       "    </tr>\n",
       "    <tr>\n",
       "      <th>3</th>\n",
       "      <td>Manau, kad labai gaila, kad jūsų grupvis dar t...</td>\n",
       "      <td>Lithunian</td>\n",
       "    </tr>\n",
       "    <tr>\n",
       "      <th>4</th>\n",
       "      <td>Tikrai turėtumėte pagalvoti, ko iš tikrųjų nor...</td>\n",
       "      <td>Lithunian</td>\n",
       "    </tr>\n",
       "  </tbody>\n",
       "</table>\n",
       "</div>"
      ],
      "text/plain": [
       "                                                text   language\n",
       "0  Norime klasinių veiksmų, kurie padėtų mūsų pil...  Lithunian\n",
       "1              Žinoma, nenorime įvesti JAV sąlygų.\\n  Lithunian\n",
       "2  Kalbame apie mūsų piliečių galimybes naudotis ...  Lithunian\n",
       "3  Manau, kad labai gaila, kad jūsų grupvis dar t...  Lithunian\n",
       "4  Tikrai turėtumėte pagalvoti, ko iš tikrųjų nor...  Lithunian"
      ]
     },
     "execution_count": 74,
     "metadata": {},
     "output_type": "execute_result"
    }
   ],
   "source": [
    "df = pd.DataFrame()\n",
    "df['text'] = text\n",
    "df['language'] = language\n",
    "df.head()"
   ]
  },
  {
   "cell_type": "markdown",
   "metadata": {},
   "source": [
    "## Data Preprocessing\n",
    "\n",
    "* 用 regular expension 把 puctuation 移除\n",
    "* shuffle\n"
   ]
  },
  {
   "cell_type": "code",
   "execution_count": 75,
   "metadata": {},
   "outputs": [
    {
     "data": {
      "text/html": [
       "<div>\n",
       "<style scoped>\n",
       "    .dataframe tbody tr th:only-of-type {\n",
       "        vertical-align: middle;\n",
       "    }\n",
       "\n",
       "    .dataframe tbody tr th {\n",
       "        vertical-align: top;\n",
       "    }\n",
       "\n",
       "    .dataframe thead th {\n",
       "        text-align: right;\n",
       "    }\n",
       "</style>\n",
       "<table border=\"1\" class=\"dataframe\">\n",
       "  <thead>\n",
       "    <tr style=\"text-align: right;\">\n",
       "      <th></th>\n",
       "      <th>text</th>\n",
       "      <th>language</th>\n",
       "      <th>cleaned</th>\n",
       "    </tr>\n",
       "  </thead>\n",
       "  <tbody>\n",
       "    <tr>\n",
       "      <th>0</th>\n",
       "      <td>Prav tako je pomembno, da direktiva zajema pon...</td>\n",
       "      <td>Slovenian</td>\n",
       "      <td>Prav tako je pomembno da direktiva zajema pona...</td>\n",
       "    </tr>\n",
       "    <tr>\n",
       "      <th>1</th>\n",
       "      <td>Geneven yleissopimuksiin on kirjattu valtioide...</td>\n",
       "      <td>Finnish</td>\n",
       "      <td>Geneven yleissopimuksiin on kirjattu valtioide...</td>\n",
       "    </tr>\n",
       "    <tr>\n",
       "      <th>2</th>\n",
       "      <td>När det gäller det ekonomiska och finansiella ...</td>\n",
       "      <td>Swedish</td>\n",
       "      <td>När det gäller det ekonomiska och finansiella ...</td>\n",
       "    </tr>\n",
       "    <tr>\n",
       "      <th>3</th>\n",
       "      <td>Arvoisa puhemies, komissio ansaitsee, kuten mu...</td>\n",
       "      <td>Finnish</td>\n",
       "      <td>Arvoisa puhemies komissio ansaitsee kuten muis...</td>\n",
       "    </tr>\n",
       "    <tr>\n",
       "      <th>4</th>\n",
       "      <td>Proto je ještě důležitější dobré sladění a koo...</td>\n",
       "      <td>Czech</td>\n",
       "      <td>Proto je ještě důležitější dobré sladění a koo...</td>\n",
       "    </tr>\n",
       "  </tbody>\n",
       "</table>\n",
       "</div>"
      ],
      "text/plain": [
       "                                                text   language  \\\n",
       "0  Prav tako je pomembno, da direktiva zajema pon...  Slovenian   \n",
       "1  Geneven yleissopimuksiin on kirjattu valtioide...    Finnish   \n",
       "2  När det gäller det ekonomiska och finansiella ...    Swedish   \n",
       "3  Arvoisa puhemies, komissio ansaitsee, kuten mu...    Finnish   \n",
       "4  Proto je ještě důležitější dobré sladění a koo...      Czech   \n",
       "\n",
       "                                             cleaned  \n",
       "0  Prav tako je pomembno da direktiva zajema pona...  \n",
       "1  Geneven yleissopimuksiin on kirjattu valtioide...  \n",
       "2  När det gäller det ekonomiska och finansiella ...  \n",
       "3  Arvoisa puhemies komissio ansaitsee kuten muis...  \n",
       "4  Proto je ještě důležitější dobré sladění a koo...  "
      ]
     },
     "execution_count": 75,
     "metadata": {},
     "output_type": "execute_result"
    }
   ],
   "source": [
    "import re\n",
    "\n",
    "df['cleaned'] = df['text'].apply(lambda x: ' '.join([i for i in re.sub('[<(!?).,*>]', ' ', x).split()]))\n",
    "\n",
    "# Shuffle\n",
    "df = df.sample(frac=1).reset_index(drop=True)\n",
    "\n",
    "df.head()"
   ]
  },
  {
   "cell_type": "markdown",
   "metadata": {},
   "source": [
    "* mapping languages to integer"
   ]
  },
  {
   "cell_type": "code",
   "execution_count": 76,
   "metadata": {},
   "outputs": [
    {
     "data": {
      "text/plain": [
       "array(['Slovenian', 'Finnish', 'Swedish', 'Czech', 'Greek', 'Lithunian',\n",
       "       'Latvian', 'Hungarian', 'Bulgarian', 'Spanish', 'Polish',\n",
       "       'Portuguese', 'French', 'Danish', 'Dutch', 'Slovak', 'Estonian',\n",
       "       'Italian', 'German', 'Romanian'], dtype=object)"
      ]
     },
     "execution_count": 76,
     "metadata": {},
     "output_type": "execute_result"
    }
   ],
   "source": [
    "df.language.unique()"
   ]
  },
  {
   "cell_type": "code",
   "execution_count": 77,
   "metadata": {},
   "outputs": [
    {
     "name": "stdout",
     "output_type": "stream",
     "text": [
      "text        False\n",
      "language    False\n",
      "cleaned     False\n",
      "code        False\n",
      "dtype: bool\n"
     ]
    }
   ],
   "source": [
    "label_encoding = {\n",
    "    'Slovenian': 1,\n",
    "    'Danish': 2,\n",
    "    'Slovak': 3,\n",
    "    'Greek': 4,\n",
    "    'German': 5,\n",
    "    'Spanish': 6,\n",
    "    'Finnish': 7,\n",
    "    'French': 8,\n",
    "    'Italian': 9,\n",
    "    'Dutch': 10,\n",
    "    'Portuguese': 11,\n",
    "    'Swedish': 12,\n",
    "    'Bulgarian': 13,\n",
    "    'Czech': 14,\n",
    "    'Estonian': 15,\n",
    "    'Hungarian': 16,\n",
    "    'Lithunian': 17,\n",
    "    'Latvian': 18,\n",
    "    'Polish': 19,\n",
    "    'Romanian': 20\n",
    "}\n",
    "\n",
    "df['code'] = df['language'].map(label_encoding)\n",
    "print(df.isnull().any())"
   ]
  },
  {
   "cell_type": "code",
   "execution_count": 78,
   "metadata": {},
   "outputs": [
    {
     "data": {
      "text/html": [
       "<div>\n",
       "<style scoped>\n",
       "    .dataframe tbody tr th:only-of-type {\n",
       "        vertical-align: middle;\n",
       "    }\n",
       "\n",
       "    .dataframe tbody tr th {\n",
       "        vertical-align: top;\n",
       "    }\n",
       "\n",
       "    .dataframe thead th {\n",
       "        text-align: right;\n",
       "    }\n",
       "</style>\n",
       "<table border=\"1\" class=\"dataframe\">\n",
       "  <thead>\n",
       "    <tr style=\"text-align: right;\">\n",
       "      <th></th>\n",
       "      <th>text</th>\n",
       "      <th>language</th>\n",
       "      <th>cleaned</th>\n",
       "      <th>code</th>\n",
       "    </tr>\n",
       "  </thead>\n",
       "  <tbody>\n",
       "    <tr>\n",
       "      <th>0</th>\n",
       "      <td>Prav tako je pomembno, da direktiva zajema pon...</td>\n",
       "      <td>Slovenian</td>\n",
       "      <td>Prav tako je pomembno da direktiva zajema pona...</td>\n",
       "      <td>1</td>\n",
       "    </tr>\n",
       "    <tr>\n",
       "      <th>1</th>\n",
       "      <td>Geneven yleissopimuksiin on kirjattu valtioide...</td>\n",
       "      <td>Finnish</td>\n",
       "      <td>Geneven yleissopimuksiin on kirjattu valtioide...</td>\n",
       "      <td>7</td>\n",
       "    </tr>\n",
       "    <tr>\n",
       "      <th>2</th>\n",
       "      <td>När det gäller det ekonomiska och finansiella ...</td>\n",
       "      <td>Swedish</td>\n",
       "      <td>När det gäller det ekonomiska och finansiella ...</td>\n",
       "      <td>12</td>\n",
       "    </tr>\n",
       "    <tr>\n",
       "      <th>3</th>\n",
       "      <td>Arvoisa puhemies, komissio ansaitsee, kuten mu...</td>\n",
       "      <td>Finnish</td>\n",
       "      <td>Arvoisa puhemies komissio ansaitsee kuten muis...</td>\n",
       "      <td>7</td>\n",
       "    </tr>\n",
       "    <tr>\n",
       "      <th>4</th>\n",
       "      <td>Proto je ještě důležitější dobré sladění a koo...</td>\n",
       "      <td>Czech</td>\n",
       "      <td>Proto je ještě důležitější dobré sladění a koo...</td>\n",
       "      <td>14</td>\n",
       "    </tr>\n",
       "  </tbody>\n",
       "</table>\n",
       "</div>"
      ],
      "text/plain": [
       "                                                text   language  \\\n",
       "0  Prav tako je pomembno, da direktiva zajema pon...  Slovenian   \n",
       "1  Geneven yleissopimuksiin on kirjattu valtioide...    Finnish   \n",
       "2  När det gäller det ekonomiska och finansiella ...    Swedish   \n",
       "3  Arvoisa puhemies, komissio ansaitsee, kuten mu...    Finnish   \n",
       "4  Proto je ještě důležitější dobré sladění a koo...      Czech   \n",
       "\n",
       "                                             cleaned  code  \n",
       "0  Prav tako je pomembno da direktiva zajema pona...     1  \n",
       "1  Geneven yleissopimuksiin on kirjattu valtioide...     7  \n",
       "2  När det gäller det ekonomiska och finansiella ...    12  \n",
       "3  Arvoisa puhemies komissio ansaitsee kuten muis...     7  \n",
       "4  Proto je ještě důležitější dobré sladění a koo...    14  "
      ]
     },
     "execution_count": 78,
     "metadata": {},
     "output_type": "execute_result"
    }
   ],
   "source": [
    "df.head()"
   ]
  },
  {
   "cell_type": "markdown",
   "metadata": {},
   "source": [
    "## Train test split"
   ]
  },
  {
   "cell_type": "code",
   "execution_count": 79,
   "metadata": {},
   "outputs": [],
   "source": [
    "from sklearn.model_selection import train_test_split\n",
    "\n",
    "X_train, X_test, y_train, y_test = train_test_split(df['cleaned'].values, df['code'].values, test_size=0.3, random_state=42)"
   ]
  },
  {
   "cell_type": "code",
   "execution_count": 80,
   "metadata": {},
   "outputs": [
    {
     "name": "stdout",
     "output_type": "stream",
     "text": [
      "(667972,) (286274,) (667972,) (286274,)\n"
     ]
    }
   ],
   "source": [
    "print(X_train.shape, X_test.shape, y_train.shape, y_test.shape)"
   ]
  },
  {
   "cell_type": "markdown",
   "metadata": {},
   "source": [
    "## Build Model\n",
    "\n",
    "* Convert to Tfidf\n",
    "* Use MultinomialNB()"
   ]
  },
  {
   "cell_type": "code",
   "execution_count": 81,
   "metadata": {},
   "outputs": [
    {
     "data": {
      "text/plain": [
       "Pipeline(memory=None,\n",
       "     steps=[('tfidf', TfidfVectorizer(analyzer='char', binary=False, decode_error='strict',\n",
       "        dtype=<class 'numpy.float64'>, encoding='utf-8', input='content',\n",
       "        lowercase=True, max_df=1.0, max_features=None, min_df=1,\n",
       "        ngram_range=(1, 3), norm='l2', preprocessor=None, smooth_idf=True,...rue,\n",
       "        vocabulary=None)), ('clf', MultinomialNB(alpha=1.0, class_prior=None, fit_prior=True))])"
      ]
     },
     "execution_count": 81,
     "metadata": {},
     "output_type": "execute_result"
    }
   ],
   "source": [
    "from sklearn.feature_extraction.text import TfidfVectorizer\n",
    "from sklearn.pipeline import Pipeline\n",
    "from sklearn.naive_bayes import MultinomialNB\n",
    "from sklearn.metrics import confusion_matrix, classification_report\n",
    "\n",
    "pipe = Pipeline([('tfidf', TfidfVectorizer(analyzer='char', ngram_range=(1, 3))),\n",
    "                 ('clf', MultinomialNB())\n",
    "                ])\n",
    "\n",
    "pipe.fit(X_train, y_train)"
   ]
  },
  {
   "cell_type": "markdown",
   "metadata": {},
   "source": [
    "## Performance"
   ]
  },
  {
   "cell_type": "code",
   "execution_count": 82,
   "metadata": {},
   "outputs": [
    {
     "name": "stdout",
     "output_type": "stream",
     "text": [
      "              precision    recall  f1-score   support\n",
      "\n",
      "   Slovenian       1.00      1.00      1.00     14085\n",
      "      Danish       1.00      1.00      1.00     14518\n",
      "      Slovak       1.00      1.00      1.00     14247\n",
      "       Greek       1.00      1.00      1.00     14417\n",
      "      German       1.00      1.00      1.00     14371\n",
      "     Spanish       1.00      1.00      1.00     14334\n",
      "     Finnish       1.00      1.00      1.00     14171\n",
      "      French       1.00      1.00      1.00     14488\n",
      "     Italian       1.00      1.00      1.00     14428\n",
      "       Dutch       1.00      1.00      1.00     14525\n",
      "  Portuguese       1.00      1.00      1.00     14316\n",
      "     Swedish       1.00      1.00      1.00     14381\n",
      "   Bulgarian       1.00      1.00      1.00     14471\n",
      "       Czech       1.00      1.00      1.00     14084\n",
      "    Estonian       1.00      1.00      1.00     14186\n",
      "   Hungarian       1.00      1.00      1.00     14342\n",
      "   Lithunian       1.00      1.00      1.00     13982\n",
      "     Latvian       1.00      1.00      1.00     14110\n",
      "      Polish       1.00      1.00      1.00     14240\n",
      "    Romanian       1.00      1.00      1.00     14578\n",
      "\n",
      "   micro avg       1.00      1.00      1.00    286274\n",
      "   macro avg       1.00      1.00      1.00    286274\n",
      "weighted avg       1.00      1.00      1.00    286274\n",
      "\n"
     ]
    }
   ],
   "source": [
    "predictions = pipe.predict(X_test)\n",
    "\n",
    "print(classification_report(y_test, predictions, target_names=label_encoding.keys()))"
   ]
  },
  {
   "cell_type": "markdown",
   "metadata": {},
   "source": [
    "## Test Model"
   ]
  },
  {
   "cell_type": "code",
   "execution_count": 83,
   "metadata": {},
   "outputs": [
    {
     "data": {
      "text/html": [
       "<div>\n",
       "<style scoped>\n",
       "    .dataframe tbody tr th:only-of-type {\n",
       "        vertical-align: middle;\n",
       "    }\n",
       "\n",
       "    .dataframe tbody tr th {\n",
       "        vertical-align: top;\n",
       "    }\n",
       "\n",
       "    .dataframe thead th {\n",
       "        text-align: right;\n",
       "    }\n",
       "</style>\n",
       "<table border=\"1\" class=\"dataframe\">\n",
       "  <thead>\n",
       "    <tr style=\"text-align: right;\">\n",
       "      <th></th>\n",
       "      <th>language</th>\n",
       "      <th>text</th>\n",
       "    </tr>\n",
       "  </thead>\n",
       "  <tbody>\n",
       "    <tr>\n",
       "      <th>0</th>\n",
       "      <td>bg</td>\n",
       "      <td>Европа 2020 не трябва да стартира нов конкурен...</td>\n",
       "    </tr>\n",
       "    <tr>\n",
       "      <th>1</th>\n",
       "      <td>bg</td>\n",
       "      <td>(CS) Най-голямата несправедливост на сегашната...</td>\n",
       "    </tr>\n",
       "    <tr>\n",
       "      <th>2</th>\n",
       "      <td>bg</td>\n",
       "      <td>(DE) Г-жо председател, г-н член на Комисията, ...</td>\n",
       "    </tr>\n",
       "    <tr>\n",
       "      <th>3</th>\n",
       "      <td>bg</td>\n",
       "      <td>(DE) Г-н председател, бих искал да започна с к...</td>\n",
       "    </tr>\n",
       "    <tr>\n",
       "      <th>4</th>\n",
       "      <td>bg</td>\n",
       "      <td>(DE) Г-н председател, въпросът за правата на ч...</td>\n",
       "    </tr>\n",
       "  </tbody>\n",
       "</table>\n",
       "</div>"
      ],
      "text/plain": [
       "  language                                               text\n",
       "0       bg  Европа 2020 не трябва да стартира нов конкурен...\n",
       "1       bg  (CS) Най-голямата несправедливост на сегашната...\n",
       "2       bg  (DE) Г-жо председател, г-н член на Комисията, ...\n",
       "3       bg  (DE) Г-н председател, бих искал да започна с к...\n",
       "4       bg  (DE) Г-н председател, въпросът за правата на ч..."
      ]
     },
     "execution_count": 83,
     "metadata": {},
     "output_type": "execute_result"
    }
   ],
   "source": [
    "df2 = pd.read_csv('europarl-Copy.csv', sep='\\t', names=['language', 'text'])\n",
    "df2.head()"
   ]
  },
  {
   "cell_type": "markdown",
   "metadata": {},
   "source": [
    "* invert language codes"
   ]
  },
  {
   "cell_type": "code",
   "execution_count": 84,
   "metadata": {},
   "outputs": [
    {
     "name": "stdout",
     "output_type": "stream",
     "text": [
      "{'de': 'German', 'da': 'Danish', 'sl': 'Slovenian', 'el': 'Greek', 'es': 'Spanish', 'fi': 'Finnish', 'fr': 'French', 'it': 'Italian', 'nl': 'Dutch', 'pt': 'Portuguese', 'sv': 'Swedish', 'bg': 'Bulgarian', 'cs': 'Czech', 'et': 'Estonian', 'hu': 'Hungarian', 'lt': 'Lithunian', 'lv': 'Latvian', 'pl': 'Polish', 'ro': 'Romanian', 'sk': 'Slovak'}\n"
     ]
    }
   ],
   "source": [
    "inv_lang_codes = {v: k for k, v in lang_codes.items()}\n",
    "print(inv_lang_codes)"
   ]
  },
  {
   "cell_type": "code",
   "execution_count": 85,
   "metadata": {},
   "outputs": [
    {
     "data": {
      "text/html": [
       "<div>\n",
       "<style scoped>\n",
       "    .dataframe tbody tr th:only-of-type {\n",
       "        vertical-align: middle;\n",
       "    }\n",
       "\n",
       "    .dataframe tbody tr th {\n",
       "        vertical-align: top;\n",
       "    }\n",
       "\n",
       "    .dataframe thead th {\n",
       "        text-align: right;\n",
       "    }\n",
       "</style>\n",
       "<table border=\"1\" class=\"dataframe\">\n",
       "  <thead>\n",
       "    <tr style=\"text-align: right;\">\n",
       "      <th></th>\n",
       "      <th>language</th>\n",
       "      <th>text</th>\n",
       "      <th>lang</th>\n",
       "    </tr>\n",
       "  </thead>\n",
       "  <tbody>\n",
       "    <tr>\n",
       "      <th>0</th>\n",
       "      <td>bg</td>\n",
       "      <td>Европа 2020 не трябва да стартира нов конкурен...</td>\n",
       "      <td>Bulgarian</td>\n",
       "    </tr>\n",
       "    <tr>\n",
       "      <th>1</th>\n",
       "      <td>bg</td>\n",
       "      <td>(CS) Най-голямата несправедливост на сегашната...</td>\n",
       "      <td>Bulgarian</td>\n",
       "    </tr>\n",
       "    <tr>\n",
       "      <th>2</th>\n",
       "      <td>bg</td>\n",
       "      <td>(DE) Г-жо председател, г-н член на Комисията, ...</td>\n",
       "      <td>Bulgarian</td>\n",
       "    </tr>\n",
       "    <tr>\n",
       "      <th>3</th>\n",
       "      <td>bg</td>\n",
       "      <td>(DE) Г-н председател, бих искал да започна с к...</td>\n",
       "      <td>Bulgarian</td>\n",
       "    </tr>\n",
       "    <tr>\n",
       "      <th>4</th>\n",
       "      <td>bg</td>\n",
       "      <td>(DE) Г-н председател, въпросът за правата на ч...</td>\n",
       "      <td>Bulgarian</td>\n",
       "    </tr>\n",
       "  </tbody>\n",
       "</table>\n",
       "</div>"
      ],
      "text/plain": [
       "  language                                               text       lang\n",
       "0       bg  Европа 2020 не трябва да стартира нов конкурен...  Bulgarian\n",
       "1       bg  (CS) Най-голямата несправедливост на сегашната...  Bulgarian\n",
       "2       bg  (DE) Г-жо председател, г-н член на Комисията, ...  Bulgarian\n",
       "3       bg  (DE) Г-н председател, бих искал да започна с к...  Bulgarian\n",
       "4       bg  (DE) Г-н председател, въпросът за правата на ч...  Bulgarian"
      ]
     },
     "execution_count": 85,
     "metadata": {},
     "output_type": "execute_result"
    }
   ],
   "source": [
    "df2['lang'] = df2['language'].map(inv_lang_codes)\n",
    "df2.head()"
   ]
  },
  {
   "cell_type": "markdown",
   "metadata": {},
   "source": [
    "* Remove punctuation\n",
    "* Shuffle\n",
    "* map language to integer"
   ]
  },
  {
   "cell_type": "code",
   "execution_count": 86,
   "metadata": {},
   "outputs": [
    {
     "data": {
      "text/html": [
       "<div>\n",
       "<style scoped>\n",
       "    .dataframe tbody tr th:only-of-type {\n",
       "        vertical-align: middle;\n",
       "    }\n",
       "\n",
       "    .dataframe tbody tr th {\n",
       "        vertical-align: top;\n",
       "    }\n",
       "\n",
       "    .dataframe thead th {\n",
       "        text-align: right;\n",
       "    }\n",
       "</style>\n",
       "<table border=\"1\" class=\"dataframe\">\n",
       "  <thead>\n",
       "    <tr style=\"text-align: right;\">\n",
       "      <th></th>\n",
       "      <th>language</th>\n",
       "      <th>text</th>\n",
       "      <th>lang</th>\n",
       "      <th>cleaned</th>\n",
       "      <th>code</th>\n",
       "    </tr>\n",
       "  </thead>\n",
       "  <tbody>\n",
       "    <tr>\n",
       "      <th>0</th>\n",
       "      <td>lt</td>\n",
       "      <td>Be to, ši diskusija, pateikdama sektiną pavyzd...</td>\n",
       "      <td>Lithunian</td>\n",
       "      <td>Be to ši diskusija pateikdama sektiną pavyzdį ...</td>\n",
       "      <td>17</td>\n",
       "    </tr>\n",
       "    <tr>\n",
       "      <th>1</th>\n",
       "      <td>it</td>\n",
       "      <td>Con questo concludo, Presidente, rammaricandom...</td>\n",
       "      <td>Italian</td>\n",
       "      <td>Con questo concludo Presidente rammaricandomi ...</td>\n",
       "      <td>9</td>\n",
       "    </tr>\n",
       "    <tr>\n",
       "      <th>2</th>\n",
       "      <td>pt</td>\n",
       "      <td>Gostaria de dizer uma palavra acerca do alarga...</td>\n",
       "      <td>Portuguese</td>\n",
       "      <td>Gostaria de dizer uma palavra acerca do alarga...</td>\n",
       "      <td>11</td>\n",
       "    </tr>\n",
       "    <tr>\n",
       "      <th>3</th>\n",
       "      <td>pl</td>\n",
       "      <td>Jest to ważne, jeśli chcemy spełnić oczekiwani...</td>\n",
       "      <td>Polish</td>\n",
       "      <td>Jest to ważne jeśli chcemy spełnić oczekiwania...</td>\n",
       "      <td>19</td>\n",
       "    </tr>\n",
       "    <tr>\n",
       "      <th>4</th>\n",
       "      <td>pt</td>\n",
       "      <td>Não podemos garantir uma adequada protecção am...</td>\n",
       "      <td>Portuguese</td>\n",
       "      <td>Não podemos garantir uma adequada protecção am...</td>\n",
       "      <td>11</td>\n",
       "    </tr>\n",
       "  </tbody>\n",
       "</table>\n",
       "</div>"
      ],
      "text/plain": [
       "  language                                               text        lang  \\\n",
       "0       lt  Be to, ši diskusija, pateikdama sektiną pavyzd...   Lithunian   \n",
       "1       it  Con questo concludo, Presidente, rammaricandom...     Italian   \n",
       "2       pt  Gostaria de dizer uma palavra acerca do alarga...  Portuguese   \n",
       "3       pl  Jest to ważne, jeśli chcemy spełnić oczekiwani...      Polish   \n",
       "4       pt  Não podemos garantir uma adequada protecção am...  Portuguese   \n",
       "\n",
       "                                             cleaned  code  \n",
       "0  Be to ši diskusija pateikdama sektiną pavyzdį ...    17  \n",
       "1  Con questo concludo Presidente rammaricandomi ...     9  \n",
       "2  Gostaria de dizer uma palavra acerca do alarga...    11  \n",
       "3  Jest to ważne jeśli chcemy spełnić oczekiwania...    19  \n",
       "4  Não podemos garantir uma adequada protecção am...    11  "
      ]
     },
     "execution_count": 86,
     "metadata": {},
     "output_type": "execute_result"
    }
   ],
   "source": [
    "# Remove punctuation\n",
    "df2['cleaned'] = df2['text'].apply(lambda x: ' '.join([i for i in re.sub('[<(!?).,*>]', ' ', x).split()]))\n",
    "\n",
    "# Shuffle\n",
    "df2 = df2.sample(frac=1).reset_index(drop=True)\n",
    "\n",
    "# mapping\n",
    "df2['code'] = df2['lang'].map(label_encoding)\n",
    "\n",
    "df2.head()"
   ]
  },
  {
   "cell_type": "code",
   "execution_count": 87,
   "metadata": {},
   "outputs": [
    {
     "name": "stdout",
     "output_type": "stream",
     "text": [
      "language    False\n",
      "text        False\n",
      "lang        False\n",
      "cleaned     False\n",
      "code        False\n",
      "dtype: bool\n"
     ]
    }
   ],
   "source": [
    "print(df2.isnull().any())"
   ]
  },
  {
   "cell_type": "markdown",
   "metadata": {},
   "source": [
    "* Use new data to test model"
   ]
  },
  {
   "cell_type": "code",
   "execution_count": 88,
   "metadata": {},
   "outputs": [],
   "source": [
    "preds = pipe.predict(df2['cleaned'].values)"
   ]
  },
  {
   "cell_type": "code",
   "execution_count": 89,
   "metadata": {},
   "outputs": [
    {
     "name": "stdout",
     "output_type": "stream",
     "text": [
      "              precision    recall  f1-score   support\n",
      "\n",
      "   Slovenian       1.00      1.00      1.00      1000\n",
      "      Danish       1.00      1.00      1.00      1000\n",
      "      Slovak       1.00      1.00      1.00       929\n",
      "       Greek       1.00      1.00      1.00       992\n",
      "      German       1.00      1.00      1.00      1000\n",
      "     Spanish       1.00      1.00      1.00      1000\n",
      "     Finnish       1.00      1.00      1.00      1000\n",
      "      French       1.00      1.00      1.00      1000\n",
      "     Italian       1.00      1.00      1.00      1000\n",
      "       Dutch       1.00      1.00      1.00      1000\n",
      "  Portuguese       1.00      1.00      1.00      1000\n",
      "     Swedish       1.00      1.00      1.00      1000\n",
      "   Bulgarian       1.00      1.00      1.00      1000\n",
      "       Czech       1.00      1.00      1.00      1000\n",
      "    Estonian       1.00      1.00      1.00      1000\n",
      "   Hungarian       1.00      1.00      1.00      1000\n",
      "   Lithunian       1.00      1.00      1.00      1000\n",
      "     Latvian       1.00      1.00      1.00       979\n",
      "      Polish       1.00      1.00      1.00      1000\n",
      "    Romanian       1.00      1.00      1.00       928\n",
      "\n",
      "   micro avg       1.00      1.00      1.00     19828\n",
      "   macro avg       1.00      1.00      1.00     19828\n",
      "weighted avg       1.00      1.00      1.00     19828\n",
      "\n"
     ]
    }
   ],
   "source": [
    "print(classification_report(df2['code'].values, preds, target_names=label_encoding.keys()))"
   ]
  },
  {
   "cell_type": "markdown",
   "metadata": {},
   "source": [
    "## Confusion matrix"
   ]
  },
  {
   "cell_type": "code",
   "execution_count": 91,
   "metadata": {},
   "outputs": [
    {
     "data": {
      "image/png": "[encoded data removed]",
      "text/plain": [
       "<Figure size 1296x1008 with 2 Axes>"
      ]
     },
     "metadata": {
      "needs_background": "light"
     },
     "output_type": "display_data"
    }
   ],
   "source": [
    "import matplotlib.pyplot as plt\n",
    "import seaborn as sns\n",
    "\n",
    "cm = confusion_matrix(df2['code'], pred)\n",
    "cm_df = pd.DataFrame(cm, index=label_encoding.keys(), columns=label_encoding.keys())\n",
    "\n",
    "plt.figure(figsize=(18, 14))\n",
    "sns.heatmap(cm_df, annot=True)\n",
    "\n",
    "plt.show()"
   ]
  },
  {
   "cell_type": "code",
   "execution_count": null,
   "metadata": {},
   "outputs": [],
   "source": []
  }
 ],
 "metadata": {
  "kernelspec": {
   "display_name": "Python 3",
   "language": "python",
   "name": "python3"
  },
  "language_info": {
   "codemirror_mode": {
    "name": "ipython",
    "version": 3
   },
   "file_extension": ".py",
   "mimetype": "text/x-python",
   "name": "python",
   "nbconvert_exporter": "python",
   "pygments_lexer": "ipython3",
   "version": "3.6.8"
  }
 },
 "nbformat": 4,
 "nbformat_minor": 2
}
