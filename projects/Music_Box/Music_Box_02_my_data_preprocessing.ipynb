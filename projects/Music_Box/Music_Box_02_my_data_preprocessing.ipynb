{
 "cells": [
  {
   "cell_type": "markdown",
   "metadata": {},
   "source": [
    "# Music Box Churn Prediction and Recommendation using Spark\n",
    "\n",
    "# Data preprocessing"
   ]
  },
  {
   "cell_type": "code",
   "execution_count": 1,
   "metadata": {},
   "outputs": [],
   "source": [
    "import os\n",
    "import pandas as pd\n",
    "import numpy as np\n",
    "import matplotlib.pyplot as plt"
   ]
  },
  {
   "cell_type": "code",
   "execution_count": 2,
   "metadata": {},
   "outputs": [],
   "source": [
    "path = os.getcwd()\n",
    "data_dir = path + '/data/'"
   ]
  },
  {
   "cell_type": "markdown",
   "metadata": {},
   "source": [
    "## 1. Load combined log data into pandas\n",
    "\n",
    "There are 3 log files `all_play.log`, `all_down.log`, and `all_search.log`.\n",
    "\n",
    "Use `pd.read_csv(filename, sep=' ',header=None)` to specify the separator as a single space.\n",
    "\n",
    "Use `pd.read_csv(filename, sep='\\s+',header=None)` to specify the separator as spaces or tab.\n",
    "\n",
    "The encoding of the log files are **latin-1**."
   ]
  },
  {
   "cell_type": "code",
   "execution_count": 3,
   "metadata": {},
   "outputs": [],
   "source": [
    "play_column_names = ['uid','device','song_id','song_type','song_name','singer','play_time','song_length','paid_flag', 'date']\n",
    "down_column_names = ['uid','device','song_id','song_name','singer','paid_flag', 'date']\n",
    "search_column_names = ['uid','device','time_stamp','search_query', 'date']\n",
    "\n",
    "# Common arguments\n",
    "# params = {'sep': '\\t',\n",
    "#           'header': None,\n",
    "# #           'error_bad_lines': False,\n",
    "#           'index_col': None,\n",
    "#           'encoding': 'latin-1'}"
   ]
  },
  {
   "cell_type": "markdown",
   "metadata": {},
   "source": [
    "### Load `all_play.log` to dataframe\n",
    "\n",
    "* `df_play = pd.read_csv(data_dir + 'play/all_play.log', names=play_column_names, **params)` doesn't work.\n",
    "* Because the `all_play.log` is 8.9 GB, it is too large and cannot load into memory.\n",
    "* Need to load chunk using `chunksize=1000`.\n",
    "\n",
    "#### Count the number of plays for each uid (user)\n",
    "\n",
    "* Because the `all_play.log` is too large, we need to do some data cleaning to reduce the size befor we combine all chunks into one.\n",
    "* If only load `uid` column into dataframe, then the size is not too big and can be loaded into pandas dataframe."
   ]
  },
  {
   "cell_type": "code",
   "execution_count": 4,
   "metadata": {},
   "outputs": [],
   "source": [
    "df_uid_all = pd.read_csv(data_dir + 'all_play.log', sep='\\t', usecols=[0], names=['uid'], header=None)\n",
    "df_uid_all['count'] = 1"
   ]
  },
  {
   "cell_type": "code",
   "execution_count": 5,
   "metadata": {},
   "outputs": [
    {
     "data": {
      "text/html": [
       "<div>\n",
       "<style scoped>\n",
       "    .dataframe tbody tr th:only-of-type {\n",
       "        vertical-align: middle;\n",
       "    }\n",
       "\n",
       "    .dataframe tbody tr th {\n",
       "        vertical-align: top;\n",
       "    }\n",
       "\n",
       "    .dataframe thead th {\n",
       "        text-align: right;\n",
       "    }\n",
       "</style>\n",
       "<table border=\"1\" class=\"dataframe\">\n",
       "  <thead>\n",
       "    <tr style=\"text-align: right;\">\n",
       "      <th></th>\n",
       "      <th>uid</th>\n",
       "      <th>count</th>\n",
       "    </tr>\n",
       "  </thead>\n",
       "  <tbody>\n",
       "    <tr>\n",
       "      <th>0</th>\n",
       "      <td>168335198.0</td>\n",
       "      <td>1</td>\n",
       "    </tr>\n",
       "    <tr>\n",
       "      <th>1</th>\n",
       "      <td>168310452.0</td>\n",
       "      <td>1</td>\n",
       "    </tr>\n",
       "    <tr>\n",
       "      <th>2</th>\n",
       "      <td>168308159.0</td>\n",
       "      <td>1</td>\n",
       "    </tr>\n",
       "    <tr>\n",
       "      <th>3</th>\n",
       "      <td>168071768.0</td>\n",
       "      <td>1</td>\n",
       "    </tr>\n",
       "    <tr>\n",
       "      <th>4</th>\n",
       "      <td>168480816.0</td>\n",
       "      <td>1</td>\n",
       "    </tr>\n",
       "  </tbody>\n",
       "</table>\n",
       "</div>"
      ],
      "text/plain": [
       "           uid  count\n",
       "0  168335198.0      1\n",
       "1  168310452.0      1\n",
       "2  168308159.0      1\n",
       "3  168071768.0      1\n",
       "4  168480816.0      1"
      ]
     },
     "execution_count": 5,
     "metadata": {},
     "output_type": "execute_result"
    }
   ],
   "source": [
    "df_uid_all.head()"
   ]
  },
  {
   "cell_type": "code",
   "execution_count": 6,
   "metadata": {},
   "outputs": [
    {
     "name": "stdout",
     "output_type": "stream",
     "text": [
      "<class 'pandas.core.frame.DataFrame'>\n",
      "RangeIndex: 132575488 entries, 0 to 132575487\n",
      "Data columns (total 2 columns):\n",
      "uid      float64\n",
      "count    int64\n",
      "dtypes: float64(1), int64(1)\n",
      "memory usage: 2.0 GB\n"
     ]
    }
   ],
   "source": [
    "df_uid_all.info()"
   ]
  },
  {
   "cell_type": "markdown",
   "metadata": {},
   "source": [
    "Now group by the `uid` to get the number of plays for each `uid`."
   ]
  },
  {
   "cell_type": "code",
   "execution_count": 7,
   "metadata": {},
   "outputs": [],
   "source": [
    "df_uid_group = df_uid_all.groupby('uid')['count'].sum().reset_index()"
   ]
  },
  {
   "cell_type": "code",
   "execution_count": 8,
   "metadata": {},
   "outputs": [
    {
     "data": {
      "text/html": [
       "<div>\n",
       "<style scoped>\n",
       "    .dataframe tbody tr th:only-of-type {\n",
       "        vertical-align: middle;\n",
       "    }\n",
       "\n",
       "    .dataframe tbody tr th {\n",
       "        vertical-align: top;\n",
       "    }\n",
       "\n",
       "    .dataframe thead th {\n",
       "        text-align: right;\n",
       "    }\n",
       "</style>\n",
       "<table border=\"1\" class=\"dataframe\">\n",
       "  <thead>\n",
       "    <tr style=\"text-align: right;\">\n",
       "      <th></th>\n",
       "      <th>uid</th>\n",
       "      <th>count</th>\n",
       "    </tr>\n",
       "  </thead>\n",
       "  <tbody>\n",
       "    <tr>\n",
       "      <th>0</th>\n",
       "      <td>0.0</td>\n",
       "      <td>1093190</td>\n",
       "    </tr>\n",
       "    <tr>\n",
       "      <th>1</th>\n",
       "      <td>12333.0</td>\n",
       "      <td>341</td>\n",
       "    </tr>\n",
       "    <tr>\n",
       "      <th>2</th>\n",
       "      <td>36816.0</td>\n",
       "      <td>4</td>\n",
       "    </tr>\n",
       "    <tr>\n",
       "      <th>3</th>\n",
       "      <td>51923.0</td>\n",
       "      <td>2</td>\n",
       "    </tr>\n",
       "    <tr>\n",
       "      <th>4</th>\n",
       "      <td>60183.0</td>\n",
       "      <td>953</td>\n",
       "    </tr>\n",
       "  </tbody>\n",
       "</table>\n",
       "</div>"
      ],
      "text/plain": [
       "       uid    count\n",
       "0      0.0  1093190\n",
       "1  12333.0      341\n",
       "2  36816.0        4\n",
       "3  51923.0        2\n",
       "4  60183.0      953"
      ]
     },
     "execution_count": 8,
     "metadata": {},
     "output_type": "execute_result"
    }
   ],
   "source": [
    "df_uid_group.head()"
   ]
  },
  {
   "cell_type": "code",
   "execution_count": 9,
   "metadata": {},
   "outputs": [
    {
     "name": "stdout",
     "output_type": "stream",
     "text": [
      "<class 'pandas.core.frame.DataFrame'>\n",
      "RangeIndex: 516884 entries, 0 to 516883\n",
      "Data columns (total 2 columns):\n",
      "uid      516884 non-null float64\n",
      "count    516884 non-null int64\n",
      "dtypes: float64(1), int64(1)\n",
      "memory usage: 7.9 MB\n"
     ]
    }
   ],
   "source": [
    "df_uid_group.info()"
   ]
  },
  {
   "cell_type": "markdown",
   "metadata": {},
   "source": [
    "#### Show the distribution of the number of plays"
   ]
  },
  {
   "cell_type": "code",
   "execution_count": 10,
   "metadata": {},
   "outputs": [
    {
     "data": {
      "image/png": "[encoded data removed]",
      "text/plain": [
       "<Figure size 432x288 with 1 Axes>"
      ]
     },
     "metadata": {
      "needs_background": "light"
     },
     "output_type": "display_data"
    }
   ],
   "source": [
    "ax = np.log10(df_uid_group['count']).plot.hist(bins=np.arange(0, 5, 0.2))\n",
    "ax.set_xlabel('Number of plays ($10^n$)')\n",
    "plt.show()"
   ]
  },
  {
   "cell_type": "markdown",
   "metadata": {},
   "source": [
    "#### Find the outliers and remove them\n",
    "\n",
    "Find the number of plays for 99.9% of the users and set the rest to be outliers."
   ]
  },
  {
   "cell_type": "code",
   "execution_count": 11,
   "metadata": {},
   "outputs": [
    {
     "name": "stdout",
     "output_type": "stream",
     "text": [
      "99.9% of the users have number of plays less then 5044\n"
     ]
    }
   ],
   "source": [
    "# Select the number of plays of 99.9% user\n",
    "count_threshold = round(np.percentile(df_uid_group['count'], 99.9))\n",
    "print('99.9%% of the users have number of plays less then %d' % count_threshold)"
   ]
  },
  {
   "cell_type": "code",
   "execution_count": 12,
   "metadata": {},
   "outputs": [
    {
     "name": "stdout",
     "output_type": "stream",
     "text": [
      "Before droping outliers, there are 516884 rows and after droping outliers, there are 516367 rows.\n",
      "Each row is a user id (uid).\n"
     ]
    }
   ],
   "source": [
    "# Select the outliers\n",
    "outliers = df_uid_group[df_uid_group['count'] > count_threshold]\n",
    "\n",
    "before_droping_outliers = len(df_uid_group)\n",
    "\n",
    "# drop outliers\n",
    "df_uid_group.drop(outliers.index, inplace=True)\n",
    "after_droping_outliers = len(df_uid_group)\n",
    "\n",
    "print('Before droping outliers, there are %d rows and after droping outliers, there are %d rows.' % (before_droping_outliers, after_droping_outliers))\n",
    "print('Each row is a user id (uid).')"
   ]
  },
  {
   "cell_type": "markdown",
   "metadata": {},
   "source": [
    "#### Apply downsampling on `uid` level"
   ]
  },
  {
   "cell_type": "code",
   "execution_count": 13,
   "metadata": {},
   "outputs": [
    {
     "name": "stdout",
     "output_type": "stream",
     "text": [
      "516367\n",
      "516367\n"
     ]
    }
   ],
   "source": [
    "# Firstly, remove the rows without uid\n",
    "df_uid_group['uid'].dropna(inplace=True)\n",
    "print(len(df_uid_group))\n",
    "print(df_uid_group.shape[0])"
   ]
  },
  {
   "cell_type": "code",
   "execution_count": 14,
   "metadata": {},
   "outputs": [
    {
     "name": "stdout",
     "output_type": "stream",
     "text": [
      "51637\n"
     ]
    }
   ],
   "source": [
    "np.random.seed = 123\n",
    "downsample_ratio = 0.1\n",
    "\n",
    "df_uid_group_subset = df_uid_group.sample(frac=downsample_ratio)\n",
    "print(df_uid_group_subset.shape[0])"
   ]
  },
  {
   "cell_type": "code",
   "execution_count": 15,
   "metadata": {},
   "outputs": [
    {
     "data": {
      "text/html": [
       "<div>\n",
       "<style scoped>\n",
       "    .dataframe tbody tr th:only-of-type {\n",
       "        vertical-align: middle;\n",
       "    }\n",
       "\n",
       "    .dataframe tbody tr th {\n",
       "        vertical-align: top;\n",
       "    }\n",
       "\n",
       "    .dataframe thead th {\n",
       "        text-align: right;\n",
       "    }\n",
       "</style>\n",
       "<table border=\"1\" class=\"dataframe\">\n",
       "  <thead>\n",
       "    <tr style=\"text-align: right;\">\n",
       "      <th></th>\n",
       "      <th>uid</th>\n",
       "      <th>count</th>\n",
       "    </tr>\n",
       "  </thead>\n",
       "  <tbody>\n",
       "    <tr>\n",
       "      <th>514860</th>\n",
       "      <td>169041286.0</td>\n",
       "      <td>101</td>\n",
       "    </tr>\n",
       "    <tr>\n",
       "      <th>367986</th>\n",
       "      <td>168666527.0</td>\n",
       "      <td>60</td>\n",
       "    </tr>\n",
       "    <tr>\n",
       "      <th>300277</th>\n",
       "      <td>168500301.0</td>\n",
       "      <td>1695</td>\n",
       "    </tr>\n",
       "    <tr>\n",
       "      <th>353080</th>\n",
       "      <td>168625516.0</td>\n",
       "      <td>1</td>\n",
       "    </tr>\n",
       "    <tr>\n",
       "      <th>241943</th>\n",
       "      <td>168330655.0</td>\n",
       "      <td>1</td>\n",
       "    </tr>\n",
       "  </tbody>\n",
       "</table>\n",
       "</div>"
      ],
      "text/plain": [
       "                uid  count\n",
       "514860  169041286.0    101\n",
       "367986  168666527.0     60\n",
       "300277  168500301.0   1695\n",
       "353080  168625516.0      1\n",
       "241943  168330655.0      1"
      ]
     },
     "execution_count": 15,
     "metadata": {},
     "output_type": "execute_result"
    }
   ],
   "source": [
    "df_uid_group_subset.head()"
   ]
  },
  {
   "cell_type": "code",
   "execution_count": 16,
   "metadata": {},
   "outputs": [
    {
     "name": "stdout",
     "output_type": "stream",
     "text": [
      "<class 'pandas.core.frame.DataFrame'>\n",
      "Int64Index: 51637 entries, 514860 to 283677\n",
      "Data columns (total 2 columns):\n",
      "uid      51637 non-null float64\n",
      "count    51637 non-null int64\n",
      "dtypes: float64(1), int64(1)\n",
      "memory usage: 1.2 MB\n"
     ]
    }
   ],
   "source": [
    "df_uid_group_subset.info()"
   ]
  },
  {
   "cell_type": "code",
   "execution_count": 17,
   "metadata": {},
   "outputs": [],
   "source": [
    "keep_uid = df_uid_group_subset['uid'].values"
   ]
  },
  {
   "cell_type": "markdown",
   "metadata": {},
   "source": [
    "## 2. Downsample\n",
    "\n",
    "* Only select rows with `uid` in `keep_uid` and save into csv file.\n",
    "\n",
    "### Convert datetime format"
   ]
  },
  {
   "cell_type": "code",
   "execution_count": 18,
   "metadata": {},
   "outputs": [],
   "source": [
    "import datetime\n",
    "\n",
    "def convert_date(s):\n",
    "    s = str(s).strip()\n",
    "    try:\n",
    "        year = int(s[:4])\n",
    "        month = int(s[4:6])\n",
    "        day = int(s[6:8])\n",
    "        return datetime.date(year, month, day)\n",
    "    except:\n",
    "        return None"
   ]
  },
  {
   "cell_type": "code",
   "execution_count": 19,
   "metadata": {},
   "outputs": [],
   "source": [
    "import csv\n",
    "\n",
    "def downsample(input_file, output_file, input_fields, output_fields):\n",
    "    with open(input_file, 'r', encoding='latin-1') as fin, \\\n",
    "         open(output_file, 'w', encoding='latin-1') as fout:\n",
    "        csv_in = csv.DictReader(fin, delimiter='\\t', fieldnames=input_fields, quoting=csv.QUOTE_NONE)\n",
    "        csv_out = csv.writer(fout, delimiter=',')\n",
    "        \n",
    "        # write header\n",
    "        csv_out.writerow(output_fields)\n",
    "\n",
    "        for row in csv_in:\n",
    "            try:\n",
    "                int(row['uid'])\n",
    "            except:\n",
    "                continue\n",
    "            if int(row['uid']) in keep_uid:\n",
    "                row['date'] = convert_date(row['date'])\n",
    "                if row['date'] != None:\n",
    "                    csv_out.writerow([str(row[key]).strip() for key in output_fields])"
   ]
  },
  {
   "cell_type": "code",
   "execution_count": 20,
   "metadata": {},
   "outputs": [],
   "source": [
    "play_input_file = data_dir + 'all_play.log'\n",
    "down_input_file = data_dir + 'all_down.log'\n",
    "search_input_file = data_dir + 'all_search.log'\n",
    "\n",
    "play_output_file = data_dir + 'play.csv'\n",
    "down_output_file = data_dir + 'down.csv'\n",
    "search_output_file = data_dir + 'search.csv'\n",
    "\n",
    "play_input_fields = play_column_names\n",
    "down_input_fields = down_column_names\n",
    "search_input_fields = search_column_names\n",
    "\n",
    "play_output_fields = ['uid', 'device', 'song_id', 'date', 'play_time', 'song_length']\n",
    "down_output_fields = ['uid', 'device', 'song_id', 'date']\n",
    "search_output_fields = ['uid', 'device', 'date']"
   ]
  },
  {
   "cell_type": "code",
   "execution_count": 21,
   "metadata": {},
   "outputs": [],
   "source": [
    "downsample(play_input_file, play_output_file, play_input_fields, play_output_fields)\n",
    "downsample(down_input_file, down_output_file, down_input_fields, down_output_fields)\n",
    "downsample(search_input_file, search_output_file, search_input_fields, search_output_fields)"
   ]
  },
  {
   "cell_type": "markdown",
   "metadata": {},
   "source": [
    "## 3. Combine all csv to a large csv\n",
    "\n",
    "* If the key doesn't exist, then set the value to empty."
   ]
  },
  {
   "cell_type": "code",
   "execution_count": 22,
   "metadata": {},
   "outputs": [],
   "source": [
    "def combine_csv(file_play, file_down, file_search, file_out, fields_play, fields_down, fields_search, fields_out):\n",
    "    with open(file_play, 'r') as fplay, \\\n",
    "         open(file_down, 'r') as fdown, \\\n",
    "         open(file_search, 'r') as fsearch, \\\n",
    "         open(file_out, 'w') as fout:\n",
    "        \n",
    "        csv_play = csv.DictReader(fplay, delimiter=',', fieldnames=fields_play)\n",
    "        csv_down = csv.DictReader(fdown, delimiter=',', fieldnames=fields_down)\n",
    "        csv_search = csv.DictReader(fsearch, delimiter=',', fieldnames=fields_search)\n",
    "        \n",
    "        csv_out = csv.writer(fout, delimiter=',')\n",
    "        \n",
    "        # write header\n",
    "        csv_out.writerow(fields_out)\n",
    "        \n",
    "        for row in csv_play:\n",
    "            row['event'] = 'P'\n",
    "            try:\n",
    "                int(row['uid'])\n",
    "            except:\n",
    "                continue\n",
    "            csv_out.writerow([row.get(key, '') for key in fields_out])\n",
    "        for row in csv_down:\n",
    "            row['event'] = 'D'\n",
    "            try:\n",
    "                int(row['uid'])\n",
    "            except:\n",
    "                continue\n",
    "            csv_out.writerow([row.get(key, '') for key in fields_out])\n",
    "        for row in csv_search:\n",
    "            row['event'] = 'S'\n",
    "            try:\n",
    "                int(row['uid'])\n",
    "            except:\n",
    "                continue\n",
    "            csv_out.writerow([row.get(key, '') for key in fields_out])"
   ]
  },
  {
   "cell_type": "code",
   "execution_count": 23,
   "metadata": {},
   "outputs": [],
   "source": [
    "file_play = play_output_file\n",
    "file_down = down_output_file\n",
    "file_search = search_output_file\n",
    "file_out = data_dir + 'events.csv'\n",
    "\n",
    "fields_play = play_output_fields\n",
    "fields_down = down_output_fields\n",
    "fields_search = search_output_fields\n",
    "fields_out = ['uid','event','song_id','date']"
   ]
  },
  {
   "cell_type": "code",
   "execution_count": 24,
   "metadata": {},
   "outputs": [],
   "source": [
    "combine_csv(file_play, file_down, file_search, file_out, fields_play, fields_down, fields_search, fields_out)"
   ]
  },
  {
   "cell_type": "code",
   "execution_count": null,
   "metadata": {},
   "outputs": [],
   "source": []
  }
 ],
 "metadata": {
  "kernelspec": {
   "display_name": "Python 3",
   "language": "python",
   "name": "python3"
  },
  "language_info": {
   "codemirror_mode": {
    "name": "ipython",
    "version": 3
   },
   "file_extension": ".py",
   "mimetype": "text/x-python",
   "name": "python",
   "nbconvert_exporter": "python",
   "pygments_lexer": "ipython3",
   "version": "3.6.6"
  }
 },
 "nbformat": 4,
 "nbformat_minor": 2
}
