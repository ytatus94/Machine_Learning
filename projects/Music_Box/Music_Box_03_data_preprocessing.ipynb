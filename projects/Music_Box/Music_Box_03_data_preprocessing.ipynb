{
 "cells": [
  {
   "cell_type": "markdown",
   "metadata": {},
   "source": [
    "# Music Box Churn Prediction and Recommendation using Spark\n",
    "\n",
    "# Data preprocessing\n",
    "\n",
    "## 1. Get user id list and count\n",
    "\n",
    "* Must add **export LANG=C** to avoid _error: illegal byte sequence_.\n",
    "  * See [Getting “sed error - illegal byte sequence” (in bash)\n",
    "](https://stackoverflow.com/questions/11287564/getting-sed-error-illegal-byte-sequence-in-bash)"
   ]
  },
  {
   "cell_type": "code",
   "execution_count": 1,
   "metadata": {},
   "outputs": [
    {
     "name": "stdout",
     "output_type": "stream",
     "text": [
      "\n",
      "export LC_CTYPE=C \n",
      "export LANG=C\n",
      "cat /Users/ytshen/Desktop/Machine_Learning/Music_Box/data/all_play_log | cut -f1 -d$'\\t' | sort | uniq -c | sed -e 's/^ *//g;s/ *$//g' > uid_count.csv\n",
      "\n"
     ]
    },
    {
     "data": {
      "text/plain": [
       "0"
      ]
     },
     "execution_count": 1,
     "metadata": {},
     "output_type": "execute_result"
    }
   ],
   "source": [
    "import os\n",
    "\n",
    "cmd = r\"\"\"\n",
    "export LC_CTYPE=C \n",
    "export LANG=C\n",
    "cat /Users/ytshen/Desktop/Machine_Learning/Music_Box/data/all_play_log | cut -f1 -d$'\\t' | sort | uniq -c | sed -e 's/^ *//g;s/ *$//g' > data/uid_count.csv\n",
    "\"\"\"\n",
    "print(cmd)\n",
    "\n",
    "os.system(cmd)"
   ]
  },
  {
   "cell_type": "code",
   "execution_count": 2,
   "metadata": {},
   "outputs": [],
   "source": [
    "import numpy as np\n",
    "import pandas as pd\n",
    "import matplotlib.pyplot as plt"
   ]
  },
  {
   "cell_type": "markdown",
   "metadata": {},
   "source": [
    "Use `pd.read_csv(filename, sep=' ',header=None)` to specify the separator as a single space.\n",
    "\n",
    "Use `pd.read_csv(filename, sep='\\s+',header=None)` to specify the separator as spaces or tab."
   ]
  },
  {
   "cell_type": "code",
   "execution_count": 3,
   "metadata": {},
   "outputs": [],
   "source": [
    "df_uid = pd.read_csv('uid_count.csv', sep='\\s+', names=['count', 'uid'])"
   ]
  },
  {
   "cell_type": "code",
   "execution_count": 4,
   "metadata": {},
   "outputs": [
    {
     "name": "stdout",
     "output_type": "stream",
     "text": [
      "<class 'pandas.core.frame.DataFrame'>\n",
      "RangeIndex: 594534 entries, 0 to 594533\n",
      "Data columns (total 2 columns):\n",
      "count    594534 non-null int64\n",
      "uid      594533 non-null float64\n",
      "dtypes: float64(1), int64(1)\n",
      "memory usage: 9.1 MB\n"
     ]
    }
   ],
   "source": [
    "df_uid.info()"
   ]
  },
  {
   "cell_type": "code",
   "execution_count": 5,
   "metadata": {},
   "outputs": [
    {
     "data": {
      "text/html": [
       "<div>\n",
       "<style scoped>\n",
       "    .dataframe tbody tr th:only-of-type {\n",
       "        vertical-align: middle;\n",
       "    }\n",
       "\n",
       "    .dataframe tbody tr th {\n",
       "        vertical-align: top;\n",
       "    }\n",
       "\n",
       "    .dataframe thead th {\n",
       "        text-align: right;\n",
       "    }\n",
       "</style>\n",
       "<table border=\"1\" class=\"dataframe\">\n",
       "  <thead>\n",
       "    <tr style=\"text-align: right;\">\n",
       "      <th></th>\n",
       "      <th>count</th>\n",
       "      <th>uid</th>\n",
       "    </tr>\n",
       "  </thead>\n",
       "  <tbody>\n",
       "    <tr>\n",
       "      <th>0</th>\n",
       "      <td>2</td>\n",
       "      <td>NaN</td>\n",
       "    </tr>\n",
       "    <tr>\n",
       "      <th>1</th>\n",
       "      <td>1161804</td>\n",
       "      <td>0.0</td>\n",
       "    </tr>\n",
       "    <tr>\n",
       "      <th>2</th>\n",
       "      <td>2</td>\n",
       "      <td>100002491.0</td>\n",
       "    </tr>\n",
       "    <tr>\n",
       "      <th>3</th>\n",
       "      <td>56</td>\n",
       "      <td>100052111.0</td>\n",
       "    </tr>\n",
       "    <tr>\n",
       "      <th>4</th>\n",
       "      <td>9</td>\n",
       "      <td>100071797.0</td>\n",
       "    </tr>\n",
       "  </tbody>\n",
       "</table>\n",
       "</div>"
      ],
      "text/plain": [
       "     count          uid\n",
       "0        2          NaN\n",
       "1  1161804          0.0\n",
       "2        2  100002491.0\n",
       "3       56  100052111.0\n",
       "4        9  100071797.0"
      ]
     },
     "execution_count": 5,
     "metadata": {},
     "output_type": "execute_result"
    }
   ],
   "source": [
    "df_uid.head()"
   ]
  },
  {
   "cell_type": "code",
   "execution_count": 6,
   "metadata": {},
   "outputs": [
    {
     "data": {
      "text/html": [
       "<div>\n",
       "<style scoped>\n",
       "    .dataframe tbody tr th:only-of-type {\n",
       "        vertical-align: middle;\n",
       "    }\n",
       "\n",
       "    .dataframe tbody tr th {\n",
       "        vertical-align: top;\n",
       "    }\n",
       "\n",
       "    .dataframe thead th {\n",
       "        text-align: right;\n",
       "    }\n",
       "</style>\n",
       "<table border=\"1\" class=\"dataframe\">\n",
       "  <thead>\n",
       "    <tr style=\"text-align: right;\">\n",
       "      <th></th>\n",
       "      <th>count</th>\n",
       "      <th>uid</th>\n",
       "    </tr>\n",
       "  </thead>\n",
       "  <tbody>\n",
       "    <tr>\n",
       "      <th>count</th>\n",
       "      <td>5.945340e+05</td>\n",
       "      <td>5.945330e+05</td>\n",
       "    </tr>\n",
       "    <tr>\n",
       "      <th>mean</th>\n",
       "      <td>2.451517e+02</td>\n",
       "      <td>1.673632e+08</td>\n",
       "    </tr>\n",
       "    <tr>\n",
       "      <th>std</th>\n",
       "      <td>1.520558e+04</td>\n",
       "      <td>1.047090e+07</td>\n",
       "    </tr>\n",
       "    <tr>\n",
       "      <th>min</th>\n",
       "      <td>1.000000e+00</td>\n",
       "      <td>0.000000e+00</td>\n",
       "    </tr>\n",
       "    <tr>\n",
       "      <th>25%</th>\n",
       "      <td>9.000000e+00</td>\n",
       "      <td>1.680265e+08</td>\n",
       "    </tr>\n",
       "    <tr>\n",
       "      <th>50%</th>\n",
       "      <td>4.000000e+01</td>\n",
       "      <td>1.684785e+08</td>\n",
       "    </tr>\n",
       "    <tr>\n",
       "      <th>75%</th>\n",
       "      <td>1.730000e+02</td>\n",
       "      <td>1.687686e+08</td>\n",
       "    </tr>\n",
       "    <tr>\n",
       "      <th>max</th>\n",
       "      <td>7.467056e+06</td>\n",
       "      <td>1.692623e+08</td>\n",
       "    </tr>\n",
       "  </tbody>\n",
       "</table>\n",
       "</div>"
      ],
      "text/plain": [
       "              count           uid\n",
       "count  5.945340e+05  5.945330e+05\n",
       "mean   2.451517e+02  1.673632e+08\n",
       "std    1.520558e+04  1.047090e+07\n",
       "min    1.000000e+00  0.000000e+00\n",
       "25%    9.000000e+00  1.680265e+08\n",
       "50%    4.000000e+01  1.684785e+08\n",
       "75%    1.730000e+02  1.687686e+08\n",
       "max    7.467056e+06  1.692623e+08"
      ]
     },
     "execution_count": 6,
     "metadata": {},
     "output_type": "execute_result"
    }
   ],
   "source": [
    "df_uid.describe()"
   ]
  },
  {
   "cell_type": "markdown",
   "metadata": {},
   "source": [
    "## 2. Remove bots and outliers"
   ]
  },
  {
   "cell_type": "code",
   "execution_count": 7,
   "metadata": {},
   "outputs": [
    {
     "data": {
      "image/png": "[encoded data removed]",
      "text/plain": [
       "<Figure size 432x288 with 1 Axes>"
      ]
     },
     "metadata": {
      "needs_background": "light"
     },
     "output_type": "display_data"
    }
   ],
   "source": [
    "ax = np.log10(df_uid['count']).plot.hist(bins=np.arange(0, 5, 0.2))\n",
    "ax.set_xlabel('Number of plays ($10^n$)')\n",
    "plt.show()"
   ]
  },
  {
   "cell_type": "markdown",
   "metadata": {},
   "source": [
    "Find the number of plays for 99.9% of the users and set the rest to be outliers."
   ]
  },
  {
   "cell_type": "code",
   "execution_count": 8,
   "metadata": {},
   "outputs": [
    {
     "name": "stdout",
     "output_type": "stream",
     "text": [
      "99.9% of the users have number of plays less then 5174\n"
     ]
    }
   ],
   "source": [
    "# Select the number of plays of 99.9% user\n",
    "count_threshold = round(np.percentile(df_uid['count'], 99.9))\n",
    "print('99.9%% of the users have number of plays less then %d' % count_threshold)"
   ]
  },
  {
   "cell_type": "code",
   "execution_count": 9,
   "metadata": {},
   "outputs": [
    {
     "name": "stdout",
     "output_type": "stream",
     "text": [
      "Before droping outliers, there are 594534 rows and after droping outliers, there are 593938 rows.\n",
      "Each row is a user id (uid).\n"
     ]
    }
   ],
   "source": [
    "# Select the outliers\n",
    "outliers = df_uid[df_uid['count'] > count_threshold]\n",
    "\n",
    "before_droping_outliers = len(df_uid)\n",
    "\n",
    "# drop outliers\n",
    "df_uid_remove_outliers = df_uid.drop(outliers.index).dropna()\n",
    "after_droping_outliers = len(df_uid_remove_outliers)\n",
    "\n",
    "print('Before droping outliers, there are %d rows and after droping outliers, there are %d rows.' % (before_droping_outliers, after_droping_outliers))\n",
    "print('Each row is a user id (uid).')"
   ]
  },
  {
   "cell_type": "markdown",
   "metadata": {},
   "source": [
    "## 3. Apply downsampling on `uid` level"
   ]
  },
  {
   "cell_type": "code",
   "execution_count": 10,
   "metadata": {},
   "outputs": [],
   "source": [
    "np.random.seed = 1\n",
    "downsample_ratio = 0.1"
   ]
  },
  {
   "cell_type": "code",
   "execution_count": 11,
   "metadata": {},
   "outputs": [
    {
     "name": "stdout",
     "output_type": "stream",
     "text": [
      "Number of user after downsampling:  59392\n"
     ]
    }
   ],
   "source": [
    "id_list_bot_removed = np.array(df_uid['uid'][df_uid['count'] < count_threshold].dropna())\n",
    "id_subset = set(id_list_bot_removed[np.random.random(id_list_bot_removed.shape) < downsample_ratio])\n",
    "print('Number of user after downsampling: ', len(id_subset))"
   ]
  },
  {
   "cell_type": "markdown",
   "metadata": {},
   "source": [
    "#### Convert datetime format"
   ]
  },
  {
   "cell_type": "code",
   "execution_count": 12,
   "metadata": {},
   "outputs": [],
   "source": [
    "import datetime\n",
    "\n",
    "def convert_date(s):\n",
    "    s = str(s).strip()\n",
    "    try:\n",
    "        year = int(s[:4])\n",
    "        month = int(s[4:6])\n",
    "        day = int(s[6:8])\n",
    "        return datetime.date(year, month, day)\n",
    "    except:\n",
    "        return None"
   ]
  },
  {
   "cell_type": "markdown",
   "metadata": {},
   "source": [
    "#### Downsample"
   ]
  },
  {
   "cell_type": "code",
   "execution_count": 13,
   "metadata": {},
   "outputs": [],
   "source": [
    "import csv\n",
    "\n",
    "def downsample_csv(input_file, output_file, input_fields, output_fields):\n",
    "    with open(input_file, 'r', encoding='latin-1') as fin, open(output_file, 'w') as fout:\n",
    "        csv_in = csv.DictReader(fin, delimiter='\\t', fieldnames=input_fields, quoting=csv.QUOTE_NONE)\n",
    "        csv_out = csv.writer(fout, delimiter=',')\n",
    "\n",
    "        # write header\n",
    "        csv_out.writerow(output_fields)\n",
    "\n",
    "        for row in csv_in:\n",
    "            try:\n",
    "                int(row['uid'])\n",
    "            except:\n",
    "                continue\n",
    "            if int(row['uid']) in id_subset:\n",
    "                row['date'] = convert_date(row['date'])\n",
    "                if row['date'] != None:\n",
    "                    csv_out.writerow([str(row[key]).strip() for key in output_fields])"
   ]
  },
  {
   "cell_type": "markdown",
   "metadata": {},
   "source": [
    "Downsample `all_play_log`"
   ]
  },
  {
   "cell_type": "code",
   "execution_count": 14,
   "metadata": {},
   "outputs": [],
   "source": [
    "input_file = '/Users/ytshen/Desktop/Machine_Learning/Music_Box/data/all_play_log'\n",
    "output_file = '/Users/ytshen/Desktop/Machine_Learning/Music_Box/data/play_ds.csv'\n",
    "\n",
    "input_fields = ['uid','device','song_id','song_type','song_name','singer','play_time','song_length','paid_flag','date']\n",
    "output_fields = ['uid', 'device', 'song_id', 'date', 'play_time', 'song_length']\n",
    "\n",
    "downsample_csv(input_file, output_file, input_fields, output_fields)"
   ]
  },
  {
   "cell_type": "markdown",
   "metadata": {},
   "source": [
    "Downsample `all_down_log`"
   ]
  },
  {
   "cell_type": "code",
   "execution_count": 15,
   "metadata": {},
   "outputs": [],
   "source": [
    "input_file = '/Users/ytshen/Desktop/Machine_Learning/Music_Box/data/all_down_log'\n",
    "output_file = '/Users/ytshen/Desktop/Machine_Learning/Music_Box/data/down_ds.csv'\n",
    "\n",
    "input_fields = ['uid', 'device', 'song_id', 'song_name', 'singer', 'paid_flag', 'date']\n",
    "output_fields = ['uid', 'device', 'song_id', 'date']\n",
    "\n",
    "downsample_csv(input_file, output_file, input_fields, output_fields)"
   ]
  },
  {
   "cell_type": "markdown",
   "metadata": {},
   "source": [
    "Downsample `all_search_log`"
   ]
  },
  {
   "cell_type": "code",
   "execution_count": 16,
   "metadata": {},
   "outputs": [],
   "source": [
    "input_file = '/Users/ytshen/Desktop/Machine_Learning/Music_Box/data/all_search_log'\n",
    "output_file = '/Users/ytshen/Desktop/Machine_Learning/Music_Box/data/search_ds.csv'\n",
    "\n",
    "input_fields = ['uid', 'device', 'time_stamp', 'search_query', 'date']\n",
    "output_fields = ['uid', 'device', 'date']\n",
    "\n",
    "downsample_csv(input_file, output_file, input_fields, output_fields)"
   ]
  },
  {
   "cell_type": "markdown",
   "metadata": {},
   "source": [
    "## 4. Create event table"
   ]
  },
  {
   "cell_type": "code",
   "execution_count": 17,
   "metadata": {},
   "outputs": [],
   "source": [
    "def create_event_table(file_play, file_down, file_search, file_output, fields_play, fields_down, fields_search, fields_output):\n",
    "    with open(file_play, 'r') as fplay, open(file_down, 'r') as fdown, \\\n",
    "         open(file_search, 'r') as fsearch, open(file_output, 'w') as fout:\n",
    "        csv_play = csv.DictReader(fplay, delimiter=',', fieldnames=fields_play)\n",
    "        csv_down = csv.DictReader(fdown, delimiter=',', fieldnames=fields_down)\n",
    "        csv_search = csv.DictReader(fsearch, delimiter=',', fieldnames=fields_search)\n",
    "        \n",
    "        csv_out = csv.writer(fout, delimiter=',')\n",
    "        # write header\n",
    "        csv_out.writerow(fields_output)\n",
    "        \n",
    "        for row in csv_play:\n",
    "            row['event'] = 'P'\n",
    "            try:\n",
    "                int(row['uid'])\n",
    "            except:\n",
    "                continue\n",
    "            csv_out.writerow([row[key] for key in fields_output])\n",
    "        for row in csv_down:\n",
    "            row['event'] = 'D'\n",
    "            try:\n",
    "                int(row['uid'])\n",
    "            except:\n",
    "                continue\n",
    "            csv_out.writerow([row[key] for key in fields_output])\n",
    "        for row in csv_search:\n",
    "            row['event'] = 'S'\n",
    "            try:\n",
    "                int(row['uid'])\n",
    "            except:\n",
    "                continue\n",
    "            csv_out.writerow([row.get(key, '') for key in fields_output])"
   ]
  },
  {
   "cell_type": "code",
   "execution_count": 18,
   "metadata": {},
   "outputs": [],
   "source": [
    "file_play = '/Users/ytshen/Desktop/Machine_Learning/Music_Box/data/play_ds.csv'\n",
    "file_down = '/Users/ytshen/Desktop/Machine_Learning/Music_Box/data/down_ds.csv'\n",
    "file_search = '/Users/ytshen/Desktop/Machine_Learning/Music_Box/data/search_ds.csv'\n",
    "\n",
    "fields_play = ['uid', 'device', 'song_id', 'date', 'play_time', 'song_length']\n",
    "fields_down = ['uid', 'device', 'song_id', 'date']\n",
    "fields_search = ['uid', 'device', 'date']\n",
    "\n",
    "file_output = '/Users/ytshen/Desktop/Machine_Learning/Music_Box/data/event_ds.csv'\n",
    "fields_output = ['uid', 'event', 'song_id', 'date']\n",
    "\n",
    "create_event_table(file_play, file_down, file_search, file_output, fields_play, fields_down, fields_search, fields_output)"
   ]
  },
  {
   "cell_type": "code",
   "execution_count": null,
   "metadata": {},
   "outputs": [],
   "source": []
  }
 ],
 "metadata": {
  "kernelspec": {
   "display_name": "Python 3",
   "language": "python",
   "name": "python3"
  },
  "language_info": {
   "codemirror_mode": {
    "name": "ipython",
    "version": 3
   },
   "file_extension": ".py",
   "mimetype": "text/x-python",
   "name": "python",
   "nbconvert_exporter": "python",
   "pygments_lexer": "ipython3",
   "version": "3.6.6"
  }
 },
 "nbformat": 4,
 "nbformat_minor": 2
}
