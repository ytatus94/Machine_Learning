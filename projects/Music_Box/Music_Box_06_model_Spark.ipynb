{
 "cells": [
  {
   "cell_type": "markdown",
   "metadata": {},
   "source": [
    "# Music Box Churn Prediction and Recommendation using Spark\n",
    "\n",
    "# Using Spark to train model\n",
    "\n",
    "# Goal:"
   ]
  },
  {
   "cell_type": "code",
   "execution_count": 1,
   "metadata": {},
   "outputs": [],
   "source": [
    "from pyspark import SparkContext\n",
    "from pyspark.sql.session import SparkSession"
   ]
  },
  {
   "cell_type": "code",
   "execution_count": 2,
   "metadata": {},
   "outputs": [],
   "source": [
    "# sc = SparkContext('local')\n",
    "# spark = SparkSession(sc)"
   ]
  },
  {
   "cell_type": "code",
   "execution_count": 3,
   "metadata": {},
   "outputs": [],
   "source": [
    "spark = SparkSession.builder.getOrCreate()"
   ]
  },
  {
   "cell_type": "code",
   "execution_count": 4,
   "metadata": {},
   "outputs": [],
   "source": [
    "from pyspark.sql.types import *\n",
    "from pyspark.mllib.linalg import Vectors, DenseVector\n",
    "from pyspark.ml import Pipeline\n",
    "from pyspark.ml.classification import LogisticRegression, DecisionTreeClassifier, RandomForestClassifier, GBTClassifier\n",
    "from pyspark.ml.evaluation import BinaryClassificationEvaluator, MulticlassClassificationEvaluator\n",
    "from pyspark.ml.feature import VectorAssembler, StringIndexer, VectorIndexer"
   ]
  },
  {
   "cell_type": "markdown",
   "metadata": {},
   "source": [
    "## 1. Load data"
   ]
  },
  {
   "cell_type": "code",
   "execution_count": 5,
   "metadata": {},
   "outputs": [],
   "source": [
    "df = spark.read.csv('data/model_final.csv', header=True, inferSchema=True).cache()"
   ]
  },
  {
   "cell_type": "code",
   "execution_count": 6,
   "metadata": {},
   "outputs": [
    {
     "name": "stdout",
     "output_type": "stream",
     "text": [
      "+---------+-----+-------------+-------------+-------------+--------------+--------------+-------------+-------------+-------------+--------------+--------------+-------------+-------------+-------------+--------------+--------------+-----------+----------------------+----------------------+----------------------+-----------------+-----------------+-----------------+------------------+------------------+--------+--------+--------+---------+---------+\n",
      "|      uid|label|freq_P_last_1|freq_P_last_3|freq_P_last_7|freq_P_last_14|freq_P_last_30|freq_S_last_1|freq_S_last_3|freq_S_last_7|freq_S_last_14|freq_S_last_30|freq_D_last_1|freq_D_last_3|freq_D_last_7|freq_D_last_14|freq_D_last_30|device_type|days_from_last_P_evnet|days_from_last_S_evnet|days_from_last_D_evnet|total_play_time_1|total_play_time_3|total_play_time_7|total_play_time_14|total_play_time_30|eighty_1|eighty_3|eighty_7|eighty_14|eighty_30|\n",
      "+---------+-----+-------------+-------------+-------------+--------------+--------------+-------------+-------------+-------------+--------------+--------------+-------------+-------------+-------------+--------------+--------------+-----------+----------------------+----------------------+----------------------+-----------------+-----------------+-----------------+------------------+------------------+--------+--------+--------+---------+---------+\n",
      "| 11596711|    0|            0|           15|           34|            69|           105|            0|            2|            3|            11|            21|            0|            0|            0|             0|             0|          2|                     0|                     1|                     0|                0|             1549|             3582|              4164|              9205|       0|       7|      13|       15|       35|\n",
      "|165827786|    1|            0|            0|            0|             0|           116|            0|            0|            0|             0|             3|            0|            0|            0|             0|             0|          2|                    24|                    24|                     0|                0|                0|                0|                 0|              3601|       0|       0|       0|        0|       12|\n",
      "|167328646|    1|            0|            0|            0|             0|            11|            0|            0|            0|             0|             1|            0|            0|            0|             0|             0|          2|                    27|                    27|                     0|                0|                0|                0|                 0|              3231|       0|       0|       0|        0|        9|\n",
      "|167569919|    1|            0|            0|            0|             0|             2|            0|            0|            0|             0|             0|            0|            0|            0|             0|             0|          2|                    27|                     0|                     0|                0|                0|                0|                 0|              1430|       0|       0|       0|        0|        0|\n",
      "|167570402|    0|            0|           12|           19|            44|            91|            0|            1|            2|             7|             9|            0|            0|            0|             0|             1|          2|                     1|                     2|                    19|                0|             1793|             3630|              7484|             17755|       0|       4|      10|       23|       55|\n",
      "|167571223|    0|            0|            8|          829|           965|          1377|            0|            0|            0|             0|             0|            0|            0|           10|            10|            35|          2|                     2|                     0|                     6|                0|             1189|            19901|             42082|            108416|       0|       4|      66|      143|      370|\n",
      "|167571405|    0|            0|            0|            1|             1|           236|            0|            0|            0|             0|             7|            0|            0|            0|             0|             0|          2|                     5|                    20|                     0|                0|                0|                0|                 0|             23149|       0|       0|       0|        0|      145|\n",
      "|167571423|    0|            0|           61|          137|           341|           620|            0|            2|           17|            26|            48|            0|            3|            7|            13|            18|          2|                     0|                     0|                     1|                0|            13637|            27366|             63431|            120701|       0|      56|     111|      254|      477|\n",
      "|167574952|    1|            0|            3|           26|            63|           106|            0|            0|            0|             0|             0|            0|            0|            0|             0|             0|          2|                     0|                     0|                     0|                0|              261|             2362|              7906|             16288|       0|       1|       9|       29|       54|\n",
      "|167575253|    0|            0|           52|           93|           233|           681|            0|            3|            3|             3|            21|            0|            0|            0|             0|             0|          2|                     0|                     1|                     0|                0|            42018|            84618|            229274|            586220|       0|      39|      73|      197|      590|\n",
      "|167577670|    0|            0|            0|            0|             0|            11|            0|            0|            0|             0|             4|            0|            0|            0|             0|             0|          2|                    19|                    19|                     0|                0|                0|                0|                 0|               517|       0|       0|       0|        0|        1|\n",
      "|167586714|    1|            0|            0|            0|            69|           201|            0|            0|            0|             0|             0|            0|            0|            0|             0|             0|          2|                     8|                     0|                     0|                0|                0|                0|              9077|             26525|       0|       0|       0|       34|       95|\n",
      "|167599280|    1|            0|            0|            0|             0|            16|            0|            0|            0|             0|             0|            0|            0|            0|             0|             0|          2|                    20|                     0|                     0|                0|                0|                0|                 0|              3154|       0|       0|       0|        0|       14|\n",
      "|167614777|    1|            0|            0|            0|             0|             1|            0|            0|            0|             0|             0|            0|            0|            0|             0|             0|          2|                    28|                     0|                     0|                0|                0|                0|                 0|                 0|       0|       0|       0|        0|        0|\n",
      "|167618975|    1|            0|            0|            0|             0|            12|            0|            0|            0|             0|             0|            0|            0|            0|             0|             0|          2|                    28|                     0|                     0|                0|                0|                0|                 0|           2746585|       0|       0|       0|        0|       12|\n",
      "|167640944|    0|            0|            0|            0|             0|            46|            0|            0|            0|             0|             7|            0|            0|            0|             0|             3|          2|                    19|                    24|                    24|                0|                0|                0|                 0|              8603|       0|       0|       0|        0|       24|\n",
      "|167650198|    0|            0|            0|           35|            76|           217|            0|            0|            0|             2|            17|            0|            0|            0|             0|             1|          1|                     3|                     8|                    22|                0|                0|             3688|             11786|             35706|       0|       0|      12|       42|      128|\n",
      "|167651907|    1|            0|            0|            0|             0|             1|            0|            0|            0|             0|             0|            0|            0|            0|             0|             0|          2|                    27|                     0|                     0|                0|                0|                0|                 0|               103|       0|       0|       0|        0|        0|\n",
      "|167654524|    0|            0|            7|            7|             7|             8|            0|            0|            0|             0|             0|            0|            0|            0|             0|             0|          2|                     2|                     0|                     0|                0|             1375|             1375|              1375|              1595|       0|       3|       3|        3|        4|\n",
      "|167659420|    0|            0|            0|           22|            83|           483|            0|            0|            5|            21|           321|            0|            0|            3|            10|            46|          1|                     5|                     4|                     4|                0|                0|             4232|             25337|             98383|       0|       0|      14|       39|      110|\n",
      "+---------+-----+-------------+-------------+-------------+--------------+--------------+-------------+-------------+-------------+--------------+--------------+-------------+-------------+-------------+--------------+--------------+-----------+----------------------+----------------------+----------------------+-----------------+-----------------+-----------------+------------------+------------------+--------+--------+--------+---------+---------+\n",
      "only showing top 20 rows\n",
      "\n"
     ]
    }
   ],
   "source": [
    "df.show()"
   ]
  },
  {
   "cell_type": "code",
   "execution_count": 7,
   "metadata": {},
   "outputs": [
    {
     "data": {
      "text/plain": [
       "DataFrame[uid: int, label: int, freq_P_last_1: int, freq_P_last_3: int, freq_P_last_7: int, freq_P_last_14: int, freq_P_last_30: int, freq_S_last_1: int, freq_S_last_3: int, freq_S_last_7: int, freq_S_last_14: int, freq_S_last_30: int, freq_D_last_1: int, freq_D_last_3: int, freq_D_last_7: int, freq_D_last_14: int, freq_D_last_30: int, device_type: int, days_from_last_P_evnet: int, days_from_last_S_evnet: int, days_from_last_D_evnet: int, total_play_time_1: int, total_play_time_3: int, total_play_time_7: int, total_play_time_14: int, total_play_time_30: int, eighty_1: int, eighty_3: int, eighty_7: int, eighty_14: int, eighty_30: int]"
      ]
     },
     "execution_count": 7,
     "metadata": {},
     "output_type": "execute_result"
    }
   ],
   "source": [
    "df"
   ]
  },
  {
   "cell_type": "markdown",
   "metadata": {},
   "source": [
    "## 2. Select features"
   ]
  },
  {
   "cell_type": "code",
   "execution_count": 8,
   "metadata": {},
   "outputs": [
    {
     "data": {
      "text/plain": [
       "['freq_P_last_1',\n",
       " 'freq_P_last_3',\n",
       " 'freq_P_last_7',\n",
       " 'freq_P_last_14',\n",
       " 'freq_P_last_30',\n",
       " 'freq_S_last_1',\n",
       " 'freq_S_last_3',\n",
       " 'freq_S_last_7',\n",
       " 'freq_S_last_14',\n",
       " 'freq_S_last_30',\n",
       " 'freq_D_last_1',\n",
       " 'freq_D_last_3',\n",
       " 'freq_D_last_7',\n",
       " 'freq_D_last_14',\n",
       " 'freq_D_last_30',\n",
       " 'days_from_last_P_evnet',\n",
       " 'days_from_last_S_evnet',\n",
       " 'days_from_last_D_evnet',\n",
       " 'total_play_time_1',\n",
       " 'total_play_time_3',\n",
       " 'total_play_time_7',\n",
       " 'total_play_time_14',\n",
       " 'total_play_time_30',\n",
       " 'eighty_1',\n",
       " 'eighty_3',\n",
       " 'eighty_7',\n",
       " 'eighty_14',\n",
       " 'eighty_30']"
      ]
     },
     "execution_count": 8,
     "metadata": {},
     "output_type": "execute_result"
    }
   ],
   "source": [
    "selected_features = df.columns\n",
    "selected_features.remove('uid')\n",
    "selected_features.remove('label')\n",
    "selected_features.remove('device_type')\n",
    "selected_features"
   ]
  },
  {
   "cell_type": "markdown",
   "metadata": {},
   "source": [
    "## 3. Build model"
   ]
  },
  {
   "cell_type": "markdown",
   "metadata": {},
   "source": [
    "### Training dataset"
   ]
  },
  {
   "cell_type": "code",
   "execution_count": 9,
   "metadata": {},
   "outputs": [],
   "source": [
    "assembler = VectorAssembler(inputCols=selected_features, outputCol='features')\n",
    "data = assembler.transform(df)"
   ]
  },
  {
   "cell_type": "markdown",
   "metadata": {},
   "source": [
    "### Train test split"
   ]
  },
  {
   "cell_type": "code",
   "execution_count": 10,
   "metadata": {},
   "outputs": [],
   "source": [
    "(train, test) = data.randomSplit([0.7, 0.3], seed=1)"
   ]
  },
  {
   "cell_type": "markdown",
   "metadata": {},
   "source": [
    "### Define prediction function"
   ]
  },
  {
   "cell_type": "code",
   "execution_count": 11,
   "metadata": {},
   "outputs": [],
   "source": [
    "def predictions(model, data):\n",
    "    # Predict data\n",
    "    predictions = model.transform(data)\n",
    "    \n",
    "    # Select example rows to display\n",
    "    predictions.select('probability', 'prediction', 'label', 'features').show(5)\n",
    "    res_data = predictions.select('probability', 'label').toPandas()\n",
    "    return res_data"
   ]
  },
  {
   "cell_type": "code",
   "execution_count": 12,
   "metadata": {},
   "outputs": [],
   "source": [
    "#### Predict \n",
    "\n",
    "# # Predict train data\n",
    "# predictions_train = model.trainsform(train)\n",
    "\n",
    "# # Select example rows to display\n",
    "# predictions_train.select('probability', 'prediction', 'label', 'features').show(5)\n",
    "# res_train = predictions_train.select('probability', 'label').toPandas()\n",
    "\n",
    "# # Predict test data\n",
    "# predictions_test = model.transform(test)\n",
    "\n",
    "# # Select example rows to display\n",
    "# predictions_test.select('probability', 'prediction', 'label', 'features').show(5)\n",
    "# res_test = predictions_test.select('probability', 'label').toPendas()"
   ]
  },
  {
   "cell_type": "markdown",
   "metadata": {},
   "source": [
    "### Define ploting function"
   ]
  },
  {
   "cell_type": "code",
   "execution_count": 13,
   "metadata": {},
   "outputs": [],
   "source": [
    "import matplotlib.pyplot as plt\n",
    "from sklearn.metrics import auc, roc_curve, roc_auc_score\n",
    "\n",
    "def plot_roc_curve(y_train, p_train_pred, y_test, p_test_pred):\n",
    "    roc_auc_train = roc_auc_score(y_train, p_train_pred)\n",
    "    fpr_train, tpr_train, _ = roc_curve(y_train, p_train_pred)\n",
    "    \n",
    "    roc_auc_test = roc_auc_score(y_test, p_test_pred)\n",
    "    fpr_test, tpr_test, _ = roc_curve(y_test, p_test_pred)\n",
    "    \n",
    "    lw = 2\n",
    "    plt.figure()\n",
    "    plt.plot(fpr_train, tpr_train, color='green', linewidth=lw, label='ROC Train (AUC = %0.4f)' % roc_auc_train)\n",
    "    plt.plot(fpr_test, tpr_test, color='darkorange', linewidth=lw, label='ROC Test (AUC = %0.4f)' % roc_auc_test)\n",
    "    plt.plot([0, 1], [0, 1], color='navy', linewidth=lw, linestyle='--')\n",
    "    plt.xlim([0.0, 1.0])\n",
    "    plt.ylim([0.0, 1.05])\n",
    "    plt.xlabel('False Positive Rate')\n",
    "    plt.ylabel('True Positive Rate')\n",
    "    plt.title('Receiver operating characteristic example')\n",
    "    plt.legend(loc='lower right')\n",
    "    plt.show()"
   ]
  },
  {
   "cell_type": "markdown",
   "metadata": {},
   "source": [
    "### Define predict and evaluate performance function"
   ]
  },
  {
   "cell_type": "code",
   "execution_count": 14,
   "metadata": {},
   "outputs": [],
   "source": [
    "def predict_and_evaluate_performance(model, train, test):\n",
    "    # Predict\n",
    "    pred_train = predictions(model, train)\n",
    "    pred_test = predictions(model, test)\n",
    "\n",
    "    y_train = pred_train['label']\n",
    "    p_train_pred = [v[1] for v in pred_train['probability']]\n",
    "\n",
    "    y_test = pred_test['label']\n",
    "    p_test_pred = [v[1] for v in pred_test['probability']]\n",
    "\n",
    "    # Evaluate\n",
    "    plot_roc_curve(y_train, p_train_pred, y_test, p_test_pred)"
   ]
  },
  {
   "cell_type": "markdown",
   "metadata": {},
   "source": [
    "### Logistic regression"
   ]
  },
  {
   "cell_type": "code",
   "execution_count": 15,
   "metadata": {},
   "outputs": [],
   "source": [
    "lr = LogisticRegression(maxIter=3, regParam=0.01)\n",
    "lr_model = lr.fit(train)"
   ]
  },
  {
   "cell_type": "markdown",
   "metadata": {},
   "source": [
    "#### Predict and evaluate performance"
   ]
  },
  {
   "cell_type": "code",
   "execution_count": 16,
   "metadata": {},
   "outputs": [
    {
     "name": "stdout",
     "output_type": "stream",
     "text": [
      "+--------------------+----------+-----+--------------------+\n",
      "|         probability|prediction|label|            features|\n",
      "+--------------------+----------+-----+--------------------+\n",
      "|[0.23755492773258...|       1.0|    1|(28,[3,4,15,21,22...|\n",
      "|[0.64829352067851...|       0.0|    0|[0.0,6.0,12.0,19....|\n",
      "|[0.65171119962400...|       0.0|    0|(28,[2,3,4,8,9,14...|\n",
      "|[0.06992884501632...|       1.0|    1|(28,[4,15,22,27],...|\n",
      "|[0.52465449686343...|       0.0|    0|(28,[2,3,4,7,8,9,...|\n",
      "+--------------------+----------+-----+--------------------+\n",
      "only showing top 5 rows\n",
      "\n",
      "+--------------------+----------+-----+--------------------+\n",
      "|         probability|prediction|label|            features|\n",
      "+--------------------+----------+-----+--------------------+\n",
      "|[0.97111183922098...|       0.0|    0|(28,[1,2,3,4,9,13...|\n",
      "|[0.97778923196977...|       0.0|    0|[0.0,3.0,67.0,212...|\n",
      "|[0.75871189109571...|       0.0|    0|(28,[1,2,3,4,9,14...|\n",
      "|[0.81447639177057...|       0.0|    0|[0.0,47.0,49.0,49...|\n",
      "|[0.04458875626212...|       1.0|    1|(28,[4,15,22,27],...|\n",
      "+--------------------+----------+-----+--------------------+\n",
      "only showing top 5 rows\n",
      "\n"
     ]
    },
    {
     "data": {
      "image/png": "[encoded data removed]",
      "text/plain": [
       "<Figure size 432x288 with 1 Axes>"
      ]
     },
     "metadata": {
      "needs_background": "light"
     },
     "output_type": "display_data"
    }
   ],
   "source": [
    "predict_and_evaluate_performance(lr_model, train, test)"
   ]
  },
  {
   "cell_type": "code",
   "execution_count": 17,
   "metadata": {},
   "outputs": [],
   "source": [
    "# Predict\n",
    "# lr_pred_train = predictions(lr_model, train)\n",
    "# lr_pred_test = predictions(lr_model, test)\n",
    "\n",
    "# y_train = lr_pred_train['label']\n",
    "# p_train_pred = [v[1] for v in lr_pred_train['probability']]\n",
    "\n",
    "# y_test = lr_pred_test['label']\n",
    "# p_test_pred = [v[1] for v in lr_pred_test['probability']]\n",
    "\n",
    "# # Evaluate\n",
    "# plot_roc_curve(y_train, p_train_pred, y_test, p_test_pred)"
   ]
  },
  {
   "cell_type": "markdown",
   "metadata": {},
   "source": [
    "### Random Forest"
   ]
  },
  {
   "cell_type": "code",
   "execution_count": 18,
   "metadata": {},
   "outputs": [],
   "source": [
    "rf = RandomForestClassifier(labelCol='label',\n",
    "                            featuresCol='features',\n",
    "                            numTrees=50,\n",
    "                            featureSubsetStrategy='auto',\n",
    "                            impurity='gini',\n",
    "                            maxDepth=12,\n",
    "                            minInstancesPerNode=10,\n",
    "                            maxBins=16)\n",
    "rf_model = rf.fit(train)"
   ]
  },
  {
   "cell_type": "markdown",
   "metadata": {},
   "source": [
    "#### Predict and evaluate performance"
   ]
  },
  {
   "cell_type": "code",
   "execution_count": 19,
   "metadata": {},
   "outputs": [
    {
     "name": "stdout",
     "output_type": "stream",
     "text": [
      "+--------------------+----------+-----+--------------------+\n",
      "|         probability|prediction|label|            features|\n",
      "+--------------------+----------+-----+--------------------+\n",
      "|[0.37658777738944...|       1.0|    1|(28,[3,4,15,21,22...|\n",
      "|[0.83708721783511...|       0.0|    0|[0.0,6.0,12.0,19....|\n",
      "|[0.87446216067379...|       0.0|    0|(28,[2,3,4,8,9,14...|\n",
      "|[0.09050993595197...|       1.0|    1|(28,[4,15,22,27],...|\n",
      "|[0.82394035952377...|       0.0|    0|(28,[2,3,4,7,8,9,...|\n",
      "+--------------------+----------+-----+--------------------+\n",
      "only showing top 5 rows\n",
      "\n",
      "+--------------------+----------+-----+--------------------+\n",
      "|         probability|prediction|label|            features|\n",
      "+--------------------+----------+-----+--------------------+\n",
      "|[0.96766346367559...|       0.0|    0|(28,[1,2,3,4,9,13...|\n",
      "|[0.96640999355587...|       0.0|    0|[0.0,3.0,67.0,212...|\n",
      "|[0.71687256352853...|       0.0|    0|(28,[1,2,3,4,9,14...|\n",
      "|[0.88592797756553...|       0.0|    0|[0.0,47.0,49.0,49...|\n",
      "|[0.08626693004003...|       1.0|    1|(28,[4,15,22,27],...|\n",
      "+--------------------+----------+-----+--------------------+\n",
      "only showing top 5 rows\n",
      "\n"
     ]
    },
    {
     "data": {
      "image/png": "[encoded data removed]",
      "text/plain": [
       "<Figure size 432x288 with 1 Axes>"
      ]
     },
     "metadata": {
      "needs_background": "light"
     },
     "output_type": "display_data"
    }
   ],
   "source": [
    "predict_and_evaluate_performance(rf_model, train, test)"
   ]
  },
  {
   "cell_type": "code",
   "execution_count": 20,
   "metadata": {},
   "outputs": [],
   "source": [
    "# # Predict\n",
    "# rf_pred_train = predictions(rf_model, train)\n",
    "# rf_pred_test = predictions(rf_model, test)\n",
    "\n",
    "# y_train = rf_pred_train['label']\n",
    "# p_train_pred = [v[1] for v in rf_pred_train['probability']]\n",
    "\n",
    "# y_test = pred_test['label']\n",
    "# p_test_pred = [v[1] for v in rf_pred_test['probability']]\n",
    "\n",
    "# # Evaluate\n",
    "# plot_roc_curve(y_train, p_train_pred, y_test, p_test_pred)"
   ]
  },
  {
   "cell_type": "code",
   "execution_count": null,
   "metadata": {},
   "outputs": [],
   "source": []
  }
 ],
 "metadata": {
  "kernelspec": {
   "display_name": "Python 3",
   "language": "python",
   "name": "python3"
  },
  "language_info": {
   "codemirror_mode": {
    "name": "ipython",
    "version": 3
   },
   "file_extension": ".py",
   "mimetype": "text/x-python",
   "name": "python",
   "nbconvert_exporter": "python",
   "pygments_lexer": "ipython3",
   "version": "3.6.7"
  }
 },
 "nbformat": 4,
 "nbformat_minor": 2
}
