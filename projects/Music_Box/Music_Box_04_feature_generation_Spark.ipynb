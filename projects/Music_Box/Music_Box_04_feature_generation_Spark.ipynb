{
 "cells": [
  {
   "cell_type": "markdown",
   "metadata": {},
   "source": [
    "# Music Box Churn Prediction and Recommendation using Spark\n",
    "\n",
    "# Using Spark to generate features\n",
    "\n",
    "## 1. Load data into Spark dataframe"
   ]
  },
  {
   "cell_type": "code",
   "execution_count": 1,
   "metadata": {},
   "outputs": [],
   "source": [
    "from pyspark import SparkContext\n",
    "from pyspark.sql.session import SparkSession\n",
    "import pyspark.sql.functions as F\n",
    "\n",
    "import pandas as pd\n",
    "import matplotlib.pyplot as plt"
   ]
  },
  {
   "cell_type": "code",
   "execution_count": 2,
   "metadata": {},
   "outputs": [],
   "source": [
    "# sc = SparkContext('local')\n",
    "# spark = SparkSession(sc)\n",
    "spark = SparkSession.builder.getOrCreate()"
   ]
  },
  {
   "cell_type": "code",
   "execution_count": 3,
   "metadata": {},
   "outputs": [
    {
     "data": {
      "text/plain": [
       "DataFrame[uid: string, event: string, song_id: string, date: string]"
      ]
     },
     "execution_count": 3,
     "metadata": {},
     "output_type": "execute_result"
    }
   ],
   "source": [
    "df = spark.read.csv('data/events.csv', header=True).cache()\n",
    "df # Show column names and types of dataframe"
   ]
  },
  {
   "cell_type": "code",
   "execution_count": 4,
   "metadata": {},
   "outputs": [
    {
     "name": "stdout",
     "output_type": "stream",
     "text": [
      "+---------+-----+--------+----------+\n",
      "|      uid|event| song_id|      date|\n",
      "+---------+-----+--------+----------+\n",
      "|168408359|    P| 5638883|2017-04-10|\n",
      "|168261396|    P| 5841437|2017-04-10|\n",
      "|168478408|    P|23534985|2017-04-10|\n",
      "|168064721|    P|  853270|2017-04-10|\n",
      "|168411174|    P|23562956|2017-04-10|\n",
      "|168503909|    P|  294786|2017-04-10|\n",
      "|168066213|    P| 6329735|2017-04-10|\n",
      "|168483420|    P|       0|2017-04-10|\n",
      "|168064721|    P|  853270|2017-04-10|\n",
      "|168374657|    P|20674550|2017-04-10|\n",
      "|168408359|    P| 5638883|2017-04-10|\n",
      "|168282577|    P|  466825|2017-04-10|\n",
      "|168156044|    P| 3373247|2017-04-10|\n",
      "|168074544|    P| 3194407|2017-04-10|\n",
      "|168441911|    P| 1168171|2017-04-10|\n",
      "|168523596|    P| 8339943|2017-04-10|\n",
      "|168479778|    P| 6983870|2017-04-10|\n",
      "|168412268|    P|22807949|2017-04-10|\n",
      "|168427662|    P|       0|2017-04-10|\n",
      "|168427662|    P|       0|2017-04-10|\n",
      "+---------+-----+--------+----------+\n",
      "only showing top 20 rows\n",
      "\n"
     ]
    }
   ],
   "source": [
    "df.show() # default show 20"
   ]
  },
  {
   "cell_type": "markdown",
   "metadata": {},
   "source": [
    "#### Convert type of date column from `string` to `date`"
   ]
  },
  {
   "cell_type": "code",
   "execution_count": 5,
   "metadata": {},
   "outputs": [
    {
     "data": {
      "text/plain": [
       "DataFrame[uid: string, event: string, song_id: string, date: date]"
      ]
     },
     "execution_count": 5,
     "metadata": {},
     "output_type": "execute_result"
    }
   ],
   "source": [
    "df = df.withColumn('date', F.col('date').cast('date'))\n",
    "df # notice the type of date column is date now"
   ]
  },
  {
   "cell_type": "code",
   "execution_count": 6,
   "metadata": {},
   "outputs": [
    {
     "name": "stdout",
     "output_type": "stream",
     "text": [
      "+---------+-----+--------+----------+\n",
      "|      uid|event| song_id|      date|\n",
      "+---------+-----+--------+----------+\n",
      "|168408359|    P| 5638883|2017-04-10|\n",
      "|168261396|    P| 5841437|2017-04-10|\n",
      "|168478408|    P|23534985|2017-04-10|\n",
      "|168064721|    P|  853270|2017-04-10|\n",
      "|168411174|    P|23562956|2017-04-10|\n",
      "+---------+-----+--------+----------+\n",
      "only showing top 5 rows\n",
      "\n"
     ]
    }
   ],
   "source": [
    "df.show(5)"
   ]
  },
  {
   "cell_type": "markdown",
   "metadata": {},
   "source": [
    "## 2. Exploratory data analysis\n",
    "\n",
    "#### Count number of rows\n",
    "\n",
    "```SQL\n",
    "SELECT COUNT(*)\n",
    "FROM event_ds_table;\n",
    "```"
   ]
  },
  {
   "cell_type": "code",
   "execution_count": 7,
   "metadata": {},
   "outputs": [
    {
     "data": {
      "text/plain": [
       "11264316"
      ]
     },
     "execution_count": 7,
     "metadata": {},
     "output_type": "execute_result"
    }
   ],
   "source": [
    "df.count()"
   ]
  },
  {
   "cell_type": "markdown",
   "metadata": {},
   "source": [
    "There are 11,264,316 rows in the table"
   ]
  },
  {
   "cell_type": "markdown",
   "metadata": {},
   "source": [
    "#### Count distinct `uid`\n",
    "\n",
    "```SQL\n",
    "SELECT COUNT(DISTINCT(uid))\n",
    "FROM event_ds_table;\n",
    "```"
   ]
  },
  {
   "cell_type": "code",
   "execution_count": 8,
   "metadata": {},
   "outputs": [
    {
     "data": {
      "text/plain": [
       "51637"
      ]
     },
     "execution_count": 8,
     "metadata": {},
     "output_type": "execute_result"
    }
   ],
   "source": [
    "df.select('uid').distinct().count()"
   ]
  },
  {
   "cell_type": "markdown",
   "metadata": {},
   "source": [
    "There are 51,637 users."
   ]
  },
  {
   "cell_type": "markdown",
   "metadata": {},
   "source": [
    "#### Group by\n",
    "\n",
    "```SQL\n",
    "SELECT COUNT(*)\n",
    "FROM events_ds_table\n",
    "GROUP BY event;\n",
    "```"
   ]
  },
  {
   "cell_type": "code",
   "execution_count": 9,
   "metadata": {},
   "outputs": [
    {
     "name": "stdout",
     "output_type": "stream",
     "text": [
      "+-----+-------+\n",
      "|event|  count|\n",
      "+-----+-------+\n",
      "|    D| 612522|\n",
      "|    S| 763393|\n",
      "|    P|9888401|\n",
      "+-----+-------+\n",
      "\n"
     ]
    }
   ],
   "source": [
    "df.groupBy('event').count().show()"
   ]
  },
  {
   "cell_type": "markdown",
   "metadata": {},
   "source": [
    "```SQL\n",
    "SELECT COUNT(uid) as count, MAX(uid) as max_uid\n",
    "FROM event_ds_table\n",
    "GROUP BY event;\n",
    "```"
   ]
  },
  {
   "cell_type": "code",
   "execution_count": 10,
   "metadata": {},
   "outputs": [
    {
     "name": "stdout",
     "output_type": "stream",
     "text": [
      "+-----+-------+--------+\n",
      "|event|  count| max_uid|\n",
      "+-----+-------+--------+\n",
      "|    D| 612522|98585831|\n",
      "|    S| 763393| 9920471|\n",
      "|    P|9888401|99693228|\n",
      "+-----+-------+--------+\n",
      "\n"
     ]
    }
   ],
   "source": [
    "df.groupBy('event').agg(\n",
    "    F.count(F.col('uid')).alias('count'),\n",
    "    F.max(F.col('uid')).alias('max_uid')\n",
    ").show()"
   ]
  },
  {
   "cell_type": "markdown",
   "metadata": {},
   "source": [
    "#### Filter\n",
    "```SQL\n",
    "SELECT date, event, count(*)\n",
    "FROM event_ds_table\n",
    "WHERE date > '2017-04-01' AND date < '2017-04-10'\n",
    "GROUP BY date, event\n",
    "ORDER BY date, event\n",
    "```"
   ]
  },
  {
   "cell_type": "code",
   "execution_count": 11,
   "metadata": {},
   "outputs": [
    {
     "name": "stdout",
     "output_type": "stream",
     "text": [
      "+----------+-----+------+\n",
      "|      date|event| count|\n",
      "+----------+-----+------+\n",
      "|2017-04-02|    D| 28397|\n",
      "|2017-04-02|    P|442483|\n",
      "|2017-04-02|    S| 30086|\n",
      "|2017-04-03|    D| 21732|\n",
      "|2017-04-03|    P|238498|\n",
      "|2017-04-03|    S| 26299|\n",
      "|2017-04-04|    D| 22707|\n",
      "|2017-04-04|    P|284815|\n",
      "|2017-04-04|    S| 24693|\n",
      "|2017-04-05|    D| 16106|\n",
      "|2017-04-05|    P|176670|\n",
      "|2017-04-05|    S| 20809|\n",
      "|2017-04-06|    D| 18049|\n",
      "|2017-04-06|    P|318029|\n",
      "|2017-04-06|    S| 18675|\n",
      "|2017-04-07|    D| 13391|\n",
      "|2017-04-07|    P|231559|\n",
      "|2017-04-07|    S| 19556|\n",
      "|2017-04-08|    D| 12856|\n",
      "|2017-04-08|    P|297027|\n",
      "+----------+-----+------+\n",
      "only showing top 20 rows\n",
      "\n"
     ]
    }
   ],
   "source": [
    "df.filter((F.col('date') > '2017-04-01') & \n",
    "          (F.col('date') <= '2017-04-10')).groupBy('date', 'event').count().orderBy('date', 'event').show()"
   ]
  },
  {
   "cell_type": "markdown",
   "metadata": {},
   "source": [
    "#### Export to pandas"
   ]
  },
  {
   "cell_type": "code",
   "execution_count": 12,
   "metadata": {},
   "outputs": [],
   "source": [
    "date_count = df.groupBy('date').count().toPandas()"
   ]
  },
  {
   "cell_type": "code",
   "execution_count": 13,
   "metadata": {},
   "outputs": [
    {
     "data": {
      "text/html": [
       "<div>\n",
       "<style scoped>\n",
       "    .dataframe tbody tr th:only-of-type {\n",
       "        vertical-align: middle;\n",
       "    }\n",
       "\n",
       "    .dataframe tbody tr th {\n",
       "        vertical-align: top;\n",
       "    }\n",
       "\n",
       "    .dataframe thead th {\n",
       "        text-align: right;\n",
       "    }\n",
       "</style>\n",
       "<table border=\"1\" class=\"dataframe\">\n",
       "  <thead>\n",
       "    <tr style=\"text-align: right;\">\n",
       "      <th></th>\n",
       "      <th>date</th>\n",
       "      <th>count</th>\n",
       "    </tr>\n",
       "  </thead>\n",
       "  <tbody>\n",
       "    <tr>\n",
       "      <th>0</th>\n",
       "      <td>2017-04-09</td>\n",
       "      <td>326307</td>\n",
       "    </tr>\n",
       "    <tr>\n",
       "      <th>1</th>\n",
       "      <td>2017-05-11</td>\n",
       "      <td>189493</td>\n",
       "    </tr>\n",
       "    <tr>\n",
       "      <th>2</th>\n",
       "      <td>2017-04-25</td>\n",
       "      <td>225419</td>\n",
       "    </tr>\n",
       "    <tr>\n",
       "      <th>3</th>\n",
       "      <td>2017-04-03</td>\n",
       "      <td>286529</td>\n",
       "    </tr>\n",
       "    <tr>\n",
       "      <th>4</th>\n",
       "      <td>2017-04-29</td>\n",
       "      <td>227418</td>\n",
       "    </tr>\n",
       "  </tbody>\n",
       "</table>\n",
       "</div>"
      ],
      "text/plain": [
       "         date   count\n",
       "0  2017-04-09  326307\n",
       "1  2017-05-11  189493\n",
       "2  2017-04-25  225419\n",
       "3  2017-04-03  286529\n",
       "4  2017-04-29  227418"
      ]
     },
     "execution_count": 13,
     "metadata": {},
     "output_type": "execute_result"
    }
   ],
   "source": [
    "date_count.head()"
   ]
  },
  {
   "cell_type": "code",
   "execution_count": 14,
   "metadata": {},
   "outputs": [
    {
     "name": "stdout",
     "output_type": "stream",
     "text": [
      "<class 'pandas.core.frame.DataFrame'>\n",
      "RangeIndex: 44 entries, 0 to 43\n",
      "Data columns (total 2 columns):\n",
      "date     44 non-null object\n",
      "count    44 non-null int64\n",
      "dtypes: int64(1), object(1)\n",
      "memory usage: 784.0+ bytes\n"
     ]
    }
   ],
   "source": [
    "date_count.info()"
   ]
  },
  {
   "cell_type": "code",
   "execution_count": 15,
   "metadata": {},
   "outputs": [
    {
     "data": {
      "text/plain": [
       "datetime.date(2017, 5, 12)"
      ]
     },
     "execution_count": 15,
     "metadata": {},
     "output_type": "execute_result"
    }
   ],
   "source": [
    "date_count['date'].max()"
   ]
  },
  {
   "cell_type": "code",
   "execution_count": 16,
   "metadata": {},
   "outputs": [
    {
     "data": {
      "text/plain": [
       "datetime.date(2017, 3, 30)"
      ]
     },
     "execution_count": 16,
     "metadata": {},
     "output_type": "execute_result"
    }
   ],
   "source": [
    "date_count['date'].min()"
   ]
  },
  {
   "cell_type": "markdown",
   "metadata": {},
   "source": [
    "Because I use `.groupBy('date')`, there are 44 days between 2017/3/30 to 2017/5/12. Therefore, the entries are 44."
   ]
  },
  {
   "cell_type": "code",
   "execution_count": 17,
   "metadata": {},
   "outputs": [
    {
     "data": {
      "image/png": "[encoded data removed]",
      "text/plain": [
       "<Figure size 1440x720 with 1 Axes>"
      ]
     },
     "metadata": {
      "needs_background": "light"
     },
     "output_type": "display_data"
    }
   ],
   "source": [
    "fig, ax = plt.subplots(figsize=(20,10))\n",
    "date_count.set_index('date').sort_values(by='date', ascending=True).plot.bar(ax=ax)\n",
    "plt.show()"
   ]
  },
  {
   "cell_type": "markdown",
   "metadata": {},
   "source": [
    "## 3. Define labels\n",
    "\n",
    "The date is starting form 2017/3/30 to 2017/5/12. Total 44 days. Use the first 30 days as feature. and the last 14 days as labels.\n",
    "* Feature window: 2017/3/30 ~ 2017/4/28\n",
    "* Label window: 2017/4/29 ~ 2017/5/12"
   ]
  },
  {
   "cell_type": "code",
   "execution_count": 18,
   "metadata": {},
   "outputs": [
    {
     "name": "stdout",
     "output_type": "stream",
     "text": [
      "label window:  2017-04-29 ~ 2017-05-12  days: 14\n"
     ]
    }
   ],
   "source": [
    "import datetime\n",
    "from dateutil import parser\n",
    "\n",
    "label_window_size = 14\n",
    "label_window_end_date = parser.parse('2017-05-12').date()\n",
    "label_window_start_date = label_window_end_date - datetime.timedelta(label_window_size - 1)\n",
    "print('label window: ', label_window_start_date, '~', label_window_end_date, ' days:', label_window_size)"
   ]
  },
  {
   "cell_type": "code",
   "execution_count": 19,
   "metadata": {},
   "outputs": [
    {
     "name": "stdout",
     "output_type": "stream",
     "text": [
      "Feature window:  2017-03-30 ~ 2017-04-28  days: 30\n"
     ]
    }
   ],
   "source": [
    "feature_window_size = 30\n",
    "feature_window_end_date = label_window_start_date - datetime.timedelta(1)\n",
    "feature_window_start_date = feature_window_end_date - datetime.timedelta(feature_window_size - 1)\n",
    "print('Feature window: ', feature_window_start_date, '~', feature_window_end_date, ' days:', feature_window_size)"
   ]
  },
  {
   "cell_type": "markdown",
   "metadata": {},
   "source": [
    "Select unique `uid` in feature window (2017/3/30 ~ 2017/4/28)."
   ]
  },
  {
   "cell_type": "code",
   "execution_count": 20,
   "metadata": {},
   "outputs": [],
   "source": [
    "df_model_uid = df.filter((F.col('date') >= feature_window_start_date) & \n",
    "                         (F.col('date') <= feature_window_end_date)).select('uid').distinct()"
   ]
  },
  {
   "cell_type": "code",
   "execution_count": 21,
   "metadata": {},
   "outputs": [
    {
     "name": "stdout",
     "output_type": "stream",
     "text": [
      "+---------+\n",
      "|      uid|\n",
      "+---------+\n",
      "|168320671|\n",
      "|168129526|\n",
      "|168411726|\n",
      "|168412583|\n",
      "|168437862|\n",
      "+---------+\n",
      "only showing top 5 rows\n",
      "\n"
     ]
    }
   ],
   "source": [
    "df_model_uid.show(5)"
   ]
  },
  {
   "cell_type": "code",
   "execution_count": 22,
   "metadata": {},
   "outputs": [
    {
     "data": {
      "text/plain": [
       "50230"
      ]
     },
     "execution_count": 22,
     "metadata": {},
     "output_type": "execute_result"
    }
   ],
   "source": [
    "df_model_uid.count()"
   ]
  },
  {
   "cell_type": "markdown",
   "metadata": {},
   "source": [
    "There are 51,637 users in 2017/3/30 to 2017/5/12 time window. And only 50,230 users in 2017/3/30 to 2017/4/28 feature window."
   ]
  },
  {
   "cell_type": "markdown",
   "metadata": {},
   "source": [
    "#### Set active user labels\n",
    "\n",
    "Define active users if they are activate in label window (2017/4/29 ~ 2017/5/12).\n",
    "* Active label = 0\n",
    "* Churn label = 1"
   ]
  },
  {
   "cell_type": "code",
   "execution_count": 23,
   "metadata": {},
   "outputs": [],
   "source": [
    "df_active_uid_in_label_window = df.filter((F.col('date') >= label_window_start_date) & \n",
    "                                          (F.col('date') <= label_window_end_date))\\\n",
    "                                  .select('uid').distinct().withColumn('label', F.lit(0))"
   ]
  },
  {
   "cell_type": "code",
   "execution_count": 24,
   "metadata": {},
   "outputs": [],
   "source": [
    "df_label = df_model_uid.join(df_active_uid_in_label_window, on='uid', how='left')\n",
    "df_label = df_label.fillna(1)"
   ]
  },
  {
   "cell_type": "code",
   "execution_count": 25,
   "metadata": {},
   "outputs": [
    {
     "name": "stdout",
     "output_type": "stream",
     "text": [
      "+-----+-----+\n",
      "|label|count|\n",
      "+-----+-----+\n",
      "|    1|28492|\n",
      "|    0|21738|\n",
      "+-----+-----+\n",
      "\n"
     ]
    }
   ],
   "source": [
    "df_label.groupBy('label').count().show()"
   ]
  },
  {
   "cell_type": "code",
   "execution_count": 26,
   "metadata": {},
   "outputs": [
    {
     "name": "stdout",
     "output_type": "stream",
     "text": [
      "+---------+-----+\n",
      "|      uid|label|\n",
      "+---------+-----+\n",
      "| 11596711|    0|\n",
      "|165827786|    1|\n",
      "|167328646|    1|\n",
      "|167569919|    1|\n",
      "|167570402|    0|\n",
      "|167571223|    0|\n",
      "|167571405|    0|\n",
      "|167571423|    0|\n",
      "|167574952|    1|\n",
      "|167575253|    0|\n",
      "|167577670|    0|\n",
      "|167586714|    1|\n",
      "|167599280|    1|\n",
      "|167614777|    1|\n",
      "|167618975|    1|\n",
      "|167640944|    0|\n",
      "|167650198|    0|\n",
      "|167651907|    1|\n",
      "|167654524|    0|\n",
      "|167659420|    0|\n",
      "+---------+-----+\n",
      "only showing top 20 rows\n",
      "\n"
     ]
    }
   ],
   "source": [
    "df_label.show()"
   ]
  },
  {
   "cell_type": "code",
   "execution_count": 27,
   "metadata": {},
   "outputs": [
    {
     "data": {
      "text/plain": [
       "50230"
      ]
     },
     "execution_count": 27,
     "metadata": {},
     "output_type": "execute_result"
    }
   ],
   "source": [
    "df_label.count()"
   ]
  },
  {
   "cell_type": "code",
   "execution_count": 28,
   "metadata": {},
   "outputs": [
    {
     "data": {
      "text/plain": [
       "50230"
      ]
     },
     "execution_count": 28,
     "metadata": {},
     "output_type": "execute_result"
    }
   ],
   "source": [
    "df_label.distinct().count()"
   ]
  },
  {
   "cell_type": "markdown",
   "metadata": {},
   "source": [
    "## 4. Feature generation\n",
    "\n",
    "### Events in feature window\n",
    "\n",
    "Feature window: 2017/3/30 ~ 2017/4/28"
   ]
  },
  {
   "cell_type": "code",
   "execution_count": 29,
   "metadata": {},
   "outputs": [],
   "source": [
    "df_feature_window = df.filter((F.col('date') >= feature_window_start_date) & \n",
    "                              (F.col('date') <= feature_window_end_date))"
   ]
  },
  {
   "cell_type": "markdown",
   "metadata": {},
   "source": [
    "### Frequency features\n",
    "\n",
    "#### Method1\n",
    "\n",
    "#### Define function to generate frequency features"
   ]
  },
  {
   "cell_type": "code",
   "execution_count": 30,
   "metadata": {},
   "outputs": [],
   "source": [
    "def frequency_feature_generation(df, event, time_window, snapshot_date):\n",
    "    '''\n",
    "    Generate frequency features for one event type and one time window\n",
    "    '''\n",
    "    df_feature = df.filter(F.col('event') == event)\\\n",
    "                   .filter((F.col('date') >= snapshot_date - datetime.timedelta(time_window - 1)) &\n",
    "                           (F.col('date') <= snapshot_date))\\\n",
    "                   .groupBy('uid').agg(F.count(F.col('uid')).alias('freq_' + event + '_last_' + str(time_window)))\n",
    "    return df_feature"
   ]
  },
  {
   "cell_type": "markdown",
   "metadata": {},
   "source": [
    "#### Generate one feature\n",
    "\n",
    "Select `uid` in 2017/4/19 ~ 2017/4/28 with `event='S'` and count."
   ]
  },
  {
   "cell_type": "code",
   "execution_count": 31,
   "metadata": {},
   "outputs": [],
   "source": [
    "event = 'S'\n",
    "time_window = 10\n",
    "snapshot_date = feature_window_end_date\n",
    "\n",
    "df_feature = frequency_feature_generation(df_feature_window, event, time_window, snapshot_date)"
   ]
  },
  {
   "cell_type": "code",
   "execution_count": 32,
   "metadata": {},
   "outputs": [
    {
     "name": "stdout",
     "output_type": "stream",
     "text": [
      "+---------+--------------+\n",
      "|      uid|freq_S_last_10|\n",
      "+---------+--------------+\n",
      "|168703618|            20|\n",
      "|168903441|            12|\n",
      "| 59179355|             7|\n",
      "|168872733|             2|\n",
      "| 11596711|            11|\n",
      "+---------+--------------+\n",
      "only showing top 5 rows\n",
      "\n"
     ]
    }
   ],
   "source": [
    "df_feature.show(5)"
   ]
  },
  {
   "cell_type": "markdown",
   "metadata": {},
   "source": [
    "This table counts the searching times for each user in the last 10 days of feature window (2017/4/19 to 2017/4/28)."
   ]
  },
  {
   "cell_type": "markdown",
   "metadata": {},
   "source": [
    "#### Generate frequency features\n",
    "\n",
    "Select `uid` and count.\n",
    "\n",
    "|Time window | Date       |\n",
    "|-----------:|-----------:|\n",
    "|      1 day |        4/28|\n",
    "|     3 days | 4/26 ~ 4/28|\n",
    "|     7 days | 4/22 ~ 4/28|\n",
    "|    14 days | 4/15 ~ 4/28|\n",
    "|    30 days | 3/30 ~ 4/28|"
   ]
  },
  {
   "cell_type": "code",
   "execution_count": 33,
   "metadata": {},
   "outputs": [],
   "source": [
    "event_list = ['P', 'S', 'D']\n",
    "time_window_list = [1, 3, 7, 14, 30]\n",
    "df_feature_list = []\n",
    "\n",
    "for event in event_list:\n",
    "    for time_window in time_window_list:\n",
    "        df_feature_list.append(frequency_feature_generation(df_feature_window, event, time_window, snapshot_date))"
   ]
  },
  {
   "cell_type": "code",
   "execution_count": 34,
   "metadata": {},
   "outputs": [
    {
     "data": {
      "text/plain": [
       "[DataFrame[uid: string, freq_P_last_1: bigint],\n",
       " DataFrame[uid: string, freq_P_last_3: bigint],\n",
       " DataFrame[uid: string, freq_P_last_7: bigint],\n",
       " DataFrame[uid: string, freq_P_last_14: bigint],\n",
       " DataFrame[uid: string, freq_P_last_30: bigint],\n",
       " DataFrame[uid: string, freq_S_last_1: bigint],\n",
       " DataFrame[uid: string, freq_S_last_3: bigint],\n",
       " DataFrame[uid: string, freq_S_last_7: bigint],\n",
       " DataFrame[uid: string, freq_S_last_14: bigint],\n",
       " DataFrame[uid: string, freq_S_last_30: bigint],\n",
       " DataFrame[uid: string, freq_D_last_1: bigint],\n",
       " DataFrame[uid: string, freq_D_last_3: bigint],\n",
       " DataFrame[uid: string, freq_D_last_7: bigint],\n",
       " DataFrame[uid: string, freq_D_last_14: bigint],\n",
       " DataFrame[uid: string, freq_D_last_30: bigint]]"
      ]
     },
     "execution_count": 34,
     "metadata": {},
     "output_type": "execute_result"
    }
   ],
   "source": [
    "df_feature_list"
   ]
  },
  {
   "cell_type": "code",
   "execution_count": 35,
   "metadata": {
    "scrolled": false
   },
   "outputs": [
    {
     "name": "stdout",
     "output_type": "stream",
     "text": [
      "+---------+-------------+\n",
      "|      uid|freq_P_last_1|\n",
      "+---------+-------------+\n",
      "|168225678|            6|\n",
      "|168373237|            7|\n",
      "|168477183|           54|\n",
      "|168129526|           16|\n",
      "|168215121|           63|\n",
      "+---------+-------------+\n",
      "only showing top 5 rows\n",
      "\n",
      "\n",
      "\n",
      "+---------+-------------+\n",
      "|      uid|freq_P_last_3|\n",
      "+---------+-------------+\n",
      "|168703618|           99|\n",
      "| 11596711|           17|\n",
      "|168796267|           26|\n",
      "|169151926|           68|\n",
      "|168744871|           32|\n",
      "+---------+-------------+\n",
      "only showing top 5 rows\n",
      "\n",
      "\n",
      "\n",
      "+---------+-------------+\n",
      "|      uid|freq_P_last_7|\n",
      "+---------+-------------+\n",
      "|168703618|          294|\n",
      "| 11596711|           36|\n",
      "|168796267|           65|\n",
      "|169151926|          149|\n",
      "|168744871|           62|\n",
      "+---------+-------------+\n",
      "only showing top 5 rows\n",
      "\n",
      "\n",
      "\n",
      "+---------+--------------+\n",
      "|      uid|freq_P_last_14|\n",
      "+---------+--------------+\n",
      "|168703618|           612|\n",
      "| 11596711|            71|\n",
      "|168796267|            71|\n",
      "|169151926|           296|\n",
      "|168744871|           121|\n",
      "+---------+--------------+\n",
      "only showing top 5 rows\n",
      "\n",
      "\n",
      "\n",
      "+---------+--------------+\n",
      "|      uid|freq_P_last_30|\n",
      "+---------+--------------+\n",
      "|168320671|           294|\n",
      "|168129526|           691|\n",
      "|168411726|            39|\n",
      "|168412583|           197|\n",
      "|168437862|           445|\n",
      "+---------+--------------+\n",
      "only showing top 5 rows\n",
      "\n",
      "\n",
      "\n",
      "+---------+-------------+\n",
      "|      uid|freq_S_last_1|\n",
      "+---------+-------------+\n",
      "|167718831|            8|\n",
      "|167913354|            3|\n",
      "|167847489|            3|\n",
      "|167959099|            1|\n",
      "|168028443|            2|\n",
      "+---------+-------------+\n",
      "only showing top 5 rows\n",
      "\n",
      "\n",
      "\n",
      "+---------+-------------+\n",
      "|      uid|freq_S_last_3|\n",
      "+---------+-------------+\n",
      "|167718831|            8|\n",
      "|167913354|            5|\n",
      "|167847489|            3|\n",
      "|167959099|            1|\n",
      "|168028443|            5|\n",
      "+---------+-------------+\n",
      "only showing top 5 rows\n",
      "\n",
      "\n",
      "\n",
      "+---------+-------------+\n",
      "|      uid|freq_S_last_7|\n",
      "+---------+-------------+\n",
      "|168703618|           15|\n",
      "|168903441|           12|\n",
      "| 59179355|            7|\n",
      "|168872733|            2|\n",
      "| 11596711|            3|\n",
      "+---------+-------------+\n",
      "only showing top 5 rows\n",
      "\n",
      "\n",
      "\n",
      "+---------+--------------+\n",
      "|      uid|freq_S_last_14|\n",
      "+---------+--------------+\n",
      "|168703618|            21|\n",
      "|168903441|            16|\n",
      "| 59179355|             7|\n",
      "|168872733|             2|\n",
      "| 11596711|            11|\n",
      "+---------+--------------+\n",
      "only showing top 5 rows\n",
      "\n",
      "\n",
      "\n",
      "+---------+--------------+\n",
      "|      uid|freq_S_last_30|\n",
      "+---------+--------------+\n",
      "|168310858|            24|\n",
      "|168314164|            55|\n",
      "|168275145|            54|\n",
      "|168479610|            72|\n",
      "|168703618|            60|\n",
      "+---------+--------------+\n",
      "only showing top 5 rows\n",
      "\n",
      "\n",
      "\n",
      "+---------+-------------+\n",
      "|      uid|freq_D_last_1|\n",
      "+---------+-------------+\n",
      "|168028443|            1|\n",
      "|167851766|            9|\n",
      "|168477183|            1|\n",
      "|168479610|            7|\n",
      "|168363625|            4|\n",
      "+---------+-------------+\n",
      "only showing top 5 rows\n",
      "\n",
      "\n",
      "\n",
      "+---------+-------------+\n",
      "|      uid|freq_D_last_3|\n",
      "+---------+-------------+\n",
      "|167976118|            6|\n",
      "|167571423|            3|\n",
      "|168054550|            1|\n",
      "|168372226|            1|\n",
      "|168314164|            2|\n",
      "+---------+-------------+\n",
      "only showing top 5 rows\n",
      "\n",
      "\n",
      "\n",
      "+---------+-------------+\n",
      "|      uid|freq_D_last_7|\n",
      "+---------+-------------+\n",
      "|167976118|            6|\n",
      "|167571423|            7|\n",
      "|168054550|            1|\n",
      "|168372226|            1|\n",
      "|168314164|            2|\n",
      "+---------+-------------+\n",
      "only showing top 5 rows\n",
      "\n",
      "\n",
      "\n",
      "+---------+--------------+\n",
      "|      uid|freq_D_last_14|\n",
      "+---------+--------------+\n",
      "|167976118|            13|\n",
      "|167571423|            13|\n",
      "|168054550|             1|\n",
      "|168372226|             1|\n",
      "|168314164|             3|\n",
      "+---------+--------------+\n",
      "only showing top 5 rows\n",
      "\n",
      "\n",
      "\n",
      "+---------+--------------+\n",
      "|      uid|freq_D_last_30|\n",
      "+---------+--------------+\n",
      "|167693316|            13|\n",
      "|167659420|            46|\n",
      "|167718831|             3|\n",
      "|168028443|             4|\n",
      "|167976118|            15|\n",
      "+---------+--------------+\n",
      "only showing top 5 rows\n",
      "\n",
      "\n",
      "\n"
     ]
    }
   ],
   "source": [
    "for feature_list in df_feature_list:\n",
    "    feature_list.show(5)\n",
    "    print('\\n')"
   ]
  },
  {
   "cell_type": "markdown",
   "metadata": {},
   "source": [
    "Using `frequency_feature_generation()`, I got 15 tables. However, I would like to have a single table instead of 15 separated tables. The Method 2 can get 3 single tables, one for each event."
   ]
  },
  {
   "cell_type": "markdown",
   "metadata": {},
   "source": [
    "#### Method 2\n",
    "\n",
    "Use `when().otherwise()`\n",
    "\n",
    "`*[]` opens list and makes them comma separated"
   ]
  },
  {
   "cell_type": "code",
   "execution_count": 36,
   "metadata": {},
   "outputs": [],
   "source": [
    "def frequency_feature_generation_time_window(df, event, time_window_list, snapshot_date):\n",
    "    '''\n",
    "    Generate frequency features for one event type and a list of time window\n",
    "    '''\n",
    "    df_feature = df.filter(F.col('event') == event)\\\n",
    "                   .groupBy('uid')\\\n",
    "                   .agg(*[F.sum(F.when(\n",
    "                                        (F.col('date') >= snapshot_date - datetime.timedelta(time_window - 1)) &\n",
    "                                        (F.col('date') < snapshot_date)\n",
    "                                   , 1).otherwise(0)\\\n",
    "                               ).alias('freq_' + event + '_last_' + str(time_window)) \\\n",
    "                          for time_window in time_window_list])\n",
    "    return df_feature"
   ]
  },
  {
   "cell_type": "markdown",
   "metadata": {},
   "source": [
    "#### Generate one event type for all time window"
   ]
  },
  {
   "cell_type": "code",
   "execution_count": 37,
   "metadata": {},
   "outputs": [
    {
     "name": "stdout",
     "output_type": "stream",
     "text": [
      "+---------+-------------+-------------+-------------+--------------+--------------+\n",
      "|      uid|freq_S_last_1|freq_S_last_3|freq_S_last_7|freq_S_last_14|freq_S_last_30|\n",
      "+---------+-------------+-------------+-------------+--------------+--------------+\n",
      "|168310858|            0|            1|            1|             5|            16|\n",
      "|168314164|            0|            0|            3|            20|            55|\n",
      "|168275145|            0|            0|            9|            19|            53|\n",
      "|168479610|            0|            0|           11|            13|            71|\n",
      "|168703618|            0|            4|           15|            21|            60|\n",
      "+---------+-------------+-------------+-------------+--------------+--------------+\n",
      "only showing top 5 rows\n",
      "\n"
     ]
    }
   ],
   "source": [
    "event = 'S'\n",
    "time_window_list = [1, 3, 7, 14, 30]\n",
    "snapshot_date = feature_window_end_date\n",
    "\n",
    "df_feature = frequency_feature_generation_time_window(df_feature_window, event, time_window_list, snapshot_date)\n",
    "df_feature.show(5)"
   ]
  },
  {
   "cell_type": "markdown",
   "metadata": {},
   "source": [
    "#### Generate frequency features for all event_list and time_window_list"
   ]
  },
  {
   "cell_type": "code",
   "execution_count": 38,
   "metadata": {},
   "outputs": [],
   "source": [
    "event_list = ['P', 'S', 'D']\n",
    "time_window_list = [1, 3, 7, 14, 30]\n",
    "df_feature_list = []\n",
    "\n",
    "for event in event_list:\n",
    "    df_feature_list.append(frequency_feature_generation_time_window(df_feature_window, \n",
    "                                                                    event, \n",
    "                                                                    time_window_list, \n",
    "                                                                    snapshot_date))"
   ]
  },
  {
   "cell_type": "code",
   "execution_count": 39,
   "metadata": {},
   "outputs": [
    {
     "data": {
      "text/plain": [
       "[DataFrame[uid: string, freq_P_last_1: bigint, freq_P_last_3: bigint, freq_P_last_7: bigint, freq_P_last_14: bigint, freq_P_last_30: bigint],\n",
       " DataFrame[uid: string, freq_S_last_1: bigint, freq_S_last_3: bigint, freq_S_last_7: bigint, freq_S_last_14: bigint, freq_S_last_30: bigint],\n",
       " DataFrame[uid: string, freq_D_last_1: bigint, freq_D_last_3: bigint, freq_D_last_7: bigint, freq_D_last_14: bigint, freq_D_last_30: bigint]]"
      ]
     },
     "execution_count": 39,
     "metadata": {},
     "output_type": "execute_result"
    }
   ],
   "source": [
    "df_feature_list"
   ]
  },
  {
   "cell_type": "code",
   "execution_count": 40,
   "metadata": {},
   "outputs": [
    {
     "name": "stdout",
     "output_type": "stream",
     "text": [
      "+---------+-------------+-------------+-------------+--------------+--------------+\n",
      "|      uid|freq_P_last_1|freq_P_last_3|freq_P_last_7|freq_P_last_14|freq_P_last_30|\n",
      "+---------+-------------+-------------+-------------+--------------+--------------+\n",
      "|168320671|            0|           16|           46|           170|           294|\n",
      "|168129526|            0|            5|           49|           139|           675|\n",
      "|168411726|            0|            0|            0|             0|            39|\n",
      "|168412583|            0|           12|           54|            84|           177|\n",
      "|168437862|            0|          115|          211|           220|           417|\n",
      "+---------+-------------+-------------+-------------+--------------+--------------+\n",
      "only showing top 5 rows\n",
      "\n",
      "\n",
      "\n",
      "+---------+-------------+-------------+-------------+--------------+--------------+\n",
      "|      uid|freq_S_last_1|freq_S_last_3|freq_S_last_7|freq_S_last_14|freq_S_last_30|\n",
      "+---------+-------------+-------------+-------------+--------------+--------------+\n",
      "|168310858|            0|            1|            1|             5|            16|\n",
      "|168314164|            0|            0|            3|            20|            55|\n",
      "|168275145|            0|            0|            9|            19|            53|\n",
      "|168479610|            0|            0|           11|            13|            71|\n",
      "|168703618|            0|            4|           15|            21|            60|\n",
      "+---------+-------------+-------------+-------------+--------------+--------------+\n",
      "only showing top 5 rows\n",
      "\n",
      "\n",
      "\n",
      "+---------+-------------+-------------+-------------+--------------+--------------+\n",
      "|      uid|freq_D_last_1|freq_D_last_3|freq_D_last_7|freq_D_last_14|freq_D_last_30|\n",
      "+---------+-------------+-------------+-------------+--------------+--------------+\n",
      "|167693316|            0|            0|            0|             0|            13|\n",
      "|167659420|            0|            0|            3|            10|            46|\n",
      "|167718831|            0|            0|            0|             0|             3|\n",
      "|168028443|            0|            0|            0|             0|             3|\n",
      "|167976118|            0|            6|            6|            13|            15|\n",
      "+---------+-------------+-------------+-------------+--------------+--------------+\n",
      "only showing top 5 rows\n",
      "\n",
      "\n",
      "\n"
     ]
    }
   ],
   "source": [
    "for feature_list in df_feature_list:\n",
    "    feature_list.show(5)\n",
    "    print('\\n')"
   ]
  },
  {
   "cell_type": "markdown",
   "metadata": {},
   "source": [
    "### Recency features\n",
    "\n",
    "Find the last date of each user for each event. And count the number of days from last event date to 2017/4/28."
   ]
  },
  {
   "cell_type": "code",
   "execution_count": 41,
   "metadata": {},
   "outputs": [],
   "source": [
    "# defined as days from last event\n",
    "# can generate one feature for each type of event\n",
    "\n",
    "def days_from_last_event(df, event, snapshot_date):\n",
    "    # 一行就解決，不好懂\n",
    "#     df_days_from_last_event = df.filter(F.col('event') == event)\\\n",
    "#                                 .groupBy('uid')\\\n",
    "#                                 .agg(F.datediff(F.lit(snapshot_date), F.max('date')).alias('days_from_last_evnet'))\n",
    "    # 拆成下面兩行\n",
    "    # 先找出該 user 在 event 的最後一天\n",
    "    df_days_from_last_event = df.filter(F.col('event') == event)\\\n",
    "                                .groupBy('uid').agg(F.max('date').alias('last_date'))\n",
    "    # 再和 2017/4/28 比，看差幾天\n",
    "    df_days_from_last_event = df_days_from_last_event.withColumn('days_from_last_' + event + '_evnet', \n",
    "                                                                 F.datediff(F.lit(snapshot_date), F.col('last_date')))\\\n",
    "                                                     .select('uid', 'days_from_last_' + event + '_evnet')\n",
    "    return df_days_from_last_event"
   ]
  },
  {
   "cell_type": "code",
   "execution_count": 42,
   "metadata": {},
   "outputs": [
    {
     "name": "stdout",
     "output_type": "stream",
     "text": [
      "+---------+----------------------+\n",
      "|      uid|days_from_last_P_evnet|\n",
      "+---------+----------------------+\n",
      "|168320671|                     1|\n",
      "|168129526|                     0|\n",
      "|168411726|                    18|\n",
      "|168412583|                     0|\n",
      "|168437862|                     0|\n",
      "|168477183|                     0|\n",
      "|168479610|                     0|\n",
      "|168306664|                     0|\n",
      "|168478957|                     1|\n",
      "|168101854|                     0|\n",
      "|168515885|                     0|\n",
      "|168340102|                     0|\n",
      "|168310858|                     0|\n",
      "|168107903|                     2|\n",
      "|168225678|                     0|\n",
      "|168372226|                     0|\n",
      "|168081728|                    15|\n",
      "|168083706|                    15|\n",
      "|168120418|                     1|\n",
      "|168076605|                    11|\n",
      "+---------+----------------------+\n",
      "only showing top 20 rows\n",
      "\n",
      "\n",
      "\n",
      "+---------+----------------------+\n",
      "|      uid|days_from_last_S_evnet|\n",
      "+---------+----------------------+\n",
      "|168310858|                     0|\n",
      "|168314164|                     6|\n",
      "|168275145|                     0|\n",
      "|168479610|                     0|\n",
      "|168703618|                     1|\n",
      "|168903441|                     4|\n",
      "| 59179355|                     4|\n",
      "|168872733|                     0|\n",
      "| 11596711|                     1|\n",
      "|168763698|                     4|\n",
      "|168740508|                     0|\n",
      "|167913354|                     0|\n",
      "|167976118|                     8|\n",
      "|167721560|                     8|\n",
      "|168016318|                     7|\n",
      "|169151926|                     1|\n",
      "|168997339|                     8|\n",
      "|168852261|                     6|\n",
      "|168591664|                     6|\n",
      "|169027996|                     0|\n",
      "+---------+----------------------+\n",
      "only showing top 20 rows\n",
      "\n",
      "\n",
      "\n",
      "+---------+----------------------+\n",
      "|      uid|days_from_last_D_evnet|\n",
      "+---------+----------------------+\n",
      "|167693316|                    18|\n",
      "|167659420|                     4|\n",
      "|167718831|                    18|\n",
      "|168028443|                     0|\n",
      "|167976118|                     1|\n",
      "|167571423|                     1|\n",
      "|168054550|                     1|\n",
      "|167857706|                    27|\n",
      "|167975717|                     8|\n",
      "|168372226|                     2|\n",
      "|168215121|                     0|\n",
      "|168314164|                     2|\n",
      "|168363625|                     0|\n",
      "|168258709|                     0|\n",
      "|168437862|                     1|\n",
      "|168748589|                    18|\n",
      "|168479610|                     0|\n",
      "|167640944|                    24|\n",
      "|168473265|                     1|\n",
      "|168120418|                     5|\n",
      "+---------+----------------------+\n",
      "only showing top 20 rows\n",
      "\n",
      "\n",
      "\n"
     ]
    }
   ],
   "source": [
    "event_list = ['P', 'S', 'D']\n",
    "snapshot_date = feature_window_end_date\n",
    "df_days_list = []\n",
    "\n",
    "for event in event_list:\n",
    "    df_days_list.append(days_from_last_event(df_feature_window, event, snapshot_date))\n",
    "    \n",
    "for df_days in df_days_list:\n",
    "    df_days.show()\n",
    "    print('\\n')"
   ]
  },
  {
   "cell_type": "markdown",
   "metadata": {},
   "source": [
    "### Profile features"
   ]
  },
  {
   "cell_type": "code",
   "execution_count": 43,
   "metadata": {},
   "outputs": [],
   "source": [
    "df_play = spark.read.csv('data/play.csv', header=True)"
   ]
  },
  {
   "cell_type": "code",
   "execution_count": 44,
   "metadata": {},
   "outputs": [
    {
     "name": "stdout",
     "output_type": "stream",
     "text": [
      "+---------+------+--------+----------+---------+-----------+\n",
      "|      uid|device| song_id|      date|play_time|song_length|\n",
      "+---------+------+--------+----------+---------+-----------+\n",
      "|168408359|    ip| 5638883|2017-04-10|       24|         24|\n",
      "|168261396|    ar| 5841437|2017-04-10|      199|        199|\n",
      "|168478408|    ar|23534985|2017-04-10|      311|        311|\n",
      "|168064721|    ip|  853270|2017-04-10|      318|        318|\n",
      "|168411174|    ar|23562956|2017-04-10|      275|        275|\n",
      "|168503909|    ar|  294786|2017-04-10|      180|        180|\n",
      "|168066213|    ar| 6329735|2017-04-10|      289|        289|\n",
      "|168483420|    ar|       0|2017-04-10|      277|        277|\n",
      "|168064721|    ip|  853270|2017-04-10|       16|        318|\n",
      "|168374657|    ar|20674550|2017-04-10|      276|        276|\n",
      "|168408359|    ip| 5638883|2017-04-10|       24|         24|\n",
      "|168282577|    ar|  466825|2017-04-10|      195|        248|\n",
      "|168156044|    ar| 3373247|2017-04-10|      227|        227|\n",
      "|168074544|    ip| 3194407|2017-04-10|      258|        258|\n",
      "|168441911|    ar| 1168171|2017-04-10|      229|        230|\n",
      "|168523596|    ip| 8339943|2017-04-10|      212|        213|\n",
      "|168479778|    ar| 6983870|2017-04-10|      249|        262|\n",
      "|168412268|    ar|22807949|2017-04-10|      221|        222|\n",
      "|168427662|    ar|       0|2017-04-10|        0|        268|\n",
      "|168427662|    ar|       0|2017-04-10|        0|        204|\n",
      "+---------+------+--------+----------+---------+-----------+\n",
      "only showing top 20 rows\n",
      "\n"
     ]
    }
   ],
   "source": [
    "df_play.show()"
   ]
  },
  {
   "cell_type": "code",
   "execution_count": 45,
   "metadata": {},
   "outputs": [
    {
     "data": {
      "text/plain": [
       "51635"
      ]
     },
     "execution_count": 45,
     "metadata": {},
     "output_type": "execute_result"
    }
   ],
   "source": [
    "df_play.select('uid').distinct().count()"
   ]
  },
  {
   "cell_type": "markdown",
   "metadata": {},
   "source": [
    "There are 51635 users in the entire period."
   ]
  },
  {
   "cell_type": "code",
   "execution_count": 46,
   "metadata": {},
   "outputs": [],
   "source": [
    "df_play_feature_window = df_play.filter((F.col('date') >= feature_window_start_date) &\n",
    "                                        (F.col('date') <= feature_window_end_date))\n",
    "df_profile_tmp = df_play_feature_window.select('uid', 'device').distinct()"
   ]
  },
  {
   "cell_type": "code",
   "execution_count": 47,
   "metadata": {},
   "outputs": [
    {
     "data": {
      "text/plain": [
       "49856"
      ]
     },
     "execution_count": 47,
     "metadata": {},
     "output_type": "execute_result"
    }
   ],
   "source": [
    "df_play_feature_window.select('uid').distinct().count()"
   ]
  },
  {
   "cell_type": "markdown",
   "metadata": {},
   "source": [
    "There are 49,856 out ouf 51,635 users in the feature window."
   ]
  },
  {
   "cell_type": "code",
   "execution_count": 48,
   "metadata": {},
   "outputs": [
    {
     "name": "stdout",
     "output_type": "stream",
     "text": [
      "+---------+------+\n",
      "|      uid|device|\n",
      "+---------+------+\n",
      "|168356695|    ip|\n",
      "|168331916|    ar|\n",
      "|168369187|    ar|\n",
      "|168470397|    ar|\n",
      "|168347733|    ar|\n",
      "+---------+------+\n",
      "only showing top 5 rows\n",
      "\n"
     ]
    }
   ],
   "source": [
    "df_profile_tmp.show(5)"
   ]
  },
  {
   "cell_type": "code",
   "execution_count": 49,
   "metadata": {},
   "outputs": [
    {
     "name": "stdout",
     "output_type": "stream",
     "text": [
      "+------+-----+\n",
      "|device|count|\n",
      "+------+-----+\n",
      "|    mc|    2|\n",
      "|    ar|42997|\n",
      "|    wp|    2|\n",
      "|    ip| 6865|\n",
      "+------+-----+\n",
      "\n"
     ]
    }
   ],
   "source": [
    "df_profile_tmp.groupBy('device').count().show()"
   ]
  },
  {
   "cell_type": "code",
   "execution_count": 50,
   "metadata": {},
   "outputs": [
    {
     "data": {
      "text/plain": [
       "49866"
      ]
     },
     "execution_count": 50,
     "metadata": {},
     "output_type": "execute_result"
    }
   ],
   "source": [
    "# check if one user has two devices\n",
    "df_profile_tmp.count()"
   ]
  },
  {
   "cell_type": "code",
   "execution_count": 51,
   "metadata": {},
   "outputs": [
    {
     "data": {
      "text/plain": [
       "49866"
      ]
     },
     "execution_count": 51,
     "metadata": {},
     "output_type": "execute_result"
    }
   ],
   "source": [
    "df_profile_tmp.distinct().count()"
   ]
  },
  {
   "cell_type": "markdown",
   "metadata": {},
   "source": [
    "There are 49,856 distince users but there are 49,866 rows. So 10 users have two devices."
   ]
  },
  {
   "cell_type": "markdown",
   "metadata": {},
   "source": [
    "Now divide users in two groups, iPhone user and non-iPhone user\n",
    "* iPhone user: `device_type=1`\n",
    "* Non-iPhone user: `device_type=2`"
   ]
  },
  {
   "cell_type": "code",
   "execution_count": 52,
   "metadata": {},
   "outputs": [
    {
     "name": "stdout",
     "output_type": "stream",
     "text": [
      "+-----------+-----+\n",
      "|device_type|count|\n",
      "+-----------+-----+\n",
      "|          1| 6865|\n",
      "|          2|43001|\n",
      "+-----------+-----+\n",
      "\n"
     ]
    }
   ],
   "source": [
    "df_profile_tmp = df_profile_tmp.withColumn('device_type', F.when(F.col('device') == 'ip', 1).otherwise(2))\n",
    "df_profile_tmp.groupBy('device_type').count().show()"
   ]
  },
  {
   "cell_type": "code",
   "execution_count": 53,
   "metadata": {},
   "outputs": [
    {
     "name": "stdout",
     "output_type": "stream",
     "text": [
      "+-----------+-----+\n",
      "|device_type|count|\n",
      "+-----------+-----+\n",
      "|       null|  374|\n",
      "|          1| 6865|\n",
      "|          2|43001|\n",
      "+-----------+-----+\n",
      "\n"
     ]
    }
   ],
   "source": [
    "df_profile = df_label.select('uid').join(df_profile_tmp.select('uid', 'device_type'), on='uid', how='left')\n",
    "df_profile.groupBy('device_type').count().show()"
   ]
  },
  {
   "cell_type": "code",
   "execution_count": 54,
   "metadata": {},
   "outputs": [
    {
     "name": "stdout",
     "output_type": "stream",
     "text": [
      "+---------+-----------+\n",
      "|      uid|device_type|\n",
      "+---------+-----------+\n",
      "| 11596711|          2|\n",
      "|165827786|          2|\n",
      "|167328646|          2|\n",
      "|167569919|          2|\n",
      "|167570402|          2|\n",
      "|167571223|          2|\n",
      "|167571405|          2|\n",
      "|167571423|          2|\n",
      "|167574952|          2|\n",
      "|167575253|          2|\n",
      "|167577670|          2|\n",
      "|167586714|          2|\n",
      "|167599280|          2|\n",
      "|167614777|          2|\n",
      "|167618975|          2|\n",
      "|167640944|          2|\n",
      "|167650198|          1|\n",
      "|167651907|          2|\n",
      "|167654524|          2|\n",
      "|167659420|          1|\n",
      "+---------+-----------+\n",
      "only showing top 20 rows\n",
      "\n"
     ]
    }
   ],
   "source": [
    "df_profile.show()"
   ]
  },
  {
   "cell_type": "code",
   "execution_count": 55,
   "metadata": {},
   "outputs": [
    {
     "data": {
      "text/plain": [
       "50240"
      ]
     },
     "execution_count": 55,
     "metadata": {},
     "output_type": "execute_result"
    }
   ],
   "source": [
    "df_profile.count()"
   ]
  },
  {
   "cell_type": "markdown",
   "metadata": {},
   "source": [
    "There are only 50,230 users in `df_label`. However, there are 10 users having two devices so there are 50,240 rows in `df_profile`."
   ]
  },
  {
   "cell_type": "markdown",
   "metadata": {},
   "source": [
    "### Total play time features"
   ]
  },
  {
   "cell_type": "code",
   "execution_count": 56,
   "metadata": {},
   "outputs": [
    {
     "data": {
      "text/plain": [
       "DataFrame[uid: string, device: string, song_id: string, date: string, play_time: int, song_length: int]"
      ]
     },
     "execution_count": 56,
     "metadata": {},
     "output_type": "execute_result"
    }
   ],
   "source": [
    "# Can you generate total song play time features (using play_ds data) for different time window\n",
    "# using play data (need to clean play time first, play time may be negative in data)\n",
    "\n",
    "# Convert play_time and strong_length from string to integer\n",
    "df_play = df_play.withColumn('play_time', F.col('play_time').cast('integer'))\n",
    "df_play = df_play.withColumn('song_length', F.col('song_length').cast('integer'))\n",
    "df_play"
   ]
  },
  {
   "cell_type": "code",
   "execution_count": 57,
   "metadata": {},
   "outputs": [
    {
     "name": "stdout",
     "output_type": "stream",
     "text": [
      "+---------+------+--------+----------+---------+-----------+\n",
      "|      uid|device| song_id|      date|play_time|song_length|\n",
      "+---------+------+--------+----------+---------+-----------+\n",
      "|168408359|    ip| 5638883|2017-04-10|       24|         24|\n",
      "|168261396|    ar| 5841437|2017-04-10|      199|        199|\n",
      "|168478408|    ar|23534985|2017-04-10|      311|        311|\n",
      "|168064721|    ip|  853270|2017-04-10|      318|        318|\n",
      "|168411174|    ar|23562956|2017-04-10|      275|        275|\n",
      "|168503909|    ar|  294786|2017-04-10|      180|        180|\n",
      "|168066213|    ar| 6329735|2017-04-10|      289|        289|\n",
      "|168483420|    ar|       0|2017-04-10|      277|        277|\n",
      "|168064721|    ip|  853270|2017-04-10|       16|        318|\n",
      "|168374657|    ar|20674550|2017-04-10|      276|        276|\n",
      "|168408359|    ip| 5638883|2017-04-10|       24|         24|\n",
      "|168282577|    ar|  466825|2017-04-10|      195|        248|\n",
      "|168156044|    ar| 3373247|2017-04-10|      227|        227|\n",
      "|168074544|    ip| 3194407|2017-04-10|      258|        258|\n",
      "|168441911|    ar| 1168171|2017-04-10|      229|        230|\n",
      "|168523596|    ip| 8339943|2017-04-10|      212|        213|\n",
      "|168479778|    ar| 6983870|2017-04-10|      249|        262|\n",
      "|168412268|    ar|22807949|2017-04-10|      221|        222|\n",
      "|168427662|    ar|       0|2017-04-10|        0|        268|\n",
      "|168427662|    ar|       0|2017-04-10|        0|        204|\n",
      "+---------+------+--------+----------+---------+-----------+\n",
      "only showing top 20 rows\n",
      "\n"
     ]
    }
   ],
   "source": [
    "df_play.show()"
   ]
  },
  {
   "cell_type": "markdown",
   "metadata": {},
   "source": [
    "Only select those `play_time` > 0 and `song_length` > 0"
   ]
  },
  {
   "cell_type": "code",
   "execution_count": 58,
   "metadata": {},
   "outputs": [],
   "source": [
    "df_play_new = df_play.filter((F.col('play_time') > 0) & (F.col('song_length') > 0))"
   ]
  },
  {
   "cell_type": "code",
   "execution_count": 59,
   "metadata": {},
   "outputs": [
    {
     "name": "stdout",
     "output_type": "stream",
     "text": [
      "+-------+-------------------+-------+--------------------+----------+------------------+------------------+\n",
      "|summary|                uid| device|             song_id|      date|         play_time|       song_length|\n",
      "+-------+-------------------+-------+--------------------+----------+------------------+------------------+\n",
      "|  count|            7688596|7688596|             7685968|   7688596|           7688596|           7688596|\n",
      "|   mean| 1.66556569833194E8|   null|1.545768570545177E14|      null| 1448.893665371415| 274.6865209200744|\n",
      "| stddev|1.420317570545654E7|   null|4.165680824767521...|      null|133027.34809006288|22061.103920138794|\n",
      "|    min|          100223381|     ar|                  -1|2017-03-30|                 1|                 1|\n",
      "|    25%|       1.67964203E8|   null|            571668.0|      null|                58|               208|\n",
      "|    50%|       1.68339183E8|   null|           4246355.0|      null|               202|               244|\n",
      "|    75%|       1.68696669E8|   null|           7040601.0|      null|               256|               280|\n",
      "|    max|           99693228|     ip|               99994|2017-05-12|         253320731|          61166592|\n",
      "+-------+-------------------+-------+--------------------+----------+------------------+------------------+\n",
      "\n"
     ]
    }
   ],
   "source": [
    "df_play_new.summary().show()"
   ]
  },
  {
   "cell_type": "code",
   "execution_count": 60,
   "metadata": {},
   "outputs": [],
   "source": [
    "# df_play_new.agg({'play_time':'max'}).collect()[0]"
   ]
  },
  {
   "cell_type": "code",
   "execution_count": 61,
   "metadata": {},
   "outputs": [],
   "source": [
    "# df_play_new.agg({'play_time':'min'}).collect()[0]"
   ]
  },
  {
   "cell_type": "code",
   "execution_count": 62,
   "metadata": {},
   "outputs": [],
   "source": [
    "# df_play_new.agg({'song_length':'max'}).collect()[0]"
   ]
  },
  {
   "cell_type": "code",
   "execution_count": 63,
   "metadata": {},
   "outputs": [],
   "source": [
    "# df_play_new.agg({'song_length':'min'}).collect()[0]"
   ]
  },
  {
   "cell_type": "markdown",
   "metadata": {},
   "source": [
    "Need to remove the outlier in `play_time` and `song_length`. The outliers are defined as > mean + 3$\\sigma$."
   ]
  },
  {
   "cell_type": "code",
   "execution_count": 64,
   "metadata": {},
   "outputs": [],
   "source": [
    "# df_play_new.select(F.mean('play_time'), F.mean('song_length'), F.stddev('play_time'), F.stddev('song_length')).show()"
   ]
  },
  {
   "cell_type": "markdown",
   "metadata": {},
   "source": [
    "`play_time_mean = df_play_new.agg({'play_time': 'mean'}).collect()[0]` returns `Row(avg(play_time)=1448.893665371415`.\n",
    "\n",
    "However, I only want to get the value. So I need to add `asDict()` to convert row to dictionary. \n",
    "Then I can access the value using key.\n",
    "\n",
    "`play_time_mean = df_play_new.agg({'play_time': 'mean'}).collect()[0].asDict()` returns `{'avg(play_time)': 1448.893665371415}`"
   ]
  },
  {
   "cell_type": "code",
   "execution_count": 65,
   "metadata": {},
   "outputs": [],
   "source": [
    "play_time_mean = df_play_new.agg({'play_time': 'mean'}).collect()[0].asDict()\n",
    "play_time_std = df_play_new.agg({'play_time': 'stddev'}).collect()[0].asDict()\n",
    "song_length_mean = df_play_new.agg({'song_length': 'mean'}).collect()[0].asDict()\n",
    "song_length_std = df_play_new.agg({'song_length': 'stddev'}).collect()[0].asDict()"
   ]
  },
  {
   "cell_type": "code",
   "execution_count": 66,
   "metadata": {},
   "outputs": [],
   "source": [
    "# print(type(play_time_mean))\n",
    "# print(play_time_mean, play_time_std, song_length_mean, song_length_std)"
   ]
  },
  {
   "cell_type": "code",
   "execution_count": 67,
   "metadata": {},
   "outputs": [],
   "source": [
    "df_play_outliers_removed = df_play_new.filter((F.col('play_time') <= play_time_mean['avg(play_time)'] + 3 * play_time_std['stddev(play_time)']) &\n",
    "                                              (F.col('song_length') <= song_length_mean['avg(song_length)'] + 3 * song_length_std['stddev(song_length)']))"
   ]
  },
  {
   "cell_type": "code",
   "execution_count": 68,
   "metadata": {},
   "outputs": [
    {
     "data": {
      "text/plain": [
       "7688230"
      ]
     },
     "execution_count": 68,
     "metadata": {},
     "output_type": "execute_result"
    }
   ],
   "source": [
    "df_play_outliers_removed.count()"
   ]
  },
  {
   "cell_type": "code",
   "execution_count": 69,
   "metadata": {},
   "outputs": [
    {
     "name": "stdout",
     "output_type": "stream",
     "text": [
      "+-------+--------------------+-------+--------------------+----------+------------------+-----------------+\n",
      "|summary|                 uid| device|             song_id|      date|         play_time|      song_length|\n",
      "+-------+--------------------+-------+--------------------+----------+------------------+-----------------+\n",
      "|  count|             7688230|7688230|             7685602|   7688230|           7688230|          7688230|\n",
      "|   mean| 1.665570110513845E8|   null|1.545842182391503...|      null|1255.5882706422674|266.7060863163563|\n",
      "| stddev|1.4202064230798164E7|   null|4.165780010259676E16|      null|16175.510109621717|293.1677978355522|\n",
      "|    min|           100223381|     ar|                  -1|2017-03-30|                 1|                1|\n",
      "|    25%|        1.67964203E8|   null|            571232.0|      null|                58|              208|\n",
      "|    50%|        1.68339183E8|   null|           4246298.0|      null|               202|              244|\n",
      "|    75%|        1.68696817E8|   null|           7042245.0|      null|               256|              280|\n",
      "|    max|            99693228|     ip|               99994|2017-05-12|            398240|            48760|\n",
      "+-------+--------------------+-------+--------------------+----------+------------------+-----------------+\n",
      "\n"
     ]
    }
   ],
   "source": [
    "df_play_outliers_removed.summary().show()"
   ]
  },
  {
   "cell_type": "code",
   "execution_count": 70,
   "metadata": {},
   "outputs": [
    {
     "name": "stdout",
     "output_type": "stream",
     "text": [
      "+---------+------+--------+----------+---------+-----------+\n",
      "|      uid|device| song_id|      date|play_time|song_length|\n",
      "+---------+------+--------+----------+---------+-----------+\n",
      "|168408359|    ip| 5638883|2017-04-10|       24|         24|\n",
      "|168261396|    ar| 5841437|2017-04-10|      199|        199|\n",
      "|168478408|    ar|23534985|2017-04-10|      311|        311|\n",
      "|168064721|    ip|  853270|2017-04-10|      318|        318|\n",
      "|168411174|    ar|23562956|2017-04-10|      275|        275|\n",
      "|168503909|    ar|  294786|2017-04-10|      180|        180|\n",
      "|168066213|    ar| 6329735|2017-04-10|      289|        289|\n",
      "|168483420|    ar|       0|2017-04-10|      277|        277|\n",
      "|168064721|    ip|  853270|2017-04-10|       16|        318|\n",
      "|168374657|    ar|20674550|2017-04-10|      276|        276|\n",
      "|168408359|    ip| 5638883|2017-04-10|       24|         24|\n",
      "|168282577|    ar|  466825|2017-04-10|      195|        248|\n",
      "|168156044|    ar| 3373247|2017-04-10|      227|        227|\n",
      "|168074544|    ip| 3194407|2017-04-10|      258|        258|\n",
      "|168441911|    ar| 1168171|2017-04-10|      229|        230|\n",
      "|168523596|    ip| 8339943|2017-04-10|      212|        213|\n",
      "|168479778|    ar| 6983870|2017-04-10|      249|        262|\n",
      "|168412268|    ar|22807949|2017-04-10|      221|        222|\n",
      "|168427662|    ar|       0|2017-04-10|        2|        236|\n",
      "|168262028|    ar| 3971731|2017-04-10|      300|        300|\n",
      "+---------+------+--------+----------+---------+-----------+\n",
      "only showing top 20 rows\n",
      "\n"
     ]
    }
   ],
   "source": [
    "df_play_outliers_removed.show()"
   ]
  },
  {
   "cell_type": "markdown",
   "metadata": {},
   "source": [
    "#### Generate total play time features for all event_list and time_window_list"
   ]
  },
  {
   "cell_type": "code",
   "execution_count": 71,
   "metadata": {},
   "outputs": [],
   "source": [
    "def total_play_time_generation_time_window(df, time_window_list, snapshot_date):\n",
    "    '''\n",
    "    Generate frequency features for one event type and a list of time window\n",
    "    '''\n",
    "    df_feature = df.groupBy('uid')\\\n",
    "                   .agg(*[F.sum(F.when(\n",
    "                                        (F.col('date') >= snapshot_date - datetime.timedelta(time_window - 1)) &\n",
    "                                        (F.col('date') < snapshot_date)\n",
    "                                   , F.col('play_time')).otherwise(0)\\\n",
    "                               ).alias('total_play_time_' + str(time_window)) \\\n",
    "                          for time_window in time_window_list])\n",
    "                   \n",
    "    return df_feature"
   ]
  },
  {
   "cell_type": "code",
   "execution_count": 72,
   "metadata": {},
   "outputs": [],
   "source": [
    "time_window_list = [1, 3, 7, 14, 30]\n",
    "snapshot_date = feature_window_end_date\n",
    "\n",
    "df_total_play_time = total_play_time_generation_time_window(df_play_outliers_removed, time_window_list, snapshot_date)"
   ]
  },
  {
   "cell_type": "code",
   "execution_count": 73,
   "metadata": {},
   "outputs": [
    {
     "name": "stdout",
     "output_type": "stream",
     "text": [
      "+---------+-----------------+-----------------+-----------------+------------------+------------------+\n",
      "|      uid|total_play_time_1|total_play_time_3|total_play_time_7|total_play_time_14|total_play_time_30|\n",
      "+---------+-----------------+-----------------+-----------------+------------------+------------------+\n",
      "|168129526|                0|                0|             3447|             15174|             99166|\n",
      "|168411726|                0|                0|                0|                 0|              1325|\n",
      "|168412583|                0|             1594|             6445|             11609|             20942|\n",
      "|168437862|                0|            24419|            42203|             44142|             81670|\n",
      "|168477183|                0|            12697|            15916|             69830|            199381|\n",
      "+---------+-----------------+-----------------+-----------------+------------------+------------------+\n",
      "only showing top 5 rows\n",
      "\n"
     ]
    }
   ],
   "source": [
    "df_total_play_time.show(5)"
   ]
  },
  {
   "cell_type": "markdown",
   "metadata": {},
   "source": [
    "### Fancier frequency features\n",
    "\n",
    "The units of `play_time` and `song_length` are in second. So $\\frac{play\\_time}{song\\_length} > 0.8$ stands for the songs play 80% of their length. However, the type of `play_time` and `song_length` are integer. I need to use `play_time` > 0.8 * `song_length` instead."
   ]
  },
  {
   "cell_type": "code",
   "execution_count": 74,
   "metadata": {},
   "outputs": [],
   "source": [
    "# Can you generate counts of songs play 80% of their song length (using play_ds data) for different time window\n",
    "# using play data (need to clean play time and song length first, play time may be negative in data, song length may be zeros)"
   ]
  },
  {
   "cell_type": "code",
   "execution_count": 75,
   "metadata": {},
   "outputs": [],
   "source": [
    "df_play_eighty = df_play_outliers_removed.withColumn('eighty', F.when(F.col('play_time') > 0.8 * F.col('song_length'), 1).otherwise(0))\n",
    "df_play_eighty = df_play_eighty.select('uid', 'date', 'eighty')"
   ]
  },
  {
   "cell_type": "code",
   "execution_count": 76,
   "metadata": {},
   "outputs": [
    {
     "name": "stdout",
     "output_type": "stream",
     "text": [
      "+---------+----------+------+\n",
      "|      uid|      date|eighty|\n",
      "+---------+----------+------+\n",
      "|168408359|2017-04-10|     1|\n",
      "|168261396|2017-04-10|     1|\n",
      "|168478408|2017-04-10|     1|\n",
      "|168064721|2017-04-10|     1|\n",
      "|168411174|2017-04-10|     1|\n",
      "|168503909|2017-04-10|     1|\n",
      "|168066213|2017-04-10|     1|\n",
      "|168483420|2017-04-10|     1|\n",
      "|168064721|2017-04-10|     0|\n",
      "|168374657|2017-04-10|     1|\n",
      "|168408359|2017-04-10|     1|\n",
      "|168282577|2017-04-10|     0|\n",
      "|168156044|2017-04-10|     1|\n",
      "|168074544|2017-04-10|     1|\n",
      "|168441911|2017-04-10|     1|\n",
      "|168523596|2017-04-10|     1|\n",
      "|168479778|2017-04-10|     1|\n",
      "|168412268|2017-04-10|     1|\n",
      "|168427662|2017-04-10|     0|\n",
      "|168262028|2017-04-10|     1|\n",
      "+---------+----------+------+\n",
      "only showing top 20 rows\n",
      "\n"
     ]
    }
   ],
   "source": [
    "df_play_eighty.show()"
   ]
  },
  {
   "cell_type": "markdown",
   "metadata": {},
   "source": [
    "Generate total `play_time` / `song_length` > 0.8 features for all event_list and time_window_list"
   ]
  },
  {
   "cell_type": "code",
   "execution_count": 77,
   "metadata": {},
   "outputs": [],
   "source": [
    "def eighty_generation_time_window(df, time_window_list, snapshot_date):\n",
    "    '''\n",
    "    Generate frequency features for one event type and a list of time window\n",
    "    '''\n",
    "    df_feature = df.groupBy('uid')\\\n",
    "                   .agg(*[F.sum(F.when((F.col('date') >= snapshot_date - datetime.timedelta(time_window - 1)) &\n",
    "                                       (F.col('date') < snapshot_date),\n",
    "                                       F.when(F.col('play_time') > 0.8 * F.col('song_length'), 1).otherwise(0)\\\n",
    "                                      ).otherwise(0)\\\n",
    "                               ).alias('eighty_' + str(time_window)) \\\n",
    "                          for time_window in time_window_list])\n",
    "    return df_feature"
   ]
  },
  {
   "cell_type": "code",
   "execution_count": 78,
   "metadata": {},
   "outputs": [],
   "source": [
    "time_window_list = [1, 3, 7, 14, 30]\n",
    "snapshot_date = feature_window_end_date\n",
    "\n",
    "df_eighty = eighty_generation_time_window(df_play_outliers_removed, time_window_list, snapshot_date)"
   ]
  },
  {
   "cell_type": "code",
   "execution_count": 79,
   "metadata": {},
   "outputs": [
    {
     "name": "stdout",
     "output_type": "stream",
     "text": [
      "+---------+--------+--------+--------+---------+---------+\n",
      "|      uid|eighty_1|eighty_3|eighty_7|eighty_14|eighty_30|\n",
      "+---------+--------+--------+--------+---------+---------+\n",
      "|168129526|       0|       0|       9|       48|      222|\n",
      "|168411726|       0|       0|       0|        0|        5|\n",
      "|168412583|       0|       3|      14|       36|       64|\n",
      "|168437862|       0|      83|     164|      172|      321|\n",
      "|168477183|       0|      41|      50|      226|      705|\n",
      "|168479610|       0|      39|      67|      140|      255|\n",
      "|168320671|       0|       0|       0|       16|       35|\n",
      "|168306664|       0|       0|       5|       72|      255|\n",
      "|168478957|       0|      30|      30|      105|      140|\n",
      "|168515885|       0|       0|      11|       50|      123|\n",
      "|168101854|       0|       0|       0|        3|       23|\n",
      "|168340102|       0|      14|      14|       51|      130|\n",
      "|168310858|       0|       4|       4|       29|       47|\n",
      "|168107903|       0|       6|       6|        6|       69|\n",
      "|168225678|       0|       6|       6|        8|       15|\n",
      "|168372226|       0|      24|      34|       81|      137|\n",
      "|168081728|       0|       0|       0|        0|       78|\n",
      "|168083706|       0|       0|       0|        0|       93|\n",
      "|168120418|       0|       0|      16|       22|      126|\n",
      "|168061208|       0|       7|      27|       72|      162|\n",
      "+---------+--------+--------+--------+---------+---------+\n",
      "only showing top 20 rows\n",
      "\n"
     ]
    }
   ],
   "source": [
    "df_eighty.show()"
   ]
  },
  {
   "cell_type": "markdown",
   "metadata": {},
   "source": [
    "## 5. Form training data"
   ]
  },
  {
   "cell_type": "code",
   "execution_count": 80,
   "metadata": {},
   "outputs": [],
   "source": [
    "def join_feature_data(df_master, df_feature_list):\n",
    "    for df_feature in df_feature_list:\n",
    "        df_master = df_master.join(df_feature, on='uid', how='left')\n",
    "        #df_master.persist() # uncomment if number of joins is too many\n",
    "        \n",
    "    return df_master"
   ]
  },
  {
   "cell_type": "markdown",
   "metadata": {},
   "source": [
    "#### Join all behavior features"
   ]
  },
  {
   "cell_type": "code",
   "execution_count": 81,
   "metadata": {},
   "outputs": [],
   "source": [
    "df_model_final = join_feature_data(df_label, df_feature_list)"
   ]
  },
  {
   "cell_type": "markdown",
   "metadata": {},
   "source": [
    "#### Join all profile features"
   ]
  },
  {
   "cell_type": "code",
   "execution_count": 82,
   "metadata": {},
   "outputs": [],
   "source": [
    "df_model_final = join_feature_data(df_model_final, [df_profile])"
   ]
  },
  {
   "cell_type": "markdown",
   "metadata": {},
   "source": [
    "#### Join recency, total play time, and fancier frequency features"
   ]
  },
  {
   "cell_type": "code",
   "execution_count": 83,
   "metadata": {},
   "outputs": [],
   "source": [
    "df_model_final = join_feature_data(df_model_final, df_days_list)"
   ]
  },
  {
   "cell_type": "code",
   "execution_count": 84,
   "metadata": {},
   "outputs": [],
   "source": [
    "df_model_final = join_feature_data(df_model_final, [df_total_play_time, df_eighty])"
   ]
  },
  {
   "cell_type": "code",
   "execution_count": 85,
   "metadata": {},
   "outputs": [],
   "source": [
    "# df_model_final.schema.names"
   ]
  },
  {
   "cell_type": "code",
   "execution_count": 86,
   "metadata": {},
   "outputs": [],
   "source": [
    "# df_model_final.printSchema()"
   ]
  },
  {
   "cell_type": "code",
   "execution_count": 87,
   "metadata": {},
   "outputs": [],
   "source": [
    "df_model_final.fillna(0).toPandas().to_csv('data/model_final.csv', index=False)"
   ]
  }
 ],
 "metadata": {
  "kernelspec": {
   "display_name": "Python 3",
   "language": "python",
   "name": "python3"
  },
  "language_info": {
   "codemirror_mode": {
    "name": "ipython",
    "version": 3
   },
   "file_extension": ".py",
   "mimetype": "text/x-python",
   "name": "python",
   "nbconvert_exporter": "python",
   "pygments_lexer": "ipython3",
   "version": "3.6.7"
  }
 },
 "nbformat": 4,
 "nbformat_minor": 2
}
