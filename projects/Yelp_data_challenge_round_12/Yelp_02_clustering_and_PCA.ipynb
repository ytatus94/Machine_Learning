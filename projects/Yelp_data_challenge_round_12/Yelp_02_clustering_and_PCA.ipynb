{
 "cells": [
  {
   "cell_type": "markdown",
   "metadata": {},
   "source": [
    "# Yelp Dataset Challenge\n",
    "\n",
    "![Yelp Data Challenge](https://s3-media3.fl.yelpcdn.com/assets/srv0/engineering_pages/6d323fc75cb1/assets/img/dataset/960x225_dataset@2x.png)"
   ]
  },
  {
   "cell_type": "markdown",
   "metadata": {},
   "source": [
    "## Load Data\n",
    "\n",
    "Use the processed data `last_2_years_restaurant_reviews.csv`"
   ]
  },
  {
   "cell_type": "code",
   "execution_count": 1,
   "metadata": {},
   "outputs": [],
   "source": [
    "import pandas as pd\n",
    "import numpy as np\n",
    "import matplotlib.pyplot as plt\n",
    "\n",
    "%matplotlib inline"
   ]
  },
  {
   "cell_type": "code",
   "execution_count": 2,
   "metadata": {},
   "outputs": [],
   "source": [
    "df = pd.read_csv('last_2_years_restaurant_reviews.csv')"
   ]
  },
  {
   "cell_type": "code",
   "execution_count": 3,
   "metadata": {},
   "outputs": [
    {
     "name": "stdout",
     "output_type": "stream",
     "text": [
      "<class 'pandas.core.frame.DataFrame'>\n",
      "RangeIndex: 398037 entries, 0 to 398036\n",
      "Data columns (total 12 columns):\n",
      "business_id    398037 non-null object\n",
      "name           398037 non-null object\n",
      "categories     398037 non-null object\n",
      "avg_stars      398037 non-null float64\n",
      "cool           398037 non-null int64\n",
      "date           398037 non-null object\n",
      "funny          398037 non-null int64\n",
      "review_id      398037 non-null object\n",
      "stars          398037 non-null int64\n",
      "text           398037 non-null object\n",
      "useful         398037 non-null int64\n",
      "user_id        398037 non-null object\n",
      "dtypes: float64(1), int64(4), object(7)\n",
      "memory usage: 36.4+ MB\n"
     ]
    }
   ],
   "source": [
    "# Inspect\n",
    "df.info()"
   ]
  },
  {
   "cell_type": "code",
   "execution_count": 4,
   "metadata": {},
   "outputs": [
    {
     "data": {
      "text/html": [
       "<div>\n",
       "<style scoped>\n",
       "    .dataframe tbody tr th:only-of-type {\n",
       "        vertical-align: middle;\n",
       "    }\n",
       "\n",
       "    .dataframe tbody tr th {\n",
       "        vertical-align: top;\n",
       "    }\n",
       "\n",
       "    .dataframe thead th {\n",
       "        text-align: right;\n",
       "    }\n",
       "</style>\n",
       "<table border=\"1\" class=\"dataframe\">\n",
       "  <thead>\n",
       "    <tr style=\"text-align: right;\">\n",
       "      <th></th>\n",
       "      <th>business_id</th>\n",
       "      <th>name</th>\n",
       "      <th>categories</th>\n",
       "      <th>avg_stars</th>\n",
       "      <th>cool</th>\n",
       "      <th>date</th>\n",
       "      <th>funny</th>\n",
       "      <th>review_id</th>\n",
       "      <th>stars</th>\n",
       "      <th>text</th>\n",
       "      <th>useful</th>\n",
       "      <th>user_id</th>\n",
       "    </tr>\n",
       "  </thead>\n",
       "  <tbody>\n",
       "    <tr>\n",
       "      <th>0</th>\n",
       "      <td>kgffcoxT6BQp-gJ-UQ7Czw</td>\n",
       "      <td>Subway</td>\n",
       "      <td>Fast Food, Restaurants, Sandwiches</td>\n",
       "      <td>2.5</td>\n",
       "      <td>0</td>\n",
       "      <td>2016-07-03</td>\n",
       "      <td>0</td>\n",
       "      <td>c6iTbCMMYWnOd79ZiWwobg</td>\n",
       "      <td>1</td>\n",
       "      <td>I ordered a few 12 inch sandwiches , a turkey ...</td>\n",
       "      <td>1</td>\n",
       "      <td>ih7Dmu7wZpKVwlBRbakJOQ</td>\n",
       "    </tr>\n",
       "    <tr>\n",
       "      <th>1</th>\n",
       "      <td>kgffcoxT6BQp-gJ-UQ7Czw</td>\n",
       "      <td>Subway</td>\n",
       "      <td>Fast Food, Restaurants, Sandwiches</td>\n",
       "      <td>2.5</td>\n",
       "      <td>0</td>\n",
       "      <td>2018-03-10</td>\n",
       "      <td>0</td>\n",
       "      <td>5iDdZvpK4jOv2w5kZ15TUA</td>\n",
       "      <td>1</td>\n",
       "      <td>Worst subway of any I have visited. I have man...</td>\n",
       "      <td>1</td>\n",
       "      <td>m3WBc9bGxn1q1ikAFq8PaA</td>\n",
       "    </tr>\n",
       "    <tr>\n",
       "      <th>2</th>\n",
       "      <td>kgffcoxT6BQp-gJ-UQ7Czw</td>\n",
       "      <td>Subway</td>\n",
       "      <td>Fast Food, Restaurants, Sandwiches</td>\n",
       "      <td>2.5</td>\n",
       "      <td>0</td>\n",
       "      <td>2016-12-26</td>\n",
       "      <td>0</td>\n",
       "      <td>oCUrLS4T-paZBr6WnrXg_A</td>\n",
       "      <td>2</td>\n",
       "      <td>Good luck trying to get the order right. The c...</td>\n",
       "      <td>0</td>\n",
       "      <td>H7bJDtGzhdg1fsmBL4KZWg</td>\n",
       "    </tr>\n",
       "    <tr>\n",
       "      <th>3</th>\n",
       "      <td>kgffcoxT6BQp-gJ-UQ7Czw</td>\n",
       "      <td>Subway</td>\n",
       "      <td>Fast Food, Restaurants, Sandwiches</td>\n",
       "      <td>2.5</td>\n",
       "      <td>0</td>\n",
       "      <td>2016-12-16</td>\n",
       "      <td>0</td>\n",
       "      <td>qXHvWYgL-8yfcGvP_ydKGA</td>\n",
       "      <td>2</td>\n",
       "      <td>Here to get my pick up order at the moment it ...</td>\n",
       "      <td>0</td>\n",
       "      <td>58sXi_0oTgVlM3aUuFYHUA</td>\n",
       "    </tr>\n",
       "    <tr>\n",
       "      <th>4</th>\n",
       "      <td>0jtRI7hVMpQHpUVtUy4ITw</td>\n",
       "      <td>Omelet House Summerlin</td>\n",
       "      <td>Beer, Wine &amp; Spirits, Italian, Food, American ...</td>\n",
       "      <td>4.0</td>\n",
       "      <td>1</td>\n",
       "      <td>2016-12-29</td>\n",
       "      <td>0</td>\n",
       "      <td>j9l7IMJX9bvWjkJ18EWGpg</td>\n",
       "      <td>5</td>\n",
       "      <td>My husband &amp; I were visiting the area, found t...</td>\n",
       "      <td>0</td>\n",
       "      <td>ZS7V0uC4kVrJR_4Yi3oTHA</td>\n",
       "    </tr>\n",
       "  </tbody>\n",
       "</table>\n",
       "</div>"
      ],
      "text/plain": [
       "              business_id                    name  \\\n",
       "0  kgffcoxT6BQp-gJ-UQ7Czw                  Subway   \n",
       "1  kgffcoxT6BQp-gJ-UQ7Czw                  Subway   \n",
       "2  kgffcoxT6BQp-gJ-UQ7Czw                  Subway   \n",
       "3  kgffcoxT6BQp-gJ-UQ7Czw                  Subway   \n",
       "4  0jtRI7hVMpQHpUVtUy4ITw  Omelet House Summerlin   \n",
       "\n",
       "                                          categories  avg_stars  cool  \\\n",
       "0                 Fast Food, Restaurants, Sandwiches        2.5     0   \n",
       "1                 Fast Food, Restaurants, Sandwiches        2.5     0   \n",
       "2                 Fast Food, Restaurants, Sandwiches        2.5     0   \n",
       "3                 Fast Food, Restaurants, Sandwiches        2.5     0   \n",
       "4  Beer, Wine & Spirits, Italian, Food, American ...        4.0     1   \n",
       "\n",
       "         date  funny               review_id  stars  \\\n",
       "0  2016-07-03      0  c6iTbCMMYWnOd79ZiWwobg      1   \n",
       "1  2018-03-10      0  5iDdZvpK4jOv2w5kZ15TUA      1   \n",
       "2  2016-12-26      0  oCUrLS4T-paZBr6WnrXg_A      2   \n",
       "3  2016-12-16      0  qXHvWYgL-8yfcGvP_ydKGA      2   \n",
       "4  2016-12-29      0  j9l7IMJX9bvWjkJ18EWGpg      5   \n",
       "\n",
       "                                                text  useful  \\\n",
       "0  I ordered a few 12 inch sandwiches , a turkey ...       1   \n",
       "1  Worst subway of any I have visited. I have man...       1   \n",
       "2  Good luck trying to get the order right. The c...       0   \n",
       "3  Here to get my pick up order at the moment it ...       0   \n",
       "4  My husband & I were visiting the area, found t...       0   \n",
       "\n",
       "                  user_id  \n",
       "0  ih7Dmu7wZpKVwlBRbakJOQ  \n",
       "1  m3WBc9bGxn1q1ikAFq8PaA  \n",
       "2  H7bJDtGzhdg1fsmBL4KZWg  \n",
       "3  58sXi_0oTgVlM3aUuFYHUA  \n",
       "4  ZS7V0uC4kVrJR_4Yi3oTHA  "
      ]
     },
     "execution_count": 4,
     "metadata": {},
     "output_type": "execute_result"
    }
   ],
   "source": [
    "df.head()"
   ]
  },
  {
   "cell_type": "markdown",
   "metadata": {},
   "source": [
    "## 1. Cluster the review text data for all the restaurants\n",
    "\n",
    "### Define feature variables\n",
    "* Use `text` of review as predictor and `avg_stars` as target"
   ]
  },
  {
   "cell_type": "code",
   "execution_count": 5,
   "metadata": {},
   "outputs": [],
   "source": [
    "# Take the values of the column that contains review text data, save to a variable named \"documents\"\n",
    "documents = df['text']\n",
    "# Make a column and take the values, save to a variable named \"target\"\n",
    "# df['favorable'] = df['stars'] > 4\n",
    "# target = df['favorable']\n",
    "stars = df['avg_stars']"
   ]
  },
  {
   "cell_type": "code",
   "execution_count": 6,
   "metadata": {},
   "outputs": [
    {
     "data": {
      "text/plain": [
       "(398037,)"
      ]
     },
     "execution_count": 6,
     "metadata": {},
     "output_type": "execute_result"
    }
   ],
   "source": [
    "documents.shape"
   ]
  },
  {
   "cell_type": "code",
   "execution_count": 7,
   "metadata": {},
   "outputs": [
    {
     "data": {
      "text/plain": [
       "(398037,)"
      ]
     },
     "execution_count": 7,
     "metadata": {},
     "output_type": "execute_result"
    }
   ],
   "source": [
    "stars.shape"
   ]
  },
  {
   "cell_type": "code",
   "execution_count": 8,
   "metadata": {},
   "outputs": [
    {
     "data": {
      "text/plain": [
       "0    I ordered a few 12 inch sandwiches , a turkey ...\n",
       "1    Worst subway of any I have visited. I have man...\n",
       "2    Good luck trying to get the order right. The c...\n",
       "Name: text, dtype: object"
      ]
     },
     "execution_count": 8,
     "metadata": {},
     "output_type": "execute_result"
    }
   ],
   "source": [
    "documents.head(3)"
   ]
  },
  {
   "cell_type": "code",
   "execution_count": 9,
   "metadata": {},
   "outputs": [
    {
     "data": {
      "text/plain": [
       "3.8557659212585764"
      ]
     },
     "execution_count": 9,
     "metadata": {},
     "output_type": "execute_result"
    }
   ],
   "source": [
    "stars.mean()"
   ]
  },
  {
   "cell_type": "markdown",
   "metadata": {},
   "source": [
    "### Create training and test dataset\n",
    "Use larger test sample size to aviod crash when training"
   ]
  },
  {
   "cell_type": "code",
   "execution_count": 10,
   "metadata": {},
   "outputs": [],
   "source": [
    "from sklearn.model_selection import train_test_split\n",
    "X = documents.values\n",
    "y = stars.values\n",
    "X_train, X_test, y_train, y_test = train_test_split(X, y, test_size=0.5, random_state=42)"
   ]
  },
  {
   "cell_type": "markdown",
   "metadata": {},
   "source": [
    "### Get NLP representation of the documents\n",
    "\n",
    "#### Fit `TfidfVectorizer` with training data only, then tranform all the data to tf-idf"
   ]
  },
  {
   "cell_type": "code",
   "execution_count": 11,
   "metadata": {},
   "outputs": [],
   "source": [
    "from sklearn.feature_extraction.text import TfidfVectorizer"
   ]
  },
  {
   "cell_type": "code",
   "execution_count": 12,
   "metadata": {},
   "outputs": [],
   "source": [
    "# Create TfidfVectorizer, and name it vectorizer, choose a reasonable max_features, e.g. 1000\n",
    "vectorizer = TfidfVectorizer(stop_words='english', max_features=1000)"
   ]
  },
  {
   "cell_type": "code",
   "execution_count": 13,
   "metadata": {},
   "outputs": [],
   "source": [
    "# Train the model with training data\n",
    "vec_trained = vectorizer.fit_transform(X_train)# vec_trained 是存了 tf-idf 的矩陣"
   ]
  },
  {
   "cell_type": "code",
   "execution_count": 14,
   "metadata": {},
   "outputs": [
    {
     "name": "stdout",
     "output_type": "stream",
     "text": [
      "<class 'scipy.sparse.csr.csr_matrix'>\n"
     ]
    }
   ],
   "source": [
    "print(type(vec_trained)) # it is a sparse matrix in compressed sparse row (csr) format\n",
    "# print(vec_trained)\n",
    "# print(vec_trained.toarray())\n",
    "# print(vec_trained.todense())"
   ]
  },
  {
   "cell_type": "code",
   "execution_count": 15,
   "metadata": {},
   "outputs": [
    {
     "name": "stdout",
     "output_type": "stream",
     "text": [
      "<class 'numpy.ndarray'> <class 'numpy.matrixlib.defmatrix.matrix'>\n",
      "[[0. 0. 0. ... 0. 0. 0.]\n",
      " [0. 0. 0. ... 0. 0. 0.]\n",
      " [0. 0. 0. ... 0. 0. 0.]\n",
      " ...\n",
      " [0. 0. 0. ... 0. 0. 0.]\n",
      " [0. 0. 0. ... 0. 0. 0.]\n",
      " [0. 0. 0. ... 0. 0. 0.]]\n",
      "[[0. 0. 0. ... 0. 0. 0.]\n",
      " [0. 0. 0. ... 0. 0. 0.]\n",
      " [0. 0. 0. ... 0. 0. 0.]\n",
      " ...\n",
      " [0. 0. 0. ... 0. 0. 0.]\n",
      " [0. 0. 0. ... 0. 0. 0.]\n",
      " [0. 0. 0. ... 0. 0. 0.]]\n"
     ]
    }
   ],
   "source": [
    "vec_arr = vec_trained.toarray() # This is an array\n",
    "vec_den = vec_trained.todense() # This is an matrix\n",
    "print(type(vec_arr), type(vec_den))\n",
    "print(vec_arr)\n",
    "print(vec_den)"
   ]
  },
  {
   "cell_type": "code",
   "execution_count": 16,
   "metadata": {},
   "outputs": [],
   "source": [
    "vec_trained = vec_trained.toarray() # 最後採用 array 的形式，因為 sklearn 的模型要吃 ndarray "
   ]
  },
  {
   "cell_type": "code",
   "execution_count": 17,
   "metadata": {},
   "outputs": [
    {
     "data": {
      "text/plain": [
       "(199018, 1000)"
      ]
     },
     "execution_count": 17,
     "metadata": {},
     "output_type": "execute_result"
    }
   ],
   "source": [
    "vec_trained.shape # 199018 x 1000: 398037 筆資料 * 0.5 當 train = 199018.5, 1000 個單詞"
   ]
  },
  {
   "cell_type": "code",
   "execution_count": 18,
   "metadata": {},
   "outputs": [],
   "source": [
    "# Get the vocab of your tfidf\n",
    "vocab = vectorizer.get_feature_names() # features 就是單字"
   ]
  },
  {
   "cell_type": "code",
   "execution_count": 19,
   "metadata": {},
   "outputs": [],
   "source": [
    "# vocab"
   ]
  },
  {
   "cell_type": "code",
   "execution_count": 20,
   "metadata": {},
   "outputs": [
    {
     "name": "stdout",
     "output_type": "stream",
     "text": [
      "<class 'list'>\n",
      "1000\n"
     ]
    }
   ],
   "source": [
    "print(type(vocab))\n",
    "print(len(vocab)) # 1000 個單詞"
   ]
  },
  {
   "cell_type": "code",
   "execution_count": 21,
   "metadata": {},
   "outputs": [],
   "source": [
    "# Use the trained model to transform all the reviews\n",
    "vec_documents = vectorizer.transform(documents) # 把整個 documents 拿來求 tf-idf 的矩陣並存到 vec_documents"
   ]
  },
  {
   "cell_type": "code",
   "execution_count": 22,
   "metadata": {},
   "outputs": [
    {
     "name": "stdout",
     "output_type": "stream",
     "text": [
      "<class 'scipy.sparse.csr.csr_matrix'>\n",
      "[[0. 0. 0. ... 0. 0. 0.]\n",
      " [0. 0. 0. ... 0. 0. 0.]\n",
      " [0. 0. 0. ... 0. 0. 0.]\n",
      " ...\n",
      " [0. 0. 0. ... 0. 0. 0.]\n",
      " [0. 0. 0. ... 0. 0. 0.]\n",
      " [0. 0. 0. ... 0. 0. 0.]]\n",
      "(398037, 1000)\n"
     ]
    }
   ],
   "source": [
    "print(type(vec_documents)) # sparse matrix in csr format\n",
    "vec_doc_arr = vec_documents.toarray() # use ndarray\n",
    "print(vec_doc_arr)\n",
    "print(vec_doc_arr.shape)"
   ]
  },
  {
   "cell_type": "markdown",
   "metadata": {},
   "source": [
    "### Cluster reviews with KMeans\n",
    "\n",
    "#### Fit k-means clustering with the training vectors and apply it on all the data"
   ]
  },
  {
   "cell_type": "code",
   "execution_count": 23,
   "metadata": {},
   "outputs": [],
   "source": [
    "from sklearn.cluster import KMeans"
   ]
  },
  {
   "cell_type": "code",
   "execution_count": 24,
   "metadata": {},
   "outputs": [],
   "source": [
    "kmeans = KMeans().fit(vec_trained) # n_clusters = 8 by default"
   ]
  },
  {
   "cell_type": "code",
   "execution_count": 25,
   "metadata": {},
   "outputs": [
    {
     "name": "stdout",
     "output_type": "stream",
     "text": [
      "199018\n"
     ]
    },
    {
     "data": {
      "text/plain": [
       "array([1, 0, 7, ..., 6, 6, 1], dtype=int32)"
      ]
     },
     "execution_count": 25,
     "metadata": {},
     "output_type": "execute_result"
    }
   ],
   "source": [
    "print(kmeans.labels_.size)\n",
    "kmeans.labels_ # 每一列是屬於哪個 cluster"
   ]
  },
  {
   "cell_type": "code",
   "execution_count": 26,
   "metadata": {},
   "outputs": [
    {
     "data": {
      "text/plain": [
       "array([0, 1, 2, 3, 4, 5, 6, 7], dtype=int32)"
      ]
     },
     "execution_count": 26,
     "metadata": {},
     "output_type": "execute_result"
    }
   ],
   "source": [
    "np.unique(kmeans.labels_) # 有 8 個 clusters"
   ]
  },
  {
   "cell_type": "code",
   "execution_count": 27,
   "metadata": {},
   "outputs": [
    {
     "data": {
      "text/plain": [
       "array([[0.00414732, 0.02106461, 0.00275894, ..., 0.00400914, 0.00071464,\n",
       "        0.00147752],\n",
       "       [0.00284556, 0.00664583, 0.00244654, ..., 0.00130787, 0.00386807,\n",
       "        0.00795231],\n",
       "       [0.00252771, 0.00831588, 0.00143249, ..., 0.0013526 , 0.00487588,\n",
       "        0.00830531],\n",
       "       ...,\n",
       "       [0.00160846, 0.00533365, 0.00155053, ..., 0.00107911, 0.00253724,\n",
       "        0.00540751],\n",
       "       [0.00077492, 0.00386826, 0.00131025, ..., 0.00112075, 0.00231777,\n",
       "        0.00632524],\n",
       "       [0.00171322, 0.00650178, 0.00245981, ..., 0.00096125, 0.00275085,\n",
       "        0.00706843]])"
      ]
     },
     "execution_count": 27,
     "metadata": {},
     "output_type": "execute_result"
    }
   ],
   "source": [
    "kmeans.cluster_centers_ # 是 8 x 1000 的維度"
   ]
  },
  {
   "cell_type": "code",
   "execution_count": 28,
   "metadata": {},
   "outputs": [
    {
     "name": "stdout",
     "output_type": "stream",
     "text": [
      "(199018,)\n",
      "(8, 1000)\n"
     ]
    }
   ],
   "source": [
    "print(kmeans.labels_.shape)\n",
    "print(kmeans.cluster_centers_.shape) # there are 8 clusters and 1000 words"
   ]
  },
  {
   "cell_type": "markdown",
   "metadata": {},
   "source": [
    "#### Make predictions on all your data"
   ]
  },
  {
   "cell_type": "code",
   "execution_count": 29,
   "metadata": {},
   "outputs": [],
   "source": [
    "doc_cluster = kmeans.predict(vec_doc_arr) # assign all documents to correct clusters"
   ]
  },
  {
   "cell_type": "markdown",
   "metadata": {},
   "source": [
    "#### Inspect the centroids\n",
    "\n",
    "`kmeans.cluster_centers_` 是每一個 cluster center 的 tf-idf 形成的 ndarray，每一個欄位代表對應的單詞 (feature)"
   ]
  },
  {
   "cell_type": "code",
   "execution_count": 30,
   "metadata": {},
   "outputs": [
    {
     "data": {
      "text/plain": [
       "array([[0.00414732, 0.02106461, 0.00275894, ..., 0.00400914, 0.00071464,\n",
       "        0.00147752],\n",
       "       [0.00284556, 0.00664583, 0.00244654, ..., 0.00130787, 0.00386807,\n",
       "        0.00795231],\n",
       "       [0.00252771, 0.00831588, 0.00143249, ..., 0.0013526 , 0.00487588,\n",
       "        0.00830531],\n",
       "       ...,\n",
       "       [0.00160846, 0.00533365, 0.00155053, ..., 0.00107911, 0.00253724,\n",
       "        0.00540751],\n",
       "       [0.00077492, 0.00386826, 0.00131025, ..., 0.00112075, 0.00231777,\n",
       "        0.00632524],\n",
       "       [0.00171322, 0.00650178, 0.00245981, ..., 0.00096125, 0.00275085,\n",
       "        0.00706843]])"
      ]
     },
     "execution_count": 30,
     "metadata": {},
     "output_type": "execute_result"
    }
   ],
   "source": [
    "kmeans.cluster_centers_"
   ]
  },
  {
   "cell_type": "code",
   "execution_count": 31,
   "metadata": {},
   "outputs": [
    {
     "data": {
      "text/plain": [
       "(8, 1000)"
      ]
     },
     "execution_count": 31,
     "metadata": {},
     "output_type": "execute_result"
    }
   ],
   "source": [
    "kmeans.cluster_centers_.shape"
   ]
  },
  {
   "cell_type": "markdown",
   "metadata": {},
   "source": [
    "#### Find the top 10 features for each cluster.\n",
    "\n",
    "要選出 cluster center 中每一列 tf-idf 最大的前十個欄位，在找出該欄位對應的單詞是哪個\n",
    "\n",
    "`np.argsort()` 預設會對列排序，由左到右表示由小到大，但是傳回的是對應於原本的 ndarray 的元素的 index\n",
    "\n",
    "array([3, 1, 2]) 由小到大排序會是 array([1, 2, 3]) 對應原本的 ndarray 的元素的 index 就是 [1, 2, 0]\n",
    "\n",
    "見 https://docs.scipy.org/doc/numpy-1.15.1/reference/generated/numpy.argsort.html\n"
   ]
  },
  {
   "cell_type": "code",
   "execution_count": 32,
   "metadata": {},
   "outputs": [
    {
     "name": "stdout",
     "output_type": "stream",
     "text": [
      "<class 'numpy.ndarray'>\n"
     ]
    }
   ],
   "source": [
    "print(type(kmeans.cluster_centers_))"
   ]
  },
  {
   "cell_type": "code",
   "execution_count": 33,
   "metadata": {},
   "outputs": [
    {
     "name": "stdout",
     "output_type": "stream",
     "text": [
      "[[ 22 199 203 ... 540 327 597]\n",
      " [538  46 642 ... 223 327 641]\n",
      " [836  54  76 ... 365 337 150]\n",
      " ...\n",
      " [270 293 642 ... 694 327 365]\n",
      " [984 795 243 ... 774 327 373]\n",
      " [374 944 159 ... 727 641 857]]\n"
     ]
    }
   ],
   "source": [
    "sorted_index_centroids = np.argsort(kmeans.cluster_centers_)\n",
    "print(sorted_index_centroids) # 每一列的倒數十個數字，是 tf-idf 最大的欄位的 index"
   ]
  },
  {
   "cell_type": "code",
   "execution_count": 34,
   "metadata": {},
   "outputs": [
    {
     "name": "stdout",
     "output_type": "stream",
     "text": [
      "[[230 733  40 124 450 774 887 540 327 597]\n",
      " [913 887 503  27 598 450 478 223 327 641]\n",
      " [223 746 373 641 598 720 327 365 337 150]\n",
      " [373 887 774  27 932 641 327 465 934  79]\n",
      " [450 598 597 794 145 373 641 365 203 639]\n",
      " [450 373 478 669 564 774 641 694 327 365]\n",
      " [222  43 824  52 339  27 641 774 327 373]\n",
      " [321 774 335 365 373  54 726 727 641 857]]\n"
     ]
    }
   ],
   "source": [
    "top_ten = sorted_index_centroids[:, -10:] # 取屁股後面十個\n",
    "print(top_ten) # 由左到右是從第十名到第一名"
   ]
  },
  {
   "cell_type": "code",
   "execution_count": 35,
   "metadata": {},
   "outputs": [
    {
     "name": "stdout",
     "output_type": "stream",
     "text": [
      "[[597 327 540 887 774 450 124  40 733 230]\n",
      " [641 327 223 478 450 598  27 503 887 913]\n",
      " [150 337 365 327 720 598 641 373 746 223]\n",
      " [ 79 934 465 327 641 932  27 774 887 373]\n",
      " [639 203 365 641 373 145 794 597 598 450]\n",
      " [365 327 694 641 774 564 669 478 373 450]\n",
      " [373 327 774 641  27 339  52 824  43 222]\n",
      " [857 641 727 726  54 373 365 335 774 321]]\n"
     ]
    }
   ],
   "source": [
    "top_ten = top_ten[:, ::-1] # 改變排名的順序，從左到右由第一名排到第十名\n",
    "print(top_ten)"
   ]
  },
  {
   "cell_type": "code",
   "execution_count": 36,
   "metadata": {},
   "outputs": [
    {
     "name": "stdout",
     "output_type": "stream",
     "text": [
      "[[597 327 540 887 774 450 124  40 733]\n",
      " [641 327 223 478 450 598  27 503 887]\n",
      " [150 337 365 327 720 598 641 373 746]\n",
      " [ 79 934 465 327 641 932  27 774 887]\n",
      " [639 203 365 641 373 145 794 597 598]\n",
      " [365 327 694 641 774 564 669 478 373]\n",
      " [373 327 774 641  27 339  52 824  43]\n",
      " [857 641 727 726  54 373 365 335 774]]\n"
     ]
    }
   ],
   "source": [
    "print(sorted_index_centroids[:, -1:-10:-1]) # 用一行解決"
   ]
  },
  {
   "cell_type": "markdown",
   "metadata": {},
   "source": [
    "然後去 vocab 中找欄位 index 對應的單字"
   ]
  },
  {
   "cell_type": "code",
   "execution_count": 37,
   "metadata": {},
   "outputs": [
    {
     "name": "stdout",
     "output_type": "stream",
     "text": [
      "0: order, food, minutes, time, service, just, came, asked, said, didn\n",
      "1: place, food, delicious, like, just, ordered, amazing, love, time, try\n",
      "2: chicken, fried, good, food, rice, ordered, place, great, sauce, delicious\n",
      "3: best, vegas, las, food, place, ve, amazing, service, time, great\n",
      "4: pizza, crust, good, place, great, cheese, slice, order, ordered, just\n",
      "5: good, food, really, place, service, nice, pretty, like, great, just\n",
      "6: great, food, service, place, amazing, friendly, awesome, staff, atmosphere, definitely\n",
      "7: sushi, place, rolls, roll, ayce, great, good, fresh, service, fish\n"
     ]
    }
   ],
   "source": [
    "# print(vocab[639])\n",
    "for i, row in enumerate(top_ten):\n",
    "#     print(i, row)\n",
    "    print('%d: %s' % (i, ', '.join([vocab[j] for j in row])))"
   ]
  },
  {
   "cell_type": "markdown",
   "metadata": {},
   "source": [
    "上面就是每個 cluster center 中 tf-idf 前十名所對應到的單字"
   ]
  },
  {
   "cell_type": "markdown",
   "metadata": {},
   "source": [
    "#### Try different k\n",
    "\n",
    "Wrap up above steps into a function"
   ]
  },
  {
   "cell_type": "code",
   "execution_count": 38,
   "metadata": {},
   "outputs": [],
   "source": [
    "def top_ten_words(training_data, n):\n",
    "    kmeans = KMeans(n_clusters=n, random_state=0)\n",
    "    kmeans.fit(training_data)\n",
    "    index_array = kmeans.cluster_centers_.argsort()[:, -1:-10:-1]\n",
    "    print('Top 10 features for each cluster:')\n",
    "    for i, row in enumerate(index_array):\n",
    "        print('{}: {}'.format(i, ', '.join([vocab[i] for i in row])))"
   ]
  },
  {
   "cell_type": "code",
   "execution_count": 39,
   "metadata": {},
   "outputs": [
    {
     "name": "stdout",
     "output_type": "stream",
     "text": [
      "Top 10 features for each cluster:\n",
      "0: good, chicken, food, really, ordered, like, place, just, burger\n",
      "1: food, place, best, vegas, amazing, service, love, delicious, good\n",
      "2: sushi, place, rolls, roll, ayce, great, good, service, fresh\n",
      "3: food, order, time, just, service, minutes, came, like, didn\n",
      "4: pizza, crust, good, place, great, cheese, slice, order, best\n",
      "5: great, food, service, place, good, amazing, friendly, staff, atmosphere\n"
     ]
    }
   ],
   "source": [
    "# 6 clusters\n",
    "top_ten_words(vec_trained, 6)"
   ]
  },
  {
   "cell_type": "code",
   "execution_count": 40,
   "metadata": {},
   "outputs": [
    {
     "name": "stdout",
     "output_type": "stream",
     "text": [
      "Top 10 features for each cluster:\n",
      "0: pizza, good, crust, place, great, cheese, slice, order, best\n",
      "1: great, food, service, place, amazing, good, friendly, staff, definitely\n",
      "2: good, place, food, chicken, best, vegas, delicious, like, really\n",
      "3: food, order, time, just, service, minutes, like, came, didn\n"
     ]
    }
   ],
   "source": [
    "# 4 clusters\n",
    "top_ten_words(vec_trained, 4)"
   ]
  },
  {
   "cell_type": "markdown",
   "metadata": {},
   "source": [
    "#### Print out the rating and review of a random sample of the reviews assigned to each cluster to get a sense of the cluster."
   ]
  },
  {
   "cell_type": "code",
   "execution_count": 41,
   "metadata": {},
   "outputs": [
    {
     "name": "stdout",
     "output_type": "stream",
     "text": [
      "(398037,)\n",
      "[1 1 0 ... 5 3 0]\n",
      "[0 1 2 3 4 5 6 7]\n"
     ]
    }
   ],
   "source": [
    "print(doc_cluster.shape)\n",
    "print(doc_cluster) # 每一個列屬於哪一個 cluster\n",
    "print(np.unique(doc_cluster)) # 共有 8 個 cluster，從編號 0 到 7"
   ]
  },
  {
   "cell_type": "code",
   "execution_count": 42,
   "metadata": {},
   "outputs": [
    {
     "name": "stdout",
     "output_type": "stream",
     "text": [
      "(398037, 1000)\n",
      "[     0      1      2 ... 398034 398035 398036]\n",
      "[array([ True,  True, False, ..., False, False, False])]\n",
      "[     0      1      4 ... 398030 398032 398033]\n"
     ]
    }
   ],
   "source": [
    "print(vec_doc_arr.shape)\n",
    "cluster = np.arange(0, vec_doc_arr.shape[0])\n",
    "print(cluster)\n",
    "print([doc_cluster==1]) # 挑出 cluster 1 顯示為 True\n",
    "print(cluster[doc_cluster==1]) # 只包含了 cluster 1 的那個 row 的 index"
   ]
  },
  {
   "cell_type": "code",
   "execution_count": 43,
   "metadata": {},
   "outputs": [
    {
     "name": "stdout",
     "output_type": "stream",
     "text": [
      "Cluster 0:\n",
      "Stars=5: I have to give this place 5 stars! I dropped by a week before my visit to make sure I could use some really old gift certificates. The manager was very helpful, and said he would honor them, and gave me his card to make sure I could use them if he wasn't around. It's a shame that I didn't write down his name. \n",
      "\n",
      "I decided to eat there yesterday, with a friend, but it was more crowded than I expected for a Wednesday. I was told it was about a 25 minute wait, but it was really only about 15 minutes. The hosts and staff were very friendly, even though there was a crowd of customers waiting around. We were seated in a booth close to the kitchen, and if I have to think of any negative, it's that those booths were very dark, so it was hard to read the menu. That isn't enough to remove a star, though. Our server, Shawn was just awesome! He was the perfect combination of friendly and professional. I would recommend you sit at his table! I ordered the Chicken Madeira/Steak Diane combo, which was very good, and exceeded my expectations by a mile. My plate was so clean, you would have thought I licked it that way. I had the Lemon Meringue Cheesecake for dessert which was also very good. I would expect nothing less from a restaurant with cheesecake in their name. I only have a picture of my dessert, since I forgot to take one of my actual meal. \n",
      "\n",
      "I'm sure I will be back, even without gift certificates...haha.\n",
      "\n",
      "Stars=1: This is such a bad place. They waiters were rude and while I was making my order, he told me to stop. What the hell? They made us wait 30 min after they seated us. HORRIBLE CUSTOMER SERVICE. The food was mediocre, nothing special. It was also ridiculously over priced. Don't come here if you don't have a lot of time to wait because THEY MAKE YOU WAIT.\n",
      "\n",
      "====================\n",
      "Cluster 1:\n",
      "Stars=3: Great place to get a salad that you know will not be overpriced. The salad I ordered was very healthy and huge. It was piled up like a volcano and it was fun to eat my way through the various layers. The flavours seemed to work together.\n",
      "\n",
      "The price was fair and the margaritas were well priced and yummy. I was satisfied with the value for the money for the dish I ordered. \n",
      "\n",
      "The Cheesecake Factory is a great place to go if you know what dishes you like. It's not an exotic or creative menu but pretty consistent in quality, value and delivery based on my experience.\n",
      "\n",
      "Stars=5: I visited Hafez (formerly Aria) with a large group for dinner. We arrived late for our reservation but were still happily greeted and seated. We started with the fresh brewed iced tea (delicious) and ordered hummus and taftoon and tahdig which was delicious and enough for 6 to share. As an entree I had the thin filet with half rice and half shirazi salad. My friends ordered chicken kebabs and salmon. The steak was well seasoned with a nice char on the outside and the Shirazi salad was fresh delightful. I tried the salmon as well it was well cooked and seasoned. The portions here are large and can easily be served family style. The service was outstanding from start to finish and I will definitely be back. Thanks for a great experience.\n",
      "\n",
      "====================\n",
      "Cluster 2:\n",
      "Stars=1: We had such high hopes after reading the reviews but were extremely disappointed , stopped in and order 2 lunch specials . General Tao Chicken and Tofu w veggies . Miso came out and was very weak , each bowl had one tiny piece of miso the size of half a dime , The chicken was All breading with a tiny fleck of chicken , the tofu was not crisp. Our spring roll app was inedible. I know they were lunch specials at only $8.50 but it should be the same as a dinner entree quality, because if it was we would have come back for dinner\n",
      "\n",
      "Stars=3: Some things were good:\n",
      "Salads, i had many many helpings of the kale salad, some desserts, dad liked the ribs and lamb, fried chicken was pretty good.  They did veg well like sugar snap peas and roasted veggies. But the fish was not good, like frozen and inedible.  My mom didnt even like the king crab, saying the legs were kinda skinny. And some sauces were pretty bad (like the one on the chicken).\n",
      "\n",
      "Heres the thing.  I HEARD alot about Wynn Buffet and had high expectations.\n",
      "\n",
      "It just wasnt that, unfortunately.\n",
      "\n",
      "====================\n",
      "Cluster 3:\n",
      "Stars=4: We rolled into Las Vegas late one evening and our off-airport hotel directed us to a total dive bar for dinner and a drink. We thankfully kept driving and arrived here, where fresh-flavored Thai and excellent wine awaited. A great spot!\n",
      "\n",
      "Stars=5: This place is always crowded but has such a friendly environment. The staff is always so sweet and the tofu nuggets are simply the best!\n",
      "\n",
      "====================\n",
      "Cluster 4:\n",
      "Stars=3: The pizza is not bad for late night pizza, but it's no where near New York Pizza as they label themselves. On top of that, they don't offer fresh garlic or garlic powder, so definitely not New York pizza. Of you are drunk and in the area, definitely good for a pizza fix, but be prepared to drop a LOT of money here.\n",
      "\n",
      "Stars=5: Maaaannnn I love this place! Great pizza great costumer service! Thank you for the good pizza !\n",
      "\n",
      "====================\n",
      "Cluster 5:\n",
      "Stars=4: I love the chicken katsu and the pork belly loco moco!\n",
      "They have really good prices for the portion of food.\n",
      "\n",
      "The only thing i'm really \"eh\" about is the drinks. The few times I've gotten milk teas they've been pretty watered down. The honey boba is pretty good though!\n",
      "\n",
      "Stars=3: Food met what we were expecting (fast, easy, and good).  Good customer service.\n",
      "\n",
      "====================\n",
      "Cluster 6:\n",
      "Stars=5: Third time here.... love this place! Food is plentiful, tasty, and very authentic.  Great service. Nice family restaurant!\n",
      "\n",
      "Stars=5: What a great Valentine's Day dinner. We had the 4 course prix fixe menu with an additional entree. All 8 dishes were amazing, service was great and the wine/cocktail pairing was well matched. Thank you Nichole, Matt, John and to all the staff at Carson. Keep up the great work. KS is very proud!!\n",
      "\n",
      "====================\n",
      "Cluster 7:\n",
      "Stars=5: If you love sushi , you will love this place \n",
      "Excellent service , the quality of the sushi is fresh and superb \n",
      "There is all you can eat sushi for20 dollars .... DELICIOUS ! Portions are generous!!!\n",
      "Would have posted pics if I hadn t already eaten everything!!!!\n",
      "totally worth getting an Uber ride ,and getting  away from the Strip\n",
      "\n",
      "Stars=2: Yelp says they open at 5:00PM today and they don't open till 5:30PM. The service was fast and the food came out fast but it was way overpriced and the sushi, sushi rolls and wagu was mediocre.\n",
      "\n",
      "====================\n"
     ]
    }
   ],
   "source": [
    "for i in range(kmeans.n_clusters):\n",
    "    records = np.arange(0, vec_doc_arr.shape[0]) # 產生全部的列的數目\n",
    "    records = records[doc_cluster == i] # 加入 mask 挑出屬於第 i 個 cluster 的那一列\n",
    "    random_reviews = np.random.choice(records, 2, replace=False) # randomly pick 2 indeces\n",
    "#     print(random_reviews)\n",
    "    print('Cluster {}:'.format(i))\n",
    "    for review in random_reviews:\n",
    "        star = df.iloc[review].loc['stars']\n",
    "        text = df.iloc[review].loc['text']\n",
    "        print('Stars={}: {}\\n'.format(star, text))\n",
    "    print('='* 20)"
   ]
  },
  {
   "cell_type": "markdown",
   "metadata": {},
   "source": [
    "## 2. Cluster all the reviews of the most reviewed restaurant\n",
    "\n",
    "A review is a record in the dataframe. Each record is index by `business_id`. Find the highest number of count of `business_id` to get the most review restaurant"
   ]
  },
  {
   "cell_type": "code",
   "execution_count": 44,
   "metadata": {
    "scrolled": true
   },
   "outputs": [
    {
     "data": {
      "text/plain": [
       "RESDUcs7fIiihp38-d6_6g    2895\n",
       "4JNXUYY8wbaaDmk3BPzlWw    1994\n",
       "faPVqws-x-5k2CQKDNtHxw    1961\n",
       "f4x1YBxkLrZg652xt2KR5g    1960\n",
       "QXV3L_QFGj8r6nWX2kS2hA    1633\n",
       "K7lWdNUhCbcnEvI0NhGewg    1628\n",
       "77h11eWv6HKJAgojLx8G4w    1500\n",
       "RwMLuOkImBIqqYj4SSKSPg    1443\n",
       "IWN2heYitkg-D4UdqfxcMA    1409\n",
       "xfWdUmrz2ha3rcigyITV0g    1396\n",
       "hihud--QRriCYZw1zZvW4g    1344\n",
       "HhVmDybpU7L50Kb5A0jXTg    1267\n",
       "mU3vlAVzTxgmZUu6F4XixA    1239\n",
       "ysv6yhVYOoH9Pf7PlMyD0g    1224\n",
       "mDR12Hafvr84ctpsV6YLag    1204\n",
       "iCQpiavjjPzJ5_3gPD5Ebg    1164\n",
       "vHz2RLtfUMVRPFmd7VBEHA    1138\n",
       "OETh78qcgDltvHULowwhJg    1089\n",
       "3kdSl5mo9dWC4clrQjEDGg    1075\n",
       "YJ8ljUhLsz6CtT_2ORNFmg    1065\n",
       "0d0i0FaJq1GIeW1rS2D-5w    1064\n",
       "El4FC8jcawUVgw_0EIcbaQ    1053\n",
       "QJatAcxYgK1Zp9BRZMAx7g    1046\n",
       "cYwJA2A6I12KNkm2rtXd5g    1039\n",
       "XXW_OFaYQkkGOGniujZFHg    1037\n",
       "igHYkXZMLAc9UdV5VnR_AA    1015\n",
       "q3oJ6bNRV3OoJrwc95GOwg     990\n",
       "3BCsAgo_1i4xMuTyLKMLRQ     951\n",
       "KskYqH1Bi7Z_61pH6Om8pg     940\n",
       "CVKOPzBVOj3_apFUmZ9ZWw     937\n",
       "                          ... \n",
       "klddGAcNIpE_aB5sd1hNXw       1\n",
       "jBAxyzIJ22B4jSseTDKuEg       1\n",
       "8wFiWvlfOVt1zvAvsoLw2g       1\n",
       "PezBzE1cRaPcm4rq6n50KA       1\n",
       "ZW5ReCY3B9_TekUYWhr7HA       1\n",
       "RRo3Nf5ypfS68fhS_aTrug       1\n",
       "9hNuOUywLPHdSbAXtQ9DhQ       1\n",
       "mlNHAQR3UhowDDYdJF5w9w       1\n",
       "zesysZuscMHxBl9uIQXIIw       1\n",
       "1u7fJVL82JEznv76noobVQ       1\n",
       "Xz3ClYYqk5rCzUaWYybYOQ       1\n",
       "ZxfjACWhW25vklHpYDMWag       1\n",
       "_-3aZXuecjOSjramI1IBkA       1\n",
       "df5IJWW0-C4AJDCS9AwtbQ       1\n",
       "yd0g-FRSAdP9YKm7Z8-uUw       1\n",
       "swtA5YoSGm0V5esQuDm2NQ       1\n",
       "24wnyPyir6-Bmv6zq7OXHg       1\n",
       "9Jc3W0aR9Xf2gcHI0rEXsw       1\n",
       "vpoXE7CsEMZNzBMDvkuqHg       1\n",
       "Mnf10SaW1-8O3zVF_S16Dg       1\n",
       "5shgJB7a-2_gdnzc0gsOtg       1\n",
       "R1PQEK6qvrZVC9qcWfKvDA       1\n",
       "-AGdGGCeTS-njB_8GkUmjQ       1\n",
       "-UtYWvCnUppcSaC_u1pTYQ       1\n",
       "PZ-LZzSlhSe9utkQYU8pFg       1\n",
       "CmzJMXgsD7deXT7QSaLi1Q       1\n",
       "cQQbBa_Ls6Gr7Prv-qeZXw       1\n",
       "Kn23LDd740SBVJ7mum0fwg       1\n",
       "EhdkogSUSDLx5JufCAtm8A       1\n",
       "ubz4CaZXagQuGv2N9gFAdw       1\n",
       "Name: business_id, Length: 4621, dtype: int64"
      ]
     },
     "execution_count": 44,
     "metadata": {},
     "output_type": "execute_result"
    }
   ],
   "source": [
    "df['business_id'].value_counts() # 遞減排列"
   ]
  },
  {
   "cell_type": "code",
   "execution_count": 45,
   "metadata": {},
   "outputs": [
    {
     "data": {
      "text/plain": [
       "'RESDUcs7fIiihp38-d6_6g'"
      ]
     },
     "execution_count": 45,
     "metadata": {},
     "output_type": "execute_result"
    }
   ],
   "source": [
    "df['business_id'].value_counts().index[0]"
   ]
  },
  {
   "cell_type": "code",
   "execution_count": 46,
   "metadata": {},
   "outputs": [
    {
     "name": "stdout",
     "output_type": "stream",
     "text": [
      "RESDUcs7fIiihp38-d6_6g\n"
     ]
    }
   ],
   "source": [
    "most_reviewed_restaurand_id = df['business_id'].value_counts().index[0]\n",
    "print(most_reviewed_restaurand_id) # 確認一下\n",
    "\n",
    "most_reviewed = (df['business_id'] == most_reviewed_restaurand_id) # 挑出有最多評論的那間餐廳"
   ]
  },
  {
   "cell_type": "code",
   "execution_count": 47,
   "metadata": {},
   "outputs": [],
   "source": [
    "# Find the business who got most reviews, get your filtered df, name it df_top_restaurant\n",
    "df_top_restaurant = df[most_reviewed].copy() # duplicate dataframe so we don't change the original dataframe"
   ]
  },
  {
   "cell_type": "code",
   "execution_count": 48,
   "metadata": {},
   "outputs": [
    {
     "data": {
      "text/html": [
       "<div>\n",
       "<style scoped>\n",
       "    .dataframe tbody tr th:only-of-type {\n",
       "        vertical-align: middle;\n",
       "    }\n",
       "\n",
       "    .dataframe tbody tr th {\n",
       "        vertical-align: top;\n",
       "    }\n",
       "\n",
       "    .dataframe thead th {\n",
       "        text-align: right;\n",
       "    }\n",
       "</style>\n",
       "<table border=\"1\" class=\"dataframe\">\n",
       "  <thead>\n",
       "    <tr style=\"text-align: right;\">\n",
       "      <th></th>\n",
       "      <th>business_id</th>\n",
       "      <th>name</th>\n",
       "      <th>categories</th>\n",
       "      <th>avg_stars</th>\n",
       "      <th>cool</th>\n",
       "      <th>date</th>\n",
       "      <th>funny</th>\n",
       "      <th>review_id</th>\n",
       "      <th>stars</th>\n",
       "      <th>text</th>\n",
       "      <th>useful</th>\n",
       "      <th>user_id</th>\n",
       "    </tr>\n",
       "  </thead>\n",
       "  <tbody>\n",
       "    <tr>\n",
       "      <th>382207</th>\n",
       "      <td>RESDUcs7fIiihp38-d6_6g</td>\n",
       "      <td>Bacchanal Buffet</td>\n",
       "      <td>Sandwiches, Buffets, Breakfast &amp; Brunch, Food,...</td>\n",
       "      <td>4.0</td>\n",
       "      <td>0</td>\n",
       "      <td>2017-09-09</td>\n",
       "      <td>0</td>\n",
       "      <td>mQfl6ci46mu0xaZrkRUhlA</td>\n",
       "      <td>5</td>\n",
       "      <td>This buffet is amazing.  Yes, it is expensive,...</td>\n",
       "      <td>0</td>\n",
       "      <td>f638AHA_GoHbyDB7VFMz7A</td>\n",
       "    </tr>\n",
       "    <tr>\n",
       "      <th>382208</th>\n",
       "      <td>RESDUcs7fIiihp38-d6_6g</td>\n",
       "      <td>Bacchanal Buffet</td>\n",
       "      <td>Sandwiches, Buffets, Breakfast &amp; Brunch, Food,...</td>\n",
       "      <td>4.0</td>\n",
       "      <td>0</td>\n",
       "      <td>2017-02-08</td>\n",
       "      <td>0</td>\n",
       "      <td>lMarDJDg4-e_0YoJOKJoWA</td>\n",
       "      <td>2</td>\n",
       "      <td>This place....lol our server was nice.  But fo...</td>\n",
       "      <td>0</td>\n",
       "      <td>A21zMqdN76ueLZFpmbue0Q</td>\n",
       "    </tr>\n",
       "    <tr>\n",
       "      <th>382209</th>\n",
       "      <td>RESDUcs7fIiihp38-d6_6g</td>\n",
       "      <td>Bacchanal Buffet</td>\n",
       "      <td>Sandwiches, Buffets, Breakfast &amp; Brunch, Food,...</td>\n",
       "      <td>4.0</td>\n",
       "      <td>0</td>\n",
       "      <td>2017-12-22</td>\n",
       "      <td>0</td>\n",
       "      <td>30xmXTzJwHPcqt0uvSLQhQ</td>\n",
       "      <td>3</td>\n",
       "      <td>One star knocked off for the cold air conditio...</td>\n",
       "      <td>0</td>\n",
       "      <td>uNHEnP28MMmVy96ZSJKaMA</td>\n",
       "    </tr>\n",
       "    <tr>\n",
       "      <th>382210</th>\n",
       "      <td>RESDUcs7fIiihp38-d6_6g</td>\n",
       "      <td>Bacchanal Buffet</td>\n",
       "      <td>Sandwiches, Buffets, Breakfast &amp; Brunch, Food,...</td>\n",
       "      <td>4.0</td>\n",
       "      <td>0</td>\n",
       "      <td>2017-09-22</td>\n",
       "      <td>0</td>\n",
       "      <td>SOUuNn4f1fHKxFHntYzonw</td>\n",
       "      <td>3</td>\n",
       "      <td>Was torn between 2 and 3.  Caught the last of ...</td>\n",
       "      <td>0</td>\n",
       "      <td>WvVqnHU_eVBUfL-CI9efdw</td>\n",
       "    </tr>\n",
       "    <tr>\n",
       "      <th>382211</th>\n",
       "      <td>RESDUcs7fIiihp38-d6_6g</td>\n",
       "      <td>Bacchanal Buffet</td>\n",
       "      <td>Sandwiches, Buffets, Breakfast &amp; Brunch, Food,...</td>\n",
       "      <td>4.0</td>\n",
       "      <td>0</td>\n",
       "      <td>2016-12-14</td>\n",
       "      <td>0</td>\n",
       "      <td>1mAf8vTO6TGTrQ3WSfTB3g</td>\n",
       "      <td>4</td>\n",
       "      <td>This place was one of those once in a lifetime...</td>\n",
       "      <td>0</td>\n",
       "      <td>aYLS5lhdCp5HSPOtkMvapw</td>\n",
       "    </tr>\n",
       "  </tbody>\n",
       "</table>\n",
       "</div>"
      ],
      "text/plain": [
       "                   business_id              name  \\\n",
       "382207  RESDUcs7fIiihp38-d6_6g  Bacchanal Buffet   \n",
       "382208  RESDUcs7fIiihp38-d6_6g  Bacchanal Buffet   \n",
       "382209  RESDUcs7fIiihp38-d6_6g  Bacchanal Buffet   \n",
       "382210  RESDUcs7fIiihp38-d6_6g  Bacchanal Buffet   \n",
       "382211  RESDUcs7fIiihp38-d6_6g  Bacchanal Buffet   \n",
       "\n",
       "                                               categories  avg_stars  cool  \\\n",
       "382207  Sandwiches, Buffets, Breakfast & Brunch, Food,...        4.0     0   \n",
       "382208  Sandwiches, Buffets, Breakfast & Brunch, Food,...        4.0     0   \n",
       "382209  Sandwiches, Buffets, Breakfast & Brunch, Food,...        4.0     0   \n",
       "382210  Sandwiches, Buffets, Breakfast & Brunch, Food,...        4.0     0   \n",
       "382211  Sandwiches, Buffets, Breakfast & Brunch, Food,...        4.0     0   \n",
       "\n",
       "              date  funny               review_id  stars  \\\n",
       "382207  2017-09-09      0  mQfl6ci46mu0xaZrkRUhlA      5   \n",
       "382208  2017-02-08      0  lMarDJDg4-e_0YoJOKJoWA      2   \n",
       "382209  2017-12-22      0  30xmXTzJwHPcqt0uvSLQhQ      3   \n",
       "382210  2017-09-22      0  SOUuNn4f1fHKxFHntYzonw      3   \n",
       "382211  2016-12-14      0  1mAf8vTO6TGTrQ3WSfTB3g      4   \n",
       "\n",
       "                                                     text  useful  \\\n",
       "382207  This buffet is amazing.  Yes, it is expensive,...       0   \n",
       "382208  This place....lol our server was nice.  But fo...       0   \n",
       "382209  One star knocked off for the cold air conditio...       0   \n",
       "382210  Was torn between 2 and 3.  Caught the last of ...       0   \n",
       "382211  This place was one of those once in a lifetime...       0   \n",
       "\n",
       "                       user_id  \n",
       "382207  f638AHA_GoHbyDB7VFMz7A  \n",
       "382208  A21zMqdN76ueLZFpmbue0Q  \n",
       "382209  uNHEnP28MMmVy96ZSJKaMA  \n",
       "382210  WvVqnHU_eVBUfL-CI9efdw  \n",
       "382211  aYLS5lhdCp5HSPOtkMvapw  "
      ]
     },
     "execution_count": 48,
     "metadata": {},
     "output_type": "execute_result"
    }
   ],
   "source": [
    "df_top_restaurant.head()"
   ]
  },
  {
   "cell_type": "code",
   "execution_count": 49,
   "metadata": {},
   "outputs": [
    {
     "data": {
      "text/html": [
       "<div>\n",
       "<style scoped>\n",
       "    .dataframe tbody tr th:only-of-type {\n",
       "        vertical-align: middle;\n",
       "    }\n",
       "\n",
       "    .dataframe tbody tr th {\n",
       "        vertical-align: top;\n",
       "    }\n",
       "\n",
       "    .dataframe thead th {\n",
       "        text-align: right;\n",
       "    }\n",
       "</style>\n",
       "<table border=\"1\" class=\"dataframe\">\n",
       "  <thead>\n",
       "    <tr style=\"text-align: right;\">\n",
       "      <th></th>\n",
       "      <th>index</th>\n",
       "      <th>business_id</th>\n",
       "      <th>name</th>\n",
       "      <th>categories</th>\n",
       "      <th>avg_stars</th>\n",
       "      <th>cool</th>\n",
       "      <th>date</th>\n",
       "      <th>funny</th>\n",
       "      <th>review_id</th>\n",
       "      <th>stars</th>\n",
       "      <th>text</th>\n",
       "      <th>useful</th>\n",
       "      <th>user_id</th>\n",
       "    </tr>\n",
       "  </thead>\n",
       "  <tbody>\n",
       "    <tr>\n",
       "      <th>0</th>\n",
       "      <td>382207</td>\n",
       "      <td>RESDUcs7fIiihp38-d6_6g</td>\n",
       "      <td>Bacchanal Buffet</td>\n",
       "      <td>Sandwiches, Buffets, Breakfast &amp; Brunch, Food,...</td>\n",
       "      <td>4.0</td>\n",
       "      <td>0</td>\n",
       "      <td>2017-09-09</td>\n",
       "      <td>0</td>\n",
       "      <td>mQfl6ci46mu0xaZrkRUhlA</td>\n",
       "      <td>5</td>\n",
       "      <td>This buffet is amazing.  Yes, it is expensive,...</td>\n",
       "      <td>0</td>\n",
       "      <td>f638AHA_GoHbyDB7VFMz7A</td>\n",
       "    </tr>\n",
       "    <tr>\n",
       "      <th>1</th>\n",
       "      <td>382208</td>\n",
       "      <td>RESDUcs7fIiihp38-d6_6g</td>\n",
       "      <td>Bacchanal Buffet</td>\n",
       "      <td>Sandwiches, Buffets, Breakfast &amp; Brunch, Food,...</td>\n",
       "      <td>4.0</td>\n",
       "      <td>0</td>\n",
       "      <td>2017-02-08</td>\n",
       "      <td>0</td>\n",
       "      <td>lMarDJDg4-e_0YoJOKJoWA</td>\n",
       "      <td>2</td>\n",
       "      <td>This place....lol our server was nice.  But fo...</td>\n",
       "      <td>0</td>\n",
       "      <td>A21zMqdN76ueLZFpmbue0Q</td>\n",
       "    </tr>\n",
       "    <tr>\n",
       "      <th>2</th>\n",
       "      <td>382209</td>\n",
       "      <td>RESDUcs7fIiihp38-d6_6g</td>\n",
       "      <td>Bacchanal Buffet</td>\n",
       "      <td>Sandwiches, Buffets, Breakfast &amp; Brunch, Food,...</td>\n",
       "      <td>4.0</td>\n",
       "      <td>0</td>\n",
       "      <td>2017-12-22</td>\n",
       "      <td>0</td>\n",
       "      <td>30xmXTzJwHPcqt0uvSLQhQ</td>\n",
       "      <td>3</td>\n",
       "      <td>One star knocked off for the cold air conditio...</td>\n",
       "      <td>0</td>\n",
       "      <td>uNHEnP28MMmVy96ZSJKaMA</td>\n",
       "    </tr>\n",
       "    <tr>\n",
       "      <th>3</th>\n",
       "      <td>382210</td>\n",
       "      <td>RESDUcs7fIiihp38-d6_6g</td>\n",
       "      <td>Bacchanal Buffet</td>\n",
       "      <td>Sandwiches, Buffets, Breakfast &amp; Brunch, Food,...</td>\n",
       "      <td>4.0</td>\n",
       "      <td>0</td>\n",
       "      <td>2017-09-22</td>\n",
       "      <td>0</td>\n",
       "      <td>SOUuNn4f1fHKxFHntYzonw</td>\n",
       "      <td>3</td>\n",
       "      <td>Was torn between 2 and 3.  Caught the last of ...</td>\n",
       "      <td>0</td>\n",
       "      <td>WvVqnHU_eVBUfL-CI9efdw</td>\n",
       "    </tr>\n",
       "    <tr>\n",
       "      <th>4</th>\n",
       "      <td>382211</td>\n",
       "      <td>RESDUcs7fIiihp38-d6_6g</td>\n",
       "      <td>Bacchanal Buffet</td>\n",
       "      <td>Sandwiches, Buffets, Breakfast &amp; Brunch, Food,...</td>\n",
       "      <td>4.0</td>\n",
       "      <td>0</td>\n",
       "      <td>2016-12-14</td>\n",
       "      <td>0</td>\n",
       "      <td>1mAf8vTO6TGTrQ3WSfTB3g</td>\n",
       "      <td>4</td>\n",
       "      <td>This place was one of those once in a lifetime...</td>\n",
       "      <td>0</td>\n",
       "      <td>aYLS5lhdCp5HSPOtkMvapw</td>\n",
       "    </tr>\n",
       "  </tbody>\n",
       "</table>\n",
       "</div>"
      ],
      "text/plain": [
       "    index             business_id              name  \\\n",
       "0  382207  RESDUcs7fIiihp38-d6_6g  Bacchanal Buffet   \n",
       "1  382208  RESDUcs7fIiihp38-d6_6g  Bacchanal Buffet   \n",
       "2  382209  RESDUcs7fIiihp38-d6_6g  Bacchanal Buffet   \n",
       "3  382210  RESDUcs7fIiihp38-d6_6g  Bacchanal Buffet   \n",
       "4  382211  RESDUcs7fIiihp38-d6_6g  Bacchanal Buffet   \n",
       "\n",
       "                                          categories  avg_stars  cool  \\\n",
       "0  Sandwiches, Buffets, Breakfast & Brunch, Food,...        4.0     0   \n",
       "1  Sandwiches, Buffets, Breakfast & Brunch, Food,...        4.0     0   \n",
       "2  Sandwiches, Buffets, Breakfast & Brunch, Food,...        4.0     0   \n",
       "3  Sandwiches, Buffets, Breakfast & Brunch, Food,...        4.0     0   \n",
       "4  Sandwiches, Buffets, Breakfast & Brunch, Food,...        4.0     0   \n",
       "\n",
       "         date  funny               review_id  stars  \\\n",
       "0  2017-09-09      0  mQfl6ci46mu0xaZrkRUhlA      5   \n",
       "1  2017-02-08      0  lMarDJDg4-e_0YoJOKJoWA      2   \n",
       "2  2017-12-22      0  30xmXTzJwHPcqt0uvSLQhQ      3   \n",
       "3  2017-09-22      0  SOUuNn4f1fHKxFHntYzonw      3   \n",
       "4  2016-12-14      0  1mAf8vTO6TGTrQ3WSfTB3g      4   \n",
       "\n",
       "                                                text  useful  \\\n",
       "0  This buffet is amazing.  Yes, it is expensive,...       0   \n",
       "1  This place....lol our server was nice.  But fo...       0   \n",
       "2  One star knocked off for the cold air conditio...       0   \n",
       "3  Was torn between 2 and 3.  Caught the last of ...       0   \n",
       "4  This place was one of those once in a lifetime...       0   \n",
       "\n",
       "                  user_id  \n",
       "0  f638AHA_GoHbyDB7VFMz7A  \n",
       "1  A21zMqdN76ueLZFpmbue0Q  \n",
       "2  uNHEnP28MMmVy96ZSJKaMA  \n",
       "3  WvVqnHU_eVBUfL-CI9efdw  \n",
       "4  aYLS5lhdCp5HSPOtkMvapw  "
      ]
     },
     "execution_count": 49,
     "metadata": {},
     "output_type": "execute_result"
    }
   ],
   "source": [
    "df_top_restaurant = df_top_restaurant.reset_index() # keep original index\n",
    "df_top_restaurant.head()"
   ]
  },
  {
   "cell_type": "code",
   "execution_count": 50,
   "metadata": {},
   "outputs": [],
   "source": [
    "# Load business dataset (optional)\n",
    "import json\n",
    "\n",
    "# Loading a single file works, wrap in function\n",
    "def read_json_file(input_file):\n",
    "    with open(input_file) as fin:\n",
    "        df = pd.DataFrame(json.loads(line) for line in fin)\n",
    "    return df"
   ]
  },
  {
   "cell_type": "code",
   "execution_count": 51,
   "metadata": {},
   "outputs": [],
   "source": [
    "df_business = read_json_file('yelp_academic_dataset_business.json')\n",
    "# df_review = read_json_file('yelp_academic_dataset_business.json')"
   ]
  },
  {
   "cell_type": "code",
   "execution_count": 52,
   "metadata": {},
   "outputs": [
    {
     "data": {
      "text/html": [
       "<div>\n",
       "<style scoped>\n",
       "    .dataframe tbody tr th:only-of-type {\n",
       "        vertical-align: middle;\n",
       "    }\n",
       "\n",
       "    .dataframe tbody tr th {\n",
       "        vertical-align: top;\n",
       "    }\n",
       "\n",
       "    .dataframe thead th {\n",
       "        text-align: right;\n",
       "    }\n",
       "</style>\n",
       "<table border=\"1\" class=\"dataframe\">\n",
       "  <thead>\n",
       "    <tr style=\"text-align: right;\">\n",
       "      <th></th>\n",
       "      <th>address</th>\n",
       "      <th>attributes</th>\n",
       "      <th>business_id</th>\n",
       "      <th>categories</th>\n",
       "      <th>city</th>\n",
       "      <th>hours</th>\n",
       "      <th>is_open</th>\n",
       "      <th>latitude</th>\n",
       "      <th>longitude</th>\n",
       "      <th>name</th>\n",
       "      <th>neighborhood</th>\n",
       "      <th>postal_code</th>\n",
       "      <th>review_count</th>\n",
       "      <th>stars</th>\n",
       "      <th>state</th>\n",
       "    </tr>\n",
       "  </thead>\n",
       "  <tbody>\n",
       "    <tr>\n",
       "      <th>185167</th>\n",
       "      <td>3570 S Las Vegas Blvd</td>\n",
       "      <td>{'Alcohol': 'full_bar', 'Ambience': '{'romanti...</td>\n",
       "      <td>RESDUcs7fIiihp38-d6_6g</td>\n",
       "      <td>Sandwiches, Buffets, Breakfast &amp; Brunch, Food,...</td>\n",
       "      <td>Las Vegas</td>\n",
       "      <td>{'Monday': '7:30-22:0', 'Tuesday': '7:30-22:0'...</td>\n",
       "      <td>1</td>\n",
       "      <td>36.116113</td>\n",
       "      <td>-115.176222</td>\n",
       "      <td>Bacchanal Buffet</td>\n",
       "      <td>The Strip</td>\n",
       "      <td>89109</td>\n",
       "      <td>7866</td>\n",
       "      <td>4.0</td>\n",
       "      <td>NV</td>\n",
       "    </tr>\n",
       "  </tbody>\n",
       "</table>\n",
       "</div>"
      ],
      "text/plain": [
       "                      address  \\\n",
       "185167  3570 S Las Vegas Blvd   \n",
       "\n",
       "                                               attributes  \\\n",
       "185167  {'Alcohol': 'full_bar', 'Ambience': '{'romanti...   \n",
       "\n",
       "                   business_id  \\\n",
       "185167  RESDUcs7fIiihp38-d6_6g   \n",
       "\n",
       "                                               categories       city  \\\n",
       "185167  Sandwiches, Buffets, Breakfast & Brunch, Food,...  Las Vegas   \n",
       "\n",
       "                                                    hours  is_open   latitude  \\\n",
       "185167  {'Monday': '7:30-22:0', 'Tuesday': '7:30-22:0'...        1  36.116113   \n",
       "\n",
       "         longitude              name neighborhood postal_code  review_count  \\\n",
       "185167 -115.176222  Bacchanal Buffet    The Strip       89109          7866   \n",
       "\n",
       "        stars state  \n",
       "185167    4.0    NV  "
      ]
     },
     "execution_count": 52,
     "metadata": {},
     "output_type": "execute_result"
    }
   ],
   "source": [
    "# Take a look at the most reviewed restaurant's profile (optional)\n",
    "df_business[df_business['business_id'] ==  most_reviewed_restaurand_id]"
   ]
  },
  {
   "cell_type": "code",
   "execution_count": 53,
   "metadata": {},
   "outputs": [],
   "source": [
    "address = df_business[df_business['business_id'] ==  most_reviewed_restaurand_id]['address']\n",
    "attributes = df_business[df_business['business_id'] ==  most_reviewed_restaurand_id]['attributes']\n",
    "category = df_business[df_business['business_id'] ==  most_reviewed_restaurand_id]['categories']\n",
    "hours = df_business[df_business['business_id'] ==  most_reviewed_restaurand_id]['hours']"
   ]
  },
  {
   "cell_type": "code",
   "execution_count": 54,
   "metadata": {},
   "outputs": [
    {
     "name": "stdout",
     "output_type": "stream",
     "text": [
      "['3570 S Las Vegas Blvd']\n",
      "[{'Alcohol': 'full_bar', 'Ambience': \"{'romantic': False, 'intimate': False, 'classy': False, 'hipster': False, 'divey': False, 'touristy': False, 'trendy': False, 'upscale': False, 'casual': True}\", 'BikeParking': 'False', 'BusinessAcceptsCreditCards': 'True', 'BusinessParking': \"{'garage': True, 'street': False, 'validated': False, 'lot': False, 'valet': True}\", 'Caters': 'False', 'GoodForKids': 'True', 'GoodForMeal': \"{'dessert': True, 'latenight': False, 'lunch': True, 'dinner': True, 'breakfast': False, 'brunch': True}\", 'HasTV': 'False', 'NoiseLevel': 'average', 'OutdoorSeating': 'False', 'RestaurantsAttire': 'casual', 'RestaurantsDelivery': 'False', 'RestaurantsGoodForGroups': 'True', 'RestaurantsPriceRange2': '3', 'RestaurantsReservations': 'False', 'RestaurantsTableService': 'True', 'RestaurantsTakeOut': 'False', 'WheelchairAccessible': 'True', 'WiFi': 'no'}]\n",
      "['Sandwiches, Buffets, Breakfast & Brunch, Food, Restaurants']\n",
      "[{'Monday': '7:30-22:0', 'Tuesday': '7:30-22:0', 'Wednesday': '7:30-22:0', 'Thursday': '7:30-22:0', 'Friday': '7:30-22:0', 'Saturday': '8:0-22:0', 'Sunday': '8:0-22:0'}]\n"
     ]
    }
   ],
   "source": [
    "print(address.values)\n",
    "print(attributes.values)\n",
    "print(category.values)\n",
    "print(hours.values)"
   ]
  },
  {
   "cell_type": "markdown",
   "metadata": {},
   "source": [
    "### Vectorize the text feature\n",
    "\n",
    "把 top restaurant 的 reviews 做成 documents"
   ]
  },
  {
   "cell_type": "code",
   "execution_count": 55,
   "metadata": {},
   "outputs": [],
   "source": [
    "# Take the values of the column that contains review text data, save to a variable named \"documents_top_restaurant\"\n",
    "documents_top_restaurant = df_top_restaurant['text']"
   ]
  },
  {
   "cell_type": "code",
   "execution_count": 56,
   "metadata": {},
   "outputs": [
    {
     "data": {
      "text/plain": [
       "(2895,)"
      ]
     },
     "execution_count": 56,
     "metadata": {},
     "output_type": "execute_result"
    }
   ],
   "source": [
    "documents_top_restaurant.shape"
   ]
  },
  {
   "cell_type": "code",
   "execution_count": 57,
   "metadata": {},
   "outputs": [
    {
     "data": {
      "text/plain": [
       "array([\"This buffet is amazing.  Yes, it is expensive, but it is worth the splurge.  I recommend that you look at everything first and then decide what to get, because you can't possibly try everything.  I missed an entire corner of great food that I didn't see at first, and then I was too full to eat more. I like how everything is on little plates, bowls, or baskets, so everything doesn't get mixed together.  Lines are long, but you can check in and then they text when your time is almost up.  The wait time was less than they had said it would be, so don't go far away to wait.\",\n",
       "       'This place....lol our server was nice.  But for 50 something dollars for dinner was not worth it....Sorry but if I could choose another place to spend that much I know I would have been much happier. Not to mention they took a photo of us when we came in then brought us like 3-4 printouts of them, I mean nice ones...then they told us it was 15 dollars for one of the pictures...we honestly thought out of all the money we spent we\\'d at least get the pics for \"free.\"  So they went through all the trouble to print them and then are going to throw them away because we didn\\'t want to pay for them? Why not just give us the photos...Food was cold, poor quality of meats, etc..Also not near as big as this looks! Just bummed we spent so much. \\nSorry can\\'t recommend this at all.',\n",
       "       'One star knocked off for the cold air conditioning and 1 star knocked off for the loud music and the food was good so it will be only 3 stars.'],\n",
       "      dtype=object)"
      ]
     },
     "execution_count": 57,
     "metadata": {},
     "output_type": "execute_result"
    }
   ],
   "source": [
    "documents_top_restaurant[:3].values # show first 3 reviews"
   ]
  },
  {
   "cell_type": "markdown",
   "metadata": {},
   "source": [
    "### Define your target variable (for later classification use)\n",
    "\n",
    "#### Again, we look at perfect (5 stars) and imperfect (1-4 stars) rating"
   ]
  },
  {
   "cell_type": "code",
   "execution_count": 58,
   "metadata": {},
   "outputs": [
    {
     "data": {
      "text/plain": [
       "0     True\n",
       "1    False\n",
       "2    False\n",
       "3    False\n",
       "4    False\n",
       "5    False\n",
       "6    False\n",
       "7     True\n",
       "8    False\n",
       "9    False\n",
       "Name: perfect, dtype: bool"
      ]
     },
     "execution_count": 58,
     "metadata": {},
     "output_type": "execute_result"
    }
   ],
   "source": [
    "df_top_restaurant['perfect'] = (df_top_restaurant['stars'] > 4)\n",
    "df_top_restaurant['perfect'].head(10) # show first 10 rows"
   ]
  },
  {
   "cell_type": "code",
   "execution_count": 59,
   "metadata": {},
   "outputs": [
    {
     "data": {
      "text/plain": [
       "(2895, 14)"
      ]
     },
     "execution_count": 59,
     "metadata": {},
     "output_type": "execute_result"
    }
   ],
   "source": [
    "df_top_restaurant.shape"
   ]
  },
  {
   "cell_type": "code",
   "execution_count": 60,
   "metadata": {},
   "outputs": [
    {
     "data": {
      "text/plain": [
       "array([1, 0, 0, ..., 0, 0, 1])"
      ]
     },
     "execution_count": 60,
     "metadata": {},
     "output_type": "execute_result"
    }
   ],
   "source": [
    "target_top_restaurant = df_top_restaurant['perfect'].values.astype(int)\n",
    "target_top_restaurant"
   ]
  },
  {
   "cell_type": "code",
   "execution_count": 61,
   "metadata": {},
   "outputs": [
    {
     "data": {
      "text/plain": [
       "(2895,)"
      ]
     },
     "execution_count": 61,
     "metadata": {},
     "output_type": "execute_result"
    }
   ],
   "source": [
    "target_top_restaurant.shape"
   ]
  },
  {
   "cell_type": "markdown",
   "metadata": {},
   "source": [
    "#### Check the statistic of the target variable"
   ]
  },
  {
   "cell_type": "code",
   "execution_count": 62,
   "metadata": {},
   "outputs": [
    {
     "data": {
      "text/plain": [
       "0.3727115716753022"
      ]
     },
     "execution_count": 62,
     "metadata": {},
     "output_type": "execute_result"
    }
   ],
   "source": [
    "target_top_restaurant.mean()"
   ]
  },
  {
   "cell_type": "markdown",
   "metadata": {},
   "source": [
    "### Create training dataset and test dataset"
   ]
  },
  {
   "cell_type": "code",
   "execution_count": 63,
   "metadata": {},
   "outputs": [],
   "source": [
    "X = documents_top_restaurant.values\n",
    "y = target_top_restaurant # 已經是 ndarray 了\n",
    "X_train, X_test, y_train, y_test = train_test_split(X, y, test_size=0.3, random_state=42)"
   ]
  },
  {
   "cell_type": "code",
   "execution_count": 64,
   "metadata": {},
   "outputs": [
    {
     "name": "stdout",
     "output_type": "stream",
     "text": [
      "(2895,)\n",
      "2026.4999999999998\n",
      "868.5\n",
      "(2026,) (869,) (2026,) (869,)\n"
     ]
    }
   ],
   "source": [
    "print(documents_top_restaurant.shape)\n",
    "print(documents_top_restaurant.shape[0] * 0.7)\n",
    "print(documents_top_restaurant.shape[0] * 0.3)\n",
    "print(X_train.shape, X_test.shape, y_train.shape, y_test.shape)"
   ]
  },
  {
   "cell_type": "markdown",
   "metadata": {},
   "source": [
    "### Get NLP representation of the documents"
   ]
  },
  {
   "cell_type": "code",
   "execution_count": 65,
   "metadata": {},
   "outputs": [],
   "source": [
    "# Create TfidfVectorizer, and name it vectorizer\n",
    "vectorizer = TfidfVectorizer(stop_words='english', max_features=1000)"
   ]
  },
  {
   "cell_type": "code",
   "execution_count": 66,
   "metadata": {},
   "outputs": [],
   "source": [
    "# Train the model with your training data\n",
    "vec_train = vectorizer.fit_transform(X_train)"
   ]
  },
  {
   "cell_type": "code",
   "execution_count": 67,
   "metadata": {},
   "outputs": [],
   "source": [
    "# Get the vocab of your tfidf\n",
    "words = vectorizer.get_feature_names()"
   ]
  },
  {
   "cell_type": "code",
   "execution_count": 68,
   "metadata": {},
   "outputs": [],
   "source": [
    "# Use the trained model to transform the test data\n",
    "vec_test = vectorizer.transform(X_test)"
   ]
  },
  {
   "cell_type": "code",
   "execution_count": 69,
   "metadata": {},
   "outputs": [],
   "source": [
    "# Use the trained model to transform all the data\n",
    "vec_documents = vectorizer.transform(X)"
   ]
  },
  {
   "cell_type": "code",
   "execution_count": 70,
   "metadata": {},
   "outputs": [
    {
     "name": "stdout",
     "output_type": "stream",
     "text": [
      "(2026, 1000) (869, 1000) (2895, 1000)\n",
      "1000\n"
     ]
    }
   ],
   "source": [
    "print(vec_train.shape, vec_test.shape, vec_documents.shape)\n",
    "print(len(words))"
   ]
  },
  {
   "cell_type": "markdown",
   "metadata": {},
   "source": [
    "### Cluster reviews with KMeans\n",
    "\n",
    "#### Fit k-means clustering on the training vectors and make predictions on all data"
   ]
  },
  {
   "cell_type": "code",
   "execution_count": 71,
   "metadata": {},
   "outputs": [
    {
     "data": {
      "text/plain": [
       "KMeans(algorithm='auto', copy_x=True, init='k-means++', max_iter=300,\n",
       "    n_clusters=5, n_init=10, n_jobs=None, precompute_distances='auto',\n",
       "    random_state=None, tol=0.0001, verbose=0)"
      ]
     },
     "execution_count": 71,
     "metadata": {},
     "output_type": "execute_result"
    }
   ],
   "source": [
    "kmeans = KMeans(n_clusters=5) # use 5 clusters because there 5 categories of stars\n",
    "kmeans.fit(vec_train)"
   ]
  },
  {
   "cell_type": "markdown",
   "metadata": {},
   "source": [
    "#### Make predictions on all your data"
   ]
  },
  {
   "cell_type": "code",
   "execution_count": 72,
   "metadata": {},
   "outputs": [],
   "source": [
    "all_doc_clusters = kmeans.predict(vec_documents)"
   ]
  },
  {
   "cell_type": "code",
   "execution_count": 73,
   "metadata": {},
   "outputs": [
    {
     "name": "stdout",
     "output_type": "stream",
     "text": [
      "(2895,)\n"
     ]
    },
    {
     "data": {
      "text/plain": [
       "array([2, 1, 1, ..., 3, 1, 0], dtype=int32)"
      ]
     },
     "execution_count": 73,
     "metadata": {},
     "output_type": "execute_result"
    }
   ],
   "source": [
    "print(all_doc_clusters.shape)\n",
    "all_doc_clusters # 每一個 documents 屬於哪一個 cluster"
   ]
  },
  {
   "cell_type": "code",
   "execution_count": 74,
   "metadata": {},
   "outputs": [
    {
     "data": {
      "text/plain": [
       "array([2, 1, 1, 1, 3, 2, 4, 3, 2, 2], dtype=int32)"
      ]
     },
     "execution_count": 74,
     "metadata": {},
     "output_type": "execute_result"
    }
   ],
   "source": [
    "all_doc_clusters[:10] # show the cluster of the first 10 rows"
   ]
  },
  {
   "cell_type": "code",
   "execution_count": 75,
   "metadata": {},
   "outputs": [
    {
     "data": {
      "text/plain": [
       "0    5\n",
       "1    2\n",
       "2    3\n",
       "3    3\n",
       "4    4\n",
       "5    1\n",
       "6    1\n",
       "7    5\n",
       "8    1\n",
       "9    4\n",
       "Name: stars, dtype: int64"
      ]
     },
     "execution_count": 75,
     "metadata": {},
     "output_type": "execute_result"
    }
   ],
   "source": [
    "df_top_restaurant.iloc[:10]['stars'] # 把星級評等和 clusters 的結果比較一下"
   ]
  },
  {
   "cell_type": "markdown",
   "metadata": {},
   "source": [
    "發現其實 clustering 的結果不是很好，因為相同的 start 應該是要屬於同一個 cluster 才對\n",
    "\n",
    "|row |starts|cluster|\n",
    "|---:|---:  |---:   |\n",
    "|0   |5     |2      |\n",
    "|1   |2     |1      |\n",
    "|2   |3     |1      |\n",
    "|3   |3     |1      |\n",
    "|4   |4     |3      |\n",
    "|5   |1     |2      |\n",
    "|6   |1     |4      |\n",
    "|7   |5     |3      |\n",
    "|8   |1     |2      |\n",
    "|9   |4     |2      |"
   ]
  },
  {
   "cell_type": "markdown",
   "metadata": {},
   "source": [
    "#### Inspect the centroids"
   ]
  },
  {
   "cell_type": "code",
   "execution_count": 76,
   "metadata": {},
   "outputs": [
    {
     "name": "stdout",
     "output_type": "stream",
     "text": [
      "(5, 1000)\n"
     ]
    },
    {
     "data": {
      "text/plain": [
       "array([[0.        , 0.00346778, 0.00405817, ..., 0.0054002 , 0.00203145,\n",
       "        0.00327582],\n",
       "       [0.00442716, 0.00849826, 0.00309217, ..., 0.00519002, 0.00096428,\n",
       "        0.00189797],\n",
       "       [0.00529625, 0.0171163 , 0.00416476, ..., 0.00819518, 0.00101576,\n",
       "        0.00672484],\n",
       "       [0.00353122, 0.00919814, 0.00149182, ..., 0.0100134 , 0.00254529,\n",
       "        0.00340692],\n",
       "       [0.00098784, 0.00641011, 0.00104427, ..., 0.00779352, 0.00120013,\n",
       "        0.00212212]])"
      ]
     },
     "execution_count": 76,
     "metadata": {},
     "output_type": "execute_result"
    }
   ],
   "source": [
    "print(kmeans.cluster_centers_.shape)\n",
    "kmeans.cluster_centers_"
   ]
  },
  {
   "cell_type": "markdown",
   "metadata": {},
   "source": [
    "#### Find the top 10 features for each cluster."
   ]
  },
  {
   "cell_type": "code",
   "execution_count": 77,
   "metadata": {},
   "outputs": [
    {
     "data": {
      "text/plain": [
       "array([[ 83, 109, 939, 325, 110, 938, 989, 628,  66],\n",
       "       [325, 109, 361, 437, 628, 655, 685, 667, 467],\n",
       "       [471, 949, 888, 325, 482, 109, 362, 406, 989],\n",
       "       [195, 463, 109, 361, 325, 821, 747, 227, 755],\n",
       "       [367, 767, 325, 109, 758, 361, 221,  42, 281]])"
      ]
     },
     "execution_count": 77,
     "metadata": {},
     "output_type": "execute_result"
    }
   ],
   "source": [
    "sorted_index_centroids = np.argsort(kmeans.cluster_centers_)\n",
    "top_ten_features = sorted_index_centroids[:,-1:-10:-1]\n",
    "top_ten_features"
   ]
  },
  {
   "cell_type": "markdown",
   "metadata": {},
   "source": [
    "找出對應的單字"
   ]
  },
  {
   "cell_type": "code",
   "execution_count": 78,
   "metadata": {},
   "outputs": [
    {
     "name": "stdout",
     "output_type": "stream",
     "text": [
      "0: order, food, minutes, time, service, just, came, asked, said, didn\n",
      "1: place, food, delicious, like, just, ordered, amazing, love, time, try\n",
      "2: chicken, fried, good, food, rice, ordered, place, great, sauce, delicious\n",
      "3: best, vegas, las, food, place, ve, amazing, service, time, great\n",
      "4: pizza, crust, good, place, great, cheese, slice, order, ordered, just\n",
      "5: good, food, really, place, service, nice, pretty, like, great, just\n",
      "6: great, food, service, place, amazing, friendly, awesome, staff, atmosphere, definitely\n",
      "7: sushi, place, rolls, roll, ayce, great, good, fresh, service, fish\n"
     ]
    }
   ],
   "source": [
    "for i, row in enumerate(top_ten):\n",
    "    print('%d: %s' % (i, ', '.join([vocab[j] for j in row])))"
   ]
  },
  {
   "cell_type": "markdown",
   "metadata": {},
   "source": [
    "#### Print out the rating and review of a random sample of the reviews assigned to each cluster to get a sense of the cluster."
   ]
  },
  {
   "cell_type": "code",
   "execution_count": 79,
   "metadata": {},
   "outputs": [
    {
     "name": "stdout",
     "output_type": "stream",
     "text": [
      "Cluster 0:\n",
      "Stars=5: This is the best buffet in Vegas hands down! The food was delicious, steamed crab legs scrumptious,  desserts were delightful!! You can tell the quality of food here is top notch and the presentation was excellent!! This is definitely a must try while in Vegas, definitely worth the money!!\n",
      "\n",
      "Stars=5: Best buffet in Las Vegas!\n",
      "  It's a must when your in Vegas\n",
      "Great food, amazing desserts and super awesome service.  I've tried many other buffets, hands down this is the best.  Oh ya don't forget the coffee with your desserts\n",
      "\n",
      "====================\n",
      "Cluster 1:\n",
      "Stars=3: Kind of new no mans land for this review. the buffet cost $55. yes. FIFTY FIVE. I was not pleased. The food was good though, the waiting in line part was not cool. I mean hell, it's a buffet, wtf. \n",
      "\n",
      "Def not worth $55. Maybe $30sh. So it's 3 stars for ehhhhh.\n",
      "\n",
      "Stars=4: This review is long overdue but I can never forget my food experience here. SO MANY CHOICES. I literally tried everything. There were so many desserts, I could have just had that for lunch but NO, didn't pay a hefty price to fill up on sugar. They had fresh bottled juices, very refreshing. Fresh grilled meat and seafood. I didn't really like their lobster bisque; it didn't taste very fresh. Towards the back they had pizza, bread, cheese, sushi, chinese selection. I suggest coming in the afternoon, queue up in line and pay lunch price. Why? Because you are able to try both lunch and dinner for the price of lunch. Get in at 2, they roll out dinner at 3. See what I'm sayin? ;)\n",
      "\n",
      "====================\n",
      "Cluster 2:\n",
      "Stars=3: The amount of time waiting for to get in and the selections of food will really disappoint you. I think at best a three stars. Nothing much exciting to choose from.once pass the 3 hours wait and got in. Disappointment.... went to better buffets in Las Vegas.  Another one time deal for me.\n",
      "\n",
      "Stars=3: I didn't really care for this buffet in Vegas after the experience. First we got our tickets and then we're called back because it was our time. Then there was another line to stand in and then when we were eating the waiter never came to refill our drinks. The food was ok different styles in sections! Presentation not so neat.\n",
      "\n",
      "====================\n",
      "Cluster 3:\n",
      "Stars=5: Tried the Bacchanal buffet at the Caesars Palace hotel in Las Vegas and must give it a 5star rating. We went to the brunch session   The place was huge open an airy. The service was excellent. Our server came by numerous times to check on how we were doing. Very friendly and took care of all our request very quickly. Fantastic to see that kind of service at a place do busy. \n",
      "There were different areas for each type of food category. The Asian area had dim sum, congee (a type of rice porridge) with a variety of ingredients to flavor the congee. There was Aldo a number of Asian dishes too. Made to order noodle soup bowls with toppings to flavor. \n",
      "A Mexican flavor food area with some unique breakfast brunch type items. An interesting item that was very good was the lobster eggs Benedict. Excellent variation of the usual sauce with a lobster flavored one. Must try. \n",
      "\n",
      "Omelette made to order with smear carving table and done if your standard breakfast items. There was an area for healthy food choices too. Cucumber watermelon fresh squeezed juice. \n",
      "\n",
      "Seafood counter was really good. Shrimp cocktail. NO SHELLS TO PEEL!  That made my day.  Stone crab legs and cold marinated mussels. Hot seafood items included cooked green lip mussels in a wine sauce. Seafood hot pasta  and shrimp orzo. Little neck clams with a white sauce. \n",
      "\n",
      "The dessert bar was amazing. All the usual items and fresh made crepes with your choice of toppings. The crepes actually had some flavor by itself without adding ingredient toppings.   \n",
      "The creme boulle was excellent.  Flan was okay just on the tiny side as far as the portion displayed. \n",
      "Would love to try everything but no room. \n",
      "Definitely would recommend. I might even try the dinner too. Pricing can be a little high but look for special promos. We found on that included one mimosa per person.\n",
      "\n",
      "Stars=5: I came here for lunch after hearing so many great things about the selection and taste.\n",
      "imho every single type of cuisine is done very well here at Bacchanal. Carving station is highly recommended, great quality cuts and is never poorly executed. Usually includes lamb, which is different from most buffets in vegas. \n",
      "\n",
      "Seafood is also fresh, and safe to eat. I had a couple of plates of just the raw oysters and crab legs (steamed and cold). \n",
      "\n",
      "the kicker? the desserts are so effing great! a wide variety from homemade gelato to macaroons to crepes made fresh in front of you. this buffet is a must if you're trying to seek out the best of Vegas.\n",
      "\n",
      "====================\n",
      "Cluster 4:\n",
      "Stars=2: When it first opened, this place was beyond amazing with quality, food, service, and gourmet items. Throughout the years has gone down considerably, but has remained extremely overpriced for a buffet. As a positive the service and ambience was excellent.\n",
      "\n",
      "Stars=5: The majority of the food was great. Seafood wasn't questionable and great selection of everything. Great assistance while at the table eating. Defiantly a new favorite.\n",
      "\n",
      "====================\n"
     ]
    }
   ],
   "source": [
    "for i in range(kmeans.n_clusters):\n",
    "    records = np.arange(0, vec_documents.shape[0]) # 產生全部的列的數目\n",
    "    records = records[all_doc_clusters == i] # 加入 mask 挑出屬於第 i 個 cluster 的那一列\n",
    "    random_reviews = np.random.choice(records, 2, replace=False) # randomly pick 2 indeces\n",
    "#     print(random_reviews)\n",
    "    print('Cluster {}:'.format(i))\n",
    "    for review in random_reviews:\n",
    "        star = df_top_restaurant.iloc[review].loc['stars']\n",
    "        text = df_top_restaurant.iloc[review].loc['text']\n",
    "        print('Stars={}: {}\\n'.format(star, text))\n",
    "    print('='* 20)"
   ]
  },
  {
   "cell_type": "markdown",
   "metadata": {},
   "source": [
    "## 3. Use PCA to reduce dimensionality\n",
    "\n",
    "### Stardardize features"
   ]
  },
  {
   "cell_type": "code",
   "execution_count": 80,
   "metadata": {},
   "outputs": [],
   "source": [
    "from sklearn.preprocessing import StandardScaler\n",
    "\n",
    "scaler = StandardScaler()\n",
    "\n",
    "X_train_scaled = scaler.fit_transform(vec_train.toarray())\n",
    "X_test_scaled = scaler.transform(vec_test.toarray())"
   ]
  },
  {
   "cell_type": "markdown",
   "metadata": {},
   "source": [
    "### Use PCA to transform data (train and test) and get principal components"
   ]
  },
  {
   "cell_type": "code",
   "execution_count": 81,
   "metadata": {},
   "outputs": [],
   "source": [
    "from sklearn.decomposition import PCA\n",
    "\n",
    "n_col = 50\n",
    "pca = PCA(n_components=n_col)\n",
    "\n",
    "train_components = pca.fit_transform(X_train_scaled)\n",
    "test_components = pca.transform(X_test_scaled)"
   ]
  },
  {
   "cell_type": "code",
   "execution_count": 82,
   "metadata": {},
   "outputs": [
    {
     "name": "stdout",
     "output_type": "stream",
     "text": [
      "(2026, 50) (869, 50)\n"
     ]
    }
   ],
   "source": [
    "print(train_components.shape, test_components.shape)"
   ]
  },
  {
   "cell_type": "code",
   "execution_count": 83,
   "metadata": {},
   "outputs": [
    {
     "data": {
      "image/png": "[encoded data removed]",
      "text/plain": [
       "<Figure size 720x360 with 2 Axes>"
      ]
     },
     "metadata": {
      "needs_background": "light"
     },
     "output_type": "display_data"
    }
   ],
   "source": [
    "plt.subplots(1, 2, figsize=(10,5))\n",
    "plt.subplot(1,2,1)\n",
    "plt.imshow(np.cov(train_components.T))\n",
    "plt.title('train_components')\n",
    "plt.subplot(1,2,2)\n",
    "plt.imshow(np.cov(test_components.T))\n",
    "plt.title('test_components')\n",
    "plt.show()"
   ]
  },
  {
   "cell_type": "code",
   "execution_count": 84,
   "metadata": {},
   "outputs": [
    {
     "data": {
      "text/plain": [
       "(50, 1000)"
      ]
     },
     "execution_count": 84,
     "metadata": {},
     "output_type": "execute_result"
    }
   ],
   "source": [
    "pca.components_.shape # V^T 的維度"
   ]
  },
  {
   "cell_type": "markdown",
   "metadata": {},
   "source": [
    "### See how much (and how much percentage of) variance the principal components explain"
   ]
  },
  {
   "cell_type": "code",
   "execution_count": 85,
   "metadata": {},
   "outputs": [
    {
     "name": "stdout",
     "output_type": "stream",
     "text": [
      "(50,)\n",
      "[8.24925716 5.82871221 4.5241335  4.00264665 3.78444681 3.64296926\n",
      " 3.57517101 3.3802236  3.34429111 3.29453717 3.19470413 3.13553815\n",
      " 3.06887572 3.05359813 3.01053251 2.93280421 2.91604463 2.89726859\n",
      " 2.87030689 2.86125544 2.80007278 2.77784784 2.74346563 2.72341814\n",
      " 2.69817789 2.67174538 2.65828622 2.65637403 2.63606328 2.61351155\n",
      " 2.59712544 2.59345478 2.57351146 2.544578   2.5408444  2.50878693\n",
      " 2.50168154 2.4832909  2.47184379 2.45866003 2.44401104 2.42818392\n",
      " 2.40065891 2.38176852 2.37562723 2.35765968 2.32975345 2.31907796\n",
      " 2.31294245 2.3001842 ]\n"
     ]
    }
   ],
   "source": [
    "print(pca.explained_variance_.shape)\n",
    "print(pca.explained_variance_)"
   ]
  },
  {
   "cell_type": "code",
   "execution_count": 86,
   "metadata": {},
   "outputs": [
    {
     "name": "stdout",
     "output_type": "stream",
     "text": [
      "(50,)\n",
      "[0.00824519 0.00582584 0.0045219  0.00400067 0.00378258 0.00364117\n",
      " 0.00357341 0.00337856 0.00334264 0.00329291 0.00319313 0.00313399\n",
      " 0.00306736 0.00305209 0.00300905 0.00293136 0.00291461 0.00289584\n",
      " 0.00286889 0.00285984 0.00279869 0.00277648 0.00274211 0.00272207\n",
      " 0.00269685 0.00267043 0.00265697 0.00265506 0.00263476 0.00261222\n",
      " 0.00259584 0.00259217 0.00257224 0.00254332 0.00253959 0.00250755\n",
      " 0.00250045 0.00248207 0.00247062 0.00245745 0.0024428  0.00242699\n",
      " 0.00239947 0.00238059 0.00237445 0.0023565  0.0023286  0.00231793\n",
      " 0.0023118  0.00229905]\n"
     ]
    }
   ],
   "source": [
    "print(pca.explained_variance_ratio_.shape)\n",
    "print(pca.explained_variance_ratio_)"
   ]
  },
  {
   "cell_type": "markdown",
   "metadata": {},
   "source": [
    "### Viz: plot proportion of variance explained with top principal components\n",
    "\n",
    "For clear display, you may start with plotting <=50 principal components"
   ]
  },
  {
   "cell_type": "code",
   "execution_count": 87,
   "metadata": {},
   "outputs": [],
   "source": [
    "def pca_explained_variance(n_col, variance, variance_ratio):\n",
    "    pca_range = np.arange(n_col) + 1\n",
    "    pca_names = ['PCA_%s' % i for i in pca_range]\n",
    "    plt.figure(figsize=(20, 10))\n",
    "    plt.subplot(1, 2, 1)\n",
    "    plt.bar(pca_range, variance, align='center')\n",
    "    xticks = plt.xticks(pca_range, pca_names, rotation=90)\n",
    "    plt.ylabel('Variance Explanied')\n",
    "    plt.subplot(1, 2, 2)\n",
    "    plt.barh(pca_range, variance_ratio, align='center')\n",
    "    yticks = plt.yticks(pca_range, pca_names)\n",
    "    plt.xlabel('Proportion of Variance Explained')\n",
    "    plt.show()"
   ]
  },
  {
   "cell_type": "code",
   "execution_count": 88,
   "metadata": {},
   "outputs": [
    {
     "data": {
      "image/png": "[encoded data removed]",
      "text/plain": [
       "<Figure size 1440x720 with 2 Axes>"
      ]
     },
     "metadata": {
      "needs_background": "light"
     },
     "output_type": "display_data"
    }
   ],
   "source": [
    "pca_explained_variance(50, pca.explained_variance_, pca.explained_variance_ratio_)"
   ]
  },
  {
   "cell_type": "markdown",
   "metadata": {},
   "source": [
    "## Classifying positive/negative review with PCA preprocessing"
   ]
  },
  {
   "cell_type": "code",
   "execution_count": 89,
   "metadata": {},
   "outputs": [
    {
     "name": "stdout",
     "output_type": "stream",
     "text": [
      "(2026,) (2026, 1000) (2026,)\n",
      "(2026, 50)\n"
     ]
    }
   ],
   "source": [
    "print(X_train.shape, X_train_scaled.shape, y_train.shape)\n",
    "print(train_components.shape)"
   ]
  },
  {
   "cell_type": "markdown",
   "metadata": {},
   "source": [
    "### Logistic Regression Classifier\n",
    "#### Use standardized tf-idf vectors as features"
   ]
  },
  {
   "cell_type": "code",
   "execution_count": 90,
   "metadata": {},
   "outputs": [
    {
     "name": "stderr",
     "output_type": "stream",
     "text": [
      "/usr/local/anaconda3/lib/python3.6/site-packages/sklearn/linear_model/logistic.py:432: FutureWarning: Default solver will be changed to 'lbfgs' in 0.22. Specify a solver to silence this warning.\n",
      "  FutureWarning)\n"
     ]
    },
    {
     "data": {
      "text/plain": [
       "LogisticRegression(C=1.0, class_weight=None, dual=False, fit_intercept=True,\n",
       "          intercept_scaling=1, max_iter=100, multi_class='warn',\n",
       "          n_jobs=None, penalty='l2', random_state=None, solver='warn',\n",
       "          tol=0.0001, verbose=0, warm_start=False)"
      ]
     },
     "execution_count": 90,
     "metadata": {},
     "output_type": "execute_result"
    }
   ],
   "source": [
    "from sklearn.linear_model import LogisticRegression\n",
    "\n",
    "lr = LogisticRegression()\n",
    "lr.fit(X_train_scaled, y_train)"
   ]
  },
  {
   "cell_type": "markdown",
   "metadata": {},
   "source": [
    "#### scores"
   ]
  },
  {
   "cell_type": "code",
   "execution_count": 91,
   "metadata": {},
   "outputs": [
    {
     "name": "stdout",
     "output_type": "stream",
     "text": [
      "0.9995064165844028\n",
      "0.6950517836593786\n"
     ]
    }
   ],
   "source": [
    "print(lr.score(X_train_scaled, y_train)) # 明顯的有 overfitting\n",
    "print(lr.score(X_test_scaled, y_test))"
   ]
  },
  {
   "cell_type": "markdown",
   "metadata": {},
   "source": [
    "#### Use (Stardardized + PCA) tf-idf vectors as features"
   ]
  },
  {
   "cell_type": "code",
   "execution_count": 92,
   "metadata": {},
   "outputs": [
    {
     "name": "stdout",
     "output_type": "stream",
     "text": [
      "0.7936821322803553\n",
      "0.7767548906789413\n"
     ]
    },
    {
     "name": "stderr",
     "output_type": "stream",
     "text": [
      "/usr/local/anaconda3/lib/python3.6/site-packages/sklearn/linear_model/logistic.py:432: FutureWarning: Default solver will be changed to 'lbfgs' in 0.22. Specify a solver to silence this warning.\n",
      "  FutureWarning)\n"
     ]
    }
   ],
   "source": [
    "lr2 = LogisticRegression()\n",
    "lr2.fit(train_components, y_train)\n",
    "print(lr2.score(train_components, y_train)) # overfitting 就沒那麼嚴重\n",
    "print(lr2.score(test_components, y_test))"
   ]
  },
  {
   "cell_type": "markdown",
   "metadata": {},
   "source": [
    "#### Q: What do you see from the training score and the test score? How do you compare the results from PCA and non-PCA preprocessing?"
   ]
  },
  {
   "cell_type": "markdown",
   "metadata": {},
   "source": [
    "A: 沒有用 PCA 的時候 overfitting 很嚴重，有了 PCA 後 overfitting 比較不嚴重。因為沒有用 PCA 時，有 1000 個 features，數量太多，就很容易造成 overfitting，用了 PCA 後維度是 2026 x 50 只有 50 個 features 比較不會 overfitting"
   ]
  },
  {
   "cell_type": "markdown",
   "metadata": {},
   "source": [
    "#### You can plot the coefficients against principal components"
   ]
  },
  {
   "cell_type": "code",
   "execution_count": 93,
   "metadata": {},
   "outputs": [
    {
     "name": "stdout",
     "output_type": "stream",
     "text": [
      "(1, 50)\n"
     ]
    },
    {
     "data": {
      "text/plain": [
       "array([[-0.12727021, -0.47171303, -0.65927666, -0.01990675,  0.06457841,\n",
       "        -0.10541167,  0.06861692,  0.19214004,  0.28920368,  0.30650399,\n",
       "        -0.02039639,  0.14057175, -0.15990257, -0.01460075, -0.02820083,\n",
       "        -0.03439452, -0.05346616, -0.00519461, -0.08516917,  0.03919543,\n",
       "         0.0333638 ,  0.1075725 ,  0.06412894,  0.06387142,  0.00115313,\n",
       "        -0.067049  , -0.02132472,  0.10295995, -0.05155201, -0.02797728,\n",
       "        -0.0546801 , -0.05457536, -0.15292591,  0.04172614, -0.046793  ,\n",
       "         0.00473192, -0.03775974, -0.01050922,  0.00588249, -0.05298801,\n",
       "         0.02140391,  0.05451945,  0.04061025, -0.01024826,  0.0615473 ,\n",
       "        -0.06841635, -0.02937411,  0.01795974, -0.05346477,  0.06162839]])"
      ]
     },
     "execution_count": 93,
     "metadata": {},
     "output_type": "execute_result"
    }
   ],
   "source": [
    "print(lr2.coef_.shape) # 是一個 1x50 的 array\n",
    "lr2.coef_"
   ]
  },
  {
   "cell_type": "code",
   "execution_count": 94,
   "metadata": {},
   "outputs": [
    {
     "name": "stdout",
     "output_type": "stream",
     "text": [
      "(50,)\n"
     ]
    },
    {
     "data": {
      "text/plain": [
       "array([-0.12727021, -0.47171303, -0.65927666, -0.01990675,  0.06457841,\n",
       "       -0.10541167,  0.06861692,  0.19214004,  0.28920368,  0.30650399,\n",
       "       -0.02039639,  0.14057175, -0.15990257, -0.01460075, -0.02820083,\n",
       "       -0.03439452, -0.05346616, -0.00519461, -0.08516917,  0.03919543,\n",
       "        0.0333638 ,  0.1075725 ,  0.06412894,  0.06387142,  0.00115313,\n",
       "       -0.067049  , -0.02132472,  0.10295995, -0.05155201, -0.02797728,\n",
       "       -0.0546801 , -0.05457536, -0.15292591,  0.04172614, -0.046793  ,\n",
       "        0.00473192, -0.03775974, -0.01050922,  0.00588249, -0.05298801,\n",
       "        0.02140391,  0.05451945,  0.04061025, -0.01024826,  0.0615473 ,\n",
       "       -0.06841635, -0.02937411,  0.01795974, -0.05346477,  0.06162839])"
      ]
     },
     "execution_count": 94,
     "metadata": {},
     "output_type": "execute_result"
    }
   ],
   "source": [
    "print(lr2.coef_.flatten().shape) # 是一個 50 個數的 vector\n",
    "lr2.coef_.flatten()"
   ]
  },
  {
   "cell_type": "code",
   "execution_count": 95,
   "metadata": {},
   "outputs": [
    {
     "name": "stdout",
     "output_type": "stream",
     "text": [
      "[('PCA_1', -0.1272702084546948), ('PCA_2', -0.4717130345284707), ('PCA_3', -0.6592766578936093), ('PCA_4', -0.01990675105684504), ('PCA_5', 0.06457840507565472), ('PCA_6', -0.10541166938337816), ('PCA_7', 0.0686169237761722), ('PCA_8', 0.1921400395906356), ('PCA_9', 0.28920368200587004), ('PCA_10', 0.3065039891818324), ('PCA_11', -0.020396387377575487), ('PCA_12', 0.14057175325660315), ('PCA_13', -0.1599025681049713), ('PCA_14', -0.01460074667363082), ('PCA_15', -0.0282008254275372), ('PCA_16', -0.03439451846658972), ('PCA_17', -0.053466159703644385), ('PCA_18', -0.005194605933736644), ('PCA_19', -0.08516916924583563), ('PCA_20', 0.03919542949670049), ('PCA_21', 0.03336380148554486), ('PCA_22', 0.10757250049837755), ('PCA_23', 0.0641289386818185), ('PCA_24', 0.0638714218086222), ('PCA_25', 0.0011531268117913026), ('PCA_26', -0.06704899914144044), ('PCA_27', -0.021324721792514278), ('PCA_28', 0.10295994997683447), ('PCA_29', -0.05155200975879293), ('PCA_30', -0.027977277303590804), ('PCA_31', -0.05468010394746808), ('PCA_32', -0.054575355207338014), ('PCA_33', -0.1529259055558413), ('PCA_34', 0.041726144022830904), ('PCA_35', -0.04679299577947437), ('PCA_36', 0.0047319189353239675), ('PCA_37', -0.03775974365820506), ('PCA_38', -0.010509219187876116), ('PCA_39', 0.005882485510367701), ('PCA_40', -0.052988008826969475), ('PCA_41', 0.021403908506414663), ('PCA_42', 0.05451944924874601), ('PCA_43', 0.04061024636578512), ('PCA_44', -0.010248260025411786), ('PCA_45', 0.061547299301553), ('PCA_46', -0.06841635067870223), ('PCA_47', -0.029374110229918773), ('PCA_48', 0.017959744461866135), ('PCA_49', -0.0534647663198828), ('PCA_50', 0.061628386550442796)]\n"
     ]
    }
   ],
   "source": [
    "pca_range = np.arange(n_col) + 1\n",
    "pca_names = ['PCA_%s' % i for i in pca_range]\n",
    "pca_coef_pairs = zip(pca_names, lr2.coef_.flatten())\n",
    "print(list(pca_coef_pairs))"
   ]
  },
  {
   "cell_type": "code",
   "execution_count": 96,
   "metadata": {},
   "outputs": [],
   "source": [
    "# df_pca_coefs = pd.DataFrame(list(pca_coef_pairs), columns=['PCA', 'coefs'])"
   ]
  },
  {
   "cell_type": "code",
   "execution_count": 97,
   "metadata": {},
   "outputs": [
    {
     "name": "stdout",
     "output_type": "stream",
     "text": [
      "50\n",
      "(50,)\n",
      "{'PCA': ['PCA_1', 'PCA_2', 'PCA_3', 'PCA_4', 'PCA_5', 'PCA_6', 'PCA_7', 'PCA_8', 'PCA_9', 'PCA_10', 'PCA_11', 'PCA_12', 'PCA_13', 'PCA_14', 'PCA_15', 'PCA_16', 'PCA_17', 'PCA_18', 'PCA_19', 'PCA_20', 'PCA_21', 'PCA_22', 'PCA_23', 'PCA_24', 'PCA_25', 'PCA_26', 'PCA_27', 'PCA_28', 'PCA_29', 'PCA_30', 'PCA_31', 'PCA_32', 'PCA_33', 'PCA_34', 'PCA_35', 'PCA_36', 'PCA_37', 'PCA_38', 'PCA_39', 'PCA_40', 'PCA_41', 'PCA_42', 'PCA_43', 'PCA_44', 'PCA_45', 'PCA_46', 'PCA_47', 'PCA_48', 'PCA_49', 'PCA_50'], 'coefs': [-0.1272702084546948, -0.4717130345284707, -0.6592766578936093, -0.01990675105684504, 0.06457840507565472, -0.10541166938337816, 0.0686169237761722, 0.1921400395906356, 0.28920368200587004, 0.3065039891818324, -0.020396387377575487, 0.14057175325660315, -0.1599025681049713, -0.01460074667363082, -0.0282008254275372, -0.03439451846658972, -0.053466159703644385, -0.005194605933736644, -0.08516916924583563, 0.03919542949670049, 0.03336380148554486, 0.10757250049837755, 0.0641289386818185, 0.0638714218086222, 0.0011531268117913026, -0.06704899914144044, -0.021324721792514278, 0.10295994997683447, -0.05155200975879293, -0.027977277303590804, -0.05468010394746808, -0.054575355207338014, -0.1529259055558413, 0.041726144022830904, -0.04679299577947437, 0.0047319189353239675, -0.03775974365820506, -0.010509219187876116, 0.005882485510367701, -0.052988008826969475, 0.021403908506414663, 0.05451944924874601, 0.04061024636578512, -0.010248260025411786, 0.061547299301553, -0.06841635067870223, -0.029374110229918773, 0.017959744461866135, -0.0534647663198828, 0.061628386550442796]}\n"
     ]
    }
   ],
   "source": [
    "print(len(pca_names))\n",
    "print(lr2.coef_.flatten().shape)\n",
    "data_lr2 = {'PCA':pca_names, 'coefs':lr2.coef_.flatten().tolist()}\n",
    "print(data_lr2)"
   ]
  },
  {
   "cell_type": "code",
   "execution_count": 98,
   "metadata": {},
   "outputs": [],
   "source": [
    "df_pca_coefs = pd.DataFrame(data_lr2)"
   ]
  },
  {
   "cell_type": "code",
   "execution_count": 99,
   "metadata": {},
   "outputs": [
    {
     "data": {
      "text/html": [
       "<div>\n",
       "<style scoped>\n",
       "    .dataframe tbody tr th:only-of-type {\n",
       "        vertical-align: middle;\n",
       "    }\n",
       "\n",
       "    .dataframe tbody tr th {\n",
       "        vertical-align: top;\n",
       "    }\n",
       "\n",
       "    .dataframe thead th {\n",
       "        text-align: right;\n",
       "    }\n",
       "</style>\n",
       "<table border=\"1\" class=\"dataframe\">\n",
       "  <thead>\n",
       "    <tr style=\"text-align: right;\">\n",
       "      <th></th>\n",
       "      <th>PCA</th>\n",
       "      <th>coefs</th>\n",
       "    </tr>\n",
       "  </thead>\n",
       "  <tbody>\n",
       "    <tr>\n",
       "      <th>0</th>\n",
       "      <td>PCA_1</td>\n",
       "      <td>-0.127270</td>\n",
       "    </tr>\n",
       "    <tr>\n",
       "      <th>1</th>\n",
       "      <td>PCA_2</td>\n",
       "      <td>-0.471713</td>\n",
       "    </tr>\n",
       "    <tr>\n",
       "      <th>2</th>\n",
       "      <td>PCA_3</td>\n",
       "      <td>-0.659277</td>\n",
       "    </tr>\n",
       "    <tr>\n",
       "      <th>3</th>\n",
       "      <td>PCA_4</td>\n",
       "      <td>-0.019907</td>\n",
       "    </tr>\n",
       "    <tr>\n",
       "      <th>4</th>\n",
       "      <td>PCA_5</td>\n",
       "      <td>0.064578</td>\n",
       "    </tr>\n",
       "  </tbody>\n",
       "</table>\n",
       "</div>"
      ],
      "text/plain": [
       "     PCA     coefs\n",
       "0  PCA_1 -0.127270\n",
       "1  PCA_2 -0.471713\n",
       "2  PCA_3 -0.659277\n",
       "3  PCA_4 -0.019907\n",
       "4  PCA_5  0.064578"
      ]
     },
     "execution_count": 99,
     "metadata": {},
     "output_type": "execute_result"
    }
   ],
   "source": [
    "df_pca_coefs.head()"
   ]
  },
  {
   "cell_type": "markdown",
   "metadata": {},
   "source": [
    "排序一下，由大排到小"
   ]
  },
  {
   "cell_type": "code",
   "execution_count": 100,
   "metadata": {},
   "outputs": [],
   "source": [
    "df_pca_coefs_sorted = df_pca_coefs.sort_values(by=['coefs'],ascending=False)"
   ]
  },
  {
   "cell_type": "code",
   "execution_count": 101,
   "metadata": {},
   "outputs": [
    {
     "data": {
      "text/html": [
       "<div>\n",
       "<style scoped>\n",
       "    .dataframe tbody tr th:only-of-type {\n",
       "        vertical-align: middle;\n",
       "    }\n",
       "\n",
       "    .dataframe tbody tr th {\n",
       "        vertical-align: top;\n",
       "    }\n",
       "\n",
       "    .dataframe thead th {\n",
       "        text-align: right;\n",
       "    }\n",
       "</style>\n",
       "<table border=\"1\" class=\"dataframe\">\n",
       "  <thead>\n",
       "    <tr style=\"text-align: right;\">\n",
       "      <th></th>\n",
       "      <th>PCA</th>\n",
       "      <th>coefs</th>\n",
       "    </tr>\n",
       "  </thead>\n",
       "  <tbody>\n",
       "    <tr>\n",
       "      <th>9</th>\n",
       "      <td>PCA_10</td>\n",
       "      <td>0.306504</td>\n",
       "    </tr>\n",
       "    <tr>\n",
       "      <th>8</th>\n",
       "      <td>PCA_9</td>\n",
       "      <td>0.289204</td>\n",
       "    </tr>\n",
       "    <tr>\n",
       "      <th>7</th>\n",
       "      <td>PCA_8</td>\n",
       "      <td>0.192140</td>\n",
       "    </tr>\n",
       "    <tr>\n",
       "      <th>11</th>\n",
       "      <td>PCA_12</td>\n",
       "      <td>0.140572</td>\n",
       "    </tr>\n",
       "    <tr>\n",
       "      <th>21</th>\n",
       "      <td>PCA_22</td>\n",
       "      <td>0.107573</td>\n",
       "    </tr>\n",
       "    <tr>\n",
       "      <th>27</th>\n",
       "      <td>PCA_28</td>\n",
       "      <td>0.102960</td>\n",
       "    </tr>\n",
       "    <tr>\n",
       "      <th>6</th>\n",
       "      <td>PCA_7</td>\n",
       "      <td>0.068617</td>\n",
       "    </tr>\n",
       "    <tr>\n",
       "      <th>4</th>\n",
       "      <td>PCA_5</td>\n",
       "      <td>0.064578</td>\n",
       "    </tr>\n",
       "    <tr>\n",
       "      <th>22</th>\n",
       "      <td>PCA_23</td>\n",
       "      <td>0.064129</td>\n",
       "    </tr>\n",
       "    <tr>\n",
       "      <th>23</th>\n",
       "      <td>PCA_24</td>\n",
       "      <td>0.063871</td>\n",
       "    </tr>\n",
       "    <tr>\n",
       "      <th>49</th>\n",
       "      <td>PCA_50</td>\n",
       "      <td>0.061628</td>\n",
       "    </tr>\n",
       "    <tr>\n",
       "      <th>44</th>\n",
       "      <td>PCA_45</td>\n",
       "      <td>0.061547</td>\n",
       "    </tr>\n",
       "    <tr>\n",
       "      <th>41</th>\n",
       "      <td>PCA_42</td>\n",
       "      <td>0.054519</td>\n",
       "    </tr>\n",
       "    <tr>\n",
       "      <th>33</th>\n",
       "      <td>PCA_34</td>\n",
       "      <td>0.041726</td>\n",
       "    </tr>\n",
       "    <tr>\n",
       "      <th>42</th>\n",
       "      <td>PCA_43</td>\n",
       "      <td>0.040610</td>\n",
       "    </tr>\n",
       "    <tr>\n",
       "      <th>19</th>\n",
       "      <td>PCA_20</td>\n",
       "      <td>0.039195</td>\n",
       "    </tr>\n",
       "    <tr>\n",
       "      <th>20</th>\n",
       "      <td>PCA_21</td>\n",
       "      <td>0.033364</td>\n",
       "    </tr>\n",
       "    <tr>\n",
       "      <th>40</th>\n",
       "      <td>PCA_41</td>\n",
       "      <td>0.021404</td>\n",
       "    </tr>\n",
       "    <tr>\n",
       "      <th>47</th>\n",
       "      <td>PCA_48</td>\n",
       "      <td>0.017960</td>\n",
       "    </tr>\n",
       "    <tr>\n",
       "      <th>38</th>\n",
       "      <td>PCA_39</td>\n",
       "      <td>0.005882</td>\n",
       "    </tr>\n",
       "    <tr>\n",
       "      <th>35</th>\n",
       "      <td>PCA_36</td>\n",
       "      <td>0.004732</td>\n",
       "    </tr>\n",
       "    <tr>\n",
       "      <th>24</th>\n",
       "      <td>PCA_25</td>\n",
       "      <td>0.001153</td>\n",
       "    </tr>\n",
       "    <tr>\n",
       "      <th>17</th>\n",
       "      <td>PCA_18</td>\n",
       "      <td>-0.005195</td>\n",
       "    </tr>\n",
       "    <tr>\n",
       "      <th>43</th>\n",
       "      <td>PCA_44</td>\n",
       "      <td>-0.010248</td>\n",
       "    </tr>\n",
       "    <tr>\n",
       "      <th>37</th>\n",
       "      <td>PCA_38</td>\n",
       "      <td>-0.010509</td>\n",
       "    </tr>\n",
       "    <tr>\n",
       "      <th>13</th>\n",
       "      <td>PCA_14</td>\n",
       "      <td>-0.014601</td>\n",
       "    </tr>\n",
       "    <tr>\n",
       "      <th>3</th>\n",
       "      <td>PCA_4</td>\n",
       "      <td>-0.019907</td>\n",
       "    </tr>\n",
       "    <tr>\n",
       "      <th>10</th>\n",
       "      <td>PCA_11</td>\n",
       "      <td>-0.020396</td>\n",
       "    </tr>\n",
       "    <tr>\n",
       "      <th>26</th>\n",
       "      <td>PCA_27</td>\n",
       "      <td>-0.021325</td>\n",
       "    </tr>\n",
       "    <tr>\n",
       "      <th>29</th>\n",
       "      <td>PCA_30</td>\n",
       "      <td>-0.027977</td>\n",
       "    </tr>\n",
       "    <tr>\n",
       "      <th>14</th>\n",
       "      <td>PCA_15</td>\n",
       "      <td>-0.028201</td>\n",
       "    </tr>\n",
       "    <tr>\n",
       "      <th>46</th>\n",
       "      <td>PCA_47</td>\n",
       "      <td>-0.029374</td>\n",
       "    </tr>\n",
       "    <tr>\n",
       "      <th>15</th>\n",
       "      <td>PCA_16</td>\n",
       "      <td>-0.034395</td>\n",
       "    </tr>\n",
       "    <tr>\n",
       "      <th>36</th>\n",
       "      <td>PCA_37</td>\n",
       "      <td>-0.037760</td>\n",
       "    </tr>\n",
       "    <tr>\n",
       "      <th>34</th>\n",
       "      <td>PCA_35</td>\n",
       "      <td>-0.046793</td>\n",
       "    </tr>\n",
       "    <tr>\n",
       "      <th>28</th>\n",
       "      <td>PCA_29</td>\n",
       "      <td>-0.051552</td>\n",
       "    </tr>\n",
       "    <tr>\n",
       "      <th>39</th>\n",
       "      <td>PCA_40</td>\n",
       "      <td>-0.052988</td>\n",
       "    </tr>\n",
       "    <tr>\n",
       "      <th>48</th>\n",
       "      <td>PCA_49</td>\n",
       "      <td>-0.053465</td>\n",
       "    </tr>\n",
       "    <tr>\n",
       "      <th>16</th>\n",
       "      <td>PCA_17</td>\n",
       "      <td>-0.053466</td>\n",
       "    </tr>\n",
       "    <tr>\n",
       "      <th>31</th>\n",
       "      <td>PCA_32</td>\n",
       "      <td>-0.054575</td>\n",
       "    </tr>\n",
       "    <tr>\n",
       "      <th>30</th>\n",
       "      <td>PCA_31</td>\n",
       "      <td>-0.054680</td>\n",
       "    </tr>\n",
       "    <tr>\n",
       "      <th>25</th>\n",
       "      <td>PCA_26</td>\n",
       "      <td>-0.067049</td>\n",
       "    </tr>\n",
       "    <tr>\n",
       "      <th>45</th>\n",
       "      <td>PCA_46</td>\n",
       "      <td>-0.068416</td>\n",
       "    </tr>\n",
       "    <tr>\n",
       "      <th>18</th>\n",
       "      <td>PCA_19</td>\n",
       "      <td>-0.085169</td>\n",
       "    </tr>\n",
       "    <tr>\n",
       "      <th>5</th>\n",
       "      <td>PCA_6</td>\n",
       "      <td>-0.105412</td>\n",
       "    </tr>\n",
       "    <tr>\n",
       "      <th>0</th>\n",
       "      <td>PCA_1</td>\n",
       "      <td>-0.127270</td>\n",
       "    </tr>\n",
       "    <tr>\n",
       "      <th>32</th>\n",
       "      <td>PCA_33</td>\n",
       "      <td>-0.152926</td>\n",
       "    </tr>\n",
       "    <tr>\n",
       "      <th>12</th>\n",
       "      <td>PCA_13</td>\n",
       "      <td>-0.159903</td>\n",
       "    </tr>\n",
       "    <tr>\n",
       "      <th>1</th>\n",
       "      <td>PCA_2</td>\n",
       "      <td>-0.471713</td>\n",
       "    </tr>\n",
       "    <tr>\n",
       "      <th>2</th>\n",
       "      <td>PCA_3</td>\n",
       "      <td>-0.659277</td>\n",
       "    </tr>\n",
       "  </tbody>\n",
       "</table>\n",
       "</div>"
      ],
      "text/plain": [
       "       PCA     coefs\n",
       "9   PCA_10  0.306504\n",
       "8    PCA_9  0.289204\n",
       "7    PCA_8  0.192140\n",
       "11  PCA_12  0.140572\n",
       "21  PCA_22  0.107573\n",
       "27  PCA_28  0.102960\n",
       "6    PCA_7  0.068617\n",
       "4    PCA_5  0.064578\n",
       "22  PCA_23  0.064129\n",
       "23  PCA_24  0.063871\n",
       "49  PCA_50  0.061628\n",
       "44  PCA_45  0.061547\n",
       "41  PCA_42  0.054519\n",
       "33  PCA_34  0.041726\n",
       "42  PCA_43  0.040610\n",
       "19  PCA_20  0.039195\n",
       "20  PCA_21  0.033364\n",
       "40  PCA_41  0.021404\n",
       "47  PCA_48  0.017960\n",
       "38  PCA_39  0.005882\n",
       "35  PCA_36  0.004732\n",
       "24  PCA_25  0.001153\n",
       "17  PCA_18 -0.005195\n",
       "43  PCA_44 -0.010248\n",
       "37  PCA_38 -0.010509\n",
       "13  PCA_14 -0.014601\n",
       "3    PCA_4 -0.019907\n",
       "10  PCA_11 -0.020396\n",
       "26  PCA_27 -0.021325\n",
       "29  PCA_30 -0.027977\n",
       "14  PCA_15 -0.028201\n",
       "46  PCA_47 -0.029374\n",
       "15  PCA_16 -0.034395\n",
       "36  PCA_37 -0.037760\n",
       "34  PCA_35 -0.046793\n",
       "28  PCA_29 -0.051552\n",
       "39  PCA_40 -0.052988\n",
       "48  PCA_49 -0.053465\n",
       "16  PCA_17 -0.053466\n",
       "31  PCA_32 -0.054575\n",
       "30  PCA_31 -0.054680\n",
       "25  PCA_26 -0.067049\n",
       "45  PCA_46 -0.068416\n",
       "18  PCA_19 -0.085169\n",
       "5    PCA_6 -0.105412\n",
       "0    PCA_1 -0.127270\n",
       "32  PCA_33 -0.152926\n",
       "12  PCA_13 -0.159903\n",
       "1    PCA_2 -0.471713\n",
       "2    PCA_3 -0.659277"
      ]
     },
     "execution_count": 101,
     "metadata": {},
     "output_type": "execute_result"
    }
   ],
   "source": [
    "df_pca_coefs_sorted"
   ]
  },
  {
   "cell_type": "code",
   "execution_count": 102,
   "metadata": {},
   "outputs": [
    {
     "data": {
      "image/png": "[encoded data removed]",
      "text/plain": [
       "<Figure size 720x720 with 1 Axes>"
      ]
     },
     "metadata": {
      "needs_background": "light"
     },
     "output_type": "display_data"
    }
   ],
   "source": [
    "ax = df_pca_coefs_sorted.plot.barh(figsize=(10, 10))\n",
    "ax.set_yticklabels(df_pca_coefs_sorted['PCA'])\n",
    "plt.show()"
   ]
  },
  {
   "cell_type": "markdown",
   "metadata": {},
   "source": [
    "### Random Forest Classifier\n",
    "\n",
    "#### Use standardized tf-idf vectors as features"
   ]
  },
  {
   "cell_type": "code",
   "execution_count": 103,
   "metadata": {},
   "outputs": [
    {
     "name": "stdout",
     "output_type": "stream",
     "text": [
      "Train score: 0.9486673247778875\n",
      "Test score: 0.7341772151898734\n"
     ]
    }
   ],
   "source": [
    "from sklearn.ensemble import RandomForestClassifier\n",
    "\n",
    "rf = RandomForestClassifier(max_depth=None, n_estimators=20, min_samples_leaf=3, random_state=42)\n",
    "rf.fit(X_train_scaled, y_train)\n",
    "\n",
    "print('Train score:', rf.score(X_train_scaled, y_train))\n",
    "print('Test score:', rf.score(X_test_scaled, y_test))"
   ]
  },
  {
   "cell_type": "markdown",
   "metadata": {},
   "source": [
    "#### Use (Stardardized + PCA) tf-idf vectors as features"
   ]
  },
  {
   "cell_type": "code",
   "execution_count": 104,
   "metadata": {},
   "outputs": [
    {
     "name": "stdout",
     "output_type": "stream",
     "text": [
      "Train score: 0.9861796643632774\n",
      "Test score: 0.7249712313003452\n"
     ]
    }
   ],
   "source": [
    "rf2 = RandomForestClassifier(max_depth=None, n_estimators=20, min_samples_leaf=3, random_state=42)\n",
    "rf2.fit(train_components, y_train)\n",
    "\n",
    "print('Train score:', rf2.score(train_components, y_train))\n",
    "print('Test score:', rf2.score(test_components, y_test))"
   ]
  },
  {
   "cell_type": "markdown",
   "metadata": {},
   "source": [
    "#### Q: What do you see from the training result and the test result?"
   ]
  },
  {
   "cell_type": "markdown",
   "metadata": {},
   "source": [
    "The tree based model doesn't care about the correlation between features. So there is no big difference between with or without applying PCA on the sample."
   ]
  },
  {
   "cell_type": "markdown",
   "metadata": {},
   "source": [
    "#### You can plot the feature importances against principal components"
   ]
  },
  {
   "cell_type": "code",
   "execution_count": 105,
   "metadata": {},
   "outputs": [
    {
     "name": "stdout",
     "output_type": "stream",
     "text": [
      "(50,)\n"
     ]
    },
    {
     "data": {
      "text/plain": [
       "array([0.02166748, 0.11307109, 0.142967  , 0.015426  , 0.01196615,\n",
       "       0.01721311, 0.01262101, 0.03400024, 0.02970498, 0.03726489,\n",
       "       0.01075484, 0.01911284, 0.03271233, 0.01495024, 0.01693726,\n",
       "       0.01531085, 0.01559399, 0.00983024, 0.01049695, 0.01394748,\n",
       "       0.01361584, 0.01881271, 0.01875851, 0.01501064, 0.01365107,\n",
       "       0.01594345, 0.01535116, 0.01338179, 0.01340683, 0.01336181,\n",
       "       0.01245374, 0.01105351, 0.0145595 , 0.01005767, 0.01337624,\n",
       "       0.01235688, 0.00986406, 0.01035989, 0.01322783, 0.01319657,\n",
       "       0.01479568, 0.01289559, 0.01343434, 0.01643169, 0.00936317,\n",
       "       0.01458225, 0.01395035, 0.0122667 , 0.01165993, 0.01327167])"
      ]
     },
     "execution_count": 105,
     "metadata": {},
     "output_type": "execute_result"
    }
   ],
   "source": [
    "print(rf2.feature_importances_.shape)\n",
    "rf2.feature_importances_ # 已經是一個 50 個數的 vector 了"
   ]
  },
  {
   "cell_type": "code",
   "execution_count": 106,
   "metadata": {},
   "outputs": [
    {
     "data": {
      "text/html": [
       "<div>\n",
       "<style scoped>\n",
       "    .dataframe tbody tr th:only-of-type {\n",
       "        vertical-align: middle;\n",
       "    }\n",
       "\n",
       "    .dataframe tbody tr th {\n",
       "        vertical-align: top;\n",
       "    }\n",
       "\n",
       "    .dataframe thead th {\n",
       "        text-align: right;\n",
       "    }\n",
       "</style>\n",
       "<table border=\"1\" class=\"dataframe\">\n",
       "  <thead>\n",
       "    <tr style=\"text-align: right;\">\n",
       "      <th></th>\n",
       "      <th>PCA</th>\n",
       "      <th>Feature importances</th>\n",
       "    </tr>\n",
       "  </thead>\n",
       "  <tbody>\n",
       "    <tr>\n",
       "      <th>2</th>\n",
       "      <td>PCA_3</td>\n",
       "      <td>0.142967</td>\n",
       "    </tr>\n",
       "    <tr>\n",
       "      <th>1</th>\n",
       "      <td>PCA_2</td>\n",
       "      <td>0.113071</td>\n",
       "    </tr>\n",
       "    <tr>\n",
       "      <th>9</th>\n",
       "      <td>PCA_10</td>\n",
       "      <td>0.037265</td>\n",
       "    </tr>\n",
       "    <tr>\n",
       "      <th>7</th>\n",
       "      <td>PCA_8</td>\n",
       "      <td>0.034000</td>\n",
       "    </tr>\n",
       "    <tr>\n",
       "      <th>12</th>\n",
       "      <td>PCA_13</td>\n",
       "      <td>0.032712</td>\n",
       "    </tr>\n",
       "    <tr>\n",
       "      <th>8</th>\n",
       "      <td>PCA_9</td>\n",
       "      <td>0.029705</td>\n",
       "    </tr>\n",
       "    <tr>\n",
       "      <th>0</th>\n",
       "      <td>PCA_1</td>\n",
       "      <td>0.021667</td>\n",
       "    </tr>\n",
       "    <tr>\n",
       "      <th>11</th>\n",
       "      <td>PCA_12</td>\n",
       "      <td>0.019113</td>\n",
       "    </tr>\n",
       "    <tr>\n",
       "      <th>21</th>\n",
       "      <td>PCA_22</td>\n",
       "      <td>0.018813</td>\n",
       "    </tr>\n",
       "    <tr>\n",
       "      <th>22</th>\n",
       "      <td>PCA_23</td>\n",
       "      <td>0.018759</td>\n",
       "    </tr>\n",
       "    <tr>\n",
       "      <th>5</th>\n",
       "      <td>PCA_6</td>\n",
       "      <td>0.017213</td>\n",
       "    </tr>\n",
       "    <tr>\n",
       "      <th>14</th>\n",
       "      <td>PCA_15</td>\n",
       "      <td>0.016937</td>\n",
       "    </tr>\n",
       "    <tr>\n",
       "      <th>43</th>\n",
       "      <td>PCA_44</td>\n",
       "      <td>0.016432</td>\n",
       "    </tr>\n",
       "    <tr>\n",
       "      <th>25</th>\n",
       "      <td>PCA_26</td>\n",
       "      <td>0.015943</td>\n",
       "    </tr>\n",
       "    <tr>\n",
       "      <th>16</th>\n",
       "      <td>PCA_17</td>\n",
       "      <td>0.015594</td>\n",
       "    </tr>\n",
       "    <tr>\n",
       "      <th>3</th>\n",
       "      <td>PCA_4</td>\n",
       "      <td>0.015426</td>\n",
       "    </tr>\n",
       "    <tr>\n",
       "      <th>26</th>\n",
       "      <td>PCA_27</td>\n",
       "      <td>0.015351</td>\n",
       "    </tr>\n",
       "    <tr>\n",
       "      <th>15</th>\n",
       "      <td>PCA_16</td>\n",
       "      <td>0.015311</td>\n",
       "    </tr>\n",
       "    <tr>\n",
       "      <th>23</th>\n",
       "      <td>PCA_24</td>\n",
       "      <td>0.015011</td>\n",
       "    </tr>\n",
       "    <tr>\n",
       "      <th>13</th>\n",
       "      <td>PCA_14</td>\n",
       "      <td>0.014950</td>\n",
       "    </tr>\n",
       "    <tr>\n",
       "      <th>40</th>\n",
       "      <td>PCA_41</td>\n",
       "      <td>0.014796</td>\n",
       "    </tr>\n",
       "    <tr>\n",
       "      <th>45</th>\n",
       "      <td>PCA_46</td>\n",
       "      <td>0.014582</td>\n",
       "    </tr>\n",
       "    <tr>\n",
       "      <th>32</th>\n",
       "      <td>PCA_33</td>\n",
       "      <td>0.014560</td>\n",
       "    </tr>\n",
       "    <tr>\n",
       "      <th>46</th>\n",
       "      <td>PCA_47</td>\n",
       "      <td>0.013950</td>\n",
       "    </tr>\n",
       "    <tr>\n",
       "      <th>19</th>\n",
       "      <td>PCA_20</td>\n",
       "      <td>0.013947</td>\n",
       "    </tr>\n",
       "    <tr>\n",
       "      <th>24</th>\n",
       "      <td>PCA_25</td>\n",
       "      <td>0.013651</td>\n",
       "    </tr>\n",
       "    <tr>\n",
       "      <th>20</th>\n",
       "      <td>PCA_21</td>\n",
       "      <td>0.013616</td>\n",
       "    </tr>\n",
       "    <tr>\n",
       "      <th>42</th>\n",
       "      <td>PCA_43</td>\n",
       "      <td>0.013434</td>\n",
       "    </tr>\n",
       "    <tr>\n",
       "      <th>28</th>\n",
       "      <td>PCA_29</td>\n",
       "      <td>0.013407</td>\n",
       "    </tr>\n",
       "    <tr>\n",
       "      <th>27</th>\n",
       "      <td>PCA_28</td>\n",
       "      <td>0.013382</td>\n",
       "    </tr>\n",
       "    <tr>\n",
       "      <th>34</th>\n",
       "      <td>PCA_35</td>\n",
       "      <td>0.013376</td>\n",
       "    </tr>\n",
       "    <tr>\n",
       "      <th>29</th>\n",
       "      <td>PCA_30</td>\n",
       "      <td>0.013362</td>\n",
       "    </tr>\n",
       "    <tr>\n",
       "      <th>49</th>\n",
       "      <td>PCA_50</td>\n",
       "      <td>0.013272</td>\n",
       "    </tr>\n",
       "    <tr>\n",
       "      <th>38</th>\n",
       "      <td>PCA_39</td>\n",
       "      <td>0.013228</td>\n",
       "    </tr>\n",
       "    <tr>\n",
       "      <th>39</th>\n",
       "      <td>PCA_40</td>\n",
       "      <td>0.013197</td>\n",
       "    </tr>\n",
       "    <tr>\n",
       "      <th>41</th>\n",
       "      <td>PCA_42</td>\n",
       "      <td>0.012896</td>\n",
       "    </tr>\n",
       "    <tr>\n",
       "      <th>6</th>\n",
       "      <td>PCA_7</td>\n",
       "      <td>0.012621</td>\n",
       "    </tr>\n",
       "    <tr>\n",
       "      <th>30</th>\n",
       "      <td>PCA_31</td>\n",
       "      <td>0.012454</td>\n",
       "    </tr>\n",
       "    <tr>\n",
       "      <th>35</th>\n",
       "      <td>PCA_36</td>\n",
       "      <td>0.012357</td>\n",
       "    </tr>\n",
       "    <tr>\n",
       "      <th>47</th>\n",
       "      <td>PCA_48</td>\n",
       "      <td>0.012267</td>\n",
       "    </tr>\n",
       "    <tr>\n",
       "      <th>4</th>\n",
       "      <td>PCA_5</td>\n",
       "      <td>0.011966</td>\n",
       "    </tr>\n",
       "    <tr>\n",
       "      <th>48</th>\n",
       "      <td>PCA_49</td>\n",
       "      <td>0.011660</td>\n",
       "    </tr>\n",
       "    <tr>\n",
       "      <th>31</th>\n",
       "      <td>PCA_32</td>\n",
       "      <td>0.011054</td>\n",
       "    </tr>\n",
       "    <tr>\n",
       "      <th>10</th>\n",
       "      <td>PCA_11</td>\n",
       "      <td>0.010755</td>\n",
       "    </tr>\n",
       "    <tr>\n",
       "      <th>18</th>\n",
       "      <td>PCA_19</td>\n",
       "      <td>0.010497</td>\n",
       "    </tr>\n",
       "    <tr>\n",
       "      <th>37</th>\n",
       "      <td>PCA_38</td>\n",
       "      <td>0.010360</td>\n",
       "    </tr>\n",
       "    <tr>\n",
       "      <th>33</th>\n",
       "      <td>PCA_34</td>\n",
       "      <td>0.010058</td>\n",
       "    </tr>\n",
       "    <tr>\n",
       "      <th>36</th>\n",
       "      <td>PCA_37</td>\n",
       "      <td>0.009864</td>\n",
       "    </tr>\n",
       "    <tr>\n",
       "      <th>17</th>\n",
       "      <td>PCA_18</td>\n",
       "      <td>0.009830</td>\n",
       "    </tr>\n",
       "    <tr>\n",
       "      <th>44</th>\n",
       "      <td>PCA_45</td>\n",
       "      <td>0.009363</td>\n",
       "    </tr>\n",
       "  </tbody>\n",
       "</table>\n",
       "</div>"
      ],
      "text/plain": [
       "       PCA  Feature importances\n",
       "2    PCA_3             0.142967\n",
       "1    PCA_2             0.113071\n",
       "9   PCA_10             0.037265\n",
       "7    PCA_8             0.034000\n",
       "12  PCA_13             0.032712\n",
       "8    PCA_9             0.029705\n",
       "0    PCA_1             0.021667\n",
       "11  PCA_12             0.019113\n",
       "21  PCA_22             0.018813\n",
       "22  PCA_23             0.018759\n",
       "5    PCA_6             0.017213\n",
       "14  PCA_15             0.016937\n",
       "43  PCA_44             0.016432\n",
       "25  PCA_26             0.015943\n",
       "16  PCA_17             0.015594\n",
       "3    PCA_4             0.015426\n",
       "26  PCA_27             0.015351\n",
       "15  PCA_16             0.015311\n",
       "23  PCA_24             0.015011\n",
       "13  PCA_14             0.014950\n",
       "40  PCA_41             0.014796\n",
       "45  PCA_46             0.014582\n",
       "32  PCA_33             0.014560\n",
       "46  PCA_47             0.013950\n",
       "19  PCA_20             0.013947\n",
       "24  PCA_25             0.013651\n",
       "20  PCA_21             0.013616\n",
       "42  PCA_43             0.013434\n",
       "28  PCA_29             0.013407\n",
       "27  PCA_28             0.013382\n",
       "34  PCA_35             0.013376\n",
       "29  PCA_30             0.013362\n",
       "49  PCA_50             0.013272\n",
       "38  PCA_39             0.013228\n",
       "39  PCA_40             0.013197\n",
       "41  PCA_42             0.012896\n",
       "6    PCA_7             0.012621\n",
       "30  PCA_31             0.012454\n",
       "35  PCA_36             0.012357\n",
       "47  PCA_48             0.012267\n",
       "4    PCA_5             0.011966\n",
       "48  PCA_49             0.011660\n",
       "31  PCA_32             0.011054\n",
       "10  PCA_11             0.010755\n",
       "18  PCA_19             0.010497\n",
       "37  PCA_38             0.010360\n",
       "33  PCA_34             0.010058\n",
       "36  PCA_37             0.009864\n",
       "17  PCA_18             0.009830\n",
       "44  PCA_45             0.009363"
      ]
     },
     "execution_count": 106,
     "metadata": {},
     "output_type": "execute_result"
    }
   ],
   "source": [
    "data_rf = {'PCA':pca_names, 'Feature importances':rf2.feature_importances_.tolist()}\n",
    "df_rf_coefs = pd.DataFrame(data_rf)\n",
    "df_rf_coefs_sorted = df_rf_coefs.sort_values(by=['Feature importances'], ascending=False)\n",
    "df_rf_coefs_sorted"
   ]
  },
  {
   "cell_type": "code",
   "execution_count": 107,
   "metadata": {},
   "outputs": [
    {
     "data": {
      "image/png": "[encoded data removed]",
      "text/plain": [
       "<Figure size 720x720 with 1 Axes>"
      ]
     },
     "metadata": {
      "needs_background": "light"
     },
     "output_type": "display_data"
    }
   ],
   "source": [
    "ax = df_rf_coefs_sorted.plot(kind='barh', figsize=(10,10))\n",
    "ax.set_yticklabels(df_rf_coefs_sorted['PCA'])\n",
    "plt.show()"
   ]
  },
  {
   "cell_type": "markdown",
   "metadata": {},
   "source": [
    "## Extra Credit \n",
    "\n",
    "### 1. Can you cluster restaurants from their category information?\n",
    "\n",
    "#### Hint: a business may have mutiple categories, e.g. a restaurant can have both \"Restaurants\" and \"Korean\""
   ]
  },
  {
   "cell_type": "code",
   "execution_count": null,
   "metadata": {},
   "outputs": [],
   "source": [
    "restaurant_mask = (df_business['categories'].str.contains('Restaurants') == True)\n",
    "df_restaurants = df_business[restaurant_mask]\n",
    "\n",
    "category_list = dict()\n",
    "for row, value in df_restaurants['categories'].iteritems():\n",
    "    for i in value.split(','):\n",
    "        item = i.strip()\n",
    "        if item not in category_list.keys():\n",
    "            category_list[item] = 1\n",
    "        else:\n",
    "            category_list[item] += 1\n",
    "# print(category_list)\n",
    "print(len(category_list))\n",
    "\n",
    "sorted_category_list = sorted(category_list.items(), key=lambda d: d[1], reverse=True)\n",
    "print(sorted_category_list)"
   ]
  },
  {
   "cell_type": "code",
   "execution_count": null,
   "metadata": {},
   "outputs": [],
   "source": [
    "X_res = df_restaurants['categories'].values\n",
    "y_res = df_restaurants['stars'].values\n",
    "X_res_train, X_res_test, y_res_train, y_res_test = train_test_split(X_res, y_res, test_size=0.5, random_state=42)\n",
    "print(X_res.shape, X_res_train.shape, X_res_test.shape)\n",
    "print(y_res.shape, y_res_train.shape, y_res_test.shape)\n",
    "\n",
    "vectorized_res = TfidfVectorizer(stop_words='english', max_features=len(category_list))\n",
    "\n",
    "vec_x_res_train = vectorized_res.fit_transform(X_res_train)\n",
    "vec_x_res_test = vectorized_res.transform(X_res_test)\n",
    "vec_x_res = vectorized_res.transform(X_res)\n",
    "print(vec_x_res_train.shape, vec_x_res_test.shape, vec_x_res.shape)\n",
    "\n",
    "vocab_res = vectorized_res.get_feature_names()"
   ]
  },
  {
   "cell_type": "code",
   "execution_count": null,
   "metadata": {
    "scrolled": false
   },
   "outputs": [],
   "source": [
    "vocab_res"
   ]
  },
  {
   "cell_type": "code",
   "execution_count": null,
   "metadata": {},
   "outputs": [],
   "source": []
  },
  {
   "cell_type": "markdown",
   "metadata": {},
   "source": [
    "### 2. Can you try different distance/similarity metrics for clusterings, e.g. Pearson correlation, Jaccard distance, etc.\n",
    "\n",
    "#### Hint: You can take a look at scipy documentations to use other distances\n",
    "#### Q: How do you compare with Cosine distance or Euclidean distance?"
   ]
  },
  {
   "cell_type": "code",
   "execution_count": null,
   "metadata": {},
   "outputs": [],
   "source": []
  },
  {
   "cell_type": "markdown",
   "metadata": {},
   "source": [
    "### 3. Can you cluster categories from business entities? What does it mean by a cluster?"
   ]
  },
  {
   "cell_type": "code",
   "execution_count": null,
   "metadata": {},
   "outputs": [],
   "source": []
  },
  {
   "cell_type": "markdown",
   "metadata": {},
   "source": [
    "### 4. What are the characteristics of each of the clustered ? For each cluster, which restaurant can best represent (\"define\") its cluster?\n",
    "\n",
    "#### Hint: how to interpret \"best\"?"
   ]
  },
  {
   "cell_type": "markdown",
   "metadata": {},
   "source": [
    "### 5. Can you think of other use cases that clustering can be used?\n",
    "\n",
    "#### Hint: of course you can make use of other yelp dataset. You can try anything you want as long as you can explain it."
   ]
  },
  {
   "cell_type": "code",
   "execution_count": null,
   "metadata": {},
   "outputs": [],
   "source": []
  }
 ],
 "metadata": {
  "kernelspec": {
   "display_name": "Python 3",
   "language": "python",
   "name": "python3"
  },
  "language_info": {
   "codemirror_mode": {
    "name": "ipython",
    "version": 3
   },
   "file_extension": ".py",
   "mimetype": "text/x-python",
   "name": "python",
   "nbconvert_exporter": "python",
   "pygments_lexer": "ipython3",
   "version": "3.7.1"
  }
 },
 "nbformat": 4,
 "nbformat_minor": 2
}
