{
 "cells": [
  {
   "cell_type": "markdown",
   "metadata": {},
   "source": [
    "# Yelp Dataset Challenge\n",
    "\n",
    "![Yelp Data Challenge](https://s3-media3.fl.yelpcdn.com/assets/srv0/engineering_pages/6d323fc75cb1/assets/img/dataset/960x225_dataset@2x.png)"
   ]
  },
  {
   "cell_type": "markdown",
   "metadata": {},
   "source": [
    "## Load data"
   ]
  },
  {
   "cell_type": "code",
   "execution_count": 1,
   "metadata": {},
   "outputs": [],
   "source": [
    "import pandas as pd\n",
    "import numpy as np\n",
    "import matplotlib.pyplot as plt\n",
    "%matplotlib inline"
   ]
  },
  {
   "cell_type": "code",
   "execution_count": 2,
   "metadata": {},
   "outputs": [],
   "source": [
    "df = pd.read_csv('last_2_years_restaurant_reviews.csv')"
   ]
  },
  {
   "cell_type": "code",
   "execution_count": 3,
   "metadata": {},
   "outputs": [
    {
     "data": {
      "text/html": [
       "<div>\n",
       "<style scoped>\n",
       "    .dataframe tbody tr th:only-of-type {\n",
       "        vertical-align: middle;\n",
       "    }\n",
       "\n",
       "    .dataframe tbody tr th {\n",
       "        vertical-align: top;\n",
       "    }\n",
       "\n",
       "    .dataframe thead th {\n",
       "        text-align: right;\n",
       "    }\n",
       "</style>\n",
       "<table border=\"1\" class=\"dataframe\">\n",
       "  <thead>\n",
       "    <tr style=\"text-align: right;\">\n",
       "      <th></th>\n",
       "      <th>business_id</th>\n",
       "      <th>name</th>\n",
       "      <th>categories</th>\n",
       "      <th>avg_stars</th>\n",
       "      <th>cool</th>\n",
       "      <th>date</th>\n",
       "      <th>funny</th>\n",
       "      <th>review_id</th>\n",
       "      <th>stars</th>\n",
       "      <th>text</th>\n",
       "      <th>useful</th>\n",
       "      <th>user_id</th>\n",
       "    </tr>\n",
       "  </thead>\n",
       "  <tbody>\n",
       "    <tr>\n",
       "      <th>0</th>\n",
       "      <td>kgffcoxT6BQp-gJ-UQ7Czw</td>\n",
       "      <td>Subway</td>\n",
       "      <td>Fast Food, Restaurants, Sandwiches</td>\n",
       "      <td>2.5</td>\n",
       "      <td>0</td>\n",
       "      <td>2016-07-03</td>\n",
       "      <td>0</td>\n",
       "      <td>c6iTbCMMYWnOd79ZiWwobg</td>\n",
       "      <td>1</td>\n",
       "      <td>I ordered a few 12 inch sandwiches , a turkey ...</td>\n",
       "      <td>1</td>\n",
       "      <td>ih7Dmu7wZpKVwlBRbakJOQ</td>\n",
       "    </tr>\n",
       "    <tr>\n",
       "      <th>1</th>\n",
       "      <td>kgffcoxT6BQp-gJ-UQ7Czw</td>\n",
       "      <td>Subway</td>\n",
       "      <td>Fast Food, Restaurants, Sandwiches</td>\n",
       "      <td>2.5</td>\n",
       "      <td>0</td>\n",
       "      <td>2018-03-10</td>\n",
       "      <td>0</td>\n",
       "      <td>5iDdZvpK4jOv2w5kZ15TUA</td>\n",
       "      <td>1</td>\n",
       "      <td>Worst subway of any I have visited. I have man...</td>\n",
       "      <td>1</td>\n",
       "      <td>m3WBc9bGxn1q1ikAFq8PaA</td>\n",
       "    </tr>\n",
       "    <tr>\n",
       "      <th>2</th>\n",
       "      <td>kgffcoxT6BQp-gJ-UQ7Czw</td>\n",
       "      <td>Subway</td>\n",
       "      <td>Fast Food, Restaurants, Sandwiches</td>\n",
       "      <td>2.5</td>\n",
       "      <td>0</td>\n",
       "      <td>2016-12-26</td>\n",
       "      <td>0</td>\n",
       "      <td>oCUrLS4T-paZBr6WnrXg_A</td>\n",
       "      <td>2</td>\n",
       "      <td>Good luck trying to get the order right. The c...</td>\n",
       "      <td>0</td>\n",
       "      <td>H7bJDtGzhdg1fsmBL4KZWg</td>\n",
       "    </tr>\n",
       "    <tr>\n",
       "      <th>3</th>\n",
       "      <td>kgffcoxT6BQp-gJ-UQ7Czw</td>\n",
       "      <td>Subway</td>\n",
       "      <td>Fast Food, Restaurants, Sandwiches</td>\n",
       "      <td>2.5</td>\n",
       "      <td>0</td>\n",
       "      <td>2016-12-16</td>\n",
       "      <td>0</td>\n",
       "      <td>qXHvWYgL-8yfcGvP_ydKGA</td>\n",
       "      <td>2</td>\n",
       "      <td>Here to get my pick up order at the moment it ...</td>\n",
       "      <td>0</td>\n",
       "      <td>58sXi_0oTgVlM3aUuFYHUA</td>\n",
       "    </tr>\n",
       "    <tr>\n",
       "      <th>4</th>\n",
       "      <td>0jtRI7hVMpQHpUVtUy4ITw</td>\n",
       "      <td>Omelet House Summerlin</td>\n",
       "      <td>Beer, Wine &amp; Spirits, Italian, Food, American ...</td>\n",
       "      <td>4.0</td>\n",
       "      <td>1</td>\n",
       "      <td>2016-12-29</td>\n",
       "      <td>0</td>\n",
       "      <td>j9l7IMJX9bvWjkJ18EWGpg</td>\n",
       "      <td>5</td>\n",
       "      <td>My husband &amp; I were visiting the area, found t...</td>\n",
       "      <td>0</td>\n",
       "      <td>ZS7V0uC4kVrJR_4Yi3oTHA</td>\n",
       "    </tr>\n",
       "  </tbody>\n",
       "</table>\n",
       "</div>"
      ],
      "text/plain": [
       "              business_id                    name  \\\n",
       "0  kgffcoxT6BQp-gJ-UQ7Czw                  Subway   \n",
       "1  kgffcoxT6BQp-gJ-UQ7Czw                  Subway   \n",
       "2  kgffcoxT6BQp-gJ-UQ7Czw                  Subway   \n",
       "3  kgffcoxT6BQp-gJ-UQ7Czw                  Subway   \n",
       "4  0jtRI7hVMpQHpUVtUy4ITw  Omelet House Summerlin   \n",
       "\n",
       "                                          categories  avg_stars  cool  \\\n",
       "0                 Fast Food, Restaurants, Sandwiches        2.5     0   \n",
       "1                 Fast Food, Restaurants, Sandwiches        2.5     0   \n",
       "2                 Fast Food, Restaurants, Sandwiches        2.5     0   \n",
       "3                 Fast Food, Restaurants, Sandwiches        2.5     0   \n",
       "4  Beer, Wine & Spirits, Italian, Food, American ...        4.0     1   \n",
       "\n",
       "         date  funny               review_id  stars  \\\n",
       "0  2016-07-03      0  c6iTbCMMYWnOd79ZiWwobg      1   \n",
       "1  2018-03-10      0  5iDdZvpK4jOv2w5kZ15TUA      1   \n",
       "2  2016-12-26      0  oCUrLS4T-paZBr6WnrXg_A      2   \n",
       "3  2016-12-16      0  qXHvWYgL-8yfcGvP_ydKGA      2   \n",
       "4  2016-12-29      0  j9l7IMJX9bvWjkJ18EWGpg      5   \n",
       "\n",
       "                                                text  useful  \\\n",
       "0  I ordered a few 12 inch sandwiches , a turkey ...       1   \n",
       "1  Worst subway of any I have visited. I have man...       1   \n",
       "2  Good luck trying to get the order right. The c...       0   \n",
       "3  Here to get my pick up order at the moment it ...       0   \n",
       "4  My husband & I were visiting the area, found t...       0   \n",
       "\n",
       "                  user_id  \n",
       "0  ih7Dmu7wZpKVwlBRbakJOQ  \n",
       "1  m3WBc9bGxn1q1ikAFq8PaA  \n",
       "2  H7bJDtGzhdg1fsmBL4KZWg  \n",
       "3  58sXi_0oTgVlM3aUuFYHUA  \n",
       "4  ZS7V0uC4kVrJR_4Yi3oTHA  "
      ]
     },
     "execution_count": 3,
     "metadata": {},
     "output_type": "execute_result"
    }
   ],
   "source": [
    "df.head()"
   ]
  },
  {
   "cell_type": "code",
   "execution_count": 4,
   "metadata": {},
   "outputs": [
    {
     "name": "stdout",
     "output_type": "stream",
     "text": [
      "<class 'pandas.core.frame.DataFrame'>\n",
      "RangeIndex: 398037 entries, 0 to 398036\n",
      "Data columns (total 12 columns):\n",
      "business_id    398037 non-null object\n",
      "name           398037 non-null object\n",
      "categories     398037 non-null object\n",
      "avg_stars      398037 non-null float64\n",
      "cool           398037 non-null int64\n",
      "date           398037 non-null object\n",
      "funny          398037 non-null int64\n",
      "review_id      398037 non-null object\n",
      "stars          398037 non-null int64\n",
      "text           398037 non-null object\n",
      "useful         398037 non-null int64\n",
      "user_id        398037 non-null object\n",
      "dtypes: float64(1), int64(4), object(7)\n",
      "memory usage: 36.4+ MB\n"
     ]
    }
   ],
   "source": [
    "df.info()"
   ]
  },
  {
   "cell_type": "markdown",
   "metadata": {},
   "source": [
    "## Clean data and get rating data\n",
    "\n",
    "#### Select relevant columns in the original dataframe\n",
    "* `business_id`, `user_id`, `stars`"
   ]
  },
  {
   "cell_type": "code",
   "execution_count": 5,
   "metadata": {},
   "outputs": [
    {
     "data": {
      "text/html": [
       "<div>\n",
       "<style scoped>\n",
       "    .dataframe tbody tr th:only-of-type {\n",
       "        vertical-align: middle;\n",
       "    }\n",
       "\n",
       "    .dataframe tbody tr th {\n",
       "        vertical-align: top;\n",
       "    }\n",
       "\n",
       "    .dataframe thead th {\n",
       "        text-align: right;\n",
       "    }\n",
       "</style>\n",
       "<table border=\"1\" class=\"dataframe\">\n",
       "  <thead>\n",
       "    <tr style=\"text-align: right;\">\n",
       "      <th></th>\n",
       "      <th>business_id</th>\n",
       "      <th>user_id</th>\n",
       "      <th>stars</th>\n",
       "    </tr>\n",
       "  </thead>\n",
       "  <tbody>\n",
       "    <tr>\n",
       "      <th>0</th>\n",
       "      <td>kgffcoxT6BQp-gJ-UQ7Czw</td>\n",
       "      <td>ih7Dmu7wZpKVwlBRbakJOQ</td>\n",
       "      <td>1</td>\n",
       "    </tr>\n",
       "    <tr>\n",
       "      <th>1</th>\n",
       "      <td>kgffcoxT6BQp-gJ-UQ7Czw</td>\n",
       "      <td>m3WBc9bGxn1q1ikAFq8PaA</td>\n",
       "      <td>1</td>\n",
       "    </tr>\n",
       "    <tr>\n",
       "      <th>2</th>\n",
       "      <td>kgffcoxT6BQp-gJ-UQ7Czw</td>\n",
       "      <td>H7bJDtGzhdg1fsmBL4KZWg</td>\n",
       "      <td>2</td>\n",
       "    </tr>\n",
       "    <tr>\n",
       "      <th>3</th>\n",
       "      <td>kgffcoxT6BQp-gJ-UQ7Czw</td>\n",
       "      <td>58sXi_0oTgVlM3aUuFYHUA</td>\n",
       "      <td>2</td>\n",
       "    </tr>\n",
       "    <tr>\n",
       "      <th>4</th>\n",
       "      <td>0jtRI7hVMpQHpUVtUy4ITw</td>\n",
       "      <td>ZS7V0uC4kVrJR_4Yi3oTHA</td>\n",
       "      <td>5</td>\n",
       "    </tr>\n",
       "  </tbody>\n",
       "</table>\n",
       "</div>"
      ],
      "text/plain": [
       "              business_id                 user_id  stars\n",
       "0  kgffcoxT6BQp-gJ-UQ7Czw  ih7Dmu7wZpKVwlBRbakJOQ      1\n",
       "1  kgffcoxT6BQp-gJ-UQ7Czw  m3WBc9bGxn1q1ikAFq8PaA      1\n",
       "2  kgffcoxT6BQp-gJ-UQ7Czw  H7bJDtGzhdg1fsmBL4KZWg      2\n",
       "3  kgffcoxT6BQp-gJ-UQ7Czw  58sXi_0oTgVlM3aUuFYHUA      2\n",
       "4  0jtRI7hVMpQHpUVtUy4ITw  ZS7V0uC4kVrJR_4Yi3oTHA      5"
      ]
     },
     "execution_count": 5,
     "metadata": {},
     "output_type": "execute_result"
    }
   ],
   "source": [
    "df_recommender = df[['business_id', 'user_id', 'stars']]\n",
    "df_recommender.head()"
   ]
  },
  {
   "cell_type": "markdown",
   "metadata": {},
   "source": [
    "#### Exclude the users who didn't give review"
   ]
  },
  {
   "cell_type": "code",
   "execution_count": 6,
   "metadata": {},
   "outputs": [
    {
     "name": "stdout",
     "output_type": "stream",
     "text": [
      "0\n"
     ]
    }
   ],
   "source": [
    "missing_value_counts = df_recommender['stars'].isnull().sum() # No missing\n",
    "print(missing_value_counts)"
   ]
  },
  {
   "cell_type": "markdown",
   "metadata": {},
   "source": [
    "No missing values in current dataset.\n",
    "\n",
    "We still use `dropna()` to drop the row if there is missing values. So when we use some new data with missing values, these rows will be droped."
   ]
  },
  {
   "cell_type": "code",
   "execution_count": 7,
   "metadata": {},
   "outputs": [
    {
     "name": "stdout",
     "output_type": "stream",
     "text": [
      "<class 'pandas.core.frame.DataFrame'>\n",
      "RangeIndex: 398037 entries, 0 to 398036\n",
      "Data columns (total 3 columns):\n",
      "business_id    398037 non-null object\n",
      "user_id        398037 non-null object\n",
      "stars          398037 non-null int64\n",
      "dtypes: int64(1), object(2)\n",
      "memory usage: 9.1+ MB\n"
     ]
    }
   ],
   "source": [
    "df_recommender.dropna(axis=0) # 沿著 col 方向看到 missing value 就丟掉 row\n",
    "df_recommender.info()"
   ]
  },
  {
   "cell_type": "code",
   "execution_count": 8,
   "metadata": {},
   "outputs": [
    {
     "data": {
      "text/html": [
       "<div>\n",
       "<style scoped>\n",
       "    .dataframe tbody tr th:only-of-type {\n",
       "        vertical-align: middle;\n",
       "    }\n",
       "\n",
       "    .dataframe tbody tr th {\n",
       "        vertical-align: top;\n",
       "    }\n",
       "\n",
       "    .dataframe thead th {\n",
       "        text-align: right;\n",
       "    }\n",
       "</style>\n",
       "<table border=\"1\" class=\"dataframe\">\n",
       "  <thead>\n",
       "    <tr style=\"text-align: right;\">\n",
       "      <th></th>\n",
       "      <th>business_id</th>\n",
       "      <th>user_id</th>\n",
       "      <th>stars</th>\n",
       "    </tr>\n",
       "  </thead>\n",
       "  <tbody>\n",
       "    <tr>\n",
       "      <th>0</th>\n",
       "      <td>kgffcoxT6BQp-gJ-UQ7Czw</td>\n",
       "      <td>ih7Dmu7wZpKVwlBRbakJOQ</td>\n",
       "      <td>1</td>\n",
       "    </tr>\n",
       "    <tr>\n",
       "      <th>1</th>\n",
       "      <td>kgffcoxT6BQp-gJ-UQ7Czw</td>\n",
       "      <td>m3WBc9bGxn1q1ikAFq8PaA</td>\n",
       "      <td>1</td>\n",
       "    </tr>\n",
       "    <tr>\n",
       "      <th>2</th>\n",
       "      <td>kgffcoxT6BQp-gJ-UQ7Czw</td>\n",
       "      <td>H7bJDtGzhdg1fsmBL4KZWg</td>\n",
       "      <td>2</td>\n",
       "    </tr>\n",
       "    <tr>\n",
       "      <th>3</th>\n",
       "      <td>kgffcoxT6BQp-gJ-UQ7Czw</td>\n",
       "      <td>58sXi_0oTgVlM3aUuFYHUA</td>\n",
       "      <td>2</td>\n",
       "    </tr>\n",
       "    <tr>\n",
       "      <th>4</th>\n",
       "      <td>0jtRI7hVMpQHpUVtUy4ITw</td>\n",
       "      <td>ZS7V0uC4kVrJR_4Yi3oTHA</td>\n",
       "      <td>5</td>\n",
       "    </tr>\n",
       "  </tbody>\n",
       "</table>\n",
       "</div>"
      ],
      "text/plain": [
       "              business_id                 user_id  stars\n",
       "0  kgffcoxT6BQp-gJ-UQ7Czw  ih7Dmu7wZpKVwlBRbakJOQ      1\n",
       "1  kgffcoxT6BQp-gJ-UQ7Czw  m3WBc9bGxn1q1ikAFq8PaA      1\n",
       "2  kgffcoxT6BQp-gJ-UQ7Czw  H7bJDtGzhdg1fsmBL4KZWg      2\n",
       "3  kgffcoxT6BQp-gJ-UQ7Czw  58sXi_0oTgVlM3aUuFYHUA      2\n",
       "4  0jtRI7hVMpQHpUVtUy4ITw  ZS7V0uC4kVrJR_4Yi3oTHA      5"
      ]
     },
     "execution_count": 8,
     "metadata": {},
     "output_type": "execute_result"
    }
   ],
   "source": [
    "df_recommender.head()"
   ]
  },
  {
   "cell_type": "code",
   "execution_count": 9,
   "metadata": {},
   "outputs": [
    {
     "name": "stdout",
     "output_type": "stream",
     "text": [
      "4621\n",
      "189936\n"
     ]
    }
   ],
   "source": [
    "print(df_recommender['business_id'].nunique())\n",
    "print(df_recommender['user_id'].nunique())"
   ]
  },
  {
   "cell_type": "markdown",
   "metadata": {},
   "source": [
    "#### Create utility matrix from records\n",
    "\n",
    "* user is row, item is column, and rating is cell value\n",
    "  * user: `user_id`\n",
    "  * item: `business_id`\n",
    "  * rating: `stars`\n",
    "* If there is missing values then use 0 to replace."
   ]
  },
  {
   "cell_type": "code",
   "execution_count": 10,
   "metadata": {},
   "outputs": [
    {
     "data": {
      "text/html": [
       "<div>\n",
       "<style scoped>\n",
       "    .dataframe tbody tr th:only-of-type {\n",
       "        vertical-align: middle;\n",
       "    }\n",
       "\n",
       "    .dataframe tbody tr th {\n",
       "        vertical-align: top;\n",
       "    }\n",
       "\n",
       "    .dataframe thead th {\n",
       "        text-align: right;\n",
       "    }\n",
       "</style>\n",
       "<table border=\"1\" class=\"dataframe\">\n",
       "  <thead>\n",
       "    <tr style=\"text-align: right;\">\n",
       "      <th>business_id</th>\n",
       "      <th>--9e1ONYQuAa-CB_Rrw7Tw</th>\n",
       "      <th>-1m9o3vGRA8IBPNvNqKLmA</th>\n",
       "      <th>-3zffZUHoY8bQjGfPSoBKQ</th>\n",
       "      <th>-8R_-EkGpUhBk55K9Dd4mg</th>\n",
       "      <th>-9YyInW1wapzdNZrhQJ9dg</th>\n",
       "      <th>-AD5PiuJHgdUcAK-Vxao2A</th>\n",
       "      <th>-ADtl9bLp8wNqYX1k3KuxA</th>\n",
       "      <th>-AGdGGCeTS-njB_8GkUmjQ</th>\n",
       "      <th>-Bf8BQ3yMk8U2f45r2DRKw</th>\n",
       "      <th>-BmqghX1sv7sgsxOIS2yAg</th>\n",
       "      <th>...</th>\n",
       "      <th>znWHLW1pt19HzW1VY6KfCA</th>\n",
       "      <th>zp-K5s3pGTWuuaVBWo6WZA</th>\n",
       "      <th>zpoZ6WyQUYff18-z4ZU1mA</th>\n",
       "      <th>zr42_UsWfaIF-rcp37OpwA</th>\n",
       "      <th>zsQk990PubOHjr1YcLkQFw</th>\n",
       "      <th>zt9RLUIU32fZYOBh2L0NNQ</th>\n",
       "      <th>zttcrQP4MxNS5X5itzStXg</th>\n",
       "      <th>zuwba6QEBIDZT0tJZmNhdQ</th>\n",
       "      <th>zwNC-Ow4eIMan2__bS9-rg</th>\n",
       "      <th>zx_j6OuuHHa2afVoAZuLpA</th>\n",
       "    </tr>\n",
       "    <tr>\n",
       "      <th>user_id</th>\n",
       "      <th></th>\n",
       "      <th></th>\n",
       "      <th></th>\n",
       "      <th></th>\n",
       "      <th></th>\n",
       "      <th></th>\n",
       "      <th></th>\n",
       "      <th></th>\n",
       "      <th></th>\n",
       "      <th></th>\n",
       "      <th></th>\n",
       "      <th></th>\n",
       "      <th></th>\n",
       "      <th></th>\n",
       "      <th></th>\n",
       "      <th></th>\n",
       "      <th></th>\n",
       "      <th></th>\n",
       "      <th></th>\n",
       "      <th></th>\n",
       "      <th></th>\n",
       "    </tr>\n",
       "  </thead>\n",
       "  <tbody>\n",
       "    <tr>\n",
       "      <th>---1lKK3aKOuomHnwAkAow</th>\n",
       "      <td>0</td>\n",
       "      <td>0</td>\n",
       "      <td>0</td>\n",
       "      <td>0</td>\n",
       "      <td>0</td>\n",
       "      <td>0</td>\n",
       "      <td>0</td>\n",
       "      <td>0</td>\n",
       "      <td>0</td>\n",
       "      <td>0</td>\n",
       "      <td>...</td>\n",
       "      <td>0</td>\n",
       "      <td>0</td>\n",
       "      <td>0</td>\n",
       "      <td>0</td>\n",
       "      <td>0</td>\n",
       "      <td>0</td>\n",
       "      <td>0</td>\n",
       "      <td>0</td>\n",
       "      <td>0</td>\n",
       "      <td>0</td>\n",
       "    </tr>\n",
       "    <tr>\n",
       "      <th>---udAKDsn0yQXmzbWQNSw</th>\n",
       "      <td>0</td>\n",
       "      <td>0</td>\n",
       "      <td>0</td>\n",
       "      <td>0</td>\n",
       "      <td>0</td>\n",
       "      <td>0</td>\n",
       "      <td>0</td>\n",
       "      <td>0</td>\n",
       "      <td>0</td>\n",
       "      <td>0</td>\n",
       "      <td>...</td>\n",
       "      <td>0</td>\n",
       "      <td>0</td>\n",
       "      <td>0</td>\n",
       "      <td>0</td>\n",
       "      <td>0</td>\n",
       "      <td>0</td>\n",
       "      <td>0</td>\n",
       "      <td>0</td>\n",
       "      <td>0</td>\n",
       "      <td>0</td>\n",
       "    </tr>\n",
       "    <tr>\n",
       "      <th>--2bpE5vyR-2hAP7sZZ4lA</th>\n",
       "      <td>0</td>\n",
       "      <td>0</td>\n",
       "      <td>0</td>\n",
       "      <td>0</td>\n",
       "      <td>0</td>\n",
       "      <td>0</td>\n",
       "      <td>0</td>\n",
       "      <td>0</td>\n",
       "      <td>0</td>\n",
       "      <td>0</td>\n",
       "      <td>...</td>\n",
       "      <td>0</td>\n",
       "      <td>0</td>\n",
       "      <td>0</td>\n",
       "      <td>0</td>\n",
       "      <td>0</td>\n",
       "      <td>0</td>\n",
       "      <td>0</td>\n",
       "      <td>0</td>\n",
       "      <td>0</td>\n",
       "      <td>0</td>\n",
       "    </tr>\n",
       "    <tr>\n",
       "      <th>--2vR0DIsmQ6WfcSzKWigw</th>\n",
       "      <td>0</td>\n",
       "      <td>0</td>\n",
       "      <td>0</td>\n",
       "      <td>0</td>\n",
       "      <td>0</td>\n",
       "      <td>0</td>\n",
       "      <td>0</td>\n",
       "      <td>0</td>\n",
       "      <td>0</td>\n",
       "      <td>0</td>\n",
       "      <td>...</td>\n",
       "      <td>0</td>\n",
       "      <td>0</td>\n",
       "      <td>0</td>\n",
       "      <td>0</td>\n",
       "      <td>0</td>\n",
       "      <td>0</td>\n",
       "      <td>0</td>\n",
       "      <td>0</td>\n",
       "      <td>0</td>\n",
       "      <td>0</td>\n",
       "    </tr>\n",
       "    <tr>\n",
       "      <th>--3WaS23LcIXtxyFULJHTA</th>\n",
       "      <td>0</td>\n",
       "      <td>0</td>\n",
       "      <td>0</td>\n",
       "      <td>0</td>\n",
       "      <td>0</td>\n",
       "      <td>0</td>\n",
       "      <td>0</td>\n",
       "      <td>0</td>\n",
       "      <td>0</td>\n",
       "      <td>0</td>\n",
       "      <td>...</td>\n",
       "      <td>0</td>\n",
       "      <td>0</td>\n",
       "      <td>0</td>\n",
       "      <td>0</td>\n",
       "      <td>0</td>\n",
       "      <td>0</td>\n",
       "      <td>0</td>\n",
       "      <td>0</td>\n",
       "      <td>0</td>\n",
       "      <td>0</td>\n",
       "    </tr>\n",
       "  </tbody>\n",
       "</table>\n",
       "<p>5 rows × 4621 columns</p>\n",
       "</div>"
      ],
      "text/plain": [
       "business_id             --9e1ONYQuAa-CB_Rrw7Tw  -1m9o3vGRA8IBPNvNqKLmA  \\\n",
       "user_id                                                                  \n",
       "---1lKK3aKOuomHnwAkAow                       0                       0   \n",
       "---udAKDsn0yQXmzbWQNSw                       0                       0   \n",
       "--2bpE5vyR-2hAP7sZZ4lA                       0                       0   \n",
       "--2vR0DIsmQ6WfcSzKWigw                       0                       0   \n",
       "--3WaS23LcIXtxyFULJHTA                       0                       0   \n",
       "\n",
       "business_id             -3zffZUHoY8bQjGfPSoBKQ  -8R_-EkGpUhBk55K9Dd4mg  \\\n",
       "user_id                                                                  \n",
       "---1lKK3aKOuomHnwAkAow                       0                       0   \n",
       "---udAKDsn0yQXmzbWQNSw                       0                       0   \n",
       "--2bpE5vyR-2hAP7sZZ4lA                       0                       0   \n",
       "--2vR0DIsmQ6WfcSzKWigw                       0                       0   \n",
       "--3WaS23LcIXtxyFULJHTA                       0                       0   \n",
       "\n",
       "business_id             -9YyInW1wapzdNZrhQJ9dg  -AD5PiuJHgdUcAK-Vxao2A  \\\n",
       "user_id                                                                  \n",
       "---1lKK3aKOuomHnwAkAow                       0                       0   \n",
       "---udAKDsn0yQXmzbWQNSw                       0                       0   \n",
       "--2bpE5vyR-2hAP7sZZ4lA                       0                       0   \n",
       "--2vR0DIsmQ6WfcSzKWigw                       0                       0   \n",
       "--3WaS23LcIXtxyFULJHTA                       0                       0   \n",
       "\n",
       "business_id             -ADtl9bLp8wNqYX1k3KuxA  -AGdGGCeTS-njB_8GkUmjQ  \\\n",
       "user_id                                                                  \n",
       "---1lKK3aKOuomHnwAkAow                       0                       0   \n",
       "---udAKDsn0yQXmzbWQNSw                       0                       0   \n",
       "--2bpE5vyR-2hAP7sZZ4lA                       0                       0   \n",
       "--2vR0DIsmQ6WfcSzKWigw                       0                       0   \n",
       "--3WaS23LcIXtxyFULJHTA                       0                       0   \n",
       "\n",
       "business_id             -Bf8BQ3yMk8U2f45r2DRKw  -BmqghX1sv7sgsxOIS2yAg  \\\n",
       "user_id                                                                  \n",
       "---1lKK3aKOuomHnwAkAow                       0                       0   \n",
       "---udAKDsn0yQXmzbWQNSw                       0                       0   \n",
       "--2bpE5vyR-2hAP7sZZ4lA                       0                       0   \n",
       "--2vR0DIsmQ6WfcSzKWigw                       0                       0   \n",
       "--3WaS23LcIXtxyFULJHTA                       0                       0   \n",
       "\n",
       "business_id                      ...            znWHLW1pt19HzW1VY6KfCA  \\\n",
       "user_id                          ...                                     \n",
       "---1lKK3aKOuomHnwAkAow           ...                                 0   \n",
       "---udAKDsn0yQXmzbWQNSw           ...                                 0   \n",
       "--2bpE5vyR-2hAP7sZZ4lA           ...                                 0   \n",
       "--2vR0DIsmQ6WfcSzKWigw           ...                                 0   \n",
       "--3WaS23LcIXtxyFULJHTA           ...                                 0   \n",
       "\n",
       "business_id             zp-K5s3pGTWuuaVBWo6WZA  zpoZ6WyQUYff18-z4ZU1mA  \\\n",
       "user_id                                                                  \n",
       "---1lKK3aKOuomHnwAkAow                       0                       0   \n",
       "---udAKDsn0yQXmzbWQNSw                       0                       0   \n",
       "--2bpE5vyR-2hAP7sZZ4lA                       0                       0   \n",
       "--2vR0DIsmQ6WfcSzKWigw                       0                       0   \n",
       "--3WaS23LcIXtxyFULJHTA                       0                       0   \n",
       "\n",
       "business_id             zr42_UsWfaIF-rcp37OpwA  zsQk990PubOHjr1YcLkQFw  \\\n",
       "user_id                                                                  \n",
       "---1lKK3aKOuomHnwAkAow                       0                       0   \n",
       "---udAKDsn0yQXmzbWQNSw                       0                       0   \n",
       "--2bpE5vyR-2hAP7sZZ4lA                       0                       0   \n",
       "--2vR0DIsmQ6WfcSzKWigw                       0                       0   \n",
       "--3WaS23LcIXtxyFULJHTA                       0                       0   \n",
       "\n",
       "business_id             zt9RLUIU32fZYOBh2L0NNQ  zttcrQP4MxNS5X5itzStXg  \\\n",
       "user_id                                                                  \n",
       "---1lKK3aKOuomHnwAkAow                       0                       0   \n",
       "---udAKDsn0yQXmzbWQNSw                       0                       0   \n",
       "--2bpE5vyR-2hAP7sZZ4lA                       0                       0   \n",
       "--2vR0DIsmQ6WfcSzKWigw                       0                       0   \n",
       "--3WaS23LcIXtxyFULJHTA                       0                       0   \n",
       "\n",
       "business_id             zuwba6QEBIDZT0tJZmNhdQ  zwNC-Ow4eIMan2__bS9-rg  \\\n",
       "user_id                                                                  \n",
       "---1lKK3aKOuomHnwAkAow                       0                       0   \n",
       "---udAKDsn0yQXmzbWQNSw                       0                       0   \n",
       "--2bpE5vyR-2hAP7sZZ4lA                       0                       0   \n",
       "--2vR0DIsmQ6WfcSzKWigw                       0                       0   \n",
       "--3WaS23LcIXtxyFULJHTA                       0                       0   \n",
       "\n",
       "business_id             zx_j6OuuHHa2afVoAZuLpA  \n",
       "user_id                                         \n",
       "---1lKK3aKOuomHnwAkAow                       0  \n",
       "---udAKDsn0yQXmzbWQNSw                       0  \n",
       "--2bpE5vyR-2hAP7sZZ4lA                       0  \n",
       "--2vR0DIsmQ6WfcSzKWigw                       0  \n",
       "--3WaS23LcIXtxyFULJHTA                       0  \n",
       "\n",
       "[5 rows x 4621 columns]"
      ]
     },
     "execution_count": 10,
     "metadata": {},
     "output_type": "execute_result"
    }
   ],
   "source": [
    "df_utility = pd.pivot_table(data=df_recommender, index='user_id', columns='business_id', values='stars', fill_value=0)\n",
    "df_utility.head()"
   ]
  },
  {
   "cell_type": "code",
   "execution_count": 11,
   "metadata": {},
   "outputs": [
    {
     "data": {
      "text/plain": [
       "(189936, 4621)"
      ]
     },
     "execution_count": 11,
     "metadata": {},
     "output_type": "execute_result"
    }
   ],
   "source": [
    "df_utility.shape"
   ]
  },
  {
   "cell_type": "markdown",
   "metadata": {},
   "source": [
    "## Item-item similarity recommender\n",
    "\n",
    "* Firstly, convert the dataframe to sparse matrix\n",
    "* Item is `business_id`, so the dimension of item-item simiarity matrix is 4621 x 4621\n",
    "  * Need to transpose the sparse matrix before calculating item-item similarity matrix\n",
    "* Use 100 neighborhood\n",
    "* Predict ratings for a user\n",
    "* Recommend top 5 to the user"
   ]
  },
  {
   "cell_type": "code",
   "execution_count": 12,
   "metadata": {},
   "outputs": [
    {
     "name": "stdout",
     "output_type": "stream",
     "text": [
      "(189936, 4621) (4621, 189936)\n",
      "[[0 0 0 ... 0 0 0]\n",
      " [0 0 0 ... 0 0 0]\n",
      " [0 0 0 ... 0 0 0]\n",
      " ...\n",
      " [0 0 0 ... 0 0 0]\n",
      " [0 0 0 ... 0 0 0]\n",
      " [0 0 0 ... 0 0 0]]\n",
      "(4621, 4621)\n",
      "[[1.         0.0105333  0.01684862 ... 0.         0.0070165  0.        ]\n",
      " [0.0105333  1.         0.01565553 ... 0.         0.         0.        ]\n",
      " [0.01684862 0.01565553 1.         ... 0.         0.00724205 0.        ]\n",
      " ...\n",
      " [0.         0.         0.         ... 1.         0.         0.        ]\n",
      " [0.0070165  0.         0.00724205 ... 0.         1.         0.        ]\n",
      " [0.         0.         0.         ... 0.         0.         1.        ]]\n"
     ]
    }
   ],
   "source": [
    "from scipy import sparse\n",
    "utility_matrix = sparse.csr_matrix(df_utility.values)\n",
    "print(utility_matrix.shape, utility_matrix.T.shape)\n",
    "print(utility_matrix.toarray()) # 因為是 sparse matrix ，顯示大都是 0 看不出什麼來\n",
    "\n",
    "from sklearn.metrics.pairwise import cosine_similarity\n",
    "item_item_similarity_matrix = cosine_similarity(utility_matrix.T)\n",
    "print(item_item_similarity_matrix.shape)\n",
    "print(item_item_similarity_matrix)"
   ]
  },
  {
   "cell_type": "code",
   "execution_count": 13,
   "metadata": {},
   "outputs": [
    {
     "name": "stdout",
     "output_type": "stream",
     "text": [
      "(4621, 100)\n",
      "[[   0 2933  828 ...  756 1796  199]\n",
      " [   1 3076 2729 ...  604 3332 4168]\n",
      " [   2 2933 3914 ... 2861 2528  604]\n",
      " ...\n",
      " [4618 1085  446 ...  666 1899  101]\n",
      " [4619 3683 1170 ... 4261 2130  299]\n",
      " [4620 4523 3220 ... 1193 2829 1123]]\n"
     ]
    }
   ],
   "source": [
    "neighborhoods = np.argsort(item_item_similarity_matrix, axis=1)[:, -1:-101:-1] # 由大到小排序\n",
    "print(neighborhoods.shape)\n",
    "print(neighborhoods)"
   ]
  },
  {
   "cell_type": "code",
   "execution_count": 14,
   "metadata": {},
   "outputs": [
    {
     "name": "stdout",
     "output_type": "stream",
     "text": [
      "74150\n",
      "  (0, 377)\t5\n",
      "  (0, 1595)\t5\n",
      "(array([0, 0], dtype=int32), array([ 377, 1595], dtype=int32))\n"
     ]
    },
    {
     "name": "stderr",
     "output_type": "stream",
     "text": [
      "/usr/local/anaconda3/lib/python3.6/site-packages/ipykernel_launcher.py:19: RuntimeWarning: invalid value encountered in true_divide\n"
     ]
    },
    {
     "name": "stdout",
     "output_type": "stream",
     "text": [
      "[5. 0. 0. ... 0. 0. 0.]\n",
      "(4621,)\n",
      "  (0, 0)\t5.0\n",
      "  (0, 20)\t5.0\n",
      "  (0, 51)\t5.0\n",
      "  (0, 70)\t5.0\n",
      "  (0, 77)\t5.0\n",
      "  (0, 87)\t5.0\n",
      "  (0, 90)\t5.0\n",
      "  (0, 104)\t5.0\n",
      "  (0, 121)\t5.0\n",
      "  (0, 129)\t5.0\n",
      "  (0, 178)\t5.0\n",
      "  (0, 192)\t5.0\n",
      "  (0, 203)\t5.0\n",
      "  (0, 212)\t5.0\n",
      "  (0, 217)\t5.0\n",
      "  (0, 235)\t5.0\n",
      "  (0, 268)\t5.0\n",
      "  (0, 285)\t5.0\n",
      "  (0, 289)\t5.0\n",
      "  (0, 310)\t5.0\n",
      "  (0, 316)\t5.0\n",
      "  (0, 318)\t5.0\n",
      "  (0, 322)\t5.0\n",
      "  (0, 341)\t5.0\n",
      "  (0, 359)\t5.0\n",
      "  :\t:\n",
      "  (0, 4290)\t5.0\n",
      "  (0, 4297)\t5.0\n",
      "  (0, 4304)\t5.0\n",
      "  (0, 4329)\t5.0\n",
      "  (0, 4333)\t5.0\n",
      "  (0, 4337)\t5.0\n",
      "  (0, 4364)\t5.0\n",
      "  (0, 4366)\t5.0\n",
      "  (0, 4372)\t5.0\n",
      "  (0, 4381)\t5.0\n",
      "  (0, 4395)\t5.0\n",
      "  (0, 4396)\t5.0\n",
      "  (0, 4433)\t5.0\n",
      "  (0, 4438)\t5.0\n",
      "  (0, 4441)\t5.0\n",
      "  (0, 4454)\t5.0\n",
      "  (0, 4459)\t5.0\n",
      "  (0, 4462)\t5.0\n",
      "  (0, 4488)\t5.0\n",
      "  (0, 4525)\t5.0\n",
      "  (0, 4569)\t5.000000000000001\n",
      "  (0, 4571)\t5.0\n",
      "  (0, 4578)\t5.0\n",
      "  (0, 4582)\t5.0\n",
      "  (0, 4616)\t5.0\n"
     ]
    }
   ],
   "source": [
    "random_number = np.random.randint(0, df_utility.shape[0])\n",
    "print(random_number)\n",
    "rating_matrix = utility_matrix[random_number] # randomly pick a user\n",
    "print(rating_matrix)\n",
    "print(rating_matrix.nonzero())\n",
    "\n",
    "n_users = utility_matrix.shape[0]\n",
    "n_items = utility_matrix.shape[1]\n",
    "\n",
    "items_rated_by_this_user = rating_matrix.nonzero()[1] # 找出哪些欄位已經被使用者打分數了，把欄位的 index 存下來\n",
    "out = np.zeros(n_items)\n",
    "for item_to_rate in range(n_items):\n",
    "    relevant_items = np.intersect1d(neighborhoods[item_to_rate], # 找 neighborhoods 和 items_rated_by_this_user 的交集\n",
    "                                    items_rated_by_this_user,\n",
    "                                    assume_unique=True) # assume_unique 可以加速 intersect1d() 的計算\n",
    "\n",
    "    out[item_to_rate] = utility_matrix[random_number, relevant_items] * \\\n",
    "                        item_item_similarity_matrix[item_to_rate, relevant_items] / \\\n",
    "                        item_item_similarity_matrix[item_to_rate, relevant_items].sum()\n",
    "    \n",
    "pred_ratings = np.nan_to_num(out) # out 中的 NaN 會被改成 0\n",
    "print(pred_ratings)\n",
    "print(pred_ratings.shape)\n",
    "print(sparse.csr_matrix(pred_ratings)) # 用 sparse matrix 比較容易看哪個是非0的值"
   ]
  },
  {
   "cell_type": "markdown",
   "metadata": {},
   "source": [
    "這邊推薦 item-item based 的前五名"
   ]
  },
  {
   "cell_type": "code",
   "execution_count": 15,
   "metadata": {},
   "outputs": [
    {
     "name": "stdout",
     "output_type": "stream",
     "text": [
      "[2306, 2030, 696, 4237, 2867]\n"
     ]
    }
   ],
   "source": [
    "n = 5\n",
    "item_index_sorted_by_pred_rating = list(np.argsort(pred_ratings))[::-1]\n",
    "item_rated_by_this_user = utility_matrix[random_number].nonzero()[1]\n",
    "\n",
    "# We want to exclude the items that have been rated by user\n",
    "unrated_items_by_pred_rating = [item for item in item_index_sorted_by_pred_rating\n",
    "                                if item not in items_rated_by_this_user]\n",
    "\n",
    "recommends = unrated_items_by_pred_rating[:n] # 前五名的欄位的 index\n",
    "print(recommends)"
   ]
  },
  {
   "cell_type": "code",
   "execution_count": 18,
   "metadata": {},
   "outputs": [
    {
     "name": "stdout",
     "output_type": "stream",
     "text": [
      "[5. 5. 5. 5. 5.]\n"
     ]
    }
   ],
   "source": [
    "print(pred_ratings[recommends]) # 前五名的欄位的分數"
   ]
  },
  {
   "cell_type": "code",
   "execution_count": 21,
   "metadata": {},
   "outputs": [
    {
     "name": "stdout",
     "output_type": "stream",
     "text": [
      "Index(['UT6L3b7Zll_nvRidijiDSA', 'R0ukZ5FgY_2Pn96Go5mftA',\n",
      "       '8hDKFHyRrILlXp5DfTlSGw', 'u_8cVZyxh0J468zEZUjNDQ',\n",
      "       'b3vRI8yXNK34hgC0Wd4Iag'],\n",
      "      dtype='object', name='business_id')\n"
     ]
    }
   ],
   "source": [
    "recommended_business_ids = df_utility.columns[recommends] # 前五名欄位的 business_id\n",
    "print(recommended_business_ids)"
   ]
  },
  {
   "cell_type": "markdown",
   "metadata": {},
   "source": [
    "Get the name, categories, and average stars of the top five recommended restaurant"
   ]
  },
  {
   "cell_type": "code",
   "execution_count": 76,
   "metadata": {},
   "outputs": [
    {
     "data": {
      "text/html": [
       "<div>\n",
       "<style scoped>\n",
       "    .dataframe tbody tr th:only-of-type {\n",
       "        vertical-align: middle;\n",
       "    }\n",
       "\n",
       "    .dataframe tbody tr th {\n",
       "        vertical-align: top;\n",
       "    }\n",
       "\n",
       "    .dataframe thead th {\n",
       "        text-align: right;\n",
       "    }\n",
       "</style>\n",
       "<table border=\"1\" class=\"dataframe\">\n",
       "  <thead>\n",
       "    <tr style=\"text-align: right;\">\n",
       "      <th></th>\n",
       "      <th>name</th>\n",
       "      <th>categories</th>\n",
       "      <th>avg_stars</th>\n",
       "    </tr>\n",
       "  </thead>\n",
       "  <tbody>\n",
       "    <tr>\n",
       "      <th>0</th>\n",
       "      <td>Chin Chin</td>\n",
       "      <td>Sushi Bars, Chinese, Asian Fusion, Restaurants</td>\n",
       "      <td>3.5</td>\n",
       "    </tr>\n",
       "    <tr>\n",
       "      <th>1</th>\n",
       "      <td>Steak &amp; Spud Factory</td>\n",
       "      <td>Restaurants, Fast Food</td>\n",
       "      <td>3.5</td>\n",
       "    </tr>\n",
       "    <tr>\n",
       "      <th>2</th>\n",
       "      <td>Pin-Up Pizza</td>\n",
       "      <td>Pizza, Restaurants</td>\n",
       "      <td>3.5</td>\n",
       "    </tr>\n",
       "    <tr>\n",
       "      <th>3</th>\n",
       "      <td>Five50 Pizza Bar</td>\n",
       "      <td>Pizza, Restaurants</td>\n",
       "      <td>4.0</td>\n",
       "    </tr>\n",
       "    <tr>\n",
       "      <th>4</th>\n",
       "      <td>Johnny Rockets</td>\n",
       "      <td>Restaurants, Burgers, American (Traditional), ...</td>\n",
       "      <td>3.0</td>\n",
       "    </tr>\n",
       "  </tbody>\n",
       "</table>\n",
       "</div>"
      ],
      "text/plain": [
       "                   name                                         categories  \\\n",
       "0             Chin Chin     Sushi Bars, Chinese, Asian Fusion, Restaurants   \n",
       "1  Steak & Spud Factory                             Restaurants, Fast Food   \n",
       "2          Pin-Up Pizza                                 Pizza, Restaurants   \n",
       "3      Five50 Pizza Bar                                 Pizza, Restaurants   \n",
       "4        Johnny Rockets  Restaurants, Burgers, American (Traditional), ...   \n",
       "\n",
       "   avg_stars  \n",
       "0        3.5  \n",
       "1        3.5  \n",
       "2        3.5  \n",
       "3        4.0  \n",
       "4        3.0  "
      ]
     },
     "execution_count": 76,
     "metadata": {},
     "output_type": "execute_result"
    }
   ],
   "source": [
    "# df_recommended_restaurant = df[df['business_id'].isin(recommended_business_ids)]\n",
    "df_recommended_restaurant = df[df['business_id'].isin(recommended_business_ids)][['name', 'categories', 'avg_stars']]\n",
    "df_recommended_restaurant.drop_duplicates().reset_index(drop=True)"
   ]
  },
  {
   "cell_type": "markdown",
   "metadata": {},
   "source": [
    "## Matrix Factorization recommender\n",
    "\n",
    "#### Use NMF and UVD and compare the results"
   ]
  },
  {
   "cell_type": "code",
   "execution_count": null,
   "metadata": {},
   "outputs": [],
   "source": []
  },
  {
   "cell_type": "markdown",
   "metadata": {},
   "source": [
    "## Other recommenders\n",
    "\n",
    "* Popularity based\n",
    "* Content based\n",
    "* Hybrid"
   ]
  }
 ],
 "metadata": {
  "kernelspec": {
   "display_name": "Python 3",
   "language": "python",
   "name": "python3"
  },
  "language_info": {
   "codemirror_mode": {
    "name": "ipython",
    "version": 3
   },
   "file_extension": ".py",
   "mimetype": "text/x-python",
   "name": "python",
   "nbconvert_exporter": "python",
   "pygments_lexer": "ipython3",
   "version": "3.6.6"
  }
 },
 "nbformat": 4,
 "nbformat_minor": 2
}
