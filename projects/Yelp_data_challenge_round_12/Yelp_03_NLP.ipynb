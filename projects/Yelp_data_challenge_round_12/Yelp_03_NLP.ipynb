{
 "cells": [
  {
   "cell_type": "markdown",
   "metadata": {},
   "source": [
    "# Yelp Dataset Challenge\n",
    "\n",
    "![Yelp Data Challenge](https://s3-media3.fl.yelpcdn.com/assets/srv0/engineering_pages/6d323fc75cb1/assets/img/dataset/960x225_dataset@2x.png)"
   ]
  },
  {
   "cell_type": "markdown",
   "metadata": {},
   "source": [
    "## Natural Language Processing"
   ]
  },
  {
   "cell_type": "code",
   "execution_count": 1,
   "metadata": {},
   "outputs": [],
   "source": [
    "import pandas as pd\n",
    "\n",
    "df = pd.read_csv('last_2_years_restaurant_reviews.csv')"
   ]
  },
  {
   "cell_type": "code",
   "execution_count": 2,
   "metadata": {},
   "outputs": [
    {
     "data": {
      "text/html": [
       "<div>\n",
       "<style scoped>\n",
       "    .dataframe tbody tr th:only-of-type {\n",
       "        vertical-align: middle;\n",
       "    }\n",
       "\n",
       "    .dataframe tbody tr th {\n",
       "        vertical-align: top;\n",
       "    }\n",
       "\n",
       "    .dataframe thead th {\n",
       "        text-align: right;\n",
       "    }\n",
       "</style>\n",
       "<table border=\"1\" class=\"dataframe\">\n",
       "  <thead>\n",
       "    <tr style=\"text-align: right;\">\n",
       "      <th></th>\n",
       "      <th>business_id</th>\n",
       "      <th>name</th>\n",
       "      <th>categories</th>\n",
       "      <th>avg_stars</th>\n",
       "      <th>cool</th>\n",
       "      <th>date</th>\n",
       "      <th>funny</th>\n",
       "      <th>review_id</th>\n",
       "      <th>stars</th>\n",
       "      <th>text</th>\n",
       "      <th>useful</th>\n",
       "      <th>user_id</th>\n",
       "    </tr>\n",
       "  </thead>\n",
       "  <tbody>\n",
       "    <tr>\n",
       "      <th>0</th>\n",
       "      <td>kgffcoxT6BQp-gJ-UQ7Czw</td>\n",
       "      <td>Subway</td>\n",
       "      <td>Fast Food, Restaurants, Sandwiches</td>\n",
       "      <td>2.5</td>\n",
       "      <td>0</td>\n",
       "      <td>2016-07-03</td>\n",
       "      <td>0</td>\n",
       "      <td>c6iTbCMMYWnOd79ZiWwobg</td>\n",
       "      <td>1</td>\n",
       "      <td>I ordered a few 12 inch sandwiches , a turkey ...</td>\n",
       "      <td>1</td>\n",
       "      <td>ih7Dmu7wZpKVwlBRbakJOQ</td>\n",
       "    </tr>\n",
       "    <tr>\n",
       "      <th>1</th>\n",
       "      <td>kgffcoxT6BQp-gJ-UQ7Czw</td>\n",
       "      <td>Subway</td>\n",
       "      <td>Fast Food, Restaurants, Sandwiches</td>\n",
       "      <td>2.5</td>\n",
       "      <td>0</td>\n",
       "      <td>2018-03-10</td>\n",
       "      <td>0</td>\n",
       "      <td>5iDdZvpK4jOv2w5kZ15TUA</td>\n",
       "      <td>1</td>\n",
       "      <td>Worst subway of any I have visited. I have man...</td>\n",
       "      <td>1</td>\n",
       "      <td>m3WBc9bGxn1q1ikAFq8PaA</td>\n",
       "    </tr>\n",
       "    <tr>\n",
       "      <th>2</th>\n",
       "      <td>kgffcoxT6BQp-gJ-UQ7Czw</td>\n",
       "      <td>Subway</td>\n",
       "      <td>Fast Food, Restaurants, Sandwiches</td>\n",
       "      <td>2.5</td>\n",
       "      <td>0</td>\n",
       "      <td>2016-12-26</td>\n",
       "      <td>0</td>\n",
       "      <td>oCUrLS4T-paZBr6WnrXg_A</td>\n",
       "      <td>2</td>\n",
       "      <td>Good luck trying to get the order right. The c...</td>\n",
       "      <td>0</td>\n",
       "      <td>H7bJDtGzhdg1fsmBL4KZWg</td>\n",
       "    </tr>\n",
       "    <tr>\n",
       "      <th>3</th>\n",
       "      <td>kgffcoxT6BQp-gJ-UQ7Czw</td>\n",
       "      <td>Subway</td>\n",
       "      <td>Fast Food, Restaurants, Sandwiches</td>\n",
       "      <td>2.5</td>\n",
       "      <td>0</td>\n",
       "      <td>2016-12-16</td>\n",
       "      <td>0</td>\n",
       "      <td>qXHvWYgL-8yfcGvP_ydKGA</td>\n",
       "      <td>2</td>\n",
       "      <td>Here to get my pick up order at the moment it ...</td>\n",
       "      <td>0</td>\n",
       "      <td>58sXi_0oTgVlM3aUuFYHUA</td>\n",
       "    </tr>\n",
       "    <tr>\n",
       "      <th>4</th>\n",
       "      <td>0jtRI7hVMpQHpUVtUy4ITw</td>\n",
       "      <td>Omelet House Summerlin</td>\n",
       "      <td>Beer, Wine &amp; Spirits, Italian, Food, American ...</td>\n",
       "      <td>4.0</td>\n",
       "      <td>1</td>\n",
       "      <td>2016-12-29</td>\n",
       "      <td>0</td>\n",
       "      <td>j9l7IMJX9bvWjkJ18EWGpg</td>\n",
       "      <td>5</td>\n",
       "      <td>My husband &amp; I were visiting the area, found t...</td>\n",
       "      <td>0</td>\n",
       "      <td>ZS7V0uC4kVrJR_4Yi3oTHA</td>\n",
       "    </tr>\n",
       "  </tbody>\n",
       "</table>\n",
       "</div>"
      ],
      "text/plain": [
       "              business_id                    name  \\\n",
       "0  kgffcoxT6BQp-gJ-UQ7Czw                  Subway   \n",
       "1  kgffcoxT6BQp-gJ-UQ7Czw                  Subway   \n",
       "2  kgffcoxT6BQp-gJ-UQ7Czw                  Subway   \n",
       "3  kgffcoxT6BQp-gJ-UQ7Czw                  Subway   \n",
       "4  0jtRI7hVMpQHpUVtUy4ITw  Omelet House Summerlin   \n",
       "\n",
       "                                          categories  avg_stars  cool  \\\n",
       "0                 Fast Food, Restaurants, Sandwiches        2.5     0   \n",
       "1                 Fast Food, Restaurants, Sandwiches        2.5     0   \n",
       "2                 Fast Food, Restaurants, Sandwiches        2.5     0   \n",
       "3                 Fast Food, Restaurants, Sandwiches        2.5     0   \n",
       "4  Beer, Wine & Spirits, Italian, Food, American ...        4.0     1   \n",
       "\n",
       "         date  funny               review_id  stars  \\\n",
       "0  2016-07-03      0  c6iTbCMMYWnOd79ZiWwobg      1   \n",
       "1  2018-03-10      0  5iDdZvpK4jOv2w5kZ15TUA      1   \n",
       "2  2016-12-26      0  oCUrLS4T-paZBr6WnrXg_A      2   \n",
       "3  2016-12-16      0  qXHvWYgL-8yfcGvP_ydKGA      2   \n",
       "4  2016-12-29      0  j9l7IMJX9bvWjkJ18EWGpg      5   \n",
       "\n",
       "                                                text  useful  \\\n",
       "0  I ordered a few 12 inch sandwiches , a turkey ...       1   \n",
       "1  Worst subway of any I have visited. I have man...       1   \n",
       "2  Good luck trying to get the order right. The c...       0   \n",
       "3  Here to get my pick up order at the moment it ...       0   \n",
       "4  My husband & I were visiting the area, found t...       0   \n",
       "\n",
       "                  user_id  \n",
       "0  ih7Dmu7wZpKVwlBRbakJOQ  \n",
       "1  m3WBc9bGxn1q1ikAFq8PaA  \n",
       "2  H7bJDtGzhdg1fsmBL4KZWg  \n",
       "3  58sXi_0oTgVlM3aUuFYHUA  \n",
       "4  ZS7V0uC4kVrJR_4Yi3oTHA  "
      ]
     },
     "execution_count": 2,
     "metadata": {},
     "output_type": "execute_result"
    }
   ],
   "source": [
    "df.head()"
   ]
  },
  {
   "cell_type": "code",
   "execution_count": 3,
   "metadata": {},
   "outputs": [
    {
     "name": "stdout",
     "output_type": "stream",
     "text": [
      "<class 'pandas.core.frame.DataFrame'>\n",
      "RangeIndex: 398037 entries, 0 to 398036\n",
      "Data columns (total 12 columns):\n",
      "business_id    398037 non-null object\n",
      "name           398037 non-null object\n",
      "categories     398037 non-null object\n",
      "avg_stars      398037 non-null float64\n",
      "cool           398037 non-null int64\n",
      "date           398037 non-null object\n",
      "funny          398037 non-null int64\n",
      "review_id      398037 non-null object\n",
      "stars          398037 non-null int64\n",
      "text           398037 non-null object\n",
      "useful         398037 non-null int64\n",
      "user_id        398037 non-null object\n",
      "dtypes: float64(1), int64(4), object(7)\n",
      "memory usage: 36.4+ MB\n"
     ]
    }
   ],
   "source": [
    "df.info()"
   ]
  },
  {
   "cell_type": "markdown",
   "metadata": {},
   "source": [
    "## Define features"
   ]
  },
  {
   "cell_type": "code",
   "execution_count": 4,
   "metadata": {},
   "outputs": [
    {
     "name": "stdout",
     "output_type": "stream",
     "text": [
      "(398037,)\n",
      "1:\n",
      "I ordered a few 12 inch sandwiches , a turkey and a chicken... wanted avocado...they were out!\n",
      "Really?? This store is in the same parking lot as SMITHS Grocery and these lazy and UNEMPOWERED employees can't take a five'r over there and buy a few avocado's for peoples sandwiches???  Subway needs to look at their policies, training, and allow their people to be able to satisfy their customer's needs....Adios!!\n",
      "2:\n",
      "Worst subway of any I have visited. I have many years of eating at subway all over the country and even in England once. I've had 2 bad experiences here at this location. About a year ago I went in and they had no bread. They claimed that they ran out. How the F does subway run out of bread. It's literally their main item. My 2nd bad experience was 2 days ago. I got stale bread. Again, bread is their main item.  How can they serve stale bread? They really suck at their job!  I would avoid this location and go to any other location.\n",
      "3:\n",
      "Good luck trying to get the order right. The clerks are either high school kids that don't care or don't understand English. Twice I told them I didn't want the sandwich toasted and they kept toasting it anyway. They didn't listen to what I wanted on the sandwichs.  I finally left them abd walked out. Don't waste your time unless your getting the featured sandwich. It seems that all they wanf to make.\n"
     ]
    }
   ],
   "source": [
    "# Take the values of the column that contains review text data, save to a variable named \"documents\"\n",
    "documents = df['text']\n",
    "\n",
    "# inspect your documents, e.g. check the size, take a peek at elements of the numpy array\n",
    "print(documents.shape)\n",
    "print('1:')\n",
    "print(documents[0])\n",
    "print('2:')\n",
    "print(documents[1])\n",
    "print('3:')\n",
    "print(documents[2])"
   ]
  },
  {
   "cell_type": "markdown",
   "metadata": {},
   "source": [
    "## Define target\n",
    "\n",
    "* Target 要是 categorical variable\n",
    "* 可以考慮當 Target 的有 `avg_stars`, `cool`, `funny`, `stars`, `useful`\n",
    "  * 結果只有 `avg_stars` 和 `stars` 合適，其他幾個太多值了"
   ]
  },
  {
   "cell_type": "code",
   "execution_count": 5,
   "metadata": {},
   "outputs": [
    {
     "name": "stdout",
     "output_type": "stream",
     "text": [
      "avg_stars:\n",
      "[2.5 4.  1.5 4.5 3.  2.  3.5 5.  1. ]\n",
      "cool:\n",
      "[  0   1   3   2   9  16  11   7   4  30   6  31  17  28   5   8  37  46\n",
      "  10  36  14  24  20  13  12  18  34  15  39  21  62  43  19  22  27  83\n",
      "  26  80  23  60  54  25  49  29  96  81  71  35  92  38  68  48  47  32\n",
      "  33  52  50  41  70  53  69  65  51  42 172  63  91  82  40  44 170  59\n",
      "  61  58 131  77  88  66  64  56  45  84  75 104  72  73  97  98  78  57\n",
      " 127  76  79  74  55 107 111  67 200 195  87  85 102  89 198 181 101 121\n",
      " 208  90 114  86 227  93 123 207 119 113]\n",
      "funny:\n",
      "[  0   1   2   3  11   7   5   4  19  17   6  10  24  20  26  25   9  12\n",
      "   8  35  14  18  47  41  13  16  62  38  55  39  33  15  53  23  28  29\n",
      "  63  71  22  49  34  27  21  56  32  37  60  46  98  31  44  65  48 102\n",
      "  77  42  68  43  40  59  45  30  88  67  72  84  73  51  99  80 183 160\n",
      "  75  50  36  52  61 181  64  87  74  69  89 182  78  57  70 202  92 105\n",
      "  79]\n",
      "stars:\n",
      "[1 2 5 4 3]\n",
      "useful:\n",
      "[  1   0   2   4   5   3  10  16  12   7  29  31  17   6  20  28  13   8\n",
      "  40  47  11   9  38  34  21  26  25  15  39  14  18  23  24  62  54  19\n",
      "  22  35  36  92  43  50  84  65  42  63  30  27 100  94  51  37  78 111\n",
      "  73  33  59  48  80  41  56  61  46  83  32  44  71  67  55 181  70  45\n",
      "  79  86  53 179  52 107 104  57  58  49 134  97  96  60  88  90  72 113\n",
      "  99  76  81  69  75  66  87  68 141  91  95 112 207 199 127  89 109  64\n",
      " 103 204 200 106 118  98 105 215 143  74 236 102 108  85  82 132 121 136\n",
      " 120]\n"
     ]
    }
   ],
   "source": [
    "# Check the unique values\n",
    "for col in ['avg_stars', 'cool', 'funny', 'stars', 'useful']:\n",
    "    print(col + ':')\n",
    "    print(df[col].unique())"
   ]
  },
  {
   "cell_type": "markdown",
   "metadata": {},
   "source": [
    "### 5 stars and non-5 stars rating"
   ]
  },
  {
   "cell_type": "code",
   "execution_count": 6,
   "metadata": {},
   "outputs": [],
   "source": [
    "# Make a column and take the values, save to a variable named \"target\"\n",
    "df['five stars'] = (df['stars'] > 4)\n",
    "target = df['five stars']"
   ]
  },
  {
   "cell_type": "markdown",
   "metadata": {},
   "source": [
    "#### Summary statistic"
   ]
  },
  {
   "cell_type": "code",
   "execution_count": 7,
   "metadata": {},
   "outputs": [
    {
     "data": {
      "text/plain": [
       "count     398037\n",
       "unique         2\n",
       "top        False\n",
       "freq      202056\n",
       "Name: five stars, dtype: object"
      ]
     },
     "execution_count": 7,
     "metadata": {},
     "output_type": "execute_result"
    }
   ],
   "source": [
    "target.describe()"
   ]
  },
  {
   "cell_type": "code",
   "execution_count": 8,
   "metadata": {},
   "outputs": [
    {
     "data": {
      "text/plain": [
       "(0.4923687998854378, 0.4999423894034161, (398037,))"
      ]
     },
     "execution_count": 8,
     "metadata": {},
     "output_type": "execute_result"
    }
   ],
   "source": [
    "target.mean(), target.std(), target.shape"
   ]
  },
  {
   "cell_type": "markdown",
   "metadata": {},
   "source": [
    "## Train and test splitting"
   ]
  },
  {
   "cell_type": "code",
   "execution_count": 9,
   "metadata": {},
   "outputs": [],
   "source": [
    "from sklearn.model_selection import train_test_split\n",
    "\n",
    "X_train, X_test, y_train, y_test = train_test_split(documents, target, test_size=0.4, random_state=42)"
   ]
  },
  {
   "cell_type": "markdown",
   "metadata": {},
   "source": [
    "## NLP representation\n",
    "\n",
    "1. Create `TfidfVectorizer`, and name it `vectorizer`\n",
    "2. Train the model with your training data\n",
    "3. Use the trained model to transform your test data\n",
    "4. Get the vocab of your tfidf"
   ]
  },
  {
   "cell_type": "code",
   "execution_count": 10,
   "metadata": {},
   "outputs": [],
   "source": [
    "from sklearn.feature_extraction.text import TfidfVectorizer\n",
    "\n",
    "vectorizer = TfidfVectorizer(stop_words = 'english', max_features=5000)\n",
    "vec_train = vectorizer.fit_transform(X_train)\n",
    "vec_test = vectorizer.transform(X_test)\n",
    "vocab = vectorizer.get_feature_names()"
   ]
  },
  {
   "cell_type": "code",
   "execution_count": 11,
   "metadata": {},
   "outputs": [
    {
     "name": "stdout",
     "output_type": "stream",
     "text": [
      "['00', '000', '00pm', '10', '100', '1000', '10am', '10pm', '11', '110', '11am', '11pm', '12', '120', '13', '14', '15', '150', '16', '17', '18', '19', '1am', '1pm', '1st', '20', '200', '2016', '2017', '2018', '21', '215', '21st', '22', '23', '24', '25', '250', '26', '27', '28', '29', '2am', '2nd', '2pm', '30', '300', '30am', '30pm', '31', '32', '33', '34', '35', '36', '38', '39', '3am', '3pm', '3rd', '3x', '40', '400', '42', '45', '45pm', '48', '49', '4pm', '4th', '50', '500', '55', '5pm', '5th', '60', '65', '6pm', '70', '75', '7pm', '80', '85', '8pm', '90', '95', '99', '9am', '9pm', 'ability', 'able', 'absolute', 'absolutely', 'abundance', 'ac', 'acai', 'accent', 'accept', 'acceptable', 'accepted', 'access', 'accessible', 'accident', 'accidentally', 'accommodate', 'accommodated', 'accommodating', 'accompanied', 'accompany', 'accompanying', 'according', 'accordingly', 'account', 'accurate', 'acknowledge', 'acknowledged', 'act', 'acted', 'acting', 'action', 'actual', 'actually', 'ad', 'add', 'added', 'addicted', 'addicting', 'addictive', 'adding', 'addition', 'additional', 'additionally', 'address', 'addressed', 'adds', 'adequate', 'adjust', 'admit', 'adobada', 'adobo', 'adorable', 'adult', 'adults', 'advance', 'advantage', 'adventure', 'adventurous', 'advertise', 'advertised', 'advertising', 'advice', 'advise', 'advised', 'af', 'afford', 'affordable', 'afraid', 'afternoon', 'age', 'aged', 'ages', 'ago', 'agree', 'agreed', 'agua', 'ah', 'ahead', 'ahi', 'ain', 'aioli', 'air', 'airport', 'airy', 'aka', 'al', 'ala', 'alas', 'alaskan', 'albacore', 'albeit', 'alcohol', 'alcoholic', 'ale', 'alex', 'alfredo', 'alike', 'allergic', 'allergies', 'allergy', 'alley', 'allow', 'allowed', 'allowing', 'allows', 'almond', 'aloha', 'alongside', 'alot', 'alright', 'alternative', 'amanda', 'amazed', 'amazing', 'amazingly', 'amber', 'ambiance', 'ambience', 'america', 'american', 'americanized', 'ami', 'amounts', 'ample', 'amuse', 'andrew', 'andy', 'angel', 'angeles', 'angry', 'angus', 'animal', 'anniversary', 'annoyed', 'annoying', 'answer', 'answered', 'answering', 'answers', 'anthony', 'anticipated', 'antipasto', 'anybody', 'anymore', 'anytime', 'anyways', 'apart', 'apologetic', 'apologies', 'apologize', 'apologized', 'apologizing', 'apology', 'app', 'apparent', 'apparently', 'appeal', 'appealing', 'appear', 'appearance', 'appeared', 'appears', 'appetite', 'appetizer', 'appetizers', 'appetizing', 'apple', 'apples', 'appointment', 'appreciate', 'appreciated', 'approach', 'approached', 'appropriate', 'appropriately', 'approximately', 'apps', 'april', 'arcade', 'area', 'areas', 'aren', 'arena', 'arepa', 'arepas', 'argue', 'argued', 'arguing', 'aria', 'arizona', 'arm', 'aroma', 'array', 'arrival', 'arrive', 'arrived', 'arrives', 'arriving', 'art', 'artichoke', 'arts', 'artwork', 'arugula', 'asada', 'asap', 'ashamed', 'ashley', 'asia', 'asian', 'aside', 'ask', 'asked', 'asking', 'asks', 'asparagus', 'aspect', 'ass', 'assist', 'assistance', 'assistant', 'assorted', 'assortment', 'assume', 'assumed', 'assuming', 'assured', 'ate', 'atleast', 'atmosphere', 'atop', 'attached', 'attack', 'attempt', 'attempted', 'attend', 'attendant', 'attended', 'attending', 'attention', 'attentive', 'attitude', 'attitudes', 'attractive', 'au', 'august', 'aunt', 'authentic', 'authenticity', 'automatically', 'available', 'average', 'avocado', 'avocados', 'avoid', 'avoided', 'award', 'aware', 'away', 'awesome', 'awful', 'awhile', 'awkward', 'ayce', 'baba', 'baby', 'babystacks', 'bacchanal', 'bachelor', 'bachelorette', 'bachi', 'backed', 'background', 'bacon', 'bad', 'badly', 'bag', 'bagel', 'bagels', 'bags', 'baguette', 'bahn', 'baja', 'bake', 'baked', 'bakery', 'baklava', 'balance', 'balanced', 'balcony', 'ball', 'balls', 'bally', 'balsamic', 'bamboo', 'banana', 'bananas', 'banchan', 'band', 'bang', 'banh', 'bank', 'bao', 'bar', 'barbacoa', 'barbecue', 'bardot', 'bare', 'barely', 'bargain', 'barista', 'barley', 'barrel', 'bars', 'bartender', 'bartenders', 'base', 'based', 'basic', 'basically', 'basics', 'basil', 'basis', 'basket', 'basketball', 'bass', 'bat', 'batch', 'bathroom', 'bathrooms', 'batter', 'battered', 'bay', 'bazaar', 'bbq', 'bc', 'bday', 'beach', 'bean', 'beans', 'bear', 'beat', 'beaten', 'beats', 'beautiful', 'beautifully', 'beauty', 'bed', 'beef', 'beer', 'beers', 'beet', 'beets', 'began', 'begin', 'beginning', 'behavior', 'behold', 'beignets', 'believe', 'bell', 'bellagio', 'belly', 'belt', 'ben', 'bench', 'benedict', 'benefit', 'benihana', 'benny', 'bento', 'berries', 'berry', 'best', 'bet', 'better', 'beverage', 'beverages', 'beware', 'bf', 'biased', 'bibimbap', 'big', 'bigger', 'biggest', 'biggie', 'bills', 'bird', 'birthday', 'birthdays', 'biryani', 'biscuit', 'biscuits', 'bison', 'bisque', 'bistro', 'bit', 'bitch', 'bite', 'bites', 'bits', 'bitter', 'black', 'blackened', 'blah', 'blame', 'bland', 'blast', 'blaze', 'blend', 'blended', 'bleu', 'blew', 'block', 'blocks', 'blonde', 'blood', 'bloody', 'blow', 'blowing', 'blown', 'blows', 'blt', 'blue', 'blueberries', 'blueberry', 'blvd', 'bo', 'board', 'boat', 'boba', 'bobby', 'boca', 'body', 'bogo', 'boiled', 'boiling', 'bok', 'bold', 'bolognese', 'bomb', 'bombs', 'bone', 'boneless', 'bones', 'bonus', 'boo', 'book', 'booked', 'booking', 'bookmarked', 'books', 'boot', 'booth', 'booths', 'booze', 'border', 'bored', 'boring', 'born', 'boss', 'boston', 'bother', 'bothered', 'bothering', 'bottle', 'bottled', 'bottles', 'bottomless', 'bouchon', 'bought', 'boulevard', 'bourbon', 'bowl', 'bowling', 'bowls', 'box', 'boxed', 'boxes', 'boy', 'boyfriend', 'boyfriends', 'boys', 'brain', 'braised', 'branch', 'brand', 'brandon', 'branzino', 'bravo', 'brazil', 'brazilian', 'bread', 'breaded', 'breading', 'breads', 'breadsticks', 'break', 'breakfast', 'breakfasts', 'breaking', 'breaks', 'breast', 'breath', 'breeze', 'brew', 'brewed', 'brews', 'brian', 'brick', 'brie', 'brief', 'bright', 'brilliant', 'bring', 'bringing', 'brings', 'brio', 'brioche', 'brisket', 'british', 'broccoli', 'broccolini', 'broke', 'broken', 'brooklyn', 'broth', 'brother', 'brothers', 'broths', 'brought', 'brown', 'brownie', 'browns', 'brulee', 'brunch', 'bruschetta', 'brussel', 'brussels', 'bruxie', 'brûlée', 'bs', 'btw', 'bubble', 'bubbly', 'buck', 'bucket', 'bucks', 'bud', 'buddy', 'budget', 'buds', 'bueno', 'buffalo', 'buffet', 'buffets', 'buffett', 'bug', 'bugs', 'build', 'building', 'built', 'bulgogi', 'bull', 'bummed', 'bummer', 'bun', 'bunch', 'buns', 'burger', 'burgers', 'burgr', 'burn', 'burned', 'burning', 'burnt', 'burrata', 'burrito', 'burritos', 'bursting', 'bus', 'busboy', 'busier', 'business', 'businesses', 'busser', 'bussers', 'busy', 'butcher', 'butt', 'butter', 'buttered', 'buttermilk', 'butternut', 'buttery', 'button', 'buy', 'buying', 'buzz', 'bye', 'ca', 'cab', 'cabbage', 'caesar', 'caesars', 'cafe', 'cafeteria', 'café', 'cajun', 'cake', 'cakes', 'cal', 'calamari', 'cali', 'caliber', 'california', 'called', 'calling', 'calls', 'calm', 'calorie', 'calories', 'calzone', 'came', 'canal', 'cancel', 'cancelled', 'candied', 'candle', 'candy', 'cane', 'canes', 'canned', 'cannoli', 'cans', 'cantina', 'cantonese', 'canyon', 'cap', 'capacity', 'capers', 'cappuccino', 'caprese', 'capriotti', 'car', 'caramel', 'caramelized', 'carb', 'carbonara', 'carbs', 'card', 'cardboard', 'cards', 'care', 'cared', 'careful', 'carefully', 'cares', 'caring', 'carlo', 'carlos', 'carne', 'carnitas', 'carpaccio', 'carried', 'carrot', 'carrots', 'carry', 'cars', 'carson', 'cart', 'carte', 'carts', 'carved', 'carving', 'casa', 'case', 'cash', 'cashew', 'cashier', 'cashiers', 'casino', 'casinos', 'castle', 'casual', 'cat', 'catch', 'catching', 'category', 'cater', 'catered', 'catering', 'catfish', 'cattle', 'caught', 'cauliflower', 'cause', 'caused', 'caviar', 'ceasar', 'ceiling', 'celebrate', 'celebrated', 'celebrating', 'celebration', 'celebrity', 'celery', 'cell', 'cent', 'centennial', 'center', 'central', 'cents', 'certain', 'certainly', 'cesar', 'ceviche', 'cha', 'chai', 'chain', 'chains', 'chair', 'chairs', 'challenge', 'champagne', 'chance', 'chances', 'chang', 'change', 'changed', 'changes', 'changing', 'channel', 'char', 'character', 'charcoal', 'charcuterie', 'charge', 'charged', 'charges', 'charging', 'charleston', 'charlie', 'charm', 'charming', 'charred', 'charts', 'chashu', 'chat', 'chatted', 'chatting', 'cheap', 'cheaper', 'cheapest', 'cheat', 'check', 'checked', 'checking', 'checkout', 'checks', 'cheddar', 'cheek', 'cheerful', 'cheers', 'cheese', 'cheeseburger', 'cheesecake', 'cheeses', 'cheesesteak', 'cheesy', 'chef', 'chefs', 'cherry', 'chew', 'chewing', 'chewy', 'chic', 'chicago', 'chick', 'chicken', 'chilaquiles', 'child', 'childhood', 'children', 'chile', 'chilean', 'chili', 'chill', 'chilled', 'chilli', 'chilly', 'chimichanga', 'chimichurri', 'china', 'chinatown', 'chinese', 'chip', 'chipotle', 'chips', 'chive', 'chives', 'chocolate', 'choice', 'choices', 'choose', 'choosing', 'chop', 'chopped', 'chops', 'chopsticks', 'chorizo', 'chose', 'chosen', 'chow', 'chowder', 'choy', 'chris', 'christina', 'christmas', 'chuck', 'chunk', 'chunks', 'chunky', 'church', 'churro', 'churros', 'cider', 'cigarette', 'cilantro', 'cinnamon', 'circus', 'cirque', 'citrus', 'city', 'claim', 'claimed', 'clam', 'clams', 'class', 'classic', 'classics', 'classy', 'claws', 'clean', 'cleaned', 'cleaner', 'cleaning', 'cleanliness', 'clear', 'cleared', 'clearing', 'clearly', 'client', 'clientele', 'clients', 'clock', 'close', 'closed', 'closer', 'closes', 'closest', 'closing', 'clothes', 'club', 'clubs', 'clue', 'clueless', 'coast', 'coated', 'coating', 'cob', 'cobb', 'cobbler', 'cocktail', 'cocktails', 'coconut', 'cod', 'code', 'coffee', 'coffees', 'coke', 'cold', 'cole', 'coleslaw', 'collard', 'colleagues', 'college', 'color', 'colored', 'colorful', 'colors', 'com', 'coma', 'combination', 'combinations', 'combined', 'combo', 'combos', 'come', 'comes', 'comfort', 'comfortable', 'comforting', 'comfy', 'comida', 'coming', 'comment', 'commented', 'comments', 'commercial', 'common', 'communicate', 'communication', 'community', 'comp', 'companion', 'company', 'comparable', 'compare', 'compared', 'compares', 'comparing', 'comparison', 'comped', 'competition', 'competitive', 'complain', 'complained', 'complaining', 'complaint', 'complaints', 'complement', 'complementary', 'complemented', 'complete', 'completed', 'completely', 'complex', 'complicated', 'compliment', 'complimentary', 'complimented', 'compliments', 'computer', 'concept', 'concern', 'concerned', 'concerns', 'concert', 'conclusion', 'concoction', 'condescending', 'condiment', 'condiments', 'conditioning', 'cone', 'conference', 'confirm', 'confirmed', 'confit', 'confused', 'confusing', 'confusion', 'connected', 'connoisseur', 'cons', 'conscious', 'consider', 'considered', 'considering', 'consisted', 'consistency', 'consistent', 'consistently', 'consists', 'constant', 'constantly', 'construction', 'contact', 'contacted', 'contained', 'container', 'containers', 'contemporary', 'content', 'continue', 'continued', 'continues', 'contrast', 'control', 'convenience', 'convenient', 'conveniently', 'convention', 'conversation', 'conversations', 'conveyor', 'convinced', 'cook', 'cooked', 'cookie', 'cookies', 'cooking', 'cooks', 'cool', 'cooler', 'coolest', 'corn', 'cornbread', 'corned', 'corner', 'corporate', 'correct', 'corrected', 'correctly', 'cosmo', 'cosmopolitan', 'cost', 'costco', 'costs', 'costumer', 'cotta', 'cotton', 'couch', 'couches', 'couldn', 'count', 'counter', 'counting', 'country', 'county', 'couple', 'couples', 'coupon', 'coupons', 'course', 'courses', 'court', 'courteous', 'courtesy', 'cousin', 'cousins', 'cover', 'covered', 'covers', 'cow', 'coworker', 'coworkers', 'coz', 'cozy', 'crab', 'crabs', 'crack', 'cracked', 'cracker', 'crackers', 'craft', 'crafted', 'cramped', 'cranberry', 'crap', 'crappy', 'crave', 'craving', 'cravings', 'crawfish', 'crazy', 'cream', 'creamed', 'creamy', 'create', 'created', 'creating', 'creation', 'creations', 'creative', 'creativity', 'credit', 'creme', 'crepe', 'crepes', 'crew', 'crinkle', 'crisp', 'crispy', 'croissant', 'croissants', 'croque', 'cross', 'croutons', 'crowd', 'crowded', 'crowds', 'crumbs', 'crunch', 'crunchy', 'crushed', 'crust', 'crusted', 'crusty', 'crying', 'crème', 'cuban', 'cubes', 'cucumber', 'cucumbers', 'cuisine', 'cuisines', 'culinary', 'culture', 'cup', 'cupcakes', 'cups', 'cure', 'curious', 'curly', 'current', 'currently', 'curries', 'curry', 'custard', 'custom', 'customer', 'customers', 'customize', 'customized', 'cut', 'cute', 'cuts', 'cutting', 'cuz', 'da', 'dad', 'daddy', 'daily', 'dairy', 'damn', 'dan', 'dance', 'dancing', 'dang', 'daniel', 'dare', 'dark', 'darn', 'date', 'dated', 'dates', 'daughter', 'daughters', 'dave', 'david', 'day', 'days', 'dead', 'deal', 'dealing', 'deals', 'dealt', 'dear', 'death', 'debit', 'decadent', 'decatur', 'december', 'decent', 'decently', 'decide', 'decided', 'deciding', 'decision', 'declined', 'decor', 'decorated', 'decoration', 'decorations', 'dedicated', 'deep', 'def', 'defiantly', 'definately', 'definite', 'definitely', 'degree', 'degrees', 'del', 'delay', 'delectable', 'deli', 'delicate', 'delicious', 'deliciously', 'deliciousness', 'delight', 'delighted', 'delightful', 'delish', 'deliver', 'delivered', 'delivering', 'delivers', 'delivery', 'demand', 'demeanor', 'denied', 'denny', 'dennys', 'dense', 'dente', 'department', 'depending', 'depends', 'depth', 'descent', 'described', 'description', 'descriptions', 'desert', 'deserts', 'deserve', 'deserved', 'deserves', 'design', 'designed', 'desire', 'desired', 'desk', 'despite', 'dessert', 'desserts', 'destination', 'detailed', 'details', 'deviled', 'devoured', 'di', 'diablo', 'diamond', 'diarrhea', 'diced', 'did', 'didn', 'didnt', 'die', 'died', 'diego', 'diet', 'dietary', 'difference', 'different', 'differently', 'difficult', 'dig', 'dill', 'dim', 'dime', 'dimly', 'dimsum', 'dine', 'dined', 'diner', 'diners', 'dining', 'dinner', 'dinners', 'dinning', 'dip', 'dipped', 'dipping', 'dips', 'direct', 'directed', 'direction', 'directions', 'directly', 'dirt', 'dirty', 'disappeared', 'disappoint', 'disappointed', 'disappointing', 'disappointment', 'disappoints', 'disaster', 'discount', 'discounted', 'discounts', 'discover', 'discovered', 'disgusted', 'disgusting', 'dish', 'dishes', 'dislike', 'disorganized', 'display', 'displayed', 'disrespectful', 'dissapointed', 'dissatisfied', 'distance', 'distinct', 'district', 'dive', 'diverse', 'divine', 'dj', 'doctor', 'does', 'doesn', 'doesnt', 'dog', 'dogs', 'doing', 'dollar', 'dollars', 'don', 'dont', 'donut', 'donuts', 'door', 'doors', 'dope', 'double', 'doubt', 'dough', 'doughnuts', 'doughy', 'downfall', 'downhill', 'downside', 'downstairs', 'downtown', 'dozen', 'dozens', 'dr', 'draft', 'dragon', 'drank', 'draw', 'drawback', 'drawn', 'dream', 'dreaming', 'dreams', 'drenched', 'dress', 'dressed', 'dressing', 'dressings', 'dried', 'drink', 'drinker', 'drinking', 'drinks', 'dripping', 'drive', 'driven', 'driver', 'drivers', 'driving', 'drizzle', 'drizzled', 'drop', 'dropped', 'dropping', 'drops', 'drove', 'drunk', 'drunken', 'dry', 'du', 'duck', 'dude', 'duh', 'dumb', 'dump', 'dumped', 'dumpling', 'dumplings', 'durango', 'dust', 'duty', 'dying', 'dynamite', 'décor', 'eager', 'ear', 'earl', 'earlier', 'early', 'earn', 'earned', 'earth', 'ease', 'easier', 'easily', 'east', 'easter', 'eastern', 'easy', 'eat', 'eat24', 'eaten', 'eater', 'eateries', 'eaters', 'eatery', 'eating', 'eats', 'echo', 'eclectic', 'edamame', 'edge', 'edges', 'edible', 'edit', 'eel', 'effect', 'efficient', 'effort', 'egg', 'eggplant', 'eggs', 'eggslut', 'eh', 'eiffel', 'el', 'elegant', 'elevated', 'elevator', 'elevators', 'ellis', 'elote', 'em', 'email', 'embarrassed', 'embarrassing', 'empanada', 'empanadas', 'employee', 'employees', 'en', 'enchilada', 'enchiladas', 'encore', 'encounter', 'encountered', 'encourage', 'end', 'ended', 'ending', 'endless', 'ends', 'energetic', 'energy', 'engaged', 'engaging', 'england', 'english', 'enjoy', 'enjoyable', 'enjoyed', 'enjoying', 'enjoys', 'enormous', 'ensure', 'enter', 'entered', 'entering', 'entertained', 'entertaining', 'entertainment', 'enthusiastic', 'entire', 'entirely', 'entrance', 'entree', 'entrees', 'entry', 'entrée', 'environment', 'epic', 'equal', 'equally', 'equivalent', 'eric', 'error', 'es', 'escape', 'escargot', 'esp', 'especially', 'espresso', 'essentially', 'establishment', 'establishments', 'ethiopian', 'european', 'eve', 'evening', 'event', 'events', 'eventually', 'everybody', 'everyday', 'everytime', 'ew', 'exact', 'exactly', 'example', 'excalibur', 'exceeded', 'excellent', 'exception', 'exceptional', 'exceptionally', 'excessive', 'exchange', 'excited', 'excitement', 'exciting', 'excuse', 'excuses', 'executed', 'execution', 'executive', 'exist', 'existent', 'exit', 'exotic', 'expand', 'expanded', 'expect', 'expectation', 'expectations', 'expected', 'expecting', 'expensive', 'experience', 'experienced', 'experiences', 'experiencing', 'expert', 'explain', 'explained', 'explaining', 'explanation', 'explore', 'express', 'exquisite', 'extended', 'extensive', 'exterior', 'extra', 'extraordinary', 'extras', 'extreme', 'extremely', 'eye', 'eyes', 'fabulous', 'face', 'facebook', 'faces', 'facility', 'facing', 'fact', 'factor', 'factory', 'fail', 'failed', 'fails', 'fair', 'fairfax', 'fairly', 'fajita', 'fajitas', 'fake', 'falafel', 'fall', 'falling', 'falls', 'false', 'fam', 'familiar', 'families', 'family', 'famous', 'fan', 'fancy', 'fans', 'fantastic', 'far', 'fare', 'farm', 'farmer', 'fashion', 'fashioned', 'fast', 'faster', 'fat', 'father', 'fatty', 'fault', 'fav', 'fave', 'faves', 'favor', 'favorite', 'favorites', 'favourite', 'favs', 'fear', 'feast', 'feature', 'featured', 'features', 'featuring', 'february', 'fed', 'fee', 'feed', 'feedback', 'feel', 'feeling', 'feelings', 'feels', 'fees', 'feet', 'fell', 'fellow', 'felt', 'female', 'feta', 'fettuccine', 'fiance', 'fiancé', 'fieri', 'fiesta', 'fig', 'fight', 'figure', 'figured', 'fil', 'filet', 'filipino', 'filled', 'fillet', 'filling', 'fillings', 'fills', 'filthy', 'fin', 'final', 'finally', 'finding', 'fine', 'finest', 'finger', 'fingers', 'finish', 'finished', 'finishing', 'fired', 'firm', 'fish', 'fishy', 'fit', 'fits', 'fix', 'fixe', 'fixed', 'fixings', 'flag', 'flagged', 'flair', 'flakes', 'flaky', 'flaming', 'flamingo', 'flan', 'flank', 'flat', 'flatbread', 'flautas', 'flavor', 'flavored', 'flavorful', 'flavoring', 'flavorless', 'flavors', 'flavour', 'flawless', 'flay', 'flies', 'flight', 'flip', 'floating', 'flock', 'floor', 'floors', 'florida', 'flour', 'flow', 'flower', 'flowers', 'flowing', 'fluffy', 'fly', 'flying', 'foam', 'focus', 'focused', 'foie', 'folks', 'follow', 'followed', 'following', 'fond', 'fondue', 'food', 'foodie', 'foodies', 'foods', 'fool', 'fooled', 'foot', 'football', 'force', 'forced', 'forever', 'forget', 'forgettable', 'forgetting', 'forgot', 'forgotten', 'fork', 'forks', 'form', 'formal', 'forth', 'fortunate', 'fortunately', 'fortune', 'forum', 'forward', 'foster', 'fountain', 'fountains', 'fourth', 'france', 'franchise', 'francisco', 'frank', 'frankly', 'freakin', 'freaking', 'free', 'freemont', 'freezer', 'fremont', 'french', 'frequent', 'frequently', 'fresca', 'fresh', 'fresher', 'freshest', 'freshly', 'freshness', 'friday', 'fridays', 'fridge', 'fried', 'friend', 'friendlier', 'friendliest', 'friendliness', 'friendly', 'friends', 'fries', 'frills', 'frites', 'fritters', 'frosting', 'frozen', 'fruit', 'fruits', 'fruity', 'frustrated', 'frustrating', 'fry', 'fryer', 'fu', 'fuck', 'fucking', 'fulfilling', 'fully', 'fun', 'funky', 'funny', 'furikake', 'furniture', 'fusion', 'fuss', 'future', 'fyi', 'gabi', 'gal', 'gallo', 'gamble', 'gambling', 'game', 'games', 'gaming', 'garage', 'garbage', 'garden', 'garlic', 'garlicky', 'garnish', 'gas', 'gave', 'gelato', 'gem', 'general', 'generally', 'generic', 'generous', 'generously', 'genius', 'gentleman', 'gentlemen', 'genuine', 'genuinely', 'george', 'german', 'gesture', 'gets', 'getting', 'gf', 'ghetto', 'giada', 'giant', 'gift', 'gigantic', 'gin', 'ginger', 'giordano', 'girl', 'girlfriend', 'girlfriends', 'girls', 'given', 'gives', 'giving', 'glad', 'gladly', 'glance', 'glass', 'glasses', 'glaze', 'glazed', 'gloves', 'gluten', 'gm', 'gnocchi', 'goat', 'god', 'goes', 'going', 'gold', 'golden', 'golf', 'gone', 'gonna', 'good', 'goodies', 'goodness', 'goods', 'gooey', 'google', 'gordo', 'gordon', 'gorgeous', 'gosh', 'got', 'gotta', 'gotten', 'gourmet', 'grab', 'grabbed', 'grabbing', 'grace', 'gracious', 'grade', 'grain', 'grand', 'grandma', 'grandmother', 'granola', 'granted', 'grape', 'grapefruit', 'gras', 'grass', 'grateful', 'gratin', 'gratuity', 'gravy', 'grease', 'greasy', 'great', 'greatest', 'greatly', 'greek', 'green', 'greens', 'greet', 'greeted', 'greeting', 'greets', 'grew', 'grey', 'grill', 'grille', 'grilled', 'grimaldi', 'gripe', 'grits', 'grocery', 'gross', 'ground', 'group', 'groupon', 'groups', 'growing', 'grown', 'grub', 'grubhub', 'guac', 'guacamole', 'guarantee', 'guaranteed', 'guard', 'guava', 'guess', 'guessing', 'guest', 'guests', 'guide', 'guilty', 'gumbo', 'guy', 'guys', 'gym', 'gyoza', 'gyro', 'gyros', 'ha', 'habanero', 'habit', 'hadn', 'haha', 'hainan', 'hair', 'hakkasan', 'halal', 'half', 'halfway', 'halibut', 'hall', 'hallway', 'halo', 'ham', 'hamachi', 'hamburger', 'hamburgers', 'hand', 'handed', 'handful', 'handle', 'handled', 'handling', 'handmade', 'hands', 'hang', 'hanging', 'hangout', 'hangover', 'hangry', 'happen', 'happened', 'happening', 'happens', 'happier', 'happily', 'happy', 'hard', 'harder', 'hardly', 'harvest', 'hash', 'hashbrowns', 'hasn', 'hassle', 'hat', 'hate', 'hated', 'hats', 'haven', 'having', 'hawaii', 'hawaiian', 'hazelnut', 'head', 'headache', 'headed', 'heading', 'heads', 'health', 'healthier', 'healthy', 'hear', 'heard', 'hearing', 'heart', 'hearts', 'hearty', 'heat', 'heated', 'heaven', 'heavenly', 'heavily', 'heavy', 'heck', 'hefty', 'heirloom', 'held', 'hell', 'hella', 'hello', 'hells', 'help', 'helped', 'helpful', 'helping', 'helps', 'henderson', 'herb', 'herbs', 'hesitant', 'hesitate', 'hesitation', 'hexx', 'hey', 'hh', 'hi', 'hibachi', 'hidden', 'hide', 'high', 'higher', 'highest', 'highlight', 'highlights', 'highly', 'hilarious', 'hill', 'hills', 'hint', 'hip', 'hipster', 'hire', 'hiring', 'hispanic', 'history', 'hit', 'hits', 'hitting', 'hobak', 'hockey', 'hokkaido', 'hold', 'holding', 'holds', 'hole', 'holes', 'holiday', 'holidays', 'hollandaise', 'hollywood', 'holy', 'home', 'homeless', 'homemade', 'hometown', 'homey', 'honest', 'honestly', 'honesty', 'honey', 'hong', 'honor', 'hook', 'hookah', 'hooked', 'hooters', 'hop', 'hope', 'hoped', 'hopefully', 'hopes', 'hoping', 'horchata', 'horrendous', 'horrible', 'horribly', 'horseradish', 'hospitable', 'hospital', 'hospitality', 'host', 'hostess', 'hostesses', 'hosts', 'hot', 'hotdog', 'hotdogs', 'hotel', 'hotels', 'hotter', 'hour', 'hours', 'house', 'housemade', 'houses', 'hr', 'hrs', 'hub', 'hubby', 'hubs', 'hue', 'huevos', 'huge', 'hugo', 'human', 'humble', 'hummus', 'humor', 'hundreds', 'hung', 'hunger', 'hungover', 'hungry', 'hunt', 'hurry', 'hurt', 'husband', 'husbands', 'hush', 'hustle', 'hut', 'hype', 'hyped', 'ice', 'iceberg', 'iced', 'icing', 'id', 'idea', 'ideal', 'idk', 'ignore', 'ignored', 'ignoring', 'ihop', 'ikea', 'ill', 'im', 'imagine', 'imitation', 'immediate', 'immediately', 'imo', 'impatient', 'impeccable', 'important', 'importantly', 'impossible', 'impress', 'impressed', 'impression', 'impressive', 'improve', 'improved', 'improvement', 'inattentive', 'inch', 'inches', 'incident', 'include', 'included', 'includes', 'including', 'incompetent', 'inconsistent', 'inconvenience', 'incorrect', 'increase', 'incredible', 'incredibly', 'india', 'indian', 'individual', 'individually', 'indoor', 'indulge', 'industrial', 'industry', 'inedible', 'inexpensive', 'info', 'inform', 'information', 'informative', 'informed', 'infused', 'ingredient', 'ingredients', 'initial', 'initially', 'ink', 'innovative', 'inquired', 'ins', 'insane', 'insanely', 'inside', 'insisted', 'inspired', 'instagram', 'instant', 'instantly', 'instead', 'instructions', 'insult', 'intended', 'intense', 'interaction', 'interested', 'interesting', 'interior', 'intimate', 'introduce', 'introduced', 'invited', 'inviting', 'involved', 'ipa', 'ipad', 'irish', 'iron', 'irritated', 'ish', 'island', 'isn', 'isnt', 'issue', 'issues', 'italian', 'italy', 'item', 'items', 'ive', 'izakaya', 'jack', 'jalapeno', 'jalapenos', 'jalapeño', 'jalapeños', 'jam', 'jamaican', 'jambalaya', 'james', 'january', 'japan', 'japanese', 'jar', 'jasmine', 'jason', 'javier', 'jazz', 'jean', 'jeff', 'jelly', 'jennifer', 'jerk', 'jerky', 'jersey', 'jessica', 'jesus', 'jimmy', 'jinya', 'job', 'jobs', 'joe', 'joel', 'john', 'johnny', 'join', 'joined', 'joint', 'joints', 'joke', 'jokes', 'joking', 'jones', 'jose', 'josh', 'journey', 'joy', 'jr', 'juan', 'judge', 'juice', 'juices', 'juicy', 'july', 'jumbo', 'jump', 'jumped', 'jun', 'june', 'jus', 'just', 'justice', 'justify', 'justin', 'ka', 'kabob', 'kabobs', 'kalbi', 'kale', 'kalua', 'kama', 'karaage', 'karaoke', 'kare', 'katsu', 'kbbq', 'kebab', 'keeping', 'keeps', 'kenny', 'kept', 'ketchup', 'kevin', 'key', 'kfc', 'kha', 'kick', 'kicked', 'kid', 'kidding', 'kids', 'kill', 'killed', 'killer', 'kim', 'kimchee', 'kimchi', 'kind', 'kinda', 'kindly', 'kinds', 'king', 'kinks', 'kitchen', 'knew', 'knife', 'knights', 'knock', 'knocked', 'knots', 'know', 'knowing', 'knowledgable', 'knowledge', 'knowledgeable', 'known', 'knows', 'kobe', 'kona', 'kong', 'korea', 'korean', 'kosher', 'kudos', 'kung', 'la', 'labeled', 'labor', 'lack', 'lacked', 'lacking', 'lackluster', 'lacks', 'ladies', 'lady', 'laid', 'lake', 'lamb', 'lame', 'lamp', 'lamps', 'land', 'landed', 'language', 'larb', 'large', 'larger', 'largest', 'las', 'lasagna', 'lastly', 'late', 'lately', 'later', 'latest', 'latin', 'latte', 'lattes', 'laugh', 'laughed', 'laughing', 'lava', 'lavender', 'law', 'layer', 'layered', 'layers', 'layout', 'lazy', 'lb', 'le', 'lead', 'leaf', 'lean', 'learn', 'learned', 'leather', 'leave', 'leaves', 'leaving', 'leches', 'lechon', 'led', 'lee', 'left', 'leftover', 'leftovers', 'leg', 'legit', 'legs', 'lemon', 'lemonade', 'lemongrass', 'lemons', 'lengua', 'lesson', 'let', 'lets', 'letting', 'lettuce', 'level', 'levels', 'license', 'lie', 'lied', 'life', 'light', 'lighter', 'lighting', 'lightly', 'lights', 'like', 'liked', 'likely', 'likes', 'liking', 'lil', 'lime', 'limes', 'limit', 'limited', 'limp', 'line', 'lines', 'linguine', 'linguini', 'link', 'links', 'linq', 'liquid', 'liquor', 'lisa', 'list', 'listed', 'listen', 'listened', 'listening', 'lit', 'literally', 'little', 'live', 'lived', 'lively', 'liver', 'lives', 'living', 'll', 'lo', 'load', 'loaded', 'loaf', 'lobby', 'lobster', 'local', 'locally', 'locals', 'located', 'location', 'locations', 'locked', 'loco', 'lol', 'lola', 'long', 'longer', 'longest', 'look', 'looked', 'looking', 'looks', 'loose', 'lord', 'los', 'lose', 'losing', 'loss', 'lost', 'lot', 'lots', 'lotus', 'loud', 'loudly', 'louisiana', 'lounge', 'lousy', 'love', 'loved', 'lovely', 'lover', 'lovers', 'loves', 'loving', 'low', 'lower', 'lox', 'loyal', 'loyalty', 'luck', 'luckily', 'lucky', 'luke', 'lukewarm', 'lumpia', 'lunch', 'lunches', 'lunchtime', 'lux', 'luxor', 'lv', 'lychee', 'lyft', 'lying', 'ma', 'mac', 'macaron', 'macaroni', 'macarons', 'macaroons', 'machine', 'machines', 'mad', 'madness', 'magic', 'magical', 'magnificent', 'mahi', 'mai', 'mail', 'main', 'maine', 'mainly', 'mains', 'maintained', 'major', 'majority', 'make', 'maker', 'makes', 'making', 'male', 'mall', 'mama', 'mamas', 'man', 'manage', 'managed', 'management', 'manager', 'managers', 'mandalay', 'mandarin', 'manger', 'mango', 'manhattan', 'manner', 'maple', 'marc', 'march', 'margarita', 'margaritas', 'margherita', 'maria', 'marinara', 'marinated', 'mario', 'mark', 'marked', 'market', 'marks', 'married', 'marrow', 'marsala', 'martini', 'martinis', 'mary', 'maryland', 'masala', 'mash', 'mashed', 'mason', 'massive', 'master', 'match', 'matcha', 'matched', 'matt', 'matter', 'matters', 'max', 'maybe', 'mayo', 'mayonnaise', 'mc', 'mcdonald', 'mcdonalds', 'meal', 'meals', 'mean', 'meaning', 'means', 'meant', 'meat', 'meatball', 'meatballs', 'meatloaf', 'meats', 'meaty', 'med', 'media', 'mediocre', 'mediterranean', 'medium', 'meet', 'meeting', 'meets', 'meh', 'mein', 'melon', 'melt', 'melted', 'melting', 'melts', 'member', 'members', 'memorable', 'memories', 'memory', 'men', 'mention', 'mentioned', 'mentioning', 'menu', 'menudo', 'menus', 'mesa', 'mess', 'message', 'messed', 'messy', 'met', 'metal', 'metro', 'mex', 'mexican', 'mexico', 'mgm', 'mi', 'miami', 'michael', 'michelada', 'micheladas', 'michelin', 'michelle', 'microwave', 'microwaved', 'mid', 'middle', 'midnight', 'mignon', 'mike', 'mild', 'mile', 'miles', 'military', 'milk', 'milkshake', 'milkshakes', 'million', 'mimosa', 'mimosas', 'min', 'minced', 'mind', 'mini', 'minimal', 'minimum', 'minor', 'mins', 'mint', 'minus', 'minute', 'minutes', 'miracle', 'mirage', 'miserable', 'misleading', 'miso', 'miss', 'missed', 'missing', 'mission', 'mistake', 'mistakes', 'mix', 'mixed', 'mixing', 'mixture', 'mlife', 'mmm', 'mmmm', 'mobile', 'mocha', 'mochi', 'moco', 'moderately', 'modern', 'moist', 'mojito', 'mole', 'mom', 'moment', 'moments', 'momofuku', 'moms', 'mon', 'monday', 'money', 'mongolian', 'monkey', 'monster', 'monta', 'monte', 'month', 'months', 'mood', 'moon', 'mores', 'morimoto', 'morning', 'mornings', 'moscow', 'mother', 'mountain', 'mousse', 'mouth', 'mouths', 'mouthwatering', 'moved', 'moves', 'movie', 'movies', 'moving', 'mozzarella', 'mr', 'msg', 'muffin', 'muffins', 'mule', 'multiple', 'munchies', 'mush', 'mushroom', 'mushrooms', 'mushy', 'music', 'mussels', 'mustard', 'musubi', 'muy', 'naan', 'nacho', 'nachos', 'nail', 'nailed', 'nails', 'naked', 'named', 'names', 'napkin', 'napkins', 'nasty', 'national', 'native', 'natural', 'naturally', 'near', 'nearby', 'nearly', 'neat', 'necessarily', 'necessary', 'neck', 'need', 'needed', 'needing', 'needless', 'needs', 'negative', 'neighborhood', 'neighbors', 'neon', 'nerve', 'nervous', 'network', 'nevada', 'new', 'newer', 'newly', 'news', 'nice', 'nicely', 'nicer', 'nicest', 'nick', 'nicole', 'niece', 'night', 'nightclub', 'nightmare', 'nights', 'nigiri', 'nobu', 'noise', 'noisy', 'nom', 'non', 'nonetheless', 'noodle', 'noodles', 'noon', 'nope', 'nora', 'nori', 'norm', 'normal', 'normally', 'north', 'northern', 'northwest', 'nose', 'notch', 'note', 'noted', 'notes', 'notice', 'noticed', 'notified', 'nugget', 'nuggets', 'number', 'numerous', 'nut', 'nutella', 'nuts', 'nv', 'ny', 'nyc', 'oatmeal', 'obnoxious', 'obsessed', 'obvious', 'obviously', 'occasion', 'occasionally', 'occasions', 'occupied', 'ocean', 'october', 'octopus', 'odd', 'oddly', 'offer', 'offered', 'offering', 'offerings', 'offers', 'office', 'oh', 'oil', 'oily', 'oj', 'ok', 'okay', 'okra', 'ol', 'old', 'older', 'olive', 'olives', 'omakase', 'omelet', 'omelets', 'omelette', 'omelettes', 'omg', 'ones', 'onion', 'onions', 'online', 'ono', 'ons', 'open', 'opened', 'opening', 'opens', 'operated', 'operation', 'opinion', 'opportunity', 'opposed', 'opposite', 'opt', 'opted', 'option', 'options', 'orange', 'order', 'ordered', 'ordering', 'orders', 'ordinary', 'oreo', 'oreos', 'organic', 'organized', 'oriented', 'original', 'originally', 'orleans', 'oscar', 'ounce', 'outback', 'outdated', 'outdoor', 'outdoors', 'outer', 'outlet', 'outlets', 'outrageous', 'outside', 'outstanding', 'oven', 'overall', 'overbearing', 'overcooked', 'overdone', 'overheard', 'overlooked', 'overlooking', 'overly', 'overpowered', 'overpowering', 'overpriced', 'overrated', 'overs', 'overwhelmed', 'overwhelming', 'owned', 'owner', 'owners', 'ownership', 'owns', 'ox', 'oxtail', 'oyster', 'oysters', 'oz', 'pace', 'pack', 'package', 'packaged', 'packed', 'packets', 'pad', 'paella', 'page', 'paid', 'pain', 'pair', 'paired', 'pairing', 'pairings', 'palace', 'palate', 'palazzo', 'palette', 'palm', 'palms', 'pan', 'panang', 'pancake', 'pancakes', 'panda', 'paneer', 'panera', 'panini', 'panna', 'pants', 'pao', 'papa', 'papaya', 'paper', 'par', 'para', 'paradise', 'parents', 'parfait', 'paris', 'park', 'parked', 'parking', 'parm', 'parmesan', 'parmigiana', 'parsley', 'particular', 'particularly', 'parties', 'partner', 'parts', 'party', 'pass', 'passed', 'passing', 'passion', 'passionate', 'past', 'pasta', 'pastas', 'paste', 'pastor', 'pastrami', 'pastries', 'pastry', 'pasty', 'pate', 'path', 'pathetic', 'patience', 'patient', 'patiently', 'patio', 'patrick', 'patron', 'patrons', 'patties', 'patty', 'paul', 'pawn', 'pay', 'payed', 'paying', 'payment', 'pea', 'peach', 'peak', 'peanut', 'peanuts', 'pear', 'peas', 'pecan', 'peel', 'peking', 'penne', 'penny', 'people', 'pepper', 'peppercorn', 'peppermill', 'pepperoni', 'peppers', 'pepsi', 'percent', 'perfect', 'perfection', 'perfectly', 'period', 'persian', 'person', 'personable', 'personal', 'personality', 'personally', 'peruvian', 'pesto', 'pet', 'petite', 'phenomenal', 'philly', 'pho', 'phone', 'phones', 'photo', 'photos', 'pic', 'piccata', 'pick', 'picked', 'picking', 'pickle', 'pickled', 'pickles', 'picks', 'pickup', 'picky', 'pico', 'pics', 'picture', 'pictured', 'pictures', 'pie', 'piece', 'pieces', 'pies', 'pig', 'pile', 'piled', 'pineapple', 'pink', 'pinot', 'pint', 'piping', 'pissed', 'pistachio', 'pit', 'pita', 'pitcher', 'pizza', 'pizzas', 'pizzeria', 'place', 'placed', 'places', 'placing', 'plain', 'plan', 'plane', 'planet', 'planned', 'planning', 'plans', 'plant', 'plantains', 'plastic', 'plate', 'plated', 'plates', 'plating', 'platter', 'platters', 'play', 'played', 'player', 'players', 'playing', 'plays', 'plaza', 'pleasant', 'pleasantly', 'pleased', 'pleasing', 'pleasure', 'plentiful', 'plenty', 'plump', 'plus', 'pm', 'po', 'poached', 'poblano', 'pocket', 'point', 'pointed', 'points', 'poisoning', 'poke', 'poker', 'polenta', 'policy', 'polish', 'polite', 'politely', 'pollo', 'pomegranate', 'pong', 'ponzu', 'pool', 'poor', 'poorly', 'pop', 'popcorn', 'popeyes', 'popped', 'poppers', 'popping', 'pops', 'popular', 'por', 'pork', 'port', 'porterhouse', 'portion', 'portioned', 'portions', 'portobello', 'portuguese', 'positive', 'possible', 'possibly', 'post', 'posted', 'posting', 'postmates', 'pot', 'potato', 'potatoes', 'potential', 'pots', 'potstickers', 'pound', 'pounds', 'pour', 'poured', 'pouring', 'poutine', 'powder', 'powdered', 'power', 'ppl', 'practically', 'practice', 'praise', 'prawn', 'prawns', 'pre', 'prefer', 'preference', 'preferences', 'preferred', 'pregnant', 'premium', 'prep', 'preparation', 'prepare', 'prepared', 'preparing', 'presence', 'present', 'presentation', 'presented', 'press', 'pressed', 'pressure', 'pretentious', 'pretty', 'pretzel', 'pretzels', 'previous', 'previously', 'price', 'priced', 'prices', 'pricey', 'pricier', 'pricing', 'pricy', 'pride', 'primarily', 'prime', 'print', 'prior', 'priority', 'privacy', 'private', 'prix', 'pro', 'prob', 'probably', 'problem', 'problems', 'proceeded', 'process', 'processed', 'produce', 'product', 'products', 'professional', 'professionalism', 'profile', 'program', 'promenade', 'promise', 'promised', 'promo', 'promotion', 'prompt', 'promptly', 'proper', 'properly', 'property', 'props', 'pros', 'prosciutto', 'prosecco', 'protein', 'proteins', 'proud', 'provide', 'provided', 'provides', 'providing', 'provolone', 'proximity', 'ps', 'pt', 'pub', 'public', 'puck', 'pudding', 'puerto', 'puff', 'puffs', 'pull', 'pulled', 'pulling', 'pumpkin', 'punch', 'puppies', 'pupusas', 'purchase', 'purchased', 'pure', 'puree', 'purple', 'purpose', 'purse', 'purée', 'push', 'pushed', 'pushing', 'pushy', 'puts', 'putting', 'quail', 'quaint', 'quality', 'quantity', 'quarter', 'que', 'queen', 'quesadilla', 'quesadillas', 'queso', 'question', 'questionable', 'questioned', 'questions', 'quiche', 'quick', 'quicker', 'quickly', 'quiet', 'quinoa', 'quit', 'quite', 'quoted', 'rabbit', 'rachel', 'racist', 'rack', 'radish', 'rainbow', 'raise', 'raised', 'raising', 'raku', 'ramen', 'ramsay', 'ramsey', 'ran', 'ranch', 'rancheros', 'random', 'randomly', 'rang', 'range', 'ranging', 'rangoon', 'rare', 'rarely', 'raspberry', 'rate', 'rated', 'rating', 'ratings', 'ratio', 'rave', 'raved', 'raving', 'ravioli', 'raw', 'reach', 'reached', 'reaction', 'read', 'reading', 'reads', 'ready', 'real', 'reality', 'realize', 'realized', 'realizing', 'really', 'reason', 'reasonable', 'reasonably', 'reasons', 'recall', 'receipt', 'receive', 'received', 'receiving', 'recent', 'recently', 'reception', 'recipe', 'recipes', 'recognize', 'recognized', 'recommend', 'recommendation', 'recommendations', 'recommended', 'recommending', 'record', 'red', 'redeem', 'reduction', 'referred', 'refill', 'refilled', 'refilling', 'refills', 'reflect', 'refreshing', 'refried', 'refund', 'refunded', 'refuse', 'refused', 'regarding', 'regardless', 'regards', 'register', 'regret', 'regrets', 'regular', 'regularly', 'regulars', 'reheated', 'related', 'relatively', 'relax', 'relaxed', 'relaxing', 'relleno', 'remade', 'remained', 'remaining', 'remains', 'remake', 'remarkable', 'remember', 'remembered', 'remembers', 'remind', 'reminded', 'reminds', 'reminiscent', 'remodel', 'remodeled', 'remove', 'removed', 'renovated', 'rent', 'repeat', 'repeated', 'repeatedly', 'replace', 'replaced', 'replacement', 'replied', 'reply', 'report', 'reputation', 'request', 'requested', 'requesting', 'requests', 'require', 'required', 'research', 'reservation', 'reservations', 'reserve', 'reserved', 'resist', 'resort', 'respect', 'respectful', 'respond', 'responded', 'response', 'responsive', 'rest', 'restaurant', 'restaurants', 'restrictions', 'restroom', 'restrooms', 'resturant', 'result', 'retro', 'return', 'returned', 'returning', 'reuben', 'review', 'reviewed', 'reviewers', 'reviewing', 'reviews', 'revisit', 'revolving', 'reward', 'rewards', 'rib', 'ribbon', 'ribeye', 'ribs', 'rice', 'rich', 'ricotta', 'rid', 'ride', 'ridiculous', 'ridiculously', 'rig', 'rigatoni', 'right', 'ring', 'rings', 'rio', 'rip', 'ripe', 'ripped', 'rise', 'risk', 'risotto', 'river', 'road', 'roast', 'roasted', 'robert', 'roberto', 'robertos', 'robin', 'rock', 'rocks', 'roe', 'roll', 'rolled', 'roller', 'rolling', 'rolls', 'romaine', 'romantic', 'roof', 'room', 'rooms', 'root', 'rose', 'rosemary', 'rotation', 'roti', 'rotisserie', 'rotten', 'rough', 'roughly', 'round', 'rounded', 'rounds', 'row', 'rub', 'rubber', 'rubbery', 'rude', 'rudely', 'ruin', 'ruined', 'rule', 'rules', 'rum', 'run', 'runner', 'runners', 'running', 'runny', 'runs', 'rush', 'rushed', 'rushing', 'russian', 'rustic', 'ruth', 'ryan', 'rye', 'sad', 'sadly', 'safe', 'safety', 'sage', 'sahara', 'said', 'sake', 'salad', 'salads', 'salami', 'sale', 'sales', 'salmon', 'salsa', 'salsas', 'salt', 'salted', 'saltiness', 'salty', 'sam', 'sammy', 'sample', 'sampled', 'sampler', 'samples', 'sampling', 'san', 'sand', 'sandwhich', 'sandwich', 'sandwiches', 'sang', 'sangria', 'santa', 'sapporo', 'sashimi', 'sat', 'satay', 'satisfaction', 'satisfied', 'satisfy', 'satisfying', 'saturday', 'sauce', 'sauced', 'sauces', 'saucy', 'sausage', 'sausages', 'sauteed', 'sautéed', 'save', 'saved', 'saving', 'savory', 'saw', 'say', 'saying', 'says', 'scale', 'scallion', 'scallop', 'scallops', 'scampi', 'scared', 'scene', 'schedule', 'school', 'scoop', 'scoops', 'score', 'scorpion', 'scotch', 'scott', 'scramble', 'scrambled', 'scratch', 'screaming', 'screen', 'screens', 'screw', 'screwed', 'scrumptious', 'se', 'sea', 'seabass', 'seafood', 'sean', 'search', 'searched', 'searching', 'seared', 'season', 'seasonal', 'seasoned', 'seasoning', 'seasonings', 'seat', 'seated', 'seating', 'seats', 'seattle', 'seaweed', 'second', 'secondly', 'seconds', 'secret', 'section', 'sections', 'security', 'seeds', 'seeing', 'seek', 'seeking', 'seemingly', 'seen', 'select', 'selected', 'selection', 'selections', 'self', 'sell', 'selling', 'semi', 'send', 'sending', 'sense', 'sensitive', 'sent', 'separate', 'separated', 'separately', 'seriously', 'serrano', 'serve', 'served', 'server', 'servers', 'serves', 'service', 'services', 'serving', 'servings', 'sesame', 'set', 'sets', 'setting', 'settle', 'settled', 'setup', 'seven', 'sever', 'severely', 'sexy', 'sf', 'sh', 'shabu', 'shack', 'shade', 'shady', 'shake', 'shakes', 'shall', 'shame', 'shang', 'shank', 'shape', 'shaped', 'share', 'shareable', 'shared', 'sharing', 'sharp', 'shaved', 'shawarma', 'sheet', 'shelf', 'shell', 'shellfish', 'shells', 'shift', 'shine', 'shirt', 'shirts', 'shishito', 'shit', 'shitty', 'shock', 'shocked', 'shoe', 'shoes', 'shoot', 'shop', 'shopping', 'shops', 'short', 'shortcake', 'shorter', 'shortly', 'shorts', 'shot', 'shots', 'shoulder', 'shouldn', 'shout', 'showed', 'shower', 'showing', 'shown', 'shows', 'shoyu', 'shredded', 'shrimp', 'shrimps', 'shumai', 'shut', 'shy', 'siam', 'sichuan', 'sicilian', 'sick', 'sides', 'sigh', 'sight', 'sign', 'signage', 'signature', 'signed', 'significant', 'significantly', 'signs', 'silly', 'silver', 'silverware', 'similar', 'simple', 'simply', 'sin', 'sinatra', 'sing', 'singapore', 'singer', 'singing', 'single', 'sink', 'sip', 'sirloin', 'sisig', 'sister', 'sisters', 'sit', 'site', 'sits', 'sitting', 'situated', 'situation', 'siu', 'size', 'sized', 'sizes', 'sizzling', 'skeptical', 'sketchy', 'skewer', 'skewers', 'skillet', 'skills', 'skimp', 'skimpy', 'skin', 'skinny', 'skinnyfats', 'skins', 'skip', 'skipped', 'skirt', 'sky', 'slab', 'slammed', 'slaw', 'sleep', 'slice', 'sliced', 'slices', 'slide', 'slider', 'sliders', 'slight', 'slightly', 'sloppy', 'slot', 'slots', 'slow', 'slower', 'slowest', 'slowly', 'sls', 'slush', 'slut', 'small', 'smaller', 'smallest', 'smart', 'smash', 'smashed', 'smell', 'smelled', 'smelling', 'smells', 'smh', 'smile', 'smiled', 'smiles', 'smiling', 'smith', 'smoke', 'smoked', 'smokey', 'smoking', 'smoky', 'smooth', 'smoothie', 'smoothies', 'smoothly', 'smothered', 'snack', 'snacks', 'snap', 'snapper', 'snob', 'snow', 'soak', 'soaked', 'sober', 'socal', 'social', 'socks', 'soda', 'sodas', 'soft', 'soggy', 'soho', 'soju', 'sold', 'sole', 'solely', 'solid', 'solo', 'somebody', 'someplace', 'somewhat', 'sommelier', 'son', 'song', 'songs', 'sonic', 'sons', 'soo', 'soon', 'sooner', 'sooo', 'soooo', 'sooooo', 'soooooo', 'sora', 'sorbet', 'sorry', 'sort', 'sorts', 'souffle', 'soufflé', 'soul', 'sound', 'sounded', 'sounds', 'soup', 'soups', 'sour', 'source', 'sourdough', 'south', 'southern', 'southwest', 'soy', 'space', 'spaces', 'spacious', 'spaghetti', 'spam', 'spanish', 'spare', 'sparkling', 'speak', 'speaker', 'speaking', 'speaks', 'special', 'specially', 'specials', 'specialties', 'specialty', 'specific', 'specifically', 'spectacular', 'speed', 'speedy', 'spend', 'spending', 'spent', 'spice', 'spiced', 'spices', 'spicier', 'spiciness', 'spicy', 'spilled', 'spin', 'spinach', 'spirit', 'spit', 'split', 'splitting', 'splurge', 'spoiled', 'spoke', 'spoon', 'spoons', 'sports', 'spot', 'spotless', 'spots', 'spread', 'spring', 'springs', 'sprinkled', 'sprouts', 'square', 'squash', 'squeeze', 'squeezed', 'squid', 'sriracha', 'st', 'stack', 'stacked', 'stacks', 'staff', 'staffed', 'staffs', 'stage', 'stairs', 'stale', 'stamp', 'stand', 'standard', 'standards', 'standing', 'standout', 'stands', 'staple', 'star', 'starbucks', 'stare', 'stared', 'staring', 'stars', 'start', 'started', 'starter', 'starters', 'starting', 'starts', 'starving', 'state', 'stated', 'statement', 'states', 'stating', 'station', 'stations', 'status', 'stay', 'stayed', 'staying', 'stays', 'steak', 'steakhouse', 'steakhouses', 'steaks', 'steal', 'steam', 'steamed', 'steep', 'steer', 'stellar', 'step', 'stephanie', 'stepped', 'steps', 'steve', 'stew', 'stick', 'stickers', 'sticking', 'sticks', 'sticky', 'stingy', 'stir', 'stk', 'stock', 'stocked', 'stole', 'stomach', 'stone', 'stood', 'stools', 'stop', 'stopped', 'stopping', 'stops', 'store', 'stores', 'stories', 'story', 'straight', 'strange', 'stratosphere', 'straw', 'strawberries', 'strawberry', 'straws', 'street', 'stress', 'strictly', 'strike', 'string', 'strip', 'strips', 'stromboli', 'strong', 'strongly', 'struggle', 'stuck', 'student', 'study', 'stuff', 'stuffed', 'stuffing', 'stumbled', 'stunning', 'stupid', 'style', 'styles', 'styrofoam', 'sub', 'subpar', 'subs', 'substantial', 'substitute', 'substituted', 'subtle', 'subway', 'success', 'successful', 'succulent', 'suck', 'sucked', 'sucker', 'sucks', 'suddenly', 'sugar', 'sugary', 'suggest', 'suggested', 'suggestion', 'suggestions', 'suit', 'suite', 'sum', 'summary', 'summer', 'summerlin', 'sun', 'sundae', 'sunday', 'sundays', 'sunny', 'sunrise', 'sunset', 'super', 'superb', 'superior', 'supermarket', 'supervisor', 'support', 'supporting', 'suppose', 'supposed', 'supposedly', 'supreme', 'sure', 'surely', 'surf', 'surprise', 'surprised', 'surprising', 'surprisingly', 'surrounded', 'surrounding', 'sushi', 'suspect', 'sw', 'swear', 'sweat', 'sweet', 'sweetened', 'sweeter', 'sweetest', 'sweetheart', 'sweetness', 'sweets', 'swimming', 'swing', 'swiss', 'switch', 'switched', 'syrup', 'szechuan', 'tab', 'table', 'tables', 'tableside', 'tacky', 'taco', 'tacos', 'tad', 'tag', 'tai', 'tail', 'tails', 'taiwanese', 'taken', 'takeout', 'takes', 'taking', 'takoyaki', 'talented', 'talk', 'talked', 'talking', 'tall', 'tamale', 'tamales', 'tan', 'tandoori', 'tang', 'tangy', 'tank', 'tao', 'tap', 'tapas', 'taquitos', 'taro', 'tart', 'tartar', 'tartare', 'tarts', 'taste', 'tastebuds', 'tasted', 'tasteful', 'tasteless', 'tastes', 'tastier', 'tastiest', 'tasting', 'tasty', 'tater', 'tax', 'taylor', 'tea', 'team', 'teas', 'teeth', 'tell', 'telling', 'tells', 'temp', 'temperature', 'tempted', 'tempura', 'tend', 'tender', 'tenderloin', 'tenders', 'tendon', 'tends', 'teppanyaki', 'tequila', 'teriyaki', 'terms', 'terrible', 'terribly', 'terrific', 'test', 'texas', 'text', 'texture', 'textures', 'thai', 'thailand', 'thank', 'thanked', 'thankful', 'thankfully', 'thanks', 'thanksgiving', 'thats', 'theater', 'theirs', 'theme', 'themed', 'therapy', 'theres', 'thicker', 'thigh', 'thing', 'things', 'think', 'thinking', 'thinks', 'thinly', 'thinner', 'thirsty', 'thirty', 'tho', 'thoroughly', 'thought', 'thoughtful', 'thoughts', 'thousand', 'threw', 'thrilled', 'throw', 'throwing', 'thrown', 'thumbs', 'thursday', 'ticket', 'tickets', 'tiger', 'tight', 'tikka', 'til', 'till', 'time', 'timely', 'timer', 'timers', 'times', 'timing', 'tiny', 'tip', 'tipped', 'tipping', 'tips', 'tiramisu', 'tired', 'tivoli', 'toast', 'toasted', 'today', 'toddler', 'toffee', 'tofu', 'togo', 'toilet', 'tokyo', 'told', 'tom', 'tomahawk', 'tomato', 'tomatoes', 'tomorrow', 'ton', 'tone', 'tongue', 'tonight', 'tonkatsu', 'tonkotsu', 'tons', 'tony', 'took', 'tooth', 'topped', 'topping', 'toppings', 'tops', 'torn', 'toro', 'torta', 'tortilla', 'tortillas', 'toss', 'tossed', 'tostada', 'total', 'totally', 'tots', 'touch', 'touched', 'touches', 'touching', 'tough', 'tour', 'tourist', 'tourists', 'touristy', 'towels', 'tower', 'town', 'track', 'tradition', 'traditional', 'traffic', 'train', 'trained', 'training', 'transaction', 'trap', 'trash', 'travel', 'traveled', 'traveling', 'tray', 'trays', 'treasure', 'treat', 'treated', 'treating', 'treatment', 'treats', 'tree', 'tremendous', 'trendy', 'tres', 'tri', 'trick', 'tried', 'tries', 'trio', 'trip', 'tripe', 'triple', 'trips', 'tropical', 'tropicana', 'trouble', 'trout', 'truck', 'true', 'truffle', 'truffles', 'truly', 'trust', 'truth', 'try', 'trying', 'tucked', 'tuesday', 'tuesdays', 'tummy', 'tuna', 'turf', 'turkey', 'turn', 'turned', 'turning', 'turns', 'tv', 'tvs', 'twice', 'twin', 'twist', 'type', 'types', 'typical', 'typically', 'tzatziki', 'ube', 'uber', 'ubereats', 'udon', 'ugh', 'ugly', 'uh', 'ultimate', 'ultimately', 'um', 'umami', 'unable', 'unacceptable', 'unagi', 'unappetizing', 'unassuming', 'unbelievable', 'unbelievably', 'uncle', 'uncomfortable', 'uncooked', 'und', 'undercooked', 'underneath', 'understaffed', 'understand', 'understandable', 'understanding', 'understood', 'underwhelmed', 'underwhelming', 'unexpected', 'unforgettable', 'unfortunate', 'unfortunately', 'unfriendly', 'unhappy', 'uni', 'unimpressed', 'unique', 'unless', 'unlike', 'unlimited', 'unlv', 'unnecessary', 'unorganized', 'unpleasant', 'unprofessional', 'unreal', 'unsure', 'unusual', 'upbeat', 'upcharge', 'update', 'updated', 'upgrade', 'upgraded', 'upper', 'ups', 'upscale', 'upset', 'upside', 'upstairs', 'ur', 'urban', 'urchin', 'usa', 'use', 'used', 'uses', 'using', 'usual', 'usually', 'utensils', 'vacation', 'valentine', 'valet', 'valley', 'value', 'vanilla', 'varied', 'varieties', 'variety', 'various', 'vast', 've', 'veal', 'veg', 'vegan', 'vegans', 'vegas', 'vegetable', 'vegetables', 'vegetarian', 'vegetarians', 'veggie', 'veggies', 'velvet', 'venetian', 'venture', 'ventured', 'venue', 'verde', 'vermicelli', 'version', 'versions', 'versus', 'vibe', 'vibes', 'vibrant', 'video', 'videos', 'viet', 'vietnamese', 'view', 'views', 'village', 'vinaigrette', 'vinegar', 'vintage', 'vip', 'visible', 'visit', 'visited', 'visiting', 'visitors', 'visits', 'visually', 'vodka', 'voice', 'volcano', 'volume', 'voucher', 'vs', 'waffle', 'waffles', 'wagyu', 'wahlburgers', 'wait', 'waited', 'waiter', 'waiters', 'waiting', 'waitress', 'waitresses', 'waits', 'waitstaff', 'wake', 'walk', 'walked', 'walking', 'walks', 'wall', 'wallet', 'walls', 'walmart', 'walnut', 'walnuts', 'wanna', 'want', 'wanted', 'wanting', 'wants', 'warm', 'warmed', 'warmer', 'warmly', 'warn', 'warned', 'warning', 'wasabi', 'wash', 'washed', 'washing', 'wasn', 'wasnt', 'waste', 'wasted', 'wasting', 'watch', 'watched', 'watching', 'water', 'watered', 'watering', 'watermelon', 'waters', 'watery', 'wave', 'way', 'ways', 'weak', 'wear', 'wearing', 'weather', 'website', 'wedding', 'wedge', 'wedges', 'wednesday', 'week', 'weekday', 'weekdays', 'weekend', 'weekends', 'weekly', 'weeks', 'weight', 'weird', 'welcome', 'welcomed', 'welcoming', 'wellington', 'wendy', 'went', 'weren', 'west', 'western', 'wet', 'whatsoever', 'wheat', 'wheel', 'whim', 'whip', 'whipped', 'whiskey', 'white', 'whites', 'wicked', 'wide', 'wife', 'wifi', 'wild', 'willing', 'wilted', 'win', 'window', 'windows', 'wine', 'wines', 'wing', 'wings', 'winner', 'winning', 'winter', 'wipe', 'wiped', 'wise', 'wish', 'wished', 'witnessed', 'wok', 'woke', 'wolfgang', 'woman', 'women', 'won', 'wonder', 'wondered', 'wonderful', 'wonderfully', 'wondering', 'wont', 'wonton', 'wontons', 'wood', 'wooden', 'word', 'words', 'work', 'worked', 'worker', 'workers', 'working', 'workout', 'works', 'world', 'worried', 'worries', 'worry', 'worse', 'worst', 'worth', 'worthy', 'wouldn', 'wouldnt', 'wow', 'wowed', 'wrap', 'wrapped', 'wraps', 'write', 'writing', 'written', 'wrong', 'wrote', 'wtf', 'wth', 'wynn', 'ya', 'yakitori', 'yama', 'yams', 'yard', 'yardbird', 'yay', 'yea', 'yeah', 'year', 'years', 'yell', 'yelled', 'yelling', 'yellow', 'yellowtail', 'yelp', 'yelper', 'yelpers', 'yep', 'yes', 'yesterday', 'yikes', 'yo', 'yogurt', 'yolk', 'york', 'young', 'younger', 'youre', 'yuck', 'yum', 'yummy', 'yup', 'yuzu', 'zen', 'zero', 'zone', 'zucchini']\n"
     ]
    }
   ],
   "source": [
    "print(vocab)"
   ]
  },
  {
   "cell_type": "code",
   "execution_count": 12,
   "metadata": {},
   "outputs": [],
   "source": [
    "vec_train_array = vec_train.toarray()\n",
    "vec_test_array = vec_test.toarray()"
   ]
  },
  {
   "cell_type": "code",
   "execution_count": 13,
   "metadata": {},
   "outputs": [
    {
     "name": "stdout",
     "output_type": "stream",
     "text": [
      "238822.19999999998 159214.80000000002\n",
      "(238822,) (159215,)\n",
      "(238822, 5000) (159215, 5000) (238822, 5000) (159215, 5000)\n"
     ]
    }
   ],
   "source": [
    "print(documents.shape[0] * 0.6, documents.shape[0] * 0.4)\n",
    "print(X_train.shape, X_test.shape)\n",
    "print(vec_train.shape, vec_test.shape, vec_train_array.shape, vec_test_array.shape)"
   ]
  },
  {
   "cell_type": "markdown",
   "metadata": {},
   "source": [
    "`vec_train_array` and `vec_test_array` are sparse matrixes where a lot of elements are 0.\n",
    "It is hard to read from matrix form. So don't need to print and check them"
   ]
  },
  {
   "cell_type": "code",
   "execution_count": 14,
   "metadata": {},
   "outputs": [],
   "source": [
    "# print(vec_train_array) # sparse matrix"
   ]
  },
  {
   "cell_type": "code",
   "execution_count": 15,
   "metadata": {},
   "outputs": [],
   "source": [
    "# print(vec_test_array) # sparse matrix"
   ]
  },
  {
   "cell_type": "markdown",
   "metadata": {},
   "source": [
    "## Similar review search engine"
   ]
  },
  {
   "cell_type": "code",
   "execution_count": 16,
   "metadata": {},
   "outputs": [],
   "source": [
    "import numpy as np\n",
    "\n",
    "def get_top_values(lst, n, labels):\n",
    "    '''\n",
    "    Input: list, integer, list\n",
    "    Output: list\n",
    "    \n",
    "    Given a list of values, find the indices with the highest n values.\n",
    "    Return the labels for each of these indices\n",
    "    \n",
    "    e.g.\n",
    "    lst = [7, 3, 2, 4, 1]\n",
    "    n = 2\n",
    "    labels = ['cat', 'dog', 'mouse', 'pig', 'rabbit']\n",
    "    output: ['cat', 'pig']\n",
    "    '''\n",
    "    # np.argsort() 預設是遞增排列，所以要用 -1 把排序反過來\n",
    "    return [labels[i] for i in np.argsort(lst)[::-1][:n]]"
   ]
  },
  {
   "cell_type": "code",
   "execution_count": 17,
   "metadata": {},
   "outputs": [],
   "source": [
    "def get_bottom_values(lst, n, labels):\n",
    "    '''\n",
    "    Input: list, integer, list\n",
    "    Output: list\n",
    "    \n",
    "    Given a list of values, find the indices with the lowest n values.\n",
    "    Return the labels for each of thest indices.\n",
    "    \n",
    "    e.g.\n",
    "    lst = [7, 3, 2, 4, 1]\n",
    "    n = 2\n",
    "    labels = ['cat', 'dog', 'mouse', 'pig', 'rabbit']\n",
    "    output: ['mouse', 'rabbit']\n",
    "    '''\n",
    "    return [labels[i] for i in np.argsort(lst)[:n]]"
   ]
  },
  {
   "cell_type": "markdown",
   "metadata": {},
   "source": [
    "從 test sample 中隨便選一個 review，然後藉由 cosine similarity 來和 train samples 比較，選出 train samples 中前五名相似度最高的"
   ]
  },
  {
   "cell_type": "code",
   "execution_count": 18,
   "metadata": {},
   "outputs": [
    {
     "name": "stdout",
     "output_type": "stream",
     "text": [
      "40790\n",
      "I'm from California and was here visiting my parents who live here. We went to Bass Pro and where looking for a place to grab a bite. This place did not disappoint. I had the Mommas sandwich. Kind of like a club but better. It was fantastic. I got it with hash browns and they were good as well. My mom got the french dip and my dad got a caesar salad and they loved it. Service was fantastic to. I cant recall the waitress name but she was on spot. Highly recommend this place and will definitely be coming back next time I visit.\n",
      "(1, 5000)\n",
      "[[0. 0. 0. ... 0. 0. 0.]]\n",
      "(1, 238822)\n",
      "[[0.05936968 0.05803406 0.07272053 ... 0.10705818 0.08946764 0.        ]]\n"
     ]
    }
   ],
   "source": [
    "# cosine similarity\n",
    "from sklearn.metrics.pairwise import cosine_similarity\n",
    "\n",
    "# Draw an arbitrary review from test (unseen in training) documents\n",
    "# random_number = np.random.randint(0, documents.shape[0]) # 只是用來驗證\n",
    "random_number = np.random.randint(0, vec_test.shape[0])\n",
    "# random_review = documents[random_number]\n",
    "random_review = X_test[random_number] # 用 test sample\n",
    "# print(vec_test.shape[0], X_test.shape)\n",
    "print(random_number)\n",
    "print(random_review)\n",
    "\n",
    "# Transform the drawn review(s) to vector(s)\n",
    "vec_random_review = vectorizer.transform([random_review])\n",
    "print(vec_random_review.shape)\n",
    "print(vec_random_review.toarray()) # 是 sparse 的 array\n",
    "\n",
    "# Calculate the similarity score(s) between vector(s) and training vectors\n",
    "similarity_scores = cosine_similarity(vec_random_review, vec_train) # vec_random_review: 1 x 5000, vec_train: 238822 x 5000\n",
    "print(similarity_scores.shape)\n",
    "print(similarity_scores) # vec_random_review 和 vec_train 中每一筆數據的 cosine similarity 值，vec_train 有 238822 筆數據，所以會有 238822 個數值"
   ]
  },
  {
   "cell_type": "code",
   "execution_count": 19,
   "metadata": {},
   "outputs": [
    {
     "name": "stdout",
     "output_type": "stream",
     "text": [
      "5\n",
      "[\"This place is my favorite and they never disappoint. Every time I've come in the food is fantastic, nyzah is fantastic and i just love the atmosphere. I will always recommend this place to others!!!\", 'I loved this place! It was my first time here and everything was fantastic. It felt very Italian, great vibe from the service, live music and fantastic food. I definitely will be back next time I am in Vegas!', 'Had lunch here for the first time. The food and service was fantastic! ! Highly recommend! !!!', 'This place is fantastic! A little pricy for a sandwich but worth it. Every bite is delicious. I highly recommend this place if you are hungry and in need of a quick bite.', 'This place is great. Food was delicious and the customer service was fantastic! Definitely coming back here.']\n"
     ]
    }
   ],
   "source": [
    "# Let's find top 5 similar reviews\n",
    "n = 5\n",
    "top_reviews = get_top_values(similarity_scores[0], n, X_train.values) # 和 train sample 中的來比較\n",
    "print(len(top_reviews))\n",
    "print(top_reviews)"
   ]
  },
  {
   "cell_type": "code",
   "execution_count": 20,
   "metadata": {},
   "outputs": [],
   "source": [
    "# print('Our search query:')\n",
    "# print(random_review) # To be added"
   ]
  },
  {
   "cell_type": "code",
   "execution_count": 21,
   "metadata": {},
   "outputs": [
    {
     "name": "stdout",
     "output_type": "stream",
     "text": [
      "Most 5 similar reviews:\n",
      "0:\tThis place is my favorite and they never disappoint. Every time I've come in the food is fantastic, nyzah is fantastic and i just love the atmosphere. I will always recommend this place to others!!!\n",
      "\n",
      "1:\tI loved this place! It was my first time here and everything was fantastic. It felt very Italian, great vibe from the service, live music and fantastic food. I definitely will be back next time I am in Vegas!\n",
      "\n",
      "2:\tHad lunch here for the first time. The food and service was fantastic! ! Highly recommend! !!!\n",
      "\n",
      "3:\tThis place is fantastic! A little pricy for a sandwich but worth it. Every bite is delicious. I highly recommend this place if you are hungry and in need of a quick bite.\n",
      "\n",
      "4:\tThis place is great. Food was delicious and the customer service was fantastic! Definitely coming back here.\n",
      "\n"
     ]
    }
   ],
   "source": [
    "print('Most %s similar reviews:' % n)\n",
    "# print()  # To be added\n",
    "for index, review in enumerate(top_reviews):\n",
    "    print(str(index) + ':\\t' + review + '\\n')"
   ]
  },
  {
   "cell_type": "markdown",
   "metadata": {},
   "source": [
    "#### Q: Does the result make sense to you?"
   ]
  },
  {
   "cell_type": "markdown",
   "metadata": {},
   "source": [
    "A: Yes. The randomly peak review in the testing sample is a positive review. The word fantatistic shows several time in the review of testing and training samples."
   ]
  },
  {
   "cell_type": "markdown",
   "metadata": {},
   "source": [
    "## Classifying positive and negative review\n",
    "\n",
    "### Naive-Bayes Classifier"
   ]
  },
  {
   "cell_type": "code",
   "execution_count": 22,
   "metadata": {},
   "outputs": [
    {
     "name": "stdout",
     "output_type": "stream",
     "text": [
      "train score:  0.8153603939335572\n",
      "test score:  0.8109097760889363\n"
     ]
    }
   ],
   "source": [
    "from sklearn.naive_bayes import MultinomialNB\n",
    "\n",
    "nb = MultinomialNB()\n",
    "nb.fit(vec_train, y_train)\n",
    "\n",
    "# Get score for training set and test set\n",
    "nb_score_train = nb.score(vec_train, y_train)\n",
    "nb_score_test = nb.score(vec_test, y_test)\n",
    "\n",
    "print('train score: ', nb_score_train)\n",
    "print('test score: ', nb_score_test)"
   ]
  },
  {
   "cell_type": "markdown",
   "metadata": {},
   "source": [
    "### Logistic Regression Classifier"
   ]
  },
  {
   "cell_type": "code",
   "execution_count": 23,
   "metadata": {},
   "outputs": [
    {
     "name": "stderr",
     "output_type": "stream",
     "text": [
      "/usr/local/anaconda3/lib/python3.6/site-packages/sklearn/linear_model/logistic.py:432: FutureWarning: Default solver will be changed to 'lbfgs' in 0.22. Specify a solver to silence this warning.\n",
      "  FutureWarning)\n"
     ]
    },
    {
     "name": "stdout",
     "output_type": "stream",
     "text": [
      "train score:  0.8460820192444582\n",
      "test score:  0.8366548377979461\n",
      "(1, 5000)\n",
      "[[-0.84688229  0.33964894 -0.07805271 ... -2.63234671  0.45618508\n",
      "  -0.31004826]]\n"
     ]
    }
   ],
   "source": [
    "from sklearn.linear_model import LogisticRegression\n",
    "\n",
    "lr = LogisticRegression()\n",
    "lr.fit(vec_train, y_train)\n",
    "\n",
    "# Get score for training set and test set\n",
    "lr_score_train = lr.score(vec_train, y_train)\n",
    "lr_score_test = lr.score(vec_test, y_test)\n",
    "\n",
    "print('train score: ', lr_score_train)\n",
    "print('test score: ', lr_score_test)\n",
    "\n",
    "print(lr.coef_.shape)\n",
    "print(lr.coef_)"
   ]
  },
  {
   "cell_type": "markdown",
   "metadata": {},
   "source": [
    "#### Q: What are the key features (words) that make the positive prediction?"
   ]
  },
  {
   "cell_type": "code",
   "execution_count": 24,
   "metadata": {},
   "outputs": [
    {
     "name": "stdout",
     "output_type": "stream",
     "text": [
      "['amazing', 'best', 'incredible', 'thank', 'awesome', 'delicious', 'perfection', 'highly', 'phenomenal', 'perfect', 'heaven', 'fantastic', 'great', 'excellent', 'favorite', 'love', 'outstanding', 'impeccable', 'omg', 'exceeded']\n"
     ]
    }
   ],
   "source": [
    "# Let's find it out by ranking\n",
    "n = 20\n",
    "features_with_positive_predictions = get_top_values(lr.coef_[0], n, vocab)\n",
    "print(features_with_positive_predictions)"
   ]
  },
  {
   "cell_type": "markdown",
   "metadata": {},
   "source": [
    "#### Q: What are the key features(words) that make the negative prediction?"
   ]
  },
  {
   "cell_type": "code",
   "execution_count": 25,
   "metadata": {},
   "outputs": [
    {
     "name": "stdout",
     "output_type": "stream",
     "text": [
      "['worst', 'horrible', 'ok', 'disappointing', 'terrible', 'mediocre', 'rude', 'bland', 'okay', 'slow', 'average', 'poor', 'lacking', 'meh', 'awful', 'disgusting', 'reason', 'worse', 'lacked', 'overpriced']\n"
     ]
    }
   ],
   "source": [
    "# Let's find it out by ranking\n",
    "n = 20\n",
    "features_with_negative_predictions = get_bottom_values(lr.coef_[0], n, vocab)\n",
    "print(features_with_negative_predictions)"
   ]
  },
  {
   "cell_type": "markdown",
   "metadata": {},
   "source": [
    "### Random Forest Classifier"
   ]
  },
  {
   "cell_type": "code",
   "execution_count": 26,
   "metadata": {},
   "outputs": [
    {
     "name": "stdout",
     "output_type": "stream",
     "text": [
      "train score:  0.8255897697867031\n",
      "test score:  0.787199698520868\n",
      "(5000,)\n",
      "[6.87191564e-04 0.00000000e+00 0.00000000e+00 ... 7.00319274e-05\n",
      " 0.00000000e+00 0.00000000e+00]\n"
     ]
    }
   ],
   "source": [
    "from sklearn.ensemble import RandomForestClassifier\n",
    "\n",
    "rf = RandomForestClassifier(max_depth = None, n_estimators = 5, min_samples_leaf = 10)\n",
    "rf.fit(vec_train, y_train)\n",
    "\n",
    "# Get score for training set and test set\n",
    "rf_score_train = rf.score(vec_train, y_train)\n",
    "rf_score_test = rf.score(vec_test, y_test)\n",
    "\n",
    "print('train score: ', rf_score_train)\n",
    "print('test score: ', rf_score_test)\n",
    "\n",
    "print(rf.feature_importances_.shape)\n",
    "print(rf.feature_importances_)"
   ]
  },
  {
   "cell_type": "markdown",
   "metadata": {},
   "source": [
    "#### Q: What do you see from the training score and the test score?"
   ]
  },
  {
   "cell_type": "markdown",
   "metadata": {},
   "source": [
    "A: train score is higher than test score, it means overfitting."
   ]
  },
  {
   "cell_type": "markdown",
   "metadata": {},
   "source": [
    "#### Q: Can you tell what features (words) are important by inspecting the RFC model?"
   ]
  },
  {
   "cell_type": "code",
   "execution_count": 27,
   "metadata": {},
   "outputs": [
    {
     "name": "stdout",
     "output_type": "stream",
     "text": [
      "['amazing', 'best', 'minutes', 'delicious', 'love', 'worst', 'wasn', 'great', 'definitely', 'ok', 'friendly', 'horrible', 'place', 'didn', 'awesome', 'bad', 'told', 'order', 'good', 'favorite']\n"
     ]
    }
   ],
   "source": [
    "n = 20\n",
    "top_features_importances = get_top_values(rf.feature_importances_, n, vocab)\n",
    "print(top_features_importances)"
   ]
  },
  {
   "cell_type": "markdown",
   "metadata": {},
   "source": [
    "Compare the top 10 words in Logistic Regression and Random Forest models\n",
    "\n",
    "|words     |Logistic Regression|Random Forest|\n",
    "|:--------:|:-----------------:|:-----------:|\n",
    "|amazing   |1                  |1            |\n",
    "|best      |2                  |2            |\n",
    "|incredible|3                  |             |\n",
    "|thank     |4                  |             |\n",
    "|awesome   |5                  |             |\n",
    "|delicious |6                  |4            |\n",
    "|perfection|7                  |             |\n",
    "|highly    |8                  |             |\n",
    "|phenomenal|9                  |             |\n",
    "|perfect   |10                 |             |\n",
    "|minutes   |x                  |3            |\n",
    "|love      |x                  |5            |\n",
    "|worst     |x                  |6            |\n",
    "|wasn      |x                  |7            |\n",
    "|great     |x                  |8            |\n",
    "|definitely|x                  |9            |\n",
    "|ok        |x                  |10           |\n"
   ]
  },
  {
   "cell_type": "markdown",
   "metadata": {},
   "source": [
    "## Extra Credit\n",
    "\n",
    "### 1. Use cross validation to evaluate classifiers\n",
    "\n",
    "[sklearn cross validation](https://scikit-learn.org/stable/modules/cross_validation.html)"
   ]
  },
  {
   "cell_type": "code",
   "execution_count": 28,
   "metadata": {},
   "outputs": [
    {
     "name": "stderr",
     "output_type": "stream",
     "text": [
      "/usr/local/anaconda3/lib/python3.6/site-packages/sklearn/linear_model/logistic.py:432: FutureWarning: Default solver will be changed to 'lbfgs' in 0.22. Specify a solver to silence this warning.\n",
      "  FutureWarning)\n"
     ]
    },
    {
     "name": "stdout",
     "output_type": "stream",
     "text": [
      "[0.83423356 0.8369902  0.83774391 0.83742986 0.83822544]\n"
     ]
    }
   ],
   "source": [
    "from sklearn.model_selection import cross_val_score\n",
    "scores = cross_val_score(lr, vec_train, y_train, cv=5, scoring='accuracy')\n",
    "print(scores)"
   ]
  },
  {
   "cell_type": "markdown",
   "metadata": {},
   "source": [
    "### 2. Use grid search to find best predictable classifier\n",
    "\n",
    "[sklearn grid search tutorial (with cross validation)](https://scikit-learn.org/stable/modules/grid_search.html#grid-search)\n",
    "\n",
    "[sklearn grid search documentation (with cross validation)](https://scikit-learn.org/stable/modules/generated/sklearn.model_selection.GridSearchCV.html#sklearn.model_selection.GridSearchCV)\n",
    "\n",
    "[Model evaluation](https://scikit-learn.org/stable/modules/model_evaluation.html#scoring-parameter)\n",
    "\n",
    "[classification_report](https://scikit-learn.org/stable/modules/generated/sklearn.metrics.classification_report.html)"
   ]
  },
  {
   "cell_type": "code",
   "execution_count": 29,
   "metadata": {},
   "outputs": [
    {
     "name": "stdout",
     "output_type": "stream",
     "text": [
      "Tuning hyper-parameters for accuracy\n"
     ]
    },
    {
     "name": "stderr",
     "output_type": "stream",
     "text": [
      "/usr/local/anaconda3/lib/python3.6/site-packages/sklearn/linear_model/logistic.py:432: FutureWarning: Default solver will be changed to 'lbfgs' in 0.22. Specify a solver to silence this warning.\n",
      "  FutureWarning)\n"
     ]
    },
    {
     "name": "stdout",
     "output_type": "stream",
     "text": [
      "Best parameters set found on development set:\n",
      "\n",
      "{'C': 1, 'penalty': 'l1'}\n",
      "\n",
      "\n",
      "For params: {'C': 0.1, 'penalty': 'l1'}\n",
      "Train: 0.829 +/- 0.000\n",
      "Test: 0.827 +/- 0.001\n",
      "For params: {'C': 0.1, 'penalty': 'l2'}\n",
      "Train: 0.837 +/- 0.000\n",
      "Test: 0.833 +/- 0.001\n",
      "For params: {'C': 1, 'penalty': 'l1'}\n",
      "Train: 0.847 +/- 0.000\n",
      "Test: 0.838 +/- 0.001\n",
      "For params: {'C': 1, 'penalty': 'l2'}\n",
      "Train: 0.847 +/- 0.000\n",
      "Test: 0.837 +/- 0.001\n",
      "For params: {'C': 10, 'penalty': 'l1'}\n",
      "Train: 0.849 +/- 0.000\n",
      "Test: 0.834 +/- 0.001\n",
      "For params: {'C': 10, 'penalty': 'l2'}\n",
      "Train: 0.849 +/- 0.000\n",
      "Test: 0.835 +/- 0.001\n",
      "For params: {'C': 100, 'penalty': 'l1'}\n",
      "Train: 0.849 +/- 0.000\n",
      "Test: 0.834 +/- 0.001\n",
      "For params: {'C': 100, 'penalty': 'l2'}\n",
      "Train: 0.849 +/- 0.000\n",
      "Test: 0.834 +/- 0.001\n",
      "Classification report:\n",
      "The model is trained on the full development set.\n",
      "           The scores are computed on the full evaluation set.\n",
      "              precision    recall  f1-score   support\n",
      "\n",
      "       False       0.85      0.82      0.84     80785\n",
      "        True       0.82      0.85      0.84     78430\n",
      "\n",
      "   micro avg       0.84      0.84      0.84    159215\n",
      "   macro avg       0.84      0.84      0.84    159215\n",
      "weighted avg       0.84      0.84      0.84    159215\n",
      "\n"
     ]
    },
    {
     "name": "stderr",
     "output_type": "stream",
     "text": [
      "/usr/local/anaconda3/lib/python3.6/site-packages/sklearn/utils/deprecation.py:125: FutureWarning: You are accessing a training score ('mean_train_score'), which will not be available by default any more in 0.21. If you need training scores, please set return_train_score=True\n",
      "  warnings.warn(*warn_args, **warn_kwargs)\n",
      "/usr/local/anaconda3/lib/python3.6/site-packages/sklearn/utils/deprecation.py:125: FutureWarning: You are accessing a training score ('std_train_score'), which will not be available by default any more in 0.21. If you need training scores, please set return_train_score=True\n",
      "  warnings.warn(*warn_args, **warn_kwargs)\n"
     ]
    }
   ],
   "source": [
    "from sklearn.model_selection import GridSearchCV\n",
    "from sklearn.metrics import classification_report\n",
    "\n",
    "params = {'penalty':['l1', 'l2'], 'C':[0.1, 1, 10, 100]}\n",
    "scorings = ['accuracy']\n",
    "\n",
    "for score in scorings:\n",
    "    print(\"Tuning hyper-parameters for {}\".format(score))\n",
    "    clf = GridSearchCV(lr, params, cv=5, scoring=score)\n",
    "    clf.fit(vec_train, y_train)\n",
    "    \n",
    "    print(\"Best parameters set found on development set:\\n\")\n",
    "    print(clf.best_params_)\n",
    "    print('\\n')\n",
    "    \n",
    "    cv_result = clf.cv_results_\n",
    "    means_train = cv_result['mean_train_score']\n",
    "    stds_train = cv_result['std_train_score']\n",
    "    means_test = cv_result['mean_test_score']\n",
    "    stds_test = cv_result['std_test_score']\n",
    "    \n",
    "    for params, mean_train, std_train, mean_test, std_test in zip(cv_result['params'], means_train, stds_train, means_test, stds_test):\n",
    "        print('For params:', params)\n",
    "        print('Train: {:.3f} +/- {:.3f}'.format(mean_train, std_train))\n",
    "        print('Test: {:.3f} +/- {:.3f}'.format(mean_test, std_test))\n",
    "    \n",
    "\n",
    "    print('Classification report:')\n",
    "    print('The model is trained on the full development set.\\n\\\n",
    "           The scores are computed on the full evaluation set.')\n",
    "    y_pred = clf.predict(vec_test)\n",
    "    print(classification_report(y_test, y_pred))"
   ]
  },
  {
   "cell_type": "code",
   "execution_count": null,
   "metadata": {},
   "outputs": [],
   "source": []
  }
 ],
 "metadata": {
  "kernelspec": {
   "display_name": "Python 3",
   "language": "python",
   "name": "python3"
  },
  "language_info": {
   "codemirror_mode": {
    "name": "ipython",
    "version": 3
   },
   "file_extension": ".py",
   "mimetype": "text/x-python",
   "name": "python",
   "nbconvert_exporter": "python",
   "pygments_lexer": "ipython3",
   "version": "3.6.7"
  }
 },
 "nbformat": 4,
 "nbformat_minor": 2
}
