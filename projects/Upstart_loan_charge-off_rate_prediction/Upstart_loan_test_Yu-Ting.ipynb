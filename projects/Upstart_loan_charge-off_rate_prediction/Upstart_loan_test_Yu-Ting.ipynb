{
 "cells": [
  {
   "cell_type": "markdown",
   "metadata": {},
   "source": [
    "# Upstart Data Challenge\n",
    "\n",
    "\n",
    "In this problem, you will forecast the outcome of a portfolio of loans. Each loan is scheduled to be repaid over 3 years and is structured as follows:\n",
    "* First, the borrower receives the funds. This event is called origination.\n",
    "* The borrower then makes regular repayments, until one of the following\n",
    "happens:\n",
    "  * The borrower stops making payments, typically due to financial\n",
    "hardship, before the end of the 3-year term. This event is called\n",
    "charge-off, and the loan is then said to have charged off.\n",
    "  * The borrower continues making repayments until 3 years after the\n",
    "origination date. At this point, the debt has been fully repaid.\n",
    "\n",
    "In the attached CSV, each row corresponds to a loan, and the columns are defined as follows:\n",
    "* The column with header days since origination indicates the number of days that elapsed between origination and the date when the data was collected.\n",
    "* For loans that charged off before the data was collected, the column with header days from origination to charge-off indicates the number of days that elapsed between origination and charge-off. For all other loans, this column is blank.\n",
    "\n",
    "We would like you to estimate what fraction of these loans will have charged off by the time all of their 3-year terms are finished. Please include a rigorous explanation of how you arrived at your answer, and include any code you used. You may make simplifying assumptions, but please state such assumptions explicitly. Feel free to present your answer in whatever format you prefer; in particular, PDF and Jupyter Notebook are both fine. Also, we expect that this project will not take more than 3-6 hours of your time.\n",
    "\n",
    "We’ve taken time and thought to develop this problem in such a way that it will be useful for our screenings. We ask that you keep it confidential and not share it with others. And please do not solicit help from others when working on it – your solution should be your own.\n",
    "\n",
    "Last, we hope you find the problem interesting! It is representative of real problems we work on at Upstart."
   ]
  },
  {
   "cell_type": "markdown",
   "metadata": {},
   "source": [
    "# Load Data"
   ]
  },
  {
   "cell_type": "code",
   "execution_count": 1,
   "metadata": {},
   "outputs": [
    {
     "data": {
      "text/html": [
       "<div>\n",
       "<style scoped>\n",
       "    .dataframe tbody tr th:only-of-type {\n",
       "        vertical-align: middle;\n",
       "    }\n",
       "\n",
       "    .dataframe tbody tr th {\n",
       "        vertical-align: top;\n",
       "    }\n",
       "\n",
       "    .dataframe thead th {\n",
       "        text-align: right;\n",
       "    }\n",
       "</style>\n",
       "<table border=\"1\" class=\"dataframe\">\n",
       "  <thead>\n",
       "    <tr style=\"text-align: right;\">\n",
       "      <th></th>\n",
       "      <th>days since origination</th>\n",
       "      <th>days from origination to chargeoff</th>\n",
       "    </tr>\n",
       "  </thead>\n",
       "  <tbody>\n",
       "    <tr>\n",
       "      <th>0</th>\n",
       "      <td>109</td>\n",
       "      <td>NaN</td>\n",
       "    </tr>\n",
       "    <tr>\n",
       "      <th>1</th>\n",
       "      <td>679</td>\n",
       "      <td>NaN</td>\n",
       "    </tr>\n",
       "    <tr>\n",
       "      <th>2</th>\n",
       "      <td>723</td>\n",
       "      <td>NaN</td>\n",
       "    </tr>\n",
       "    <tr>\n",
       "      <th>3</th>\n",
       "      <td>509</td>\n",
       "      <td>NaN</td>\n",
       "    </tr>\n",
       "    <tr>\n",
       "      <th>4</th>\n",
       "      <td>254</td>\n",
       "      <td>NaN</td>\n",
       "    </tr>\n",
       "  </tbody>\n",
       "</table>\n",
       "</div>"
      ],
      "text/plain": [
       "   days since origination  days from origination to chargeoff\n",
       "0                     109                                 NaN\n",
       "1                     679                                 NaN\n",
       "2                     723                                 NaN\n",
       "3                     509                                 NaN\n",
       "4                     254                                 NaN"
      ]
     },
     "execution_count": 1,
     "metadata": {},
     "output_type": "execute_result"
    }
   ],
   "source": [
    "import pandas as pd\n",
    "import matplotlib.pyplot as plt\n",
    "import seaborn as sns\n",
    "\n",
    "sns.set()\n",
    "\n",
    "df_loan = pd.read_csv('loan_timing.csv')\n",
    "df_loan.head()"
   ]
  },
  {
   "cell_type": "markdown",
   "metadata": {},
   "source": [
    "### Check data"
   ]
  },
  {
   "cell_type": "code",
   "execution_count": 2,
   "metadata": {},
   "outputs": [
    {
     "name": "stdout",
     "output_type": "stream",
     "text": [
      "<class 'pandas.core.frame.DataFrame'>\n",
      "RangeIndex: 50000 entries, 0 to 49999\n",
      "Data columns (total 2 columns):\n",
      "days since origination                50000 non-null int64\n",
      "days from origination to chargeoff    3305 non-null float64\n",
      "dtypes: float64(1), int64(1)\n",
      "memory usage: 781.3 KB\n"
     ]
    }
   ],
   "source": [
    "df_loan.info()"
   ]
  },
  {
   "cell_type": "markdown",
   "metadata": {},
   "source": [
    "From the summary we know that there are 3305 loans having charged off among 50000 loans. After their 3-year terms finished, there should be more loans having charged off."
   ]
  },
  {
   "cell_type": "code",
   "execution_count": 3,
   "metadata": {},
   "outputs": [
    {
     "name": "stdout",
     "output_type": "stream",
     "text": [
      "The current fraction of loans having charged off is 6.61%\n"
     ]
    }
   ],
   "source": [
    "den = df_loan['days since origination'].count()\n",
    "num = df_loan['days from origination to chargeoff'].count()\n",
    "current_fraction = float(num) / den * 100.\n",
    "print('The current fraction of loans having charged off is %.2f%%' % current_fraction)"
   ]
  },
  {
   "cell_type": "code",
   "execution_count": 4,
   "metadata": {},
   "outputs": [
    {
     "data": {
      "text/html": [
       "<div>\n",
       "<style scoped>\n",
       "    .dataframe tbody tr th:only-of-type {\n",
       "        vertical-align: middle;\n",
       "    }\n",
       "\n",
       "    .dataframe tbody tr th {\n",
       "        vertical-align: top;\n",
       "    }\n",
       "\n",
       "    .dataframe thead th {\n",
       "        text-align: right;\n",
       "    }\n",
       "</style>\n",
       "<table border=\"1\" class=\"dataframe\">\n",
       "  <thead>\n",
       "    <tr style=\"text-align: right;\">\n",
       "      <th></th>\n",
       "      <th>days since origination</th>\n",
       "      <th>days from origination to chargeoff</th>\n",
       "    </tr>\n",
       "  </thead>\n",
       "  <tbody>\n",
       "    <tr>\n",
       "      <th>count</th>\n",
       "      <td>50000.000000</td>\n",
       "      <td>3305.000000</td>\n",
       "    </tr>\n",
       "    <tr>\n",
       "      <th>mean</th>\n",
       "      <td>365.844760</td>\n",
       "      <td>214.852345</td>\n",
       "    </tr>\n",
       "    <tr>\n",
       "      <th>std</th>\n",
       "      <td>210.965114</td>\n",
       "      <td>165.233874</td>\n",
       "    </tr>\n",
       "    <tr>\n",
       "      <th>min</th>\n",
       "      <td>0.000000</td>\n",
       "      <td>0.000000</td>\n",
       "    </tr>\n",
       "    <tr>\n",
       "      <th>25%</th>\n",
       "      <td>183.000000</td>\n",
       "      <td>76.000000</td>\n",
       "    </tr>\n",
       "    <tr>\n",
       "      <th>50%</th>\n",
       "      <td>366.000000</td>\n",
       "      <td>180.000000</td>\n",
       "    </tr>\n",
       "    <tr>\n",
       "      <th>75%</th>\n",
       "      <td>549.000000</td>\n",
       "      <td>323.000000</td>\n",
       "    </tr>\n",
       "    <tr>\n",
       "      <th>max</th>\n",
       "      <td>730.000000</td>\n",
       "      <td>725.000000</td>\n",
       "    </tr>\n",
       "  </tbody>\n",
       "</table>\n",
       "</div>"
      ],
      "text/plain": [
       "       days since origination  days from origination to chargeoff\n",
       "count            50000.000000                         3305.000000\n",
       "mean               365.844760                          214.852345\n",
       "std                210.965114                          165.233874\n",
       "min                  0.000000                            0.000000\n",
       "25%                183.000000                           76.000000\n",
       "50%                366.000000                          180.000000\n",
       "75%                549.000000                          323.000000\n",
       "max                730.000000                          725.000000"
      ]
     },
     "execution_count": 4,
     "metadata": {},
     "output_type": "execute_result"
    }
   ],
   "source": [
    "df_loan.describe()"
   ]
  },
  {
   "cell_type": "markdown",
   "metadata": {},
   "source": [
    "From the statistical table, we notice the largest value in the 'days since origination' column is 730. Because 730 days are equivalent to 2 years exactly (730 / 365 = 2), we know none of loans finished their 3-year term. We need to estimate how many loan will have chargeoff in their third year if they don't have chargeoff within the first 2 years."
   ]
  },
  {
   "cell_type": "markdown",
   "metadata": {},
   "source": [
    "### Check distributions"
   ]
  },
  {
   "cell_type": "code",
   "execution_count": 5,
   "metadata": {},
   "outputs": [
    {
     "data": {
      "image/png": "[encoded data removed]",
      "text/plain": [
       "<Figure size 432x288 with 1 Axes>"
      ]
     },
     "metadata": {},
     "output_type": "display_data"
    }
   ],
   "source": [
    "all_loans = df_loan['days since origination']\n",
    "\n",
    "charged_off = df_loan['days from origination to chargeoff'].notnull()\n",
    "df_chargedoff = df_loan[charged_off]\n",
    "all_chargedoff = df_chargedoff['days since origination']\n",
    "\n",
    "#sns.distplot(all_loans)\n",
    "#plt.show()\n",
    "\n",
    "#sns.distplot(all_chargedoff)\n",
    "#plt.show()\n",
    "\n",
    "# Use 100 days per bin\n",
    "# 3 years = 1095 days corresponding to bin 1000 days to 1100 days\n",
    "plt.hist(all_loans, bins=11, range=(0, 1101), label='All')\n",
    "plt.hist(all_chargedoff, bins=11, range=(0, 1101), label='Charge-off')\n",
    "plt.xlabel('days')\n",
    "plt.ylabel('counts')\n",
    "plt.title('days since origination')\n",
    "plt.legend()\n",
    "plt.show()"
   ]
  },
  {
   "cell_type": "markdown",
   "metadata": {},
   "source": [
    "A lot of loans having charged off are in their 600 to 700 days."
   ]
  },
  {
   "cell_type": "code",
   "execution_count": 6,
   "metadata": {},
   "outputs": [
    {
     "data": {
      "image/png": "[encoded data removed]",
      "text/plain": [
       "<Figure size 432x288 with 1 Axes>"
      ]
     },
     "metadata": {},
     "output_type": "display_data"
    }
   ],
   "source": [
    "plt.hist(df_chargedoff['days from origination to chargeoff'], bins=11, range=(0, 1101))\n",
    "plt.xlabel('days')\n",
    "plt.ylabel('counts')\n",
    "plt.title('days_from_origination_to_chargeoff')\n",
    "plt.show()"
   ]
  },
  {
   "cell_type": "markdown",
   "metadata": {},
   "source": [
    "A lot of loans get charged off in their first 100 days and the number of loans with charge-off decreases with time."
   ]
  },
  {
   "cell_type": "markdown",
   "metadata": {},
   "source": [
    "I prefer to use underscore in the column names."
   ]
  },
  {
   "cell_type": "code",
   "execution_count": 7,
   "metadata": {},
   "outputs": [],
   "source": [
    "df_loan.rename(columns={'days since origination':'days_since_origination',\n",
    "                        'days from origination to chargeoff':'days_from_origination_to_chargeoff'},\n",
    "               inplace=True) "
   ]
  },
  {
   "cell_type": "markdown",
   "metadata": {},
   "source": [
    "### Add new columns\n",
    "* Since each loan has to be repaid over 3 years, we first calculate how many days are left when the data was collected.\n",
    "  * And put the results into the `remaining_days` column.\n",
    "  * 3 years = 3 * 365 = 1095 days\n",
    "* Add a new column which counts the days that elapsed between charged-off and the date when the data was collected.\n",
    "  * `days_from_charged_off` column.\n",
    "  * If there is no charge-off, then set to zero."
   ]
  },
  {
   "cell_type": "code",
   "execution_count": 8,
   "metadata": {
    "scrolled": true
   },
   "outputs": [
    {
     "data": {
      "text/html": [
       "<div>\n",
       "<style scoped>\n",
       "    .dataframe tbody tr th:only-of-type {\n",
       "        vertical-align: middle;\n",
       "    }\n",
       "\n",
       "    .dataframe tbody tr th {\n",
       "        vertical-align: top;\n",
       "    }\n",
       "\n",
       "    .dataframe thead th {\n",
       "        text-align: right;\n",
       "    }\n",
       "</style>\n",
       "<table border=\"1\" class=\"dataframe\">\n",
       "  <thead>\n",
       "    <tr style=\"text-align: right;\">\n",
       "      <th></th>\n",
       "      <th>days_since_origination</th>\n",
       "      <th>days_from_origination_to_chargeoff</th>\n",
       "      <th>remaining_days</th>\n",
       "      <th>days_from_charged_off</th>\n",
       "    </tr>\n",
       "  </thead>\n",
       "  <tbody>\n",
       "    <tr>\n",
       "      <th>0</th>\n",
       "      <td>109</td>\n",
       "      <td>NaN</td>\n",
       "      <td>986</td>\n",
       "      <td>0.0</td>\n",
       "    </tr>\n",
       "    <tr>\n",
       "      <th>1</th>\n",
       "      <td>679</td>\n",
       "      <td>NaN</td>\n",
       "      <td>416</td>\n",
       "      <td>0.0</td>\n",
       "    </tr>\n",
       "    <tr>\n",
       "      <th>2</th>\n",
       "      <td>723</td>\n",
       "      <td>NaN</td>\n",
       "      <td>372</td>\n",
       "      <td>0.0</td>\n",
       "    </tr>\n",
       "    <tr>\n",
       "      <th>3</th>\n",
       "      <td>509</td>\n",
       "      <td>NaN</td>\n",
       "      <td>586</td>\n",
       "      <td>0.0</td>\n",
       "    </tr>\n",
       "    <tr>\n",
       "      <th>4</th>\n",
       "      <td>254</td>\n",
       "      <td>NaN</td>\n",
       "      <td>841</td>\n",
       "      <td>0.0</td>\n",
       "    </tr>\n",
       "  </tbody>\n",
       "</table>\n",
       "</div>"
      ],
      "text/plain": [
       "   days_since_origination  days_from_origination_to_chargeoff  remaining_days  \\\n",
       "0                     109                                 NaN             986   \n",
       "1                     679                                 NaN             416   \n",
       "2                     723                                 NaN             372   \n",
       "3                     509                                 NaN             586   \n",
       "4                     254                                 NaN             841   \n",
       "\n",
       "   days_from_charged_off  \n",
       "0                    0.0  \n",
       "1                    0.0  \n",
       "2                    0.0  \n",
       "3                    0.0  \n",
       "4                    0.0  "
      ]
     },
     "execution_count": 8,
     "metadata": {},
     "output_type": "execute_result"
    }
   ],
   "source": [
    "df_loan['remaining_days'] = 3 * 365 - df_loan['days_since_origination']\n",
    "df_loan['days_from_charged_off'] = df_loan['days_since_origination'] - df_loan['days_from_origination_to_chargeoff']\n",
    "df_loan['days_from_charged_off'].fillna(0, inplace=True)\n",
    "df_loan.head()"
   ]
  },
  {
   "cell_type": "markdown",
   "metadata": {},
   "source": [
    "If the loan didn't get charged off when data was collected, then assing 0 in charged_off_interval column.\n",
    "If the loan gets charged off in their first 100 days, then assign 1 in charged_off_interval column.\n",
    "If the loan gets charged off in their first 101 days to 200 days, then assign 2 in charged_off_interval column.\n",
    "Apply the same step for all time interval."
   ]
  },
  {
   "cell_type": "code",
   "execution_count": 9,
   "metadata": {},
   "outputs": [
    {
     "data": {
      "text/html": [
       "<div>\n",
       "<style scoped>\n",
       "    .dataframe tbody tr th:only-of-type {\n",
       "        vertical-align: middle;\n",
       "    }\n",
       "\n",
       "    .dataframe tbody tr th {\n",
       "        vertical-align: top;\n",
       "    }\n",
       "\n",
       "    .dataframe thead th {\n",
       "        text-align: right;\n",
       "    }\n",
       "</style>\n",
       "<table border=\"1\" class=\"dataframe\">\n",
       "  <thead>\n",
       "    <tr style=\"text-align: right;\">\n",
       "      <th></th>\n",
       "      <th>days_since_origination</th>\n",
       "      <th>days_from_origination_to_chargeoff</th>\n",
       "      <th>remaining_days</th>\n",
       "      <th>days_from_charged_off</th>\n",
       "      <th>charged_off_interval</th>\n",
       "    </tr>\n",
       "  </thead>\n",
       "  <tbody>\n",
       "    <tr>\n",
       "      <th>0</th>\n",
       "      <td>109</td>\n",
       "      <td>NaN</td>\n",
       "      <td>986</td>\n",
       "      <td>0.0</td>\n",
       "      <td>0.0</td>\n",
       "    </tr>\n",
       "    <tr>\n",
       "      <th>1</th>\n",
       "      <td>679</td>\n",
       "      <td>NaN</td>\n",
       "      <td>416</td>\n",
       "      <td>0.0</td>\n",
       "      <td>0.0</td>\n",
       "    </tr>\n",
       "    <tr>\n",
       "      <th>2</th>\n",
       "      <td>723</td>\n",
       "      <td>NaN</td>\n",
       "      <td>372</td>\n",
       "      <td>0.0</td>\n",
       "      <td>0.0</td>\n",
       "    </tr>\n",
       "    <tr>\n",
       "      <th>3</th>\n",
       "      <td>509</td>\n",
       "      <td>NaN</td>\n",
       "      <td>586</td>\n",
       "      <td>0.0</td>\n",
       "      <td>0.0</td>\n",
       "    </tr>\n",
       "    <tr>\n",
       "      <th>4</th>\n",
       "      <td>254</td>\n",
       "      <td>NaN</td>\n",
       "      <td>841</td>\n",
       "      <td>0.0</td>\n",
       "      <td>0.0</td>\n",
       "    </tr>\n",
       "  </tbody>\n",
       "</table>\n",
       "</div>"
      ],
      "text/plain": [
       "   days_since_origination  days_from_origination_to_chargeoff  remaining_days  \\\n",
       "0                     109                                 NaN             986   \n",
       "1                     679                                 NaN             416   \n",
       "2                     723                                 NaN             372   \n",
       "3                     509                                 NaN             586   \n",
       "4                     254                                 NaN             841   \n",
       "\n",
       "   days_from_charged_off  charged_off_interval  \n",
       "0                    0.0                   0.0  \n",
       "1                    0.0                   0.0  \n",
       "2                    0.0                   0.0  \n",
       "3                    0.0                   0.0  \n",
       "4                    0.0                   0.0  "
      ]
     },
     "execution_count": 9,
     "metadata": {},
     "output_type": "execute_result"
    }
   ],
   "source": [
    "def interval(days):\n",
    "    if days <= 100:\n",
    "        return 1\n",
    "    elif days <= 200:\n",
    "        return 2\n",
    "    elif days <= 300:\n",
    "        return 3\n",
    "    elif days <= 400:\n",
    "        return 4\n",
    "    elif days <= 500:\n",
    "        return 5\n",
    "    elif days <= 600:\n",
    "        return 6\n",
    "    elif days <= 700:\n",
    "        return 7\n",
    "    elif days <= 800:\n",
    "        return 8\n",
    "\n",
    "df_loan['charged_off_interval'] = df_loan['days_from_origination_to_chargeoff'].apply(interval)\n",
    "df_loan['charged_off_interval'].fillna(0, inplace=True)\n",
    "df_loan.head()"
   ]
  },
  {
   "cell_type": "code",
   "execution_count": 10,
   "metadata": {},
   "outputs": [
    {
     "data": {
      "text/plain": [
       "0.0    46695\n",
       "1.0     1053\n",
       "2.0      758\n",
       "3.0      548\n",
       "4.0      432\n",
       "5.0      280\n",
       "6.0      162\n",
       "7.0       69\n",
       "8.0        3\n",
       "Name: charged_off_interval, dtype: int64"
      ]
     },
     "execution_count": 10,
     "metadata": {},
     "output_type": "execute_result"
    }
   ],
   "source": [
    "df_loan['charged_off_interval'].value_counts()"
   ]
  },
  {
   "cell_type": "markdown",
   "metadata": {},
   "source": [
    "This table is the number of loans having charged-off in each 100 days interval. For example, there are 1053 loans get charged off in their first 100 days. For those loans which don't have charged off in their first 100 days, there are 758 loans get charged off in their second 100 days. So we can calculate the probability of geting charged off in each 100 days interval."
   ]
  },
  {
   "cell_type": "code",
   "execution_count": 11,
   "metadata": {},
   "outputs": [
    {
     "name": "stdout",
     "output_type": "stream",
     "text": [
      "[1053  758  548  432  280  162   69    3]\n"
     ]
    }
   ],
   "source": [
    "import numpy as np\n",
    "\n",
    "# Number of loans get charged off in each 100 days interval\n",
    "np_num = np.array([df_loan['charged_off_interval'].value_counts()[i] for i in range(1, 9)])\n",
    "print(np_num)"
   ]
  },
  {
   "cell_type": "markdown",
   "metadata": {},
   "source": [
    "Please read the following commented parts."
   ]
  },
  {
   "cell_type": "code",
   "execution_count": 12,
   "metadata": {
    "scrolled": true
   },
   "outputs": [],
   "source": [
    "# This selects loans get charged off in their second 100 days interval\n",
    "#df_loan[(df_loan['days_since_origination'] >= 101) &\n",
    "#        (df_loan['charged_off_interval'] == 2)]\n",
    "\n",
    "# This selects loans more than 100 days\n",
    "#df_loan[(df_loan['days_since_origination'] >= 101)]\n",
    "\n",
    "# This selects loans more than 100 days but they get charged off between 0 to 100 days.\n",
    "#df_loan[(df_loan['days_since_origination'] >= 101) & \n",
    "#        (df_loan['charged_off_interval'] == 1)]\n",
    "\n",
    "# This selects loans more than 100 days but they didn't get charged off in their first 100 days.\n",
    "#df_loan[(df_loan['days_since_origination'] >= 101) & \n",
    "#        ((df_loan['charged_off_interval'] == 0) |\n",
    "#         (df_loan['charged_off_interval'] > 1))]\n",
    "\n",
    "# So we can generalize the selection:\n",
    "# To select loans more than N*100 days but they didn't get charged off in their first N*100 days are:\n",
    "#df_loan[(df_loan['days_since_origination'] >= N* 100 + 1) & \n",
    "#        ((df_loan['charged_off_interval'] == 0) |\n",
    "#         (df_loan['charged_off_interval'] > N))]"
   ]
  },
  {
   "cell_type": "code",
   "execution_count": 13,
   "metadata": {},
   "outputs": [
    {
     "name": "stdout",
     "output_type": "stream",
     "text": [
      "[50000 42133 34851 27793 20947 14325  8002  1842]\n"
     ]
    }
   ],
   "source": [
    "num_loans = [50000]\n",
    "for n in range(1, 8):\n",
    "    num_loans.append(  df_loan[(df_loan['days_since_origination'] >= n * 100 + 1) &\n",
    "                               ((df_loan['charged_off_interval'] == 0) |\n",
    "                                (df_loan['charged_off_interval'] > n))].shape[0]  )               \n",
    "                         \n",
    "#print(num_loans)\n",
    "np_den = np.array(num_loans)\n",
    "print(np_den)"
   ]
  },
  {
   "cell_type": "markdown",
   "metadata": {},
   "source": [
    "The probability of getting charged off can be obtained:"
   ]
  },
  {
   "cell_type": "code",
   "execution_count": 14,
   "metadata": {},
   "outputs": [
    {
     "name": "stdout",
     "output_type": "stream",
     "text": [
      "[2.106      1.79906487 1.57240825 1.55434822 1.33670693 1.13089005\n",
      " 0.86228443 0.16286645]\n"
     ]
    }
   ],
   "source": [
    "np_prob = np_num / np_den * 100\n",
    "print(np_prob)"
   ]
  },
  {
   "cell_type": "markdown",
   "metadata": {},
   "source": [
    "This means there are 2.106% of loans get charged off in 0 to 100 days, 1.799% of loans get charged off in 101 to 200 days, and only 0.163% of loans which didn't get charged off in 0 to 700 days will get charged off in their 700 to 800 days."
   ]
  },
  {
   "cell_type": "markdown",
   "metadata": {},
   "source": [
    "Let's check the probability distribution."
   ]
  },
  {
   "cell_type": "code",
   "execution_count": 15,
   "metadata": {},
   "outputs": [
    {
     "data": {
      "image/png": "[encoded data removed]",
      "text/plain": [
       "<Figure size 432x288 with 1 Axes>"
      ]
     },
     "metadata": {},
     "output_type": "display_data"
    }
   ],
   "source": [
    "day_ranges = [[0, 100], [101, 200], [201, 300], [301, 400], [401, 500], [501, 600], [601, 700], [701, 800]]\n",
    "x = [float(i + j) / 2  for i, j in day_ranges]\n",
    "#print(x)\n",
    "\n",
    "plt.plot(x, np_prob, linestyle='none', marker='o')\n",
    "plt.xlabel('Days')\n",
    "plt.ylabel('Probability (%)')\n",
    "plt.title('Probability of getting charged off')\n",
    "plt.show()"
   ]
  },
  {
   "cell_type": "markdown",
   "metadata": {},
   "source": [
    "Now we can use a linear function to fit the probabilities and extroploate the probability in (801, 900), (901, 1000), and (1001, 1100) days."
   ]
  },
  {
   "cell_type": "code",
   "execution_count": 16,
   "metadata": {},
   "outputs": [
    {
     "name": "stdout",
     "output_type": "stream",
     "text": [
      "The fitted function is y = -0.002359 x + 2.260385\n"
     ]
    }
   ],
   "source": [
    "z = np.polyfit(x, np_prob, 1)\n",
    "#print(z)\n",
    "print('The fitted function is y = %f x + %f' % (z[0], z[1]))"
   ]
  },
  {
   "cell_type": "code",
   "execution_count": 17,
   "metadata": {},
   "outputs": [
    {
     "data": {
      "image/png": "[encoded data removed]",
      "text/plain": [
       "<Figure size 432x288 with 1 Axes>"
      ]
     },
     "metadata": {},
     "output_type": "display_data"
    }
   ],
   "source": [
    "y = [z[0] * i + z[1] for i in x]\n",
    "\n",
    "plt.plot(x, np_prob, linestyle='none', marker='o', label='Data')\n",
    "plt.plot(x, y, label='Fitted')\n",
    "plt.xlabel('Days')\n",
    "plt.ylabel('Probability (%)')\n",
    "plt.title('Probability of getting charged off')\n",
    "plt.legend()\n",
    "plt.show()"
   ]
  },
  {
   "cell_type": "markdown",
   "metadata": {},
   "source": [
    "Let's extropolate the probabilities"
   ]
  },
  {
   "cell_type": "code",
   "execution_count": 18,
   "metadata": {},
   "outputs": [
    {
     "name": "stdout",
     "output_type": "stream",
     "text": [
      "0.2536695376254561 0.01772417191976894 -0.21822119378591864\n"
     ]
    }
   ],
   "source": [
    "prob_801_900_days = z[0] * ((801. + 900.) / 2) + z[1]\n",
    "prob_901_1000_days = z[0] * ((901. + 1000.) / 2) + z[1]\n",
    "prob_1001_1100_days = z[0] * ((1001. + 1100.) / 2) + z[1]\n",
    "print(prob_801_900_days, prob_901_1000_days, prob_1001_1100_days)"
   ]
  },
  {
   "cell_type": "markdown",
   "metadata": {},
   "source": [
    "We notice the probability for 1001 to 1100 days is negative. We know that if loans don't get charged off in their first thousand days, this means the financial condition of borrowers are good. Hence, there is very low possibility to get charged off in the rest 95 days (3 years is 1095 days) for these loans. So we can set the probability of getting charged off in 1001 to 1100 interval to zero. And the probabilities of getting charged for all intervals become:"
   ]
  },
  {
   "cell_type": "code",
   "execution_count": 19,
   "metadata": {},
   "outputs": [
    {
     "name": "stdout",
     "output_type": "stream",
     "text": [
      "[2.106      1.79906487 1.57240825 1.55434822 1.33670693 1.13089005\n",
      " 0.86228443 0.16286645 0.25366954 0.01772417 0.        ]\n"
     ]
    }
   ],
   "source": [
    "new_prob = np.append(np_prob, [prob_801_900_days, prob_901_1000_days, 0.])\n",
    "print(new_prob)"
   ]
  },
  {
   "cell_type": "markdown",
   "metadata": {},
   "source": [
    "Now select the loans without charged-off"
   ]
  },
  {
   "cell_type": "code",
   "execution_count": 20,
   "metadata": {
    "scrolled": true
   },
   "outputs": [
    {
     "name": "stdout",
     "output_type": "stream",
     "text": [
      "<class 'pandas.core.frame.DataFrame'>\n",
      "Int64Index: 46695 entries, 0 to 49999\n",
      "Data columns (total 5 columns):\n",
      "days_since_origination                46695 non-null int64\n",
      "days_from_origination_to_chargeoff    0 non-null float64\n",
      "remaining_days                        46695 non-null int64\n",
      "days_from_charged_off                 46695 non-null float64\n",
      "charged_off_interval                  46695 non-null float64\n",
      "dtypes: float64(3), int64(2)\n",
      "memory usage: 2.1 MB\n"
     ]
    }
   ],
   "source": [
    "no_charged_off = df_loan['days_from_origination_to_chargeoff'].isnull()\n",
    "df_no_charged_off = df_loan[no_charged_off]\n",
    "df_no_charged_off.info()"
   ]
  },
  {
   "cell_type": "code",
   "execution_count": 21,
   "metadata": {},
   "outputs": [
    {
     "data": {
      "text/html": [
       "<div>\n",
       "<style scoped>\n",
       "    .dataframe tbody tr th:only-of-type {\n",
       "        vertical-align: middle;\n",
       "    }\n",
       "\n",
       "    .dataframe tbody tr th {\n",
       "        vertical-align: top;\n",
       "    }\n",
       "\n",
       "    .dataframe thead th {\n",
       "        text-align: right;\n",
       "    }\n",
       "</style>\n",
       "<table border=\"1\" class=\"dataframe\">\n",
       "  <thead>\n",
       "    <tr style=\"text-align: right;\">\n",
       "      <th></th>\n",
       "      <th>days_since_origination</th>\n",
       "      <th>days_from_origination_to_chargeoff</th>\n",
       "      <th>remaining_days</th>\n",
       "      <th>days_from_charged_off</th>\n",
       "      <th>charged_off_interval</th>\n",
       "    </tr>\n",
       "  </thead>\n",
       "  <tbody>\n",
       "    <tr>\n",
       "      <th>0</th>\n",
       "      <td>109</td>\n",
       "      <td>NaN</td>\n",
       "      <td>986</td>\n",
       "      <td>0.0</td>\n",
       "      <td>0.0</td>\n",
       "    </tr>\n",
       "    <tr>\n",
       "      <th>1</th>\n",
       "      <td>679</td>\n",
       "      <td>NaN</td>\n",
       "      <td>416</td>\n",
       "      <td>0.0</td>\n",
       "      <td>0.0</td>\n",
       "    </tr>\n",
       "    <tr>\n",
       "      <th>2</th>\n",
       "      <td>723</td>\n",
       "      <td>NaN</td>\n",
       "      <td>372</td>\n",
       "      <td>0.0</td>\n",
       "      <td>0.0</td>\n",
       "    </tr>\n",
       "    <tr>\n",
       "      <th>3</th>\n",
       "      <td>509</td>\n",
       "      <td>NaN</td>\n",
       "      <td>586</td>\n",
       "      <td>0.0</td>\n",
       "      <td>0.0</td>\n",
       "    </tr>\n",
       "    <tr>\n",
       "      <th>4</th>\n",
       "      <td>254</td>\n",
       "      <td>NaN</td>\n",
       "      <td>841</td>\n",
       "      <td>0.0</td>\n",
       "      <td>0.0</td>\n",
       "    </tr>\n",
       "  </tbody>\n",
       "</table>\n",
       "</div>"
      ],
      "text/plain": [
       "   days_since_origination  days_from_origination_to_chargeoff  remaining_days  \\\n",
       "0                     109                                 NaN             986   \n",
       "1                     679                                 NaN             416   \n",
       "2                     723                                 NaN             372   \n",
       "3                     509                                 NaN             586   \n",
       "4                     254                                 NaN             841   \n",
       "\n",
       "   days_from_charged_off  charged_off_interval  \n",
       "0                    0.0                   0.0  \n",
       "1                    0.0                   0.0  \n",
       "2                    0.0                   0.0  \n",
       "3                    0.0                   0.0  \n",
       "4                    0.0                   0.0  "
      ]
     },
     "execution_count": 21,
     "metadata": {},
     "output_type": "execute_result"
    }
   ],
   "source": [
    "df_no_charged_off.head()"
   ]
  },
  {
   "cell_type": "markdown",
   "metadata": {},
   "source": [
    "Create a new column days_interval. If 0 <= days_since_origination <= 100, then assign 1 to days_interval. If the 101 <= days_since_origination <= 200, then assign 2 to days_intervel. Apply this step to all loans without charge-off."
   ]
  },
  {
   "cell_type": "code",
   "execution_count": 22,
   "metadata": {},
   "outputs": [
    {
     "name": "stderr",
     "output_type": "stream",
     "text": [
      "/usr/local/anaconda3/lib/python3.6/site-packages/ipykernel_launcher.py:1: SettingWithCopyWarning: \n",
      "A value is trying to be set on a copy of a slice from a DataFrame.\n",
      "Try using .loc[row_indexer,col_indexer] = value instead\n",
      "\n",
      "See the caveats in the documentation: http://pandas.pydata.org/pandas-docs/stable/indexing.html#indexing-view-versus-copy\n",
      "  \"\"\"Entry point for launching an IPython kernel.\n"
     ]
    },
    {
     "data": {
      "text/html": [
       "<div>\n",
       "<style scoped>\n",
       "    .dataframe tbody tr th:only-of-type {\n",
       "        vertical-align: middle;\n",
       "    }\n",
       "\n",
       "    .dataframe tbody tr th {\n",
       "        vertical-align: top;\n",
       "    }\n",
       "\n",
       "    .dataframe thead th {\n",
       "        text-align: right;\n",
       "    }\n",
       "</style>\n",
       "<table border=\"1\" class=\"dataframe\">\n",
       "  <thead>\n",
       "    <tr style=\"text-align: right;\">\n",
       "      <th></th>\n",
       "      <th>days_since_origination</th>\n",
       "      <th>days_from_origination_to_chargeoff</th>\n",
       "      <th>remaining_days</th>\n",
       "      <th>days_from_charged_off</th>\n",
       "      <th>charged_off_interval</th>\n",
       "      <th>days_interval</th>\n",
       "    </tr>\n",
       "  </thead>\n",
       "  <tbody>\n",
       "    <tr>\n",
       "      <th>0</th>\n",
       "      <td>109</td>\n",
       "      <td>NaN</td>\n",
       "      <td>986</td>\n",
       "      <td>0.0</td>\n",
       "      <td>0.0</td>\n",
       "      <td>2</td>\n",
       "    </tr>\n",
       "    <tr>\n",
       "      <th>1</th>\n",
       "      <td>679</td>\n",
       "      <td>NaN</td>\n",
       "      <td>416</td>\n",
       "      <td>0.0</td>\n",
       "      <td>0.0</td>\n",
       "      <td>7</td>\n",
       "    </tr>\n",
       "    <tr>\n",
       "      <th>2</th>\n",
       "      <td>723</td>\n",
       "      <td>NaN</td>\n",
       "      <td>372</td>\n",
       "      <td>0.0</td>\n",
       "      <td>0.0</td>\n",
       "      <td>8</td>\n",
       "    </tr>\n",
       "    <tr>\n",
       "      <th>3</th>\n",
       "      <td>509</td>\n",
       "      <td>NaN</td>\n",
       "      <td>586</td>\n",
       "      <td>0.0</td>\n",
       "      <td>0.0</td>\n",
       "      <td>6</td>\n",
       "    </tr>\n",
       "    <tr>\n",
       "      <th>4</th>\n",
       "      <td>254</td>\n",
       "      <td>NaN</td>\n",
       "      <td>841</td>\n",
       "      <td>0.0</td>\n",
       "      <td>0.0</td>\n",
       "      <td>3</td>\n",
       "    </tr>\n",
       "  </tbody>\n",
       "</table>\n",
       "</div>"
      ],
      "text/plain": [
       "   days_since_origination  days_from_origination_to_chargeoff  remaining_days  \\\n",
       "0                     109                                 NaN             986   \n",
       "1                     679                                 NaN             416   \n",
       "2                     723                                 NaN             372   \n",
       "3                     509                                 NaN             586   \n",
       "4                     254                                 NaN             841   \n",
       "\n",
       "   days_from_charged_off  charged_off_interval  days_interval  \n",
       "0                    0.0                   0.0              2  \n",
       "1                    0.0                   0.0              7  \n",
       "2                    0.0                   0.0              8  \n",
       "3                    0.0                   0.0              6  \n",
       "4                    0.0                   0.0              3  "
      ]
     },
     "execution_count": 22,
     "metadata": {},
     "output_type": "execute_result"
    }
   ],
   "source": [
    "df_no_charged_off['days_interval'] = df_no_charged_off['days_since_origination'].apply(interval)\n",
    "df_no_charged_off.head()"
   ]
  },
  {
   "cell_type": "markdown",
   "metadata": {},
   "source": [
    "Group by days_interval, so we can know how many loans in each interval. For example, there are 6814 loans in interval 1 (0 to 100 days) and 6524 loans in interval 2 (201 to 300 days)."
   ]
  },
  {
   "cell_type": "code",
   "execution_count": 23,
   "metadata": {},
   "outputs": [
    {
     "data": {
      "text/html": [
       "<div>\n",
       "<style scoped>\n",
       "    .dataframe tbody tr th:only-of-type {\n",
       "        vertical-align: middle;\n",
       "    }\n",
       "\n",
       "    .dataframe tbody tr th {\n",
       "        vertical-align: top;\n",
       "    }\n",
       "\n",
       "    .dataframe thead th {\n",
       "        text-align: right;\n",
       "    }\n",
       "</style>\n",
       "<table border=\"1\" class=\"dataframe\">\n",
       "  <thead>\n",
       "    <tr style=\"text-align: right;\">\n",
       "      <th></th>\n",
       "      <th>days_interval</th>\n",
       "      <th>count</th>\n",
       "    </tr>\n",
       "  </thead>\n",
       "  <tbody>\n",
       "    <tr>\n",
       "      <th>0</th>\n",
       "      <td>1</td>\n",
       "      <td>6814</td>\n",
       "    </tr>\n",
       "    <tr>\n",
       "      <th>1</th>\n",
       "      <td>2</td>\n",
       "      <td>6524</td>\n",
       "    </tr>\n",
       "    <tr>\n",
       "      <th>2</th>\n",
       "      <td>3</td>\n",
       "      <td>6510</td>\n",
       "    </tr>\n",
       "    <tr>\n",
       "      <th>3</th>\n",
       "      <td>4</td>\n",
       "      <td>6414</td>\n",
       "    </tr>\n",
       "    <tr>\n",
       "      <th>4</th>\n",
       "      <td>5</td>\n",
       "      <td>6342</td>\n",
       "    </tr>\n",
       "    <tr>\n",
       "      <th>5</th>\n",
       "      <td>6</td>\n",
       "      <td>6161</td>\n",
       "    </tr>\n",
       "    <tr>\n",
       "      <th>6</th>\n",
       "      <td>7</td>\n",
       "      <td>6091</td>\n",
       "    </tr>\n",
       "    <tr>\n",
       "      <th>7</th>\n",
       "      <td>8</td>\n",
       "      <td>1839</td>\n",
       "    </tr>\n",
       "  </tbody>\n",
       "</table>\n",
       "</div>"
      ],
      "text/plain": [
       "   days_interval  count\n",
       "0              1   6814\n",
       "1              2   6524\n",
       "2              3   6510\n",
       "3              4   6414\n",
       "4              5   6342\n",
       "5              6   6161\n",
       "6              7   6091\n",
       "7              8   1839"
      ]
     },
     "execution_count": 23,
     "metadata": {},
     "output_type": "execute_result"
    }
   ],
   "source": [
    "df_grouped = df_no_charged_off.groupby('days_interval').days_since_origination.count().reset_index()\n",
    "df_grouped.rename(columns={'days_since_origination':'count'}, inplace=True)\n",
    "df_grouped"
   ]
  },
  {
   "cell_type": "markdown",
   "metadata": {},
   "source": [
    "We have the probability of getting charged-off np_prob for each interval. The number of loans in 0 to 100 days won't get charged off after finishing their 3-year terms are 6814 * (1 - np_prob[0]/100) * (100 - np_prob[1]/100) * ... * (1 - np_prob[10]/100). We can generalize the formula: $N_{loans} \\times \\Pi_{i=days\\_interval - 1}^{10} (1 - np\\_prob[i]/100)$. Because the unit in np_prob[i] is percentage, we have to divide 100."
   ]
  },
  {
   "cell_type": "code",
   "execution_count": 24,
   "metadata": {},
   "outputs": [
    {
     "data": {
      "text/html": [
       "<div>\n",
       "<style scoped>\n",
       "    .dataframe tbody tr th:only-of-type {\n",
       "        vertical-align: middle;\n",
       "    }\n",
       "\n",
       "    .dataframe tbody tr th {\n",
       "        vertical-align: top;\n",
       "    }\n",
       "\n",
       "    .dataframe thead th {\n",
       "        text-align: right;\n",
       "    }\n",
       "</style>\n",
       "<table border=\"1\" class=\"dataframe\">\n",
       "  <thead>\n",
       "    <tr style=\"text-align: right;\">\n",
       "      <th></th>\n",
       "      <th>days_interval</th>\n",
       "      <th>count</th>\n",
       "      <th>Probability_no_charge_off</th>\n",
       "      <th>No_charge_off</th>\n",
       "      <th>With_charge_off</th>\n",
       "    </tr>\n",
       "  </thead>\n",
       "  <tbody>\n",
       "    <tr>\n",
       "      <th>0</th>\n",
       "      <td>1</td>\n",
       "      <td>6814</td>\n",
       "      <td>0.896917</td>\n",
       "      <td>6111.592826</td>\n",
       "      <td>702.407174</td>\n",
       "    </tr>\n",
       "    <tr>\n",
       "      <th>1</th>\n",
       "      <td>2</td>\n",
       "      <td>6524</td>\n",
       "      <td>0.916212</td>\n",
       "      <td>5977.370298</td>\n",
       "      <td>546.629702</td>\n",
       "    </tr>\n",
       "    <tr>\n",
       "      <th>2</th>\n",
       "      <td>3</td>\n",
       "      <td>6510</td>\n",
       "      <td>0.932998</td>\n",
       "      <td>6073.815199</td>\n",
       "      <td>436.184801</td>\n",
       "    </tr>\n",
       "    <tr>\n",
       "      <th>3</th>\n",
       "      <td>4</td>\n",
       "      <td>6414</td>\n",
       "      <td>0.947903</td>\n",
       "      <td>6079.847440</td>\n",
       "      <td>334.152560</td>\n",
       "    </tr>\n",
       "    <tr>\n",
       "      <th>4</th>\n",
       "      <td>5</td>\n",
       "      <td>6342</td>\n",
       "      <td>0.962869</td>\n",
       "      <td>6106.514957</td>\n",
       "      <td>235.485043</td>\n",
       "    </tr>\n",
       "    <tr>\n",
       "      <th>5</th>\n",
       "      <td>6</td>\n",
       "      <td>6161</td>\n",
       "      <td>0.975914</td>\n",
       "      <td>6012.606604</td>\n",
       "      <td>148.393396</td>\n",
       "    </tr>\n",
       "    <tr>\n",
       "      <th>6</th>\n",
       "      <td>7</td>\n",
       "      <td>6091</td>\n",
       "      <td>0.987077</td>\n",
       "      <td>6012.284951</td>\n",
       "      <td>78.715049</td>\n",
       "    </tr>\n",
       "    <tr>\n",
       "      <th>7</th>\n",
       "      <td>8</td>\n",
       "      <td>1839</td>\n",
       "      <td>0.995662</td>\n",
       "      <td>1831.022910</td>\n",
       "      <td>7.977090</td>\n",
       "    </tr>\n",
       "  </tbody>\n",
       "</table>\n",
       "</div>"
      ],
      "text/plain": [
       "   days_interval  count  Probability_no_charge_off  No_charge_off  \\\n",
       "0              1   6814                   0.896917    6111.592826   \n",
       "1              2   6524                   0.916212    5977.370298   \n",
       "2              3   6510                   0.932998    6073.815199   \n",
       "3              4   6414                   0.947903    6079.847440   \n",
       "4              5   6342                   0.962869    6106.514957   \n",
       "5              6   6161                   0.975914    6012.606604   \n",
       "6              7   6091                   0.987077    6012.284951   \n",
       "7              8   1839                   0.995662    1831.022910   \n",
       "\n",
       "   With_charge_off  \n",
       "0       702.407174  \n",
       "1       546.629702  \n",
       "2       436.184801  \n",
       "3       334.152560  \n",
       "4       235.485043  \n",
       "5       148.393396  \n",
       "6        78.715049  \n",
       "7         7.977090  "
      ]
     },
     "execution_count": 24,
     "metadata": {},
     "output_type": "execute_result"
    }
   ],
   "source": [
    "def prob(i):\n",
    "    #print(len(new_prob))\n",
    "    probability = 1\n",
    "    while i - 1 < len(new_prob):\n",
    "        probability *= (1 - new_prob[i - 1]/100)\n",
    "        i += 1\n",
    "    return probability\n",
    "\n",
    "df_grouped['Probability_no_charge_off'] = df_grouped['days_interval'].apply(prob)\n",
    "df_grouped['No_charge_off'] = df_grouped['count'] * df_grouped['Probability_no_charge_off']\n",
    "df_grouped['With_charge_off'] = df_grouped['count'] * (1 - df_grouped['Probability_no_charge_off'])\n",
    "df_grouped"
   ]
  },
  {
   "cell_type": "markdown",
   "metadata": {},
   "source": [
    "Now let sum over all loans in With_charge_off column and get round off result."
   ]
  },
  {
   "cell_type": "code",
   "execution_count": 25,
   "metadata": {},
   "outputs": [
    {
     "name": "stdout",
     "output_type": "stream",
     "text": [
      "2490.0\n"
     ]
    }
   ],
   "source": [
    "sum = df_grouped['With_charge_off'].sum()\n",
    "print(round(sum))"
   ]
  },
  {
   "cell_type": "markdown",
   "metadata": {},
   "source": [
    "Because we have 50000 loans and there are 3305 loans having charged off, the fraction of loans will have charged off after their 3-year terms finished are (2490+3305)/50000"
   ]
  },
  {
   "cell_type": "code",
   "execution_count": 26,
   "metadata": {},
   "outputs": [
    {
     "name": "stdout",
     "output_type": "stream",
     "text": [
      "3305 50000\n",
      "The fraction of loans will have charged off by the time all of their 3-year terms are finished is 11.59%\n"
     ]
    }
   ],
   "source": [
    "print(num, den)\n",
    "fraction = float(round(sum) + num) / den * 100\n",
    "print('The fraction of loans will have charged off by the time all of their 3-year terms are finished is %.2f%%' % fraction)"
   ]
  },
  {
   "cell_type": "markdown",
   "metadata": {},
   "source": [
    "# ANS: Fraction = 11.59%"
   ]
  }
 ],
 "metadata": {
  "kernelspec": {
   "display_name": "Python 3",
   "language": "python",
   "name": "python3"
  },
  "language_info": {
   "codemirror_mode": {
    "name": "ipython",
    "version": 3
   },
   "file_extension": ".py",
   "mimetype": "text/x-python",
   "name": "python",
   "nbconvert_exporter": "python",
   "pygments_lexer": "ipython3",
   "version": "3.7.0"
  }
 },
 "nbformat": 4,
 "nbformat_minor": 2
}
